{
 "cells": [
  {
   "cell_type": "code",
   "execution_count": 99,
   "metadata": {
    "collapsed": false,
    "show_input": true
   },
   "outputs": [],
   "source": [
    "import json\n",
    "import os\n",
    "import pdb\n",
    "\n",
    "import inro.emme.datatable as _dt\n",
    "import inro.emme.desktop.worksheet as _ws\n",
    "import inro.emme.network as _nw\n",
    "import pandas as _pd\n",
    "\n",
    "mm = inro.modeller.Modeller()\n",
    "desktop = mm.desktop"
   ]
  },
  {
   "cell_type": "code",
   "execution_count": 100,
   "metadata": {
    "collapsed": true,
    "show_input": true
   },
   "outputs": [],
   "source": [
    "# modeller tools used\n",
    "create_attribute = mm.tool('inro.emme.data.extra_attribute.create_extra_attribute')"
   ]
  },
  {
   "cell_type": "code",
   "execution_count": 101,
   "metadata": {
    "collapsed": true,
    "show_input": true
   },
   "outputs": [],
   "source": [
    "# names of attributes used (existing and to be created)\n",
    "\n",
    "x_alight = '@alight_per_door'\n",
    "x_board = '@board_per_door'\n",
    "y_dwt = '@dwtout'\n",
    "f_crowd = '@crowding_factor'\n",
    "\n",
    "dwt_in = '@dwtin'"
   ]
  },
  {
   "cell_type": "code",
   "execution_count": 102,
   "metadata": {
    "collapsed": false,
    "show_input": true
   },
   "outputs": [],
   "source": [
    "# import average dwell times and \n",
    "project_path = os.path.dirname(desktop.project.path)\n",
    "df_line_taz = _pd.read_csv(os.path.join(project_path, 'Media','dwell_byLineTAZ.csv'))\n",
    "df_taz = _pd.read_csv(os.path.join(project_path, 'Media','dwell_byTAZ.csv'))"
   ]
  },
  {
   "cell_type": "code",
   "execution_count": 103,
   "metadata": {
    "collapsed": false,
    "scrolled": true,
    "show_input": true
   },
   "outputs": [
    {
     "data": {
      "text/plain": [
       "Attribute(TAZ_NO, REAL)"
      ]
     },
     "metadata": {},
     "output_type": "display_data"
    },
    {
     "data": {
      "text/plain": [
       "None"
      ]
     },
     "metadata": {},
     "output_type": "display_data"
    },
    {
     "data": {
      "text/plain": [
       "GeometryAttribute(geometry, POLYGON)"
      ]
     },
     "metadata": {},
     "output_type": "display_data"
    },
    {
     "data": {
      "text/plain": [
       "None"
      ]
     },
     "metadata": {},
     "output_type": "display_data"
    }
   ],
   "source": [
    "# create data tables of transit segment attributes and taz, join tables\n",
    "\n",
    "# TODO: convert this cell into external module\n",
    "\n",
    "project_path = os.path.dirname(desktop.project.path)\n",
    "project_table_db = desktop.project.data_tables()\n",
    "\n",
    "### TAZs\n",
    "# import TAZ shp\n",
    "\n",
    "taz_path = os.path.join(project_path, 'Scripts\\MX_Task20\\GGHMv4_TAZ_updated\\GGHMv4_TAZ_updated.shp').replace(\"\\\\\", \"/\")\n",
    "taz_ds = _dt.DataSource(taz_path)\n",
    "taz_data = taz_ds.layer('GGHMv4_TAZ_updated').get_data()\n",
    "\n",
    "# remove all attributes except TAZ_NO\n",
    "att_delete = []\n",
    "taz_att = taz_data.attributes()\n",
    "for att in taz_att:\n",
    "    if att.name != 'TAZ_NO' and att.atype != 'GEOMETRY':\n",
    "        att_delete.append(att.name)\n",
    "\n",
    "for att in att_delete:\n",
    "    taz_data.delete_attribute(att)\n",
    "\n",
    "# create table out of data\n",
    "project_table_db.create_table('TAZ_shp', taz_data, overwrite = True)\n",
    "\n",
    "\n",
    "### Transit Segment\n",
    "# create transit segment data table from network table\n",
    "\n",
    "root_worksheet_folder = desktop.root_worksheet_folder()\n",
    "tseg_table = root_worksheet_folder.find_item([\"General\", \"Network\", \"Transit\", 'Transit segments'])\n",
    "\n",
    "# remove unnecessary columns\n",
    "tseg = tseg_table.open()\n",
    "for i in range(8):\n",
    "    tseg.delete_column(1)\n",
    "\n",
    "# create new column for segment id\n",
    "id_col = _ws.Column()\n",
    "id_col.name = 'id'\n",
    "id_col.expression = 'id'\n",
    "tseg.add_column(0, id_col)\n",
    "\n",
    "tseg.par('Filter').set('')\n",
    "\n",
    "# save sheet\n",
    "tseg.par('Name').set('TransitSegments_noDwell')\n",
    "tseg.save_as_data_table('TransitSegments_noDwell', overwrite = True)\n",
    "tseg.close()\n",
    "\n",
    "# gets the TAZ and segment data tables, joins TAZ to segments spatially\n",
    "project_table_db = desktop.project.data_tables()\n",
    "taz_dt = project_table_db.table('TAZ_shp')\n",
    "dt_attributes(taz_dt)\n",
    "taz_df = to_pandas(taz_data)\n",
    "seg_dt = project_table_db.table('TransitSegments_noDwell')\n",
    "# seg_df = to_pandas(seg_dt.get_data())\n",
    "joint_dt = seg_dt.spatial_join(taz_dt,\n",
    "                    predicate = 'INTERSECT')"
   ]
  },
  {
   "cell_type": "code",
   "execution_count": 104,
   "metadata": {
    "collapsed": false,
    "show_input": true
   },
   "outputs": [],
   "source": [
    "# convert joined table to data frame\n",
    "\n",
    "# data table to pandas data frame\n",
    "def to_pandas(dat):\n",
    "    dfs = []\n",
    "    for a in dat.attributes():\n",
    "        if a.atype == 'GEOMETRY':\n",
    "            dfs.append( _pd.DataFrame( {a.name: [x.text for x in a.values]} ) )\n",
    "        else:\n",
    "            dfs.append( _pd.DataFrame( {a.name: a.values} ) )\n",
    "    df = dfs[0]\n",
    "    for x in dfs[1:]:\n",
    "        df = df.join(x)\n",
    "    return df\n",
    "\n",
    "df = to_pandas(joint_dt)\n",
    "df = df[['Line','id','TAZ_NO']] # filter to needed columns\n",
    "# df.set_index(['id'], inplace = True)"
   ]
  },
  {
   "cell_type": "code",
   "execution_count": 105,
   "metadata": {
    "collapsed": false
   },
   "outputs": [],
   "source": [
    "# seg_df = to_pandas(seg_dt)\n",
    "# taz_df = to_pandas(taz_dt)\n",
    "def dt_attributes(dt):\n",
    "    from IPython.display import display\n",
    "    for att in dt.attributes():\n",
    "        display(dt.attribute(att.name))\n",
    "        display(dt.attribute(att.name).values)\n",
    "    return\n"
   ]
  },
  {
   "cell_type": "code",
   "execution_count": 106,
   "metadata": {
    "collapsed": false,
    "show_input": true
   },
   "outputs": [],
   "source": [
    "# apply imported average dwell times and merge with segment data\n",
    "# pdb.set_trace()\n",
    "# join with imported average dwell times\n",
    "# a.reset_index().merge(b, how=\"left\").set_index('index')\n",
    "joint_df = df.merge(df_line_taz,\n",
    "                    how = 'left',\n",
    "                    left_on = ['Line','TAZ_NO'],\n",
    "                    right_on = ['Line','TAZ_NO']\n",
    "                    )\n",
    "# pdb.set_trace()\n",
    "joint_df.rename(columns = {'modelled_dwell':'dwell_lt'}, inplace = True)\n",
    "joint_df = joint_df.merge(df_taz,\n",
    "                    how = 'left',\n",
    "                    left_on = ['TAZ_NO'],\n",
    "                    right_on = ['TAZ_NO']\n",
    "                          )\n",
    "joint_df.rename(columns = {'modelled_dwell':'dwell_t'}, inplace = True)\n",
    "# joint_df.set_index('id')\n",
    "# pdb.set_trace()"
   ]
  },
  {
   "cell_type": "code",
   "execution_count": 107,
   "metadata": {
    "collapsed": true,
    "show_input": true
   },
   "outputs": [],
   "source": [
    "# create attribute for imported dwell times\n",
    "\n",
    "# function to create extra attributes for transit segments\n",
    "def create_att_segment( att, desc):\n",
    "    create_attribute(extra_attribute_type='TRANSIT_SEGMENT',\n",
    "                 extra_attribute_name=att,\n",
    "                 extra_attribute_description=desc,\n",
    "                 overwrite=True)\n",
    "    return\n",
    "\n",
    "# attributes to create and their descriptions\n",
    "new_atts = {dwt_in:'imported dwt'}\n",
    "\n",
    "#create the attributes\n",
    "for att in new_atts:\n",
    "    create_att_segment(att, new_atts[att])\n",
    "    \n",
    "# get network to apply dwell times\n",
    "\n",
    "scen = mm.emmebank.scenario(100)\n",
    "network = scen.get_network()\n",
    "# network.publishable = True\n"
   ]
  },
  {
   "cell_type": "code",
   "execution_count": 109,
   "metadata": {
    "collapsed": false,
    "show_input": true
   },
   "outputs": [],
   "source": [
    "# iterate through network elements and apply dwell times\n",
    "from time import time\n",
    "import numpy as _np\n",
    "joint_df_avg = joint_df.groupby('id').mean()\n",
    "\n",
    "t0 = time()\n",
    "for seg in network.transit_segments():\n",
    "    if seg.j_node != None:\n",
    "        seg_id = seg.id\n",
    "        seg_dwell_lt = joint_df_avg.loc[seg_id, 'dwell_lt']\n",
    "        seg_dwell_t = joint_df_avg.loc[seg_id, 'dwell_t']\n",
    "    #     seg_dwell_lt = 0\n",
    "    #     seg_dwell_t = 0\n",
    "        if not _np.isnan(seg_dwell_lt):\n",
    "#             display('lt')\n",
    "#             print(seg_id + ' has line and TAZ match')\n",
    "            seg['@dwtin'] = seg_dwell_lt\n",
    "        elif not _np.isnan(seg_dwell_t):\n",
    "#             display( 'Used TAZ dwt for ' + seg_id )\n",
    "#             print(seg_id + ' only has TAZ match')\n",
    "            seg['@dwtin'] = seg_dwell_t\n",
    "        else:\n",
    "#             print(seg_id + ' has no match. Dwell time set to 0.')\n",
    "            seg['@dwtin'] = 0\n",
    "#         print type(seg_dwell_lt)\n",
    "t1 = time()\n",
    "rt = (t1-t0)/60\n",
    "print 'Runtime: {}'.format(rt)"
   ]
  },
  {
   "cell_type": "code",
   "execution_count": 110,
   "metadata": {
    "collapsed": true,
    "show_input": true
   },
   "outputs": [],
   "source": [
    "with open('specs.json') as specs:\n",
    "    vehicle_grouping = json.load(specs)['vehicle_grouping']\n",
    "\n",
    "def get_veh_filter(vehicle_types):\n",
    "    veh_list = []\n",
    "    for veh in vehicle_types:\n",
    "        veh_list.append('vehicle = ' + str(veh))\n",
    "        veh_str = ' | '.join(veh_list)\n",
    "    return veh_str, veh_list\n",
    "\n",
    "total_veh_list = []\n",
    "for group in vehicle_grouping:\n",
    "    vehicle_types = vehicle_grouping[group]['vehicle types']\n",
    "    # expression string for vehicle types\n",
    "    veh_str, veh_list = get_veh_filter(vehicle_types)\n",
    "    total_veh_list.extend(veh_list)\n",
    "line_filter = ' | '.join(total_veh_list)\n",
    "    "
   ]
  },
  {
   "cell_type": "code",
   "execution_count": 111,
   "metadata": {
    "collapsed": false,
    "show_input": true
   },
   "outputs": [],
   "source": [
    "print line_filter"
   ]
  },
  {
   "cell_type": "code",
   "execution_count": 112,
   "metadata": {
    "collapsed": true,
    "show_input": true
   },
   "outputs": [],
   "source": [
    "scen.publish_network(network)"
   ]
  },
  {
   "cell_type": "code",
   "execution_count": 113,
   "metadata": {
    "collapsed": false,
    "show_input": true
   },
   "outputs": [],
   "source": [
    "# joint_df.to_csv(os.path.join(project_path, 'Media','applied_dwt.csv'))\n",
    "# df.to_csv(os.path.join(project_path, 'Media','seg_taz.csv'))\n",
    "seg_df = to_pandas(seg_dt.get_data())\n",
    "seg_df.to_csv(os.path.join(project_path, 'Media','seg_df.csv'))\n",
    "taz_df = to_pandas(taz_dt.get_data())\n",
    "taz_df.to_csv(os.path.join(project_path, 'Media','taz_df.csv'))"
   ]
  }
 ],
 "metadata": {
  "kernelspec": {
   "display_name": "Python 2",
   "language": "python",
   "name": "python2"
  },
  "language_info": {
   "codemirror_mode": {
    "name": "ipython",
    "version": 2
   },
   "file_extension": ".py",
   "mimetype": "text/x-python",
   "name": "python",
   "nbconvert_exporter": "python",
   "pygments_lexer": "ipython2",
   "version": "2.7.14"
  }
 },
 "nbformat": 4,
 "nbformat_minor": 0
}
