{
 "cells": [
  {
   "cell_type": "code",
   "execution_count": 1,
   "metadata": {
    "code_folding": [
     0
    ],
    "collapsed": true,
    "show_input": true
   },
   "outputs": [],
   "source": [
    "import inro.modeller as m\n",
    "import os\n",
    "import glob\n",
    "\n",
    "mm = m.Modeller()\n",
    "eb = m.Modeller().emmebank\n",
    "\n",
    "#tools\n",
    "NAMESPACE = \"tmg.input_output.import_binary_matrix\"\n",
    "import_matrices = mm.tool(NAMESPACE)           \n",
    "NAMESPACE = \"inro.emme.data.matrix.change_matrix_properties\"\n",
    "change_matrix = m.Modeller().tool(NAMESPACE)\n",
    "create_matrix =  m.Modeller().tool(\"inro.emme.data.matrix.create_matrix\")\n",
    "matrix_calculator = m.Modeller().tool(\"inro.emme.matrix_calculation.matrix_calculator\")\n",
    "NAMESPACE = \"inro.emme.data.matrix.export_matrix_to_csv\"\n",
    "export_matrices = m.Modeller().tool(NAMESPACE)\n",
    "\n",
    "#HDR Scripts\n",
    "common = mm.module('org.emme.common')\n",
    "moe = mm.module('org.emme.moe')\n",
    "sc_num = 114\n",
    "\n",
    "#directory = \"P:\\\\451010\\\\281829_GGH\\\\GGHM Runs\\\\2041\\\\GGHM Base Case\\\\\"\n",
    "#directory = \"P:\\\\451010\\\\281829_GGH\\\\GGHM Runs\\\\2016\\\\\"\n",
    "#directory = \"P:\\\\451010\\\\281829_GGH\\\\GGHM Runs\\\\2011 GGHM validation run\\\\\"\n",
    "#directory = \"P:\\\\451010\\\\281829_GGH\\\\GGHM Runs\\\\2041\\\\MTO_2041_GGH_MTP_302_V103_CS221_20180601\\\\\"\n",
    "directory = \"P:\\\\451010\\\\281829_GGH\\\\GGHM Runs\\\\2041\\\\MTP_304\\\\\"\n",
    "\n",
    "pop_o_matrix = \"mo1\"\n",
    "emp_o_matrix = \"mo2\"\n",
    "#senior_o_matrix = \"mo3\"\n",
    "#child_o_matrix = \"mo4\"\n",
    "#low_inc_o_matrix = \"mo5\"\n",
    "#youth_o_matrix = \"mo6\"\n",
    "pop_d_matrix = \"md1\"\n",
    "emp_d_matrix = \"md2\"\n"
   ]
  },
  {
   "cell_type": "code",
   "execution_count": 2,
   "metadata": {
    "code_folding": [
     5,
     13
    ],
    "collapsed": true,
    "show_input": true
   },
   "outputs": [],
   "source": [
    "#function definitons\n",
    "\n",
    "def non_zero_only (string):\n",
    "    return \"((\" + string + \")==0)+(\" + string + \")\"\n",
    "\n",
    "def new_matrix_name(m_id, name):\n",
    "    if not(eb.matrix(m_id)):\n",
    "        create_matrix(matrix_id = m_id,\n",
    "            matrix_name = name,\n",
    "            matrix_description = name)\n",
    "    else:\n",
    "        change_matrix(m_id, name, name)\n",
    "        \n",
    "def calc_avg_od (expression_string, denom_nums, result_num, result_name):\n",
    "\n",
    "    #final origin matrix\n",
    "    denom_string = \"\"\n",
    "    for matrix in denom_nums:\n",
    "        denom_string += \"mo\" + matrix + \"+\"\n",
    "    denom_string = denom_string[:-1]\n",
    "    o_matrix = \"mo\" + result_num\n",
    "    new_matrix_name(o_matrix, result_name)\n",
    "    \n",
    "    #temp origin matrix\n",
    "    temp_o_matrix = eb.available_matrix_identifier('ORIGIN')\n",
    "    new_matrix_name(temp_o_matrix, \"\")\n",
    "    spec = common.get_mc_spec(temp_o_matrix, expression_string, None, \"+\",None, None, None)\n",
    "    matrix_calculator(spec)\n",
    "    spec = common.get_mc_spec(o_matrix, temp_o_matrix + \"/(\" + denom_string + \")\", None, None,None, None, None)\n",
    "    matrix_calculator(spec)\n",
    "\n",
    "    #final destination matrix\n",
    "    denom_string = \"\"\n",
    "    for matrix in denom_nums:\n",
    "        denom_string += \"md\" + matrix + \"+\"\n",
    "    denom_string = denom_string[:-1]\n",
    "    d_matrix = \"md\" + result_num\n",
    "    new_matrix_name(d_matrix, result_name)\n",
    "    \n",
    "    #temp destination matrix\n",
    "    temp_d_matrix = eb.available_matrix_identifier('DESTINATION')\n",
    "    new_matrix_name(temp_d_matrix, \"\")\n",
    "    spec = common.get_mc_spec(temp_d_matrix, expression_string, \"+\", None,None, None, None)\n",
    "    matrix_calculator(spec)\n",
    "    \n",
    "    spec = common.get_mc_spec(d_matrix, temp_d_matrix + \"/(\" + denom_string + \")\", None, None,None, None, None)\n",
    "    matrix_calculator(spec)\n",
    "\n",
    "    eb.delete_matrix(temp_o_matrix)\n",
    "    eb.delete_matrix(temp_d_matrix)"
   ]
  },
  {
   "cell_type": "code",
   "execution_count": 3,
   "metadata": {
    "code_folding": [],
    "collapsed": false,
    "show_input": true
   },
   "outputs": [],
   "source": [
    "#delete all FULL matrices\n",
    "common.clear_matrices(eb)"
   ]
  },
  {
   "cell_type": "code",
   "execution_count": 4,
   "metadata": {
    "code_folding": [
     5,
     13
    ],
    "collapsed": true,
    "show_input": true
   },
   "outputs": [],
   "source": [
    "#matrix definitions\n",
    "sov_num = \"mf13\"\n",
    "hov2_num = \"mf14\"\n",
    "hov3_num = \"mf15\"\n",
    "tran_num = \"mf16\"\n",
    "bike_num = \"mf17\"\n",
    "walk_num = \"mf18\"\n",
    "truck_num = \"mf19\"\n",
    "sov_dist = \"mf1\"\n",
    "sov_time = \"mf2\"\n",
    "hov2_dist = \"mf3\"\n",
    "hov2_time = \"mf4\"\n",
    "hov3_dist = \"mf5\"\n",
    "hov3_time = \"mf6\"\n",
    "min_transit_time = \"mf20\"\n",
    "\n",
    "#averaged matrices \n",
    "avg_auto_time = \"mf7\"\n",
    "avg_auto_dist = \"mf8\"\n",
    "avg_sov_time = \"mf9\"\n",
    "avg_hov_time = \"mf10\"\n",
    "avg_tran_time = \"mf11\"\n",
    "avg_active_time = \"mf12\"\n",
    "avg_truck_time = \"mf21\"\n",
    "avg_trip_time = \"mf22\"\n",
    "avg_trip_dist= \"mf23\"\n",
    "avg_hov_dist = \"mf24\"\n",
    "avg_tran_dist = \"mf25\"\n",
    "vkt_mtx = \"mf26\"\n",
    "pkt_mtx = \"mf27\"\n",
    "\n",
    "pop_tran_mtx = \"mf28\"\n",
    "emp_tran_mtx = \"mf29\"\n",
    "pop_emp_tran_mtx = \"mf30\"\n",
    "\n",
    "pop_auto_mtx = \"mf31\"\n",
    "emp_auto_mtx = \"mf32\"\n",
    "pop_emp_auto_mtx = \"mf33\"\n",
    "\n",
    "pop_active_mtx = \"mf34\"\n",
    "emp_active_mtx = \"mf35\"\n",
    "pop_emp_active_mtx = \"mf36\""
   ]
  },
  {
   "cell_type": "code",
   "execution_count": 5,
   "metadata": {
    "code_folding": [],
    "collapsed": false,
    "show_input": true
   },
   "outputs": [
    {
     "name": "stdout",
     "output_type": "stream",
     "text": [
      "Imported matrix mf3\n",
      "Imported matrix mf19\n",
      "Imported matrix mf6\n",
      "Imported matrix mf15\n",
      "Imported matrix mf4\n",
      "Imported matrix mf24\n",
      "Imported matrix mf17\n",
      "Imported matrix mf11\n",
      "Imported matrix mf10\n",
      "Imported matrix mf12\n",
      "Imported matrix mf8\n",
      "Imported matrix mf5\n",
      "Imported matrix mf14\n",
      "Imported matrix mf16\n",
      "Imported matrix mf13\n",
      "Imported matrix mf22\n",
      "Imported matrix mf23\n",
      "Imported matrix mf21\n",
      "Imported matrix mf1\n",
      "Imported matrix mf2\n",
      "Imported matrix mf9\n",
      "Imported matrix mf7\n",
      "Imported matrix mf18\n",
      "Finished Importing Matrices\n",
      "Finished Calculating Transit Travel Times\n"
     ]
    }
   ],
   "source": [
    "# calculate minimum transit time\n",
    "common.minimum_transit_time(\"peak\", min_transit_time, directory ,sc_num)\n",
    "common.clear_matrices(eb,[min_transit_time])"
   ]
  },
  {
   "cell_type": "code",
   "execution_count": 7,
   "metadata": {
    "collapsed": false,
    "show_input": true
   },
   "outputs": [
    {
     "name": "stdout",
     "output_type": "stream",
     "text": [
      "Imported matrix mf1\n",
      "Imported matrix mf3\n",
      "Imported matrix mf2\n",
      "Matrix ht_truck_ampkhr was not imported, or contains no values!\n",
      "Finished Importing Matrices\n"
     ]
    }
   ],
   "source": [
    "#calculate total truck demand\n",
    "truck_list = {'lt_truck_ampkhr':\"\",\n",
    "               'mt_truck_ampkhr':\"\",\n",
    "               'ht_truck_ampkhr':\"\",\n",
    "            }\n",
    "\n",
    "for matrix_name in truck_list.keys():\n",
    "    truck_list[matrix_name] = eb.available_matrix_identifier('FULL')\n",
    "    create_matrix(matrix_id = truck_list[matrix_name],\n",
    "                      matrix_name= matrix_name,\n",
    "                      matrix_description = matrix_name)\n",
    "common.import_matrices_from_directory(directory, truck_list, \".mdf\", sc_num)\n",
    "new_matrix_name(truck_num, \"truck.trips\")\n",
    "expression = \"(\" + truck_list['lt_truck_ampkhr'] + \"+\" + truck_list['mt_truck_ampkhr'] + \"+\" +truck_list['ht_truck_ampkhr']+ \")*5\" \n",
    "spec = common.get_mc_spec(truck_num, expression, None, None,None, None, None)\n",
    "matrix_calculator(spec)\n",
    "common.clear_matrices(eb,[min_transit_time,truck_num])"
   ]
  },
  {
   "cell_type": "code",
   "execution_count": 8,
   "metadata": {
    "code_folding": [],
    "collapsed": true,
    "show_input": true
   },
   "outputs": [],
   "source": [
    "#peak demand matrices\n",
    "\n",
    "matrix_list={'auto_sov_PkPd':sov_num,\n",
    "             'auto_hov2_PkPd':hov2_num,\n",
    "             'auto_hov3_PkPd':hov3_num,\n",
    "             'PnA_Transit_PkPd':tran_num,\n",
    "             'Bike_PkPd':bike_num,\n",
    "             'Walk_PkPd':walk_num,\n",
    "             'truck.trips': truck_num\n",
    "            }"
   ]
  },
  {
   "cell_type": "code",
   "execution_count": null,
   "metadata": {
    "code_folding": [],
    "collapsed": true,
    "show_input": true
   },
   "outputs": [],
   "source": [
    "#off-peak demand matrices\n",
    "\n",
    "matrix_list={'auto_sov_offPkPd':sov_num,\n",
    "             'auto_hov2_offPkPd':hov2_num,\n",
    "             'auto_hov3_offPkPd':hov3_num,\n",
    "             'PnA_Transit_offPkPd':tran_num,\n",
    "             'Bike_offPkPd':bike_num,\n",
    "             'Walk_offPkPd':walk_num\n",
    "            }"
   ]
  },
  {
   "cell_type": "code",
   "execution_count": 12,
   "metadata": {
    "collapsed": true,
    "show_input": true
   },
   "outputs": [],
   "source": [
    "#peak skims\n",
    "matrix_list={'skim.am_peak.auto.sov.dist' : sov_dist,\n",
    "             'skim.am_peak.auto.sov.time' : sov_time,\n",
    "             'skim.am_peak.auto.hov2.dist' : hov2_dist,\n",
    "             'skim.am_peak.auto.hov2.time' : hov2_time,\n",
    "             'skim.am_peak.auto.hov3.dist' : hov3_dist,\n",
    "             'skim.am_peak.auto.hov3.time' : hov3_time,\n",
    "            }"
   ]
  },
  {
   "cell_type": "code",
   "execution_count": null,
   "metadata": {
    "collapsed": true,
    "show_input": true
   },
   "outputs": [],
   "source": [
    "#off-peak skims\n",
    "matrix_list={'skim.midday.auto.sov.dist' : sov_dist,\n",
    "             'skim.midday.auto.sov.time' : sov_time,\n",
    "             'skim.midday.auto.hov2.dist' : hov2_dist,\n",
    "             'skim.midday.auto.hov2.time' : hov2_time,\n",
    "             'skim.midday.auto.hov3.dist' : hov3_dist,\n",
    "             'skim.midday.auto.hov3.time' : hov3_time\n",
    "            }"
   ]
  },
  {
   "cell_type": "code",
   "execution_count": 25,
   "metadata": {
    "collapsed": true,
    "show_input": true
   },
   "outputs": [],
   "source": [
    "#peak demand matrices\n",
    "\n",
    "matrix_list={'trips_peak_sov':sov_num,\n",
    "             'trips_peak_hov2':hov2_num,\n",
    "             'trips_peak_hov3pl':hov3_num,\n",
    "             'trips_transit_peak':tran_num, \n",
    "             'trips_peak_walk':walk_num,\n",
    "             'trips_peak_bike': bike_num,\n",
    "             'truck.trips': truck_num\n",
    "            }"
   ]
  },
  {
   "cell_type": "code",
   "execution_count": 12,
   "metadata": {
    "collapsed": true,
    "show_input": true
   },
   "outputs": [],
   "source": [
    "#peak skims\n",
    "matrix_list={'skim.am_peak.auto.sov.dist' : sov_dist,\n",
    "             'skim.am_peak.auto.sov.time' : sov_time,\n",
    "             'skim.am_peak.auto.hov2.dist' : hov2_dist,\n",
    "             'skim.am_peak.auto.hov2.time' : hov2_time,\n",
    "             'skim.am_peak.auto.hov3.dist' : hov3_dist,\n",
    "             'skim.am_peak.auto.hov3.time' : hov3_time, \n",
    "            }"
   ]
  },
  {
   "cell_type": "code",
   "execution_count": 26,
   "metadata": {
    "collapsed": false,
    "show_input": true
   },
   "outputs": [
    {
     "name": "stdout",
     "output_type": "stream",
     "text": [
      "Imported matrix mf17\n",
      "Imported matrix mf14\n",
      "Imported matrix mf15\n",
      "Imported matrix mf13\n",
      "Imported matrix mf18\n",
      "Imported matrix mf16\n",
      "Finished Importing Matrices\n"
     ]
    }
   ],
   "source": [
    "### IMPORT ALL MATRICES IN SUBFOLDERS ###\n",
    "common.import_matrices_from_directory(directory, matrix_list, \".mdf\", sc_num)\n",
    "for matrix in matrix_list:\n",
    "    num = matrix_list[matrix]\n",
    "    change_matrix(num ,matrix,matrix)"
   ]
  },
  {
   "cell_type": "code",
   "execution_count": 27,
   "metadata": {
    "code_folding": [],
    "collapsed": false,
    "show_input": true
   },
   "outputs": [],
   "source": [
    "# convert full matrices to O and D matrices - demand only\n",
    "\n",
    "for demand_matrix in matrix_list:\n",
    "    full_id = matrix_list[demand_matrix]\n",
    "    origin_id = \"mo\" + full_id[2:]\n",
    "    destin_id = \"md\" + full_id[2:]\n",
    "    new_matrix_name(origin_id, \"total.\" + demand_matrix)\n",
    "    spec = common.get_mc_spec(origin_id, full_id,None, \"+\" , None, None, None)\n",
    "    matrix_calculator(spec)\n",
    "    new_matrix_name(destin_id, \"total.\" + demand_matrix)\n",
    "    spec = common.get_mc_spec(destin_id, full_id,\"+\",None , None, None, None)\n",
    "    matrix_calculator(spec)"
   ]
  },
  {
   "cell_type": "code",
   "execution_count": 28,
   "metadata": {
    "code_folding": [
     0
    ],
    "collapsed": false,
    "show_input": true
   },
   "outputs": [
    {
     "data": {
      "text/plain": [
       "{'average': 14.772054,\n",
       " 'expression_type': 'FULL',\n",
       " 'maximum': 41423.164062,\n",
       " 'maximum_at': {'destination': 9010, 'origin': 9013},\n",
       " 'minimum': 0.0,\n",
       " 'minimum_at': {'destination': 1001, 'origin': 1001},\n",
       " 'num_evaluations': 12645136,\n",
       " 'result_type': 'DESTINATION',\n",
       " 'sum': 186794624.0}"
      ]
     },
     "execution_count": 28,
     "metadata": {},
     "output_type": "execute_result"
    }
   ],
   "source": [
    "#Travel times\n",
    "#1.\tAverage transit trip travel times by origin and destination zone\n",
    "\n",
    "#get total travel time\n",
    "expression_string = tran_num + \"*\" + min_transit_time\n",
    "denom_nums = [tran_num[2:]]\n",
    "\n",
    "calc_avg_od (expression_string, [tran_num[2:]], avg_tran_time[2:], \"avg.transit.time\")\n",
    "\n",
    "\n",
    "#2.\tAverage HOV travel time by origin and destination zone\n",
    "\n",
    "#get total travel time\n",
    "expression_string = hov2_num + \"*\" + hov2_time+ \"+\" + hov3_num + \"*\" + hov3_time\n",
    "\n",
    "calc_avg_od (expression_string, [hov2_num[2:],hov3_num[2:]], avg_hov_time[2:], \"avg.hov.time\")\n",
    "\n",
    "#3.\tAverage truck travel times by origin and destination zone\n",
    "\n",
    "#get total travel time\n",
    "expression_string =  truck_num + \"*\" + sov_time\n",
    "\n",
    "calc_avg_od (expression_string, [truck_num[2:]], avg_truck_time[2:], \"avg.truck.time\")\n",
    "\n",
    "#4.\tAverage travel time by origin and destination for all person modes (no trucks)\n",
    "\n",
    "expression_string =  sov_num + \"*\" + sov_time + \"+\" +\\\n",
    "    hov2_num + \"*\" + hov2_time + \"+\" +\\\n",
    "    hov3_num + \"*\" + hov3_time + \"+\" +\\\n",
    "    tran_num + \"*\" + min_transit_time + \"+\" +\\\n",
    "    bike_num + \"*\" + sov_dist + \"*4+\" +\\\n",
    "    walk_num + \"*\" + sov_dist + \"*15\"\n",
    "\n",
    "calc_avg_od (expression_string, [sov_num[2:],hov2_num[2:],hov3_num[2:],tran_num[2:],bike_num[2:],walk_num[2:]], \\\n",
    "             avg_trip_time[2:], \"avg.trip.time\")\n",
    "\n",
    "#Trip distance\n",
    "#5.\tAverage trip distance by origin and destination for all person trips (no trucks)\n",
    "\n",
    "expression_string =  \"(\" + sov_num + \"+\" + hov2_num + \"+\" + hov3_num + \"+\" +\\\n",
    "    tran_num + \"+\" + bike_num + \"+\" + walk_num + \")*\" + sov_dist\n",
    "\n",
    "calc_avg_od (expression_string, [sov_num[2:],hov2_num[2:],hov3_num[2:],tran_num[2:],bike_num[2:],walk_num[2:]], \\\n",
    "             avg_trip_dist[2:], \"avg.trip.dist\")\n",
    "\n",
    "#6.\tAverage trip distance by origin and destination for HOV trips\n",
    "\n",
    "expression_string =  \"(\" + hov2_num + \"+\" + hov3_num + \")*\" + sov_dist\n",
    "\n",
    "calc_avg_od (expression_string, [hov2_num[2:],hov3_num[2:]], \\\n",
    "             avg_hov_dist[2:], \"avg.hov.dist\")\n",
    "\n",
    "#7.\tAverage trip distance by origin and destination for transit trips\n",
    "expression_string =  \"(\" + tran_num + \")*\" + sov_dist\n",
    "\n",
    "calc_avg_od (expression_string, [tran_num[2:]], \\\n",
    "             avg_tran_dist[2:], \"avg.transit.dist\")\n",
    "\n",
    "#8.\tPKT by origin and destination\n",
    "\n",
    "new_matrix_name(\"mo\" + pkt_mtx[2:] , \"total.pkt\")\n",
    "expression = sov_dist + \"*(\" +tran_num + \"+\" + bike_num + \"+\" + walk_num+ \"+\" + sov_num \\\n",
    "    + \"+\" + hov2_num + \"*2.2+\" + hov3_num + \"*3.3)\"\n",
    "spec = common.get_mc_spec(\"mo\" + pkt_mtx[2:], expression , None,\"+\",None, None, None)\n",
    "matrix_calculator(spec)\n",
    "\n",
    "new_matrix_name(\"md\" + pkt_mtx[2:] , \"total.pkt\")\n",
    "expression = sov_dist + \"*(\" +tran_num + \"+\" + bike_num + \"+\" + walk_num+ \"+\" + sov_num \\\n",
    "    + \"+\" + hov2_num + \"*2.2+\" + hov3_num + \"*3.3)\"\n",
    "spec = common.get_mc_spec(\"md\" + pkt_mtx[2:], expression , \"+\",None,None, None, None)\n",
    "matrix_calculator(spec)\n",
    "\n",
    "#9.\tVKT by origin and destination\n",
    "\n",
    "new_matrix_name(\"mo\" + vkt_mtx[2:] , \"total.vkt\")\n",
    "expression = sov_dist + \"*(\" + sov_num + \"+\" + hov2_num + \"+\" + hov3_num + \")\"\n",
    "spec = common.get_mc_spec(\"mo\" + vkt_mtx[2:], expression , None,\"+\",None, None, None)\n",
    "matrix_calculator(spec)\n",
    "\n",
    "new_matrix_name(\"md\" + vkt_mtx[2:] , \"total.vkt\")\n",
    "expression = sov_dist + \"*(\" + sov_num + \"+\" + hov2_num + \"+\" + hov3_num + \")\"\n",
    "spec = common.get_mc_spec(\"md\" + vkt_mtx[2:], expression , \"+\",None,None, None, None)\n",
    "matrix_calculator(spec)\n"
   ]
  },
  {
   "cell_type": "code",
   "execution_count": 29,
   "metadata": {
    "collapsed": false,
    "show_input": true
   },
   "outputs": [
    {
     "data": {
      "text/plain": [
       "{'average': 1.2e-05,\n",
       " 'expression_type': 'FULL',\n",
       " 'maximum': 0.002427,\n",
       " 'maximum_at': {'destination': 1188, 'origin': 1018},\n",
       " 'minimum': 0.0,\n",
       " 'minimum_at': {'destination': 1018, 'origin': 1001},\n",
       " 'num_evaluations': 12645136,\n",
       " 'result_type': 'ORIGIN',\n",
       " 'sum': 147.352676}"
      ]
     },
     "execution_count": 29,
     "metadata": {},
     "output_type": "execute_result"
    }
   ],
   "source": [
    "spec = common.get_mc_spec(None,pop_o_matrix,\"+\",None,None,None,None)\n",
    "total_pop = matrix_calculator(spec)['result']\n",
    "\n",
    "spec = common.get_mc_spec(None,emp_o_matrix,\"+\",None,None,None,None)\n",
    "total_emp = matrix_calculator(spec)['result']\n",
    "\n",
    "#Accessibility \n",
    "#For these accessibility measures by zone, just want to confirm that we are including population and employment within the zone as well.\n",
    "#10.\t% of population accessible by transit in under 45 minutes by zone\n",
    "\n",
    "expression_string =  \"(\"+ pop_d_matrix + \"*(\" + min_transit_time + \"<45))/\" + str(total_pop)\n",
    "new_matrix_name(\"mo\" + pop_tran_mtx[2:], \"access.pop.transit\")\n",
    "spec = common.get_mc_spec(\"mo\" + pop_tran_mtx[2:], expression_string, None, \"+\", None, None, None)\n",
    "matrix_calculator(spec)\n",
    "\n",
    "#11.\t% of jobs accessible by transit in under 45 minutes by zone\n",
    "\n",
    "expression_string =  \"(\"+ emp_d_matrix + \"*(\" + min_transit_time + \"<45))/\" + str(total_emp)\n",
    "new_matrix_name(\"mo\" + emp_tran_mtx[2:], \"access.emp.transit\")\n",
    "spec = common.get_mc_spec(\"mo\" + emp_tran_mtx[2:], expression_string, None, \"+\", None, None, None)\n",
    "matrix_calculator(spec)\n",
    "\n",
    "#12.\t% of people+jobs accessible by transit in under 45 minutes by zone\n",
    "\n",
    "expression_string =  \"((\"+ emp_d_matrix + \" +\" + pop_d_matrix + \")*(\" + min_transit_time + \"<45))/\" + str(total_emp+total_pop)\n",
    "new_matrix_name(\"mo\" + pop_emp_tran_mtx[2:], \"access.pop.emp.transit\")\n",
    "spec = common.get_mc_spec(\"mo\" + pop_emp_tran_mtx[2:], expression_string, None, \"+\", None, None, None)\n",
    "matrix_calculator(spec)\n",
    "#(For 8,9,10 if possible we need for all, and then broken down for seniors, youth and low income)\n",
    "\n",
    "#13.\t% of people accessible by road (SOV+HOV) in under 45 min by zone\n",
    "\n",
    "expression_string =  \"(\"+ pop_d_matrix + \"*(\" + hov3_time + \"<45))/\" + str(total_pop)\n",
    "new_matrix_name(\"mo\" + pop_auto_mtx[2:], \"access.pop.auto\")\n",
    "spec = common.get_mc_spec(\"mo\" + pop_auto_mtx[2:], expression_string, None, \"+\", None, None, None)\n",
    "matrix_calculator(spec)\n",
    "\n",
    "#14.\t % of jobs accessible by road (SOV+HOV) in under 45 min by zone\n",
    "\n",
    "expression_string =  \"(\"+ emp_d_matrix + \"*(\" + hov3_time + \"<45))/\" + str(total_emp)\n",
    "new_matrix_name(\"mo\" + emp_auto_mtx[2:], \"access.emp.auto\")\n",
    "spec = common.get_mc_spec(\"mo\" + emp_auto_mtx[2:], expression_string, None, \"+\", None, None, None)\n",
    "matrix_calculator(spec)\n",
    "\n",
    "#15.\t% of people+jobs accessible by road (SOV+HOV) in under 45 min by zone\n",
    "\n",
    "expression_string =  \"((\"+ emp_d_matrix + \" +\" + pop_d_matrix + \")*(\" + hov3_time + \"<45))/\" + str(total_emp+total_pop)\n",
    "new_matrix_name(\"mo\" + pop_emp_auto_mtx[2:], \"access.pop.emp.auto\")\n",
    "spec = common.get_mc_spec(\"mo\" + pop_emp_auto_mtx[2:], expression_string, None, \"+\", None, None, None)\n",
    "matrix_calculator(spec)\n",
    "\n",
    "#16.\t% of people accessible by active modes in under 45 min by zone\n",
    "\n",
    "expression_string =  \"(\"+ pop_d_matrix + \"*((\" + sov_dist + \"*4)<45))/\" + str(total_pop)\n",
    "new_matrix_name(\"mo\" + pop_active_mtx[2:], \"access.pop.active\")\n",
    "spec = common.get_mc_spec(\"mo\" + pop_active_mtx[2:], expression_string, None, \"+\", None, None, None)\n",
    "matrix_calculator(spec)\n",
    "\n",
    "#17.\t % of jobs accessible by active modes in under 45 min by zone\n",
    "\n",
    "expression_string =  \"(\"+ emp_d_matrix + \"*((\" + sov_dist + \"*4)<45))/\" + str(total_emp)\n",
    "new_matrix_name(\"mo\" + emp_active_mtx[2:], \"access.emp.active\")\n",
    "spec = common.get_mc_spec(\"mo\" + emp_active_mtx[2:], expression_string, None, \"+\", None, None, None)\n",
    "matrix_calculator(spec)\n",
    "\n",
    "#18.\t% of people+jobs accessible by active modes in under 45 min by zone\n",
    "expression_string =  \"((\"+ emp_d_matrix + \" +\" + pop_d_matrix + \")*((\" + sov_dist + \"*4)<45))/\" + str(total_emp+total_pop)\n",
    "new_matrix_name(\"mo\" + pop_emp_active_mtx[2:], \"access.pop.emp.active\")\n",
    "spec = common.get_mc_spec(\"mo\" + pop_emp_active_mtx[2:], expression_string, None, \"+\", None, None, None)\n",
    "matrix_calculator(spec)\n",
    "\n",
    "\n"
   ]
  },
  {
   "cell_type": "code",
   "execution_count": 30,
   "metadata": {
    "code_folding": [
     5
    ],
    "collapsed": false,
    "show_input": true
   },
   "outputs": [],
   "source": [
    "#HEATMAP -calculate average auto time\n",
    "\n",
    "expression_string = \"(\" + sov_num + \"*\" + sov_time + \"+\" + hov2_num + \"*\" + hov2_time \\\n",
    "    + \"+\" + hov3_num + \"*\" + hov3_time+ \")\"\n",
    "denom_nums = [sov_num[2:],hov2_num[2:],hov3_num[2:]]\n",
    "\n",
    "calc_avg_od (expression_string, denom_nums, avg_auto_time[2:], \"avg.auto.time\")\n",
    "\n",
    "#HEATMAP - calculate average auto distance\n",
    "\n",
    "expression_string = \"(\" + sov_num + \"*\" + sov_dist + \"+\" + hov2_num + \"*\" + hov2_dist \\\n",
    "    + \"+\" + hov3_num + \"*\" + hov3_dist+ \")\"\n",
    "denom_nums = [sov_num[2:],hov2_num[2:],hov3_num[2:]]\n",
    "\n",
    "calc_avg_od (expression_string, denom_nums, avg_auto_dist[2:], \"avg.auto.dist\")\n"
   ]
  },
  {
   "cell_type": "code",
   "execution_count": 44,
   "metadata": {
    "collapsed": false,
    "show_input": true
   },
   "outputs": [
    {
     "data": {
      "text/plain": [
       "'(mf13*mf2+mf14*mf4+mf15*mf6)'"
      ]
     },
     "execution_count": 44,
     "metadata": {},
     "output_type": "execute_result"
    }
   ],
   "source": [
    "\"(\" + sov_num + \"*\" + sov_time + \"+\" + hov2_num + \"*\" + hov2_time \\\n",
    "    + \"+\" + hov3_num + \"*\" + hov3_time+ \")\""
   ]
  },
  {
   "cell_type": "code",
   "execution_count": 31,
   "metadata": {
    "collapsed": false,
    "show_input": true
   },
   "outputs": [],
   "source": [
    "\n",
    "export_matrix_os = [\"mo7\",\"mo8\",\"mo11\",\"mo10\",\"mo13\",\"mo14\",\"mo15\",\"mo16\",\"mo17\",\"mo18\",\"mo19\",\\\n",
    "                    \"mo21\",\"mo22\",\"mo23\",\"mo24\",\"mo25\",\"mo26\",\"mo27\",\"mo28\",\"mo29\",\"mo30\",\"mo31\",\\\n",
    "                   \"mo32\",\"mo33\",\"mo34\",\"mo35\",\"mo36\"]\n",
    "export_matrix_ds = [\"md7\",\"md8\",\"md11\",\"md10\",\"md13\",\"md14\",\"md15\",\"md16\",\"md17\",\"md18\",\"md19\",\\\n",
    "                    \"md21\",\"md22\",\"md23\",\"md24\",\"md25\",\"md26\",\"md27\"]\n"
   ]
  },
  {
   "cell_type": "code",
   "execution_count": 34,
   "metadata": {
    "collapsed": false,
    "show_input": true
   },
   "outputs": [],
   "source": [
    "save_path = \"C:\\Users\\mnasterska\\Documents\\Projects\\GGH\\MOE\\HeatMap\"\n",
    "export_matrices(matrices = export_matrix_os,\n",
    "                export_path = save_path + \"\\Source\\\\2041_C+2\")\n"
   ]
  },
  {
   "cell_type": "code",
   "execution_count": 19,
   "metadata": {
    "code_folding": [],
    "collapsed": false,
    "show_input": true
   },
   "outputs": [
    {
     "data": {
      "text/plain": [
       "{'average': 4.932557,\n",
       " 'expression_type': 'FULL',\n",
       " 'maximum': 408.49707,\n",
       " 'maximum_at': {'destination': 2087, 'origin': 7010},\n",
       " 'minimum': 0.0,\n",
       " 'minimum_at': {'destination': 1001, 'origin': 1001},\n",
       " 'num_evaluations': 10751841,\n",
       " 'result_type': 'FULL',\n",
       " 'sum': 53034072.0}"
      ]
     },
     "execution_count": 19,
     "metadata": {},
     "output_type": "execute_result"
    }
   ],
   "source": [
    "#Calculate average travel time per mode\n",
    "\n",
    "#SOV\n",
    "new_matrix = avg_sov_time\n",
    "\n",
    "#check if results matrix exist\n",
    "if not(eb.matrix(new_matrix)):\n",
    "    create_matrix(matrix_id = new_matrix,\n",
    "              matrix_name = \"avg.sov.time\",\n",
    "            matrix_description = \"avg.sov.time\")\n",
    "\n",
    "spec = {\n",
    "    \"type\": \"MATRIX_CALCULATION\",\n",
    "    \"result\": new_matrix,\n",
    "    \"expression\": \"(\" + str(sov_num) + \"*\" + sov_time+ \")/((\" + sov_num + \"==0)+(\" + sov_num + \"))\"\n",
    "}\n",
    "\n",
    "matrix_calculator(spec)\n",
    "\n",
    "#HOV\n",
    "new_matrix = avg_hov_time\n",
    "\n",
    "#check if results matrix exist\n",
    "if not(eb.matrix(new_matrix)):\n",
    "    create_matrix(matrix_id = new_matrix,\n",
    "              matrix_name = \"avg.hov.time\",\n",
    "            matrix_description = \"avg.hov.time\")\n",
    "\n",
    "spec = {\n",
    "    \"type\": \"MATRIX_CALCULATION\",\n",
    "    \"result\": new_matrix,\n",
    "    \"expression\": \"(\" + hov2_num + \"*\" + hov2_time+ \"+\" + hov3_num + \"*\" + hov3_time+ \\\n",
    "    \")/(((\" + hov2_num + \"+\" + hov3_num + \")==0)+(\" + hov2_num + \"+\" + hov3_num + \"))\"\n",
    "}\n",
    "\n",
    "matrix_calculator(spec)\n",
    "\n",
    "#Active\n",
    "new_matrix = avg_active_time\n",
    "\n",
    "#check if results matrix exist\n",
    "if not(eb.matrix(new_matrix)):\n",
    "    create_matrix(matrix_id = new_matrix,\n",
    "              matrix_name = \"avg.active.time\",\n",
    "            matrix_description = \"avg.active.time\")\n",
    "\n",
    "spec = {\n",
    "    \"type\": \"MATRIX_CALCULATION\",\n",
    "    \"result\": new_matrix,\n",
    "    \"expression\": \"(\" + hov2_num + \"*\" + hov2_time+ \"+\" + hov3_num + \"*\" + hov3_time+ \\\n",
    "    \")/(((\" + hov2_num + \"+\" + hov3_num + \")==0)+(\" + hov2_num + \"+\" + hov3_num + \"))\"\n",
    "}\n",
    "\n",
    "matrix_calculator(spec)\n"
   ]
  },
  {
   "cell_type": "code",
   "execution_count": null,
   "metadata": {
    "collapsed": true,
    "show_input": true
   },
   "outputs": [],
   "source": [
    "### Below might be unnecessary"
   ]
  },
  {
   "cell_type": "code",
   "execution_count": 11,
   "metadata": {
    "collapsed": true,
    "show_input": true
   },
   "outputs": [],
   "source": [
    "export_matrix_os = [\"mo28\",\"mo29\",\"mo30\",\"mo31\",\"mo32\",\"mo33\",\"mo34\",\"mo35\",\"mo36\"]"
   ]
  },
  {
   "cell_type": "code",
   "execution_count": 16,
   "metadata": {
    "collapsed": true,
    "show_input": true
   },
   "outputs": [],
   "source": [
    "export_matrix_os = [\"mo7\",\"md7\",\"mo8\",\"md8\"]"
   ]
  },
  {
   "cell_type": "code",
   "execution_count": 27,
   "metadata": {
    "code_folding": [],
    "collapsed": false,
    "show_input": true
   },
   "outputs": [
    {
     "ename": "IndexError",
     "evalue": "list index out of range",
     "output_type": "error",
     "traceback": [
      "\u001b[1;31m---------------------------------------------------------------------------\u001b[0m",
      "\u001b[1;31mIndexError\u001b[0m                                Traceback (most recent call last)",
      "\u001b[1;32m<ipython-input-27-590b29f89e49>\u001b[0m in \u001b[0;36m<module>\u001b[1;34m()\u001b[0m\n\u001b[0;32m     38\u001b[0m                     \u001b[0morigin\u001b[0m\u001b[1;33m[\u001b[0m\u001b[0mrow\u001b[0m\u001b[1;33m]\u001b[0m \u001b[1;33m=\u001b[0m \u001b[0msum\u001b[0m\u001b[1;33m(\u001b[0m\u001b[0mCurline\u001b[0m\u001b[1;33m)\u001b[0m\u001b[1;33m\u001b[0m\u001b[0m\n\u001b[0;32m     39\u001b[0m                     \u001b[1;32mfor\u001b[0m \u001b[0mcol\u001b[0m \u001b[1;32min\u001b[0m \u001b[0mrange\u001b[0m\u001b[1;33m(\u001b[0m\u001b[0mlen\u001b[0m\u001b[1;33m(\u001b[0m\u001b[0mCurline\u001b[0m\u001b[1;33m)\u001b[0m\u001b[1;33m)\u001b[0m\u001b[1;33m:\u001b[0m\u001b[1;33m\u001b[0m\u001b[0m\n\u001b[1;32m---> 40\u001b[1;33m                         \u001b[0mdest\u001b[0m\u001b[1;33m[\u001b[0m\u001b[0mcol\u001b[0m\u001b[1;33m]\u001b[0m \u001b[1;33m+=\u001b[0m \u001b[0mCurline\u001b[0m\u001b[1;33m[\u001b[0m\u001b[0mcol\u001b[0m\u001b[1;33m]\u001b[0m\u001b[1;33m\u001b[0m\u001b[0m\n\u001b[0m\u001b[0;32m     41\u001b[0m                 \u001b[1;32melif\u001b[0m \u001b[0mavgs\u001b[0m\u001b[1;33m:\u001b[0m\u001b[1;33m\u001b[0m\u001b[0m\n\u001b[0;32m     42\u001b[0m                     \u001b[0morigin\u001b[0m\u001b[1;33m[\u001b[0m\u001b[0mrow\u001b[0m\u001b[1;33m]\u001b[0m \u001b[1;33m=\u001b[0m \u001b[0mCurline\u001b[0m\u001b[1;33m[\u001b[0m\u001b[0mCurline\u001b[0m\u001b[1;33m.\u001b[0m\u001b[0mnonzero\u001b[0m\u001b[1;33m(\u001b[0m\u001b[1;33m)\u001b[0m\u001b[1;33m]\u001b[0m\u001b[1;33m.\u001b[0m\u001b[0mmean\u001b[0m\u001b[1;33m(\u001b[0m\u001b[1;33m)\u001b[0m\u001b[1;33m\u001b[0m\u001b[0m\n",
      "\u001b[1;31mIndexError\u001b[0m: list index out of range"
     ]
    }
   ],
   "source": [
    "#Heat Map - Aggregate matrices\n",
    "\n",
    "matrices = os.listdir(save_path+\"\\Source\")\n",
    "\n",
    "import numpy as np\n",
    "import csv\n",
    "\n",
    "header = None\n",
    "with open (os.path.join(save_path, \"Aggregated_2016.csv\"),\"wb\") as csvfile:\n",
    "    csvwriter = csv.writer(csvfile, delimiter = \",\", quoting = csv.QUOTE_MINIMAL)\n",
    "    firstrow = [\"Zone\"]\n",
    "    aggregated = []\n",
    "    for matrix in matrices:\n",
    "        sums = False\n",
    "        avgs = False\n",
    "        matrix_num = os.path.splitext(matrix)[0]\n",
    "        if matrix_num in sum_matrices:\n",
    "            sums = True\n",
    "        elif matrix_num in avg_matrices:\n",
    "            avgs = True\n",
    "        \n",
    "        if sums:\n",
    "            firstrow.append(sum_matrices[matrix_num])\n",
    "        elif avgs:\n",
    "            firstrow.append(avg_matrices[matrix_num])\n",
    "        firstrow.append(\"\")\n",
    "        with open(os.path.join(save_path+\"\\Source\", matrix),\"r\") as rawf:\n",
    "            line = rawf.readline()\n",
    "            if header == None:\n",
    "                header = line.rstrip(\"\\n\").split(\",\")[1:]\n",
    "            origin = [0 for row in range(len(header))]\n",
    "            dest = [0 for row in range(len(header))]\n",
    "            lines = rawf.readlines()\n",
    "\n",
    "            for row in range(len(lines)):\n",
    "                Curline = np.array(map(float,lines[row].rstrip(\"\\n\").split(\",\")[1:]))\n",
    "                if sums:\n",
    "                    origin[row] = sum(Curline)\n",
    "                    for col in range(len(Curline)):\n",
    "                        dest[col] += Curline[col]\n",
    "                elif avgs:\n",
    "                    origin[row] = Curline[Curline.nonzero()].mean()\n",
    "                    for col in range(len(Curline)):\n",
    "                        if Curline[col] != 0:\n",
    "                            if dest[col] == 0:\n",
    "                                dest[col] = [Curline[col],1]\n",
    "                            else:\n",
    "                                dest[col][0]+= Curline[col]\n",
    "                                dest[col][1]+=1\n",
    "        if avgs:\n",
    "            for row in range (len(dest)):\n",
    "                if dest[row] != 0:\n",
    "                    dest[row] = dest[row][0]/dest[row][1]\n",
    "        aggregated.append(origin)\n",
    "        aggregated.append(dest)\n",
    "    csvwriter.writerow(firstrow)\n",
    "    for row  in range(len(header)):\n",
    "        values = [header[row]]\n",
    "        for col in range(len(aggregated)):\n",
    "            values.append(aggregated[col][row])\n",
    "        csvwriter.writerow(values)\n",
    "print \"Finished Aggregating MOEs\"    "
   ]
  },
  {
   "cell_type": "code",
   "execution_count": null,
   "metadata": {
    "collapsed": true,
    "show_input": true
   },
   "outputs": [],
   "source": []
  }
 ],
 "metadata": {
  "kernelspec": {
   "display_name": "Python 2",
   "language": "python",
   "name": "python2"
  },
  "language_info": {
   "codemirror_mode": {
    "name": "ipython",
    "version": 2
   },
   "file_extension": ".py",
   "mimetype": "text/x-python",
   "name": "python",
   "nbconvert_exporter": "python",
   "pygments_lexer": "ipython2",
   "version": "2.7.9"
  }
 },
 "nbformat": 4,
 "nbformat_minor": 0
}
