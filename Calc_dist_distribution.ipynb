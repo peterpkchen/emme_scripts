{
 "cells": [
  {
   "cell_type": "code",
   "execution_count": 11,
   "metadata": {
    "collapsed": false,
    "show_input": true
   },
   "outputs": [
    {
     "name": "stdout",
     "output_type": "stream",
     "text": [
      "['p/q/[val]' 'level_1' 0L]\n",
      "['Origin' 'Dest' 'dist']\n",
      "['p/q/[val]' 'level_1' 0L]\n",
      "['Origin' 'Dest' 0L]\n",
      "{'42': 0.00331632412770516, '48': 0.0008302075781791429, '43': 0.00474011844479838, '49': 0.0005697548342663951, '24': 0.11286601798188833, '25': 0.0746391436322611, '26': 0.028917624166979294, '27': 0.06872316965200298, '20': 0.3654392029055315, '21': 0.25513667519771843, '22': 0.11034263310193637, '23': 0.18001559553999869, '46': 1.05317090683954e-05, '47': 0.00044003080307436493, '44': 0.0001879561497076243, '45': 3.695758015809236e-05, '28': 0.0928575014429498, '29': 0.01366936538960939, '40': 0.0032618918548441705, '41': 0.004388134905145836, '1': 10474.618919643806, '3': 1888.607277937932, '2': 3884.294451080961, '5': 845.1122155979974, '4': 1107.5678392380942, '7': 245.0468711319263, '6': 430.58761136385147, '9': 30.315491887391545, '8': 102.61199141429097, '39': 0.0006268691644591776, '38': 0.0015997213882683603, '11': 9.22798425797373, '10': 18.20476928172866, '13': 4.038435662805568, '12': 5.800067133328412, '15': 2.5214023348425796, '14': 3.1658984838242823, '17': 1.4913138862684718, '16': 0.9463346373191825, '19': 0.5706271500521325, '18': 0.5922492493227764, '31': 0.008642529433916968, '30': 0.017920732944958884, '37': 0.005420021631492328, '36': 0.019936556868398746, '35': 0.019589689704773327, '34': 0.012150806010432388, '33': 0.007305503918769315, '32': 0.008049282937997334}\n"
     ]
    }
   ],
   "source": [
    "import pandas as pd\n",
    "import os\n",
    "import csv\n",
    "\n",
    "originalODfile = r\"C:\\Users\\Public\\GGH Multimodal\\2041\\SOV_OD_dist.csv\"\n",
    "demandfile = r\"C:\\Users\\Public\\GGH Multimodal\\2041\\Transit_productions_OtherUGC.csv\"\n",
    "\n",
    "originalOD = pd.read_csv(originalODfile).set_index(\"p/q/[val]\")\n",
    "originalOD=originalOD.stack().reset_index()\n",
    "print(originalOD.columns.values)\n",
    "originalOD=originalOD.rename(columns={'p/q/[val]': 'Origin', 'level_1': 'Dest',0:'dist'})\n",
    "print(originalOD.columns.values)\n",
    "\n",
    "demand = pd.read_csv(demandfile).set_index(\"p/q/[val]\")\n",
    "demand=demand.stack().reset_index()\n",
    "print(demand.columns.values)\n",
    "demand=demand.rename(columns={'p/q/[val]': 'Origin', 'level_1': 'Dest'})\n",
    "print(demand.columns.values)\n",
    "\n",
    "originalOD[\"trips\"] = demand[0]\n",
    "\n",
    "newOD = {}\n",
    "for i in range(1,50):\n",
    "    count=0\n",
    "    tempframe = originalOD[originalOD[\"dist\"] < i]\n",
    "    tempframe = tempframe[tempframe[\"dist\"] >= i-1]\n",
    "    newOD[str(i)]=tempframe['trips'].sum()\n",
    "print newOD\n",
    "\n",
    "with open('transit_otherugc_productions_dist.csv', 'wb') as f:  # Just use 'w' mode in 3.x\n",
    "    w = csv.DictWriter(f, newOD.keys())\n",
    "    w.writeheader()\n",
    "    w.writerow(newOD)"
   ]
  },
  {
   "cell_type": "code",
   "execution_count": 27,
   "metadata": {
    "collapsed": true,
    "show_input": true
   },
   "outputs": [],
   "source": []
  },
  {
   "cell_type": "code",
   "execution_count": 28,
   "metadata": {
    "collapsed": false,
    "show_input": true
   },
   "outputs": [
    {
     "name": "stdout",
     "output_type": "stream",
     "text": [
      "['p/q/[val]' 'level_1' 0L]\n",
      "['Origin' 'Dest' 'dist']\n",
      "['p/q/[val]' 'level_1' 0L]\n",
      "['Origin' 'Dest' 0L]\n"
     ]
    }
   ],
   "source": []
  },
  {
   "cell_type": "code",
   "execution_count": 11,
   "metadata": {
    "collapsed": true,
    "show_input": true
   },
   "outputs": [],
   "source": [
    "\n"
   ]
  },
  {
   "cell_type": "code",
   "execution_count": 19,
   "metadata": {
    "collapsed": false,
    "show_input": true
   },
   "outputs": [
    {
     "data": {
      "text/html": [
       "<div style=\"max-height:1000px;max-width:1500px;overflow:auto;\">\n",
       "<table border=\"1\" class=\"dataframe\">\n",
       "  <thead>\n",
       "    <tr style=\"text-align: right;\">\n",
       "      <th></th>\n",
       "      <th>Origin</th>\n",
       "      <th>Dest</th>\n",
       "      <th>dist</th>\n",
       "    </tr>\n",
       "  </thead>\n",
       "  <tbody>\n",
       "    <tr>\n",
       "      <th>0</th>\n",
       "      <td>1001</td>\n",
       "      <td>1001</td>\n",
       "      <td>0.000000</td>\n",
       "    </tr>\n",
       "    <tr>\n",
       "      <th>1</th>\n",
       "      <td>1001</td>\n",
       "      <td>1002</td>\n",
       "      <td>1.671442</td>\n",
       "    </tr>\n",
       "    <tr>\n",
       "      <th>2</th>\n",
       "      <td>1001</td>\n",
       "      <td>1003</td>\n",
       "      <td>3.454048</td>\n",
       "    </tr>\n",
       "    <tr>\n",
       "      <th>3</th>\n",
       "      <td>1001</td>\n",
       "      <td>1004</td>\n",
       "      <td>2.381790</td>\n",
       "    </tr>\n",
       "    <tr>\n",
       "      <th>4</th>\n",
       "      <td>1001</td>\n",
       "      <td>1005</td>\n",
       "      <td>1.694155</td>\n",
       "    </tr>\n",
       "  </tbody>\n",
       "</table>\n",
       "</div>"
      ],
      "text/plain": [
       "   Origin  Dest      dist\n",
       "0    1001  1001  0.000000\n",
       "1    1001  1002  1.671442\n",
       "2    1001  1003  3.454048\n",
       "3    1001  1004  2.381790\n",
       "4    1001  1005  1.694155"
      ]
     },
     "execution_count": 19,
     "metadata": {},
     "output_type": "execute_result"
    }
   ],
   "source": []
  },
  {
   "cell_type": "code",
   "execution_count": 29,
   "metadata": {
    "collapsed": false,
    "show_input": true
   },
   "outputs": [
    {
     "data": {
      "text/html": [
       "<div style=\"max-height:1000px;max-width:1500px;overflow:auto;\">\n",
       "<table border=\"1\" class=\"dataframe\">\n",
       "  <thead>\n",
       "    <tr style=\"text-align: right;\">\n",
       "      <th></th>\n",
       "      <th>Origin</th>\n",
       "      <th>Dest</th>\n",
       "      <th>dist</th>\n",
       "      <th>trips</th>\n",
       "    </tr>\n",
       "  </thead>\n",
       "  <tbody>\n",
       "    <tr>\n",
       "      <th>0</th>\n",
       "      <td>1001</td>\n",
       "      <td>1001</td>\n",
       "      <td>0.000000</td>\n",
       "      <td>0</td>\n",
       "    </tr>\n",
       "    <tr>\n",
       "      <th>1</th>\n",
       "      <td>1001</td>\n",
       "      <td>1002</td>\n",
       "      <td>1.671442</td>\n",
       "      <td>0</td>\n",
       "    </tr>\n",
       "    <tr>\n",
       "      <th>2</th>\n",
       "      <td>1001</td>\n",
       "      <td>1003</td>\n",
       "      <td>3.454048</td>\n",
       "      <td>0</td>\n",
       "    </tr>\n",
       "    <tr>\n",
       "      <th>3</th>\n",
       "      <td>1001</td>\n",
       "      <td>1004</td>\n",
       "      <td>2.381790</td>\n",
       "      <td>0</td>\n",
       "    </tr>\n",
       "    <tr>\n",
       "      <th>4</th>\n",
       "      <td>1001</td>\n",
       "      <td>1005</td>\n",
       "      <td>1.694155</td>\n",
       "      <td>0</td>\n",
       "    </tr>\n",
       "  </tbody>\n",
       "</table>\n",
       "</div>"
      ],
      "text/plain": [
       "   Origin  Dest      dist  trips\n",
       "0    1001  1001  0.000000      0\n",
       "1    1001  1002  1.671442      0\n",
       "2    1001  1003  3.454048      0\n",
       "3    1001  1004  2.381790      0\n",
       "4    1001  1005  1.694155      0"
      ]
     },
     "execution_count": 29,
     "metadata": {},
     "output_type": "execute_result"
    }
   ],
   "source": []
  },
  {
   "cell_type": "code",
   "execution_count": 30,
   "metadata": {
    "collapsed": false,
    "show_input": true
   },
   "outputs": [
    {
     "name": "stdout",
     "output_type": "stream",
     "text": [
      "{'42': 5.561678484183176, '48': 21.73554238323777, '43': 0.17509584687650204, '49': 21.112074030097574, '24': 26.961799571447045, '25': 14.249538001939072, '26': 15.742743786453502, '27': 25.97388245710863, '20': 57.845849498578104, '21': 87.64917943934279, '22': 43.175940251029544, '23': 16.790089733620334, '46': 11.825911413670838, '47': 17.298944869980915, '44': 5.768455803139659, '45': 5.624681719004002, '28': 19.231910940159878, '29': 4.33212600133038, '40': 58.425333314953605, '41': 41.09804030490341, '1': 17.374590665102005, '3': 119.74108436051756, '2': 86.82201462984085, '5': 35.509202260524035, '4': 28.888543240725994, '7': 1.1242736782878637, '6': 34.43732658820227, '9': 0.24025459215044975, '8': 0.5588985979557037, '39': 5.253986336829257, '38': 3.237847164253253, '11': 0.051743969321250916, '10': 0.2629193301545456, '13': 9.036568820614775, '12': 5.295475352555513, '15': 34.63742618553806, '14': 15.143500670557842, '17': 73.46388736642257, '16': 85.81853536190465, '19': 35.60809419293341, '18': 41.157842344129335, '31': 11.036594848341338, '30': 4.4156388165429235, '37': 2.3739545510034077, '36': 1.0574447609251365, '35': 3.7398739005438983, '34': 16.163121496181702, '33': 6.6042104322550585, '32': 8.114453015078144}\n"
     ]
    }
   ],
   "source": []
  },
  {
   "cell_type": "code",
   "execution_count": 7,
   "metadata": {
    "collapsed": false,
    "show_input": true
   },
   "outputs": [
    {
     "name": "stdout",
     "output_type": "stream",
     "text": [
      "{'3': 89000}\n"
     ]
    }
   ],
   "source": []
  },
  {
   "cell_type": "code",
   "execution_count": 11,
   "metadata": {
    "collapsed": false,
    "show_input": true
   },
   "outputs": [
    {
     "name": "stdout",
     "output_type": "stream",
     "text": [
      "{'24': 0, '25': 0, '26': 0, '27': 0, '20': 0, '21': 0, '22': 0, '23': 0, '28': 0, '29': 0, '2': 0, '4': 0, '6': 0, '8': 0, '11': 0, '10': 0, '13': 0, '12': 0, '15': 0, '14': 0, '17': 0, '16': 0, '19': 0, '18': 0, '50': 0, '48': 0, '49': 0, '46': 0, '47': 0, '44': 0, '45': 0, '42': 0, '43': 0, '40': 0, '41': 0, '1': 0, '3': 0, '5': 0, '7': 0, '9': 0, '39': 0, '38': 0, '33': 0, '32': 0, '31': 0, '30': 0, '37': 0, '36': 0, '35': 0, '34': 0}\n"
     ]
    }
   ],
   "source": []
  },
  {
   "cell_type": "code",
   "execution_count": 98,
   "metadata": {
    "collapsed": true,
    "show_input": true
   },
   "outputs": [],
   "source": []
  },
  {
   "cell_type": "code",
   "execution_count": null,
   "metadata": {
    "collapsed": true,
    "show_input": true
   },
   "outputs": [],
   "source": []
  },
  {
   "cell_type": "code",
   "execution_count": 31,
   "metadata": {
    "collapsed": false,
    "show_input": true
   },
   "outputs": [],
   "source": []
  },
  {
   "cell_type": "code",
   "execution_count": 18,
   "metadata": {
    "collapsed": false,
    "show_input": true
   },
   "outputs": [
    {
     "ename": "AttributeError",
     "evalue": "'dict' object has no attribute 'to_csv'",
     "output_type": "error",
     "traceback": [
      "\u001b[1;31m---------------------------------------------------------------------------\u001b[0m",
      "\u001b[1;31mAttributeError\u001b[0m                            Traceback (most recent call last)",
      "\u001b[1;32m<ipython-input-18-3fc3d7aea59e>\u001b[0m in \u001b[0;36m<module>\u001b[1;34m()\u001b[0m\n\u001b[1;32m----> 1\u001b[1;33m \u001b[0mnewOD\u001b[0m\u001b[1;33m.\u001b[0m\u001b[0mto_csv\u001b[0m\u001b[1;33m(\u001b[0m\u001b[1;34mr\"C:\\Users\\Public\\GGH Multimodal\\auto_trips_dist.csv\"\u001b[0m\u001b[1;33m)\u001b[0m\u001b[1;33m\u001b[0m\u001b[0m\n\u001b[0m",
      "\u001b[1;31mAttributeError\u001b[0m: 'dict' object has no attribute 'to_csv'"
     ]
    }
   ],
   "source": []
  },
  {
   "cell_type": "code",
   "execution_count": 16,
   "metadata": {
    "collapsed": false,
    "show_input": true
   },
   "outputs": [
    {
     "data": {
      "text/plain": [
       "(4172.279999999999, 4172.280000000001)"
      ]
     },
     "execution_count": 16,
     "metadata": {},
     "output_type": "execute_result"
    }
   ],
   "source": []
  },
  {
   "cell_type": "code",
   "execution_count": 22,
   "metadata": {
    "collapsed": true,
    "show_input": true
   },
   "outputs": [],
   "source": []
  },
  {
   "cell_type": "code",
   "execution_count": 27,
   "metadata": {
    "collapsed": true,
    "show_input": true
   },
   "outputs": [],
   "source": []
  },
  {
   "cell_type": "code",
   "execution_count": null,
   "metadata": {
    "collapsed": true,
    "show_input": true
   },
   "outputs": [],
   "source": []
  }
 ],
 "metadata": {
  "kernelspec": {
   "display_name": "Python 2",
   "language": "python",
   "name": "python2"
  },
  "language_info": {
   "codemirror_mode": {
    "name": "ipython",
    "version": 2
   },
   "file_extension": ".py",
   "mimetype": "text/x-python",
   "name": "python",
   "nbconvert_exporter": "python",
   "pygments_lexer": "ipython2",
   "version": "2.7.9"
  }
 },
 "nbformat": 4,
 "nbformat_minor": 2
}
