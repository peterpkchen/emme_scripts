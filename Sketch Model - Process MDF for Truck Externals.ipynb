{
 "cells": [
  {
   "cell_type": "code",
   "execution_count": 1,
   "metadata": {
    "collapsed": false,
    "show_input": true
   },
   "outputs": [],
   "source": [
    "import os\n",
    "import glob\n",
    "import inro.modeller as m\n",
    "import inro.emme.matrix as _matrix\n",
    "import numpy as np\n",
    "import pandas as pd\n",
    "mm = m.Modeller()    \n",
    "change_matrix = m.Modeller().tool(\"inro.emme.data.matrix.change_matrix_properties\") \n",
    "import_matrices = mm.tool(\"tmg.input_output.import_binary_matrix\")\n",
    "create_matrix =  m.Modeller().tool(\"inro.emme.data.matrix.create_matrix\")\n",
    "matrix_calculator = m.Modeller().tool(\"inro.emme.matrix_calculation.matrix_calculator\")\n",
    "eb = mm.emmebank"
   ]
  },
  {
   "cell_type": "code",
   "execution_count": 2,
   "metadata": {
    "collapsed": true,
    "show_input": true
   },
   "outputs": [],
   "source": [
    "scen_bau = 404"
   ]
  },
  {
   "cell_type": "code",
   "execution_count": 3,
   "metadata": {
    "collapsed": true,
    "show_input": true
   },
   "outputs": [],
   "source": [
    "### IMPORT ALL MATRICES IN SUBFOLDERS ###\n",
    "def clear_matrices(emmebank, exception_array = [\"\"], type = \"FULL\"):\n",
    "    for matrix in emmebank.matrices():\n",
    "        if matrix.type == type:\n",
    "            if matrix.id not in exception_array:\n",
    "                emmebank.delete_matrix(matrix.id)\n",
    "def import_matrices_from_directory(matrix_folder, matrix_list, extension, scenario):\n",
    "    #imports all matrices in directory and subfolders of the specified extension type\n",
    "    #matrix_list should be in the format:\n",
    "    #   {file_name1: matrix_num1, file_name2: matrix_num2, ...}\n",
    "    import os\n",
    "\n",
    "    for root, dirs, files in os.walk(matrix_folder):\n",
    "        for matrix_file in files:\n",
    "            if matrix_file.endswith(extension):\n",
    "                name = os.path.splitext(matrix_file)[0]\n",
    "                if name in matrix_list:\n",
    "                    matrix_number = int(matrix_list[name][2:])\n",
    "                    import_matrices(4, matrix_number ,os.path.join(root, matrix_file),scenario, name.replace(\"skim.\",\"\").replace(\"transit.\",\"\").replace(\"peak\",\"pk\").replace(\" \",\"_\") )\n",
    "                    print \"Imported matrix \" + matrix_list[name]\n",
    "                    change_matrix(matrix = matrix_list[name],\n",
    "                        matrix_name = name.replace(\"skim.\",\"\").replace(\"transit.\",\"\").replace(\"peak\",\"pk\").replace(\" \",\"_\")[:40],\n",
    "                        matrix_description = name)\n",
    "    \n",
    "    #check\n",
    "    for name in matrix_list:\n",
    "        if eb.matrix(matrix_list[name]): \n",
    "            n_matrix = eb.matrix(matrix_list[name]).get_numpy_data(scenario)\n",
    "            if n_matrix.sum() == 0 :\n",
    "                print \"Matrix %s was not imported, or contains no values!\" % name\n",
    "        else:\n",
    "            print \"Matrix %s was not imported!\" % name\n",
    "    print \"Finished Importing Matrices\""
   ]
  },
  {
   "cell_type": "code",
   "execution_count": 4,
   "metadata": {
    "collapsed": false,
    "show_input": true
   },
   "outputs": [
    {
     "name": "stdout",
     "output_type": "stream",
     "text": [
      "am_light_2051_20191227\n",
      "ev_heavy_2051_20191227\n",
      "md_medium_2051_20191227\n",
      "pm_light_2051_20191227\n",
      "ev_light_2051_20191227\n",
      "dn_medium_2051_20191227\n",
      "pm_medium_2051_20191227\n",
      "pm_heavy_2051_20191227\n",
      "md_light_2051_20191227\n",
      "dn_light_2051_20191227\n",
      "am_medium_2051_20191227\n",
      "ev_medium_2051_20191227\n",
      "am_heavy_2051_20191227\n",
      "md_heavy_2051_20191227\n",
      "dn_heavy_2051_20191227\n",
      "Imported matrix mf13\n",
      "Imported matrix mf1\n",
      "Imported matrix mf11\n",
      "Imported matrix mf15\n",
      "Imported matrix mf10\n",
      "Imported matrix mf6\n",
      "Imported matrix mf2\n",
      "Imported matrix mf5\n",
      "Imported matrix mf12\n",
      "Imported matrix mf14\n",
      "Imported matrix mf9\n",
      "Imported matrix mf3\n",
      "Imported matrix mf8\n",
      "Imported matrix mf4\n",
      "Imported matrix mf7\n",
      "Finished Importing Matrices\n"
     ]
    }
   ],
   "source": [
    "#Truck matrices\n",
    "#Truck matrices\n",
    "truck_l_demand_am = \"am_light_2051_20191227\"\n",
    "truck_m_demand_am = \"am_medium_2051_20191227\"\n",
    "truck_h_demand_am = \"am_heavy_2051_20191227\"\n",
    "truck_l_demand_md = \"md_light_2051_20191227\"\n",
    "truck_m_demand_md = \"md_medium_2051_20191227\"\n",
    "truck_h_demand_md = \"md_heavy_2051_20191227\"\n",
    "truck_l_demand_pm = \"pm_light_2051_20191227\"\n",
    "truck_m_demand_pm = \"pm_medium_2051_20191227\"\n",
    "truck_h_demand_pm = \"pm_heavy_2051_20191227\"\n",
    "truck_l_demand_ev = \"ev_light_2051_20191227\"\n",
    "truck_m_demand_ev = \"ev_medium_2051_20191227\"\n",
    "truck_h_demand_ev = \"ev_heavy_2051_20191227\"\n",
    "truck_l_demand_dn = \"dn_light_2051_20191227\"\n",
    "truck_m_demand_dn = \"dn_medium_2051_20191227\"\n",
    "truck_h_demand_dn = \"dn_heavy_2051_20191227\"\n",
    "\n",
    "truck_folder = r\"\\\\tore-infs01\\PWExternal\\451010\\281829_GGH\\GGHM Runs\\2051\\Long List\\BAU\\MTO_2051_GGH_MTP_5002_V106A3_HS032_20200117\\Assignable matrices\"\n",
    "\n",
    "truck_list = {truck_h_demand_am: '',\n",
    "            truck_l_demand_am: '',\n",
    "            truck_m_demand_am: '',\n",
    "            truck_h_demand_md: '',\n",
    "            truck_l_demand_md: '',\n",
    "            truck_m_demand_md: '',\n",
    "            truck_h_demand_pm: '',\n",
    "            truck_l_demand_pm: '',\n",
    "            truck_m_demand_pm: '',\n",
    "            truck_h_demand_ev: '',\n",
    "            truck_l_demand_ev: '',\n",
    "            truck_m_demand_ev: '',\n",
    "            truck_h_demand_dn: '',\n",
    "            truck_l_demand_dn: '',\n",
    "            truck_m_demand_dn: '',}\n",
    "\n",
    "for matrix_name in truck_list.keys():\n",
    "    truck_list[matrix_name] = eb.available_matrix_identifier('FULL')\n",
    "    print matrix_name\n",
    "    create_matrix(matrix_id = truck_list[matrix_name],\n",
    "                  matrix_name= matrix_name.replace(\"skim.\",\"\").replace(\"transit.\",\"\").replace(\"peak\",\"pk\").replace(\" \",\"_\").strip()[:40],\n",
    "                  matrix_description = matrix_name)\n",
    "\n",
    "import_matrices_from_directory(truck_folder, truck_list, \".mdf\",401) "
   ]
  },
  {
   "cell_type": "code",
   "execution_count": 5,
   "metadata": {
    "collapsed": false,
    "show_input": true
   },
   "outputs": [
    {
     "name": "stdout",
     "output_type": "stream",
     "text": [
      "Finished calculating truck demand\n"
     ]
    }
   ],
   "source": [
    "# Light Trucks - PEAK\n",
    "light_pkdem_truck = eb.available_matrix_identifier('FULL')\n",
    "create_matrix(matrix_id = light_pkdem_truck,\n",
    "              matrix_name=\"trips.peak.truck.light\",\n",
    "            matrix_description = \"trips.peak.truck.light\")\n",
    "exp = \"({} + {})\".format(truck_list[truck_l_demand_am],truck_list[truck_l_demand_pm])\n",
    "spec = {\n",
    "    \"type\": \"MATRIX_CALCULATION\",\n",
    "    \"result\": light_pkdem_truck,\n",
    "    \"expression\": exp\n",
    "}\n",
    "matrix_calculator(spec)\n",
    "\n",
    "# Medium Trucks - PEAK\n",
    "med_pkdem_truck = eb.available_matrix_identifier('FULL')\n",
    "create_matrix(matrix_id = med_pkdem_truck,\n",
    "              matrix_name=\"trips.peak.truck.medium\",\n",
    "            matrix_description = \"trips.peak.truck.medium\")\n",
    "\n",
    "exp = \"({} + {})\".format(truck_list[truck_m_demand_am],truck_list[truck_m_demand_pm])\n",
    "spec = {\n",
    "    \"type\": \"MATRIX_CALCULATION\",\n",
    "    \"result\": med_pkdem_truck,\n",
    "    \"expression\": exp\n",
    "}\n",
    "matrix_calculator(spec)\n",
    "\n",
    "# Heavy Trucks - PEAK\n",
    "heavy_pkdem_truck = eb.available_matrix_identifier('FULL')\n",
    "create_matrix(matrix_id = heavy_pkdem_truck,\n",
    "              matrix_name=\"trips.peak.truck.heavy\",\n",
    "            matrix_description = \"trips.peak.truck.heavy\")\n",
    "\n",
    "exp = \"({} + {})\".format(truck_list[truck_h_demand_am],truck_list[truck_h_demand_pm])\n",
    "spec = {\n",
    "    \"type\": \"MATRIX_CALCULATION\",\n",
    "    \"result\": heavy_pkdem_truck,\n",
    "    \"expression\": exp\n",
    "}\n",
    "matrix_calculator(spec)\n",
    "\n",
    "# Light Trucks - OFFPEAK\n",
    "light_offpkdem_truck = eb.available_matrix_identifier('FULL')\n",
    "create_matrix(matrix_id = light_offpkdem_truck,\n",
    "              matrix_name=\"trips.offpeak.truck.light\",\n",
    "            matrix_description = \"trips.offpeak.truck.light\")\n",
    "exp = \"({} + {} + {})\".format(truck_list[truck_l_demand_md],truck_list[truck_l_demand_ev], truck_list[truck_l_demand_dn])\n",
    "spec = {\n",
    "    \"type\": \"MATRIX_CALCULATION\",\n",
    "    \"result\": light_offpkdem_truck,\n",
    "    \"expression\": exp\n",
    "}\n",
    "matrix_calculator(spec)\n",
    "\n",
    "# Medium Trucks - OFFPEAK\n",
    "med_offpkdem_truck = eb.available_matrix_identifier('FULL')\n",
    "create_matrix(matrix_id = med_offpkdem_truck,\n",
    "              matrix_name=\"trips.offpeak.truck.medium\",\n",
    "            matrix_description = \"trips.offpeak.truck.medium\")\n",
    "\n",
    "exp = \"({} + {} + {})\".format(truck_list[truck_l_demand_md],truck_list[truck_l_demand_ev], truck_list[truck_l_demand_dn])\n",
    "spec = {\n",
    "    \"type\": \"MATRIX_CALCULATION\",\n",
    "    \"result\": med_offpkdem_truck,\n",
    "    \"expression\": exp\n",
    "}\n",
    "matrix_calculator(spec)\n",
    "\n",
    "# Heavy Trucks - OFFPEAK\n",
    "heavy_offpkdem_truck = eb.available_matrix_identifier('FULL')\n",
    "create_matrix(matrix_id = heavy_offpkdem_truck,\n",
    "              matrix_name=\"trips.offpeak.truck.heavy\",\n",
    "            matrix_description = \"trips.offpeak.truck.heavy\")\n",
    "\n",
    "exp = \"({} + {} + {})\".format(truck_list[truck_l_demand_md],truck_list[truck_l_demand_ev], truck_list[truck_l_demand_dn])\n",
    "spec = {\n",
    "    \"type\": \"MATRIX_CALCULATION\",\n",
    "    \"result\": heavy_offpkdem_truck,\n",
    "    \"expression\": exp\n",
    "}\n",
    "\n",
    "matrix_calculator(spec)\n",
    "\n",
    "print \"Finished calculating truck demand\""
   ]
  },
  {
   "cell_type": "code",
   "execution_count": 7,
   "metadata": {
    "collapsed": false,
    "show_input": true
   },
   "outputs": [
    {
     "data": {
      "text/plain": [
       "{'average': 0.068694,\n",
       " 'expression_type': 'FULL',\n",
       " 'maximum': 125.183357,\n",
       " 'maximum_at': {'destination': 4079, 'origin': 4111},\n",
       " 'minimum': 0.0,\n",
       " 'minimum_at': {'destination': 1001, 'origin': 1001},\n",
       " 'num_evaluations': 12327121,\n",
       " 'result_type': 'FULL',\n",
       " 'sum': 846798.8125}"
      ]
     },
     "execution_count": 7,
     "metadata": {},
     "output_type": "execute_result"
    }
   ],
   "source": [
    "# Total Demand\n",
    "dem_trck = eb.available_matrix_identifier('FULL')\n",
    "create_matrix(matrix_id =dem_trck,\n",
    "              matrix_name=\"trips.total\",\n",
    "            matrix_description = \"trips.total\")\n",
    "\n",
    "exp = light_pkdem_truck + \"+\" + med_pkdem_truck + \"+\" + light_pkdem_truck + \"+\" + \\\n",
    "      light_offpkdem_truck + \"+\" + med_offpkdem_truck + \"+\" + light_offpkdem_truck\n",
    "\n",
    "spec = {\n",
    "    \"type\": \"MATRIX_CALCULATION\",\n",
    "    \"result\": dem_trck,\n",
    "    \"expression\": exp\n",
    "}\n",
    "matrix_calculator(spec)"
   ]
  },
  {
   "cell_type": "code",
   "execution_count": 8,
   "metadata": {
    "collapsed": true,
    "show_input": true
   },
   "outputs": [],
   "source": [
    "indices = eb.matrix(dem_trck).get_data(scen_bau).indices\n",
    "mat_np = eb.matrix(dem_trck).get_numpy_data(scen_bau)\n",
    "df_full = pd.DataFrame(mat_np,indices[0],indices[1]).stack().reset_index().rename(columns = {\"level_0\": \"O\",\n",
    "                                                                                           \"level_1\": \"D\",\n",
    "                                                                                          0: \"dem_trck\"})"
   ]
  },
  {
   "cell_type": "code",
   "execution_count": 10,
   "metadata": {
    "collapsed": false,
    "show_input": true
   },
   "outputs": [
    {
     "data": {
      "text/plain": [
       "Index([u'O', u'D', u'dem_trck'], dtype='object')"
      ]
     },
     "execution_count": 10,
     "metadata": {},
     "output_type": "execute_result"
    }
   ],
   "source": [
    "df_full.columns"
   ]
  },
  {
   "cell_type": "code",
   "execution_count": 20,
   "metadata": {
    "collapsed": true,
    "show_input": true
   },
   "outputs": [],
   "source": [
    "pth = r\"C:\\Users\\PECHEN\\Documents\\Sketch Modelling\"\n",
    "megazones_df = pd.read_csv(os.path.join(pth,\"TAZ_SketchModelZones_20201110.csv\"))\n",
    "df_int_ext = df_full[((df_full.O <= 9423) & (df_full.D <= 9423))]\n",
    "df_int_ext = df_int_ext.merge(megazones_df, left_on = \"O\", right_on = \"TAZ\").drop(labels = \"TAZ\",axis = 1).rename(columns = {\"Megazone\": \"Megazone_O\"})\n",
    "df_int_ext = df_int_ext.merge(megazones_df, left_on = \"D\", right_on = \"TAZ\").drop(labels = \"TAZ\",axis = 1).rename(columns = {\"Megazone\": \"Megazone_D\"})"
   ]
  },
  {
   "cell_type": "code",
   "execution_count": 21,
   "metadata": {
    "collapsed": false,
    "show_input": true
   },
   "outputs": [
    {
     "data": {
      "text/plain": [
       "Index([u'O', u'D', u'dem_trck', u'Megazone_O', u'Megazone_D'], dtype='object')"
      ]
     },
     "execution_count": 21,
     "metadata": {},
     "output_type": "execute_result"
    }
   ],
   "source": [
    "df_int_ext.columns"
   ]
  },
  {
   "cell_type": "code",
   "execution_count": 22,
   "metadata": {
    "collapsed": true,
    "show_input": true
   },
   "outputs": [],
   "source": [
    "megazone_df = pd.pivot_table(df_int_ext,values = \"dem_trck\", index = [\"Megazone_O\",\"Megazone_D\"],aggfunc = sum).reset_index()"
   ]
  },
  {
   "cell_type": "code",
   "execution_count": 23,
   "metadata": {
    "collapsed": false
   },
   "outputs": [],
   "source": [
    "df_full.to_csv(os.path.join(pth,\"Test.csv\"))"
   ]
  },
  {
   "cell_type": "code",
   "execution_count": 24,
   "metadata": {
    "collapsed": false,
    "show_input": true
   },
   "outputs": [
    {
     "data": {
      "text/plain": [
       "5369.5707772245951"
      ]
     },
     "execution_count": 24,
     "metadata": {},
     "output_type": "execute_result"
    }
   ],
   "source": [
    "megazone_df[(megazone_df.Megazone_O == \"Extl West\") | (megazone_df.Megazone_O == \"Extl North\") | (megazone_df.Megazone_O == \"Extl South\")| (megazone_df.Megazone_O == \"Extl East\")|(megazone_df.Megazone_D == \"Extl West\") | (megazone_df.Megazone_D == \"Extl North\") | (megazone_df.Megazone_D == \"Extl South\")| (megazone_df.Megazone_D == \"Extl East\")][\"dem_trck\"].sum()"
   ]
  },
  {
   "cell_type": "code",
   "execution_count": 25,
   "metadata": {
    "collapsed": true,
    "show_input": true
   },
   "outputs": [],
   "source": [
    "megazone_df[(megazone_df.Megazone_O == \"Extl West\") | (megazone_df.Megazone_O == \"Extl North\") | (megazone_df.Megazone_O == \"Extl South\")| (megazone_df.Megazone_O == \"Extl East\")|(megazone_df.Megazone_D == \"Extl West\") | (megazone_df.Megazone_D == \"Extl North\") | (megazone_df.Megazone_D == \"Extl South\")| (megazone_df.Megazone_D == \"Extl East\")].to_csv(os.path.join(pth,\"Megazone_TrckExternal_OD_2051BAU_20210129.csv\"))"
   ]
  },
  {
   "cell_type": "code",
   "execution_count": 26,
   "metadata": {
    "collapsed": true
   },
   "outputs": [],
   "source": [
    "megazone_df = megazone_df.pivot(index=\"Megazone_O\", columns=\"Megazone_D\", values = \"dem_trck\")\n"
   ]
  },
  {
   "cell_type": "code",
   "execution_count": 29,
   "metadata": {
    "collapsed": false
   },
   "outputs": [],
   "source": [
    "megazone_df.to_csv(os.path.join(pth,\"TESttt.csv\"))"
   ]
  }
 ],
 "metadata": {
  "kernelspec": {
   "display_name": "Python 2",
   "language": "python",
   "name": "python2"
  },
  "language_info": {
   "codemirror_mode": {
    "name": "ipython",
    "version": 2
   },
   "file_extension": ".py",
   "mimetype": "text/x-python",
   "name": "python",
   "nbconvert_exporter": "python",
   "pygments_lexer": "ipython2",
   "version": "2.7.14"
  }
 },
 "nbformat": 4,
 "nbformat_minor": 0
}
