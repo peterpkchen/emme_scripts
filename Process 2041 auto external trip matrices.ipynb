{
 "cells": [
  {
   "cell_type": "markdown",
   "metadata": {},
   "source": [
    "# Import libraries"
   ]
  },
  {
   "cell_type": "code",
   "execution_count": 1,
   "metadata": {
    "collapsed": true,
    "show_input": true
   },
   "outputs": [],
   "source": [
    "#---------------------------------------------------------------------------------------------------------------\n",
    "#IMPORT LIBRARIES\n",
    "\n",
    "\n",
    "import os\n",
    "import inro.emme.desktop.app as _app #import inro.emme.desktop as _app\n",
    "import inro.modeller as m\n"
   ]
  },
  {
   "cell_type": "markdown",
   "metadata": {},
   "source": [
    "# Initialize Modeller & emmebank objects"
   ]
  },
  {
   "cell_type": "code",
   "execution_count": 2,
   "metadata": {
    "collapsed": true,
    "show_input": true
   },
   "outputs": [],
   "source": [
    "#Initialize modeller and emme.database\n",
    "mm = m.Modeller()\n",
    "from inro.emme.matrix import MatrixData\n",
    "eb = mm.emmebank\n"
   ]
  },
  {
   "cell_type": "markdown",
   "metadata": {},
   "source": [
    "# Load trip matrices from output folder"
   ]
  },
  {
   "cell_type": "code",
   "execution_count": 7,
   "metadata": {
    "collapsed": false,
    "show_input": true
   },
   "outputs": [],
   "source": [
    "#launch matrix butler to export selected trip matrices to the emmebank\n",
    "#matrix_list provides the list of matrices to be exported\n",
    "#[[number,\"mf id\", 'name of matrix']]\n",
    "\n",
    "\n",
    "\n",
    "\n",
    "ext_mat_list=[[1,'mf01',\"am_external_hr.mdf\",'2011_am_external_hr','mf06',\"mf06\",\"mf01*(1+0.02)^21\",'2041_am_external_hr'],\n",
    "                [2,'mf02',\"dn_external_hr.mdf\",'2011_dn_external_hr','mf07',\"mf07\",\"mf02*(1+0.02)^21\",'2041_dn_external_hr'],\n",
    "                [3,'mf03',\"ev_external_hr.mdf\",'2011_ev_external_hr','mf08',\"mf08\",\"mf03*(1+0.02)^21\",'2041_ev_external_hr'],\n",
    "                [4,'mf04',\"md_external_hr.mdf\",'2011_md_external_hr','mf09',\"mf09\",\"mf04*(1+0.02)^21\",'2041_md_external_hr'],\n",
    "                [5,'mf05',\"pm_external_hr.mdf\",'2011_pm_external_hr','mf10',\"mf10\",\"mf05*(1+0.02)^21\",'2041_pm_external_hr']]\n",
    "                \n",
    "\n",
    "# UPDATE THE BENCHMARK PATH         \n",
    "input_path = \"F:\\\\GGHM v4 Databanks\\\\Prototype GGHM4\\\\Inputs\\\\Base - 2011\\\\Externals\\\\\"\n",
    "save_path = \"F:\\\\GGHM v4 Databanks\\\\Prototype GGHM4\\\\Inputs\\\\Base - 2041 test\\\\Externals\\\\\"\n",
    "scen_in = 101\n",
    "scen_out = 4100\n",
    "\n",
    "\n",
    "#load auto & transit matrices and update matrices names\n",
    "for mat in ext_mat_list:\n",
    "    \n",
    "    matrix_filename = os.path.join(input_path,mat[2]) #save matrix file name into a variable\n",
    "    md = MatrixData.load(matrix_filename)                 #load matrix from file\n",
    "    \n",
    "    if eb.matrix(mat[1]) is None: #Check if the matrix exists; if not, create it\n",
    "        NAMESPACE = \"inro.emme.data.matrix.create_matrix\"\n",
    "        create_matrix = mm.tool(NAMESPACE)\n",
    "        new_mat = create_matrix(matrix_id=mat[1],\n",
    "                        matrix_name=mat[3],\n",
    "                        matrix_description=mat[3],\n",
    "                        default_value=0)\n",
    "        matrix = eb.matrix(mat[1])\n",
    "        matrix.name = mat[3] #update matrix name\n",
    "        matrix.description = mat[3] #update matrix description\n",
    "        matrix.set_data(md,scenario_id=scen_in) #set matrix values into mf'x'\n",
    "    else:\n",
    "        matrix = eb.matrix(mat[1])\n",
    "        matrix.name = mat[3] #update matrix name\n",
    "        matrix.description = mat[3] #update matrix description\n",
    "        matrix.set_data(md,scenario_id = scen_in) #set matrix values into mf'x'\n",
    "        \n",
    "#load auto & transit matrices and update matrices names\n",
    "for mat in ext_mat_list:\n",
    "    \n",
    "    if eb.matrix(mat[4]) is None: #Check if the matrix exists; if not, create it\n",
    "        NAMESPACE = \"inro.emme.data.matrix.create_matrix\"\n",
    "        create_matrix = mm.tool(NAMESPACE)\n",
    "        new_mat = create_matrix(matrix_id=mat[4],\n",
    "                        matrix_name=mat[6],\n",
    "                        matrix_description=mat[6],\n",
    "                        default_value=0)\n",
    "        NAMESPACE2 = \"inro.emme.matrix_calculation.matrix_calculator\"\n",
    "        compute_matrix = mm.tool(NAMESPACE2)\n",
    "        specification = {\n",
    "    \"type\": \"MATRIX_CALCULATION\",\n",
    "    \"result\": mat[5],\n",
    "    \"expression\": mat[6],\n",
    "    \"constraint\": {\n",
    "\t\t\"by_zone\": None,\n",
    "\t\t\"by_value\": None,\n",
    "\t}\n",
    "}\n",
    "        report = compute_matrix(specification)\n",
    "\n",
    "    else:\n",
    "        matrix = eb.matrix(mat[4])\n",
    "        matrix.name = mat[7] #update matrix name\n",
    "        matrix.description = mat[7] #update matrix description\n",
    "        \n",
    "        NAMESPACE2 = \"inro.emme.matrix_calculation.matrix_calculator\"\n",
    "        compute_matrix = mm.tool(NAMESPACE2)\n",
    "        specification = {\n",
    "    \"type\": \"MATRIX_CALCULATION\",\n",
    "    \"result\": mat[5],\n",
    "    \"expression\": mat[6],\n",
    "    \"constraint\": {\n",
    "\t\t\"by_zone\": None,\n",
    "\t\t\"by_value\": None,\n",
    "\t}\n",
    "}\n",
    "        report = compute_matrix(specification)\n",
    "    \n",
    "    \n",
    "    #export matrix to mdf file\n",
    "    Export_Filename = os.path.join(save_path,mat[7]+\".mdf\")\n",
    "    matrix_data = eb.matrix(mat[5]).get_data(scen_out)\n",
    "    matrix_data.save(Export_Filename)\n",
    "        "
   ]
  },
  {
   "cell_type": "markdown",
   "metadata": {},
   "source": [
    "# Export trip matrices to *.csv files for SPD partition"
   ]
  },
  {
   "cell_type": "code",
   "execution_count": 14,
   "metadata": {
    "collapsed": false,
    "show_input": true
   },
   "outputs": [
    {
     "name": "stdout",
     "output_type": "stream",
     "text": [
      "GGHM External matrices exported successfully\n"
     ]
    }
   ],
   "source": [
    "#EXPORT DEMAND MATRICES INTO EXCEL FILES \n",
    "    # demand is aggregated to the 'gg' ensemble \n",
    "    # square table formats\n",
    "    \n",
    "#---------------------------------------------------------------------------------------------------------------\n",
    "# Export auto demand matrices in aggregated to a 'gg' ensemble - AM, midday, PM, evening & overnight\n",
    "NAMESPACE = \"inro.emme.data.matrix.export_matrices\"\n",
    "export_matrices = m.Modeller().tool(NAMESPACE)\n",
    "\n",
    "base_scenario = mm.emmebank.scenario(scen_in)\n",
    "matrices_file = os.path.join(save_path,\"2011_external_auto_matrices.csv\")\n",
    "export_matrices(matrices=[\"mf01\",\"mf02\",\"mf03\",\"mf04\",\"mf05\"],\n",
    "                export_file=matrices_file,\n",
    "                partition_aggregation = {'operator': 'sum', 'origins': u'gs', 'destinations': u'gs'},\n",
    "                field_separator=',',\n",
    "                export_format=\"PROMPT_DATA_FORMAT\",\n",
    "                skip_default_values=True,\n",
    "                full_matrix_line_format=\"SQUARE\",\n",
    "                scenario = base_scenario)\n",
    "\n",
    "base_scenario = mm.emmebank.scenario(scen_out)\n",
    "matrices_file = os.path.join(save_path,\"2041_external_auto_matrices.csv\")\n",
    "export_matrices(matrices=[\"mf06\",\"mf07\",\"mf08\",\"mf09\",\"mf10\"],\n",
    "                export_file=matrices_file,\n",
    "                partition_aggregation = {'operator': 'sum', 'origins': u'gs', 'destinations': u'gs'},\n",
    "                field_separator=',',\n",
    "                export_format=\"PROMPT_DATA_FORMAT\",\n",
    "                skip_default_values=True,\n",
    "                full_matrix_line_format=\"SQUARE\",\n",
    "                scenario = base_scenario)\n",
    "\n",
    "print \"GGHM External matrices exported successfully\""
   ]
  },
  {
   "cell_type": "code",
   "execution_count": null,
   "metadata": {
    "collapsed": true,
    "show_input": true
   },
   "outputs": [],
   "source": []
  }
 ],
 "metadata": {
  "kernelspec": {
   "display_name": "Python 2",
   "language": "python",
   "name": "python2"
  },
  "language_info": {
   "codemirror_mode": {
    "name": "ipython",
    "version": 2
   },
   "file_extension": ".py",
   "mimetype": "text/x-python",
   "name": "python",
   "nbconvert_exporter": "python",
   "pygments_lexer": "ipython2",
   "version": "2.7.9"
  }
 },
 "nbformat": 4,
 "nbformat_minor": 0
}
