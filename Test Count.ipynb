{
 "cells": [
  {
   "cell_type": "code",
   "execution_count": 27,
   "metadata": {},
   "outputs": [],
   "source": [
    "import os\n",
    "import pandas as pd\n",
    "import numpy as np\n",
    "## Persons File Location\n",
    "pth = r\"C:\\Users\\pechen\\Desktop\\LUProcessing\\VTMP_SynthLU\"\n",
    "old_pth = r\"C:\\Users\\pechen\\Desktop\\LUProcessing\\oldLU\"\n",
    "## Persons\n",
    "pop_df = pd.read_csv(os.path.join(pth,\"HouseholdData\",\"Persons.csv\"))\n",
    "oldpop_df = pd.read_csv(os.path.join(old_pth,\"HouseholdData\",\"Persons.csv\"))"
   ]
  },
  {
   "cell_type": "code",
   "execution_count": 37,
   "metadata": {},
   "outputs": [
    {
     "name": "stdout",
     "output_type": "stream",
     "text": [
      "HouseholdId         98000\n",
      "PersonNumber        98000\n",
      "Age                 98000\n",
      "Sex                 98000\n",
      "License             98000\n",
      "TransitPass         98000\n",
      "EmploymentStatus    98000\n",
      "Occupation          98000\n",
      "FreeParking         98000\n",
      "StudentStatus       98000\n",
      "EmploymentZone      98000\n",
      "SchoolZone          98000\n",
      "ExpansionFactor     98000\n",
      "dtype: int64\n"
     ]
    }
   ],
   "source": [
    "subset_df = pop_df[(pop_df[\"EmploymentZone\"] >= 2152) & (pop_df[\"EmploymentZone\"] <= 2339)]\n",
    "column_count = subset_df.count()\n",
    "print(column_count)"
   ]
  },
  {
   "cell_type": "code",
   "execution_count": 32,
   "metadata": {},
   "outputs": [
    {
     "name": "stdout",
     "output_type": "stream",
     "text": [
      "HouseholdId         106106\n",
      "PersonNumber        106106\n",
      "Age                 106106\n",
      "Sex                 106106\n",
      "License             106106\n",
      "TransitPass         106106\n",
      "EmploymentStatus    106106\n",
      "Occupation          106106\n",
      "FreeParking         106106\n",
      "StudentStatus       106106\n",
      "EmploymentZone      106106\n",
      "SchoolZone          106106\n",
      "ExpansionFactor     106106\n",
      "dtype: int64\n"
     ]
    }
   ],
   "source": [
    "oldsubset_df = oldpop_df[(oldpop_df[\"EmploymentZone\"] >= 2152) & (oldpop_df[\"EmploymentZone\"] <= 2339)]\n",
    "oldcolumn_count = oldsubset_df.count()\n",
    "print(oldcolumn_count)"
   ]
  },
  {
   "cell_type": "code",
   "execution_count": null,
   "metadata": {},
   "outputs": [],
   "source": []
  }
 ],
 "metadata": {
  "kernelspec": {
   "display_name": "Python 3",
   "language": "python",
   "name": "python3"
  },
  "language_info": {
   "codemirror_mode": {
    "name": "ipython",
    "version": 3
   },
   "file_extension": ".py",
   "mimetype": "text/x-python",
   "name": "python",
   "nbconvert_exporter": "python",
   "pygments_lexer": "ipython3",
   "version": "3.6.10"
  }
 },
 "nbformat": 4,
 "nbformat_minor": 4
}
