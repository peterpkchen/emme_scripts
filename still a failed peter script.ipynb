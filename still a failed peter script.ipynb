{
 "cells": [
  {
   "cell_type": "code",
   "execution_count": 1,
   "metadata": {
    "show_input": true
   },
   "outputs": [],
   "source": [
    "import os\n",
    "import pandas as pd\n",
    "import inro.modeller as m\n",
    "import inro.emme.database.emmebank as eb\n",
    "mm = m.Modeller()\n",
    "desktop = mm.desktop\n",
    "\n",
    "k_list = []\n",
    "m_list = []"
   ]
  },
  {
   "cell_type": "code",
   "execution_count": 17,
   "metadata": {
    "scrolled": false,
    "show_input": true
   },
   "outputs": [
    {
     "ename": "ExistenceError",
     "evalue": "Scenario does not exist: 3",
     "output_type": "error",
     "traceback": [
      "\u001b[1;31m---------------------------------------------------------------------------\u001b[0m",
      "\u001b[1;31mExistenceError\u001b[0m                            Traceback (most recent call last)",
      "\u001b[1;32m<ipython-input-17-c92e16e630c5>\u001b[0m in \u001b[0;36m<module>\u001b[1;34m()\u001b[0m\n\u001b[0;32m     27\u001b[0m \u001b[1;31m#                 emmebank.copy_scenario(k_list[m], m_list[m] + 100, copy_path_files = True, copy_strat_files = True, copy_db_files = True)\u001b[0m\u001b[1;33m\u001b[0m\u001b[1;33m\u001b[0m\u001b[0m\n\u001b[0;32m     28\u001b[0m \u001b[1;33m\u001b[0m\u001b[0m\n\u001b[1;32m---> 29\u001b[1;33m         \u001b[0meb\u001b[0m\u001b[1;33m.\u001b[0m\u001b[0mEmmebank\u001b[0m\u001b[1;33m(\u001b[0m\u001b[1;34m\"C:\\Users\\pechen\\Desktop\\Highway 697\\Subarea_ASET_{}\\{}{}\\emmebank\"\u001b[0m\u001b[1;33m.\u001b[0m\u001b[0mformat\u001b[0m\u001b[1;33m(\u001b[0m\u001b[0mi\u001b[0m\u001b[1;33m,\u001b[0m \u001b[0mi\u001b[0m\u001b[1;33m,\u001b[0m \u001b[0mperiod\u001b[0m\u001b[1;33m[\u001b[0m\u001b[0mj\u001b[0m\u001b[1;33m]\u001b[0m\u001b[1;33m)\u001b[0m\u001b[1;33m)\u001b[0m\u001b[1;33m.\u001b[0m\u001b[0mcopy_scenario\u001b[0m\u001b[1;33m(\u001b[0m\u001b[0mk_list\u001b[0m\u001b[1;33m[\u001b[0m\u001b[0mm\u001b[0m\u001b[1;33m]\u001b[0m\u001b[1;33m,\u001b[0m \u001b[0mm_list\u001b[0m\u001b[1;33m[\u001b[0m\u001b[0mj\u001b[0m\u001b[1;33m]\u001b[0m \u001b[1;33m+\u001b[0m \u001b[1;36m101\u001b[0m\u001b[1;33m,\u001b[0m \u001b[0mcopy_path_files\u001b[0m \u001b[1;33m=\u001b[0m \u001b[0mTrue\u001b[0m\u001b[1;33m,\u001b[0m \u001b[0mcopy_strat_files\u001b[0m \u001b[1;33m=\u001b[0m \u001b[0mTrue\u001b[0m\u001b[1;33m,\u001b[0m \u001b[0mcopy_db_files\u001b[0m \u001b[1;33m=\u001b[0m \u001b[0mTrue\u001b[0m\u001b[1;33m)\u001b[0m\u001b[1;33m\u001b[0m\u001b[0m\n\u001b[0m\u001b[0;32m     30\u001b[0m         \u001b[0meb\u001b[0m\u001b[1;33m.\u001b[0m\u001b[0mEmmebank\u001b[0m\u001b[1;33m(\u001b[0m\u001b[1;34m\"C:\\Users\\pechen\\Desktop\\Highway 697\\Subarea_ASET_{}\\{}{}\\emmebank\"\u001b[0m\u001b[1;33m.\u001b[0m\u001b[0mformat\u001b[0m\u001b[1;33m(\u001b[0m\u001b[0mi\u001b[0m\u001b[1;33m,\u001b[0m \u001b[0mi\u001b[0m\u001b[1;33m,\u001b[0m \u001b[0mperiod\u001b[0m\u001b[1;33m[\u001b[0m\u001b[0mj\u001b[0m\u001b[1;33m]\u001b[0m\u001b[1;33m)\u001b[0m\u001b[1;33m)\u001b[0m\u001b[1;33m.\u001b[0m\u001b[0mdispose\u001b[0m\u001b[1;33m(\u001b[0m\u001b[1;33m)\u001b[0m\u001b[1;33m\u001b[0m\u001b[0m\n\u001b[0;32m     31\u001b[0m \u001b[1;33m\u001b[0m\u001b[0m\n",
      "\u001b[1;32mc:\\program files\\inro\\emme\\emme 4\\emme-4.4.4.2\\python27\\lib\\site-packages\\inro_emme\\inro\\emme\\database\\emmebank.pyc\u001b[0m in \u001b[0;36mcopy_scenario\u001b[1;34m(self, source_id, destination_id, copy_path_files, copy_strat_files, copy_db_files)\u001b[0m\n",
      "\u001b[1;32mc:\\program files\\inro\\emme\\emme 4\\emme-4.4.4.2\\python27\\lib\\site-packages\\inro_emme\\inro\\emme\\database\\emmebank.pyc\u001b[0m in \u001b[0;36m_validate_scenario_id\u001b[1;34m(self, id, existing)\u001b[0m\n",
      "\u001b[1;31mExistenceError\u001b[0m: Scenario does not exist: 3"
     ]
    }
   ],
   "source": [
    "year = ['2016', '2029', '2039', '2049']\n",
    "period = ['AM', 'MD', 'PM', 'EV', 'NT']\n",
    "processed_dir = r\"C:\\Users\\pechen\\Desktop\\Highway 697\\csvs\"\n",
    "root_ws_folder = desktop.root_worksheet_folder()\n",
    "import_fromdb = mm.tool('inro.emme.data.database.import_from_database')\n",
    "\n",
    "k_list = []\n",
    "m_list = []\n",
    "\n",
    "for i in year:\n",
    "    for j in period:\n",
    "        for k in eb.Emmebank(\"C:\\Users\\pechen\\Desktop\\Highway 697\\Subarea_ASET_{}\\{}{}\\emmebank\".format(i, i, j)).scenarios():\n",
    "            k_list.append(int(k))\n",
    "            print(i,j,k)\n",
    "            \n",
    "m_list = range(len(k_list))\n",
    "\n",
    "\n",
    "for i in year:\n",
    "    for j in range(len(period)):\n",
    "        p = '{}{}'.format(i, period[j])\n",
    "        print(p, k_list[j])\n",
    "\n",
    "#             # Copy to New ID to avoid conflicts\n",
    "#             with eb.Emmebank(\"C:\\Users\\pechen\\Desktop\\Highway 697\\Subarea_ASET_{}\\{}{}\\emmebank\".format(i, i, j)) as emmebank:\n",
    "#                 pass\n",
    "#                 emmebank.copy_scenario(k_list[m], m_list[m] + 100, copy_path_files = True, copy_strat_files = True, copy_db_files = True)\n",
    "\n",
    "        eb.Emmebank(\"C:\\Users\\pechen\\Desktop\\Highway 697\\Subarea_ASET_{}\\{}{}\\emmebank\".format(i, i, period[j])).copy_scenario(k_list[m], m_list[j] + 101, copy_path_files = True, copy_strat_files = True, copy_db_files = True)\n",
    "        eb.Emmebank(\"C:\\Users\\pechen\\Desktop\\Highway 697\\Subarea_ASET_{}\\{}{}\\emmebank\".format(i, i, period[j])).dispose()\n",
    "\n",
    "        # Import into current database\n",
    "        fun_path = \"C:\\Users\\pechen\\Desktop\\Highway 697\\Subarea_ASET_{}\\{}{}\\emmebank\".format(i, i, period[j])\n",
    "        import_fromdb(src_database = fun_path,\n",
    "                     src_scenario_ids =  m_list[j] + 101)\n",
    "\n",
    "#             # Delete that new scenario I copied to \n",
    "#             with eb.Emmebank(\"C:\\Users\\pechen\\Desktop\\Highway 697\\Subarea_ASET_{}\\{}{}\\emmebank\".format(i, i, j)) as emmebank:\n",
    "#                 pass\n",
    "#                 emmebank\n",
    "\n",
    "        eb.Emmebank(\"C:\\Users\\pechen\\Desktop\\Highway 697\\Subarea_ASET_{}\\{}{}\\emmebank\".format(i, i, period[j])).delete_scenario(m + 101)\n",
    "        eb.Emmebank(\"C:\\Users\\pechen\\Desktop\\Highway 697\\Subarea_ASET_{}\\{}{}\\emmebank\".format(i, i, period[j])).dispose()\n",
    "        print(\"done with \" + str(k_list[j]) +\" / \" + \" scen\" + str( m_list[j] + 101))\n",
    "\n",
    "        #             links_sheet = root_ws_folder.find_item(['AT_LinkVol'])\n",
    "        #             links = links_sheet.open()\n",
    "        #             links.save_as_data_table(name = 'ATLinks_forExport',overwrite = True)\n",
    "        #             links.close()\n",
    "        #             dts = desktop.project.data_tables()\n",
    "        #             links_dt = dts.table('ATLinks_forExport')\n",
    "        #             data = links_dt.get_data()\n",
    "        #             output_file = os.path.join(processed_dir,'ATLinks_' + p + '.csv')\n",
    "        #             data.export_to_csv(output_file, separator = ',')"
   ]
  },
  {
   "cell_type": "code",
   "execution_count": 15,
   "metadata": {
    "scrolled": true,
    "show_input": true
   },
   "outputs": [
    {
     "data": {
      "text/plain": [
       "[0, 1, 2, 3, 4, 5, 6, 7, 8, 9, 10, 11, 12, 13, 14, 15, 16, 17, 18, 19]"
      ]
     },
     "execution_count": 15,
     "metadata": {},
     "output_type": "execute_result"
    }
   ],
   "source": [
    "m_list"
   ]
  },
  {
   "cell_type": "code",
   "execution_count": 16,
   "metadata": {
    "show_input": true
   },
   "outputs": [
    {
     "data": {
      "text/plain": [
       "[2, 3, 4, 5, 1, 2, 3, 4, 5, 1, 2, 3, 4, 5, 1, 2, 3, 4, 5, 1]"
      ]
     },
     "execution_count": 16,
     "metadata": {},
     "output_type": "execute_result"
    }
   ],
   "source": [
    "k_list"
   ]
  },
  {
   "cell_type": "code",
   "execution_count": 22,
   "metadata": {
    "show_input": true
   },
   "outputs": [],
   "source": [
    "ATLinkVols = pd.DataFrame()\n",
    "processed_dir = r'C:\\Users\\pechen\\Desktop\\Highway 697\\csvs'\n",
    "\n",
    "from os import listdir\n",
    "from os.path import isfile, join\n",
    "\n",
    "scens = [f for f in listdir(processed_dir) if isfile(join(processed_dir, f))]\n",
    "\n",
    "for scen in scens:\n",
    "    yr = scen[8:12]\n",
    "    per = scen[12:14]\n",
    "    p = yr + per\n",
    "    \n",
    "    links_ATVol = pd.read_csv(os.path.join(processed_dir,'ATLinks_'+p+'.csv'))\n",
    "    links_ATVol['Period'] = per\n",
    "    links_ATVol['Year'] = yr\n",
    "    \n",
    "    ATLinkVols = ATLinkVols.append(links_ATVol)\n",
    "\n",
    "ATLinkVols.to_csv(os.path.join(processed_dir, 'ATLinkVols_allScens.csv'), index = False)"
   ]
  },
  {
   "cell_type": "code",
   "execution_count": 25,
   "metadata": {
    "show_input": true
   },
   "outputs": [],
   "source": [
    "### BROKEN\n",
    "# export = mm.tool('tmg.input_output.export_network_package')\n",
    "\n",
    "### BROKEN            \n",
    "#             print(emmebank.id)\n",
    "#             for k in emmebank.scenarios():\n",
    "#                 print(k)\n",
    "#                 emmebank.scenario(k)\n",
    "#                 export(k, os.path.join(nwp_loc, \"{}{}.nwp\".format(i, j),), 'all')\n",
    "#                 print('exported scen #' + str(k) + ' as {}{}.nwp'.format(i, j) + ' successfully')\n",
    "\n",
    "### BROKEN\n",
    "#         with eb.Emmebank(\"C:\\Users\\pechen\\Desktop\\Highway 697\\Subarea_ASET_{}\\{}{}\\emmebank\".format(i, i, j)) as emmebank:\n",
    "#             pass\n",
    "#             links_sheet = root_ws_folder.find_item(['AT_LinkVol'])\n",
    "#             links = links_sheet.open()\n",
    "#             links.save_as_data_table(name = 'ATLinks_forExport',overwrite = True)\n",
    "#             links.close()\n",
    "#             dts = desktop.project.data_tables()\n",
    "#             links_dt = dts.table('ATLinks_forExport')\n",
    "#             data = links_dt.get_data()\n",
    "#             output_file = os.path.join(processed_dir,'ATLinks_' + p + '.csv')\n",
    "#             data.export_to_csv(output_file, separator = ',')"
   ]
  },
  {
   "cell_type": "code",
   "execution_count": null,
   "metadata": {
    "show_input": true
   },
   "outputs": [],
   "source": []
  }
 ],
 "metadata": {
  "kernelspec": {
   "display_name": "Python 2",
   "language": "python",
   "name": "python2"
  },
  "language_info": {
   "codemirror_mode": {
    "name": "ipython",
    "version": 2
   },
   "file_extension": ".py",
   "mimetype": "text/x-python",
   "name": "python",
   "nbconvert_exporter": "python",
   "pygments_lexer": "ipython2",
   "version": "2.7.14"
  },
  "modeller": {
   "desktop_app_port": "4242"
  }
 },
 "nbformat": 4,
 "nbformat_minor": 2
}
