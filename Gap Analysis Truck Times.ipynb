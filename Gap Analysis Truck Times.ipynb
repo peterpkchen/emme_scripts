{
 "cells": [
  {
   "cell_type": "code",
   "execution_count": 1,
   "metadata": {
    "collapsed": true,
    "show_input": true
   },
   "outputs": [],
   "source": [
    "import os\n",
    "import inro.modeller as m\n",
    "from copy import deepcopy"
   ]
  },
  {
   "cell_type": "code",
   "execution_count": 16,
   "metadata": {
    "code_folding": [],
    "collapsed": false,
    "show_input": true
   },
   "outputs": [],
   "source": [
    "mm = m.Modeller()\n",
    "\n",
    "\n",
    "NAMESPACE = \"tmg.input_output.import_binary_matrix\"\n",
    "import_matrices = mm.tool(NAMESPACE)           \n",
    "NAMESPACE = \"inro.emme.data.matrix.change_matrix_properties\"\n",
    "change_matrix = m.Modeller().tool(NAMESPACE)\n",
    "NAMESPACE = \"inro.emme.matrix_calculation.matrix_calculator\"\n",
    "compute_matrix = mm.tool(NAMESPACE)\n",
    "NAMESPACE = \"inro.emme.data.matrix.create_matrix\"\n",
    "create_matrix = mm.tool(NAMESPACE)\n",
    "NAMESPACE = \"inro.emme.data.matrix.delete_matrix\"\n",
    "delete_matrix = mm.tool(NAMESPACE)\n",
    "NAMESPACE = \"inro.emme.data.matrix.export_matrix_to_csv\"\n",
    "export_matrix = mm.tool(NAMESPACE)\n",
    "eb = m.Modeller().emmebank\n",
    "\n",
    "inputFolder = r\"C:\\Users\\BCRANE\\Documents\\GIS\"\n",
    "\n",
    "scen = mm.scenario\n",
    "year = \"2041C\"\n",
    "\n",
    "finalDest = \"md53\"\n",
    "\n",
    "calcSpec = {\n",
    "    \"expression\": None,\n",
    "    \"result\": None,\n",
    "    \"constraint\": {\n",
    "        \"by_value\": None,\n",
    "        \"by_zone\": {\n",
    "            \"destinations\": None\n",
    "        }\n",
    "    },\n",
    "    \"aggregation\": {\n",
    "        \"origins\": \"+\",\n",
    "        \"destinations\": None\n",
    "    },\n",
    "    \"type\": \"MATRIX_CALCULATION\"\n",
    "}"
   ]
  },
  {
   "cell_type": "code",
   "execution_count": 10,
   "metadata": {
    "collapsed": false,
    "scrolled": true,
    "show_input": true
   },
   "outputs": [
    {
     "data": {
      "text/plain": [
       "'\\nautodemFile = os.path.join(inputFolder,\"trips_auto_peak.mdf\")\\nautoDem = eb.available_matrix_identifier(\\'FULL\\')\\nimport_matrices(4, autoDem[2:] ,autodemFile,mm.scenario, \"newtrips_auto_peak\" + year)\\nchange_matrix(matrix = autoDem,\\n              matrix_name = \"newtrips_auto_peak\" + year,\\n              matrix_description = \"Trips Auto Peak\" + year)\\n\\ntransitdemFile = os.path.join(inputFolder,\"trips_transit_peak.mdf\")\\ntransitDem = eb.available_matrix_identifier(\\'FULL\\')\\nimport_matrices(4, transitDem[2:] ,transitdemFile,mm.scenario, \"newtrips_transit_peak\" + year)\\nchange_matrix(matrix = transitDem,\\n              matrix_name = \"newtrips_transit_peak\" + year,\\n              matrix_description = \"Trips Transit Peak\" + year)\\n\\ndemand = eb.available_matrix_identifier(\\'FULL\\')\\ncreate_matrix(matrix_id = demand,\\n              matrix_name = \"new_at_tripsatpeak_\" + year,\\n              matrix_description = \"P & A Trips Trans Auto Peak \" + year )\\ndemCalc = deepcopy(calcSpec)\\ndemCalc[\"expression\"] = autoDem +\" + \" + transitDem\\ndemCalc[\"result\"] = demand\\ncompute_matrix(demCalc)\\n'"
      ]
     },
     "execution_count": 10,
     "metadata": {},
     "output_type": "execute_result"
    }
   ],
   "source": [
    "pAutoFile = os.path.join(inputFolder,\"skim.am_peak.auto.sov.time.mdf\")\n",
    "pAutoTime = eb.available_matrix_identifier('FULL')\n",
    "import_matrices(4, autoTime[2:] ,pAutoFile,mm.scenario, \"peakSovtimeCommitted\")\n",
    "\n",
    "opAutoFile = os.path.join(inputFolder,\"skim.midday.auto.sov.time.mdf\")\n",
    "opAutoTime = eb.available_matrix_identifier('FULL')\n",
    "import_matrices(4, autoTime[2:] ,opAutoFile,mm.scenario, \"offpeakSovtimeCommitted\")\n"
   ]
  },
  {
   "cell_type": "code",
   "execution_count": null,
   "metadata": {
    "collapsed": true
   },
   "outputs": [],
   "source": [
    "d1 = \"md61\"\n",
    "create_matrix(matrix_id = d1,\n",
    "              matrix_name = \"trucktimeph\",\n",
    "              matrix_description = \"Truck Time Placeholder\")"
   ]
  },
  {
   "cell_type": "code",
   "execution_count": null,
   "metadata": {
    "collapsed": true
   },
   "outputs": [],
   "source": [
    "destinations = [\"6187\",\"4276\",\"1477\",\"2028\"]\n",
    "for dest in destinations:\n",
    "    calc1 = deepcopy(calcSpec)\n",
    "    calc1[\"expression\"] = pAutoTime\n",
    "    calc1[\"result\"] = d1\n",
    "    calc1[\"aggregation\"][\"origins\"] = \"+\"\n",
    "    calc1[\"constraint\"][\"by_zone\"][\"destinations\"] = dest\n",
    "    compute_matrix(calc1)\n",
    "    export_matrix(d1)\n",
    "    os.rename(os.path.join(inputFolder, d1 + \".csv\"),os.path.join(inputFolder, dest + \"_peak.csv\"))\n",
    "    \n",
    "    calc2 = deepcopy(calcSpec)\n",
    "    calc2[\"expression\"] = opAutoTime\n",
    "    calc2[\"result\"] = d1\n",
    "    calc2[\"aggregation\"][\"origins\"] = \"+\"\n",
    "    calc2[\"constraint\"][\"by_zone\"][\"destinations\"] = dest\n",
    "    compute_matrix(calc2)\n",
    "    export_matrix(d1)\n",
    "    os.rename(os.path.join(inputFolder, d1 + \".csv\"),os.path.join(inputFolder, dest + \"_offpeak.csv\"))"
   ]
  },
  {
   "cell_type": "code",
   "execution_count": 11,
   "metadata": {
    "collapsed": true,
    "show_input": true
   },
   "outputs": [],
   "source": [
    "timeMatrices = [\"mf81\",\"mf82\",\"mf83\",\"mf84\"] # 311 files have to be hardcoded - could fix this by reading the files - look at sixth line\n",
    "for root, dirs, files in os.walk(os.path.join(inputFolder,\"TransitTime\")):\n",
    "    for matrix_file in files:\n",
    "        if matrix_file.endswith(\".mdf\"):\n",
    "            matrix_number = eb.available_matrix_identifier('FULL')\n",
    "            timeMatrices.append(matrix_number)\n",
    "            import_matrices(4, matrix_number[2:] ,os.path.join(root, matrix_file),mm.scenario, matrix_file[:-4] )\n",
    "            change_matrix(matrix = matrix_number,\n",
    "                          matrix_name = matrix_file[:-4],\n",
    "                          matrix_description = matrix_file[:-4])    \n",
    "        elif matrix_file.endswith(\".311\"):\n",
    "            matrix311(transaction_file = os.path.join(root, matrix_file),\n",
    "                      throw_on_error = True,\n",
    "                      scenario = mm.scenario)"
   ]
  },
  {
   "cell_type": "code",
   "execution_count": 12,
   "metadata": {
    "collapsed": false,
    "show_input": true
   },
   "outputs": [
    {
     "data": {
      "text/plain": [
       "{'average': 0.0,\n",
       " 'expression_type': 'FULL',\n",
       " 'maximum': 0.0,\n",
       " 'maximum_at': {'destination': 1001, 'origin': 1001},\n",
       " 'minimum': 0.0,\n",
       " 'minimum_at': {'destination': 1001, 'origin': 1001},\n",
       " 'num_evaluations': 5889689,\n",
       " 'result_type': 'FULL',\n",
       " 'sum': 0.0}"
      ]
     },
     "execution_count": 12,
     "metadata": {},
     "output_type": "execute_result"
    }
   ],
   "source": [
    "minExpression = \"\"\n",
    "for mat in timeMatrices:\n",
    "    if timeMatrices.index(mat) == 0:\n",
    "        minExpression = minExpression + mat\n",
    "    else:\n",
    "        minExpression = minExpression + \" .min. \" + mat\n",
    "    calc = deepcopy(calcSpec)\n",
    "    calc[\"expression\"] = \"9999\"\n",
    "    calc[\"result\"] = mat\n",
    "    calc[\"constraint\"][\"by_value\"] = {\"interval_min\": 0,\n",
    "                                   \"interval_max\": 0,\n",
    "                                   \"condition\": \"INCLUDE\",\n",
    "                                   \"od_values\": mat}\n",
    "    compute_matrix(calc)\n",
    "\n",
    "timeMat = create_matrix(matrix_id =\"mf\",\n",
    "              matrix_name = \"very_new_time_transit_peak\" + year,\n",
    "              matrix_description = \"Nov Peak Transit Time\" + year)\n",
    "\n",
    "tranTime = timeMat.id\n",
    "\n",
    "minCalc = deepcopy(calcSpec)\n",
    "minCalc[\"expression\"] = minExpression\n",
    "minCalc[\"result\"] = tranTime\n",
    "\n",
    "compute_matrix(minCalc)\n",
    "\n",
    "for mat in timeMatrices:\n",
    "    delete_matrix(mat,eb)\n",
    "    \n",
    "filterCalc = deepcopy(calcSpec)\n",
    "filterCalc[\"expression\"] = \"0\"\n",
    "filterCalc[\"result\"] = tranTime\n",
    "filterCalc[\"constraint\"][\"by_value\"] = {\"interval_min\": 0,\n",
    "                                   \"interval_max\": 180,\n",
    "                                   \"condition\": \"EXCLUDE\",\n",
    "                                   \"od_values\": tranTime}\n",
    "compute_matrix(filterCalc)\n",
    "\n",
    "autofilterCalc = deepcopy(calcSpec)\n",
    "autofilterCalc[\"expression\"] = \"0\"\n",
    "autofilterCalc[\"result\"] = autoTime\n",
    "autofilterCalc[\"constraint\"][\"by_value\"] = {\"interval_min\": 0,\n",
    "                                   \"interval_max\": 0,\n",
    "                                   \"condition\": \"INCLUDE\",\n",
    "                                   \"od_values\": tranTime}\n",
    "compute_matrix(autofilterCalc)"
   ]
  },
  {
   "cell_type": "code",
   "execution_count": 17,
   "metadata": {
    "collapsed": true,
    "show_input": true
   },
   "outputs": [],
   "source": [
    "demand = \"mf27\" #2016\n",
    "#demand = \"mf22\" #2041C\n",
    "#demand = \"mf17\"#2041CP\n",
    "\n",
    "tranTime = \"mf36\" #2016\n",
    "#tranTime = \"mf26\" #2041C\n",
    "#tranTime = \"mf21\" #2041CP\n",
    "\n",
    "autoTime = \"mf28\" #2016\n",
    "#autoTime = \"mf18\" #2041C\n",
    "#autoTime = \"mf14\" #2041CP\n"
   ]
  },
  {
   "cell_type": "code",
   "execution_count": 18,
   "metadata": {
    "collapsed": false,
    "show_input": true
   },
   "outputs": [
    {
     "data": {
      "text/plain": [
       "'\\ncalc6 = deepcopy(calcSpec)\\ncalc6[\"expression\"] = d5 + \"/\" + d3\\ncalc6[\"result\"] = d6\\ncalc6[\"constraint\"][\"by_value\"] = {\"interval_min\": 0,\\n                                   \"interval_max\": 0.1,\\n                                   \"condition\": \"EXCLUDE\",\\n                                   \"od_values\": d3}\\n\\ncreate_matrix(matrix_id = d6,\\n              matrix_name = \"newAutoTransitRatio\" + year,\\n              matrix_description = \"New Final Auto Transit Ratio Committed Plus \" + year)\\ncompute_matrix(calc6)\\n'"
      ]
     },
     "execution_count": 18,
     "metadata": {},
     "output_type": "execute_result"
    }
   ],
   "source": [
    "d1 = \"md31\"\n",
    "d2 = \"md32\"\n",
    "d3 = \"md33\"\n",
    "d4 = \"md34\"\n",
    "d5 = \"md35\"\n",
    "#d6 = finalDest\n",
    "\n",
    "\"\"\"\n",
    "create_matrix(matrix_id = d1,\n",
    "              matrix_name = \"newtimedem_2041CP\",\n",
    "              matrix_description = \"Time Demand Dest Matrix Committed Plus Transit\")\n",
    "\n",
    "create_matrix(matrix_id = d2,\n",
    "              matrix_name = \"autotransdem_2041CP\",\n",
    "              matrix_description = \"Demand Dest Matrix Committed Plus Transit and Auto\")\n",
    "\n",
    "create_matrix(matrix_id = d3,\n",
    "              matrix_name = \"newtimefinal_2041CP\",\n",
    "              matrix_description = \"New Final Weighted Time Transit Dest Matrix Committed Plus\")\n",
    "\n",
    "create_matrix(matrix_id = d4,\n",
    "              matrix_name = \"autonewtimedem_2041CP\",\n",
    "              matrix_description = \"Time Demand Dest Matrix Committed Plus Auto\")\n",
    "\n",
    "create_matrix(matrix_id = d5,\n",
    "              matrix_name = \"autonewtimefinal_2041CP\",\n",
    "              matrix_description = \"New Final Weighted Time Auto Dest Matrix Committed Plus\")\n",
    "\n",
    "create_matrix(matrix_id = d6,\n",
    "              matrix_name = \"newAutoTransitRatioCP\",\n",
    "              matrix_description = \"New Final Auto Transit Ratio Committed Plus\")\n",
    "\"\"\"\n",
    "calc1 = deepcopy(calcSpec)\n",
    "calc1[\"expression\"] = demand + \"*\" + tranTime\n",
    "calc1[\"result\"] = d1\n",
    "calc1[\"aggregation\"][\"origins\"] = \"+\"\n",
    "\n",
    "compute_matrix(calc1)\n",
    "\n",
    "calc2 = deepcopy(calcSpec)\n",
    "calc2[\"expression\"] = demand \n",
    "calc2[\"result\"] = d2\n",
    "calc2[\"aggregation\"][\"origins\"] = \"+\"\n",
    "calc2[\"constraint\"][\"by_value\"] = {\"interval_min\": 0,\n",
    "                                   \"interval_max\": 0,\n",
    "                                   \"condition\": \"EXCLUDE\",\n",
    "                                   \"od_values\": tranTime}\n",
    "\n",
    "compute_matrix(calc2)\n",
    "\n",
    "calc3 = deepcopy(calcSpec)\n",
    "calc3[\"expression\"] = d1 + \"/\" + d2\n",
    "calc3[\"result\"] = d3\n",
    "calc3[\"constraint\"][\"by_value\"] = {\"interval_min\": 0,\n",
    "                                   \"interval_max\": 0,\n",
    "                                   \"condition\": \"EXCLUDE\",\n",
    "                                   \"od_values\": d2}\n",
    "compute_matrix(calc3)\n",
    "\n",
    "calc4 = deepcopy(calcSpec)\n",
    "calc4[\"expression\"] = demand + \"*\" + autoTime\n",
    "calc4[\"result\"] = d4\n",
    "calc4[\"aggregation\"][\"origins\"] = \"+\"\n",
    "compute_matrix(calc4)\n",
    "\n",
    "calc5 = deepcopy(calcSpec)\n",
    "calc5[\"expression\"] = d4 + \"/\" + d2\n",
    "calc5[\"result\"] = d5\n",
    "calc5[\"constraint\"][\"by_value\"] = {\"interval_min\": 0,\n",
    "                                   \"interval_max\": 0,\n",
    "                                   \"condition\": \"EXCLUDE\",\n",
    "                                   \"od_values\": d2}\n",
    "compute_matrix(calc5)\n",
    "\n",
    "\"\"\"\n",
    "calc6 = deepcopy(calcSpec)\n",
    "calc6[\"expression\"] = d5 + \"/\" + d3\n",
    "calc6[\"result\"] = d6\n",
    "calc6[\"constraint\"][\"by_value\"] = {\"interval_min\": 0,\n",
    "                                   \"interval_max\": 0.1,\n",
    "                                   \"condition\": \"EXCLUDE\",\n",
    "                                   \"od_values\": d3}\n",
    "\n",
    "create_matrix(matrix_id = d6,\n",
    "              matrix_name = \"newAutoTransitRatio\" + year,\n",
    "              matrix_description = \"New Final Auto Transit Ratio Committed Plus \" + year)\n",
    "compute_matrix(calc6)\n",
    "\"\"\""
   ]
  },
  {
   "cell_type": "code",
   "execution_count": null,
   "metadata": {
    "collapsed": true,
    "show_input": true
   },
   "outputs": [],
   "source": []
  }
 ],
 "metadata": {
  "kernelspec": {
   "display_name": "Python 2",
   "language": "python",
   "name": "python2"
  },
  "language_info": {
   "codemirror_mode": {
    "name": "ipython",
    "version": 2
   },
   "file_extension": ".py",
   "mimetype": "text/x-python",
   "name": "python",
   "nbconvert_exporter": "python",
   "pygments_lexer": "ipython2",
   "version": "2.7.9"
  }
 },
 "nbformat": 4,
 "nbformat_minor": 0
}
