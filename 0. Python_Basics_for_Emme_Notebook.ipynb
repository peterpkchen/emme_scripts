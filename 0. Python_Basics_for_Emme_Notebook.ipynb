{
    "cells": [
        {
            "cell_type": "markdown", 
            "metadata": {}, 
            "source": [
                "<div>\n", 
                "  <div>\n", 
                "    Emme Notebook and Scripting Course, August 2019 <br>\n", 
                "  </div>\n", 
                "  <div>\n", 
                "    <img style=\"align: left; margin: 15px 15px 15px 0px;\" src=\"./INRO Logo.png\" width=\"120\" />\n", 
                "  </div>\n", 
                "  <div>\n", 
                "    \u00a9 Copyright 2019 INRO\n", 
                "  </div>\n", 
                "</div>"
            ]
        }, 
        {
            "cell_type": "markdown", 
            "metadata": {}, 
            "source": [
                "# 0. Python Basics\n", 
                "\n", 
                "This is a simple tutorial covering the basics of the Python programming language.\n", 
                "\n", 
                "If you are unfamiliar with using Emme Notebook, it is recommended that you first get aquainted with this interface by accessing the **Help** menu above, and selecting **User Interface Tour**.\n", 
                "\n", 
                "Then, follow along with the rest of the Python tutorial below. The cells below may be edited, and the code run with the **Play** button above. Results, along with any error messages, will be shown interactively below the cell after it is run."
            ]
        }, 
        {
            "cell_type": "markdown", 
            "metadata": {}, 
            "source": [
                "## Introduction\n", 
                "In addition to using the graphic user interface to interact with Emme, it is possible to write Python scripts to automate  most of your tasks. \n", 
                "\n", 
                "Using the Modeller API, you can automate tool execution (lesson 1) and even create custom tools (lesson 6). You can also access and write records in the Logbook. The Database API lets you read and write your network and matrix data, perform calculations etc (lesson 2 and 3). With the Desktop API you can automate the production of plots and graphs (lesson 4). It is even possible to open up a project using the Desktop API (lesson 5) for fully automated model deployment.\n", 
                "\n", 
                "You can run Python scripts from within Emme, using the Emme Notebook, Modeller tools or even the command-line shell. You can also run Python scripts from your IDE (Integrated Development Environment) of choice, from command-line operation or even integrated with third Party systems. "
            ]
        }, 
        {
            "cell_type": "markdown", 
            "metadata": {}, 
            "source": [
                "<img src=\"images/notebook.png\" width=\"600\"></img>\n", 
                "__Run scripts in the Emme Notebook environment__\n"
            ]
        }, 
        {
            "cell_type": "markdown", 
            "metadata": {}, 
            "source": [
                "<img src=\"images/shell3.png\" width=\"600\"></img>\n", 
                "__Run scripts in Emme Shell__"
            ]
        }, 
        {
            "cell_type": "markdown", 
            "metadata": {}, 
            "source": [
                "<table style=\"width:100%\">\n", 
                "  <tr>\n", 
                "    <th><img src=\"images/tool_example_ui.png\" width=\"500\"></img></th>\n", 
                "    <th><img src=\"images/tool_example_script.png\" width=\"500\"></img></th>\n", 
                "  </tr>\n", 
                "</table>\n", 
                "__Run scripts through the Modeller UI with customized UI__"
            ]
        }, 
        {
            "cell_type": "markdown", 
            "metadata": {}, 
            "source": [
                "\n", 
                "<img src=\"images/pyscripter.png\" width=\"600\"></img>\n", 
                "__Run scripts from your IDE of choice__\n", 
                "\n", 
                "Our scripting lessons take place in the Emme Notebook environment. The first section of this lesson introduces the Notebook environment. The following sections are an overview of Python scripting based on the official Python tutorial, which may be accessed here: http://docs.python.org/tutorial/introduction.html.\n"
            ]
        }, 
        {
            "cell_type": "markdown", 
            "metadata": {}, 
            "source": [
                "\n", 
                "### More learning material\n", 
                "Examples and tutorial can be found in the Modeller API Guide, Desktop API Guide, Data Table API Guide, Matrix API Guide and Network API guide available from the Desktop:\n", 
                "\n", 
                "<img src=\"images/learning_material.png\" width=\"600\"></img>\n", 
                "\n", 
                "The _Emme API Reference_ provides a comprehensive reference for all Emme APIs.\n", 
                "\n", 
                "The _Emme Modeller Manual_ provides the tool lookup and syntax as well as examples for all tools.\n", 
                "\n", 
                "Explore the links from the _Help Menu_ or from the Start page in Emme Desktop."
            ]
        }, 
        {
            "cell_type": "markdown", 
            "metadata": {}, 
            "source": [
                "\n", 
                "\n", 
                "## Contents\n", 
                "\n", 
                "- <a href=\"#Notebook-environment\">Notebook environment</a> \n", 
                "- <a href=\"#Variables-and-assignments\">Variables and assignments</a>\n", 
                "- <a href=\"#Python-strings\">Python strings</a>\n", 
                "- <a href=\"#Python-lists\">Python lists</a>\n", 
                "- <a href=\"#More-Python-strings\">More Python strings</a>\n", 
                "- <a href=\"#Python-dictionaries\">Python dictionaries</a>\n", 
                "- <a href=\"#Python-control-structures\">Python control structures</a>\n", 
                "  - <a href=\"#The-if-statement\">The <i>if</i> statement</a>\n", 
                "  - <a href=\"#The-for-statement\">The <i>for</i> statement</a>\n", 
                "  - <a href=\"#The-range-function\">The <i>range</i> function</a>\n", 
                "  - <a href=\"#The-while-statement\">The <i>while</i> statement</a>\n", 
                "  - <a href=\"#The-break-statement\">The <i>break</i> statement</a>\n", 
                "  - <a href=\"#The-continue-statement\">The <i>continue</i> statement</a>\n", 
                "- <a href=\"#Defining-methods-in-Python\">Defining methods in Python</a>\n", 
                "  - <a href=\"#Importing-modules\">Importing modules</a>\n", 
                "  - <a href=\"#Python-classes\">Python classes</a>\n", 
                "- <a href=\"#Python-'with'-statement\">Python 'with' statement</a>\n", 
                "- <a href=\"#Python-exceptions\">Python exceptions</a>\n", 
                "- <a href=\"#Internationalization\">Internationalization</a>\n", 
                "- <a href=\"#Python-style\">Python style</a>"
            ]
        }, 
        {
            "cell_type": "markdown", 
            "metadata": {}, 
            "source": [
                "## Notebook environment\n", 
                "The Emme Notebook environment is a web-based interactive scripting system to author Python code. It lets the user run, edit and re-run code snippets in cells. Brings inline in the Notebook the code outputs as well as worksheets and reports:\n", 
                "\n", 
                " - drag-and-drop Modeller tools, worksheets and reports into the Notebook\n", 
                " - combine interactive use of Emme with Python code\n", 
                " \n", 
                " <img src=\"images/notebook_drag_drop.png\" width=\"600\"></img>\n", 
                " \n"
            ]
        }, 
        {
            "cell_type": "markdown", 
            "metadata": {}, 
            "source": [
                "Emme Notebook can include live code, narrative text, equations, rich media, worksheets and reports and span the life-cycle of models or projects:\n", 
                "\n", 
                "- individual exploration: inline help, support trial, error and learn\n", 
                "- collaobration: share notebook with live code and markup\n", 
                "- production-scale execution: notebook become applications\n", 
                "- publication and presentation: record of method and results - application as a document\n", 
                "\n", 
                "The Emme Notebook environment is based on the [IPython interpreter](https://ipython.org/) and [Jupyter Notebook](https://jupyter.org/). It provide Python with inline help, auto-complect, object inspection and more useful features.\n", 
                "\n"
            ]
        }, 
        {
            "cell_type": "markdown", 
            "metadata": {}, 
            "source": [
                "__Starting Emme Notebook__\n", 
                "\n", 
                "Start the Notebook using the following icon form the Emme Desktop:\n", 
                "<img src=\"images/notebook_icon.png\"></img>\n", 
                "\n", 
                "It will open a new _Home_ tab in default web browser. We recommend to set up your default web browser to Chrome, Firefox or Safari. To manually connect to the Notebook server, copy/paste the URL displayed in the command window:\n", 
                " <img src=\"images/notebook_server.png\"></img>\n", 
                " \n", 
                "The default notebook folder location can be configured in the Desktop at _Tools > Application Options > Modeller > Start Python In_. By default, it is the project's Scripts folder.\n", 
                " \n"
            ]
        }, 
        {
            "cell_type": "markdown", 
            "metadata": {}, 
            "source": [
                " __Opening an Emme Notebook__\n", 
                " \n", 
                " Click __New > Python2__ to create a new notebook. It will open a new tab and prompt you to authorize Emme services (optional).\n", 
                " \n", 
                "<img src=\"images/create_new_notebook.png\" width=\"600\"></img> \n", 
                "<img src=\"images/emme_services.png\" width=\"600\"></img>\n", 
                "\n"
            ]
        }, 
        {
            "cell_type": "markdown", 
            "metadata": {}, 
            "source": [
                "__Notebook basics__\n", 
                "\n", 
                "Most important functionalities of the Emme Notebook are highlighted in the picture below.\n", 
                "<img src=\"images/notebook_overview.png\" width=\"600\"></img>\n", 
                "\n", 
                "\n"
            ]
        }, 
        {
            "cell_type": "markdown", 
            "metadata": {}, 
            "source": [
                "There are two modes:\n", 
                "\n", 
                "- editing mode: to write inside a cell (green outline on the active cell)\n", 
                "- command mode: to use shortcut commands (grey outline on the active cell)\n", 
                "\n", 
                "You can change the cell type from `Code` to `Markdown` to be able to write and format text, insert images, videos etc. When a cell is of type `Markdown`, you can use both the Markdown typing and the HTML tags. Here is a [cheat sheet](https://github.com/adam-p/markdown-here/wiki/Markdown-Cheatsheet) by  Adam Pritchard which covers Markdown typing. To change the cell type, use the type dropdown (see picture below):\n", 
                "\n", 
                "<img src=\"images/cell_type.png\"></img>\n", 
                "\n", 
                "\n"
            ]
        }, 
        {
            "cell_type": "markdown", 
            "metadata": {}, 
            "source": [
                "__Notebook tips__\n", 
                "\n", 
                "- use `tab` for auto-complete of variable names and `shift+tab` for inline documentation\n", 
                "- have a look at the _Notebook > Help > Keyboard shortcuts_ to become more efficient while navigating a notebook\n", 
                "- he last line of each cell is evaluated and displayed after running. This is useful instead of repeating print statements throughout, or to confirm the result of some code. \n", 
                "- if you make use of the `print` statement, it ends up in the Modeller console (if the Modelelr is opened). While in the Modeller, use `ctrl+k` to open the Modeller console.\n", 
                "- only one Notebook can use Emme services at a time.\n"
            ]
        }, 
        {
            "cell_type": "markdown", 
            "metadata": {}, 
            "source": [
                "\n", 
                "\n", 
                "__Exiting the Notebook and closing the session__\n", 
                "\n", 
                "You can review how to close and exit the notebook at _Emme Help->Modeller Manual->Notebook->Notebook basics->Exiting the Notebook_.\n", 
                "\n", 
                "To close a notebook, use _Close and halt_ or _Shutdown_ from the _File_ tab. Make sure to have saved beforehand!.\n", 
                "\n", 
                "To close the Notebook session, the separate shell window must also be closed, make sure to have saved your opened notebooks beforehand!"
            ]
        }, 
        {
            "cell_type": "markdown", 
            "metadata": {}, 
            "source": [
                "## Variables and assignments"
            ]
        }, 
        {
            "cell_type": "markdown", 
            "metadata": {}, 
            "source": [
                "The equal sign ('=') is used to assign a value to a variable."
            ]
        }, 
        {
            "cell_type": "code", 
            "execution_count": null, 
            "metadata": {
                "show_input": true
            }, 
            "outputs": [], 
            "source": [
                "width = 20"
            ]
        }, 
        {
            "cell_type": "markdown", 
            "metadata": {}, 
            "source": [
                "Variables do not need a defined *type* but they must be assigned a value before they can be used, or an error will occur."
            ]
        }, 
        {
            "cell_type": "code", 
            "execution_count": null, 
            "metadata": {
                "show_input": true
            }, 
            "outputs": [], 
            "source": [
                "width"
            ]
        }, 
        {
            "cell_type": "markdown", 
            "metadata": {}, 
            "source": [
                "Cells can contain multiple lines of code, but only the result of the last line of the code will be shown in the output cell. Note that the pound sign ('#') is used to denote a comment."
            ]
        }, 
        {
            "cell_type": "code", 
            "execution_count": null, 
            "metadata": {
                "show_input": true
            }, 
            "outputs": [], 
            "source": [
                "height = 5 * 9  \n", 
                "width * height  # evaluate and display"
            ]
        }, 
        {
            "cell_type": "markdown", 
            "metadata": {}, 
            "source": [
                "It is possible to assign a comma-separated list of variables. The values are assigned from left to right."
            ]
        }, 
        {
            "cell_type": "code", 
            "execution_count": null, 
            "metadata": {
                "show_input": true
            }, 
            "outputs": [], 
            "source": [
                "a, b = 1, 2\n", 
                "a, b"
            ]
        }, 
        {
            "cell_type": "markdown", 
            "metadata": {}, 
            "source": [
                "A compound assignment operator ('+=', '-=', '/=' ..) can be used to apply an operator to two variables, where the result is stored in the first variable. For example:"
            ]
        }, 
        {
            "cell_type": "code", 
            "execution_count": null, 
            "metadata": {
                "show_input": true
            }, 
            "outputs": [], 
            "source": [
                "a += b     # equivalent to a = a + b\n", 
                "a"
            ]
        }, 
        {
            "cell_type": "markdown", 
            "metadata": {}, 
            "source": [
                "## Python strings\n", 
                "\n", 
                "Python can also manipulate strings, which can be expressed in several ways. They can be enclosed in single quotes or double quotes."
            ]
        }, 
        {
            "cell_type": "code", 
            "execution_count": null, 
            "metadata": {
                "show_input": true
            }, 
            "outputs": [], 
            "source": [
                "'A string of letters'"
            ]
        }, 
        {
            "cell_type": "code", 
            "execution_count": null, 
            "metadata": {
                "show_input": true
            }, 
            "outputs": [], 
            "source": [
                "\"doesn't\""
            ]
        }, 
        {
            "cell_type": "markdown", 
            "metadata": {}, 
            "source": [
                "Python uses the backslash ('\\') as an 'escape character' to represent reserved characters that otherwise could not be typed in a string. The **print** keyword can then be used to output these strings.\n", 
                "\n", 
                "> **Note**: If Emme Modeller is running, the 'print' output is written to the Modeller console instead of the Notebook output. In this case, the Modeller console can be opened with the **CTRL+K** command in order to view these outputs. If you wish to view outputs in Notebook while Modeller is running, the **display** command can be used in lieu of the 'print' command, which is explained in further  detail below."
            ]
        }, 
        {
            "cell_type": "code", 
            "execution_count": null, 
            "metadata": {
                "show_input": true
            }, 
            "outputs": [], 
            "source": [
                "print \"A tab: '\\t', a real backslash: '\\\\'\"\n", 
                "print \"C:\\\\path\\\\to\\\\file\""
            ]
        }, 
        {
            "cell_type": "markdown", 
            "metadata": {}, 
            "source": [
                "Strings can be surrounded in a pair of matching triple-quotes: \"\"\" or '''. New lines and indents will be included in the string."
            ]
        }, 
        {
            "cell_type": "code", 
            "execution_count": null, 
            "metadata": {
                "show_input": true
            }, 
            "outputs": [], 
            "source": [
                "text = \"\"\"The four steps of the classic travel demand model framework are: \n", 
                " - trip generation\n", 
                " - trip distribution\n", 
                " - mode choice\n", 
                " - route assignment\"\"\"\n", 
                "print text"
            ]
        }, 
        {
            "cell_type": "markdown", 
            "metadata": {}, 
            "source": [
                "Strings can be pre-pended with an **r** to indicate this is a *raw* string. In this case, the escape character will be treated as a normal backslash. "
            ]
        }, 
        {
            "cell_type": "code", 
            "execution_count": null, 
            "metadata": {
                "show_input": true
            }, 
            "outputs": [], 
            "source": [
                "print r\"C:\\path\\to\\file\"\n", 
                "r\"C:\\path\\to\\file\""
            ]
        }, 
        {
            "cell_type": "markdown", 
            "metadata": {}, 
            "source": [
                "Strings can also be pre-pended with a **u** to indicate a unicode string."
            ]
        }, 
        {
            "cell_type": "code", 
            "execution_count": null, 
            "metadata": {
                "show_input": true
            }, 
            "outputs": [], 
            "source": [
                "print u\"\u00e4\u00f6\u00fc\"\n", 
                "u\"\u00e4\u00f6\u00fc\""
            ]
        }, 
        {
            "cell_type": "markdown", 
            "metadata": {}, 
            "source": [
                "## Python lists\n", 
                "\n", 
                "Python contains a number of compound data types which can be used to group together values. The most versatile is the **list**, which can be written as a list of comma-separated values (items) between square brackets. List items (e.g. string, numbers, boolean, other lists) do not need to all have the same type."
            ]
        }, 
        {
            "cell_type": "code", 
            "execution_count": null, 
            "metadata": {
                "show_input": true
            }, 
            "outputs": [], 
            "source": [
                "a_list = ['mf01', 'mf02', 'mf03']\n", 
                "a_list"
            ]
        }, 
        {
            "cell_type": "markdown", 
            "metadata": {}, 
            "source": [
                "Like strings (and all other built-in sequence types), lists can be indexed and sliced. List indices start at 0 and increase sequentially for each element in the list. The last item in the list may optionally be accessed using index -1. To retrieve a particular item in a Python list, call its index inside **[ ]**. "
            ]
        }, 
        {
            "cell_type": "code", 
            "execution_count": null, 
            "metadata": {
                "show_input": true
            }, 
            "outputs": [], 
            "source": [
                "a_list[0]  # first item"
            ]
        }, 
        {
            "cell_type": "code", 
            "execution_count": null, 
            "metadata": {
                "show_input": true
            }, 
            "outputs": [], 
            "source": [
                "a_list[1:3]  # show second and third item"
            ]
        }, 
        {
            "cell_type": "code", 
            "execution_count": null, 
            "metadata": {
                "show_input": true
            }, 
            "outputs": [], 
            "source": [
                "a_list[-1]  # last item"
            ]
        }, 
        {
            "cell_type": "markdown", 
            "metadata": {}, 
            "source": [
                "Lists can be concatenated using the **+** character. Additional items may be added to the end of the list using **list.append()**."
            ]
        }, 
        {
            "cell_type": "code", 
            "execution_count": null, 
            "metadata": {
                "show_input": true
            }, 
            "outputs": [], 
            "source": [
                "another_list = ['mf04', 'mf05'] \n", 
                "a_third_list = a_list + another_list  # concatenate two lists\n", 
                "a_third_list"
            ]
        }, 
        {
            "cell_type": "code", 
            "execution_count": null, 
            "metadata": {
                "show_input": true
            }, 
            "outputs": [], 
            "source": [
                "a_third_list.append('mf25')           # append an item to a list\n", 
                "a_third_list"
            ]
        }, 
        {
            "cell_type": "code", 
            "execution_count": null, 
            "metadata": {
                "show_input": true
            }, 
            "outputs": [], 
            "source": [
                "a_third_list.append(another_list)     # append a list to a list\n", 
                "a_third_list"
            ]
        }, 
        {
            "cell_type": "markdown", 
            "metadata": {}, 
            "source": [
                "Lists are a [mutable](https://docs.python.org/2/glossary.html#term-mutable) type, i.e. it is possible to change their content.\n", 
                "When several variables refer to the same list, assigning a change in one variable affects all the other variables which refer to that list."
            ]
        }, 
        {
            "cell_type": "code", 
            "execution_count": null, 
            "metadata": {
                "show_input": true
            }, 
            "outputs": [], 
            "source": [
                "list1 = [\"car\", \"truck\", \"taxi\"]\n", 
                "list2 = list1\n", 
                "list1[1] = 'light truck'             # replace item at index 1\n", 
                "list2"
            ]
        }, 
        {
            "cell_type": "markdown", 
            "metadata": {}, 
            "source": [
                "To initialize a list using an existing list while keeping them independent of one another,\n", 
                "use the [deepcopy](https://docs.python.org/2/library/copy.html?highlight=deepcopy#copy.deepcopy) method."
            ]
        }, 
        {
            "cell_type": "code", 
            "execution_count": null, 
            "metadata": {
                "show_input": true
            }, 
            "outputs": [], 
            "source": [
                "import copy  # import copy module (see \"Importing modules\" below)\n", 
                "list1 = [\"car\", \"truck\", \"taxi\"]\n", 
                "list2 = copy.deepcopy(list1)\n", 
                "list1[1] = 'light truck'\n", 
                "list2              "
            ]
        }, 
        {
            "cell_type": "markdown", 
            "metadata": {}, 
            "source": [
                "## More Python strings\n", 
                "\n", 
                "Strings can be also indexed, or concatenated together, just like lists."
            ]
        }, 
        {
            "cell_type": "code", 
            "execution_count": null, 
            "metadata": {
                "show_input": true
            }, 
            "outputs": [], 
            "source": [
                "word = 'mf'\n", 
                "word = word + '\\\"transit_time\\\"'\n", 
                "word"
            ]
        }, 
        {
            "cell_type": "code", 
            "execution_count": null, 
            "metadata": {
                "show_input": true
            }, 
            "outputs": [], 
            "source": [
                "word[0:2]"
            ]
        }, 
        {
            "cell_type": "markdown", 
            "metadata": {}, 
            "source": [
                "Strings can be continued across multiple lines with matching parenthesis, or by ending the line with a '\\'. Note that extra whitespace on subsequent lines will be ignored."
            ]
        }, 
        {
            "cell_type": "code", 
            "execution_count": null, 
            "metadata": {
                "show_input": true
            }, 
            "outputs": [], 
            "source": [
                "sentence_1 = ('An extra long string '\n", 
                "    'that continues on the next line.')\n", 
                "sentence_1"
            ]
        }, 
        {
            "cell_type": "code", 
            "execution_count": null, 
            "metadata": {
                "show_input": true
            }, 
            "outputs": [], 
            "source": [
                "sentence_2 = 'Another extra long string ' \\\n", 
                "    'that continues on the next line'\n", 
                "sentence_2"
            ]
        }, 
        {
            "cell_type": "markdown", 
            "metadata": {}, 
            "source": [
                "## Python dictionaries\n", 
                "\n", 
                "Another useful data type built into Python is the dictionary.\n", 
                "* A dictionary is an unordered set of _key**:** value_ pairs, with the requirement that the keys are unique (within one dictionary). \n", 
                "* A pair of braces creates an empty dictionary: **{ }**. \n", 
                "* Placing a comma-separated list of _key**:** value_ pairs within the braces adds initial _key**:** value_ pairs to the dictionary."
            ]
        }, 
        {
            "cell_type": "code", 
            "execution_count": null, 
            "metadata": {
                "show_input": true
            }, 
            "outputs": [], 
            "source": [
                "calc = {'expression': 'ul1*2', 'result': 'ul3'}\n", 
                "calc"
            ]
        }, 
        {
            "cell_type": "markdown", 
            "metadata": {}, 
            "source": [
                "To retrieve or modify the value of a key in a dictionary, use **[ ]**."
            ]
        }, 
        {
            "cell_type": "code", 
            "execution_count": null, 
            "metadata": {
                "show_input": true
            }, 
            "outputs": [], 
            "source": [
                "calc['expression']"
            ]
        }, 
        {
            "cell_type": "code", 
            "execution_count": null, 
            "metadata": {
                "show_input": true
            }, 
            "outputs": [], 
            "source": [
                "calc['expression'] = 'ul1*lanes'\n", 
                "calc['expression']"
            ]
        }, 
        {
            "cell_type": "markdown", 
            "metadata": {}, 
            "source": [
                "To add a new _key**:** value_ pair to an existing dictionary, use **['_key_'] = _value_** where _value_ can be of any type, including another dictionary. In the example below, a nested dictionary becomes the value of the 'selections' key of the parent dictionary."
            ]
        }, 
        {
            "cell_type": "code", 
            "execution_count": null, 
            "metadata": {
                "show_input": true
            }, 
            "outputs": [], 
            "source": [
                "calc['selections'] = {'link': 'all'}\n", 
                "calc"
            ]
        }, 
        {
            "cell_type": "markdown", 
            "metadata": {}, 
            "source": [
                "To update nested keys, use **[ ][ ]**."
            ]
        }, 
        {
            "cell_type": "code", 
            "execution_count": null, 
            "metadata": {
                "show_input": true
            }, 
            "outputs": [], 
            "source": [
                "calc['selections']['link'] = 'mode=c'\n", 
                "calc"
            ]
        }, 
        {
            "cell_type": "markdown", 
            "metadata": {}, 
            "source": [
                "Use the **del** keyword to delete an entry from the dictionary."
            ]
        }, 
        {
            "cell_type": "code", 
            "execution_count": null, 
            "metadata": {
                "show_input": true
            }, 
            "outputs": [], 
            "source": [
                "del calc['selections']\n", 
                "calc"
            ]
        }, 
        {
            "cell_type": "markdown", 
            "metadata": {}, 
            "source": [
                "Like lists, dictionaries are mutable objects. To initialize a dictionary using an existing dictionary while keeping both independent,\n", 
                "use the <a href=\"https://docs.python.org/2/library/copy.html?highlight=deepcopy#copy.deepcopy\" target=\"_blank\">deepcopy</a> method."
            ]
        }, 
        {
            "cell_type": "markdown", 
            "metadata": {}, 
            "source": [
                "## Python control structures"
            ]
        }, 
        {
            "cell_type": "markdown", 
            "metadata": {}, 
            "source": [
                "###The *if* statement\n", 
                "\n", 
                "Perhaps the most well-known control statement type is the **if** statement. \n", 
                "* There can be zero or more **elif** parts, and the **else** part is optional. The keyword **elif** is short for *else if*.\n", 
                "* In Python, whitespace indentation is used to denote context; an indentation is used after a statement ending in a colon (':')."
            ]
        }, 
        {
            "cell_type": "code", 
            "execution_count": null, 
            "metadata": {
                "show_input": true
            }, 
            "outputs": [], 
            "source": [
                "x = 42\n", 
                "if x < 0:\n", 
                "    print 'Negative'\n", 
                "elif x == 1:\n", 
                "    print 'Single'\n", 
                "else:\n", 
                "    print 'Multiple'"
            ]
        }, 
        {
            "cell_type": "markdown", 
            "metadata": {}, 
            "source": [
                "### The *for* statement\n", 
                "\n", 
                "Python\u2019s **for** statement iterates over the items of any sequence (a list or a string), in the order that they appear in the sequence. For example: "
            ]
        }, 
        {
            "cell_type": "code", 
            "execution_count": null, 
            "metadata": {
                "show_input": true
            }, 
            "outputs": [], 
            "source": [
                "a = ['a', 'short', 'assignment']\n", 
                "for x in a:\n", 
                "    print x, len(x)    # the built-in function len returns the length of a list"
            ]
        }, 
        {
            "cell_type": "markdown", 
            "metadata": {}, 
            "source": [
                "The **for** statement in Python differs a bit from what you may be used to in C or Pascal:\n", 
                "* Pascal always iterates over an arithmetic progression of numbers\n", 
                "* C defines both the iteration step and halting condition"
            ]
        }, 
        {
            "cell_type": "markdown", 
            "metadata": {}, 
            "source": [
                "### The *range* function\n", 
                "\n", 
                "The built-in function **range** produces a list of numbers, and can be used  with the **for** statement to iterate over an arithmetic progression."
            ]
        }, 
        {
            "cell_type": "code", 
            "execution_count": null, 
            "metadata": {
                "show_input": true
            }, 
            "outputs": [], 
            "source": [
                "range(10)"
            ]
        }, 
        {
            "cell_type": "code", 
            "execution_count": null, 
            "metadata": {
                "show_input": true
            }, 
            "outputs": [], 
            "source": [
                "for x in range(7, 9):\n", 
                "    print x"
            ]
        }, 
        {
            "cell_type": "markdown", 
            "metadata": {}, 
            "source": [
                "### The *while* statement\n", 
                "\n", 
                "The **while** loop iterates while a specified condition is true."
            ]
        }, 
        {
            "cell_type": "code", 
            "execution_count": null, 
            "metadata": {
                "show_input": true
            }, 
            "outputs": [], 
            "source": [
                "a, b = 0, 1\n", 
                "while b < 1000:\n", 
                "    print b,\n", 
                "    a, b = b, a+b"
            ]
        }, 
        {
            "cell_type": "markdown", 
            "metadata": {}, 
            "source": [
                "### The *break* statement\n", 
                "\n", 
                "The **break** statement will break out of the current loop."
            ]
        }, 
        {
            "cell_type": "code", 
            "execution_count": null, 
            "metadata": {
                "show_input": true
            }, 
            "outputs": [], 
            "source": [
                "for letter in 'Python': \n", 
                "    if letter == 'h':\n", 
                "        break\n", 
                "    print 'Current Letter :', letter"
            ]
        }, 
        {
            "cell_type": "markdown", 
            "metadata": {}, 
            "source": [
                "### The *continue* statement\n", 
                "The **continue** statement stops the current iteration and continues the loop with the next iteration."
            ]
        }, 
        {
            "cell_type": "code", 
            "execution_count": null, 
            "metadata": {
                "show_input": true
            }, 
            "outputs": [], 
            "source": [
                "for letter in 'Python': \n", 
                "    if letter == 'h':\n", 
                "        continue\n", 
                "    print 'Current Letter :', letter"
            ]
        }, 
        {
            "cell_type": "markdown", 
            "metadata": {}, 
            "source": [
                "## Defining methods in Python\n", 
                "\n", 
                "A Python method (or function) is defined starting with the **def** Python keyword.\n", 
                "* It must be followed by the method name, a parenthesized list of parameters (i.e. inputs), and a colon (':').\n", 
                "* The statements that form the body of the method start at the next line, and are indented. \n", 
                "\n", 
                "For example, we can create a method that calculates a tip for a restaurant bill:"
            ]
        }, 
        {
            "cell_type": "code", 
            "execution_count": null, 
            "metadata": {
                "show_input": true
            }, 
            "outputs": [], 
            "source": [
                "def tip(bill):\n", 
                "    total = bill * 1.15\n", 
                "    print \"$\", total"
            ]
        }, 
        {
            "cell_type": "markdown", 
            "metadata": {}, 
            "source": [
                "Now let's call the function we just defined:"
            ]
        }, 
        {
            "cell_type": "code", 
            "execution_count": null, 
            "metadata": {
                "show_input": true
            }, 
            "outputs": [], 
            "source": [
                "tip(43.80)"
            ]
        }, 
        {
            "cell_type": "markdown", 
            "metadata": {}, 
            "source": [
                "Method arguments may have default values:"
            ]
        }, 
        {
            "cell_type": "code", 
            "execution_count": null, 
            "metadata": {
                "show_input": true
            }, 
            "outputs": [], 
            "source": [
                "def tip(bill, percent=15):\n", 
                "    print \"$\", bill * (1 + percent / 100.0)"
            ]
        }, 
        {
            "cell_type": "markdown", 
            "metadata": {}, 
            "source": [
                "Methods may be called with either positional arguments, keyword arguments, or a combination of the two.  Arguments with pre-defined default values need not be specified.\n", 
                "\n", 
                "Note that there cannot be a non-keyword argument after a keyword argument, nor can there be a duplicate for the same argument."
            ]
        }, 
        {
            "cell_type": "code", 
            "execution_count": null, 
            "metadata": {
                "show_input": true
            }, 
            "outputs": [], 
            "source": [
                "tip(45)    #omits the 'percent' argument, which will adopt the default value, 15"
            ]
        }, 
        {
            "cell_type": "code", 
            "execution_count": null, 
            "metadata": {
                "show_input": true
            }, 
            "outputs": [], 
            "source": [
                "tip(45,20)    #positional arguments"
            ]
        }, 
        {
            "cell_type": "code", 
            "execution_count": null, 
            "metadata": {
                "show_input": true
            }, 
            "outputs": [], 
            "source": [
                "tip(percent=20, bill=45)    #keyword arguments"
            ]
        }, 
        {
            "cell_type": "markdown", 
            "metadata": {}, 
            "source": [
                "Methods may also **return** a value:"
            ]
        }, 
        {
            "cell_type": "code", 
            "execution_count": null, 
            "metadata": {
                "show_input": true
            }, 
            "outputs": [], 
            "source": [
                "def tip(bill, percent=15):\n", 
                "    return bill * (1 + percent / 100.0)\n", 
                "total = tip(45)\n", 
                "print \"$\",total"
            ]
        }, 
        {
            "cell_type": "markdown", 
            "metadata": {}, 
            "source": [
                "### Importing modules\n", 
                "\n", 
                "If the preceding **tip()** function were saved inside a file restaurant.py, in the current working directory, we could import the module using:"
            ]
        }, 
        {
            "cell_type": "code", 
            "execution_count": null, 
            "metadata": {
                "show_input": true
            }, 
            "outputs": [], 
            "source": [
                "import restaurant"
            ]
        }, 
        {
            "cell_type": "markdown", 
            "metadata": {}, 
            "source": [
                "This does not provide direct access to the function 'tip' defined in 'restaurant.py'. However, the **import** keyword above gives us access to the *restaurant* module, which you can then use to access the function:\n"
            ]
        }, 
        {
            "cell_type": "code", 
            "execution_count": null, 
            "metadata": {
                "show_input": true
            }, 
            "outputs": [], 
            "source": [
                "restaurant.tip(62.72)"
            ]
        }, 
        {
            "cell_type": "markdown", 
            "metadata": {}, 
            "source": [
                "There is a variant of the import statement that imports names from a module directly, and assigns them a local name. For example:"
            ]
        }, 
        {
            "cell_type": "code", 
            "execution_count": null, 
            "metadata": {
                "show_input": true
            }, 
            "outputs": [], 
            "source": [
                "from restaurant import tip as _tip\n", 
                "_tip(12.52)"
            ]
        }, 
        {
            "cell_type": "markdown", 
            "metadata": {}, 
            "source": [
                "Note that the underscore is normally pre-pended to these names as a convention."
            ]
        }, 
        {
            "cell_type": "markdown", 
            "metadata": {}, 
            "source": [
                "The cell below imports some frequently used methods."
            ]
        }, 
        {
            "cell_type": "code", 
            "execution_count": null, 
            "metadata": {
                "show_input": true
            }, 
            "outputs": [], 
            "source": [
                "from IPython.display import display\n", 
                "import os\n", 
                "import math as _math\n", 
                "import inro.modeller as _m"
            ]
        }, 
        {
            "cell_type": "markdown", 
            "metadata": {}, 
            "source": [
                "* The IPython **display** method can be used as an alternative to the Python **print**.\n", 
                "* The [os](https://docs.python.org/2/library/os.html?highlight=os#module-os) module provides a way of using operating system dependent functionality. The functions that the **os** module provides allows you to interface with the underlying operating system that Python is running on.\n", 
                "* The [math](https://docs.python.org/2/library/math.html) module provides access to the mathematical functions defined by the C standard.\n", 
                "* The **modeller** module is the main entry-point to the Emme Modeller framework, providing tool lookup and automation services for any deployed Modeller Tool."
            ]
        }, 
        {
            "cell_type": "markdown", 
            "metadata": {}, 
            "source": [
                "### Python classes\n", 
                "\n", 
                "The **class** keyword declares a Python class (a type or kind of object), followed by the class name.\n"
            ]
        }, 
        {
            "cell_type": "code", 
            "execution_count": null, 
            "metadata": {
                "show_input": true
            }, 
            "outputs": [], 
            "source": [
                "class MyTool():\n", 
                "    pass   "
            ]
        }, 
        {
            "cell_type": "markdown", 
            "metadata": {}, 
            "source": [
                "Here the **pass** statement does nothing. It can be used when a statement is required syntactically but the program requires no action. It is commonly used for creating minimal classes.\n", 
                "\n", 
                "Classes may *extend* (or *inherit*) the properties and methods of another class by specifying the parent class in parenthesis after the class declaration. In this example, **MyTool** will inherit the properties and methods of the **Tool** class of the **modeller** module."
            ]
        }, 
        {
            "cell_type": "code", 
            "execution_count": null, 
            "metadata": {
                "show_input": true
            }, 
            "outputs": [], 
            "source": [
                "import inro.modeller as _m\n", 
                "class MyTool(_m.Tool()):\n", 
                "    pass"
            ]
        }, 
        {
            "cell_type": "markdown", 
            "metadata": {}, 
            "source": [
                "The important aspect of inheritance is that we do not have to know much about the parent: we get whatever it does for free!"
            ]
        }, 
        {
            "cell_type": "markdown", 
            "metadata": {}, 
            "source": [
                "Methods and properties may be defined under the class. In the next cell, we define one property and one method in the class **MyTool**. "
            ]
        }, 
        {
            "cell_type": "code", 
            "execution_count": null, 
            "metadata": {
                "show_input": true
            }, 
            "outputs": [], 
            "source": [
                "class MyTool(_m.Tool()):\n", 
                "    my_property = True\n", 
                "    def page(self):\n", 
                "        pass"
            ]
        }, 
        {
            "cell_type": "markdown", 
            "metadata": {}, 
            "source": [
                "**`self`** is the 1st argument to a class method, it is a reference to the class object itself, used to access other class methods or properties.\n", 
                "\n", 
                "Let's add another method, the **`__call__()`** method:"
            ]
        }, 
        {
            "cell_type": "code", 
            "execution_count": null, 
            "metadata": {
                "show_input": true
            }, 
            "outputs": [], 
            "source": [
                "class MyTool(_m.Tool()):\n", 
                "    my_property = True\n", 
                "    def page(self):\n", 
                "        pass\n", 
                "    def __call__(self):\n", 
                "        pass"
            ]
        }, 
        {
            "cell_type": "markdown", 
            "metadata": {}, 
            "source": [
                "`__call__()` is a special name for a method in Python; this is used to make a class 'callable'\n", 
                " * `object()` is equivalent to `object.__call__()`\n", 
                " * just a convenient shorthand, or \"syntactic sugar\""
            ]
        }, 
        {
            "cell_type": "markdown", 
            "metadata": {}, 
            "source": [
                "## Python 'with' statement\n", 
                "\n", 
                "The **with** statement is used to introduce *context* to a block of Python statements.\n", 
                "\n", 
                "A common use of the 'with' statement is opening files:"
            ]
        }, 
        {
            "cell_type": "code", 
            "execution_count": null, 
            "metadata": {
                "show_input": true
            }, 
            "outputs": [], 
            "source": [
                "file_path = \"restaurant.py\"\n", 
                "with open(file_path) as file_name:\n", 
                "    pass\n", 
                "    # read from or write to file"
            ]
        }, 
        {
            "cell_type": "markdown", 
            "metadata": {}, 
            "source": [
                "Upon exiting the **with** context (the indent level), the file is automatically closed, even if there is an error.\n"
            ]
        }, 
        {
            "cell_type": "markdown", 
            "metadata": {}, 
            "source": [
                "## Python exceptions\n", 
                "\n", 
                "Python's **try** \u2026 **except** \u2026 **finally** syntax can be used to handle errors effectively:\n", 
                "```\n", 
                "try:\n", 
                "    # main script\n", 
                "except Exception, error:\n", 
                "    # code to be executed in the event of an error\n", 
                "finally:\n", 
                "    # code to always be executed, e.g. clean up script\n", 
                "```\n", 
                "Exception is the type of error we are prepared to handle. Be as specific as possible for the kind of error to handle (replace 'Exception' with the name of the desired error type)."
            ]
        }, 
        {
            "cell_type": "code", 
            "execution_count": null, 
            "metadata": {
                "show_input": true
            }, 
            "outputs": [], 
            "source": [
                "file_to_read = \"C:/tmp/a_file_to_read\"\n", 
                "try:\n", 
                "    f = open(file_to_read, 'r')\n", 
                "except Exception, error:\n", 
                "    print error\n", 
                "finally:\n", 
                "    print \"Error will be printed and statement will end nicely\""
            ]
        }, 
        {
            "cell_type": "markdown", 
            "metadata": {}, 
            "source": [
                "The **raise** syntax can be used to generate an error. An empty 'raise' under an 'except' re-raises the same error."
            ]
        }, 
        {
            "cell_type": "code", 
            "execution_count": null, 
            "metadata": {
                "show_input": true
            }, 
            "outputs": [], 
            "source": [
                "file_to_read = \"C:/tmp/a_file_to_read\"\n", 
                "try:\n", 
                "    f = open(file_to_read, 'r')\n", 
                "except Exception, error:\n", 
                "    raise\n", 
                "finally:\n", 
                "    print \"This will end with a raise\""
            ]
        }, 
        {
            "cell_type": "markdown", 
            "metadata": {}, 
            "source": [
                "## Internationalization\n", 
                "\n", 
                "* When using characters other than the standard set known as ASCII (English alphabet, punctuation and numbers plus a few symbols), it is necessary to be aware of character encodings\n", 
                "* Python natively supports a very large number of encodings, but encourages everyone to use the all-encompassing standard Unicode\n", 
                "* Unicode strings can be written by pre-pending a **u** to the string:"
            ]
        }, 
        {
            "cell_type": "code", 
            "execution_count": null, 
            "metadata": {
                "show_input": true
            }, 
            "outputs": [], 
            "source": [
                "u\"\u516c\u4ea4\u3001\u5ba2\u8f66\u5206\u914d\""
            ]
        }, 
        {
            "cell_type": "markdown", 
            "metadata": {}, 
            "source": [
                "To write special charters in the source code, the following lines must be included at the beginning of the Python file to identify the character encoding:"
            ]
        }, 
        {
            "cell_type": "code", 
            "execution_count": null, 
            "metadata": {
                "show_input": true
            }, 
            "outputs": [], 
            "source": [
                "#!/usr/bin/env python\n", 
                "# -*- coding: utf -*-"
            ]
        }, 
        {
            "cell_type": "markdown", 
            "metadata": {}, 
            "source": [
                "## Python style"
            ]
        }, 
        {
            "cell_type": "markdown", 
            "metadata": {}, 
            "source": [
                "For Python,\u00a0[Pep 8](https://www.python.org/dev/peps/pep-0008/) has emerged as the style guide that most projects adhere to. \n", 
                "It promotes a very readable and eye-pleasing coding style, and every Python developer\n", 
                "should read it at some point.\n", 
                "\n", 
                "Here are some of the most important points:\n", 
                "* First, remember that 'A Foolish Consistency is the Hobgoblin of Little Minds'. PEP 8 is a guide only; sometimes the guideline just doesn't apply. Most of the time, however, the rules are worth following.\n", 
                "* Use **4-space indentation**, and no tabs. 4 spaces are a good compromise between small indentation (allows greater nesting depth) and large indentation (easier to read). Tabs introduce confusion, and are best left out.\n", 
                "* **Wrap lines** so that they don\u2019t exceed 79 characters. This helps users with small displays and makes it possible to have scripts side-by-side on larger displays.\n", 
                "* Use **blank lines** to separate functions and classes, and larger blocks of code inside functions. Use two blank lines for top-level classes and functions.\n", 
                "* Do not put multiple statements on the same line.\n", 
                "* When possible, put **comments** on a line of their own.\n", 
                "* Use **spaces** around operators and after commas, but not directly inside bracketing constructs:\u00a0`a\u00a0=\u00a0f(1,\u00a02)\u00a0+\u00a0g(3,\u00a04)`, or before brackets: `foo(1, 2)` \n", 
                "  - Do not use whitespace with '=' for keyword arguments: `foo(a=1, b=2)`\n", 
                "* Name your classes and functions consistently; the convention is to use\u00a0CamelCase\u00a0for **classes** and\u00a0lower_case_with_underscores\u00a0for **functions**, **methods**, **properties** and **variable** names. UPPERCASE is for **constants**.\n", 
                "* Always use\u00a0**self**\u00a0as the name for the first argument to methods in classes.\n", 
                "* Don\u2019t use fancy encodings if your code is meant to be used in international environments. Plain ASCII works best in any case.\n", 
                "* **Imports** should be on separate lines, and should be specific: don't import the whole module if you only need one function.\n", 
                "* When catching **exceptions**, mention specific exceptions whenever possible instead of using a bare **except:** clause. Additionally, limit the **try:** clause to the bare minimum of code necessary to trap the error. This avoids masking bugs."
            ]
        }, 
        {
            "cell_type": "code", 
            "execution_count": null, 
            "metadata": {
                "modellerMagic": {
                    "args": [], 
                    "cell": "", 
                    "command": "%modeller", 
                    "kwargs": {
                        "show_output": true
                    }
                }, 
                "show_input": false
            }, 
            "outputs": [], 
            "source": [
                "%modeller --show_output true"
            ]
        }
    ], 
    "metadata": {
        "kernelspec": {
            "display_name": "Python 2", 
            "language": "python", 
            "name": "python2"
        }, 
        "language_info": {
            "codemirror_mode": {
                "name": "ipython", 
                "version": 2
            }, 
            "file_extension": ".py", 
            "mimetype": "text/x-python", 
            "name": "python", 
            "nbconvert_exporter": "python", 
            "pygments_lexer": "ipython2", 
            "version": "2.7.14"
        }, 
        "modeller": {
            "desktop_app_port": "4242"
        }
    }, 
    "nbformat": 4, 
    "nbformat_minor": 1
}