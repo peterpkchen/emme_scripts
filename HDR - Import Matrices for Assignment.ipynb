{
 "cells": [
  {
   "cell_type": "code",
   "execution_count": 1,
   "metadata": {
    "collapsed": false,
    "show_input": true
   },
   "outputs": [],
   "source": [
    "import inro.modeller as m\n",
    "mm = m.Modeller()\n",
    "eb = mm.emmebank\n",
    "\n",
    "common = mm.module('org.emme.common')"
   ]
  },
  {
   "cell_type": "code",
   "execution_count": 2,
   "metadata": {
    "collapsed": false,
    "show_input": true
   },
   "outputs": [
    {
     "name": "stdout",
     "output_type": "stream",
     "text": [
      "Imported matrix mf7\n",
      "Imported matrix mf8\n",
      "Imported matrix mf9\n",
      "Imported matrix mf10\n",
      "Imported matrix mf11\n",
      "Imported matrix mf12\n",
      "Imported matrix mf13\n",
      "Imported matrix mf40\n",
      "Imported matrix mf62\n",
      "Imported matrix mf60\n",
      "Imported matrix mf1\n",
      "Imported matrix mf2\n",
      "Imported matrix mf3\n",
      "Imported matrix mf4\n",
      "Imported matrix mf5\n",
      "Imported matrix mf6\n",
      "Finished Importing Matrices\n"
     ]
    }
   ],
   "source": [
    "run_folder =  u\"P:\\\\451010\\\\281829_GGH\\\\GGHM Runs\\\\2041\\\\GGHM Base Case\\\\\"\n",
    "assigned_list = {\"skim.am_peak.auto.sov.time\": \"mf40\",\n",
    "               \"skim.peak.transit.train.ivt\": \"mf60\",\n",
    "               \"skim.peak.transit.subway.ivt\": \"mf62\",\n",
    "               \"skim.peak.transit.ztsa.access_walk\": \"mf1\",\n",
    "               \"skim.peak.transit.ztsa.ivt.bus\": \"mf2\",\n",
    "               \"skim.peak.transit.ztsa.ivt.go_bus\": \"mf3\",\n",
    "               \"skim.peak.transit.ztsa.ivt.premium_bus\": \"mf4\",\n",
    "               \"skim.peak.transit.ztsa.ivt.rapid_bus\": \"mf5\",\n",
    "               \"skim.peak.transit.ztsa.ivt.streetcar\": \"mf6\",\n",
    "               \"skim.peak.transit.local_bus.access_walk\": \"mf7\",\n",
    "               \"skim.peak.transit.local_bus.ivt.bus\": \"mf8\",\n",
    "               \"skim.peak.transit.local_bus.ivt.streetcar\": \"mf9\",\n",
    "               \"skim.peak.transit.rapid_bus.access_walk\": \"mf10\",\n",
    "               \"skim.peak.transit.rapid_bus.ivt.bus\": \"mf11\",\n",
    "               \"skim.peak.transit.rapid_bus.ivt.rapid_bus\": \"mf12\",\n",
    "               \"skim.peak.transit.rapid_bus.ivt.streetcar\": \"mf13\"\n",
    "               }\n",
    "               \n",
    "common.import_matrices_from_directory(run_folder, assigned_list, \".mdf\",103)  "
   ]
  },
  {
   "cell_type": "code",
   "execution_count": 4,
   "metadata": {
    "collapsed": false,
    "show_input": true
   },
   "outputs": [
    {
     "ename": "ExistenceError",
     "evalue": "Matrix already exists: mf70.",
     "output_type": "error",
     "traceback": [
      "\u001b[1;31m---------------------------------------------------------------------------\u001b[0m",
      "\u001b[1;31mExistenceError\u001b[0m                            Traceback (most recent call last)",
      "\u001b[1;32m<ipython-input-4-8993f0570778>\u001b[0m in \u001b[0;36m<module>\u001b[1;34m()\u001b[0m\n\u001b[0;32m      6\u001b[0m create_matrix(matrix_id = \"mf70\",\n\u001b[0;32m      7\u001b[0m             \u001b[0mmatrix_name\u001b[0m\u001b[1;33m=\u001b[0m \u001b[1;34m\"train.subway.ztsa.actual\"\u001b[0m\u001b[1;33m,\u001b[0m\u001b[1;33m\u001b[0m\u001b[0m\n\u001b[1;32m----> 8\u001b[1;33m             matrix_description = \"train.subway.ztsa.actual\")\n\u001b[0m\u001b[0;32m      9\u001b[0m spec = {\n\u001b[0;32m     10\u001b[0m     \u001b[1;34m\"type\"\u001b[0m\u001b[1;33m:\u001b[0m \u001b[1;34m\"MATRIX_CALCULATION\"\u001b[0m\u001b[1;33m,\u001b[0m\u001b[1;33m\u001b[0m\u001b[0m\n",
      "\u001b[1;32mC:\\Program Files\\INRO\\Emme\\Emme 4\\Emme-4.3.2\\python-lib\\win64\\2.7\\modeller\\inro.director.logging\\inro\\director\\logging\\trail.pyc\u001b[0m in \u001b[0;36m__trace\u001b[1;34m(*args, **kwargs)\u001b[0m\n",
      "\u001b[1;32mC:/Users/MNASTE~1/AppData/Local/Temp/create_matrix-5a1d53802b8b11e8b3d5480fcf3ca1bf.pyc\u001b[0m in \u001b[0;36m__call__\u001b[1;34m(self, matrix_id, matrix_name, matrix_description, default_value, overwrite, scenario)\u001b[0m\n",
      "\u001b[1;31mExistenceError\u001b[0m: Matrix already exists: mf70."
     ]
    }
   ],
   "source": [
    "#combine matrices\n",
    "create_matrix =  m.Modeller().tool(\"inro.emme.data.matrix.create_matrix\")\n",
    "matrix_calculator = m.Modeller().tool(\"inro.emme.matrix_calculation.matrix_calculator\")\n",
    "\n",
    "#ztsa\n",
    "create_matrix(matrix_id = \"mf70\",\n",
    "            matrix_name= \"train.subway.ztsa.actual\",\n",
    "            matrix_description = \"train.subway.ztsa.actual\")\n",
    "spec = {\n",
    "    \"type\": \"MATRIX_CALCULATION\",\n",
    "    \"result\":\"mf70\",\n",
    "    \"expression\":  \"mf1+mf2+mf3+mf4+mf5+mf6\"\n",
    "}\n",
    "matrix_calculator(spec)\n",
    "\n",
    "#local bus\n",
    "create_matrix(matrix_id = \"mf68\",\n",
    "            matrix_name= \"local.bus.actual\",\n",
    "            matrix_description = \"local.bus.actual\")\n",
    "spec = {\n",
    "    \"type\": \"MATRIX_CALCULATION\",\n",
    "    \"result\":\"mf68\",\n",
    "    \"expression\":  \"mf7+mf8+mf9\"\n",
    "}\n",
    "matrix_calculator(spec)\n",
    "\n",
    "#rapid bus\n",
    "create_matrix(matrix_id = \"mf66\",\n",
    "            matrix_name= \"rapid.bus.actual\",\n",
    "            matrix_description = \"rapid.bus.actual\")\n",
    "spec = {\n",
    "    \"type\": \"MATRIX_CALCULATION\",\n",
    "    \"result\":\"mf66\",\n",
    "    \"expression\":  \"mf10+mf11+mf12+mf13\"\n",
    "}\n",
    "matrix_calculator(spec)\n",
    "\n"
   ]
  },
  {
   "cell_type": "code",
   "execution_count": 6,
   "metadata": {
    "collapsed": false
   },
   "outputs": [],
   "source": [
    "#eb.delete_matrix(\"mf1\")\n",
    "#eb.delete_matrix(\"mf2\")\n",
    "eb.delete_matrix(\"mf3\")\n",
    "eb.delete_matrix(\"mf4\")\n",
    "eb.delete_matrix(\"mf5\")\n",
    "eb.delete_matrix(\"mf6\")\n",
    "eb.delete_matrix(\"mf7\")\n",
    "eb.delete_matrix(\"mf8\")\n",
    "eb.delete_matrix(\"mf9\")\n",
    "eb.delete_matrix(\"mf10\")\n",
    "eb.delete_matrix(\"mf11\")\n",
    "eb.delete_matrix(\"mf12\")\n",
    "eb.delete_matrix(\"mf13\")"
   ]
  },
  {
   "cell_type": "code",
   "execution_count": 8,
   "metadata": {
    "collapsed": false
   },
   "outputs": [
    {
     "name": "stdout",
     "output_type": "stream",
     "text": [
      "Imported matrix mf127\n",
      "Imported matrix mf124\n",
      "Imported matrix mf132\n",
      "Imported matrix mf125\n",
      "Imported matrix mf133\n",
      "Imported matrix mf121\n",
      "Imported matrix mf122\n",
      "Imported matrix mf130\n",
      "Imported matrix mf123\n",
      "Imported matrix mf131\n",
      "Imported matrix mf120\n",
      "Imported matrix mf128\n",
      "Finished Importing Matrices\n"
     ]
    }
   ],
   "source": [
    "run_folder =  u\"P:\\\\451010\\\\281829_GGH\\\\GGHM Runs\\\\2041\\\\GGHM Base Case\\\\\"\n",
    "assigned_list = {\"trips_peak_drive_to_and_from\": \"mf127\",\n",
    "               \"trips_peak_subway_access_transit\": \"mf124\",\n",
    "               \"trips_peak_subway_access_walk\": \"mf132\",\n",
    "               \"trips_peak_subway_egress_transit\": \"mf125\",\n",
    "               \"trips_peak_subway_egress_walk\": \"mf133\",\n",
    "               \"trips_peak_subway_s2s\": \"mf121\",\n",
    "               \"trips_peak_train_access_transit\": \"mf122\",\n",
    "               \"trips_peak_train_access_walk\": \"mf130\",\n",
    "               \"trips_peak_train_egress_transit\": \"mf123\",\n",
    "               \"trips_peak_train_egress_walk\": \"mf131\",\n",
    "               \"trips_peak_train_s2s\": \"mf120\",\n",
    "               \"trips_peak_train_transfer_s2s\": \"mf128\"\n",
    "               }\n",
    "               \n",
    "common.import_matrices_from_directory(run_folder, assigned_list, \".mdf\",103)  "
   ]
  },
  {
   "cell_type": "code",
   "execution_count": null,
   "metadata": {
    "collapsed": true
   },
   "outputs": [],
   "source": []
  }
 ],
 "metadata": {
  "kernelspec": {
   "display_name": "Python 2",
   "language": "python",
   "name": "python2"
  },
  "language_info": {
   "codemirror_mode": {
    "name": "ipython",
    "version": 2
   },
   "file_extension": ".py",
   "mimetype": "text/x-python",
   "name": "python",
   "nbconvert_exporter": "python",
   "pygments_lexer": "ipython2",
   "version": "2.7.9"
  }
 },
 "nbformat": 4,
 "nbformat_minor": 0
}
