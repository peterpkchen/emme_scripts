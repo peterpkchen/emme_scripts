{
 "cells": [
  {
   "cell_type": "code",
   "execution_count": 2,
   "metadata": {
    "show_input": true
   },
   "outputs": [],
   "source": [
    "import os\n",
    "import pandas as pd\n",
    "import numpy as np\n",
    "\n",
    "from inro.emme.matrix import MatrixData\n",
    "import inro.modeller as m\n",
    "mm = m.Modeller()\n",
    "eb = mm.emmebank\n",
    "\n",
    "# toolbox tools\n",
    "import_csv = \"inro.emme.data.matrix.import_matrix_from_csv\"\n",
    "import_csv_mat = mm.tool(import_csv)\n",
    "tmg_export_binary = \"tmg.input_output.export_binary_matrix\"\n",
    "tmg_export = mm.tool(tmg_export_binary)\n",
    "\n",
    "scen = eb.scenario(\"16\") # scenario\n",
    "mf200 = eb.matrix(\"mf200\") # temp matrix\n",
    "\n",
    "output = r\"C:\\Users\\PECHEN\\Desktop\\407ETR\\407 Update\\V4Input\\Demand_Adj\"\n",
    "sel = \"sel1.csv\"\n",
    "sel_mtx = \"sel1.mtx\"\n",
    "loc = os.path.join(output,sel)\n",
    "fin = os.path.join(output,sel_mtx)"
   ]
  },
  {
   "cell_type": "code",
   "execution_count": 3,
   "metadata": {
    "show_input": true
   },
   "outputs": [],
   "source": [
    "def mat_to_pddf(id, scen):\n",
    "    mat = eb.matrix(id).get_data(scen)\n",
    "    zones_tupl = mat.indices\n",
    "    indices = pd.Index(zones_tupl[0])\n",
    "    indices.name = 'p'\n",
    "    cols = pd.Index(zones_tupl[1])\n",
    "    cols.name = 'q'\n",
    "    matrix = mat.to_numpy()\n",
    "    return pd.DataFrame(matrix, index=indices, columns=cols)\n",
    "\n",
    "def pddf_to_mat(dataframe, mtx_out=None, scenario_id=None):\n",
    "    indices = list(dataframe.index.values), list(dataframe.columns.values)\n",
    "    md = MatrixData(indices)\n",
    "    array = dataframe.values\n",
    "    if array.flags.f_contiguous:\n",
    "        array = np.ascontiguousarray(array)\n",
    "    md.from_numpy(array)"
   ]
  },
  {
   "cell_type": "code",
   "execution_count": null,
   "metadata": {
    "show_input": true
   },
   "outputs": [],
   "source": []
  },
  {
   "cell_type": "code",
   "execution_count": null,
   "metadata": {
    "show_input": true
   },
   "outputs": [],
   "source": []
  }
 ],
 "metadata": {
  "kernelspec": {
   "display_name": "Python 2",
   "language": "python",
   "name": "python2"
  },
  "language_info": {
   "codemirror_mode": {
    "name": "ipython",
    "version": 2
   },
   "file_extension": ".py",
   "mimetype": "text/x-python",
   "name": "python",
   "nbconvert_exporter": "python",
   "pygments_lexer": "ipython2",
   "version": "2.7.14"
  },
  "modeller": {
   "desktop_app_port": "4242"
  }
 },
 "nbformat": 4,
 "nbformat_minor": 2
}
