{
 "cells": [
  {
   "cell_type": "code",
   "execution_count": 1,
   "metadata": {},
   "outputs": [],
   "source": [
    "import os\n",
    "import pandas as pd"
   ]
  },
  {
   "cell_type": "code",
   "execution_count": 4,
   "metadata": {},
   "outputs": [],
   "source": [
    "res_pth = r\"C:\\Users\\pechen\\Documents\\XTMF\\Projects\\407 Model Update\\407 Model - Full Run - MCSpatial Run 33 - 20210607\\Microsim Results\"\n",
    "zone_pth = r\"C:\\Users\\pechen\\Documents\\407 Model Update\"\n",
    "\n",
    "zone_map = pd.read_csv(os.path.join(zone_pth,\"407_ZoneMapping_spicy.csv\"))\n",
    "tripsmode_df = pd.read_csv(os.path.join(res_pth,\"trip_modes.csv\"))\n",
    "trips_df = pd.read_csv(os.path.join(res_pth,\"trips.csv\"))\n",
    "persons_df = pd.read_csv(os.path.join(res_pth,\"persons.csv\"))"
   ]
  },
  {
   "cell_type": "code",
   "execution_count": 5,
   "metadata": {
    "scrolled": true
   },
   "outputs": [],
   "source": [
    "trips_df = trips_df.merge(persons_df, on = ['household_id', 'person_id'])\n",
    "trips_df = trips_df[trips_df.age >= 11]\n",
    "trips_df = trips_df.merge(zone_map, left_on = 'o_zone', right_on = 'GTA06').drop(columns = \"GTA06\").rename(columns = {'region':'region_o'})\n",
    "trips_df = trips_df.merge(zone_map, left_on = 'd_zone', right_on = 'GTA06').drop(columns = \"GTA06\").rename(columns = {'region':'region_d'})"
   ]
  },
  {
   "cell_type": "code",
   "execution_count": 6,
   "metadata": {},
   "outputs": [],
   "source": [
    "trips_time_df = tripsmode_df.merge(trips_df, how = 'right', on = ['household_id', 'person_id', 'trip_id'])\n",
    "trips_time_df[\"weight\"] = trips_time_df[\"weight\"]/10\n",
    "trips_time_df[\"weight_z\"] = trips_time_df[\"weight\"]*trips_time_df[\"weight_x\"]"
   ]
  },
  {
   "cell_type": "code",
   "execution_count": 7,
   "metadata": {},
   "outputs": [],
   "source": [
    "am_trips_df = trips_time_df[(trips_time_df.o_depart >= 360) & (trips_time_df.o_depart < 540)]\n",
    "pm_trips_df = trips_time_df[(trips_time_df.o_depart >= 900) & (trips_time_df.o_depart < 1140)]\n",
    "ev_trips_df = trips_time_df[(trips_time_df.o_depart >= 1140) & (trips_time_df.o_depart < 1440)]"
   ]
  },
  {
   "cell_type": "code",
   "execution_count": 8,
   "metadata": {},
   "outputs": [],
   "source": [
    "am_trips = pd.pivot_table(am_trips_df, index = ['region_o', 'region_d'], columns = 'mode', values = 'weight_z', aggfunc = sum, margins = True).fillna(0)\n",
    "pm_trips = pd.pivot_table(pm_trips_df, index = ['region_o', 'region_d'], columns = 'mode', values = 'weight_z', aggfunc = sum, margins = True).fillna(0)\n",
    "ev_trips = pd.pivot_table(ev_trips_df, index = ['region_o', 'region_d'], columns = 'mode', values = 'weight_z', aggfunc = sum, margins = True).fillna(0)"
   ]
  },
  {
   "cell_type": "code",
   "execution_count": 9,
   "metadata": {},
   "outputs": [],
   "source": [
    "am_trips['drive'] = am_trips['Auto'] + am_trips['Passenger'] + am_trips['Carpool'] + am_trips['RideShare']\n",
    "pm_trips['drive'] = pm_trips['Auto'] + pm_trips['Passenger'] + pm_trips['Carpool'] + pm_trips['RideShare']\n",
    "ev_trips['drive'] = ev_trips['Auto'] + ev_trips['Passenger'] + ev_trips['Carpool'] + ev_trips['RideShare']"
   ]
  },
  {
   "cell_type": "code",
   "execution_count": 10,
   "metadata": {
    "scrolled": true
   },
   "outputs": [],
   "source": [
    "pm_out = pm_trips.filter(['Auto', 'All'])\n",
    "ev_out = ev_trips.filter(['Auto', 'All'])\n",
    "pm_out.to_csv(os.path.join(zone_pth, 'pm_out_30.csv'))\n",
    "ev_out.to_csv(os.path.join(zone_pth, 'ev_out_30.csv'))"
   ]
  }
 ],
 "metadata": {
  "kernelspec": {
   "display_name": "Python 3",
   "language": "python",
   "name": "python3"
  },
  "language_info": {
   "codemirror_mode": {
    "name": "ipython",
    "version": 3
   },
   "file_extension": ".py",
   "mimetype": "text/x-python",
   "name": "python",
   "nbconvert_exporter": "python",
   "pygments_lexer": "ipython3",
   "version": "3.6.10"
  }
 },
 "nbformat": 4,
 "nbformat_minor": 4
}
