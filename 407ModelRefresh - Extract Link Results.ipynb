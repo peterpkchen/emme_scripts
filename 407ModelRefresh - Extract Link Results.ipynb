{
 "cells": [
  {
   "cell_type": "markdown",
   "metadata": {},
   "source": [
    "## Extract Link Results\n",
    "#### This script extracts link results from various scenarios\n",
    "This uses a list of scenario names, then extracts a series of csvs that are the worksheet results for the specified scenarios to a specified directory."
   ]
  },
  {
   "cell_type": "code",
   "execution_count": 4,
   "metadata": {},
   "outputs": [],
   "source": [
    "import os\n",
    "import inro.modeller as m\n",
    "import inro.emme.database.emmebank as eb\n",
    "mm = m.Modeller()\n",
    "desktop = mm.desktop\n",
    "de = desktop.data_explorer()"
   ]
  },
  {
   "cell_type": "code",
   "execution_count": 9,
   "metadata": {},
   "outputs": [
    {
     "name": "stdout",
     "output_type": "stream",
     "text": [
      "it's done bro\n"
     ]
    }
   ],
   "source": [
    "processed_dir = r\"C:\\Users\\PECHEN\\Desktop\\407ETR\\407 Update\\Results\"\n",
    "scens = [33]\n",
    "\n",
    "for i in range(len(scens)):\n",
    "    scen = scens[i]\n",
    "    emmebank = inro.modeller.Modeller().emmebank\n",
    "    scenarioooo = emmebank.scenario(scen)\n",
    "    de.replace_primary_scenario(scenarioooo)\n",
    "    root_ws_folder = desktop.root_worksheet_folder()\n",
    "    \n",
    "    p = scenarioooo.id\n",
    "    n = scenarioooo.title\n",
    "    \n",
    "    links_sheet = root_ws_folder.find_item(['407_LinkVolumes_Calibration'])\n",
    "    links = links_sheet.open()\n",
    "    links.save_as_data_table(name = '407LinkVolumes_forExport',overwrite = True)\n",
    "    links.close()\n",
    "    dts = desktop.project.data_tables()\n",
    "    links_dt = dts.table('407LinkVolumes_forExport')\n",
    "    data = links_dt.get_data()\n",
    "    output_file = os.path.join(processed_dir,'407Vol_' + p + '_' + n + '.csv')\n",
    "    data.export_to_csv(output_file, separator = ',')\n",
    "\n",
    "print(\"it's done bro\")"
   ]
  },
  {
   "cell_type": "code",
   "execution_count": null,
   "metadata": {},
   "outputs": [],
   "source": []
  }
 ],
 "metadata": {
  "kernelspec": {
   "display_name": "Python 2",
   "language": "python",
   "name": "python2"
  },
  "language_info": {
   "codemirror_mode": {
    "name": "ipython",
    "version": 2
   },
   "file_extension": ".py",
   "mimetype": "text/x-python",
   "name": "python",
   "nbconvert_exporter": "python",
   "pygments_lexer": "ipython2",
   "version": "2.7.14"
  },
  "modeller": {
   "desktop_app_port": "4242"
  }
 },
 "nbformat": 4,
 "nbformat_minor": 2
}
