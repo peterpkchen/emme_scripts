{
    "cells": [
        {
            "cell_type": "markdown", 
            "metadata": {}, 
            "source": [
                "<div>\n", 
                "  <div\n", 
                "    class=\"-inro-notebook-icon-inro-small\" \n", 
                "    style=\"margin-left: 0; margin-bottom: 15px;\"> \n", 
                "  </div>\n", 
                "  <div>\n", 
                "      Emme Notebook and Scripting, August 2019\n", 
                "  </div>\n", 
                "</div>"
            ]
        }, 
        {
            "cell_type": "markdown", 
            "metadata": {}, 
            "source": [
                "# Practices"
            ]
        }, 
        {
            "cell_type": "markdown", 
            "metadata": {}, 
            "source": [
                "## Practice #1: Modeller API\n", 
                "### Calculating VHT to and from the CBD\n", 
                " \n", 
                "You have been tasked with calculating the vehicle-hours travelled (VHT) of vehicles going to and from the downtown core in Winnipeg. Write a script which calculates the VHT for two scenarios:\n", 
                "\n", 
                "* The VHT of vehicles travelling to the CBD\n", 
                "* The VHT of vehicles travelling from the CBD\n", 
                "\n", 
                "This script should involve the following steps:\n", 
                "\n", 
                "* Create two scalar matrices to hold the results:\n", 
                "    - `vht_to_cbd`\n", 
                "    - `vht_from_cbd`\n", 
                "* Perform the following matrix calculation to store the VHT of vehicles travelling to the CBD:\n", 
                "    - Expression: `mf1 * mf4` (the demand multiplied by the travel time skim from the traffic assignment)\n", 
                "    - Result: `ms\"vht_to_cbd\"`\n", 
                "    - Constraint by zone: `all` origins, `ga0` destination\n", 
                "* Perform the following matrix calculation to store the VHT of vehicles travelling from the CBD:\n", 
                "    - Expression: `mf1 * mf4`\n", 
                "    - Result: `ms\"vht_from_cbd\"`\n", 
                "    - Constraint by zone: `ga0` origin, `all` destinations\n", 
                "\n", 
                "Hints:\n", 
                "\n", 
                "* The Matrix calculator tool should aggregate your VHT results to a scalar value using the \"+\" operator\n", 
                "* The specification for the matrix calculations should be stored as a python dictionary. This will allow you to easily adjust the zone constraint for the second calculation.\n", 
                "* For organizational purposes, your script should appear in the Logbook as a nested set of steps"
            ]
        }, 
        {
            "cell_type": "code", 
            "execution_count": null, 
            "metadata": {
                "show_input": true
            }, 
            "outputs": [], 
            "source": [
                "import inro.modeller as _m\n", 
                "modeller = _m.Modeller()\n", 
                "\n", 
                "# Access the Create matrix and Matrix calculation tools\n", 
                "create_matrix = modeller.tool('inro.emme.data.matrix.create_matrix')\n", 
                "matrix_calc = modeller.tool('inro.emme.matrix_calculation.matrix_calculator')\n", 
                "\n", 
                "# Nest the tool runs in the Logbook\n", 
                "with _m.logbook_trace('Calculate VHT to/from the CBD'):\n", 
                "    \n", 
                "    # Create the two scalar matrices\n", 
                "    create_matrix(matrix_id = 'ms',\n", 
                "                  matrix_name = 'vht_to_cbd',\n", 
                "                  matrix_description = 'Vehicle-hours travelled to the CBD')\n", 
                "\n", 
                "    create_matrix(matrix_id = 'ms',\n", 
                "                  matrix_name = 'vht_from_cbd',\n", 
                "                  matrix_description = 'Vehicle-hours travelled from the CBD')\n", 
                "\n", 
                "    # Specification of to_cbd matrix calculation as a dictionary\n", 
                "    matrix_calc_spec = {\n", 
                "        \"expression\": \"mf1 * mf4\",\n", 
                "        \"result\": \"ms\\\"vht_to_cbd\\\"\",\n", 
                "        \"constraint\": {\n", 
                "            \"by_value\": None,\n", 
                "            \"by_zone\": {\n", 
                "                \"origins\": \"all\",\n", 
                "                \"destinations\": \"ga0\"\n", 
                "            }\n", 
                "        },\n", 
                "        \"aggregation\": {\n", 
                "            \"origins\": \"+\",\n", 
                "            \"destinations\": \"+\"\n", 
                "        },\n", 
                "        \"type\": \"MATRIX_CALCULATION\"\n", 
                "    }\n", 
                "\n", 
                "    # Perform to_cbd matrix calculation\n", 
                "    matrix_calc(specification = matrix_calc_spec)\n", 
                "\n", 
                "    # Adjust the specification for the from_cbd calculation\n", 
                "    matrix_calc_spec['result'] = 'ms\"vht_from_cbd\"'\n", 
                "    matrix_calc_spec['constraint']['by_zone'] = {'origins':'ga0', 'destinations':'all'}\n", 
                "\n", 
                "    # Perform the from_cbd matrix calculation\n", 
                "    matrix_calc(specification = matrix_calc_spec)"
            ]
        }, 
        {
            "cell_type": "markdown", 
            "metadata": {}, 
            "source": [
                "## Practice #2: Network API\n", 
                "### Calculating VHT on highway links\n", 
                "\n", 
                "In the first practice, we calculated the total VHT for certain OD pairs (either to or from the CBD). In this exercise, we will calculate the VHT at the network level, focusing on the highway links only (`@fac==0`).\n", 
                "\n", 
                "Your script should involve the following steps:\n", 
                "\n", 
                "* Create a new extra attribute to store the highway VHT results, `@hwy_vht`\n", 
                "* Loop through all of the links in the network and calculate `@hwy_vht` for the highway links only (`@fac==0`)\n", 
                "* Output the total VHT for all highway links\n", 
                "* Publish the network\n", 
                "\n", 
                "Hints:\n", 
                "\n", 
                "* Before starting this practice, make a new copy of scenario `3000` and set it as the primary scenario\n", 
                "* As you are creating a new extra attribute using the Network API, the attribute must be created in the scenario before publishing the network"
            ]
        }, 
        {
            "cell_type": "code", 
            "execution_count": null, 
            "metadata": {
                "show_input": true
            }, 
            "outputs": [], 
            "source": [
                "import inro.modeller as _m\n", 
                "modeller = _m.Modeller()\n", 
                "\n", 
                "# Access the primary scenario and fetch the network\n", 
                "scenario = modeller.scenario\n", 
                "network = scenario.get_network()\n", 
                "\n", 
                "# Create the @hwy_vht extra attribute in the network\n", 
                "network.create_attribute('LINK', '@hwy_vht')\n", 
                "\n", 
                "# Initialize variable to store total VHT sum\n", 
                "total_hwy_vht = 0\n", 
                "\n", 
                "# Loop through the links and calculate VHT for highway links\n", 
                "for link in network.links():\n", 
                "    if link['@fac'] == 0:\n", 
                "        link_vht = (link.auto_volume + link.additional_volume) * link.auto_time\n", 
                "        link['@hwy_vht'] = link_vht\n", 
                "        total_hwy_vht += link_vht\n", 
                "\n", 
                "# Create @hwy_vht attribute in the scenario\n", 
                "scenario.create_extra_attribute('LINK', '@hwy_vht')\n", 
                "\n", 
                "# Publish the network\n", 
                "scenario.publish_network(network)\n", 
                "\n", 
                "# Print the total VHT\n", 
                "print \"Total highway VHT =\", total_hwy_vht\n", 
                "        "
            ]
        }, 
        {
            "cell_type": "markdown", 
            "metadata": {}, 
            "source": [
                "## Practice #3: Matrix API\n", 
                "### Intradistrict demands\n", 
                "\n", 
                "The City of Winnipeg would like to know how many vehicles start and end their trips within a single district (\"intradistrict trips\"). Use the Matrix API to read the contents of the auto demand matrix, `mf1`, and print the total intradistrict demands for each of the ten districts.\n", 
                "\n", 
                "Hints:\n", 
                "\n", 
                "* There are ten districts in Winnipeg: `ga0` to `ga9`\n", 
                "* In this example, it may be helpful to use the `emmebank.partition.group` function, which returns a list of zones within a certain partition. For example, `emmebank.partition('ga').group(1)` will return a list of zones within district 1.\n", 
                "\n"
            ]
        }, 
        {
            "cell_type": "code", 
            "execution_count": null, 
            "metadata": {
                "show_input": true
            }, 
            "outputs": [], 
            "source": [
                "import inro.modeller as _m\n", 
                "modeller = _m.Modeller()\n", 
                "\n", 
                "emmebank = scenario.emmebank\n", 
                "partition_ga = emmebank.partition('ga')\n", 
                "\n", 
                "# Fetch auto demand matrix data (mf1)\n", 
                "auto_demand_matrix = emmebank.matrix(\"mf1\")\n", 
                "auto_demand = auto_demand_matrix.get_data()\n", 
                "\n", 
                "# Loop through each district (ga0..ga9)\n", 
                "for district in range(0,10):\n", 
                "    \n", 
                "    intradist_trips = 0  # Initialize intradistrict trip sum\n", 
                "    district_zones = partition_ga.group(district) # Set list of zones for this district\n", 
                "    \n", 
                "    # Loop through all possible OD pairs in this district and save the sum\n", 
                "    for p in district_zones:\n", 
                "        for q in district_zones:\n", 
                "            trips = auto_demand.get(p, q)\n", 
                "            intradist_trips += trips\n", 
                "    \n", 
                "    # After looping through all OD pairs, print intradistrict sum\n", 
                "    print \"Local trips in district %d: %d\" % (district, intradist_trips)"
            ]
        }, 
        {
            "cell_type": "markdown", 
            "metadata": {}, 
            "source": [
                "## Practice #4: Desktop API\n", 
                "### Printing traffic results from all scenarios\n", 
                "\n", 
                "The current Winnipeg project contains multiple scenarios with traffic results. Use the Desktop API to loop through each sceanrio in your project, and save an image of traffic results for each scenario. Your solution should use the _Volumes (on links and turns)_ worksheet, and use the _Downtown_ view to generate each image.\n", 
                "\n", 
                "Hints:\n", 
                "\n", 
                "* Create a new folder in your project directory called \"Result_images\" to store the outputs\n", 
                "* As an argument to the `save_as_image` function, you will need to access the bounding box of the _Downtown_ view. This is done using the `get_box()` function"
            ]
        }, 
        {
            "cell_type": "code", 
            "execution_count": null, 
            "metadata": {
                "show_input": true
            }, 
            "outputs": [], 
            "source": [
                "import inro.modeller as _m\n", 
                "import os\n", 
                "modeller = _m.Modeller()\n", 
                "\n", 
                "desktop = modeller.desktop\n", 
                "\n", 
                "# Find the directory of the current project (used to save images)\n", 
                "project_directory = os.path.dirname(desktop.project.path)\n", 
                "\n", 
                "# Access the Explorer panel and current database\n", 
                "data_explorer = desktop.data_explorer()\n", 
                "emmebank = data_explorer.active_database()\n", 
                "\n", 
                "# Access and open the Volumes (on links and turns) worksheet\n", 
                "worksheet_folder = desktop.root_worksheet_folder()\n", 
                "worksheet_path = [\"General\", \"Results Analysis\", \"Traffic\", \"Volumes (on links and turns)\"]\n", 
                "worksheet_item = worksheet_folder.find_item(worksheet_path)\n", 
                "vol_worksheet = worksheet_item.open()\n", 
                "\n", 
                "# Access the Downtown view\n", 
                "view_folder = desktop.root_view_folder()\n", 
                "view_path = [\"Districts\", \"Downtown\"]\n", 
                "downtown_view = view_folder.find_item(view_path)\n", 
                "\n", 
                "# Change the view of the worksheet to 'Downtown'\n", 
                "\n", 
                "\n", 
                "# Loop through all scenarios\n", 
                "for scenario in emmebank.scenarios():\n", 
                "    \n", 
                "    # Set primary scenario\n", 
                "    data_explorer.replace_primary_scenario(scenario)\n", 
                "    \n", 
                "    # Save image using Downtown view bounding box\n", 
                "    image_filepath = os.path.join(project_directory, 'Result_images', 'Volumes_Scenario%d.png' % scenario.number())\n", 
                "    vol_worksheet.save_as_image(image_filepath, size=(800,600), view_box=downtown_view.get_box())"
            ]
        }, 
        {
            "cell_type": "code", 
            "execution_count": null, 
            "metadata": {}, 
            "outputs": [], 
            "source": []
        }
    ], 
    "metadata": {
        "kernelspec": {
            "display_name": "Python 2", 
            "language": "python", 
            "name": "python2"
        }, 
        "language_info": {
            "codemirror_mode": {
                "name": "ipython", 
                "version": 2
            }, 
            "file_extension": ".py", 
            "mimetype": "text/x-python", 
            "name": "python", 
            "nbconvert_exporter": "python", 
            "pygments_lexer": "ipython2", 
            "version": "2.7.14"
        }, 
        "modeller": {
            "desktop_app_port": "4242"
        }
    }, 
    "nbformat": 4, 
    "nbformat_minor": 1
}