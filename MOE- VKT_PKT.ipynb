{
 "cells": [
  {
   "cell_type": "code",
   "execution_count": 10,
   "metadata": {
    "show_input": true
   },
   "outputs": [],
   "source": [
    "import inro.modeller as m\n",
    "mm = m.Modeller()\n",
    "eb = m.Modeller().emmebank\n",
    "scenario = eb.scenario(1)\n",
    "network = scenario.get_network()\n",
    "\n",
    "common = mm.module('org.emme.common')\n",
    "moe = mm.module('org.emme.moe')"
   ]
  },
  {
   "cell_type": "code",
   "execution_count": 50,
   "metadata": {
    "show_input": true
   },
   "outputs": [
    {
     "ename": "AttributeError",
     "evalue": "'Network' object has no attribute 'Mode'",
     "output_type": "error",
     "traceback": [
      "\u001b[1;31m---------------------------------------------------------------------------\u001b[0m",
      "\u001b[1;31mAttributeError\u001b[0m                            Traceback (most recent call last)",
      "\u001b[1;32m<ipython-input-50-02b887b3ce5a>\u001b[0m in \u001b[0;36m<module>\u001b[1;34m()\u001b[0m\n\u001b[1;32m----> 1\u001b[1;33m \u001b[0mroad_MOE\u001b[0m\u001b[1;33m(\u001b[0m\u001b[0mnetwork\u001b[0m\u001b[1;33m,\u001b[0m\u001b[0meb\u001b[0m\u001b[1;33m)\u001b[0m\u001b[1;33m\u001b[0m\u001b[0m\n\u001b[0m",
      "\u001b[1;32m<ipython-input-49-bae630f7ceed>\u001b[0m in \u001b[0;36mroad_MOE\u001b[1;34m(network, eb)\u001b[0m\n\u001b[0;32m     86\u001b[0m \u001b[1;33m\u001b[0m\u001b[0m\n\u001b[0;32m     87\u001b[0m                 \u001b[1;31m#check if hov lane\u001b[0m\u001b[1;33m\u001b[0m\u001b[1;33m\u001b[0m\u001b[0m\n\u001b[1;32m---> 88\u001b[1;33m                 \u001b[1;32mif\u001b[0m \u001b[0mnetwork\u001b[0m\u001b[1;33m.\u001b[0m\u001b[0mMode\u001b[0m\u001b[1;33m(\u001b[0m\u001b[1;34m'j'\u001b[0m\u001b[1;33m)\u001b[0m \u001b[1;32mnot\u001b[0m \u001b[1;32min\u001b[0m \u001b[0mlink\u001b[0m\u001b[1;33m.\u001b[0m\u001b[0mmodes\u001b[0m\u001b[1;33m:\u001b[0m\u001b[1;33m\u001b[0m\u001b[0m\n\u001b[0m\u001b[0;32m     89\u001b[0m                     \u001b[0mtotal_km_hov_fwy\u001b[0m \u001b[1;33m+=\u001b[0m \u001b[0mlink\u001b[0m\u001b[1;33m.\u001b[0m\u001b[0mlength\u001b[0m\u001b[1;33m\u001b[0m\u001b[0m\n\u001b[0;32m     90\u001b[0m                     \u001b[1;31m#check if congested\u001b[0m\u001b[1;33m\u001b[0m\u001b[1;33m\u001b[0m\u001b[0m\n",
      "\u001b[1;31mAttributeError\u001b[0m: 'Network' object has no attribute 'Mode'"
     ]
    }
   ],
   "source": []
  },
  {
   "cell_type": "code",
   "execution_count": 71,
   "metadata": {
    "code_folding": [],
    "show_input": true
   },
   "outputs": [
    {
     "name": "stdout",
     "output_type": "stream",
     "text": [
      "Total Auto VKT is: 18,382,190\n",
      "Total Auto VHT is: 373,359\n",
      "Average SOV Freeway Speed is: 62.65\n",
      "Average HOV Freeway Speed is: 62.91\n",
      "Average Transit Freeway Speed is: 60.72\n",
      "Average Truck Freeway Speed is: 70.13\n",
      "Average SOV non-freeway Speed is: 44.42\n",
      "Average HOV non-Freeway Speed is: 43.15\n",
      "Average Transit non-Freeway Speed is: 35.35\n",
      "Average Truck non-Freeway Speed is: 53.65\n",
      "20% of SOV freeways are congested\n",
      "18% of HOV freeways are congested\n",
      "6% of SOV non-freeways are congested\n",
      "1% of HOV non-freeways are congested\n"
     ]
    }
   ],
   "source": [
    "from itertools import islice\n",
    "\n",
    "def road_MOE(network,eb):    \n",
    "    vol_attributes = [\"@volau1_nt\",\"@volau1_toll\",\"@volau2_nt_hov\",\n",
    "                      \"@volau2_nt_nh\",\"@volau2_toll_hov\",\"@volau2_toll_nh\",\n",
    "                      \"@volau_htruck\",\"@volau_ltruck\",\"@volau_mtruck\"]\n",
    "    cong_frac =0.85\n",
    "    \n",
    "    #VKT/PKT on arterials\n",
    "    total_VKT_SOV_art = 0.0\n",
    "    total_VKT_HOV_art = 0.0\n",
    "    total_PKT_transit_art = 0.0\n",
    "    total_VKT_trucks_art = 0.0\n",
    "    \n",
    "    #VKT/PKT on freeways\n",
    "    total_VKT_SOV_fwy = 0.0\n",
    "    total_VKT_HOV_fwy = 0.0\n",
    "    total_PKT_transit_fwy = 0.0\n",
    "    total_VKT_trucks_fwy = 0.0\n",
    "    \n",
    "    #VHT/PHT on arterials\n",
    "    total_VHT_SOV_art = 0.0\n",
    "    total_VHT_HOV_art = 0.0\n",
    "    total_PHT_transit_art = 0.0\n",
    "    total_VHT_trucks_art = 0.0\n",
    "    \n",
    "    #VHT/PHT on freeways\n",
    "    total_VHT_SOV_fwy = 0.0\n",
    "    total_VHT_HOV_fwy = 0.0\n",
    "    total_PHT_transit_fwy = 0.0\n",
    "    total_VHT_trucks_fwy = 0.0\n",
    "    \n",
    "    #total kilometres\n",
    "    total_km_sov_fwy = 0.0\n",
    "    total_km_hov_fwy = 0.0\n",
    "    total_km_sov_art = 0.0\n",
    "    total_km_hov_art = 0.0\n",
    "    \n",
    "    #total congested kilometres\n",
    "    cong_km_sov_fwy = 0.0\n",
    "    cong_km_hov_fwy = 0.0\n",
    "    cong_km_sov_art = 0.0\n",
    "    cong_km_hov_art = 0.0\n",
    "\n",
    "\n",
    "    freeway_vdfs = [11,12,13,14,15,16]\n",
    "\n",
    "    for link in network.links():\n",
    "        #skip connector links, transit-only links and links with no length\n",
    "        if link.volume_delay_func != 90 and link.volume_delay_func !=0 and link.length > 0:\n",
    "            \n",
    "            volau = 0.0\n",
    "            vol_sov = 0.0\n",
    "            vol_hov = 0.0\n",
    "            vol_transit = 0.0\n",
    "            vol_trucks = 0.0\n",
    "            \n",
    "            for volume in vol_attributes:\n",
    "                volau += link[volume]\n",
    "                #SOV\n",
    "                if volume in [\"@volau1_nt\",\"@volau1_toll\"]:\n",
    "                    vol_sov += link[volume]\n",
    "                #HOV\n",
    "                elif volume in [\"@volau2_nt_hov\",\"@volau2_nt_nh\",\"@volau2_toll_hov\",\"@volau2_toll_nh\"]:\n",
    "                    vol_hov += link[volume]\n",
    "                #Trucks\n",
    "                elif volume in [\"@volau_htruck\",\"@volau_ltruck\",\"@volau_mtruck\"]:\n",
    "                    vol_trucks += link[volume]\n",
    "            \n",
    "            #transit \n",
    "            for line in link.segments():\n",
    "                 vol_transit  += line[\"@voltr_avg\"]\n",
    "            \n",
    "            #calculate link travel time from VDF, in hours\n",
    "            timau = calc_link_time(link,volau,eb) / 60 \n",
    "            \n",
    "            #check if freeway\n",
    "            if link.volume_delay_func in freeway_vdfs:\n",
    "                \n",
    "                total_VKT_SOV_fwy += link.length * vol_sov\n",
    "                total_VKT_HOV_fwy += link.length * vol_hov\n",
    "                total_PKT_transit_fwy += link.length * vol_transit\n",
    "                total_VKT_trucks_fwy += link.length * vol_trucks\n",
    "                \n",
    "                total_VHT_SOV_fwy += timau * vol_sov\n",
    "                total_VHT_HOV_fwy += timau * vol_hov\n",
    "                total_PHT_transit_fwy += timau * vol_transit\n",
    "                total_VHT_trucks_fwy += timau * vol_trucks\n",
    "                \n",
    "                #check if hov lane\n",
    "                if network.mode('j') not in link.modes:\n",
    "                    total_km_hov_fwy += link.length\n",
    "                    #check if congested\n",
    "                    if volau/(link.num_lanes*link.data3) > cong_frac:\n",
    "                        cong_km_hov_fwy += link.length\n",
    "                else:\n",
    "                    total_km_sov_fwy += link.length\n",
    "                    #check if congested\n",
    "                    if volau/(link.num_lanes*link.data3) > cong_frac:\n",
    "                        cong_km_sov_fwy += link.length            \n",
    "            else:\n",
    "                total_VKT_SOV_art += link.length * vol_sov\n",
    "                total_VKT_HOV_art += link.length * vol_hov\n",
    "                total_PKT_transit_art += link.length * vol_transit\n",
    "                total_VKT_trucks_art += link.length * vol_trucks                \n",
    "                \n",
    "                total_VHT_SOV_art += timau * vol_sov\n",
    "                total_VHT_HOV_art += timau * vol_hov\n",
    "                total_PHT_transit_art += timau * vol_transit\n",
    "                total_VHT_trucks_art += timau * vol_trucks\n",
    "                \n",
    "                #check if hov lane\n",
    "                if network.mode('j') not in link.modes:\n",
    "                    total_km_hov_art += link.length\n",
    "                    #check if congested\n",
    "                    if volau/(link.num_lanes*link.data3) > cong_frac:\n",
    "                        cong_km_hov_art += link.length\n",
    "                else:\n",
    "                    total_km_sov_art += link.length\n",
    "                    #check if congested\n",
    "                    if volau/(link.num_lanes*link.data3) > cong_frac:\n",
    "                        cong_km_sov_art += link.length \n",
    "                \n",
    "\n",
    "    print \"Total Auto VKT is: \" + \"{0:,.0f}\".format(total_VKT_SOV_art + total_VKT_HOV_art + total_VKT_SOV_fwy + total_VKT_HOV_fwy)\n",
    "    print \"Total Auto VHT is: \" + \"{0:,.0f}\".format(total_VHT_SOV_art + total_VHT_HOV_art + total_VHT_SOV_fwy + total_VHT_HOV_fwy)\n",
    "    \n",
    "    print \"Average SOV Freeway Speed is: \" + \"{0:,.2f}\".format(total_VKT_SOV_fwy/total_VHT_SOV_fwy)\n",
    "    print \"Average HOV Freeway Speed is: \" + \"{0:,.2f}\".format(total_VKT_HOV_fwy/total_VHT_HOV_fwy)\n",
    "    print \"Average Transit Freeway Speed is: \" + \"{0:,.2f}\".format(total_PKT_transit_fwy/total_PHT_transit_fwy)\n",
    "    print \"Average Truck Freeway Speed is: \" + \"{0:,.2f}\".format(total_VKT_trucks_fwy/total_VHT_trucks_fwy)\n",
    "   \n",
    "    print \"Average SOV non-freeway Speed is: \" + \"{0:,.2f}\".format(total_VKT_SOV_art/total_VHT_SOV_art)\n",
    "    print \"Average HOV non-Freeway Speed is: \" + \"{0:,.2f}\".format(total_VKT_HOV_art/total_VHT_HOV_art)\n",
    "    print \"Average Transit non-Freeway Speed is: \" + \"{0:,.2f}\".format(total_PKT_transit_art/total_PHT_transit_art)\n",
    "    print \"Average Truck non-Freeway Speed is: \" + \"{0:,.2f}\".format(total_VKT_trucks_art/total_VHT_trucks_art)\n",
    "    \n",
    "    print \"{0:,.0f}\".format(cong_km_sov_fwy/total_km_sov_fwy*100)+\"% of SOV freeways are congested\"\n",
    "    print \"{0:,.0f}\".format(cong_km_hov_fwy/total_km_hov_fwy*100)+\"% of HOV freeways are congested\" \n",
    "    print \"{0:,.0f}\".format(cong_km_sov_art/total_km_sov_art*100)+\"% of SOV non-freeways are congested\" \n",
    "    print \"{0:,.0f}\".format(cong_km_hov_art/total_km_hov_art*100)+\"% of HOV non-freeways are congested\" \n",
    "\n",
    "\n",
    "\n",
    "def calc_link_time(link, volau, eb):\n",
    "    function_string = eb.function(\"fd\" + str(link.volume_delay_func)).expression\n",
    "    function_string = function_string.replace(\"length\",\"link.length\")\n",
    "    function_string = function_string.replace(\"lanes\",\"link.num_lanes\")\n",
    "    function_string = function_string.replace(\"ul2\",\"link.data2\")\n",
    "    function_string = function_string.replace(\"ul3\",\"link.data3\")\n",
    "    function_string = function_string.replace(\"^\",\"**\")\n",
    "    function_string = function_string.replace(\"(volau+volad)\",str(volau))\n",
    "    return eval(function_string)\n",
    "\n",
    "road_MOE(network,eb)"
   ]
  },
  {
   "cell_type": "code",
   "execution_count": 45,
   "metadata": {
    "show_input": true
   },
   "outputs": [
    {
     "name": "stdout",
     "output_type": "stream",
     "text": [
      "fd1 (length*60/ul2/0.98)\n",
      "fd2 (length*60/ul2)*(1+put((volau+volad)/(lanes*ul3))^4)*(get(1).le.1)+(4*get(1)-2)*(get(1).gt.1)\n",
      "fd3 (length*60/ul2)*(1+put((volau+volad)/(lanes*ul3))^6)*(get(1).le.1)+(6*get(1)-4)*(get(1).gt.1)\n",
      "fd8 (length*60/ul2)*((1+put((volau+volad+el1)/(lanes*ul3))^6)*(get(1).le.1)+(6*get(1)-4)*(get(1).gt.1))\n",
      "fd9 (length*60/ul2)*((1+put((volau+volad+el1)/(lanes*ul3))^6)*(get(1).le.1)+(6*get(1)-4)*(get(1).gt.1))\n",
      "fd10 (length*60/ul2)*(1+((volau+volad)/(lanes*ul3))^6)\n",
      "fd11 (length*60/ul2)*(1+((volau+volad)/(lanes*ul3))^6)\n",
      "fd12 (length*60/ul2)*(1+((volau+volad)/(lanes*ul3))^6)\n",
      "fd13 (length*60/ul2)*(1+((volau+volad)/(lanes*ul3))^6)\n",
      "fd14 (length*60/ul2)*(1+((volau+volad)/(lanes*ul3))^6)\n",
      "fd15 (length*60/ul2)*(1+((volau+volad)/(lanes*ul3))^6)\n",
      "fd16 (length*60/ul2)*(1+((volau+volad)/(lanes*ul3))^6)\n",
      "fd17 (length*60/ul2)*(1+((volau+volad)/(lanes*ul3))^6)\n",
      "fd18 (length*60/ul2)*(1+((volau+volad)/(lanes*ul3))^6)\n",
      "fd19 (length*60/ul2)*(1+((volau+volad)/(lanes*ul3))^6)\n",
      "fd20 (length*60/ul2)*(1+((volau+volad)/(lanes*ul3))^4)\n",
      "fd21 (length*60/ul2)*(1+((volau+volad)/(lanes*ul3))^4)\n",
      "fd22 (length*60/ul2)*(1+((volau+volad)/(lanes*ul3))^4)\n",
      "fd23 (length*60/ul2)*(1+((volau+volad)/(lanes*ul3))^4)\n",
      "fd24 (length*60/ul2/0.98)*(((1+put((volau+volad)/(lanes*ul3))^4)*(get(1).le.1)+(4*get(1)-2)*(get(1).gt.1)))\n",
      "fd25 (length*60/ul2)*((1+put((volau+volad+el1)/(lanes*ul3))^4)*(get(1).le.1)+(4*get(1)-2)*(get(1).gt.1))\n",
      "fd29 (length*60/ul2/0.98)*(((1+put((volau+volad)/(lanes*ul3))^6)))\n",
      "fd30 (length*60/ul2)*(1+((volau+volad)/(lanes*ul3))^4)\n",
      "fd31 (length*60/ul2)*(1+((volau+volad)/(lanes*ul3))^4)\n",
      "fd32 (length*60/ul2)*(1+((volau+volad)/(lanes*ul3))^4)\n",
      "fd33 (length*60/ul2)*((1+put((volau+volad+el1)/(lanes*ul3))^4)*(get(1).le.1)+(4*get(1)-2)*(get(1).gt.1))\n",
      "fd34 (length*60/ul2)*((1+put((volau+volad+el1)/(lanes*ul3))^4)*(get(1).le.1)+(4*get(1)-2)*(get(1).gt.1))\n",
      "fd40 (length*60/ul2)*(1+((volau+volad)/(lanes*ul3))^4)\n",
      "fd41 (length*60/ul2)*(1+((volau+volad)/(lanes*ul3))^4)\n",
      "fd42 (length*60/ul2)*((1+put((volau+volad+el1)/(lanes*ul3))^4)*(get(1).le.1)+(4*get(1)-2)*(get(1).gt.1))\n",
      "fd43 (length*60/ul2)*((1+put((volau+volad+el1)/(lanes*ul3))^4)*(get(1).le.1)+(4*get(1)-2)*(get(1).gt.1))\n",
      "fd44 (length*60/ul2)*((1+put((volau+volad+el1)/(lanes*ul3))^4)*(get(1).le.1)+(4*get(1)-2)*(get(1).gt.1))\n",
      "fd49 (length*60/ul2/0.98)*(((1+put((volau+volad)/(lanes*ul3))^4)*(get(1).le.1)+(4*get(1)-2)*(get(1).gt.1)))\n",
      "fd50 (length*60/ul2)*(1+((volau+volad)/(lanes*ul3))^4)\n",
      "fd51 (length*60/ul2)*(1+((volau+volad)/(lanes*ul3))^4)\n",
      "fd52 (length*60/ul2)*((1+put((volau+volad+el1)/(lanes*ul3))^4)*(get(1).le.1)+(4*get(1)-2)*(get(1).gt.1))\n",
      "fd53 (length*60/ul2)*((1+put((volau+volad+el1)/(lanes*ul3))^4)*(get(1).le.1)+(4*get(1)-2)*(get(1).gt.1))\n",
      "fd54 (length*60/ul2)*((1+put((volau+volad+el1)/(lanes*ul3))^4)*(get(1).le.1)+(4*get(1)-2)*(get(1).gt.1))\n",
      "fd55 (length*60/ul2/0.98)*(((1+put((volau+volad)/(lanes*ul3))^4)*(get(1).le.1)+(4*get(1)-2)*(get(1).gt.1)))\n",
      "fd61 (length*60/ul2)*(((1+put((volau+volad)/(lanes*ul3))^4)*(get(1).le.1)+(4*get(1)-2)*(get(1).gt.1)))\n",
      "fd63 (length*60/ul2)*((1+put((volau+volad+el1)/(lanes*ul3))^4)*(get(1).le.1)+(4*get(1)-2)*(get(1).gt.1))\n",
      "fd64 (length*60/ul2)*((1+put((volau+volad+el1)/(lanes*ul3))^4)*(get(1).le.1)+(4*get(1)-2)*(get(1).gt.1))\n",
      "fd70 (length*60/ul2)\n",
      "fd74 (length*60/ul2/0.98)*((1+put((volau+volad+ul1)/(lanes*ul3))^4)*(get(1).le.1)+(4*get(1)-2)*(get(1).gt.1))\n",
      "fd80 (length*60/ul2/0.98)\n",
      "fd90 (length*60/ul2)\n",
      "fd99 (length*60/ul2/0.98)\n",
      "ft1 (length*60/us1)\n",
      "ft2 (length*60/us1)\n",
      "ft3 (length*60/us1)\n",
      "ft4 (length*60/us1)\n"
     ]
    }
   ],
   "source": [
    "#Reduction in Auto VKT (overall or per capita)\n",
    "#Reduction in Auto VKT (overall or per capita)\n",
    "#Green house gas emissions per capita\n",
    "#Reduction in Auto VHT (overall or per capita)\n",
    "#Average travel speeds (including trucks and transit on road links)\n",
    "#% of road network congested\n",
    "link = network.link(42823,43419)\n",
    "link.volume_delay_func\n",
    "for function in eb.functions():\n",
    "    print function.id, function.expression"
   ]
  },
  {
   "cell_type": "code",
   "execution_count": 21,
   "metadata": {
    "show_input": true
   },
   "outputs": [
    {
     "name": "stdout",
     "output_type": "stream",
     "text": [
      "There are 0.00 km of managed lanes in region 1\n",
      "There are 18.69 km of managed lanes in region 2\n",
      "There are 17.27 km of managed lanes in region 3\n",
      "There are 165.31 km of managed lanes in region 4\n",
      "There are 102.02 km of managed lanes in region 5\n",
      "There are 136.58 km of managed lanes in region 6\n"
     ]
    }
   ],
   "source": [
    "#Route-km of MANAGED lanes\n",
    "num_of_regions = 24\n",
    "running_total = [0.0]*num_of_regions\n",
    "for link in network.links():\n",
    "    if network.mode(\"j\") not in link.modes and network.mode(\"c\") in link.modes:\n",
    "        region = int(str(link.type)[0])\n",
    "        running_total[region] += link.length\n",
    "#print \"There are \" + \"{0:.2f}\".format(running_total) + \" km of managed lanes in the network.\"\n",
    "index = 1 \n",
    "for region in running_total:\n",
    "    print \"There are \" + \"{0:.2f}\".format(region) + \" km of managed lanes in region \" + str(index)\n",
    "    index += 1\n",
    "    \n",
    "    # inter-regional HOV corridor connections to Outer Ring municipalities\n",
    "# inter-regional HOV / managed lane corridor road connections\n",
    "# Outer Ring municipalities with no inter-regional HOV / managed lane connection"
   ]
  },
  {
   "cell_type": "code",
   "execution_count": 5,
   "metadata": {
    "show_input": true
   },
   "outputs": [
    {
     "name": "stdout",
     "output_type": "stream",
     "text": [
      "[1, 100, 101, 102, 103, 104, 105, 106, 107, 108, 109, 110, 111, 112, 113, 114, 115, 116, 217, 218, 219, 220, 221, 222, 223, 224, 325, 326, 327, 328, 329, 330, 331, 332, 333, 434, 435, 436, 437, 500, 537, 538, 539, 540, 641, 642, 643, 644, 645, 646, 700, 777, 800, 810, 820, 850, 870, 880, 900, 910, 930, 950]\n"
     ]
    }
   ],
   "source": [
    "\n",
    "types = []\n",
    "for link in network.links():\n",
    "    if link.type not in types:\n",
    "        types.append(link.type)\n",
    "print sorted(types)"
   ]
  }
 ],
 "metadata": {
  "kernelspec": {
   "display_name": "Python 2",
   "language": "python",
   "name": "python2"
  },
  "language_info": {
   "codemirror_mode": {
    "name": "ipython",
    "version": 2
   },
   "file_extension": ".py",
   "mimetype": "text/x-python",
   "name": "python",
   "nbconvert_exporter": "python",
   "pygments_lexer": "ipython2",
   "version": "2.7.14"
  },
  "modeller": {
   "desktop_app_port": "4242"
  }
 },
 "nbformat": 4,
 "nbformat_minor": 1
}
