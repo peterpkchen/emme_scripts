{
 "cells": [
  {
   "cell_type": "code",
   "execution_count": 3,
   "metadata": {
    "show_input": true
   },
   "outputs": [],
   "source": [
    "import os\n",
    "_m = inro.modeller\n",
    "eb = _m.Modeller().emmebank\n",
    "NAMESPACE = \"inro.emme.data.extra_attribute.create_extra_attribute\"\n",
    "create_extra = _m.Modeller().tool(NAMESPACE)\n",
    "NAMESPACE2 = \"inro.emme.data.extra_attribute.import_extra_attributes\"\n",
    "import_values = _m.Modeller().tool(NAMESPACE2)\n",
    "NAMESPACE3 = \"inro.emme.data.scenario.change_primary_scenario\"\n",
    "change_scenario = _m.Modeller().tool(NAMESPACE3)\n",
    "NAMESPACE4 = \"inro.emme.data.extra_attribute.export_extra_attributes\"\n",
    "export_extra = _m.Modeller().tool(NAMESPACE4)\n",
    "\n",
    "fldr_path = r\"C:\\Users\\PECHEN\\Desktop\\DemandAdj Specs\"\n",
    "file_path = os.path.join(fldr_path, \"total_407counts_am.csv\")\n",
    "\n",
    "#scens to add to \n",
    "scens = [35, 36, 37, 38, 39, 44]"
   ]
  },
  {
   "cell_type": "code",
   "execution_count": 11,
   "metadata": {
    "show_input": true
   },
   "outputs": [
    {
     "name": "stdout",
     "output_type": "stream",
     "text": [
      "hehe scen 35\n",
      "done scen 35\n",
      "hehe scen 36\n",
      "done scen 36\n",
      "hehe scen 37\n",
      "done scen 37\n",
      "hehe scen 38\n",
      "done scen 38\n",
      "hehe scen 39\n",
      "done scen 39\n",
      "hehe scen 44\n",
      "done scen 44\n"
     ]
    }
   ],
   "source": [
    "for scen in scens:\n",
    "    scen = eb.scenario(scen)\n",
    "    change_scenario(scenario=scen)\n",
    "    print(\"hehe scen {}\".format(scen))\n",
    "    create_extra(extra_attribute_type=\"LINK\",\n",
    "                           extra_attribute_name=\"@counts407_sel\",\n",
    "                           extra_attribute_description=\"407_basevolumes\",\n",
    "                           overwrite=True)\n",
    "    create_extra(extra_attribute_type=\"LINK\",\n",
    "                           extra_attribute_name=\"@sel_count\",\n",
    "                           extra_attribute_description=\"selectlink_basevolumes\",\n",
    "                           overwrite=True)\n",
    "    import_values(file_path,\n",
    "              scenario = scen,\n",
    "              field_separator=\",\",\n",
    "              column_labels={0: \"inode\", \n",
    "                             1: \"jnode\", \n",
    "                             2: \"@counts407_sel\"},\n",
    "              revert_on_error=True)\n",
    "    print(\"done scen {}\".format(scen))"
   ]
  },
  {
   "cell_type": "code",
   "execution_count": 4,
   "metadata": {},
   "outputs": [],
   "source": [
    "for scen in scens:\n",
    "    scen = eb.scenario(scen)\n",
    "    change_scenario(scenario = scen)\n",
    "    export_extra(extra_attributes = \"@sel\", field_separator=\",\", export_path = fldr_path)\n",
    "    print('exported @sel for {}'.format(scen))"
   ]
  },
  {
   "cell_type": "code",
   "execution_count": null,
   "metadata": {},
   "outputs": [],
   "source": []
  }
 ],
 "metadata": {
  "kernelspec": {
   "display_name": "Python 2",
   "language": "python",
   "name": "python2"
  },
  "language_info": {
   "codemirror_mode": {
    "name": "ipython",
    "version": 2
   },
   "file_extension": ".py",
   "mimetype": "text/x-python",
   "name": "python",
   "nbconvert_exporter": "python",
   "pygments_lexer": "ipython2",
   "version": "2.7.14"
  },
  "modeller": {
   "desktop_app_port": "58985"
  }
 },
 "nbformat": 4,
 "nbformat_minor": 2
}
