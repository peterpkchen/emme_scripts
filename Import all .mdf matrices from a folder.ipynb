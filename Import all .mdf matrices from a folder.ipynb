{
 "cells": [
  {
   "cell_type": "code",
   "execution_count": 1,
   "metadata": {
    "show_input": true
   },
   "outputs": [
    {
     "name": "stdout",
     "output_type": "stream",
     "text": [
      "am_heavy.mdf\n",
      "Imported matrix: am_heavy.mdf to: mf33\n",
      "am_light.mdf\n",
      "Imported matrix: am_light.mdf to: mf34\n",
      "am_medium.mdf\n",
      "Imported matrix: am_medium.mdf to: mf35\n",
      "dn_heavy.mdf\n",
      "Imported matrix: dn_heavy.mdf to: mf36\n",
      "dn_light.mdf\n",
      "Imported matrix: dn_light.mdf to: mf37\n",
      "dn_medium.mdf\n",
      "Imported matrix: dn_medium.mdf to: mf38\n",
      "ev_heavy.mdf\n",
      "Imported matrix: ev_heavy.mdf to: mf39\n",
      "ev_light.mdf\n",
      "Imported matrix: ev_light.mdf to: mf40\n",
      "ev_medium.mdf\n",
      "Imported matrix: ev_medium.mdf to: mf41\n",
      "md_heavy.mdf\n",
      "Imported matrix: md_heavy.mdf to: mf42\n",
      "md_light.mdf\n",
      "Imported matrix: md_light.mdf to: mf43\n",
      "md_medium.mdf\n",
      "Imported matrix: md_medium.mdf to: mf44\n",
      "pm_heavy.mdf\n",
      "Imported matrix: pm_heavy.mdf to: mf45\n",
      "pm_light.mdf\n",
      "Imported matrix: pm_light.mdf to: mf46\n",
      "pm_medium.mdf\n",
      "Imported matrix: pm_medium.mdf to: mf47\n",
      "Finshed Importing Matrices\n"
     ]
    }
   ],
   "source": [
    "### IMPORT ALL MATRICES IN FOLDER ###\n",
    "import os\n",
    "import inro.modeller as m\n",
    "mm = m.Modeller()\n",
    "NAMESPACE = \"tmg.input_output.import_binary_matrix\"\n",
    "import_matrices = mm.tool(NAMESPACE)           \n",
    "NAMESPACE = \"inro.emme.data.matrix.change_matrix_properties\"\n",
    "change_matrix = m.Modeller().tool(NAMESPACE)\n",
    "eb = m.Modeller().emmebank\n",
    "\n",
    "matrix_folder = u\"C:\\\\Users\\\\mnasterska\\\\Documents\\\\Projects\\\\10024572 - Macro Modelling Emergent _Serv\\\\Task9\\\\GGHM Files for HDR\\\\GGHM_2041_MTO_truckdemands\\\\\"\n",
    "\n",
    "for root, dirs, files in os.walk(matrix_folder):\n",
    "    for matrix_file in files:\n",
    "        if matrix_file.endswith(\".mdf\"):\n",
    "            print matrix_file\n",
    "            matrix_number = eb.available_matrix_identifier('FULL')\n",
    "            import_matrices(4, matrix_number[2:] ,os.path.join(root, matrix_file),mm.scenario, matrix_file[:-4] )\n",
    "            change_matrix(matrix = matrix_number,\n",
    "                    matrix_name = matrix_file[:-4],\n",
    "                  matrix_description = matrix_file[:-4])\n",
    "            print \"Imported matrix: \" + matrix_file + \" to: \" + matrix_number\n",
    "print \"Finshed Importing Matrices\""
   ]
  },
  {
   "cell_type": "code",
   "execution_count": null,
   "metadata": {
    "collapsed": true
   },
   "outputs": [],
   "source": []
  }
 ],
 "metadata": {
  "kernelspec": {
   "display_name": "Python 3",
   "language": "python",
   "name": "python3"
  },
  "language_info": {
   "codemirror_mode": {
    "name": "ipython",
    "version": 3
   },
   "file_extension": ".py",
   "mimetype": "text/x-python",
   "name": "python",
   "nbconvert_exporter": "python",
   "pygments_lexer": "ipython3",
   "version": "3.6.10"
  }
 },
 "nbformat": 4,
 "nbformat_minor": 1
}
