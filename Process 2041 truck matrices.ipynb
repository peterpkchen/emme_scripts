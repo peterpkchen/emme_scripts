{
 "cells": [
  {
   "cell_type": "markdown",
   "metadata": {},
   "source": [
    "# Import libraries"
   ]
  },
  {
   "cell_type": "code",
   "execution_count": 1,
   "metadata": {
    "collapsed": true,
    "show_input": true
   },
   "outputs": [],
   "source": [
    "#---------------------------------------------------------------------------------------------------------------\n",
    "#IMPORT LIBRARIES\n",
    "\n",
    "\n",
    "import os\n",
    "import inro.emme.desktop.app as _app #import inro.emme.desktop as _app\n",
    "import inro.modeller as m\n"
   ]
  },
  {
   "cell_type": "markdown",
   "metadata": {},
   "source": [
    "# Initialize Modeller & emmebank objects"
   ]
  },
  {
   "cell_type": "code",
   "execution_count": 2,
   "metadata": {
    "collapsed": true,
    "show_input": true
   },
   "outputs": [],
   "source": [
    "#Initialize modeller and emme.database\n",
    "mm = m.Modeller()\n",
    "from inro.emme.matrix import MatrixData\n",
    "eb = mm.emmebank\n"
   ]
  },
  {
   "cell_type": "markdown",
   "metadata": {},
   "source": [
    "# Load trip matrices from output folder"
   ]
  },
  {
   "cell_type": "code",
   "execution_count": 5,
   "metadata": {
    "collapsed": false,
    "show_input": true
   },
   "outputs": [],
   "source": [
    "#launch matrix butler to export selected trip matrices to the emmebank\n",
    "#matrix_list provides the list of matrices to be exported\n",
    "#[[number,\"mf id\", 'name of matrix']]\n",
    "\n",
    "\n",
    "#matrix_list= [[1,'mf1',\"trips_am_peak_auto1_nt\",'trips.am_peak.auto1.nt'],[2,'mf2',\"trips_am_peak_auto1_toll\",'trips.am_peak.auto1.toll'],\n",
    "#             [3,'mf3',\"trips_am_peak_auto2_nt_nh\",'trips.am_peak.auto2.nt_nh'],[4,'mf4',\"trips_am_peak_auto2_nt_hov\",'trips.am_peak.auto2.nt_hov'],\n",
    "#             [5,'mf5',\"trips_am_peak_auto2_toll_nh\",'trips.am_peak.auto2.toll_nh'],[6,'mf6',\"trips_am_peak_auto2_toll_hov\",'trips.am_peak.auto2.toll_hov'],\n",
    "#             [7,'mf7',\"trips_am_peak_auto3_nt_nh\",'trips.am_peak.auto3.nt_nh'],[8,'mf8',\"trips_am_peak_auto3_nt_hov\",'trips.am_peak.auto3.nt_hov'],\n",
    "#             [9,'mf9',\"trips_am_peak_auto3_toll_nh\",'trips.am_peak.auto3.toll_nh'],[10,'mf10',\"trips_am_peak_auto3_toll_hov\",'trips.am_peak.auto3.toll_hov'],\n",
    "#             [11,'mf11',\"trips_midday_auto1_nt\",'trips.midday.auto1.nt'],[12,'mf12',\"trips_midday_auto1_toll\",'trips.midday.auto1.toll'],\n",
    "#             [13,'mf13',\"trips_midday_auto2_nt_nh\",'trips.midday.auto2.nt_nh'],[14,'mf14',\"trips_midday_auto2_nt_hov\",'trips.midday.auto2.nt_hov'],\n",
    "#             [15,'mf15',\"trips_midday_auto2_toll_nh\",'trips.midday.auto2.toll_nh'],[16,'mf16',\"trips_midday_auto2_toll_hov\",'trips.midday.auto2.toll_hov'],\n",
    "#             [17,'mf17',\"trips_midday_auto3_nt_nh\",'trips.midday.auto3.nt_nh'],[18,'mf18',\"trips_midday_auto3_nt_hov\",'trips.midday.auto3.nt_hov'],\n",
    "#             [19,'mf19',\"trips_midday_auto3_toll_nh\",'trips.midday.auto3.toll_nh'],[20,'mf20',\"trips_midday_auto3_toll_hov\",'trips.midday.auto3.toll_hov'],\n",
    "#             [21,'mf21',\"trips_pm_peak_auto1_nt\",'trips.pm_peak.auto1.nt'],[22,'mf22',\"trips_pm_peak_auto1_toll\",'trips.pm_peak.auto1.toll'],\n",
    "#             [23,'mf23',\"trips_pm_peak_auto2_nt_nh\",'trips.pm_peak.auto2.nt_nh'],[24,'mf24',\"trips_pm_peak_auto2_nt_hov\",'trips.pm_peak.auto2.nt_hov'],\n",
    "#             [25,'mf25',\"trips_pm_peak_auto2_toll_nh\",'trips.pm_peak.auto2.toll_nh'],[26,'mf26',\"trips_pm_peak_auto2_toll_hov\",'trips.pm_peak.auto2.toll_hov'],\n",
    "#             [27,'mf27',\"trips_pm_peak_auto3_nt_nh\",'trips.pm_peak.auto3.nt_nh'],[28,'mf28',\"trips_pm_peak_auto3_nt_hov\",'trips.pm_peak.auto3.nt_hov'],\n",
    "#             [29,'mf29',\"trips_pm_peak_auto3_toll_nh\",'trips.pm_peak.auto3.toll_nh'],[30,'mf30',\"trips_pm_peak_auto3_toll_hov\",'trips.pm_peak.auto3.toll_hov'],\n",
    "#             [31,'mf31',\"trips_evening_auto1_nt\",'trips.evening.auto1.nt'],[32,'mf32',\"trips_evening_auto1_toll\",'trips.evening.auto1.toll'],\n",
    "#             [33,'mf33',\"trips_evening_auto2_nt_nh\",'trips.evening.auto2.nt_nh'],[34,'mf34',\"trips_evening_auto2_nt_hov\",'trips.evening.auto2.nt_hov'],\n",
    "#             [35,'mf35',\"trips_evening_auto2_toll_nh\",'trips.evening.auto2.toll_nh'],[36,'mf36',\"trips_evening_auto2_toll_hov\",'trips.evening.auto2.toll_hov'],\n",
    "#             [37,'mf37',\"trips_evening_auto3_nt_nh\",'trips.evening.auto3.nt_nh'],[38,'mf38',\"trips_evening_auto3_nt_hov\",'trips.evening.auto3.nt_hov'],\n",
    "#             [39,'mf39',\"trips_evening_auto3_toll_nh\",'trips.evening.auto3.toll_nh'],[40,'mf40',\"trips_evening_auto3_toll_hov\",'trips.evening.auto3.toll_hov'],\n",
    "#             [41,'mf41',\"trips_overnight_auto1_nt\",'trips.overnight.auto1.nt'],[42,'mf42',\"trips_overnight_auto1_toll\",'trips.overnight.auto1.toll'],\n",
    "#             [43,'mf43',\"trips_overnight_auto2_nt_nh\",'trips.overnight.auto2.nt_nh'],[44,'mf44',\"trips_overnight_auto2_nt_hov\",'trips.overnight.auto2.nt_hov'],\n",
    "#             [45,'mf45',\"trips_overnight_auto2_toll_nh\",'trips.overnight.auto2.toll_nh'],[46,'mf46',\"trips_overnight_auto2_toll_hov\",'trips.overnight.auto2.toll_hov'],\n",
    "#             [47,'mf47',\"trips_overnight_auto3_nt_nh\",'trips.overnight.auto3.nt_nh'],[48,'mf48',\"trips_overnight_auto3_nt_hov\",'trips.overnight.auto3.nt_hov'],\n",
    "#             [49,'mf49',\"trips_overnight_auto3_toll_nh\",'trips.overnight.auto3.toll_nh'],[50,'mf50',\"trips_overnight_auto3_toll_hov\",'trips.overnight.auto3.toll_hov'],\n",
    "#             [51,'mf51',\"trips_peak_transit_express_bus\",'trips.peak.transit.express_bus'],[52,'mf52',\"trips_peak_transit_local_bus\",'trips.peak.transit.local_bus'],\n",
    "#             [53,'mf53',\"trips_peak_transit_rapid_bus\",'trips.peak.transit.rapid_bus'],[54,'mf54',\"trips_peak_transit_subway\",'trips.peak.transit.subway'],\n",
    "#             [55,'mf55',\"trips_peak_transit_train\",'trips.peak.transit.train'],[56,'mf56',\"trips_peak_transit_ztsa\",'trips.peak.transit.ztsa'],\n",
    "#             [57,'mf57',\"trips_offpeak_transit_express_bus\",'trips.offpeak.transit.express_bus'],[58,'mf58',\"trips_offpeak_transit_local_bus\",'trips.offpeak.transit.local_bus'],\n",
    "#             [59,'mf59',\"trips_offpeak_transit_rapid_bus\",'trips.offpeak.transit.rapid_bus'],[60,'mf60',\"trips_offpeak_transit_subway\",'trips.offpeak.transit.subway'],\n",
    "#             [61,'mf61',\"trips_offpeak_transit_train\",'trips.offpeak.transit.train'],[62,'mf62',\"trips_offpeak_transit_ztsa\",'trips.offpeak.transit.ztsa']]\n",
    "\n",
    "truck_mat_list=[[1,'mf63',\"2031_am_hr_l_truck.mdf\",'2031_am_hr_l_truck','mf78',\"mf78\",\"mf63*(1+0.02)^11\",'2041_am_hr_l_truck'],\n",
    "                [2,'mf64',\"2031_am_hr_m_truck.mdf\",'2031_am_hr_m_truck','mf79',\"mf79\",\"mf64*(1+0.02)^11\",'2041_am_hr_m_truck'],\n",
    "                [3,'mf65',\"2031_am_hr_h_truck.mdf\",'2031_am_hr_h_truck','mf80',\"mf80\",\"mf65*(1+0.02)^11\",'2041_am_hr_h_truck'],\n",
    "                [4,'mf66',\"2031_md_hr_l_truck.mdf\",'2031_md_hr_l_truck','mf81',\"mf81\",\"mf66*(1+0.02)^11\",'2041_md_hr_l_truck'],\n",
    "                [5,'mf67',\"2031_md_hr_m_truck.mdf\",'2031_md_hr_m_truck','mf82',\"mf82\",\"mf67*(1+0.02)^11\",'2041_md_hr_m_truck'],\n",
    "                [6,'mf68',\"2031_md_hr_h_truck.mdf\",'2031_md_hr_h_truck','mf83',\"mf83\",\"mf68*(1+0.02)^11\",'2041_md_hr_h_truck'],\n",
    "                [7,'mf69',\"2031_pm_hr_l_truck.mdf\",'2031_pm_hr_l_truck','mf84',\"mf84\",\"mf69*(1+0.02)^11\",'2041_pm_hr_l_truck'],\n",
    "                [8,'mf70',\"2031_pm_hr_m_truck.mdf\",'2031_pm_hr_m_truck','mf85',\"mf85\",\"mf70*(1+0.02)^11\",'2041_pm_hr_m_truck'],\n",
    "                [9,'mf71',\"2031_pm_hr_h_truck.mdf\",'2031_pm_hr_h_truck','mf86',\"mf86\",\"mf71*(1+0.02)^11\",'2041_pm_hr_h_truck'],\n",
    "                [10,'mf72',\"2031_ev_hr_l_truck.mdf\",'2031_ev_hr_l_truck','mf87',\"mf87\",\"mf72*(1+0.02)^11\",'2041_ev_hr_l_truck'],\n",
    "                [11,'mf73',\"2031_ev_hr_m_truck.mdf\",'2031_ev_hr_m_truck','mf88',\"mf88\",\"mf73*(1+0.02)^11\",'2041_ev_hr_m_truck'],\n",
    "                [12,'mf74',\"2031_ev_hr_h_truck.mdf\",'2031_ev_hr_h_truck','mf89',\"mf89\",\"mf74*(1+0.02)^11\",'2041_ev_hr_h_truck'],\n",
    "                [13,'mf75',\"2031_dn_hr_l_truck.mdf\",'2031_dn_hr_l_truck','mf90',\"mf90\",\"mf75*(1+0.02)^11\",'2041_dn_hr_l_truck'],\n",
    "                [14,'mf76',\"2031_dn_hr_m_truck.mdf\",'2031_dn_hr_m_truck','mf91',\"mf91\",\"mf76*(1+0.02)^11\",'2041_dn_hr_m_truck'],\n",
    "                [15,'mf77',\"2031_dn_hr_h_truck.mdf\",'2031_dn_hr_h_truck','mf92',\"mf92\",\"mf77*(1+0.02)^11\",'2041_dn_hr_h_truck']]\n",
    "                \n",
    "\n",
    "# UPDATE THE BENCHMARK PATH         \n",
    "input_path = \"F:\\\\GGHM v4 Databanks\\\\Prototype GGHM4\\\\Inputs\\\\Base - 2031 test\\\\Truck Matrices\\\\\"\n",
    "save_path = \"F:\\\\GGHM v4 Databanks\\\\Prototype GGHM4\\\\Inputs\\\\Base - 2041 test\\\\Truck Matrices\\\\\"\n",
    "\n",
    "\n",
    "\n",
    "#load auto & transit matrices and update matrices names\n",
    "for mat in truck_mat_list:\n",
    "    \n",
    "    matrix_filename = os.path.join(input_path,mat[2]) #save matrix file name into a variable\n",
    "    md = MatrixData.load(matrix_filename)                 #load matrix from file\n",
    "    \n",
    "    if eb.matrix(mat[1]) is None: #Check if the matrix exists; if not, create it\n",
    "        NAMESPACE = \"inro.emme.data.matrix.create_matrix\"\n",
    "        create_matrix = mm.tool(NAMESPACE)\n",
    "        new_mat = create_matrix(matrix_id=mat[1],\n",
    "                        matrix_name=mat[3],\n",
    "                        matrix_description=mat[3],\n",
    "                        default_value=0)\n",
    "        matrix = eb.matrix(mat[1])\n",
    "        matrix.name = mat[3] #update matrix name\n",
    "        matrix.description = mat[3] #update matrix description\n",
    "        matrix.set_data(md) #set matrix values into mf'x'\n",
    "    else:\n",
    "        matrix = eb.matrix(mat[1])\n",
    "        matrix.name = mat[3] #update matrix name\n",
    "        matrix.description = mat[3] #update matrix description\n",
    "        matrix.set_data(md) #set matrix values into mf'x'\n",
    "        \n",
    "#load auto & transit matrices and update matrices names\n",
    "for mat in truck_mat_list:\n",
    "    \n",
    "    if eb.matrix(mat[4]) is None: #Check if the matrix exists; if not, create it\n",
    "        NAMESPACE = \"inro.emme.data.matrix.create_matrix\"\n",
    "        create_matrix = mm.tool(NAMESPACE)\n",
    "        new_mat = create_matrix(matrix_id=mat[4],\n",
    "                        matrix_name=mat[6],\n",
    "                        matrix_description=mat[6],\n",
    "                        default_value=0)\n",
    "        NAMESPACE2 = \"inro.emme.matrix_calculation.matrix_calculator\"\n",
    "        compute_matrix = mm.tool(NAMESPACE2)\n",
    "        specification = {\n",
    "    \"type\": \"MATRIX_CALCULATION\",\n",
    "    \"result\": mat[5],\n",
    "    \"expression\": mat[6],\n",
    "    \"constraint\": {\n",
    "\t\t\"by_zone\": None,\n",
    "\t\t\"by_value\": None,\n",
    "\t}\n",
    "}\n",
    "        report = compute_matrix(specification)\n",
    "\n",
    "    else:\n",
    "        matrix = eb.matrix(mat[4])\n",
    "        matrix.name = mat[7] #update matrix name\n",
    "        matrix.description = mat[7] #update matrix description\n",
    "        \n",
    "        NAMESPACE2 = \"inro.emme.matrix_calculation.matrix_calculator\"\n",
    "        compute_matrix = mm.tool(NAMESPACE2)\n",
    "        specification = {\n",
    "    \"type\": \"MATRIX_CALCULATION\",\n",
    "    \"result\": mat[5],\n",
    "    \"expression\": mat[6],\n",
    "    \"constraint\": {\n",
    "\t\t\"by_zone\": None,\n",
    "\t\t\"by_value\": None,\n",
    "\t}\n",
    "}\n",
    "        report = compute_matrix(specification)\n",
    "    \n",
    "    \n",
    "    #export matrix to mdf file\n",
    "    Export_Filename = os.path.join(save_path,mat[7]+\".mdf\")\n",
    "    SCENARIO_ID = 101  # Only needed if scenarios have different zone systems, otherwise None\n",
    "    \n",
    "    matrix_data = eb.matrix(mat[5]).get_data()\n",
    "    matrix_data.save(Export_Filename)\n",
    "        "
   ]
  },
  {
   "cell_type": "markdown",
   "metadata": {},
   "source": [
    "# Export trip matrices to *.csv files for SPD partition"
   ]
  },
  {
   "cell_type": "code",
   "execution_count": 6,
   "metadata": {
    "collapsed": false,
    "show_input": true
   },
   "outputs": [
    {
     "name": "stdout",
     "output_type": "stream",
     "text": [
      "GGHM matrices exported successfully\n"
     ]
    }
   ],
   "source": [
    "#EXPORT DEMAND MATRICES INTO EXCEL FILES \n",
    "    # demand is aggregated to the 'gg' ensemble \n",
    "    # square table formats\n",
    "    \n",
    "\n",
    "#import inro.emme.desktop.app as _app #import inro.emme.desktop as _app\n",
    "#---------------------------------------------------------------------------------------------------------------\n",
    "\n",
    "\n",
    "# (2) Export auto demand matrices in aggregated to a 'gg' ensemble - AM, midday, PM, evening & overnight\n",
    "NAMESPACE = \"inro.emme.data.matrix.export_matrices\"\n",
    "export_matrices = m.Modeller().tool(NAMESPACE)\n",
    "\n",
    "matrices_file = os.path.join(save_path,\"2031_truck_matrices.csv\")\n",
    "export_matrices(matrices=[\"mf63\",\"mf64\",\"mf65\",\"mf66\",\"mf67\",\"mf68\",\"mf69\",\"mf70\",\"mf71\",\"mf72\",\"mf73\",\"mf74\",\"mf75\",\"mf76\",\"mf77\"],\n",
    "                export_file=matrices_file,\n",
    "                partition_aggregation = {'operator': 'sum', 'origins': u'gs', 'destinations': u'gs'},\n",
    "                field_separator=',',\n",
    "                export_format=\"PROMPT_DATA_FORMAT\",\n",
    "                skip_default_values=True,\n",
    "                full_matrix_line_format=\"SQUARE\")\n",
    "\n",
    "matrices_file = os.path.join(save_path,\"2041_truck_matrices.csv\")\n",
    "export_matrices(matrices=[\"mf78\",\"mf79\",\"mf80\",\"mf81\",\"mf82\",\"mf83\",\"mf84\",\"mf85\",\"mf86\",\"mf87\",\"mf88\",\"mf89\",\"mf90\",\"mf91\",\"mf92\"],\n",
    "                export_file=matrices_file,\n",
    "                partition_aggregation = {'operator': 'sum', 'origins': u'gs', 'destinations': u'gs'},\n",
    "                field_separator=',',\n",
    "                export_format=\"PROMPT_DATA_FORMAT\",\n",
    "                skip_default_values=True,\n",
    "                full_matrix_line_format=\"SQUARE\")\n",
    "\n",
    "print \"GGHM matrices exported successfully\""
   ]
  },
  {
   "cell_type": "markdown",
   "metadata": {},
   "source": [
    "# Export matrices to *.mdf file"
   ]
  },
  {
   "cell_type": "code",
   "execution_count": null,
   "metadata": {
    "collapsed": true,
    "show_input": true
   },
   "outputs": [],
   "source": [
    "\n"
   ]
  },
  {
   "cell_type": "code",
   "execution_count": null,
   "metadata": {
    "collapsed": true,
    "show_input": true
   },
   "outputs": [],
   "source": []
  }
 ],
 "metadata": {
  "kernelspec": {
   "display_name": "Python 2",
   "language": "python",
   "name": "python2"
  },
  "language_info": {
   "codemirror_mode": {
    "name": "ipython",
    "version": 2
   },
   "file_extension": ".py",
   "mimetype": "text/x-python",
   "name": "python",
   "nbconvert_exporter": "python",
   "pygments_lexer": "ipython2",
   "version": "2.7.9"
  }
 },
 "nbformat": 4,
 "nbformat_minor": 0
}
