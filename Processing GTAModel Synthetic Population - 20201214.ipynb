{
 "cells": [
  {
   "cell_type": "code",
   "execution_count": 46,
   "metadata": {},
   "outputs": [],
   "source": [
    "import os\n",
    "import pandas as pd\n",
    "import numpy as np"
   ]
  },
  {
   "cell_type": "code",
   "execution_count": 47,
   "metadata": {},
   "outputs": [],
   "source": [
    "pth = r\"C:\\Users\\pechen\\Desktop\\Vaughan Land Use\\hdr_2051\"\n",
    "outputPth = r\"C:\\Users\\pechen\\Desktop\\Vaughan Land Use\"\n",
    "output_flename = r\"Vaughan_2051_LU.csv\""
   ]
  },
  {
   "cell_type": "code",
   "execution_count": 48,
   "metadata": {},
   "outputs": [],
   "source": [
    "pop_df = pd.read_csv(os.path.join(pth,\"HouseholdData\",\"Persons.csv\"))"
   ]
  },
  {
   "cell_type": "code",
   "execution_count": 49,
   "metadata": {},
   "outputs": [],
   "source": [
    "household_df = pd.read_csv(os.path.join(pth,\"HouseholdData\",\"Households.csv\"))"
   ]
  },
  {
   "cell_type": "code",
   "execution_count": 50,
   "metadata": {},
   "outputs": [],
   "source": [
    "zone_mapping = pd.read_csv(os.path.join(outputPth,\"GTA06Zones_MunicipalityMapping.csv\"))"
   ]
  },
  {
   "cell_type": "code",
   "execution_count": 51,
   "metadata": {},
   "outputs": [],
   "source": [
    "pop_df = pop_df.merge(household_df[[\"HouseholdId\",\"HouseholdZone\"]], left_on = \"HouseholdId\", right_on = \"HouseholdId\")\n",
    "pop_df = pop_df.merge(zone_mapping,left_on=\"HouseholdZone\", right_on = \"GTA06\")"
   ]
  },
  {
   "cell_type": "code",
   "execution_count": 52,
   "metadata": {},
   "outputs": [],
   "source": [
    "age_check = pd.pivot_table(pop_df,columns = \"Age\", values = \"ExpansionFactor\",index = \"Mun_NAME\", aggfunc = sum).fillna(0)"
   ]
  },
  {
   "cell_type": "code",
   "execution_count": 53,
   "metadata": {},
   "outputs": [],
   "source": [
    "age_check.to_csv(os.path.join(outputPth, \"2051_pop_age_municipality.csv\"))"
   ]
  },
  {
   "cell_type": "code",
   "execution_count": 41,
   "metadata": {},
   "outputs": [],
   "source": [
    "pop = pd.pivot_table(pop_df,index = \"HouseholdZone\", values = \"ExpansionFactor\", aggfunc = sum)"
   ]
  },
  {
   "cell_type": "code",
   "execution_count": 42,
   "metadata": {},
   "outputs": [],
   "source": [
    "emp = pd.pivot_table(pop_df,index = \"EmploymentZone\", values = \"ExpansionFactor\", aggfunc = sum)"
   ]
  },
  {
   "cell_type": "code",
   "execution_count": 43,
   "metadata": {},
   "outputs": [],
   "source": [
    "pop = pop.reset_index().rename(columns = {\"HouseholdZone\": \"TAZ\",\"ExpansionFactor\": \"Population\"})"
   ]
  },
  {
   "cell_type": "code",
   "execution_count": 44,
   "metadata": {},
   "outputs": [],
   "source": [
    "emp = emp.reset_index().rename(columns = {\"EmploymentZone\": \"TAZ\",\"ExpansionFactor\": \"Employment\"})"
   ]
  },
  {
   "cell_type": "code",
   "execution_count": 45,
   "metadata": {},
   "outputs": [],
   "source": [
    "pop.merge(emp,how = \"outer\", on = \"TAZ\").fillna(0).sort_values(\"TAZ\").to_csv(os.path.join(outputPth, output_flename))"
   ]
  }
 ],
 "metadata": {
  "kernelspec": {
   "display_name": "Python 3",
   "language": "python",
   "name": "python3"
  },
  "language_info": {
   "codemirror_mode": {
    "name": "ipython",
    "version": 3
   },
   "file_extension": ".py",
   "mimetype": "text/x-python",
   "name": "python",
   "nbconvert_exporter": "python",
   "pygments_lexer": "ipython3",
   "version": "3.6.10"
  }
 },
 "nbformat": 4,
 "nbformat_minor": 2
}
