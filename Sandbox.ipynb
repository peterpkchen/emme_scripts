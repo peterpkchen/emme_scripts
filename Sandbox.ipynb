{
 "cells": [
  {
   "cell_type": "code",
   "execution_count": 1,
   "metadata": {
    "collapsed": false,
    "show_input": true
   },
   "outputs": [],
   "source": [
    "import json\n",
    "import os\n",
    "\n",
    "import inro.emme.datatable as _dt\n",
    "import inro.emme.desktop.worksheet as _ws\n",
    "import pandas as _pd\n",
    "\n",
    "mm = inro.modeller.Modeller()\n",
    "emmebank = mm.emmebank\n",
    "desktop = mm.desktop"
   ]
  },
  {
   "cell_type": "code",
   "execution_count": 2,
   "metadata": {
    "collapsed": true,
    "show_input": true
   },
   "outputs": [],
   "source": [
    "# modeller tools used\n",
    "create_attribute = mm.tool('inro.emme.data.extra_attribute.create_extra_attribute')\n",
    "network_calculator = mm.tool('inro.emme.network_calculation.network_calculator')\n"
   ]
  },
  {
   "cell_type": "code",
   "execution_count": 6,
   "metadata": {
    "collapsed": true
   },
   "outputs": [],
   "source": [
    "# create a data table of transit segment attributes and taz\n",
    "\n",
    "project_path = os.path.dirname(desktop.project.path)\n",
    "project_table_db = desktop.project.data_tables()\n",
    "\n",
    "### TAZs\n",
    "# import TAZ shp\n",
    "\n",
    "taz_path = os.path.join(project_path, 'Scripts\\MX_Task20\\GGHMv4_TAZ_updated\\GGHMv4_TAZ_updated.shp').replace(\"\\\\\", \"/\")\n",
    "taz_ds = _dt.DataSource(taz_path)\n",
    "taz_data = taz_ds.layer('GGHMv4_TAZ_updated').get_data()\n",
    "\n",
    "# remove all attributes except TAZ_NO\n",
    "att_delete = []\n",
    "taz_att = taz_data.attributes()\n",
    "for att in taz_att:\n",
    "    if att.name != 'TAZ_NO' and att.atype != 'GEOMETRY':\n",
    "        att_delete.append(att.name)\n",
    "        \n",
    "for att in att_delete:\n",
    "    taz_data.delete_attribute(att)"
   ]
  },
  {
   "cell_type": "code",
   "execution_count": 7,
   "metadata": {
    "collapsed": false
   },
   "outputs": [
    {
     "data": {
      "text/plain": [
       "Data(TAZ_NO, geometry)"
      ]
     },
     "metadata": {},
     "output_type": "display_data"
    }
   ],
   "source": [
    "from IPython.display import display\n",
    "display(taz_data)"
   ]
  }
 ],
 "metadata": {
  "kernelspec": {
   "display_name": "Python 2",
   "language": "python",
   "name": "python2"
  },
  "language_info": {
   "codemirror_mode": {
    "name": "ipython",
    "version": 2
   },
   "file_extension": ".py",
   "mimetype": "text/x-python",
   "name": "python",
   "nbconvert_exporter": "python",
   "pygments_lexer": "ipython2",
   "version": "2.7.14"
  }
 },
 "nbformat": 4,
 "nbformat_minor": 0
}
