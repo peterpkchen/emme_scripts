{
 "cells": [
  {
   "cell_type": "markdown",
   "metadata": {},
   "source": [
    "### grows all csv in a folder by a factor\n",
    "\n",
    "#### DISCLAIMERS\n",
    "Figure out what the factor / ratio is before running this stuff <br>\n",
    "Also don't run it twice accidentally <br>\n",
    "Probably want to make sure that these are in a separate folder from stuff you don't want to grow first<br>\n",
    "Probably also want to make a copy before doing stuff<br>\n",
    "<br><br>\n",
    "PC"
   ]
  },
  {
   "cell_type": "code",
   "execution_count": 38,
   "metadata": {},
   "outputs": [],
   "source": [
    "import os\n",
    "import pandas as pd"
   ]
  },
  {
   "cell_type": "markdown",
   "metadata": {},
   "source": [
    "### Employment Growth"
   ]
  },
  {
   "cell_type": "code",
   "execution_count": 48,
   "metadata": {},
   "outputs": [],
   "source": [
    "directory = r'C:\\Users\\pechen\\Desktop\\Grow Up\\2041\\Scenario-Employment\\grow'\n",
    "\n",
    "### CHANGE THIS\n",
    "emp_factor = 1.4492\n",
    "for root,dirs,files in os.walk(os.path.join(directory)):\n",
    "    for file in files:\n",
    "        if file.endswith(\".csv\"):\n",
    "            ### Read CSV\n",
    "            df = pd.read_csv(os.path.join(directory, file), index_col = 0)\n",
    "            ### Add math for the files here\n",
    "            df = df * emp_factor\n",
    "            ### Out\n",
    "            df.to_csv(os.path.join(directory, file))\n",
    "    \n",
    "    print('Factored ' + directory + ' by ' + str(emp_factor) + \".\")"
   ]
  },
  {
   "cell_type": "markdown",
   "metadata": {},
   "source": [
    "### Population Growth"
   ]
  },
  {
   "cell_type": "code",
   "execution_count": 52,
   "metadata": {},
   "outputs": [
    {
     "name": "stdout",
     "output_type": "stream",
     "text": [
      "Factored C:\\Users\\pechen\\Desktop\\Grow Up\\2041\\Scenario-Population by 1.4836.\n"
     ]
    }
   ],
   "source": [
    "directory = r'C:\\Users\\pechen\\Desktop\\Grow Up\\2041\\Scenario-Population'\n",
    "\n",
    "### CHANGE THIS\n",
    "pop_factor = 1.4836\n",
    "for root,dirs,files in os.walk(os.path.join(directory)):\n",
    "    for file in files:\n",
    "        if file.endswith(\".csv\"):\n",
    "            ### Read CSV\n",
    "            df = pd.read_csv(os.path.join(directory, file), index_col = 0)\n",
    "            ### Add math for the files here\n",
    "            df = df * pop_factor\n",
    "            ### Out\n",
    "            df.to_csv(os.path.join(directory, file))\n",
    "            \n",
    "    print('Factored ' + directory + ' by ' + str(pop_factor) + \".\")"
   ]
  },
  {
   "cell_type": "code",
   "execution_count": null,
   "metadata": {},
   "outputs": [],
   "source": []
  }
 ],
 "metadata": {
  "kernelspec": {
   "display_name": "Python 3",
   "language": "python",
   "name": "python3"
  },
  "language_info": {
   "codemirror_mode": {
    "name": "ipython",
    "version": 3
   },
   "file_extension": ".py",
   "mimetype": "text/x-python",
   "name": "python",
   "nbconvert_exporter": "python",
   "pygments_lexer": "ipython3",
   "version": "3.6.10"
  }
 },
 "nbformat": 4,
 "nbformat_minor": 4
}
