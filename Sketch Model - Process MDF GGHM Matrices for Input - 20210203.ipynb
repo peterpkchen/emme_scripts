{
 "cells": [
  {
   "cell_type": "markdown",
   "metadata": {},
   "source": [
    "#Process Sketch Model Inputs "
   ]
  },
  {
   "cell_type": "code",
   "execution_count": 151,
   "metadata": {
    "code_folding": [
     0
    ],
    "collapsed": true,
    "show_input": true
   },
   "outputs": [],
   "source": [
    "import os\n",
    "import glob\n",
    "import inro.modeller as m\n",
    "import inro.emme.matrix as _matrix\n",
    "import numpy as np\n",
    "import pandas as pd\n",
    "mm = m.Modeller()    \n",
    "change_matrix = m.Modeller().tool(\"inro.emme.data.matrix.change_matrix_properties\") \n",
    "import_matrices = mm.tool(\"tmg.input_output.import_binary_matrix\")\n",
    "create_matrix =  m.Modeller().tool(\"inro.emme.data.matrix.create_matrix\")\n",
    "matrix_calculator = m.Modeller().tool(\"inro.emme.matrix_calculation.matrix_calculator\")\n",
    "eb = mm.emmebank"
   ]
  },
  {
   "cell_type": "markdown",
   "metadata": {},
   "source": [
    "###Define functions to clear and import matrices"
   ]
  },
  {
   "cell_type": "code",
   "execution_count": 152,
   "metadata": {
    "collapsed": true,
    "show_input": true
   },
   "outputs": [],
   "source": [
    "def clear_matrices(emmebank, exception_array = [\"\"], type = \"FULL\"):\n",
    "    for matrix in emmebank.matrices():\n",
    "        if matrix.type == type:\n",
    "            if matrix.id not in exception_array:\n",
    "                emmebank.delete_matrix(matrix.id)\n",
    "def import_matrices_from_directory(matrix_folder, matrix_list, extension, scenario):\n",
    "    #imports all matrices in directory and subfolders of the specified extension type\n",
    "    #matrix_list should be in the format:\n",
    "    #   {file_name1: matrix_num1, file_name2: matrix_num2, ...}\n",
    "    import os\n",
    "\n",
    "    for root, dirs, files in os.walk(matrix_folder):\n",
    "        for matrix_file in files:\n",
    "            if matrix_file.endswith(extension):\n",
    "                name = os.path.splitext(matrix_file)[0]\n",
    "                if name in matrix_list:\n",
    "                    matrix_number = int(matrix_list[name][2:])\n",
    "                    import_matrices(4, matrix_number ,os.path.join(root, matrix_file),scenario, name.replace(\"skim.\",\"\").replace(\"transit.\",\"\").replace(\"peak\",\"pk\").replace(\" \",\"_\") )\n",
    "                    print \"Imported matrix \" + matrix_list[name]\n",
    "                    change_matrix(matrix = matrix_list[name],\n",
    "                        matrix_name = name.replace(\"skim.\",\"\").replace(\"transit.\",\"\").replace(\"peak\",\"pk\").replace(\" \",\"_\")[:40],\n",
    "                        matrix_description = name)\n",
    "    \n",
    "    #check\n",
    "    for name in matrix_list:\n",
    "        if eb.matrix(matrix_list[name]): \n",
    "            n_matrix = eb.matrix(matrix_list[name]).get_numpy_data(scenario)\n",
    "            if n_matrix.sum() == 0 :\n",
    "                print \"Matrix %s was not imported, or contains no values!\" % name\n",
    "        else:\n",
    "            print \"Matrix %s was not imported!\" % name\n",
    "    print \"Finished Importing Matrices\""
   ]
  },
  {
   "cell_type": "markdown",
   "metadata": {},
   "source": [
    "###Define scenarios where inputs are pulled from"
   ]
  },
  {
   "cell_type": "code",
   "execution_count": 153,
   "metadata": {
    "collapsed": true,
    "show_input": true
   },
   "outputs": [],
   "source": [
    "scen = 510"
   ]
  },
  {
   "cell_type": "code",
   "execution_count": 154,
   "metadata": {
    "collapsed": true,
    "show_input": true
   },
   "outputs": [],
   "source": [
    "#Matrix naming for inputs\n",
    "\n",
    "# peak period - 7 hrs\n",
    "sov_demand_pk = \"TRIPS SOV peak\"\n",
    "hov2_demand_pk = \"TRIPS HOV2 peak\"\n",
    "hov3_demand_pk = \"TRIPS HOV3 peak\"\n",
    "bike_demand_pk = \"TRIPS BIKE peak\"\n",
    "walk_demand_pk = \"TRIPS WALK peak\"\n",
    "transit_demand_pk = \"TRIPS TOTAL TRANSIT peak\"\n",
    "\n",
    "sov_demand_offpk = \"TRIPS SOV offpeak\"\n",
    "hov2_demand_offpk = \"TRIPS HOV2 offpeak\"\n",
    "hov3_demand_offpk = \"TRIPS HOV3 offpeak\"\n",
    "bike_demand_offpk = \"TRIPS BIKE offpeak\"\n",
    "walk_demand_offpk = \"TRIPS WALK offpeak\"\n",
    "transit_demand_offpk = \"TRIPS TOTAL TRANSIT offpeak\"\n",
    "\n",
    "#Truck matrices\n",
    "truck_l_demand_am = \"am_light_2051_20191227\"\n",
    "truck_m_demand_am = \"am_medium_2051_20191227\"\n",
    "truck_h_demand_am = \"am_heavy_2051_20191227\"\n",
    "truck_l_demand_md = \"md_light_2051_20191227\"\n",
    "truck_m_demand_md = \"md_medium_2051_20191227\"\n",
    "truck_h_demand_md = \"md_heavy_2051_20191227\"\n",
    "truck_l_demand_pm = \"pm_light_2051_20191227\"\n",
    "truck_m_demand_pm = \"pm_medium_2051_20191227\"\n",
    "truck_h_demand_pm = \"pm_heavy_2051_20191227\"\n",
    "truck_l_demand_ev = \"ev_light_2051_20191227\"\n",
    "truck_m_demand_ev = \"ev_medium_2051_20191227\"\n",
    "truck_h_demand_ev = \"ev_heavy_2051_20191227\"\n",
    "truck_l_demand_dn = \"dn_light_2051_20191227\"\n",
    "truck_m_demand_dn = \"dn_medium_2051_20191227\"\n",
    "truck_h_demand_dn = \"dn_heavy_2051_20191227\"\n",
    "\n",
    "\n",
    "# distance\n",
    "sov_dist_am = \"skim.am_peak.auto.sov.dist\"\n",
    "sov_dist_md = \"skim.midday.auto.sov.dist\"\n",
    "\n",
    "#Below for road pricing run\n",
    "# sov_dist_am = \"skim.am_peak.auto.sovt.dist\"\n",
    "# sov_dist_md = \"skim.midday.auto.sovt.dist\"\n",
    "\n",
    "# travel time\n",
    "active_time = \"skim.static.bike.time\"\n",
    "\n",
    "sov_time_am = \"skim.am_peak.auto.sov.time\"\n",
    "hov2_time_am = \"skim.am_peak.auto.hov2.time\"\n",
    "hov3_time_am = \"skim.am_peak.auto.hov3.time\"\n",
    "sov_time_md = \"skim.midday.auto.sov.time\"\n",
    "hov2_time_md = \"skim.midday.auto.hov2.time\"\n",
    "hov3_time_md = \"skim.midday.auto.hov3.time\"\n",
    "\n",
    "#Below for the road pricing run\n",
    "# sov_time_am = \"skim.am_peak.auto.sovt.time\"\n",
    "# hov2_time_am = \"skim.am_peak.auto.hov2t.time\"\n",
    "# hov3_time_am = \"skim.am_peak.auto.hov3t.time\"\n",
    "# sov_time_md = \"skim.midday.auto.sovt.time\"\n",
    "# hov2_time_md = \"skim.midday.auto.hov2t.time\"\n",
    "# hov3_time_md = \"skim.midday.auto.hov3t.time\"\n",
    "\n",
    "#costs\n",
    "sov_toll_am = \"skim.am_peak.auto.sovt.toll_cost\"\n",
    "hov2_toll_am = \"skim.am_peak.auto.hov2t.toll_cost\"\n",
    "hov3_toll_am = \"skim.am_peak.auto.hov3t.toll_cost\"\n",
    "\n",
    "pk_gobus_fare = \"skim.peak.transit.go_bus.fares\""
   ]
  },
  {
   "cell_type": "markdown",
   "metadata": {},
   "source": [
    "###Import Matrices"
   ]
  },
  {
   "cell_type": "code",
   "execution_count": 155,
   "metadata": {
    "code_folding": [],
    "scrolled": true,
    "show_input": true
   },
   "outputs": [
    {
     "name": "stdout",
     "output_type": "stream",
     "text": [
      "Imported matrix mf1\n",
      "Finished Importing Matrices\n",
      "am_light_2051_20191227\n",
      "ev_heavy_2051_20191227\n",
      "md_medium_2051_20191227\n",
      "pm_light_2051_20191227\n",
      "ev_light_2051_20191227\n",
      "dn_medium_2051_20191227\n",
      "pm_medium_2051_20191227\n",
      "pm_heavy_2051_20191227\n",
      "md_light_2051_20191227\n",
      "dn_light_2051_20191227\n",
      "am_medium_2051_20191227\n",
      "ev_medium_2051_20191227\n",
      "am_heavy_2051_20191227\n",
      "md_heavy_2051_20191227\n",
      "dn_heavy_2051_20191227\n",
      "Imported matrix mf14\n",
      "Imported matrix mf1\n",
      "Imported matrix mf12\n",
      "Imported matrix mf16\n",
      "Imported matrix mf11\n",
      "Imported matrix mf7\n",
      "Imported matrix mf2\n",
      "Imported matrix mf5\n",
      "Imported matrix mf13\n",
      "Imported matrix mf15\n",
      "Imported matrix mf10\n",
      "Imported matrix mf3\n",
      "Imported matrix mf9\n",
      "Imported matrix mf4\n",
      "Imported matrix mf8\n",
      "Finished Importing Matrices\n",
      "skim.peak.transit.go_bus.fares\n",
      "skim.am_peak.auto.sov.dist\n",
      "TRIPS HOV3 offpeak\n",
      "TRIPS SOV peak\n",
      "TRIPS WALK offpeak\n",
      "TRIPS TOTAL TRANSIT offpeak\n",
      "skim.midday.auto.sov.time\n",
      "skim.am_peak.auto.hov2t.toll_cost\n",
      "TRIPS HOV2 offpeak\n",
      "TRIPS HOV3 peak\n",
      "TRIPS SOV offpeak\n",
      "skim.am_peak.auto.sovt.toll_cost\n",
      "TRIPS TOTAL TRANSIT peak\n",
      "TRIPS HOV2 peak\n",
      "TRIPS BIKE peak\n",
      "TRIPS WALK peak\n",
      "TRIPS BIKE offpeak\n",
      "skim.static.bike.time\n",
      "skim.am_peak.auto.hov2.time\n",
      "skim.am_peak.auto.sov.time\n",
      "Imported matrix mf35\n",
      "Imported matrix mf24\n",
      "Imported matrix mf18\n",
      "Imported matrix mf36\n",
      "Imported matrix mf28\n",
      "Imported matrix mf23\n",
      "Imported matrix mf34\n",
      "Imported matrix mf33\n",
      "Imported matrix mf31\n",
      "Imported matrix mf25\n",
      "Imported matrix mf30\n",
      "Imported matrix mf19\n",
      "Imported matrix mf26\n",
      "Imported matrix mf27\n",
      "Imported matrix mf20\n",
      "Imported matrix mf22\n",
      "Imported matrix mf29\n",
      "Imported matrix mf21\n",
      "Imported matrix mf32\n",
      "Imported matrix mf17\n",
      "Finished Importing Matrices\n"
     ]
    }
   ],
   "source": [
    "# Vehicle Occupancy\n",
    "hov2_oc = 2.2\n",
    "hov3_oc = 3.3\n",
    "\n",
    "# Delete all matrices aside from below\n",
    "hdr_bau_peak = \"mf160\"\n",
    "hdr_bau_offpeak = \"mf170\"\n",
    "local_transit_fare = \"mf180\"\n",
    "transit_aux_time = \"mf6\"\n",
    "truck_cost = \"mf190\"\n",
    "trips_am_peak_auto1_nt = \"mf100\"\n",
    "trips_am_peak_auto1_toll = \"mf101\"\n",
    "trips_am_peak_auto2_nt_hov=\"mf102\"\n",
    "trips_am_peak_auto2_nt_nh=\"mf103\"\n",
    "trips_am_peak_auto2_toll_hov=\"mf104\"\n",
    "trips_am_peak_auto2_toll_nh=\"mf105\"\n",
    "trips_am_peak_auto3_nt_hov=\"mf106\"\n",
    "trips_am_peak_auto3_nt_nh=\"mf107\"\n",
    "trips_am_peak_auto3_toll_hov=\"mf108\"\n",
    "trips_am_peak_auto3_toll_nh=\"mf109\"\n",
    "\n",
    "matrix_folder = r\"\\\\tore-infs01\\PWExternal\\451010\\281829_GGH\\GGHM Runs\\2051\\Short List\\Network 1\\N1_SList_LUV3_2051_GGH_MTP_V106A3_CS222_20201230\"\n",
    "\n",
    "# Compatibility scenario to import truck matrices\n",
    "truck_scen = 401\n",
    "\n",
    "mto_tt_skims = matrix_folder + \"\\\\Peak minimum skims LVL3_PATH\\\\time_all\"\n",
    "clear_matrices(eb,[hdr_bau_peak, hdr_bau_offpeak,local_transit_fare,transit_aux_time,truck_cost,trips_am_peak_auto1_nt,trips_am_peak_auto1_toll,\n",
    "                   trips_am_peak_auto2_nt_hov,trips_am_peak_auto2_nt_nh,trips_am_peak_auto3_nt_hov,trips_am_peak_auto3_nt_nh,\n",
    "                   trips_am_peak_auto3_toll_hov,trips_am_peak_auto3_toll_nh],\"FULL\")\n",
    "min_transit_time_peak = \"mf140\"\n",
    "\n",
    "# Minimum transit time\n",
    "create_matrix(matrix_id = min_transit_time_peak,\n",
    "    matrix_name= \"min.transit.time\",\n",
    "    matrix_description = \"minimum.transit.time\")\n",
    "\n",
    "mat_list_mto = {\"All Transit\": \"\"}\n",
    "\n",
    "for matrix_name in mat_list_mto.keys():\n",
    "    mat_list_mto[matrix_name] = eb.available_matrix_identifier('FULL')\n",
    "    create_matrix(matrix_id = mat_list_mto[matrix_name],\n",
    "              matrix_name= matrix_name.replace(\" \",\"_\"),\n",
    "              matrix_description = matrix_name)\n",
    "\n",
    "import_matrices_from_directory(mto_tt_skims, mat_list_mto, \".mdf\", scen)\n",
    "\n",
    "spec = {\n",
    "   \"type\": \"MATRIX_CALCULATION\",\n",
    "   \"result\": min_transit_time_peak,\n",
    "   \"expression\":  mat_list_mto[\"All Transit\"],\n",
    "     \"constraint\": {\n",
    "\"by_value\": None,\n",
    "\"by_zone\": None}\n",
    "    }\n",
    "matrix_calculator(spec)\n",
    "\n",
    "spec2 = {\n",
    "   \"type\": \"MATRIX_CALCULATION\",\n",
    "   \"result\": min_transit_time_peak,\n",
    "   \"expression\":  hdr_bau_peak,\n",
    "     \"constraint\": {\n",
    "\"by_value\": {\n",
    "    \"interval_min\": 0,\n",
    "    \"interval_max\": 0,\n",
    "    \"condition\": \"INCLUDE\",\n",
    "    \"od_values\":  min_transit_time_peak\n",
    "},\n",
    "\"by_zone\": None}\n",
    "    }\n",
    "matrix_calculator(spec2)\n",
    "\n",
    "spec3 = {\n",
    "   \"type\": \"MATRIX_CALCULATION\",\n",
    "   \"result\": min_transit_time_peak,\n",
    "   \"expression\":  hdr_bau_peak,\n",
    "     \"constraint\": {\n",
    "\"by_value\": {\n",
    "    \"interval_min\": 0,\n",
    "    \"interval_max\": 800,\n",
    "    \"condition\": \"EXCLUDE\",\n",
    "    \"od_values\":  min_transit_time_peak\n",
    "},\n",
    "\"by_zone\": None}\n",
    "    }\n",
    "matrix_calculator(spec3)\n",
    "\n",
    "clear_matrices(eb,[min_transit_time_peak,hdr_bau_peak, hdr_bau_offpeak,local_transit_fare,transit_aux_time,truck_cost,trips_am_peak_auto1_nt,trips_am_peak_auto1_toll,\n",
    "                   trips_am_peak_auto2_nt_hov,trips_am_peak_auto2_nt_nh,trips_am_peak_auto3_nt_hov,trips_am_peak_auto3_nt_nh,\n",
    "                   trips_am_peak_auto3_toll_hov,trips_am_peak_auto3_toll_nh],\"FULL\")\n",
    "\n",
    "\n",
    "def remove_zeros_spec(matrix_id):\n",
    "    spec = {\n",
    "    \"type\": \"MATRIX_CALCULATION\",\n",
    "    \"result\": matrix_id,\n",
    "    \"expression\": \"1000\",\n",
    "    \"constraint\": {\n",
    "        \"by_value\": {\n",
    "            \"od_values\": matrix_id,\n",
    "            \"interval_min\": 0,\n",
    "            \"interval_max\": 0,\n",
    "            \"condition\": \"INCLUDE\"\n",
    "            }\n",
    "        }\n",
    "    }\n",
    "    return spec\n",
    "\n",
    "truck_folder = r\"\\\\tore-infs01\\PWExternal\\451010\\281829_GGH\\GGHM Runs\\2051\\Long List\\BAU\\MTO_2051_GGH_MTP_5002_V106A3_HS032_20200117\\Assignable matrices\"\n",
    "\n",
    "truck_list = {truck_h_demand_am: '',\n",
    "            truck_l_demand_am: '',\n",
    "            truck_m_demand_am: '',\n",
    "            truck_h_demand_md: '',\n",
    "            truck_l_demand_md: '',\n",
    "            truck_m_demand_md: '',\n",
    "            truck_h_demand_pm: '',\n",
    "            truck_l_demand_pm: '',\n",
    "            truck_m_demand_pm: '',\n",
    "            truck_h_demand_ev: '',\n",
    "            truck_l_demand_ev: '',\n",
    "            truck_m_demand_ev: '',\n",
    "            truck_h_demand_dn: '',\n",
    "            truck_l_demand_dn: '',\n",
    "            truck_m_demand_dn: '',}\n",
    "\n",
    "for matrix_name in truck_list.keys():\n",
    "    truck_list[matrix_name] = eb.available_matrix_identifier('FULL')\n",
    "    print matrix_name\n",
    "    create_matrix(matrix_id = truck_list[matrix_name],\n",
    "                  matrix_name= matrix_name.replace(\"skim.\",\"\").replace(\"transit.\",\"\").replace(\"peak\",\"pk\").replace(\" \",\"_\").strip()[:40],\n",
    "                  matrix_description = matrix_name)\n",
    "\n",
    "import_matrices_from_directory(truck_folder, truck_list, \".mdf\",401) \n",
    "# Make sure scenario is compatibility scenario else won't import\n",
    "\n",
    "matrix_list = {sov_dist_am:\"\",\n",
    "            sov_time_am:\"\",\n",
    "            sov_time_md:\"\",\n",
    "            hov2_time_am:\"\",\n",
    "            active_time:\"\",\n",
    "            sov_toll_am:\"\",\n",
    "            hov2_toll_am:\"\",\n",
    "            sov_demand_pk : \"\",\n",
    "            hov2_demand_pk: \"\",\n",
    "            hov3_demand_pk : \"\",\n",
    "            sov_demand_offpk : \"\",\n",
    "            hov2_demand_offpk : \"\",\n",
    "            hov3_demand_offpk : \"\",\n",
    "            bike_demand_pk : \"\",\n",
    "            walk_demand_pk: \"\",\n",
    "            bike_demand_offpk: \"\",\n",
    "            walk_demand_offpk: \"\",\n",
    "            transit_demand_pk: \"\",\n",
    "            transit_demand_offpk: \"\",\n",
    "            pk_gobus_fare: \"\"}\n",
    "\n",
    "for matrix_name in matrix_list.keys():\n",
    "    matrix_list[matrix_name] = eb.available_matrix_identifier('FULL')\n",
    "    print matrix_name\n",
    "    create_matrix(matrix_id = matrix_list[matrix_name],\n",
    "                  matrix_name= matrix_name.replace(\"skim.\",\"\").replace(\"transit.\",\"\").replace(\"peak\",\"pk\").replace(\" \",\"_\").strip()[:40],\n",
    "                  matrix_description = matrix_name)\n",
    "import_matrices_from_directory(matrix_folder, matrix_list, \".mdf\",scen)"
   ]
  },
  {
   "cell_type": "markdown",
   "metadata": {},
   "source": [
    "###Calculate Demand Matrices for Auto/Active"
   ]
  },
  {
   "cell_type": "code",
   "execution_count": 156,
   "metadata": {
    "show_input": true
   },
   "outputs": [
    {
     "name": "stdout",
     "output_type": "stream",
     "text": [
      "Finished calculating Auto and Active demand\n"
     ]
    }
   ],
   "source": [
    "hov_dem_pk = eb.available_matrix_identifier('FULL')\n",
    "create_matrix(matrix_id = hov_dem_pk,\n",
    "              matrix_name=\"trips.peak.hov\",\n",
    "            matrix_description = \"trips.peak.hov\")\n",
    "exp = matrix_list[hov2_demand_pk] + \"/\" + str(hov2_oc) + \"+\" + matrix_list[hov3_demand_pk] + \"/\" + str(hov3_oc)\n",
    "\n",
    "spec = {\n",
    "    \"type\": \"MATRIX_CALCULATION\",\n",
    "    \"result\": hov_dem_pk,\n",
    "    \"expression\": exp\n",
    "}\n",
    "matrix_calculator(spec)\n",
    "\n",
    "hov_dem_offpk = eb.available_matrix_identifier('FULL')\n",
    "create_matrix(matrix_id = hov_dem_offpk,\n",
    "              matrix_name=\"trips.offpeak.hov\",\n",
    "            matrix_description = \"trips.offpeak.hov\")   \n",
    "exp = matrix_list[hov2_demand_offpk] + \"/\" + str(hov2_oc)+ \"+\" + matrix_list[hov3_demand_offpk]+ \"/\" + str(hov3_oc)\n",
    "spec = {\n",
    "    \"type\": \"MATRIX_CALCULATION\",\n",
    "    \"result\": hov_dem_offpk,\n",
    "    \"expression\": exp\n",
    "}\n",
    "matrix_calculator(spec)\n",
    "\n",
    "active_dem_pk = eb.available_matrix_identifier('FULL')\n",
    "create_matrix(matrix_id = active_dem_pk,\n",
    "              matrix_name=\"trips.peak.active\",\n",
    "            matrix_description = \"trips.peak.active\")   \n",
    "exp = matrix_list[bike_demand_pk] + \"+\" + matrix_list[walk_demand_pk]\n",
    "spec = {\n",
    "    \"type\": \"MATRIX_CALCULATION\",\n",
    "    \"result\": active_dem_pk,\n",
    "    \"expression\": exp\n",
    "}\n",
    "matrix_calculator(spec)\n",
    "\n",
    "active_dem_offpk = eb.available_matrix_identifier('FULL')\n",
    "create_matrix(matrix_id = active_dem_offpk,\n",
    "              matrix_name=\"trips.offpeak.active\",\n",
    "            matrix_description = \"trips.offpeak.active\")\n",
    "\n",
    "exp = matrix_list[bike_demand_offpk] + \"+\" + matrix_list[walk_demand_offpk]\n",
    "\n",
    "spec = {\n",
    "    \"type\": \"MATRIX_CALCULATION\",\n",
    "    \"result\": active_dem_offpk,\n",
    "    \"expression\": exp\n",
    "}\n",
    "matrix_calculator(spec)\n",
    "\n",
    "print \"Finished calculating Auto and Active demand\""
   ]
  },
  {
   "cell_type": "markdown",
   "metadata": {},
   "source": [
    "###Calculate demand matrices for truck"
   ]
  },
  {
   "cell_type": "code",
   "execution_count": 157,
   "metadata": {
    "code_folding": [],
    "show_input": true
   },
   "outputs": [
    {
     "name": "stdout",
     "output_type": "stream",
     "text": [
      "Finished calculating truck demand\n"
     ]
    }
   ],
   "source": [
    "# Light Trucks - PEAK\n",
    "light_pkdem_truck = eb.available_matrix_identifier('FULL')\n",
    "create_matrix(matrix_id = light_pkdem_truck,\n",
    "              matrix_name=\"trips.peak.truck.light\",\n",
    "            matrix_description = \"trips.peak.truck.light\")\n",
    "exp = \"({} + {})\".format(truck_list[truck_l_demand_am],truck_list[truck_l_demand_pm])\n",
    "spec = {\n",
    "    \"type\": \"MATRIX_CALCULATION\",\n",
    "    \"result\": light_pkdem_truck,\n",
    "    \"expression\": exp\n",
    "}\n",
    "matrix_calculator(spec)\n",
    "\n",
    "# Medium Trucks - PEAK\n",
    "med_pkdem_truck = eb.available_matrix_identifier('FULL')\n",
    "create_matrix(matrix_id = med_pkdem_truck,\n",
    "              matrix_name=\"trips.peak.truck.medium\",\n",
    "            matrix_description = \"trips.peak.truck.medium\")\n",
    "\n",
    "exp = \"({} + {})\".format(truck_list[truck_m_demand_am],truck_list[truck_m_demand_pm])\n",
    "spec = {\n",
    "    \"type\": \"MATRIX_CALCULATION\",\n",
    "    \"result\": med_pkdem_truck,\n",
    "    \"expression\": exp\n",
    "}\n",
    "matrix_calculator(spec)\n",
    "\n",
    "# Heavy Trucks - PEAK\n",
    "heavy_pkdem_truck = eb.available_matrix_identifier('FULL')\n",
    "create_matrix(matrix_id = heavy_pkdem_truck,\n",
    "              matrix_name=\"trips.peak.truck.heavy\",\n",
    "            matrix_description = \"trips.peak.truck.heavy\")\n",
    "\n",
    "exp = \"({} + {})\".format(truck_list[truck_h_demand_am],truck_list[truck_h_demand_pm])\n",
    "spec = {\n",
    "    \"type\": \"MATRIX_CALCULATION\",\n",
    "    \"result\": heavy_pkdem_truck,\n",
    "    \"expression\": exp\n",
    "}\n",
    "matrix_calculator(spec)\n",
    "\n",
    "# Light Trucks - OFFPEAK\n",
    "light_offpkdem_truck = eb.available_matrix_identifier('FULL')\n",
    "create_matrix(matrix_id = light_offpkdem_truck,\n",
    "              matrix_name=\"trips.offpeak.truck.light\",\n",
    "            matrix_description = \"trips.offpeak.truck.light\")\n",
    "exp = \"({} + {} + {})\".format(truck_list[truck_l_demand_md],truck_list[truck_l_demand_ev], truck_list[truck_l_demand_dn])\n",
    "spec = {\n",
    "    \"type\": \"MATRIX_CALCULATION\",\n",
    "    \"result\": light_offpkdem_truck,\n",
    "    \"expression\": exp\n",
    "}\n",
    "matrix_calculator(spec)\n",
    "\n",
    "# Medium Trucks - OFFPEAK\n",
    "med_offpkdem_truck = eb.available_matrix_identifier('FULL')\n",
    "create_matrix(matrix_id = med_offpkdem_truck,\n",
    "              matrix_name=\"trips.offpeak.truck.medium\",\n",
    "            matrix_description = \"trips.offpeak.truck.medium\")\n",
    "\n",
    "exp = \"({} + {} + {})\".format(truck_list[truck_l_demand_md],truck_list[truck_l_demand_ev], truck_list[truck_l_demand_dn])\n",
    "spec = {\n",
    "    \"type\": \"MATRIX_CALCULATION\",\n",
    "    \"result\": med_offpkdem_truck,\n",
    "    \"expression\": exp\n",
    "}\n",
    "matrix_calculator(spec)\n",
    "\n",
    "# Heavy Trucks - OFFPEAK\n",
    "heavy_offpkdem_truck = eb.available_matrix_identifier('FULL')\n",
    "create_matrix(matrix_id = heavy_offpkdem_truck,\n",
    "              matrix_name=\"trips.offpeak.truck.heavy\",\n",
    "            matrix_description = \"trips.offpeak.truck.heavy\")\n",
    "\n",
    "exp = \"({} + {} + {})\".format(truck_list[truck_l_demand_md],truck_list[truck_l_demand_ev], truck_list[truck_l_demand_dn])\n",
    "spec = {\n",
    "    \"type\": \"MATRIX_CALCULATION\",\n",
    "    \"result\": heavy_offpkdem_truck,\n",
    "    \"expression\": exp\n",
    "}\n",
    "\n",
    "matrix_calculator(spec)\n",
    "\n",
    "print \"Finished calculating truck demand\""
   ]
  },
  {
   "cell_type": "markdown",
   "metadata": {},
   "source": [
    "###Calculate Travel Times"
   ]
  },
  {
   "cell_type": "code",
   "execution_count": 158,
   "metadata": {
    "show_input": true
   },
   "outputs": [
    {
     "data": {
      "text/plain": [
       "{'average': 0.000484,\n",
       " 'expression_type': 'FULL',\n",
       " 'maximum': 5.765296,\n",
       " 'maximum_at': {'destination': 4024, 'origin': 4023},\n",
       " 'minimum': 0.0,\n",
       " 'minimum_at': {'destination': 1001, 'origin': 1001},\n",
       " 'num_evaluations': 12327121,\n",
       " 'result_type': 'FULL',\n",
       " 'sum': 5964.273437}"
      ]
     },
     "execution_count": 158,
     "metadata": {},
     "output_type": "execute_result"
    }
   ],
   "source": [
    "# Transit Access Time\n",
    "access_transit_time = eb.available_matrix_identifier('FULL')\n",
    "create_matrix(matrix_id = access_transit_time,\n",
    "              matrix_name=\"access_transit_time\",\n",
    "            matrix_description = \"access_transit_time\")\n",
    "exp = \"(\" +transit_aux_time + \")/2\" \n",
    "spec = {\n",
    "    \"type\": \"MATRIX_CALCULATION\",\n",
    "    \"result\": access_transit_time,\n",
    "    \"expression\": exp\n",
    "}\n",
    "matrix_calculator(spec)"
   ]
  },
  {
   "cell_type": "code",
   "execution_count": 159,
   "metadata": {
    "code_folding": [],
    "show_input": true
   },
   "outputs": [
    {
     "name": "stdout",
     "output_type": "stream",
     "text": [
      "Finished calculating bi-directional peak travel time\n"
     ]
    }
   ],
   "source": [
    "# Bi-directional peak travel time\n",
    "new_matrix = eb.available_matrix_identifier('FULL')\n",
    "create_matrix(matrix_id = new_matrix,\n",
    "              matrix_name=\"temp.matrix\",\n",
    "            matrix_description = \"temp.matrix\")\n",
    "mats =[sov_time_am,sov_time_md,hov2_time_am,min_transit_time_peak, access_transit_time]\n",
    "\n",
    "for matrix in mats:\n",
    "    if matrix == min_transit_time_peak:\n",
    "        mat_id =min_transit_time_peak\n",
    "    elif matrix == access_transit_time:\n",
    "        mat_id = access_transit_time\n",
    "    else:\n",
    "        mat_id = matrix_list[matrix]\n",
    "        \n",
    "    spec = {\n",
    "        \"type\": \"MATRIX_CALCULATION\",\n",
    "        \"result\": new_matrix,\n",
    "        \"expression\": \"(\"+ mat_id+ \".max.\" + mat_id +\"')\"\n",
    "    }\n",
    "    matrix_calculator(spec)\n",
    "    spec = {\n",
    "        \"type\": \"MATRIX_CALCULATION\",\n",
    "        \"result\": mat_id,\n",
    "        \"expression\": new_matrix\n",
    "    }\n",
    "    matrix_calculator(spec)\n",
    "eb.delete_matrix(new_matrix)\n",
    "print \"Finished calculating bi-directional peak travel time\""
   ]
  },
  {
   "cell_type": "code",
   "execution_count": 160,
   "metadata": {
    "show_input": true
   },
   "outputs": [
    {
     "data": {
      "text/plain": [
       "{'average': 8.593429,\n",
       " 'expression_type': 'FULL',\n",
       " 'maximum': 23.229118,\n",
       " 'maximum_at': {'destination': 9120, 'origin': 7001},\n",
       " 'minimum': 0.0,\n",
       " 'minimum_at': {'destination': 8001, 'origin': 8001},\n",
       " 'num_evaluations': 12327121,\n",
       " 'result_type': 'FULL',\n",
       " 'sum': 105932232.0}"
      ]
     },
     "execution_count": 160,
     "metadata": {},
     "output_type": "execute_result"
    }
   ],
   "source": [
    "avg_transit_cost = eb.available_matrix_identifier('FULL')\n",
    "create_matrix(matrix_id = avg_transit_cost,\n",
    "              matrix_name=\"transit_cost_avg\",\n",
    "            matrix_description = \"transit_cost_avg\")\n",
    "exp = \"(\" + local_transit_fare + \"+\" +  matrix_list[pk_gobus_fare] + \")/2\" \n",
    "\n",
    "spec = {\n",
    "    \"type\": \"MATRIX_CALCULATION\",\n",
    "    \"result\": avg_transit_cost,\n",
    "    \"expression\": exp\n",
    "}\n",
    "matrix_calculator(spec)"
   ]
  },
  {
   "cell_type": "markdown",
   "metadata": {},
   "source": [
    "###Output Sketch Model Inputs"
   ]
  },
  {
   "cell_type": "code",
   "execution_count": 161,
   "metadata": {
    "show_input": true
   },
   "outputs": [],
   "source": [
    "output_cols = {\n",
    "    \"sov_dist\":matrix_list[sov_dist_am],\n",
    "    \"sov_time\":matrix_list[sov_time_am],\n",
    "    \"ff_time\":matrix_list[sov_time_md],\n",
    "    \"hov_time\":matrix_list[hov2_time_am],\n",
    "    \"active_time\":matrix_list[active_time],\n",
    "    \"sov_cost\":matrix_list[sov_toll_am],\n",
    "    \"hov_cost\":matrix_list[hov2_toll_am],\n",
    "    \"transit_cost\": avg_transit_cost,\n",
    "    \"light_truck_pkdem\":light_pkdem_truck,\n",
    "    \"med_truck_pkdem\":med_pkdem_truck,\n",
    "    \"heavy_truck_pkdem\":heavy_pkdem_truck,\n",
    "    \"light_truck_offpkdem\":light_offpkdem_truck,\n",
    "    \"med_truck_offpkdem\":med_offpkdem_truck,\n",
    "    \"heavy_truck_offpkdem\":heavy_offpkdem_truck,\n",
    "    \"transit_access_time\": access_transit_time,\n",
    "    \"transit_time\": min_transit_time_peak,\n",
    "    \"hov_dem_pk\": hov_dem_pk,\n",
    "    \"hov_dem_offpk\":hov_dem_offpk,\n",
    "    \"active_dem_pk\":active_dem_pk,\n",
    "    \"active_dem_offpk\":active_dem_offpk,\n",
    "    \"sov_dem_pk\":matrix_list[sov_demand_pk],\n",
    "    \"sov_dem_offpk\":matrix_list[sov_demand_offpk],\n",
    "    \"transit_dem_pk\":matrix_list[transit_demand_pk],\n",
    "    \"transit_dem_offpk\":matrix_list[transit_demand_offpk],\n",
    "    \"truck_cost\": truck_cost}"
   ]
  },
  {
   "cell_type": "code",
   "execution_count": 162,
   "metadata": {
    "show_input": true
   },
   "outputs": [],
   "source": [
    "first = True\n",
    "indices = eb.matrix(matrix_list[sov_demand_pk]).get_data(scen).indices\n",
    "for col in output_cols:\n",
    "    mat_np = eb.matrix(output_cols[col]).get_numpy_data(scen)\n",
    "    if first:\n",
    "        df_full = pd.DataFrame(mat_np,indices[0],indices[1]).stack().reset_index().rename(columns = {\"level_0\": \"O\",\n",
    "                                                                                           \"level_1\": \"D\",\n",
    "                                                                                          0: col})\n",
    "        first = False\n",
    "    else:\n",
    "        df = pd.DataFrame(mat_np,indices[0],indices[1]).stack().reset_index().rename(columns = {\"level_0\": \"O\",\n",
    "                                                                                           \"level_1\": \"D\",\n",
    "                                                                                          0: col})\n",
    "        df_full = df_full.merge(df,on = [\"O\",\"D\"])\n",
    "        "
   ]
  },
  {
   "cell_type": "code",
   "execution_count": 163,
   "metadata": {
    "show_input": true
   },
   "outputs": [
    {
     "data": {
      "text/plain": [
       "Index([u'O', u'D', u'active_time', u'light_truck_offpkdem', u'med_truck_pkdem', u'truck_cost', u'sov_dem_offpk', u'ff_time', u'hov_dem_offpk', u'hov_cost', u'transit_dem_offpk', u'active_dem_offpk', u'heavy_truck_pkdem', u'sov_dist', u'heavy_truck_offpkdem', u'transit_dem_pk', u'active_dem_pk', u'med_truck_offpkdem', u'hov_time', u'sov_cost', u'hov_dem_pk', u'sov_dem_pk', u'transit_time', u'sov_time', u'transit_cost', u'light_truck_pkdem', u'transit_access_time'], dtype='object')"
      ]
     },
     "execution_count": 163,
     "metadata": {},
     "output_type": "execute_result"
    }
   ],
   "source": [
    "df_full.columns"
   ]
  },
  {
   "cell_type": "code",
   "execution_count": 164,
   "metadata": {
    "show_input": true
   },
   "outputs": [],
   "source": [
    "df_full.sov_cost = df_full.sov_cost/100\n",
    "df_full.hov_cost = df_full.hov_cost/100\n",
    "df_full[\"dem_truck_pk\"] = df_full.light_truck_pkdem + df_full.med_truck_pkdem + df_full.heavy_truck_pkdem\n",
    "df_full[\"dem_truck_offpk\"] = df_full.light_truck_offpkdem + df_full.med_truck_offpkdem + df_full.heavy_truck_offpkdem \n",
    "df_full[\"dem_pk\"] = df_full.sov_dem_pk + df_full.hov_dem_pk+df_full.transit_dem_pk+df_full.active_dem_pk"
   ]
  },
  {
   "cell_type": "code",
   "execution_count": 165,
   "metadata": {
    "show_input": true
   },
   "outputs": [],
   "source": [
    "# demand_weighted = {u'active_time':u'active_dem_pk',u'ff_time':u'sov_dem_pk',u'sov_time':u'sov_dem_pk',\n",
    "#                    u'hov_cost':u'hov_dem_pk',u'sov_dist':u'sov_dem_pk',u'hov_time':u'sov_dem_pk',\n",
    "#                    u'sov_cost':u'sov_dem_pk'}\n",
    "\n",
    "demand_weighted = {\n",
    "    u'active_time':\"dem_pk\",u'ff_time':\"dem_pk\",u'sov_time':\"dem_pk\",\n",
    "    u'hov_cost':\"dem_pk\",u'sov_dist':\"dem_pk\",u'hov_time':\"dem_pk\",\n",
    "    u'sov_cost':\"dem_pk\",u'transit_cost':\"dem_pk\",u'transit_time':\"dem_pk\",\n",
    "    \"truck_cost\":\"dem_truck_pk\",\"transit_access_time\":\"dem_pk\"}"
   ]
  },
  {
   "cell_type": "code",
   "execution_count": 166,
   "metadata": {
    "show_input": true
   },
   "outputs": [],
   "source": [
    "for met in demand_weighted.keys():\n",
    "    df_full[met + \"_dem_weight\"] = df_full[met]*df_full[demand_weighted[met]]"
   ]
  },
  {
   "cell_type": "code",
   "execution_count": 167,
   "metadata": {
    "collapsed": true,
    "show_input": true
   },
   "outputs": [],
   "source": [
    "pth = r\"C:\\Users\\PECHEN\\Documents\\Sketch Modelling\"\n",
    "megazones_df = pd.read_csv(os.path.join(pth,\"TAZ_SketchModelZones_20201110.csv\"))"
   ]
  },
  {
   "cell_type": "code",
   "execution_count": 168,
   "metadata": {
    "collapsed": true,
    "show_input": true
   },
   "outputs": [],
   "source": [
    "df_internal = df_full[(df_full.O <= 9331) & (df_full.D <= 9331)]"
   ]
  },
  {
   "cell_type": "code",
   "execution_count": 169,
   "metadata": {
    "collapsed": true,
    "show_input": true
   },
   "outputs": [],
   "source": [
    "df_internal = df_internal.merge(megazones_df, left_on = \"O\", right_on = \"TAZ\").drop(labels = \"TAZ\",axis = 1).rename(columns = {\"Megazone\": \"Megazone_O\"})\n",
    "df_internal = df_internal.merge(megazones_df, left_on = \"D\", right_on = \"TAZ\").drop(labels = \"TAZ\",axis = 1).rename(columns = {\"Megazone\": \"Megazone_D\"})"
   ]
  },
  {
   "cell_type": "code",
   "execution_count": 170,
   "metadata": {
    "show_input": true
   },
   "outputs": [
    {
     "data": {
      "text/plain": [
       "Index([u'O', u'D', u'active_time', u'light_truck_offpkdem', u'med_truck_pkdem', u'truck_cost', u'sov_dem_offpk', u'ff_time', u'hov_dem_offpk', u'hov_cost', u'transit_dem_offpk', u'active_dem_offpk', u'heavy_truck_pkdem', u'sov_dist', u'heavy_truck_offpkdem', u'transit_dem_pk', u'active_dem_pk', u'med_truck_offpkdem', u'hov_time', u'sov_cost', u'hov_dem_pk', u'sov_dem_pk', u'transit_time', u'sov_time', u'transit_cost', u'light_truck_pkdem', u'transit_access_time', u'dem_truck_pk', u'dem_truck_offpk', u'dem_pk', u'active_time_dem_weight', u'transit_access_time_dem_weight', u'hov_time_dem_weight', u'sov_cost_dem_weight', u'truck_cost_dem_weight', u'ff_time_dem_weight', u'sov_time_dem_weight', u'hov_cost_dem_weight', u'transit_time_dem_weight', u'transit_cost_dem_weight', u'sov_dist_dem_weight', u'Megazone_O', u'Megazone_D'], dtype='object')"
      ]
     },
     "execution_count": 170,
     "metadata": {},
     "output_type": "execute_result"
    }
   ],
   "source": [
    "df_internal.columns"
   ]
  },
  {
   "cell_type": "code",
   "execution_count": 171,
   "metadata": {
    "collapsed": true,
    "show_input": true
   },
   "outputs": [],
   "source": [
    "def average(list):\n",
    "    return sum(list)/len(list)"
   ]
  },
  {
   "cell_type": "code",
   "execution_count": 172,
   "metadata": {
    "collapsed": true,
    "show_input": true
   },
   "outputs": [],
   "source": [
    "def median(list):\n",
    "    return (max(list) + min(list))/2"
   ]
  },
  {
   "cell_type": "code",
   "execution_count": 173,
   "metadata": {
    "collapsed": true,
    "show_input": true
   },
   "outputs": [],
   "source": [
    "pivot_columns = [u'active_time_dem_weight',u'ff_time_dem_weight',u'sov_time_dem_weight',u'sov_cost_dem_weight',\n",
    "                u'hov_cost_dem_weight',u'sov_dist_dem_weight',u'hov_time_dem_weight',\n",
    "                u'active_dem_offpk', u'transit_dem_pk', u'active_dem_pk', u'transit_dem_offpk',\n",
    "                u'hov_dem_offpk', u'sov_dem_offpk', u'dem_truck_pk', u'dem_truck_offpk', u'hov_dem_pk', u'sov_dem_pk',\"dem_pk\",\n",
    "                u'transit_cost_dem_weight',u'transit_time_dem_weight',\"truck_cost_dem_weight\",\"transit_access_time_dem_weight\"]\n",
    "megazone_df = pd.pivot_table(df_internal,values = pivot_columns, index = [\"Megazone_O\",\"Megazone_D\"],aggfunc = sum).reset_index()"
   ]
  },
  {
   "cell_type": "code",
   "execution_count": 174,
   "metadata": {
    "collapsed": true,
    "show_input": true
   },
   "outputs": [],
   "source": [
    "for met in demand_weighted.keys():\n",
    "    megazone_df[met] = megazone_df[met + \"_dem_weight\"] / megazone_df[demand_weighted[met]]\n",
    "    megazone_df = megazone_df.drop(labels = met + \"_dem_weight\", axis = 1)"
   ]
  },
  {
   "cell_type": "code",
   "execution_count": 175,
   "metadata": {
    "collapsed": true,
    "show_input": true
   },
   "outputs": [],
   "source": [
    "megazone_df.fillna(0).to_csv(os.path.join(pth, \"2051N1LUV3_MegazoneOutputs_20210225.csv\"))"
   ]
  }
 ],
 "metadata": {
  "kernelspec": {
   "display_name": "Python 3",
   "language": "python",
   "name": "python3"
  },
  "language_info": {
   "codemirror_mode": {
    "name": "ipython",
    "version": 3
   },
   "file_extension": ".py",
   "mimetype": "text/x-python",
   "name": "python",
   "nbconvert_exporter": "python",
   "pygments_lexer": "ipython3",
   "version": "3.7.10"
  }
 },
 "nbformat": 4,
 "nbformat_minor": 1
}
