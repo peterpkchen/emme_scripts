{
 "cells": [
  {
   "cell_type": "code",
   "execution_count": 15,
   "metadata": {
    "collapsed": true,
    "show_input": true
   },
   "outputs": [],
   "source": [
    "import pandas as pd\n",
    "import inro.modeller as m\n",
    "\n",
    "mm = m.Modeller()\n",
    "eb = mm.emmebank\n",
    "sc_1 = eb.scenario(6002)\n",
    "sc_2 = eb.scenario(4310)\n",
    "ntwk1 = sc_1.get_network()\n",
    "ntwk2 = sc_2.get_network()"
   ]
  },
  {
   "cell_type": "code",
   "execution_count": 16,
   "metadata": {
    "collapsed": false,
    "show_input": true
   },
   "outputs": [],
   "source": [
    "ol_nodes = []\n",
    "for link in ntwk2.links():\n",
    "    if link[\"@sp_link\"] == 1:\n",
    "        if link.i_node not in ol_nodes:\n",
    "            ol_nodes.append(link.i_node)\n",
    "        if link.j_node not in ol_nodes:\n",
    "            ol_nodes.append(link.j_node)"
   ]
  },
  {
   "cell_type": "code",
   "execution_count": 4,
   "metadata": {
    "collapsed": false
   },
   "outputs": [
    {
     "data": {
      "text/plain": [
       "[Node(97093),\n",
       " Node(98022),\n",
       " Node(98087),\n",
       " Node(98085),\n",
       " Node(98148),\n",
       " Node(98088),\n",
       " Node(98092),\n",
       " Node(98093),\n",
       " Node(98095),\n",
       " Node(98096),\n",
       " Node(98097),\n",
       " Node(98098),\n",
       " Node(98099),\n",
       " Node(98100),\n",
       " Node(98147)]"
      ]
     },
     "execution_count": 4,
     "metadata": {},
     "output_type": "execute_result"
    }
   ],
   "source": [
    "ol_nodes"
   ]
  },
  {
   "cell_type": "code",
   "execution_count": 5,
   "metadata": {
    "collapsed": false,
    "show_input": true
   },
   "outputs": [],
   "source": [
    "for node in ol_nodes:\n",
    "    if ntwk1.node(node.id) is None:\n",
    "        newNode = ntwk1.create_node(node.id, is_centroid = False)\n",
    "        newNode.x = node.x\n",
    "        newNode.y = node.y"
   ]
  },
  {
   "cell_type": "code",
   "execution_count": 6,
   "metadata": {
    "collapsed": true,
    "show_input": true
   },
   "outputs": [],
   "source": [
    "sc_1.publish_network(ntwk1)"
   ]
  },
  {
   "cell_type": "code",
   "execution_count": 21,
   "metadata": {
    "collapsed": true
   },
   "outputs": [],
   "source": [
    "ntwk1.delete_link(97093,98022)\n",
    "ntwk1.delete_link(98022,97093)"
   ]
  },
  {
   "cell_type": "code",
   "execution_count": 22,
   "metadata": {
    "collapsed": false,
    "show_input": true
   },
   "outputs": [],
   "source": [
    "for link in ntwk2.links():\n",
    "    if link[\"@sp_link\"] == 1:\n",
    "        if ntwk1.link(link.i_node,link.j_node) is None:\n",
    "            olLink = ntwk1.create_link(link.i_node.id,link.j_node.id,link.modes)\n",
    "            newVerts = link.vertices\n",
    "            olLink.vertices = newVerts\n",
    "            olLink.length = link.length\n",
    "            for att in linkatts_1:\n",
    "                olLink[att] = link[att]  "
   ]
  },
  {
   "cell_type": "code",
   "execution_count": 25,
   "metadata": {
    "collapsed": true,
    "show_input": true
   },
   "outputs": [],
   "source": [
    "sc_1.publish_network(ntwk1)"
   ]
  },
  {
   "cell_type": "code",
   "execution_count": 24,
   "metadata": {
    "collapsed": true
   },
   "outputs": [],
   "source": [
    "for node in ol_nodes:\n",
    "    for link in node.incoming_links():\n",
    "        if ntwk1.link(link.i_node,link.j_node) is None:\n",
    "            new_link = ntwk1.create_link(link.i_node.id,link.j_node.id,link.modes)\n",
    "            for att in linkatts_1:\n",
    "                new_link[att] = link[att]        \n",
    "    for link in node.outgoing_links():\n",
    "        if ntwk1.link(link.i_node,link.j_node) is None:\n",
    "            new_link = ntwk1.create_link(link.i_node.id,link.j_node.id,link.modes)\n",
    "            for att in linkatts_1:\n",
    "                new_link[att] = link[att]"
   ]
  },
  {
   "cell_type": "code",
   "execution_count": 7,
   "metadata": {
    "collapsed": true,
    "show_input": true
   },
   "outputs": [],
   "source": [
    "linkatts_1 = ntwk1.attributes(\"LINK\")"
   ]
  },
  {
   "cell_type": "code",
   "execution_count": 8,
   "metadata": {
    "collapsed": true,
    "show_input": true
   },
   "outputs": [],
   "source": [
    "linkatts_2 = ntwk2.attributes(\"LINK\")"
   ]
  },
  {
   "cell_type": "code",
   "execution_count": 18,
   "metadata": {
    "collapsed": false
   },
   "outputs": [],
   "source": [
    "linkatts_1.remove(u'@ol_link')"
   ]
  },
  {
   "cell_type": "code",
   "execution_count": 12,
   "metadata": {
    "collapsed": false
   },
   "outputs": [
    {
     "data": {
      "text/plain": [
       "[u'@bike_speed',\n",
       " u'@bike_time',\n",
       " u'@bln',\n",
       " u'@flag_l',\n",
       " u'@gtha_links',\n",
       " u'@hov2_km',\n",
       " u'@hov3_km',\n",
       " u'@idpro',\n",
       " u'@is_hov2',\n",
       " u'@is_hov3',\n",
       " u'@sp_link',\n",
       " u'@tag1',\n",
       " u'@tag2',\n",
       " u'@tag3',\n",
       " u'@toll1',\n",
       " u'@toll2',\n",
       " u'@toll3',\n",
       " u'@toll_htruck',\n",
       " u'@toll_km',\n",
       " u'@toll_mtruck',\n",
       " u'@toll_zone',\n",
       " u'@volau1_nt',\n",
       " u'@volau1_toll',\n",
       " u'@volau2_nt_hov',\n",
       " u'@volau2_nt_nh',\n",
       " u'@volau2_toll_hov',\n",
       " u'@volau2_toll_nh',\n",
       " u'@volau3_nt_hov',\n",
       " u'@volau3_nt_nh',\n",
       " u'@volau3_toll_hov',\n",
       " u'@volau3_toll_nh',\n",
       " u'@volau_htruck',\n",
       " u'@volau_ltruck',\n",
       " u'@volau_mtruck',\n",
       " u'@walk_speed',\n",
       " u'@walk_time',\n",
       " u'data1',\n",
       " u'data2',\n",
       " u'data3',\n",
       " u'length',\n",
       " u'num_lanes',\n",
       " u'type',\n",
       " u'volume_delay_func']"
      ]
     },
     "execution_count": 12,
     "metadata": {},
     "output_type": "execute_result"
    }
   ],
   "source": [
    "linkatts_2"
   ]
  },
  {
   "cell_type": "code",
   "execution_count": 12,
   "metadata": {
    "collapsed": false,
    "show_input": true
   },
   "outputs": [],
   "source": [
    "linkatts_2.remove(u'additional_volume')\n",
    "linkatts_2.remove(u'auto_time')\n",
    "linkatts_2.remove(u'auto_volume')\n",
    "linkatts_2.remove(u'aux_transit_volume')"
   ]
  },
  {
   "cell_type": "code",
   "execution_count": 14,
   "metadata": {
    "collapsed": true,
    "show_input": true
   },
   "outputs": [],
   "source": [
    "for zone in ntwk1.centroids():\n",
    "    if zone[\"@ol_zone\"] == 1:\n",
    "        \n",
    "        zone2 = ntwk2.node(zone.id)\n",
    "        zone.x = zone2.x\n",
    "        zone.y = zone2.y\n",
    "        \n",
    "        for link in zone.incoming_links():\n",
    "            ntwk1.delete_link(link.i_node.id,link.j_node.id)\n",
    "        for link in zone.outgoing_links():\n",
    "            ntwk1.delete_link(link.i_node.id,link.j_node.id)    \n",
    "        \n",
    "        for link in zone2.incoming_links():\n",
    "            new_link = ntwk1.create_link(link.i_node.id,link.j_node.id,link.modes)\n",
    "            for att in linkatts_2:\n",
    "                new_link[att] = link[att]        \n",
    "        for link in zone2.outgoing_links():\n",
    "            new_link = ntwk1.create_link(link.i_node.id,link.j_node.id,link.modes)\n",
    "            for att in linkatts_2:\n",
    "                new_link[att] = link[att]"
   ]
  },
  {
   "cell_type": "code",
   "execution_count": 15,
   "metadata": {
    "collapsed": true,
    "show_input": true
   },
   "outputs": [],
   "source": [
    "sc_1.publish_network(ntwk1)"
   ]
  },
  {
   "cell_type": "code",
   "execution_count": 19,
   "metadata": {
    "collapsed": false,
    "show_input": true
   },
   "outputs": [
    {
     "data": {
      "text/plain": [
       "True"
      ]
     },
     "execution_count": 19,
     "metadata": {},
     "output_type": "execute_result"
    }
   ],
   "source": [
    "ntwk1.link(10611,97085).modes == set([ntwk1.mode('t')])"
   ]
  },
  {
   "cell_type": "code",
   "execution_count": 21,
   "metadata": {
    "collapsed": false,
    "show_input": true
   },
   "outputs": [],
   "source": [
    "for node in ol_nodes:\n",
    "    for link in node.incoming_links():\n",
    "        if link.modes == set([ntwk1.mode('t')]):\n",
    "            ntwk1.delete_link(link.i_node.id,link.j_node.id)\n",
    "    for link in node.outgoing_links():\n",
    "        if link.modes == set([ntwk1.mode('t')]):\n",
    "            ntwk1.delete_link(link.i_node.id,link.j_node.id)\n",
    "    newNode = ntwk2.node(node.id)\n",
    "    for link in newNode.incoming_links():\n",
    "        if link.modes == set([ntwk2.mode('t')]):\n",
    "            new_link = ntwk1.create_link(link.i_node.id,link.j_node.id,link.modes)\n",
    "            for att in linkatts_2:\n",
    "                new_link[att] = link[att] \n",
    "    for link in newNode.outgoing_links():\n",
    "        if link.modes == set([ntwk2.mode('t')]):\n",
    "            new_link = ntwk1.create_link(link.i_node.id,link.j_node.id,link.modes)\n",
    "            for att in linkatts_2:\n",
    "                new_link[att] = link[att]"
   ]
  },
  {
   "cell_type": "code",
   "execution_count": 22,
   "metadata": {
    "collapsed": true,
    "show_input": true
   },
   "outputs": [],
   "source": [
    "sc_1.publish_network(ntwk1)"
   ]
  },
  {
   "cell_type": "code",
   "execution_count": null,
   "metadata": {
    "collapsed": true,
    "show_input": true
   },
   "outputs": [],
   "source": []
  }
 ],
 "metadata": {
  "kernelspec": {
   "display_name": "Python 2",
   "language": "python",
   "name": "python2"
  },
  "language_info": {
   "codemirror_mode": {
    "name": "ipython",
    "version": 2
   },
   "file_extension": ".py",
   "mimetype": "text/x-python",
   "name": "python",
   "nbconvert_exporter": "python",
   "pygments_lexer": "ipython2",
   "version": "2.7.9"
  }
 },
 "nbformat": 4,
 "nbformat_minor": 0
}
