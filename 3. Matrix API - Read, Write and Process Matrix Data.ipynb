{
    "cells": [
        {
            "cell_type": "markdown", 
            "metadata": {}, 
            "source": [
                "<div>\n", 
                "  <div>\n", 
                "    Emme Notebook and Scripting Course, August 2019 <br>\n", 
                "  </div>\n", 
                "  <div>\n", 
                "    <img style=\"align: left; margin: 15px 15px 15px 0px;\" src=\"./INRO Logo.png\" width=\"120\" />\n", 
                "  </div>\n", 
                "  <div>\n", 
                "    \u00c2\u00a9 Copyright 2019 INRO\n", 
                "  </div>\n", 
                "</div>"
            ]
        }, 
        {
            "cell_type": "markdown", 
            "metadata": {
                "show_input": false
            }, 
            "source": [
                "# 3 Matrix API - Read, Write and Process Matrix Data\n", 
                "This class provides examples of Matrix API use to access, manipulate, import and export matrix data. \n", 
                "\n", 
                "__Suggested Duration__: 2 hours\n", 
                "\n", 
                "## 3.1 Contents \n", 
                "\n", 
                "<a href=\"#3.1-Contents\">3.1 Contents</a>\n", 
                "\n", 
                "<a href=\"#3.2-Accessing-the-Matrix-API\">3.2 Accessing the Matrix API</a>\n", 
                "\n", 
                "<a href=\"#3.3-Working-with-MatrixData-objects\">3.3 Working with MatrixData objects</a>\n", 
                "- <a href=\"#3.3.1-Matrix-calculations\">3.3.1 Matrix calculations</a>\n", 
                "- <a href=\"#3.3.2-PRACTICE:-Matrix-API\">3.3.2 PRACTICE: Matrix API</a>\n", 
                "- <a href=\"#3.3.3-Matrix-manipulations-(transpose,-submatrix,-expansion)\">3.3.3 Matrix manipulations  (transpose, submatrix, expansion)</a>\n", 
                "\n", 
                "<a href=\"#3.4-Working-with-NumPy-arrays\">3.4 Working with NumPy arrays</a>\n", 
                "\n", 
                "<a href=\"#3.5-Importing-and-exporting-to-CSV-format\">3.5 Importing and exporting to CSV format</a>\n", 
                "\n", 
                "<a href=\"#3.6-Additional-Example-part-1:-Modify-values-of-a-matrix-by-district\">3.6 Additional Example part 1: Modify values of a matrix by district</a>\n", 
                "\n", 
                "\n", 
                "<a href=\"#3.7-Additional-Example-part-2:-Compute-weighted-avg.-travel-time-by-OD-pair\">3.7 Additional Example part 2: Compute weighted avg. travel time by OD pair</a>\n"
            ]
        }, 
        {
            "cell_type": "markdown", 
            "metadata": {
                "show_input": false
            }, 
            "source": [
                "## 3.2 Accessing the Matrix API\n", 
                "The entry point for the Matrix API is through an Emme <code><b>Matrix</b></code> object, accessed by the <code><b>inro.emme.database.emmebank.Emmebank</b></code> class. Emme has four matrix types: scalar, origin, destination and full matrices. Scalar matrices are single values, origin and destination matrices are one-dimensional vectors containing origin or destination indices, and full matrices are two-dimensional matrices with both origin and destination indices. The following code will return the IDs of all full matrices currently defined in the Emme database:"
            ]
        }, 
        {
            "cell_type": "code", 
            "execution_count": null, 
            "metadata": {
                "show_input": true
            }, 
            "outputs": [], 
            "source": [
                "import inro.modeller as _m\n", 
                "modeller = _m.Modeller()\n", 
                "emmebank = modeller.emmebank\n", 
                "scenario = modeller.scenario\n", 
                "\n", 
                "for matrix in emmebank.matrices():\n", 
                "    if matrix.type == \"FULL\":\n", 
                "        print matrix.id"
            ]
        }, 
        {
            "cell_type": "markdown", 
            "metadata": {}, 
            "source": [
                "To return an instance of a specific matrix, we can either reference it by its ID or its name. If using matrix names, these must be unique, or the <code>emmebank<b>.matrix()</b></code> method will return `None`. "
            ]
        }, 
        {
            "cell_type": "code", 
            "execution_count": null, 
            "metadata": {
                "scrolled": true, 
                "show_input": true
            }, 
            "outputs": [], 
            "source": [
                "matrix_mf4 = emmebank.matrix(\"mf4\")\n", 
                "matrix_mfautsb = emmebank.matrix(\"mfautsb\")\n", 
                "\n", 
                "matrix_mf4 == matrix_mfautsb"
            ]
        }, 
        {
            "cell_type": "markdown", 
            "metadata": {}, 
            "source": [
                "Note that in the case that a matrix does not exist you may see an error such as <code>AttributeError: 'NoneType' object has no attribute 'name'</code>. You can check if the matrix does not exist by checking if the matrix lookup was <code>None</code>.\n", 
                "\n", 
                "From the Database API we can also create new matrices, delete matrices, and lookup an available matrix ID. Below are two common workflows for managing matrix creation when the matrix may already exist. The first workflow consists in looking up a matrix by its ID and create it if it does not exists in the Emme bank. The second workflow consists in getting the next available matrix identifier and create a new matrix."
            ]
        }, 
        {
            "cell_type": "code", 
            "execution_count": null, 
            "metadata": {
                "show_input": true
            }, 
            "outputs": [], 
            "source": [
                "# Lookup a matrix by ID, and if it does not exist create it\n", 
                "matrix_mf13 = emmebank.matrix(\"mf13\")\n", 
                "if matrix_mf13 is None:\n", 
                "    matrix_mf13 = emmebank.create_matrix(\"mf13\")\n", 
                "matrix_mf13.name = \"Custom\"\n", 
                "\n", 
                "# Lookup a matrix by name, and if it does exist delete it.\n", 
                "matrix_custom = emmebank.matrix(\"mfCustom\")\n", 
                "if matrix_custom:\n", 
                "    emmebank.delete_matrix(matrix_mf13.id)\n", 
                "    \n", 
                "# Create a new matrix using the next available identifier\n", 
                "new_matrix_id = emmebank.available_matrix_identifier(\"FULL\")\n", 
                "matrix_custom = emmebank.create_matrix(new_matrix_id)\n", 
                "matrix_custom.name = \"Custom2\""
            ]
        }, 
        {
            "cell_type": "markdown", 
            "metadata": {}, 
            "source": [
                "To access and manipulate the matrix data, the <code>matrix<b>.get_data()</b></code> method is used to return a <code><b>MatrixData</b></code> object, which is an in-memory copy of the matrix data:"
            ]
        }, 
        {
            "cell_type": "code", 
            "execution_count": null, 
            "metadata": {
                "show_input": true
            }, 
            "outputs": [], 
            "source": [
                "auto_times_data = matrix_mfautsb.get_data()"
            ]
        }, 
        {
            "cell_type": "markdown", 
            "metadata": {}, 
            "source": [
                "<b>Tip</b>: <code><b>MatrixData</b></code> references the data values by zone ID, which are determined by the zone system definition in the Emme database. If all scenarios share the same zone system (have identical centroid IDs), then it is not necessary to identify a particular scenario. However, if different scenarios have different zone systems, then a scenario ID must be provided to <code>matrix<b>.get_data(</b>scenario_id<b>)</b></code>, or you will see the following error <code>Error: Not all scenarios share the same zone system</code>."
            ]
        }, 
        {
            "cell_type": "code", 
            "execution_count": null, 
            "metadata": {
                "show_input": true
            }, 
            "outputs": [], 
            "source": [
                "auto_times_data = matrix_mfautsb.get_data(scenario_id=3001)"
            ]
        }, 
        {
            "cell_type": "markdown", 
            "metadata": {}, 
            "source": [
                "To query the matrix data, use the <code><b>get()</b></code> method. The matrix values are referenced by the zone IDs, which need not be continuous. For example, to get the value at origin <code>p=5</code> and destination <code>q=7</code> for matrix <code>mf4</code>, use the following code:"
            ]
        }, 
        {
            "cell_type": "code", 
            "execution_count": null, 
            "metadata": {
                "show_input": true
            }, 
            "outputs": [], 
            "source": [
                "value = auto_times_data.get(5, 7)\n", 
                "print \"The auto times (mf4) matrix value at O-D=(5,7) is\", value"
            ]
        }, 
        {
            "cell_type": "markdown", 
            "metadata": {}, 
            "source": [
                "It is also possible to modify the data through assignment using the <code><b>set()</b></code> method. To change the value at origin <code>p=5</code> and destination <code>q=7</code> to 55.4, use the following code:"
            ]
        }, 
        {
            "cell_type": "code", 
            "execution_count": null, 
            "metadata": {
                "show_input": true
            }, 
            "outputs": [], 
            "source": [
                "auto_times_data.set(5, 7, 55.4)\n", 
                "new_value = auto_times_data.get(5, 7)\n", 
                "\n", 
                "print \"The new auto times (mf4) matrix value at O-D=(5,7) is\", new_value"
            ]
        }, 
        {
            "cell_type": "markdown", 
            "metadata": {}, 
            "source": [
                "Once all operations are completed on the matrix data, we can write this data to the Emme <code><b>Matrix</b></code> object. We do so by using the <code><b>set_data()</b></code> method on the Emme matrix we want to write to:"
            ]
        }, 
        {
            "cell_type": "code", 
            "execution_count": null, 
            "metadata": {
                "show_input": true
            }, 
            "outputs": [], 
            "source": [
                "matrix_mfautsb.set_data(auto_times_data)"
            ]
        }, 
        {
            "cell_type": "markdown", 
            "metadata": {}, 
            "source": [
                "The previous operations are also available on scalar, origin and destination matrices. For origin and destination matrices, a single value is specified for the __`get()`__ and __`set()`__ methods, as shown in the following example:"
            ]
        }, 
        {
            "cell_type": "code", 
            "execution_count": null, 
            "metadata": {
                "show_input": true
            }, 
            "outputs": [], 
            "source": [
                "matrix_mo3 = emmebank.matrix(\"mo3\")\n", 
                "mo3_data = matrix_mo3.get_data()\n", 
                "mo3_val_10  = mo3_data.get(10)\n", 
                "print \"The mo3 matrix value at origin=10 is\", mo3_val_10"
            ]
        }, 
        {
            "cell_type": "markdown", 
            "metadata": {}, 
            "source": [
                "To access the single value contained in a scalar matrix, use the __`data`__ attribute:"
            ]
        }, 
        {
            "cell_type": "code", 
            "execution_count": null, 
            "metadata": {
                "show_input": true
            }, 
            "outputs": [], 
            "source": [
                "matrix_ms2 = emmebank.matrix(\"ms2\")\n", 
                "ms2_val = matrix_ms2.data\n", 
                "print \"The value of scalar matrix ms2 is\", ms2_val"
            ]
        }, 
        {
            "cell_type": "markdown", 
            "metadata": {}, 
            "source": [
                "## 3.3 Working with MatrixData objects\n", 
                "\n", 
                "### 3.3.1 Matrix calculations\n", 
                "Calculations can be performed by iterating (<code>for</code> loop) through the zone IDs with the <code><b>get()</b></code> method to lookup values and the <code><b>set()</b></code> method to change values. The following example doubles the value of the auto demand if the current value is between 5 and 20. Any series of Python expressions can be used to calculate the new value, and multiple matrices can be calculated at the same time without saving intermediate values."
            ]
        }, 
        {
            "cell_type": "code", 
            "execution_count": null, 
            "metadata": {
                "show_input": true
            }, 
            "outputs": [], 
            "source": [
                "auto_demand_matrix = emmebank.matrix(\"mfauds\")\n", 
                "auto_demand = auto_demand_matrix.get_data()\n", 
                "zones = scenario.zone_numbers\n", 
                "\n", 
                "for p in zones:\n", 
                "    for q in zones:\n", 
                "        value = auto_demand.get(p, q)\n", 
                "        if 5 <= value <= 20:\n", 
                "            auto_demand.set(p, q, value * 2)"
            ]
        }, 
        {
            "cell_type": "markdown", 
            "metadata": {}, 
            "source": [
                "The matrix data can be very efficient when changing values for a subset of zones as only the zones of interest need to be evaluated. A set of `selected_zones` can be identified from a <b><code>Partition</code></b> as shown in the example below.\n", 
                "\n", 
                "Partition data is accessed through the same interface __`get_data()`__ as matrix data and __`get()`__, __`set()`__ functions to access the values."
            ]
        }, 
        {
            "cell_type": "code", 
            "execution_count": null, 
            "metadata": {
                "show_input": true
            }, 
            "outputs": [], 
            "source": [
                "auto_demand_matrix = emmebank.matrix(\"mfauds\")\n", 
                "auto_demand = auto_demand_matrix.get_data()\n", 
                "\n", 
                "# The selected zones which are in the partition group 1, 2, or 3 (ga1, ga2, or ga3)\n", 
                "partition_data = emmebank.partition('ga').get_data()\n", 
                "selected_zones = []\n", 
                "for z in zones:\n", 
                "    if partition_data.get(z) in (1, 2, 3):\n", 
                "        selected_zones.append(z)\n", 
                "\n", 
                "for p in selected_zones:\n", 
                "    for q in selected_zones:\n", 
                "        value = auto_demand.get(p, q)\n", 
                "        auto_demand.set(p, q, value * 2)"
            ]
        }, 
        {
            "cell_type": "markdown", 
            "metadata": {}, 
            "source": [
                "<p>\n", 
                "Note that in the above example the list of `selected_zones` was built in a separate `for` loop than that used for the <code><b>MatrixData</b></code> calculation. It is important to minimize the complexity of the \"inner loop\" expressions as this is run `zones**2` times.\n", 
                "</p>\n", 
                "<p>\n", 
                "General calculations with the Matrix Calculator tool or NumPy are normally faster than <code><b>MatrixData</b></code> `for` loops, however the later can be a useful option when using small fixed submatrices (`selected_zones`), calculations with intermediate values which are discarded, complex logical expressions which are easier to express in Python, or combined with the <code><b>transposed()</b></code>, <code><b>submatrix()</b></code> or <code><b>expand()</b></code> methods discussed under <a href=\"#Matrix-manipulations\">Matrix manipulations</a> below.\n", 
                "</p>\n", 
                "\n", 
                "<p>\n", 
                "    As one more example of useful application of the <code><b>MatrixData</b></code> `for` loop, below is a calculation which sets the intra-zonal values of a matrix. Note that there is only one `for` loop needed to accomplish this.\n", 
                "</p>"
            ]
        }, 
        {
            "cell_type": "code", 
            "execution_count": null, 
            "metadata": {
                "show_input": true
            }, 
            "outputs": [], 
            "source": [
                "# Set the intra-zonal demand to 0\n", 
                "for z in zones:\n", 
                "    auto_demand.set(z, z, 0)"
            ]
        }, 
        {
            "cell_type": "markdown", 
            "metadata": {}, 
            "source": [
                "Note that as long as we did not call the `matrix.set_data()` function, none of these modifications is published to the Emmebank."
            ]
        }, 
        {
            "cell_type": "markdown", 
            "metadata": {}, 
            "source": [
                "### 3.3.2 <span style=\"color:red\">PRACTICE: Matrix API</span>\n", 
                "\n", 
                "Please refer to the _Emme Notebook and Scripting - Practices_ Notebook to complete this exercise. Note that the solutions to practices are found in the _Emme Notebook and Scripting - Solutions_ Notebook."
            ]
        }, 
        {
            "cell_type": "markdown", 
            "metadata": {}, 
            "source": [
                "### 3.3.3 Matrix manipulations (transpose, submatrix, expansion)\n", 
                "Some methods are readily available to perform common matrix operations such as transposing a matrix, creating a submatrix and expanding a submatrix. "
            ]
        }, 
        {
            "cell_type": "markdown", 
            "metadata": {}, 
            "source": [
                "For full matrices, the <code><b>transposed()</b></code> method is used to transpose a matrix, as shown in the following example:"
            ]
        }, 
        {
            "cell_type": "code", 
            "execution_count": null, 
            "metadata": {
                "show_input": true
            }, 
            "outputs": [], 
            "source": [
                "mf4_data = emmebank.matrix(\"mf4\").get_data()\n", 
                "transposed_mf4_data = mf4_data.transposed()"
            ]
        }, 
        {
            "cell_type": "markdown", 
            "metadata": {}, 
            "source": [
                "To verify the transpose operation, we can query the cell (7,5), which should now contain the same value from cell (5,7) in the original matrix:"
            ]
        }, 
        {
            "cell_type": "code", 
            "execution_count": null, 
            "metadata": {
                "show_input": true
            }, 
            "outputs": [], 
            "source": [
                "transposed_mf4_data.get(7, 5) == mf4_data.get(5, 7)"
            ]
        }, 
        {
            "cell_type": "markdown", 
            "metadata": {}, 
            "source": [
                "... or check that all cells `(p,q)` in the transposed data match `(q,p)` in the original data:"
            ]
        }, 
        {
            "cell_type": "code", 
            "execution_count": null, 
            "metadata": {
                "show_input": true
            }, 
            "outputs": [], 
            "source": [
                "all_match = True\n", 
                "for p in zones:\n", 
                "    for q in zones:\n", 
                "        if transposed_mf4_data.get(p, q) != mf4_data.get(q, p):\n", 
                "            all_match = False\n", 
                "all_match"
            ]
        }, 
        {
            "cell_type": "markdown", 
            "metadata": {}, 
            "source": [
                "Creating submatrices is possible using the <code><b>submatrix()</b></code> method on a <code><b>MatrixData</b></code> object. To create a submatrix, a list of indices (or two lists for full matrices) is required. \n", 
                "\n", 
                "We will create a submatrix containing only zones 1, 5 and 10 using the <code>new_mat</code> full matrix created earlier, which has zones 1-154:"
            ]
        }, 
        {
            "cell_type": "code", 
            "execution_count": null, 
            "metadata": {
                "show_input": true
            }, 
            "outputs": [], 
            "source": [
                "sub_indices = [[1,5,10],[1,5,10]]\n", 
                "new_submatrix = mf4_data.submatrix(sub_indices)\n", 
                "\n", 
                "print \"New submatrix indices=%s\" % str(new_submatrix.indices)"
            ]
        }, 
        {
            "cell_type": "markdown", 
            "metadata": {}, 
            "source": [
                "It is also possible to expand an existing matrix, using the <code><b>expand()</b></code> method. Similarly to <code><b>submatrix()</b></code>, <code><b>expand()</b></code> takes a list of indices, which must be a superset of the matrix data indices. It also takes an optional `default_value` parameter, which sets the initial value for the new O-D pairs added to the matrix. The following example takes the <code>new_mat</code> full matrix and expands it to 200 zones instead of 154, with a value of 5 for every new O-D pair:"
            ]
        }, 
        {
            "cell_type": "code", 
            "execution_count": null, 
            "metadata": {
                "show_input": true
            }, 
            "outputs": [], 
            "source": [
                "mf4_expanded = mf4_data.expand([(range(1,201)),(range(1,201))], 5)\n", 
                "\n", 
                "print \"Expanded matrix indices=%s\" % str(mf4_expanded.indices)\n", 
                "print \"The expanded matrix value at O-D=(200,200) is %s \" % str(mf4_expanded.get(200,200))"
            ]
        }, 
        {
            "cell_type": "markdown", 
            "metadata": {}, 
            "source": [
                "## 3.4 Working with NumPy arrays\n", 
                "The Matrix API provides direct and fast access to the <a href=\"http://www.numpy.org/\">NumPy</a> Python library which can be used to perform a variety of matrix manipulations. Working with NumPy arrays should be preferred for any operation which can be vectorized as the calculation would be much faster. \n", 
                "\n", 
                "An array based operation can be vectorized if none of the calculation of the array requires to know the result of other calculations from the array."
            ]
        }, 
        {
            "cell_type": "code", 
            "execution_count": null, 
            "metadata": {
                "show_input": true
            }, 
            "outputs": [], 
            "source": [
                "matrix_mf5 = emmebank.matrix(\"mf5\")\n", 
                "mf5_data = matrix_mf5.get_numpy_data()"
            ]
        }, 
        {
            "cell_type": "markdown", 
            "metadata": {}, 
            "source": [
                "It is also possible to convert a <code><b>MatrixData</b></code> object to a NumPy array using the <code><b>to_numpy()</b></code> method. However, it is much more efficient to create a NumPy array directly from an Emme matrix using the <code><b>get_numpy_data()</b></code> method, as shown in the following example: "
            ]
        }, 
        {
            "cell_type": "code", 
            "execution_count": null, 
            "metadata": {
                "show_input": true
            }, 
            "outputs": [], 
            "source": [
                "%%timeit -n 10 \n", 
                "mf5_data = matrix_mf5.get_numpy_data()"
            ]
        }, 
        {
            "cell_type": "code", 
            "execution_count": null, 
            "metadata": {
                "show_input": true
            }, 
            "outputs": [], 
            "source": [
                "%%timeit -n 10\n", 
                "mf5_data = matrix_mf5.get_data().to_numpy()"
            ]
        }, 
        {
            "cell_type": "markdown", 
            "metadata": {}, 
            "source": [
                "Individual cells in NumPy arrays are accessed using dictionary-like indexing based on the element positioning. It is important to note that NumPy arrays do not have a notion of zone IDs. Accessing a specific O-D pair value would require to use the zone index provided with the scenario object:"
            ]
        }, 
        {
            "cell_type": "code", 
            "execution_count": null, 
            "metadata": {
                "scrolled": false, 
                "show_input": true
            }, 
            "outputs": [], 
            "source": [
                "zone_index = {}\n", 
                "for index, zone_number in enumerate(scenario.zone_numbers):\n", 
                "    zone_index[zone_number] = index\n", 
                "    \n", 
                "zone_index"
            ]
        }, 
        {
            "cell_type": "code", 
            "execution_count": null, 
            "metadata": {
                "show_input": true
            }, 
            "outputs": [], 
            "source": [
                "mf5_data[zone_index[77]][zone_index[55]]"
            ]
        }, 
        {
            "cell_type": "markdown", 
            "metadata": {}, 
            "source": [
                "It is also possible to modify NumPy array values through assignment. In the following example the matrix data (for every O-D value) is multiplied by 2. Compare to the earlier example with the __`MatrixData`__ <code>mf5</code> done with a double `for` loop."
            ]
        }, 
        {
            "cell_type": "code", 
            "execution_count": null, 
            "metadata": {
                "show_input": true
            }, 
            "outputs": [], 
            "source": [
                "mf5_data *= 2\n", 
                "mf5_data[zone_index[77]][zone_index[55]]"
            ]
        }, 
        {
            "cell_type": "markdown", 
            "metadata": {}, 
            "source": [
                "Standard Python arithmetic syntax can be used for array-based computations with NumPy.\n", 
                "\n", 
                "NumPy provides many tools for array-based computations, and general matrix linear algebra. For example, the following calculates a disutility value from the negative exponential of the travel time in matrix `mf5`."
            ]
        }, 
        {
            "cell_type": "code", 
            "execution_count": null, 
            "metadata": {
                "show_input": true
            }, 
            "outputs": [], 
            "source": [
                "import numpy as _numpy\n", 
                "disutil = _numpy.exp(-0.015*mf5_data)"
            ]
        }, 
        {
            "cell_type": "markdown", 
            "metadata": {}, 
            "source": [
                "Or can be used for matrix summaries / statistics. For example, the following displays a few statistics about the values in <code>mf5_data</code>."
            ]
        }, 
        {
            "cell_type": "code", 
            "execution_count": null, 
            "metadata": {
                "show_input": true
            }, 
            "outputs": [], 
            "source": [
                "mf5_data.size, mf5_data.sum(), mf5_data.min(), mf5_data.max()"
            ]
        }, 
        {
            "cell_type": "markdown", 
            "metadata": {}, 
            "source": [
                "NumPy array data can be written to Emmebank using the <code>Matrix.<b>set_numpy_data()</b></code> method. For example, to write the modified NumPy array back to Emme matrix <code>mf5</code>, use the following code:"
            ]
        }, 
        {
            "cell_type": "code", 
            "execution_count": null, 
            "metadata": {
                "show_input": true
            }, 
            "outputs": [], 
            "source": [
                "matrix_mf5.set_numpy_data(mf5_data)"
            ]
        }, 
        {
            "cell_type": "markdown", 
            "metadata": {}, 
            "source": [
                "See the <a href=\"http://www.numpy.org/\">NumPy reference</a> for more. The <a href=\"https://www.numpy.org/devdocs/user/quickstart.html\">tutorial</a> is a good place to start for an introduction.\n", 
                "\n", 
                "Note that the modeller tool _Matrix calculator_ can be faster for most matrix expressions as it is multi-threaded. NumPy can, however, provide a low-level interface for a high degree of customization and optimization. "
            ]
        }, 
        {
            "cell_type": "markdown", 
            "metadata": {}, 
            "source": [
                "## 3.5 Importing and exporting to CSV format\n", 
                "To export matrix data to Comma Separated Values (CSV) format, the <code><b>to_csv()</b></code> method is used. In the following example, the matrix data contained in the variable <code>mf4_data</code> is exported to the file <code>mf4_export.csv</code>, in the <i>Database</i> folder of the project.\n", 
                "\n", 
                "__Note that there are many Modeller tools which let you export matrices in various format, including OMX, squared CSV etc.__"
            ]
        }, 
        {
            "cell_type": "code", 
            "execution_count": null, 
            "metadata": {
                "show_input": true
            }, 
            "outputs": [], 
            "source": [
                "import inro.emme.matrix as _matrix\n", 
                "import os\n", 
                "\n", 
                "database_path = os.path.dirname(emmebank.path)\n", 
                "export_path = os.path.join(database_path, \"mf4_export.csv\")\n", 
                "_matrix.to_csv(mf4_data, export_path)"
            ]
        }, 
        {
            "cell_type": "markdown", 
            "metadata": {}, 
            "source": [
                "Note that the <code><b>to_csv()</b></code> method requires a <code><b>MatrixData</b></code> object as the first argument. NumPy arrays must be converted to <code><b>MatrixData</b></code> objects prior to export to use this method.\n", 
                "\n", 
                "We can open the file and look at its format. The format is a squared table with origins on rows, destination on the columns and the value at the corresponding location."
            ]
        }, 
        {
            "cell_type": "code", 
            "execution_count": null, 
            "metadata": {
                "scrolled": true, 
                "show_input": true
            }, 
            "outputs": [], 
            "source": [
                "with open(export_path) as matrix_file:\n", 
                "    print matrix_file.read()"
            ]
        }, 
        {
            "cell_type": "markdown", 
            "metadata": {}, 
            "source": [
                "The <code><b>from_csv()</b></code> method imports matrix data from a CSV format file and converts it to a <code><b>MatrixData</b></code> object, as shown in the following example:"
            ]
        }, 
        {
            "cell_type": "code", 
            "execution_count": null, 
            "metadata": {
                "show_input": true
            }, 
            "outputs": [], 
            "source": [
                "imported_mat = _matrix.from_csv(export_path)"
            ]
        }, 
        {
            "cell_type": "markdown", 
            "metadata": {}, 
            "source": [
                "Note that the first row and column of the file must contain the row and column indices respectively. The matrix data may be full (two-dimensional) or origin or destination (vector). The delimiter is any one-character string; default is a comma. Once this matrix data is loaded, it can be published to a Matrix in the Emmebank using one of the workflow we have seen previously."
            ]
        }, 
        {
            "cell_type": "code", 
            "execution_count": null, 
            "metadata": {
                "show_input": true
            }, 
            "outputs": [], 
            "source": [
                "next_available_id = emmebank.available_matrix_identifier('FULL')\n", 
                "new_matrix = emmebank.create_matrix(next_available_id)\n", 
                "new_matrix.set_data(imported_mat)"
            ]
        }, 
        {
            "cell_type": "markdown", 
            "metadata": {}, 
            "source": [
                "## 3.6 Additional Example part 1: Modify values of a matrix by district\n", 
                "Consider the example below to multiply the existing matrix\n", 
                "    values by 2 for a subset of zones in ga1, ga2, or ga3:\n", 
                "</p>\n"
            ]
        }, 
        {
            "cell_type": "markdown", 
            "metadata": {}, 
            "source": [
                "<pre>scenario = my_modeller.scenario\n", 
                "emmebank = my_modeller.emmebank\n", 
                "matrix_mf1 = emmebank.matrix(\"mf1\")\n", 
                "matrix_data = matrix_mf1.get_data(scenario.id)\n", 
                "\n", 
                "partition_data = emmebank.partition(\"ga\").get_data()\n", 
                "\n", 
                "zones = []\n", 
                "for z in scenario.zone_numbers:\n", 
                "    if partition_data.get(z) in (1, 2, 3):\n", 
                "        zones.append(z)\n", 
                "\n", 
                "for p in zones:\n", 
                "    for q in zones:\n", 
                "        value = matrix_data.get(p, q)\n", 
                "        matrix_data.set(p, q, value * 2)\n", 
                "</pre>\n"
            ]
        }, 
        {
            "cell_type": "markdown", 
            "metadata": {}, 
            "source": [
                "<p>\n", 
                "   Modify this example to also multiply by 3 the values <i>not</i> in ga1, ga2, or ga3.\n", 
                "   Hint: generate two lists of zone IDs using the partition data.\n", 
                "</p>\n", 
                "<p>See the Matrix API in the Emme API Reference for a full description of methods and properties.</p>"
            ]
        }, 
        {
            "cell_type": "code", 
            "execution_count": null, 
            "metadata": {
                "show_input": true
            }, 
            "outputs": [], 
            "source": [
                "scenario = modeller.scenario\n", 
                "emmebank = modeller.emmebank\n", 
                "matrix_mf1 = emmebank.matrix(\"mf1\")\n", 
                "matrix_data = matrix_mf1.get_data(scenario)\n", 
                "\n", 
                "partition_data = emmebank.partition(\"ga\").get_data()"
            ]
        }, 
        {
            "cell_type": "code", 
            "execution_count": null, 
            "metadata": {
                "show_input": true
            }, 
            "outputs": [], 
            "source": [
                "zones_in_partition = []\n", 
                "zones_not_in_partition = []\n", 
                "\n", 
                "for z in scenario.zone_numbers:\n", 
                "    if partition_data.get(z) in (1, 2, 3):\n", 
                "        zones_in_partition.append(z)\n", 
                "    else:\n", 
                "        zones_not_in_partition.append(z)\n", 
                "\n", 
                "for p in zones_in_partition:\n", 
                "    for q in zones_in_partition:\n", 
                "        value = matrix_data.get(p, q)\n", 
                "        matrix_data.set(p, q, value * 2)\n", 
                "\n", 
                "for p in zones_not_in_partition:\n", 
                "    for q in zones_not_in_partition:\n", 
                "        value = matrix_data.get(p, q)\n", 
                "        matrix_data.set(p, q, value * 3)      "
            ]
        }, 
        {
            "cell_type": "markdown", 
            "metadata": {}, 
            "source": [
                "## 3.7 Additional Example part 2: Compute weighted avg. travel time by OD pair\n", 
                "In our model there is both transit and traffic demand: \n", 
                "\n", 
                "- traffic demand stored in `mf1` and the associated travel times stored in `mf4`\n", 
                "- transit demand stored in `mf2` and the associated travel times stored in `mf5`\n", 
                "\n", 
                "Compute the weighted average travel time by OD pair using the matrix Numpy interface. The formula to implement is as follows:\n", 
                "\n", 
                "`weighted_average_travel_time = (mf1 * mf4 + mf2 * mf5) / (mf1 + mf2)`\n", 
                "\n", 
                "The division by 0 case will raise a warning. We can handle it using the numpy.`nan_to_num()` function to transform NaN values into zeros.\n", 
                "\n", 
                "Store the result in a new matrix with ID  _mf13_"
            ]
        }, 
        {
            "cell_type": "code", 
            "execution_count": null, 
            "metadata": {
                "show_input": true
            }, 
            "outputs": [], 
            "source": [
                "# Access the matrices as numpy arrays\n", 
                "mf1_data = emmebank.matrix('mf1').get_numpy_data()\n", 
                "mf2_data = emmebank.matrix('mf2').get_numpy_data()\n", 
                "mf4_data = emmebank.matrix('mf4').get_numpy_data()\n", 
                "mf5_data = emmebank.matrix('mf5').get_numpy_data()"
            ]
        }, 
        {
            "cell_type": "code", 
            "execution_count": null, 
            "metadata": {
                "show_input": true
            }, 
            "outputs": [], 
            "source": [
                "# Compute the weighted average travel time\n", 
                "weighted_average_travel_time = (mf1_data * mf4_data + mf2_data * mf5_data) / (mf1_data + mf2_data)"
            ]
        }, 
        {
            "cell_type": "code", 
            "execution_count": null, 
            "metadata": {
                "show_input": true
            }, 
            "outputs": [], 
            "source": [
                "# Get rid of the NaN values resulting from the division by 0\n", 
                "import numpy as np\n", 
                "weighted_average_travel_time = np.nan_to_num(weighted_average_travel_time)"
            ]
        }, 
        {
            "cell_type": "code", 
            "execution_count": null, 
            "metadata": {
                "show_input": true
            }, 
            "outputs": [], 
            "source": [
                "# Create the new matrix to store the result of the calculation\n", 
                "mf13 = emmebank.matrix('mf13')\n", 
                "if not mf13:\n", 
                "    mf13 = emmebank.create_matrix('mf13')\n", 
                "\n", 
                "mf13.name = 'weighted_avg_tt'\n", 
                "mf13.description = 'Weighted average travel time'"
            ]
        }, 
        {
            "cell_type": "code", 
            "execution_count": null, 
            "metadata": {
                "show_input": true
            }, 
            "outputs": [], 
            "source": [
                "# Publish the result\n", 
                "mf13.set_numpy_data(weighted_average_travel_time)"
            ]
        }
    ], 
    "metadata": {
        "kernelspec": {
            "display_name": "Python 2", 
            "language": "python", 
            "name": "python2"
        }, 
        "language_info": {
            "codemirror_mode": {
                "name": "ipython", 
                "version": 2
            }, 
            "file_extension": ".py", 
            "mimetype": "text/x-python", 
            "name": "python", 
            "nbconvert_exporter": "python", 
            "pygments_lexer": "ipython2", 
            "version": "2.7.14"
        }, 
        "modeller": {
            "desktop_app_port": "4242"
        }
    }, 
    "nbformat": 4, 
    "nbformat_minor": 1
}