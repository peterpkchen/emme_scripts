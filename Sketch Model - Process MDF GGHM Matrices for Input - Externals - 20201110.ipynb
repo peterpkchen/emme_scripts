{
 "cells": [
  {
   "cell_type": "code",
   "execution_count": 1,
   "metadata": {
    "code_folding": [
     0
    ],
    "collapsed": true,
    "show_input": true
   },
   "outputs": [],
   "source": [
    "import os\n",
    "import glob\n",
    "import inro.modeller as m\n",
    "import inro.emme.matrix as _matrix\n",
    "import numpy as np\n",
    "import pandas as pd\n",
    "mm = m.Modeller()    \n",
    "change_matrix = m.Modeller().tool(\"inro.emme.data.matrix.change_matrix_properties\") \n",
    "import_matrices = mm.tool(\"tmg.input_output.import_binary_matrix\")\n",
    "create_matrix =  m.Modeller().tool(\"inro.emme.data.matrix.create_matrix\")\n",
    "matrix_calculator = m.Modeller().tool(\"inro.emme.matrix_calculation.matrix_calculator\")\n",
    "eb = mm.emmebank"
   ]
  },
  {
   "cell_type": "code",
   "execution_count": 2,
   "metadata": {
    "collapsed": false,
    "show_input": true
   },
   "outputs": [],
   "source": [
    "scen_bau = 501\n",
    "\n",
    "# scenario_2011 = 101\n",
    "# scenario_2016 = 109\n",
    "# scenario_2041 = 114\n",
    "\n",
    "# ntwk_2011 = eb.scenario(scenario_2011).get_network()\n",
    "# ntwk_2016 = eb.scenario(scenario_2016).get_network()\n",
    "# ntwk_2041 = eb.scenario(scenario_2041).get_network()\n",
    "            "
   ]
  },
  {
   "cell_type": "code",
   "execution_count": 3,
   "metadata": {
    "code_folding": [],
    "collapsed": false,
    "show_input": true
   },
   "outputs": [],
   "source": [
    "### IMPORT ALL MATRICES IN SUBFOLDERS ###\n",
    "def clear_matrices(emmebank, exception_array = [\"\"], type = \"FULL\"):\n",
    "    for matrix in emmebank.matrices():\n",
    "        if matrix.type == type:\n",
    "            if matrix.id not in exception_array:\n",
    "                emmebank.delete_matrix(matrix.id)\n",
    "def import_matrices_from_directory(matrix_folder, matrix_list, extension, scenario):\n",
    "    #imports all matrices in directory and subfolders of the specified extension type\n",
    "    #matrix_list should be in the format:\n",
    "    #   {file_name1: matrix_num1, file_name2: matrix_num2, ...}\n",
    "    import os\n",
    "\n",
    "    for root, dirs, files in os.walk(matrix_folder):\n",
    "        for matrix_file in files:\n",
    "            if matrix_file.endswith(extension):\n",
    "                name = os.path.splitext(matrix_file)[0]\n",
    "                if name in matrix_list:\n",
    "                    matrix_number = int(matrix_list[name][2:])\n",
    "                    import_matrices(4, matrix_number ,os.path.join(root, matrix_file),scenario, name.replace(\"skim.\",\"\").replace(\"transit.\",\"\").replace(\"peak\",\"pk\").replace(\" \",\"_\") )\n",
    "                    print \"Imported matrix \" + matrix_list[name]\n",
    "                    change_matrix(matrix = matrix_list[name],\n",
    "                        matrix_name = name.replace(\"skim.\",\"\").replace(\"transit.\",\"\").replace(\"peak\",\"pk\").replace(\" \",\"_\")[:40],\n",
    "                        matrix_description = name)\n",
    "    \n",
    "    #check\n",
    "    for name in matrix_list:\n",
    "        if eb.matrix(matrix_list[name]): \n",
    "            n_matrix = eb.matrix(matrix_list[name]).get_numpy_data(scenario)\n",
    "            if n_matrix.sum() == 0 :\n",
    "                print \"Matrix %s was not imported, or contains no values!\" % name\n",
    "        else:\n",
    "            print \"Matrix %s was not imported!\" % name\n",
    "    print \"Finished Importing Matrices\""
   ]
  },
  {
   "cell_type": "code",
   "execution_count": 4,
   "metadata": {
    "collapsed": true,
    "show_input": true
   },
   "outputs": [],
   "source": [
    "#Matrix naming for inputs\n",
    "\n",
    "trip_am_auto1nt = \"trips_am_peak_auto1_nt\"\n",
    "trip_am_auto1t = \"trips_am_peak_auto1_toll\" \n",
    "trip_am_auto2nth = \"trips_am_peak_auto2_nt_hov\"\n",
    "trip_am_auto2ntnh = \"trips_am_peak_auto2_nt_nh\" \n",
    "trip_am_auto2th = \"trips_am_peak_auto2_toll_hov\" \n",
    "trip_am_auto2tnh =\"trips_am_peak_auto2_toll_nh\" \n",
    "trip_am_auto3nth =\"trips_am_peak_auto3_nt_hov\" \n",
    "trip_am_auto3ntnh =\"trips_am_peak_auto3_nt_nh\" \n",
    "trip_am_auto3th =\"trips_am_peak_auto3_toll_hov\" \n",
    "trip_am_auto3tnh =\"trips_am_peak_auto3_toll_nh\"\n",
    "trip_md_auto1nt =\"trips_midday_auto1_nt\" \n",
    "trip_md_auto1t =\"trips_midday_auto1_toll\"\n",
    "trip_md_auto2nth =\"trips_midday_auto2_nt_hov\" \n",
    "trip_md_auto2ntnh =\"trips_midday_auto2_nt_nh\" \n",
    "trip_md_auto2th =\"trips_midday_auto2_toll_hov\" \n",
    "trip_md_auto2tnh =\"trips_midday_auto2_toll_nh\" \n",
    "trip_md_auto3nth =\"trips_midday_auto3_nt_hov\" \n",
    "trip_md_auto3ntnh =\"trips_midday_auto3_nt_nh\"\n",
    "trip_md_auto3th =\"trips_midday_auto3_toll_hov\" \n",
    "trip_md_auto3tnh =\"trips_midday_auto3_toll_nh\" "
   ]
  },
  {
   "cell_type": "code",
   "execution_count": 5,
   "metadata": {
    "code_folding": [],
    "collapsed": false,
    "scrolled": true,
    "show_input": true
   },
   "outputs": [
    {
     "name": "stdout",
     "output_type": "stream",
     "text": [
      "trips_midday_auto2_nt_nh\n",
      "trips_am_peak_auto2_nt_nh\n",
      "trips_midday_auto1_toll\n",
      "trips_midday_auto3_nt_nh\n",
      "trips_midday_auto3_toll_nh\n",
      "trips_midday_auto2_nt_hov\n",
      "trips_midday_auto2_toll_nh\n",
      "trips_am_peak_auto3_toll_hov\n",
      "trips_am_peak_auto2_toll_nh\n",
      "trips_midday_auto3_nt_hov\n",
      "trips_am_peak_auto3_nt_hov\n",
      "trips_am_peak_auto3_nt_nh\n",
      "trips_midday_auto1_nt\n",
      "trips_am_peak_auto2_nt_hov\n",
      "trips_am_peak_auto2_toll_hov\n",
      "trips_midday_auto2_toll_hov\n",
      "trips_am_peak_auto1_nt\n",
      "trips_am_peak_auto3_toll_nh\n",
      "trips_midday_auto3_toll_hov\n",
      "trips_am_peak_auto1_toll\n",
      "Imported matrix mf18\n",
      "Imported matrix mf21\n",
      "Imported matrix mf15\n",
      "Imported matrix mf2\n",
      "Imported matrix mf16\n",
      "Imported matrix mf10\n",
      "Imported matrix mf12\n",
      "Imported matrix mf13\n",
      "Imported matrix mf9\n",
      "Imported matrix mf19\n",
      "Imported matrix mf14\n",
      "Imported matrix mf3\n",
      "Imported matrix mf7\n",
      "Imported matrix mf1\n",
      "Imported matrix mf17\n",
      "Imported matrix mf8\n",
      "Imported matrix mf11\n",
      "Imported matrix mf4\n",
      "Imported matrix mf20\n",
      "Imported matrix mf5\n",
      "Finished Importing Matrices\n"
     ]
    }
   ],
   "source": [
    "#import all matrices from run output folder\n",
    "hov2_oc = 2.2\n",
    "hov3_oc = 3.3\n",
    "#Delete all matrices\n",
    "hdr_bau_peak = \"mf160\"\n",
    "hdr_bau_offpeak = \"mf170\"\n",
    "local_transit_fare = \"mf180\"\n",
    "transit_aux_time = \"mf6\"\n",
    "truck_cost = \"mf190\"\n",
    "\n",
    "matrix_folder = r\"\\\\tore-infs01\\PWExternal\\451010\\281829_GGH\\GGHM Runs\\2051\\Short List\\Network 1\\N1_ShortList_APTG_2051_GGH_MTP_V106A3_CS222_20201217\"\n",
    "#scenario compatible with truck matrices\n",
    "truck_scen = 401\n",
    "scen_num = 404\n",
    "\n",
    "clear_matrices(eb,[hdr_bau_peak, hdr_bau_offpeak,local_transit_fare,transit_aux_time,truck_cost],\"FULL\")\n",
    "\n",
    "matrix_list = {trip_am_auto1nt:\"\",\n",
    "                trip_am_auto1t:\"\",\n",
    "                trip_am_auto2nth:\"\",\n",
    "                trip_am_auto2ntnh:\"\",\n",
    "                trip_am_auto2th:\"\",\n",
    "                trip_am_auto2tnh:\"\",\n",
    "                trip_am_auto3nth:\"\",\n",
    "                trip_am_auto3ntnh:\"\",\n",
    "                trip_am_auto3th:\"\",\n",
    "                trip_am_auto3tnh:\"\",\n",
    "                trip_md_auto1nt:\"\",\n",
    "                trip_md_auto1t:\"\",\n",
    "                trip_md_auto2nth:\"\",\n",
    "                trip_md_auto2ntnh:\"\",\n",
    "                trip_md_auto2th:\"\",\n",
    "                trip_md_auto2tnh:\"\",\n",
    "                trip_md_auto3nth:\"\",\n",
    "                trip_md_auto3ntnh:\"\",\n",
    "                trip_md_auto3th:\"\",\n",
    "                trip_md_auto3tnh:\"\"}\n",
    "\n",
    "for matrix_name in matrix_list.keys():\n",
    "    matrix_list[matrix_name] = eb.available_matrix_identifier('FULL')\n",
    "    print matrix_name\n",
    "    create_matrix(matrix_id = matrix_list[matrix_name],\n",
    "                  matrix_name= matrix_name.replace(\"skim.\",\"\").replace(\"transit.\",\"\").replace(\"peak\",\"pk\").replace(\" \",\"_\").strip()[:40],\n",
    "                  matrix_description = matrix_name)\n",
    "import_matrices_from_directory(matrix_folder, matrix_list, \".mdf\",scen_bau)"
   ]
  },
  {
   "cell_type": "code",
   "execution_count": 6,
   "metadata": {
    "collapsed": false,
    "show_input": true
   },
   "outputs": [
    {
     "data": {
      "text/plain": [
       "{'average': 0.28349,\n",
       " 'expression_type': 'FULL',\n",
       " 'maximum': 2008.765014,\n",
       " 'maximum_at': {'destination': 8828, 'origin': 8828},\n",
       " 'minimum': 0.0,\n",
       " 'minimum_at': {'destination': 1034, 'origin': 1001},\n",
       " 'num_evaluations': 12327121,\n",
       " 'result_type': 'FULL',\n",
       " 'sum': 3494620.25}"
      ]
     },
     "execution_count": 6,
     "metadata": {},
     "output_type": "execute_result"
    }
   ],
   "source": [
    "#Calculate demand matrices\n",
    "dem_pk = eb.available_matrix_identifier('FULL')\n",
    "create_matrix(matrix_id =dem_pk,\n",
    "              matrix_name=\"trips.total\",\n",
    "            matrix_description = \"trips.total\")\n",
    "\n",
    "exp = matrix_list[trip_am_auto1nt] + \"+\" + matrix_list[trip_am_auto1t] + \"+\" +matrix_list[trip_am_auto2nth] + \"+\" +\\\n",
    "matrix_list[trip_am_auto2ntnh] + \"+\" +matrix_list[trip_am_auto2th] + \"+\" +matrix_list[trip_am_auto2tnh] + \"+\" +\\\n",
    "matrix_list[trip_am_auto3nth] + \"+\" +matrix_list[trip_am_auto3ntnh] + \"+\" +matrix_list[trip_am_auto3th] + \"+\" +\\\n",
    "matrix_list[trip_am_auto3tnh] +  \"+\" +\\\n",
    "matrix_list[trip_md_auto1nt] + \"+\" + matrix_list[trip_md_auto1t] + \"+\" +matrix_list[trip_md_auto2nth] + \"+\" +\\\n",
    "matrix_list[trip_md_auto2ntnh] + \"+\" +matrix_list[trip_md_auto2th] + \"+\" +matrix_list[trip_md_auto2tnh] + \"+\" +\\\n",
    "matrix_list[trip_md_auto3nth] + \"+\" +matrix_list[trip_md_auto3ntnh] + \"+\" +matrix_list[trip_md_auto3th] + \"+\" +\\\n",
    "matrix_list[trip_md_auto3tnh]\n",
    "\n",
    "spec = {\n",
    "    \"type\": \"MATRIX_CALCULATION\",\n",
    "    \"result\": dem_pk,\n",
    "    \"expression\": exp\n",
    "}\n",
    "matrix_calculator(spec)"
   ]
  },
  {
   "cell_type": "code",
   "execution_count": 7,
   "metadata": {
    "collapsed": false,
    "show_input": true
   },
   "outputs": [],
   "source": [
    "indices = eb.matrix(dem_pk).get_data(scen_bau).indices\n",
    "mat_np = eb.matrix(dem_pk).get_numpy_data(scen_bau)\n",
    "df_full = pd.DataFrame(mat_np,indices[0],indices[1]).stack().reset_index().rename(columns = {\"level_0\": \"O\",\n",
    "                                                                                           \"level_1\": \"D\",\n",
    "                                                                                          0: \"dem_pk\"})"
   ]
  },
  {
   "cell_type": "code",
   "execution_count": 8,
   "metadata": {
    "collapsed": false,
    "show_input": true
   },
   "outputs": [
    {
     "data": {
      "text/plain": [
       "Index([u'O', u'D', u'dem_pk'], dtype='object')"
      ]
     },
     "execution_count": 8,
     "metadata": {},
     "output_type": "execute_result"
    }
   ],
   "source": [
    "df_full.columns"
   ]
  },
  {
   "cell_type": "code",
   "execution_count": 9,
   "metadata": {
    "collapsed": false,
    "show_input": true
   },
   "outputs": [],
   "source": [
    "pth = r\"C:\\Users\\PECHEN\\Documents\\Sketch Modelling\"\n",
    "megazones_df = pd.read_csv(os.path.join(pth,\"TAZ_SketchModelZones_20201110.csv\"))\n",
    "df_int_ext = df_full[((df_full.O <= 9504) & (df_full.D <= 9504))]\n",
    "df_int_ext = df_int_ext.merge(megazones_df, left_on = \"O\", right_on = \"TAZ\").drop(labels = \"TAZ\",axis = 1).rename(columns = {\"Megazone\": \"Megazone_O\"})\n",
    "df_int_ext = df_int_ext.merge(megazones_df, left_on = \"D\", right_on = \"TAZ\").drop(labels = \"TAZ\",axis = 1).rename(columns = {\"Megazone\": \"Megazone_D\"})"
   ]
  },
  {
   "cell_type": "code",
   "execution_count": 10,
   "metadata": {
    "collapsed": false,
    "show_input": true
   },
   "outputs": [
    {
     "data": {
      "text/plain": [
       "Index([u'O', u'D', u'dem_pk', u'Megazone_O', u'Megazone_D'], dtype='object')"
      ]
     },
     "execution_count": 10,
     "metadata": {},
     "output_type": "execute_result"
    }
   ],
   "source": [
    "df_int_ext.columns"
   ]
  },
  {
   "cell_type": "code",
   "execution_count": 11,
   "metadata": {
    "collapsed": false,
    "show_input": true
   },
   "outputs": [],
   "source": [
    "megazone_df = pd.pivot_table(df_int_ext,values = \"dem_pk\", index = [\"Megazone_O\",\"Megazone_D\"],aggfunc = sum).reset_index()"
   ]
  },
  {
   "cell_type": "code",
   "execution_count": 12,
   "metadata": {
    "collapsed": false,
    "show_input": true
   },
   "outputs": [
    {
     "data": {
      "text/plain": [
       "56739.617505215108"
      ]
     },
     "execution_count": 12,
     "metadata": {},
     "output_type": "execute_result"
    }
   ],
   "source": [
    "megazone_df[(megazone_df.Megazone_O == \"Extl West\") | (megazone_df.Megazone_O == \"Extl North\") | (megazone_df.Megazone_O == \"Extl South\")| (megazone_df.Megazone_O == \"Extl East\")|(megazone_df.Megazone_D == \"Extl West\") | (megazone_df.Megazone_D == \"Extl North\") | (megazone_df.Megazone_D == \"Extl South\")| (megazone_df.Megazone_D == \"Extl East\")][\"dem_pk\"].sum()"
   ]
  },
  {
   "cell_type": "code",
   "execution_count": 13,
   "metadata": {
    "collapsed": true,
    "show_input": true
   },
   "outputs": [],
   "source": [
    "megazone_df.to_csv(os.path.join(pth,\"Megazone_External_OD_2051SLN1_20210205.csv\"))"
   ]
  }
 ],
 "metadata": {
  "kernelspec": {
   "display_name": "Python 2",
   "language": "python",
   "name": "python2"
  },
  "language_info": {
   "codemirror_mode": {
    "name": "ipython",
    "version": 2
   },
   "file_extension": ".py",
   "mimetype": "text/x-python",
   "name": "python",
   "nbconvert_exporter": "python",
   "pygments_lexer": "ipython2",
   "version": "2.7.14"
  }
 },
 "nbformat": 4,
 "nbformat_minor": 0
}
