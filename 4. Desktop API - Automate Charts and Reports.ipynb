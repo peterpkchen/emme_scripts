{
    "cells": [
        {
            "cell_type": "markdown", 
            "metadata": {}, 
            "source": [
                "<div>\n", 
                "  <div>\n", 
                "    Emme Notebook and Scripting Course, August 2019 <br>\n", 
                "  </div>\n", 
                "  <div>\n", 
                "    <img style=\"align: left; margin: 15px 15px 15px 0px;\" src=\"./INRO Logo.png\" width=\"120\" />\n", 
                "  </div>\n", 
                "  <div>\n", 
                "    \u00a9 Copyright 2019 INRO\n", 
                "  </div>\n", 
                "</div>"
            ]
        }, 
        {
            "cell_type": "markdown", 
            "metadata": {
                "show_input": true
            }, 
            "source": [
                "# 4 Desktop API - Automate Charts and Reports\n", 
                "\n", 
                "This lesson shows how the Desktop API can be used to automate Emme Desktop, including:\n", 
                "- Opening, creating and customizing maps, charts and tables\n", 
                "- Exporting images and files \n", 
                "- Changing the view \n", 
                "- Changing the current Database and Scenarios \n", 
                "To learn further, refer to the Desktop API Guide and Emme API Reference. \n", 
                "\n", 
                "__Suggested duration :__ 2 hours"
            ]
        }, 
        {
            "cell_type": "markdown", 
            "metadata": {}, 
            "source": [
                "## 4.1 Contents\n", 
                "\n", 
                "<a href=\"#4.1-Contents\">4.1 Contents</a>\n", 
                "\n", 
                "<a href=\"#4.2-Example-1---Export-images-for-turning-movement-results-for-all-intersection-and-all-scenarios\">4.2 Example 1 - Export images for turning movement results for all intersection and all scenarios</a>\n", 
                "\n", 
                "- <a href=\"#4.2.1-Accessing-an-existing-worksheet-item\">4.2.1 Accessing an existing worksheet item</a>\n", 
                "- <a href=\"#4.2.2-Opening-a-worksheet\">4.2.2 Opening a worksheet</a>\n", 
                "- <a href=\"#4.2.3-Modifying-an-existing-worksheet\">4.2.3 Modifying an existing worksheet</a>\n", 
                "- <a href=\"#4.2.4-Setting-the-view\">4.2.4-Setting the view</a>\n", 
                "- <a href=\"#4.2.5-Exporting-a-worksheet-as-image\">4.2.5 Exporting a worksheet as image</a>\n", 
                "- <a href=\"#4.2.6-Accessing-scenarios\">4.2.6 Accessing scenarios</a>\n", 
                "- <a href=\"#4.2.7-Iterating-through-intersections\">4.2.7 Iterating through intersections</a>\n", 
                "- <a href=\"#4.2.8-PRACTICE:-Desktop-API\">4.2.8 PRACTICE: Desktop API</a>\n", 
                "- <a href=\"#4.2.9-Additional-Example---Extract-as-image-the-worksheet-for-each-scenario-and-each-intersection\">4.2.9 Additional example - Extract as image the worksheet for each scenario and each intersection</a>\n", 
                "\n", 
                "<a href=\"#4.3-Example-2---Extracting-transit-volumes-for-each-transit-line-in-each-scenario\">4.3 Example 2 - Extracting transit volumes for each transit line in each scenario</a>\n", 
                "- <a href=\"#4.3.1-Modify-Network-Table-Parameters\">4.3.1 Modify Network Table Parameters</a>\n", 
                "- <a href=\"#4.3.2-Export-a-network-table-as-CSV\">4.3.2 Export a network table as CSV</a>\n", 
                "- <a href=\"#4.3.3-Additional-Example---Export-the-Network-Table-for-each-transit-line-and-each-scenario-to-CSV-file\">4.3.3 Additional Example - Export the Network Table for each transit line and each scenario to CSV file</a>"
            ]
        }, 
        {
            "cell_type": "markdown", 
            "metadata": {
                "show_input": true
            }, 
            "source": [
                "## 4.2 Example 1 - Export worksheet for turning movement results for all intersections and all scenarios\n", 
                "In this example we will load the worksheet _Volumes (at intersections)_ and iterate through scenario 1000, 2000 and 3000 and. For each scenario we will export the worksheet as image for each intersection. We will learn the following skills:\n", 
                "\n", 
                "- access and open a worksheet\n", 
                "- modify a worksheet\n", 
                "- export a worksheet as image\n", 
                "- iterate through the scenarios\n", 
                "- access the scenario and iterate through its nodes\n", 
                "\n"
            ]
        }, 
        {
            "cell_type": "markdown", 
            "metadata": {}, 
            "source": [
                "The entry point for the Desktop API is the <code><b>inro.emme.desktop.app.App</b></code> object, which represents an application of the Emme Desktop.\n", 
                "\n", 
                "When scripting outside of the Emme Notebook, there are two ways to create an <code>App</code> object: by connecting to an already running application of the Emme desktop software or by starting a new instance of Emme and then connecting to it.\n", 
                "\n", 
                "In an Emme Notebook, the connection is done automatically. Let's create our <code>App</code> object."
            ]
        }, 
        {
            "cell_type": "code", 
            "execution_count": null, 
            "metadata": {
                "show_input": true
            }, 
            "outputs": [], 
            "source": [
                "desktop = inro.modeller.Modeller().desktop"
            ]
        }, 
        {
            "cell_type": "markdown", 
            "metadata": {}, 
            "source": [
                "From this object, we can now access the project properties, the Explorer pane, the worksheets and tables, etc.\n", 
                "\n", 
                "Many common uses of the Desktop API involve customizing and/or printing worksheets. The relevant classes are those available in the <code><b>worksheet</b></code> module, such as: <code><b>WorksheetFolder</b></code>, <code><b>WorksheetItem</b></code> and <code><b>Worksheet</b></code>."
            ]
        }, 
        {
            "cell_type": "markdown", 
            "metadata": {}, 
            "source": [
                "### 4.2.1 Accessing an existing worksheet item\n", 
                "\n", 
                "In order to open a specific worksheet, we need to find it in its hierarchy of folders. The easiest way to do this is to use the `ExplorerFolder.find_item()` method, or the `ExplorerFolder.find_items()` method (to return multiple worksheets in the same path). First, let's get the root_worksheet_folder."
            ]
        }, 
        {
            "cell_type": "code", 
            "execution_count": null, 
            "metadata": {
                "show_input": true
            }, 
            "outputs": [], 
            "source": [
                "root_worksheet_folder = desktop.root_worksheet_folder()"
            ]
        }, 
        {
            "cell_type": "markdown", 
            "metadata": {}, 
            "source": [
                "To access a specific worksheet which path is known, the `find_item()` method lets you access it directly."
            ]
        }, 
        {
            "cell_type": "code", 
            "execution_count": null, 
            "metadata": {
                "show_input": true
            }, 
            "outputs": [], 
            "source": [
                "worksheet_path = [\"General\", \"Results Analysis\", \"Traffic\", \"Volumes (at intersections)\"]\n", 
                "intersection_worksheet_item = root_worksheet_folder.find_item(worksheet_path)\n", 
                "intersection_worksheet_item.name()"
            ]
        }, 
        {
            "cell_type": "markdown", 
            "metadata": {}, 
            "source": [
                "__Tip__ If the path is not known, it is also possible to parse through all folders and look for the worksheet using the method `all_subfolders()` and looking through all its children."
            ]
        }, 
        {
            "cell_type": "code", 
            "execution_count": null, 
            "metadata": {
                "show_input": true
            }, 
            "outputs": [], 
            "source": [
                "worksheet_name = \"Volumes (at intersections)\"\n", 
                "found = False\n", 
                "for folder in root_worksheet_folder.all_subfolders():\n", 
                "    print \"... searching in folder\", folder.name()\n", 
                "    for item in folder.child_items():\n", 
                "        if item.name() == worksheet_name:\n", 
                "            print \"    Worksheet found!\", item.name()\n", 
                "            intersection_worksheet_item = item\n", 
                "            found = True\n", 
                "    if found:\n", 
                "        break"
            ]
        }, 
        {
            "cell_type": "markdown", 
            "metadata": {}, 
            "source": [
                "### 4.2.2 Opening a worksheet\n", 
                "A worksheet can be opened from a worksheet item by using `worksheet.open()` method."
            ]
        }, 
        {
            "cell_type": "code", 
            "execution_count": null, 
            "metadata": {
                "show_input": true
            }, 
            "outputs": [], 
            "source": [
                "intersection_worksheet = intersection_worksheet_item.open()"
            ]
        }, 
        {
            "cell_type": "markdown", 
            "metadata": {}, 
            "source": [
                "### 4.2.3 Modifying an existing worksheet\n", 
                "Let's display the legend. The legend layer can be accessed using the `worksheet.layer(layer_type, layer_name)` method. The layer name of our legend is _Legend_."
            ]
        }, 
        {
            "cell_type": "code", 
            "execution_count": null, 
            "metadata": {
                "show_input": true
            }, 
            "outputs": [], 
            "source": [
                "legend_layer = intersection_worksheet.layer(\n", 
                "    layer_type='Legend',\n", 
                "    layer_name='Legend'\n", 
                ")"
            ]
        }, 
        {
            "cell_type": "markdown", 
            "metadata": {}, 
            "source": [
                "Layer parameters can be accessed using the `layer.par(name)` method. All available parameters are documented in the Emme Help under _Emme Desktop Manual -> Parameters -> Layer Parameters_. You can also right-click on any parameter in the worksheet layer control panel in Emme Desktop to see its name.\n", 
                "\n", 
                "Let's make the layer visible by setting its show flag _SFlag_ to `True`."
            ]
        }, 
        {
            "cell_type": "code", 
            "execution_count": null, 
            "metadata": {
                "show_input": true
            }, 
            "outputs": [], 
            "source": [
                "legend_layer.par('SFlag').set(True)"
            ]
        }, 
        {
            "cell_type": "markdown", 
            "metadata": {}, 
            "source": [
                "The displayed intersection can be modified using the intersection filter parameter _Filter0_ in the _Intersection_ layer. Let's get the intersection layer and change it's filter to node 204."
            ]
        }, 
        {
            "cell_type": "code", 
            "execution_count": null, 
            "metadata": {
                "show_input": true
            }, 
            "outputs": [], 
            "source": [
                "intersection_layer = intersection_worksheet.layer(\n", 
                "    layer_type='Configurable control',\n", 
                "    layer_name='Intersection'\n", 
                ")\n", 
                "intersection_layer.par('Filter0').set('i==204')"
            ]
        }, 
        {
            "cell_type": "markdown", 
            "metadata": {}, 
            "source": [
                "### 4.2.4 Setting the view\n", 
                "Views are accessed in a similar manner as accessing a worksheet. We first access the view folder from the `desktop` object, and then use the `ExplorerFolder.find_item()` method to access the view. Let's fetch the _Downtown_ view."
            ]
        }, 
        {
            "cell_type": "code", 
            "execution_count": null, 
            "metadata": {
                "show_input": true
            }, 
            "outputs": [], 
            "source": [
                "root_view_folder = desktop.root_view_folder()\n", 
                "view_path = ['Districts', 'Downtown']\n", 
                "downtown_view = root_view_folder.find_item(view_path)"
            ]
        }, 
        {
            "cell_type": "markdown", 
            "metadata": {}, 
            "source": [
                "Note that views can be returned as a `Box` object. The `Box` object is a bounding box containing starting (`x1`,`y1`) and ending (`x2`,`y2`) coordinates to define the rectangle corresponding to this view."
            ]
        }, 
        {
            "cell_type": "code", 
            "execution_count": null, 
            "metadata": {
                "show_input": true
            }, 
            "outputs": [], 
            "source": [
                "downtown_box = downtown_view.get_box()\n", 
                "print \"Box start coordinates:\", downtown_box.x1, downtown_box.y1\n", 
                "print \"Box end coordinates:\", downtown_box.x2, downtown_box.y2"
            ]
        }, 
        {
            "cell_type": "markdown", 
            "metadata": {}, 
            "source": [
                "The next step is to set the view for our worksheet. Let's open the General Worksheet and set the view of the worksheet to _Downtown_. We will use the `worksheet.set_view` method, which accepts an argument containing the `Box` of the _Downtown_ view."
            ]
        }, 
        {
            "cell_type": "code", 
            "execution_count": null, 
            "metadata": {
                "show_input": true
            }, 
            "outputs": [], 
            "source": [
                "general_worksheet_path = [\"General\", \"General worksheet\"]\n", 
                "general_worksheet_item = root_worksheet_folder.find_item(general_worksheet_path)\n", 
                "general_worksheet = general_worksheet_item.open()\n", 
                "\n", 
                "general_worksheet.set_view(downtown_box)"
            ]
        }, 
        {
            "cell_type": "markdown", 
            "metadata": {}, 
            "source": [
                "### 4.2.5 Exporting a worksheet as image\n", 
                "The Desktop API lets you export worksheets as an image, SVG or PDF using one of the following methods:\n", 
                "\n", 
                "- `worksheet.save_as_image()`\n", 
                "- `worksheet.save_as_svg()`\n", 
                "- `worksheet.save_as_pdf()`\n", 
                "\n", 
                "Extensive information for each of these method can be found in the documentation. Note that these methods only accept absolute paths. The code below saves our previously opened intersection worksheet as an image (PNG file) using the default settings:"
            ]
        }, 
        {
            "cell_type": "code", 
            "execution_count": null, 
            "metadata": {
                "show_input": true
            }, 
            "outputs": [], 
            "source": [
                "import os\n", 
                "project_directory = os.path.dirname(desktop.project.path)\n", 
                "image_filepath = os.path.join(project_directory, 'Logbook', 'intersection_204.png')\n", 
                "intersection_worksheet.save_as_image(image_filepath, size=(800, 600))"
            ]
        }, 
        {
            "cell_type": "markdown", 
            "metadata": {}, 
            "source": [
                "The other parameters are optional. They can be used to specify:\n", 
                "- a quality factor, in percent, which represents compression (100% is highest quality);\n", 
                "- a detail factor which will increase the amount of detail shown up to a maximum factor of 8 (useful for printing plots larger than the screen view); \n", 
                "- margins; margins are set on a <code>Margins</code> object from the types module, which is passed to the <code><b>save_as_image()</b></code> (or <code><b>save_as_svg()</b></code> method, more below). Note that margins are expressed as a percentage for <code><b>save_as_image()</b></code>;\n", 
                "- a view box, as an instance of <code>Box</code>, which defines a specific view instead of the default current view."
            ]
        }, 
        {
            "cell_type": "markdown", 
            "metadata": {}, 
            "source": [
                "Note that higher size, detail and quality factors will result in larger file sizes. Also, be careful increasing the Detail when using a Web basemap layer, as this can cause extremely big tile downloads especially on higher-resolution monitors.\n", 
                "\n", 
                "Let's try a modified version of the previous example to see the difference."
            ]
        }, 
        {
            "cell_type": "code", 
            "execution_count": null, 
            "metadata": {
                "show_input": true
            }, 
            "outputs": [], 
            "source": [
                "import inro.emme.desktop.types as _types\n", 
                "\n", 
                "my_margins = _types.Margins()\n", 
                "my_margins.left = 5.0\n", 
                "my_margins.top = 5.0\n", 
                "my_margins.right = 5.0\n", 
                "my_margins.bottom = 5.0\n", 
                "\n", 
                "image_filepath = os.path.join(project_directory, 'Logbook', 'intersection_204(2).png')\n", 
                "\n", 
                "intersection_worksheet.save_as_image(\n", 
                "    image_filepath,\n", 
                "    size=(800, 600),\n", 
                "    quality=81,\n", 
                "    detail=1,\n", 
                "    margins=my_margins\n", 
                ")"
            ]
        }, 
        {
            "cell_type": "markdown", 
            "metadata": {}, 
            "source": [
                "### 4.2.6 Accessing scenarios\n", 
                "The main entry point to manipulate scenarios in the Desktop API is an object of class <code><b>DataExplorer</b></code>. This object is available directly from the Desktop <code>App</code> object using <code><b>data_explorer()</b></code>:"
            ]
        }, 
        {
            "cell_type": "code", 
            "execution_count": null, 
            "metadata": {
                "show_input": true
            }, 
            "outputs": [], 
            "source": [
                "data_explorer = desktop.data_explorer()"
            ]
        }, 
        {
            "cell_type": "markdown", 
            "metadata": {}, 
            "source": [
                "The <i>data_explorer</i> represents the available data in the Explorer window - the collection of databases and scenarios in the project, as well as the Configurable Attributes. We can use it to access the <code>Database</code> object(s), which we can in turn use to access the <code>Scenario</code> objects contained in the database.\n", 
                "\n", 
                "The <code>DataExplorer</code> also allows us to directly access some key status information, such as the list of the current <i>Active Scenarios</i>. Here, we start by printing the list of active scenarios using the <code>DataExplorer<b>.active_scenarios()</b></code> method."
            ]
        }, 
        {
            "cell_type": "code", 
            "execution_count": null, 
            "metadata": {
                "show_input": true
            }, 
            "outputs": [], 
            "source": [
                "for scenario in data_explorer.active_scenarios():\n", 
                "    print \"Active scenario: \", scenario.number(), scenario.title()"
            ]
        }, 
        {
            "cell_type": "markdown", 
            "metadata": {}, 
            "source": [
                "The <code><b>active_scenarios()</b></code> method returns a list of <code>Scenario</code> objects, and we can call methods on this objects to obtain information about the scenario.\n", 
                "\n", 
                "It is also possible to display the title of the <i>Active Database</i> and to list all the scenarios in the database using the <code>DataExplorer<b>.active_database()</b></code> and <code>Database<b>.scenarios()</b></code> methods."
            ]
        }, 
        {
            "cell_type": "code", 
            "execution_count": null, 
            "metadata": {
                "show_input": true
            }, 
            "outputs": [], 
            "source": [
                "database = data_explorer.active_database()\n", 
                "print database.title()\n", 
                "\n", 
                "for scenario in database.scenarios():\n", 
                "    print scenario.title()"
            ]
        }, 
        {
            "cell_type": "markdown", 
            "metadata": {}, 
            "source": [
                "Use the method `database.scenario_by_number(scenario_id)` to access a specific scenario from the database. Then use `data_explorer.replace_primary_scenario(scenario)` to make the selected scenario the primary scenario."
            ]
        }, 
        {
            "cell_type": "code", 
            "execution_count": null, 
            "metadata": {
                "show_input": true
            }, 
            "outputs": [], 
            "source": [
                "scenario_1000 = database.scenario_by_number(1000)\n", 
                "data_explorer.replace_primary_scenario(scenario_1000)"
            ]
        }, 
        {
            "cell_type": "markdown", 
            "metadata": {}, 
            "source": [
                "### 4.2.7 Iterating through intersections\n", 
                "To be able to iterate through the intersections we can use the Network API to iterate through the nodes and check whether or not they are intersections. \n", 
                "\n", 
                "It is important to note the difference bewteen:\n", 
                "\n", 
                "- the Desktop API scenario - `class inro.emme.desktop.data.Scenario` \n", 
                "- the Network API scenario `class inro.emme.database.scenario.Scenario`. "
            ]
        }, 
        {
            "cell_type": "markdown", 
            "metadata": {}, 
            "source": [
                "To access the Network API scenario from a Scenario in Emme Desktop, use the `core_scenario` parameter. \n", 
                "\n", 
                "Ex: `database_scenario = desktop_scenario.core_scenario` \n", 
                "\n", 
                "\n", 
                "\n", 
                "\n", 
                "We will first retrieve the network, and then iterate through it to display the nodes which are intersections."
            ]
        }, 
        {
            "cell_type": "code", 
            "execution_count": null, 
            "metadata": {
                "show_input": true
            }, 
            "outputs": [], 
            "source": [
                "core_scenario = scenario_1000.core_scenario\n", 
                "network = core_scenario.get_network()\n", 
                "for node in network.nodes():\n", 
                "    if node.is_intersection:\n", 
                "        print node"
            ]
        }, 
        {
            "cell_type": "markdown", 
            "metadata": {}, 
            "source": [
                "### 4.2.8 <span style=\"color:red\">PRACTICE: Desktop API</span>\n", 
                "\n", 
                "Please refer to the _Emme Notebook and Scripting - Practices_ Notebook to complete this exercise. Note that the solutions to practices are found in the _Emme Notebook and Scripting - Solutions_ Notebook."
            ]
        }, 
        {
            "cell_type": "markdown", 
            "metadata": {}, 
            "source": [
                "### 4.2.9 Additional Example - Extract as image the worksheet for each scenario and each intersection\n", 
                "Let's put together what we learned above and save our intersection images iteratively. We can process each intersection using `for` loops, and save the images into a specific directory using a naming convention for each file. We will save the images in the _Logbook_ directory, under a sub-folder called 'intersection_volumes'. The naming convention will be as follows:\n", 
                "\n", 
                "'[NODE\\_ID]\\_[SCENARIO_ID]\\_intersection\\_volumes.png'"
            ]
        }, 
        {
            "cell_type": "code", 
            "execution_count": null, 
            "metadata": {
                "show_input": true
            }, 
            "outputs": [], 
            "source": [
                "project_directory = os.path.dirname(desktop.project.path)"
            ]
        }, 
        {
            "cell_type": "markdown", 
            "metadata": {}, 
            "source": [
                "The `os.mkdir(path)` function let's us create a directory as the `path` location."
            ]
        }, 
        {
            "cell_type": "code", 
            "execution_count": null, 
            "metadata": {
                "show_input": true
            }, 
            "outputs": [], 
            "source": [
                "output_directory = os.path.join(project_directory, 'Logbook', 'intersection_volumes')\n", 
                "os.mkdir(output_directory)"
            ]
        }, 
        {
            "cell_type": "code", 
            "execution_count": null, 
            "metadata": {
                "show_input": true
            }, 
            "outputs": [], 
            "source": [
                "# Access the worksheet folder\n", 
                "root_worksheet_folder = desktop.root_worksheet_folder()\n", 
                "\n", 
                "# Access the Volumes at intersections worksheet\n", 
                "worksheet_path = [\"General\", \"Results Analysis\", \"Traffic\", \"Volumes (at intersections)\"]\n", 
                "intersection_worksheet_item = root_worksheet_folder.find_item(worksheet_path)\n", 
                "intersection_worksheet = intersection_worksheet_item.open()\n", 
                "\n", 
                "# Show the legend and set the text size\n", 
                "legend_layer = intersection_worksheet.layer(\n", 
                "    layer_type='Legend',\n", 
                "    layer_name='Legend'\n", 
                ")\n", 
                "legend_layer.par('SFlag').set(True)\n", 
                "legend_layer.par('TextSize').set(20.)\n", 
                "\n", 
                "# Access the intersection layer and set the text size to 12\n", 
                "intersection_layer = intersection_worksheet.layer(\n", 
                "    layer_type='Configurable control',\n", 
                "    layer_name='Intersection'\n", 
                ")\n", 
                "intersection_layer.par('Float2').set(12.)\n", 
                "\n", 
                "\n", 
                "# Set up the margins for saving as image\n", 
                "my_margins = _types.Margins()\n", 
                "my_margins.left = 5.0\n", 
                "my_margins.top = 5.0\n", 
                "my_margins.right = 5.0\n", 
                "my_margins.bottom = 5.0\n", 
                "\n", 
                "# Iterate through the scenarios\n", 
                "for scenario_id in [1000, 2000, 3000]:\n", 
                "    # Make the current scenario the primary scenario\n", 
                "    scenario = database.scenario_by_number(scenario_id)\n", 
                "    data_explorer.replace_primary_scenario(scenario)\n", 
                "    \n", 
                "    # Access the network of the current scenario\n", 
                "    core_scenario = scenario.core_scenario\n", 
                "    network = core_scenario.get_network()\n", 
                "    \n", 
                "    # Iterate through the scenario's nodes\n", 
                "    for node in network.nodes():\n", 
                "        # If the node is an intersection, set the intersection layer filter and extract an image\n", 
                "        if node.is_intersection:\n", 
                "            # Change the layer's filter to display the intersection\n", 
                "            intersection_layer.par('Filter0').set('i==%i' % node.number)\n", 
                "            \n", 
                "            # save as image at the specified location\n", 
                "            image_filepath = os.path.join(\n", 
                "                output_directory, \n", 
                "                '%s_%s_intersection_volume.png' % (node.id, scenario.number())\n", 
                "            )\n", 
                "            \n", 
                "            intersection_worksheet.save_as_image(\n", 
                "                image_filepath,\n", 
                "                size=(1000, 1000),\n", 
                "                quality=100,\n", 
                "                detail=1,\n", 
                "                margins=my_margins\n", 
                "            )\n", 
                "            \n", 
                "# Close the worksheet\n", 
                "intersection_worksheet.close()         \n", 
                "    \n", 
                "    "
            ]
        }, 
        {
            "cell_type": "markdown", 
            "metadata": {}, 
            "source": [
                "## 4.3 Example 2 - Extracting transit volumes tables for each transit line in each scenario\n", 
                "\n", 
                "Now let's work with tables in a similar way. We will load the Network Table _Segment results/by line_ and iterate through scenarios 1000, 2000 and 3000 to extract the transit volume information for each transit line and save this data. We will learn the new following skills:\n", 
                "\n", 
                "- modify a network table\n", 
                "- export a network table as CSV\n", 
                "\n", 
                "We can use what we already know about looking up a worksheet item to find our table: "
            ]
        }, 
        {
            "cell_type": "code", 
            "execution_count": null, 
            "metadata": {
                "show_input": true
            }, 
            "outputs": [], 
            "source": [
                "desktop = inro.modeller.Modeller().desktop\n", 
                "root_worksheet_folder = desktop.root_worksheet_folder()\n", 
                "worksheet_path = [\"General\", \"Results Analysis\", \"Transit\", \"Segment results/by line\"]\n", 
                "segment_results_item = root_worksheet_folder.find_item(worksheet_path)\n", 
                "segment_results = segment_results_item.open()"
            ]
        }, 
        {
            "cell_type": "markdown", 
            "metadata": {}, 
            "source": [
                "### 4.3.1 Modify Network Table Parameters\n", 
                "As with <code>Worksheets</code> and <code>Layers</code>, we can use the <code><b>.par()</b></code> method to access and change <code>Table</code> <code><b>Parameters</b></code>. Let's change the filter parameter:"
            ]
        }, 
        {
            "cell_type": "code", 
            "execution_count": null, 
            "metadata": {
                "show_input": true
            }, 
            "outputs": [], 
            "source": [
                "segment_results.par('ByFilter').set('line==\"15ae\"')"
            ]
        }, 
        {
            "cell_type": "markdown", 
            "metadata": {}, 
            "source": [
                "### 4.3.2 Export a network table as CSV\n", 
                "Network tables can be printed using the <code>NetworkTable<b>.print_table()</b></code> method and exported to a text file using the <code>NetworkTable<b>.export()</b></code> method as shown below."
            ]
        }, 
        {
            "cell_type": "code", 
            "execution_count": null, 
            "metadata": {
                "show_input": true
            }, 
            "outputs": [], 
            "source": [
                "export_filepath = os.path.join(project_directory, 'Logbook', 'segment_results_15ae.txt')\n", 
                "segment_results.export(export_filepath)"
            ]
        }, 
        {
            "cell_type": "markdown", 
            "metadata": {}, 
            "source": [
                "We can optionnaly modify the column separator (which is a Network Table parameter) to use a comma. "
            ]
        }, 
        {
            "cell_type": "code", 
            "execution_count": null, 
            "metadata": {
                "show_input": true
            }, 
            "outputs": [], 
            "source": [
                "segment_results.par('ExportColumnSeparator').set(',')\n", 
                "export_filepath = os.path.join(project_directory, 'Logbook', 'segment_results_15ae.txt')\n", 
                "segment_results.export(export_filepath)"
            ]
        }, 
        {
            "cell_type": "markdown", 
            "metadata": {}, 
            "source": [
                "### 4.3.3 Additional Example - Export the Network Table for each transit line and each scenario to CSV file\n", 
                "\n", 
                "Use what we have already learned to save transit segment results by transit line and by scenario (1000, 2000, 3000)."
            ]
        }, 
        {
            "cell_type": "code", 
            "execution_count": null, 
            "metadata": {
                "show_input": true
            }, 
            "outputs": [], 
            "source": [
                "output_directory = os.path.join(project_directory, 'Logbook', 'transit_line_volumes')\n", 
                "os.mkdir(output_directory)"
            ]
        }, 
        {
            "cell_type": "code", 
            "execution_count": null, 
            "metadata": {
                "show_input": true
            }, 
            "outputs": [], 
            "source": [
                "# access the segment results table\n", 
                "desktop = inro.modeller.Modeller().desktop\n", 
                "root_worksheet_folder = desktop.root_worksheet_folder()\n", 
                "worksheet_path = [\"General\", \"Results Analysis\", \"Transit\", \"Segment results/by line\"]\n", 
                "segment_results_item = root_worksheet_folder.find_item(worksheet_path)\n", 
                "segment_results = segment_results_item.open()\n", 
                "\n", 
                "# set its column separator to comma\n", 
                "segment_results.par('ExportColumnSeparator').set(',')\n", 
                "\n", 
                "# Iterate through the scenarios\n", 
                "for scenario_id in [1000, 2000, 3000]:\n", 
                "    # Make the current scenario the primary scenario\n", 
                "    scenario = database.scenario_by_number(scenario_id)\n", 
                "    data_explorer.replace_primary_scenario(scenario)\n", 
                "    \n", 
                "    # Access the network of the current scenario\n", 
                "    core_scenario = scenario.core_scenario\n", 
                "    network = core_scenario.get_network()\n", 
                "    \n", 
                "    # Iterate throught the transit lines\n", 
                "    for transit_line in network.transit_lines():\n", 
                "        # Update the Network table filter\n", 
                "        segment_results.par('ByFilter').set('line==\"%s\"' % transit_line.id)\n", 
                "        \n", 
                "        # extract the network table\n", 
                "        table_filepath = os.path.join(\n", 
                "            output_directory,\n", 
                "            '%s_%s_segment_volumes.csv' % (core_scenario.id, transit_line.id)\n", 
                "        )\n", 
                "        \n", 
                "        segment_results.export(table_filepath)\n", 
                "        \n", 
                "segment_results.close()"
            ]
        }
    ], 
    "metadata": {
        "kernelspec": {
            "display_name": "Python 2", 
            "language": "python", 
            "name": "python2"
        }, 
        "language_info": {
            "codemirror_mode": {
                "name": "ipython", 
                "version": 2
            }, 
            "file_extension": ".py", 
            "mimetype": "text/x-python", 
            "name": "python", 
            "nbconvert_exporter": "python", 
            "pygments_lexer": "ipython2", 
            "version": "2.7.14"
        }, 
        "modeller": {
            "desktop_app_port": "4242"
        }
    }, 
    "nbformat": 4, 
    "nbformat_minor": 1
}