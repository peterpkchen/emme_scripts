{
 "cells": [
  {
   "cell_type": "code",
   "execution_count": 1,
   "metadata": {},
   "outputs": [],
   "source": [
    "import os\n",
    "import glob\n",
    "import pandas as pd\n",
    "import numpy as np\n",
    "from copy import deepcopy"
   ]
  },
  {
   "cell_type": "code",
   "execution_count": 14,
   "metadata": {},
   "outputs": [],
   "source": [
    "run_directory = r'M:\\gta Update\\Model Outputs\\2022 Pre-Valuation\\gta Base Run - 2016 DT rampPen2.3,2.6'\n",
    "run_folder = 'Microsim Results'\n",
    "run_path = os.path.join(run_directory,run_folder)\n",
    "zone_map = pd.read_csv(r'C:\\Users\\pechen\\OneDrive - HDR, Inc\\Documents - 407 Model Update\\407ModelUpdate_MiscFiles_BC\\407_ZoneMapping.csv', encoding='utf-8')"
   ]
  },
  {
   "attachments": {},
   "cell_type": "markdown",
   "metadata": {},
   "source": [
    "#### Warning Laggy - run once"
   ]
  },
  {
   "cell_type": "code",
   "execution_count": 3,
   "metadata": {},
   "outputs": [],
   "source": [
    "persons_df = pd.read_csv(os.path.join(run_path,\"persons.csv\"))\n",
    "trips_df = pd.read_csv(os.path.join(run_path,\"trips.csv\"))\n",
    "tripmode_df = pd.read_csv(os.path.join(run_path,\"trip_modes.csv\"))"
   ]
  },
  {
   "attachments": {},
   "cell_type": "markdown",
   "metadata": {},
   "source": [
    "#### Analysis"
   ]
  },
  {
   "cell_type": "code",
   "execution_count": 49,
   "metadata": {},
   "outputs": [],
   "source": [
    "trips_gta = trips_df[(trips_df.o_zone < 6000) & (trips_df.d_zone < 6000)]\n",
    "trips_gta = trips_gta.merge(persons_df,on=[\"household_id\",\"person_id\"])\n",
    "trips_gta = trips_gta[trips_gta.age >=11]\n",
    "trips_gta = tripmode_df.merge(trips_gta,how = \"right\", on = ['household_id', 'person_id', 'trip_id'])\n",
    "\n",
    "trips_gta[\"weight\"] = trips_gta[\"weight\"]/10\n",
    "trips_gta[\"weight_z\"] = trips_gta[\"weight\"]*trips_gta[\"weight_x\"]\n",
    "\n",
    "trips_gta = trips_gta.merge(zone_map,left_on = \"o_zone\", right_on =\"GTA06\").drop(columns = \"GTA06\").rename(columns = {\"region\":\"region_o\"})\n",
    "trips_gta = trips_gta.merge(zone_map,left_on = \"d_zone\", right_on =\"GTA06\").drop(columns = \"GTA06\").rename(columns = {\"region\":\"region_d\"})\n"
   ]
  },
  {
   "cell_type": "code",
   "execution_count": 90,
   "metadata": {},
   "outputs": [
    {
     "name": "stderr",
     "output_type": "stream",
     "text": [
      "C:\\Users\\pechen\\AppData\\Local\\Temp\\ipykernel_10592\\4083523077.py:2: FutureWarning: In a future version of pandas all arguments of DataFrame.drop except for the argument 'labels' will be keyword-only.\n",
      "  auto_trips = trips_gta[trips_gta['mode']=='Auto'].drop(trips_gta.columns.difference(save_col), 1)\n"
     ]
    }
   ],
   "source": [
    "save_col = ['mode', 'region_o', 'region_d', 'weight_z', 'o_depart']\n",
    "auto_trips = trips_gta[trips_gta['mode']=='Auto'].drop(trips_gta.columns.difference(save_col), 1)"
   ]
  },
  {
   "cell_type": "code",
   "execution_count": 91,
   "metadata": {},
   "outputs": [
    {
     "data": {
      "text/html": [
       "<div>\n",
       "<style scoped>\n",
       "    .dataframe tbody tr th:only-of-type {\n",
       "        vertical-align: middle;\n",
       "    }\n",
       "\n",
       "    .dataframe tbody tr th {\n",
       "        vertical-align: top;\n",
       "    }\n",
       "\n",
       "    .dataframe thead th {\n",
       "        text-align: right;\n",
       "    }\n",
       "</style>\n",
       "<table border=\"1\" class=\"dataframe\">\n",
       "  <thead>\n",
       "    <tr style=\"text-align: right;\">\n",
       "      <th></th>\n",
       "      <th>mode</th>\n",
       "      <th>o_depart</th>\n",
       "      <th>weight_z</th>\n",
       "      <th>region_o</th>\n",
       "      <th>region_d</th>\n",
       "    </tr>\n",
       "  </thead>\n",
       "  <tbody>\n",
       "    <tr>\n",
       "      <th>0</th>\n",
       "      <td>Auto</td>\n",
       "      <td>504.7562</td>\n",
       "      <td>1.0</td>\n",
       "      <td>1</td>\n",
       "      <td>1</td>\n",
       "    </tr>\n",
       "    <tr>\n",
       "      <th>11</th>\n",
       "      <td>Auto</td>\n",
       "      <td>660.0000</td>\n",
       "      <td>1.0</td>\n",
       "      <td>1</td>\n",
       "      <td>1</td>\n",
       "    </tr>\n",
       "    <tr>\n",
       "      <th>12</th>\n",
       "      <td>Auto</td>\n",
       "      <td>600.0000</td>\n",
       "      <td>1.0</td>\n",
       "      <td>1</td>\n",
       "      <td>1</td>\n",
       "    </tr>\n",
       "    <tr>\n",
       "      <th>13</th>\n",
       "      <td>Auto</td>\n",
       "      <td>705.0000</td>\n",
       "      <td>0.9</td>\n",
       "      <td>1</td>\n",
       "      <td>1</td>\n",
       "    </tr>\n",
       "    <tr>\n",
       "      <th>16</th>\n",
       "      <td>Auto</td>\n",
       "      <td>855.0000</td>\n",
       "      <td>0.8</td>\n",
       "      <td>1</td>\n",
       "      <td>1</td>\n",
       "    </tr>\n",
       "    <tr>\n",
       "      <th>...</th>\n",
       "      <td>...</td>\n",
       "      <td>...</td>\n",
       "      <td>...</td>\n",
       "      <td>...</td>\n",
       "      <td>...</td>\n",
       "    </tr>\n",
       "    <tr>\n",
       "      <th>22593829</th>\n",
       "      <td>Auto</td>\n",
       "      <td>365.2945</td>\n",
       "      <td>1.0</td>\n",
       "      <td>3</td>\n",
       "      <td>2</td>\n",
       "    </tr>\n",
       "    <tr>\n",
       "      <th>22593832</th>\n",
       "      <td>Auto</td>\n",
       "      <td>980.2874</td>\n",
       "      <td>1.0</td>\n",
       "      <td>3</td>\n",
       "      <td>2</td>\n",
       "    </tr>\n",
       "    <tr>\n",
       "      <th>22593833</th>\n",
       "      <td>Auto</td>\n",
       "      <td>725.1164</td>\n",
       "      <td>1.0</td>\n",
       "      <td>2</td>\n",
       "      <td>2</td>\n",
       "    </tr>\n",
       "    <tr>\n",
       "      <th>22593834</th>\n",
       "      <td>Auto</td>\n",
       "      <td>785.1164</td>\n",
       "      <td>1.0</td>\n",
       "      <td>2</td>\n",
       "      <td>2</td>\n",
       "    </tr>\n",
       "    <tr>\n",
       "      <th>22593835</th>\n",
       "      <td>Auto</td>\n",
       "      <td>1261.9790</td>\n",
       "      <td>1.0</td>\n",
       "      <td>2</td>\n",
       "      <td>2</td>\n",
       "    </tr>\n",
       "  </tbody>\n",
       "</table>\n",
       "<p>8948162 rows × 5 columns</p>\n",
       "</div>"
      ],
      "text/plain": [
       "          mode   o_depart  weight_z  region_o  region_d\n",
       "0         Auto   504.7562       1.0         1         1\n",
       "11        Auto   660.0000       1.0         1         1\n",
       "12        Auto   600.0000       1.0         1         1\n",
       "13        Auto   705.0000       0.9         1         1\n",
       "16        Auto   855.0000       0.8         1         1\n",
       "...        ...        ...       ...       ...       ...\n",
       "22593829  Auto   365.2945       1.0         3         2\n",
       "22593832  Auto   980.2874       1.0         3         2\n",
       "22593833  Auto   725.1164       1.0         2         2\n",
       "22593834  Auto   785.1164       1.0         2         2\n",
       "22593835  Auto  1261.9790       1.0         2         2\n",
       "\n",
       "[8948162 rows x 5 columns]"
      ]
     },
     "execution_count": 91,
     "metadata": {},
     "output_type": "execute_result"
    }
   ],
   "source": [
    "auto_trips"
   ]
  },
  {
   "cell_type": "code",
   "execution_count": 93,
   "metadata": {},
   "outputs": [
    {
     "name": "stderr",
     "output_type": "stream",
     "text": [
      "C:\\Users\\pechen\\AppData\\Local\\Temp\\ipykernel_10592\\950475046.py:2: UserWarning: Boolean Series key will be reindexed to match DataFrame index.\n",
      "  auto_trips[(trips_gta.o_depart >= 900) & (trips_gta.o_depart < 1140)],\n"
     ]
    }
   ],
   "source": [
    "auto_trip_summ_pm = pd.pivot_table(\n",
    "    auto_trips[(trips_gta.o_depart >= 900) & (trips_gta.o_depart < 1140)],\n",
    "    index = [\"region_o\",\"region_d\"],\n",
    "    columns = \"mode\", \n",
    "    values = \"weight_z\", \n",
    "    aggfunc = sum,\n",
    "    margins = True\n",
    ").drop(['All'], axis=1).drop(['All']).reset_index()"
   ]
  },
  {
   "cell_type": "code",
   "execution_count": 96,
   "metadata": {},
   "outputs": [
    {
     "name": "stderr",
     "output_type": "stream",
     "text": [
      "C:\\Users\\pechen\\AppData\\Local\\Temp\\ipykernel_10592\\2369628823.py:2: UserWarning: Boolean Series key will be reindexed to match DataFrame index.\n",
      "  auto_trips[(trips_gta.o_depart >= 1140) & (trips_gta.o_depart < 1440)],\n"
     ]
    }
   ],
   "source": [
    "auto_trip_summ_ev = pd.pivot_table(\n",
    "    auto_trips[(trips_gta.o_depart >= 1140) & (trips_gta.o_depart < 1440)],\n",
    "    index = [\"region_o\",\"region_d\"],\n",
    "    columns = \"mode\", \n",
    "    values = \"weight_z\", \n",
    "    aggfunc = sum,\n",
    "    margins = True\n",
    ").drop(['All'], axis=1).drop(['All']).reset_index()"
   ]
  },
  {
   "cell_type": "code",
   "execution_count": 97,
   "metadata": {},
   "outputs": [
    {
     "name": "stderr",
     "output_type": "stream",
     "text": [
      "c:\\Users\\pechen\\Anaconda3\\lib\\site-packages\\pandas\\core\\algorithms.py:798: FutureWarning: In a future version, the Index constructor will not infer numeric dtypes when passed object-dtype sequences (matching Series behavior)\n",
      "  uniques = Index(uniques)\n"
     ]
    }
   ],
   "source": [
    "newdf2= (auto_trip_summ_ev.pivot(index='region_o',columns='region_d', values='Auto'))"
   ]
  },
  {
   "cell_type": "code",
   "execution_count": 98,
   "metadata": {},
   "outputs": [
    {
     "data": {
      "text/html": [
       "<div>\n",
       "<style scoped>\n",
       "    .dataframe tbody tr th:only-of-type {\n",
       "        vertical-align: middle;\n",
       "    }\n",
       "\n",
       "    .dataframe tbody tr th {\n",
       "        vertical-align: top;\n",
       "    }\n",
       "\n",
       "    .dataframe thead th {\n",
       "        text-align: right;\n",
       "    }\n",
       "</style>\n",
       "<table border=\"1\" class=\"dataframe\">\n",
       "  <thead>\n",
       "    <tr style=\"text-align: right;\">\n",
       "      <th>region_d</th>\n",
       "      <th>1</th>\n",
       "      <th>2</th>\n",
       "      <th>3</th>\n",
       "      <th>4</th>\n",
       "      <th>5</th>\n",
       "      <th>6</th>\n",
       "    </tr>\n",
       "    <tr>\n",
       "      <th>region_o</th>\n",
       "      <th></th>\n",
       "      <th></th>\n",
       "      <th></th>\n",
       "      <th></th>\n",
       "      <th></th>\n",
       "      <th></th>\n",
       "    </tr>\n",
       "  </thead>\n",
       "  <tbody>\n",
       "    <tr>\n",
       "      <th>1</th>\n",
       "      <td>386514.0</td>\n",
       "      <td>25917.3</td>\n",
       "      <td>66869.7</td>\n",
       "      <td>44392.9</td>\n",
       "      <td>8941.3</td>\n",
       "      <td>1914.8</td>\n",
       "    </tr>\n",
       "    <tr>\n",
       "      <th>2</th>\n",
       "      <td>7290.2</td>\n",
       "      <td>105132.5</td>\n",
       "      <td>3784.0</td>\n",
       "      <td>221.5</td>\n",
       "      <td>48.3</td>\n",
       "      <td>3.0</td>\n",
       "    </tr>\n",
       "    <tr>\n",
       "      <th>3</th>\n",
       "      <td>39891.1</td>\n",
       "      <td>8716.8</td>\n",
       "      <td>154583.5</td>\n",
       "      <td>11239.3</td>\n",
       "      <td>841.1</td>\n",
       "      <td>192.6</td>\n",
       "    </tr>\n",
       "    <tr>\n",
       "      <th>4</th>\n",
       "      <td>26315.4</td>\n",
       "      <td>1137.6</td>\n",
       "      <td>9155.5</td>\n",
       "      <td>192604.9</td>\n",
       "      <td>24639.6</td>\n",
       "      <td>2634.9</td>\n",
       "    </tr>\n",
       "    <tr>\n",
       "      <th>5</th>\n",
       "      <td>2788.2</td>\n",
       "      <td>113.5</td>\n",
       "      <td>313.3</td>\n",
       "      <td>14644.2</td>\n",
       "      <td>97811.3</td>\n",
       "      <td>11951.3</td>\n",
       "    </tr>\n",
       "    <tr>\n",
       "      <th>6</th>\n",
       "      <td>430.1</td>\n",
       "      <td>30.7</td>\n",
       "      <td>84.5</td>\n",
       "      <td>1032.4</td>\n",
       "      <td>8340.3</td>\n",
       "      <td>98369.5</td>\n",
       "    </tr>\n",
       "  </tbody>\n",
       "</table>\n",
       "</div>"
      ],
      "text/plain": [
       "region_d         1         2         3         4        5        6\n",
       "region_o                                                          \n",
       "1         386514.0   25917.3   66869.7   44392.9   8941.3   1914.8\n",
       "2           7290.2  105132.5    3784.0     221.5     48.3      3.0\n",
       "3          39891.1    8716.8  154583.5   11239.3    841.1    192.6\n",
       "4          26315.4    1137.6    9155.5  192604.9  24639.6   2634.9\n",
       "5           2788.2     113.5     313.3   14644.2  97811.3  11951.3\n",
       "6            430.1      30.7      84.5    1032.4   8340.3  98369.5"
      ]
     },
     "execution_count": 98,
     "metadata": {},
     "output_type": "execute_result"
    }
   ],
   "source": [
    "newdf2"
   ]
  },
  {
   "cell_type": "code",
   "execution_count": 94,
   "metadata": {},
   "outputs": [
    {
     "name": "stderr",
     "output_type": "stream",
     "text": [
      "c:\\Users\\pechen\\Anaconda3\\lib\\site-packages\\pandas\\core\\algorithms.py:798: FutureWarning: In a future version, the Index constructor will not infer numeric dtypes when passed object-dtype sequences (matching Series behavior)\n",
      "  uniques = Index(uniques)\n"
     ]
    }
   ],
   "source": [
    "newdf= (auto_trip_summ_pm.pivot(index='region_o',columns='region_d', values='Auto'))"
   ]
  },
  {
   "cell_type": "code",
   "execution_count": 95,
   "metadata": {},
   "outputs": [
    {
     "data": {
      "text/html": [
       "<div>\n",
       "<style scoped>\n",
       "    .dataframe tbody tr th:only-of-type {\n",
       "        vertical-align: middle;\n",
       "    }\n",
       "\n",
       "    .dataframe tbody tr th {\n",
       "        vertical-align: top;\n",
       "    }\n",
       "\n",
       "    .dataframe thead th {\n",
       "        text-align: right;\n",
       "    }\n",
       "</style>\n",
       "<table border=\"1\" class=\"dataframe\">\n",
       "  <thead>\n",
       "    <tr style=\"text-align: right;\">\n",
       "      <th>region_d</th>\n",
       "      <th>1</th>\n",
       "      <th>2</th>\n",
       "      <th>3</th>\n",
       "      <th>4</th>\n",
       "      <th>5</th>\n",
       "      <th>6</th>\n",
       "    </tr>\n",
       "    <tr>\n",
       "      <th>region_o</th>\n",
       "      <th></th>\n",
       "      <th></th>\n",
       "      <th></th>\n",
       "      <th></th>\n",
       "      <th></th>\n",
       "      <th></th>\n",
       "    </tr>\n",
       "  </thead>\n",
       "  <tbody>\n",
       "    <tr>\n",
       "      <th>1</th>\n",
       "      <td>713449.5</td>\n",
       "      <td>41065.2</td>\n",
       "      <td>95764.6</td>\n",
       "      <td>55586.0</td>\n",
       "      <td>10872.6</td>\n",
       "      <td>3091.7</td>\n",
       "    </tr>\n",
       "    <tr>\n",
       "      <th>2</th>\n",
       "      <td>14239.6</td>\n",
       "      <td>194266.0</td>\n",
       "      <td>6668.7</td>\n",
       "      <td>446.6</td>\n",
       "      <td>127.0</td>\n",
       "      <td>29.7</td>\n",
       "    </tr>\n",
       "    <tr>\n",
       "      <th>3</th>\n",
       "      <td>91056.1</td>\n",
       "      <td>16404.2</td>\n",
       "      <td>302201.5</td>\n",
       "      <td>25513.6</td>\n",
       "      <td>2223.3</td>\n",
       "      <td>459.6</td>\n",
       "    </tr>\n",
       "    <tr>\n",
       "      <th>4</th>\n",
       "      <td>61808.2</td>\n",
       "      <td>2768.2</td>\n",
       "      <td>23958.6</td>\n",
       "      <td>387478.9</td>\n",
       "      <td>47903.0</td>\n",
       "      <td>5485.4</td>\n",
       "    </tr>\n",
       "    <tr>\n",
       "      <th>5</th>\n",
       "      <td>5896.5</td>\n",
       "      <td>296.3</td>\n",
       "      <td>946.6</td>\n",
       "      <td>31187.2</td>\n",
       "      <td>167659.3</td>\n",
       "      <td>27092.6</td>\n",
       "    </tr>\n",
       "    <tr>\n",
       "      <th>6</th>\n",
       "      <td>828.8</td>\n",
       "      <td>64.3</td>\n",
       "      <td>220.8</td>\n",
       "      <td>1621.4</td>\n",
       "      <td>15952.7</td>\n",
       "      <td>176467.4</td>\n",
       "    </tr>\n",
       "  </tbody>\n",
       "</table>\n",
       "</div>"
      ],
      "text/plain": [
       "region_d         1         2         3         4         5         6\n",
       "region_o                                                            \n",
       "1         713449.5   41065.2   95764.6   55586.0   10872.6    3091.7\n",
       "2          14239.6  194266.0    6668.7     446.6     127.0      29.7\n",
       "3          91056.1   16404.2  302201.5   25513.6    2223.3     459.6\n",
       "4          61808.2    2768.2   23958.6  387478.9   47903.0    5485.4\n",
       "5           5896.5     296.3     946.6   31187.2  167659.3   27092.6\n",
       "6            828.8      64.3     220.8    1621.4   15952.7  176467.4"
      ]
     },
     "execution_count": 95,
     "metadata": {},
     "output_type": "execute_result"
    }
   ],
   "source": [
    "newdf"
   ]
  },
  {
   "cell_type": "code",
   "execution_count": null,
   "metadata": {},
   "outputs": [],
   "source": []
  }
 ],
 "metadata": {
  "kernelspec": {
   "display_name": "base",
   "language": "python",
   "name": "python3"
  },
  "language_info": {
   "codemirror_mode": {
    "name": "ipython",
    "version": 3
   },
   "file_extension": ".py",
   "mimetype": "text/x-python",
   "name": "python",
   "nbconvert_exporter": "python",
   "pygments_lexer": "ipython3",
   "version": "3.9.13"
  },
  "orig_nbformat": 4,
  "vscode": {
   "interpreter": {
    "hash": "2821fd8ac360e56d292a0a45de8e3f73525e9c94d5d778738ededf6165b37854"
   }
  }
 },
 "nbformat": 4,
 "nbformat_minor": 2
}
