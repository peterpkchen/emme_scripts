{
 "cells": [
  {
   "cell_type": "code",
   "execution_count": 58,
   "metadata": {},
   "outputs": [],
   "source": [
    "import os\n",
    "import pandas as pd\n",
    "\n",
    "loc = r\"C:\\Users\\pechen\\Desktop\\Mask_making\"\n",
    "\n",
    "def mat_to_pddf(id, scen):\n",
    "    mat = eb.matrix(id).get_data(scen)\n",
    "    zones_tupl = mat.indices\n",
    "    indices = pd.Index(zones_tupl[0])\n",
    "    indices.name = 'p'\n",
    "    cols = pd.Index(zones_tupl[1])\n",
    "    cols.name = 'q'\n",
    "    matrix = mat.to_numpy()\n",
    "    return pd.DataFrame(matrix, index=indices, columns=cols)"
   ]
  },
  {
   "cell_type": "code",
   "execution_count": null,
   "metadata": {},
   "outputs": [],
   "source": [
    "for root, dirs, files in os.walk(loc):\n",
    "    for matrix_file in files:\n",
    "        if matrix_file.endswith(\".mtx\"):\n",
    "            matrix_number = eb.available_matrix_identifier('FULL')\n",
    "            import_mat(4, matrix_number[2:] ,os.path.join(root, matrix_file),mm.scenario, matrix_file[:-4] )\n",
    "            change_mat(matrix = matrix_number,\n",
    "                    matrix_name = matrix_file,\n",
    "                  matrix_description = matrix_file)\n",
    "            print \"Imported matrix: \" + matrix_file + \" to: \" + matrix_number\n",
    "        sel_dem = mat_to_pddf(matrix_number, 11)\n",
    "        # Mask\n",
    "        sel_dem[sel_dem > 1] = 1\n",
    "        sel_dem[sel_dem < 1] = 0        # Export\n",
    "        sel_dem.to_csv(os.path.join(path, loc))      \n",
    "print \"potato_tomato_asparagus\""
   ]
  }
 ],
 "metadata": {
  "kernelspec": {
   "display_name": "Python 3",
   "language": "python",
   "name": "python3"
  },
  "language_info": {
   "codemirror_mode": {
    "name": "ipython",
    "version": 3
   },
   "file_extension": ".py",
   "mimetype": "text/x-python",
   "name": "python",
   "nbconvert_exporter": "python",
   "pygments_lexer": "ipython3",
   "version": "3.6.10"
  }
 },
 "nbformat": 4,
 "nbformat_minor": 4
}
