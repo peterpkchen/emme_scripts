{
 "cells": [
  {
   "cell_type": "markdown",
   "metadata": {},
   "source": [
    "# User must run cell below"
   ]
  },
  {
   "cell_type": "code",
   "execution_count": 2,
   "metadata": {
    "show_input": true
   },
   "outputs": [],
   "source": [
    "import inro.modeller as m\n",
    "import os\n",
    "import glob\n",
    "mm = m.Modeller()\n",
    "eb = mm.emmebank\n",
    "import inro.emme.matrix as _matrix\n",
    "import pandas as pd\n",
    "import numpy as np\n",
    "from copy import deepcopy\n",
    "\n",
    "matrix_calculator = m.Modeller().tool(\"inro.emme.matrix_calculation.matrix_calculator\")\n",
    "create_matrix =  m.Modeller().tool(\"inro.emme.data.matrix.create_matrix\")\n",
    "change_matrix = m.Modeller().tool(\"inro.emme.data.matrix.change_matrix_properties\") \n",
    "import_matrices = mm.tool(\"tmg.input_output.import_binary_matrix\")  \n",
    "matrix_transaction = mm.tool('inro.emme.data.matrix.matrix_transaction')\n",
    "create_extra = m.Modeller().tool(\"inro.emme.data.extra_attribute.create_extra_attribute\")\n",
    "network_calc= m.Modeller().tool(\"inro.emme.network_calculation.network_calculator\")\n",
    "export_matrices = mm.tool(\"tmg.input_output.export_binary_matrix\")  \n",
    "\n",
    "\n",
    "def import_matrices_from_directory(matrix_folder, matrix_list, extension, scenario):\n",
    "    #imports all matrices in directory and subfolders of the specified extension type\n",
    "    #matrix_list should be in the format:\n",
    "    #   {file_name1: matrix_num1, file_name2: matrix_num2, ...}\n",
    "    import os\n",
    "\n",
    "    for root, dirs, files in os.walk(matrix_folder):\n",
    "        for matrix_file in files:\n",
    "            if matrix_file.endswith(extension):\n",
    "                name = os.path.splitext(matrix_file)[0]\n",
    "                if name in matrix_list:\n",
    "                    matrix_number = int(matrix_list[name][2:])\n",
    "                    import_matrices(4, matrix_number ,os.path.join(root, matrix_file),scenario, name.replace(\"skim.\",\"\").replace(\"transit.\",\"\").replace(\"peak\",\"pk\").replace(\" \",\"_\") )\n",
    "                    print \"Imported matrix \" + matrix_list[name]\n",
    "                    change_matrix(matrix = matrix_list[name],\n",
    "                        matrix_name = name.replace(\"skim.\",\"\").replace(\"transit.\",\"\").replace(\"peak\",\"pk\").replace(\" \",\"_\")[:40],\n",
    "                        matrix_description = name)\n",
    "    \n",
    "    #check\n",
    "    for name in matrix_list:\n",
    "        if eb.matrix(matrix_list[name]): \n",
    "            n_matrix = eb.matrix(matrix_list[name]).get_numpy_data(scenario)\n",
    "            if n_matrix.sum() == 0 :\n",
    "                print \"Matrix %s was not imported, or contains no values!\" % name\n",
    "        else:\n",
    "            print \"Matrix %s was not imported!\" % name\n",
    "    print \"Finished Importing Matrices\""
   ]
  },
  {
   "cell_type": "markdown",
   "metadata": {},
   "source": [
    "# User Input"
   ]
  },
  {
   "cell_type": "code",
   "execution_count": 7,
   "metadata": {
    "show_input": true
   },
   "outputs": [],
   "source": [
    "# pth = r\"C:\\Users\\BCrane\\Documents\\407_Update_EMME\\V4Input\\BaseYearMatrix\\2019\\AutoDemand\"\n",
    "pth = r\"C:\\Users\\BCrane\\Documents\\407_Update_EMME\\V4Input\\BaseYearMatrix\\2019\\TransitDemand\"\n",
    "# pth = r\"C:\\Users\\BCrane\\Documents\\407_Update_EMME\\V4Input_2011\\Demand_Adjustment\" #Folder with matrices you want to disaggregate\n",
    "\n",
    "\n",
    "# matrix_list =[\"MDAuto\",\"PMAuto\",\"EVAuto\",\"AMAuto\",\n",
    "#              \"LightTruckAM-NoGormley\",\"MediumTruckAM-NoGormley\",\"HeavyTruckAM-NoGormley\",\n",
    "#              \"LightTruckMD-NoGormley\",\"MediumTruckMD-NoGormley\",\"HeavyTruckMD-NoGormley\",\n",
    "#              \"LightTruckPM-NoGormley\",\"MediumTruckPM-NoGormley\",\"HeavyTruckPM-NoGormley\",\n",
    "#              \"LightTruckEV-NoGormley\",\"MediumTruckEV-NoGormley\",\"HeavyTruckEV-NoGormley\"] #Names of matrix files you want to disaggregate\n",
    "# matrix_list = [\"AMTransit\",\"MDTransit\",\"EVTransit\",\"PMTransit\"]\n",
    "matrix_list = [\"am_phf\",\"pm_phf\"]\n",
    "# matrix_list = [\"am_da_factors\",\"pm_da_factors\"]\n",
    "\n",
    "output_pth = r\"C:\\Users\\BCrane\\Documents\\407_Update_EMME\\V4Input\\BaseYearMatrix\\2019\\TransitDemand\" # Output folder to save matrices, if you pick same folder old files will be overwritten\n",
    "\n",
    "sc_or = 62 #Scenario with old zone system\n",
    "sc_new = 1 #Scenario with new zone system\n",
    "mat_id = \"mf50\" #Dummy matrix to import demand (must exist)"
   ]
  },
  {
   "cell_type": "markdown",
   "metadata": {},
   "source": [
    "# Cell below reindexes"
   ]
  },
  {
   "cell_type": "code",
   "execution_count": 8,
   "metadata": {
    "show_input": true
   },
   "outputs": [],
   "source": [
    "for name in matrix_list:\n",
    "    import_matrices(4,int(mat_id[-2:]),os.path.join(output_pth, name + \".mtx\"),sc_or,name)\n",
    "    export_matrices(4,mat_id[-2:],os.path.join(output_pth,name + \".mtx\"),sc_new)"
   ]
  },
  {
   "cell_type": "code",
   "execution_count": null,
   "metadata": {
    "show_input": true
   },
   "outputs": [],
   "source": []
  }
 ],
 "metadata": {
  "kernelspec": {
   "display_name": "Python 2",
   "language": "python",
   "name": "python2"
  },
  "language_info": {
   "codemirror_mode": {
    "name": "ipython",
    "version": 2
   },
   "file_extension": ".py",
   "mimetype": "text/x-python",
   "name": "python",
   "nbconvert_exporter": "python",
   "pygments_lexer": "ipython2",
   "version": "2.7.14"
  },
  "modeller": {
   "desktop_app_port": "4242"
  }
 },
 "nbformat": 4,
 "nbformat_minor": 2
}
