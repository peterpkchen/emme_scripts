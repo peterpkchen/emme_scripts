{
 "cells": [
  {
   "cell_type": "code",
   "execution_count": 1,
   "metadata": {
    "collapsed": true,
    "show_input": true
   },
   "outputs": [],
   "source": [
    "import inro.modeller as _m\n",
    "modeller = _m.Modeller()"
   ]
  },
  {
   "cell_type": "code",
   "execution_count": 2,
   "metadata": {
    "collapsed": false,
    "show_input": true
   },
   "outputs": [
    {
     "name": "stdout",
     "output_type": "stream",
     "text": [
      "finished creating for 413\n",
      "finished creating for 639\n"
     ]
    }
   ],
   "source": [
    "scens = [413,639]\n",
    "create_attribute = modeller.tool(\"inro.emme.data.extra_attribute.create_extra_attribute\")\n",
    "\n",
    "for scen in scens:\n",
    "    bcost_att = create_attribute(\n",
    "                 extra_attribute_type = \"LINK\",\n",
    "                 extra_attribute_name = \"@bcost\",\n",
    "                 extra_attribute_description = \"bridge_cost\",\n",
    "                 overwrite = True,\n",
    "                 scenario = modeller.emmebank.scenario(scen))\n",
    "    tcost_att = create_attribute(\n",
    "                 extra_attribute_type = \"LINK\",\n",
    "                 extra_attribute_name = \"@tcost\",\n",
    "                 extra_attribute_description = \"transit_cost\",\n",
    "                 overwrite = True,\n",
    "                 scenario = modeller.emmebank.scenario(scen))\n",
    "    rcost_att = create_attribute(\n",
    "                 extra_attribute_type = \"LINK\",\n",
    "                 extra_attribute_name = \"@rcost\",\n",
    "                 extra_attribute_description = \"road_cost\",\n",
    "                 overwrite = True,\n",
    "                 scenario = modeller.emmebank.scenario(scen))\n",
    "    print('finished creating for %s') % scen\n"
   ]
  },
  {
   "cell_type": "code",
   "execution_count": null,
   "metadata": {
    "collapsed": true,
    "show_input": true
   },
   "outputs": [],
   "source": []
  }
 ],
 "metadata": {
  "kernelspec": {
   "display_name": "Python 2",
   "language": "python",
   "name": "python2"
  },
  "language_info": {
   "codemirror_mode": {
    "name": "ipython",
    "version": 2
   },
   "file_extension": ".py",
   "mimetype": "text/x-python",
   "name": "python",
   "nbconvert_exporter": "python",
   "pygments_lexer": "ipython2",
   "version": "2.7.14"
  }
 },
 "nbformat": 4,
 "nbformat_minor": 0
}
