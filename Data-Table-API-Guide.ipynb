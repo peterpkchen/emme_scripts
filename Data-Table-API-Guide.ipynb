{
 "cells": [
  {
   "cell_type": "markdown",
   "metadata": {},
   "source": [
    "<img \n",
    "  class=\"-inro-notebook-icon-inro-small\" \n",
    "  style=\"margin-left: 0; margin-bottom: 15px;\"> \n",
    "  © Copyright 2018, INRO.\n",
    "</img>"
   ]
  },
  {
   "cell_type": "markdown",
   "metadata": {},
   "source": [
    "Please note that this notebook should be run on a fresh copy of the Winnipeg demonstration project; otherwise you may encounter an error."
   ]
  },
  {
   "cell_type": "code",
   "execution_count": null,
   "metadata": {
    "collapsed": false,
    "modellerMagic": {
     "args": [],
     "cell": "",
     "command": "%modeller",
     "kwargs": {
      "show_output": false
     }
    },
    "show_input": false
   },
   "outputs": [
    {
     "data": {
      "text/html": [
       "<div class=\"t_element -inro-notebook-proxy-repr -inro-notebook-modeller-repr row\"><div class=\"col-lg-8\"><div><img style=\"display: inline-block; margin-right: 0.5em;\" inro_notebook_icon=\"notebook-16\" class=\"-inro-notebook-tool-repr-icon -inro-notebook-icon\"><strong>Modeller Notebook</strong></div></div><div class=\"-inro-notebook-tool-repr-controls col-lg-4\"><div class=\"btn-toolbar pull-right\"><div style=\"float: right;\" role=\"group\" class=\"btn-group\"><button aria-label=\"Show output\" class=\"-inro-notebook-show-output btn btn-default\" title=\"Show output\"><i class=\"fa fa-eye\"></i></button></div></div><script type=\"application/json\" id=\"d4877b22-2f4f-11e7-8a3b-e0cb4e819943\" class=\"-inro-notebook-modeller-magic\">{\"cell\": \"\", \"args\": [], \"command\": \"%modeller\", \"kwargs\": {\"show_output\": false}}</script><script type=\"application/javascript\" id=\"d4877b21-2f4f-11e7-b4d9-e0cb4e819943\">;(function() {\n",
       "                 var script = document.getElementById(\"d4877b21-2f4f-11e7-b4d9-e0cb4e819943\");\n",
       "\n",
       "                 moveInputDisplay = function(element) {\n",
       "                     var display = element;\n",
       "\n",
       "                     while (\n",
       "                         (display = display.parentElement) &&\n",
       "                         !display.classList.contains(\"output_area\")\n",
       "                     );\n",
       "\n",
       "                     if (!display) {\n",
       "                         return;\n",
       "                     }\n",
       "\n",
       "                     var cell = display.closest(\".cell\");\n",
       "                     if (!cell) {\n",
       "                        return;\n",
       "                     }\n",
       "\n",
       "                     var input = cell.querySelector(\".inner_cell\");\n",
       "                     if (!input) {\n",
       "                         return;\n",
       "                     }\n",
       "\n",
       "                     display.classList.remove(\"output_area\");\n",
       "\n",
       "                     var removeChildClass = function(element, klass) {\n",
       "                         Array.prototype.forEach.call(\n",
       "                             element.querySelectorAll(\".\" + klass),\n",
       "                             function(x) {\n",
       "                                 x.classList.remove(klass);\n",
       "                             }\n",
       "                         );\n",
       "                     };\n",
       "\n",
       "                     removeChildClass(display, \"output_subarea\");\n",
       "                     removeChildClass(display, \"output_html\");\n",
       "                     removeChildClass(display, \"rendered_html\");\n",
       "\n",
       "                     display.classList.add(\"input_area\");\n",
       "                     display.classList.add(\"-inro-notebook-magic-cell-display\");\n",
       "\n",
       "                     var removeChildrenOfClass = function(element, klass) {\n",
       "                         Array.prototype.forEach.call(\n",
       "                             element.querySelectorAll(\".\" + klass),\n",
       "                             function(x) {\n",
       "                                 x.remove();\n",
       "                             }\n",
       "                         );\n",
       "                     };\n",
       "\n",
       "                     removeChildrenOfClass(display, \"prompt\");\n",
       "\n",
       "                     removeChildrenOfClass(\n",
       "                         input,\n",
       "                         \"-inro-notebook-magic-cell-display\"\n",
       "                     );\n",
       "\n",
       "                     input.appendChild(display);\n",
       "                 };\n",
       "\n",
       "                 moveInputDisplay(script);\n",
       "\n",
       "                 \n",
       "        ;(function() {\n",
       "              var show = false;\n",
       "\n",
       "              if (window.inroNotebookLoaded) {\n",
       "                  window.jQuery([window.IPython.events]).one(\n",
       "                      \"set_dirty.Notebook\",\n",
       "                      function() {\n",
       "                          window.inro.modeller.notebook.interop.updateOutput(\n",
       "                              show,\n",
       "                              \"d4877b21-2f4f-11e7-b4d9-e0cb4e819943\"\n",
       "                          );\n",
       "                      }\n",
       "                  );\n",
       "\n",
       "                  return;\n",
       "              }\n",
       "\n",
       "              var updateOutput = function() {\n",
       "                  Array.prototype.forEach.call(\n",
       "                      document.querySelectorAll(\".output_area\"),\n",
       "                      function(output) {\n",
       "                          if (\n",
       "                              output.querySelectorAll(\n",
       "                                  \".inro-notebook-proxy-repr\"\n",
       "                              ).length == 0\n",
       "                          ) {\n",
       "                              output.style.display = show ? \"flex\" : \"none\";\n",
       "                          }\n",
       "                      }\n",
       "                  );\n",
       "              };\n",
       "\n",
       "              updateOutput();\n",
       "\n",
       "              var inro = window.inro = window.inro || {};\n",
       "              var modeller = inro.modeller = inro.modeller || {} ;\n",
       "              var notebook = modeller.notebook = modeller.notebook || {};\n",
       "              var init = notebook.init = notebook.init || {};\n",
       "\n",
       "              var readyCallbacks = init.readyCallbacks =\n",
       "                      init.readyCallbacks || [];\n",
       "\n",
       "              readyCallbacks.push(\n",
       "                  function() {\n",
       "                      if (window.inroNotebookLoaded) {\n",
       "                          window.inro.modeller.notebook.interop.updateOutput(\n",
       "                              show\n",
       "                          );\n",
       "                      }\n",
       "                  }\n",
       "              );\n",
       "\n",
       "              window.addEventListener(\"load\", updateOutput);\n",
       "          })();\n",
       "    \n",
       "\n",
       "                 if (!window.inroNotebookLoaded) {\n",
       "                     var cell = script.closest(\".cell\");\n",
       "\n",
       "                     var hide = function(element) {\n",
       "                         element.style.display = \"none\";\n",
       "                     };\n",
       "\n",
       "                     if (\n",
       "                         cell.querySelector(\n",
       "                             \".input_area.-inro-notebook-magic-cell-display\"\n",
       "                         )\n",
       "                     ) {\n",
       "                         Array.prototype.forEach.call(\n",
       "                             cell.querySelectorAll(\n",
       "                                 \".input_area:\" +\n",
       "                                 \"not(.-inro-notebook-magic-cell-display)\"\n",
       "                             ),\n",
       "                             hide\n",
       "                         );\n",
       "\n",
       "                         Array.prototype.forEach.call(\n",
       "                             cell.querySelectorAll(\n",
       "                                 \".-inro-notebook-tool-repr-controls\"\n",
       "                             ),\n",
       "                             hide\n",
       "                         );\n",
       "\n",
       "                         Array.prototype.forEach.call(\n",
       "                             cell.querySelectorAll(\n",
       "                                 \".-inro-notebook-button\"\n",
       "                             ),\n",
       "                             hide\n",
       "                         );\n",
       "                     }\n",
       "\n",
       "                     return;\n",
       "                 }\n",
       "\n",
       "                 var magic = JSON.parse(\n",
       "                     window.jQuery(\"#d4877b22-2f4f-11e7-8a3b-e0cb4e819943\").html()\n",
       "                 );\n",
       "\n",
       "                 var cell = window.inro.modeller.notebook.util.cellFromElement(\n",
       "                     window.jQuery(\"#d4877b21-2f4f-11e7-b4d9-e0cb4e819943\")\n",
       "                 );\n",
       "\n",
       "                 window.inro.modeller.notebook.interop.setMagic(\n",
       "                     cell,\n",
       "                     magic.command,\n",
       "                     magic.args,\n",
       "                     magic.kwargs,\n",
       "                     magic.cell\n",
       "                 );\n",
       "\n",
       "                 window.inro.modeller.notebook.ui.toggle_cell(\n",
       "                     cell,\n",
       "                     \"i\",\n",
       "                     false\n",
       "                 );\n",
       "\n",
       "                 var proxyTag = magic.kwargs[\"proxy\"];\n",
       "                 if (proxyTag) {\n",
       "                     window.inro.modeller.notebook.interop.initProxy(proxyTag);\n",
       "                 }\n",
       "             })();\n",
       "        </script></div></div>"
      ],
      "text/plain": [
       "<IPython.core.display.HTML object>"
      ]
     },
     "metadata": {},
     "output_type": "display_data"
    }
   ],
   "source": [
    "%modeller --show_output false"
   ]
  },
  {
   "cell_type": "markdown",
   "metadata": {
    "show_input": true
   },
   "source": [
    "#Data Table API Guide\n",
    "This notebook provides a brief overview of the Python Data Table API, which is used to access, modify, and analyze the contents of data tables in Emme. Before executing the code below, ensure the Winnipeg Demonstration Project is open in your Emme Desktop environment.\n",
    "##Contents\n",
    "\n",
    "<a href=\"#Listing-existing-data-tables\">Listing existing data tables</a>\n",
    "\n",
    "<a href=\"#Accessing-and-modifying-an-existing-data-table\">Accessing and modifying an existing data table</a>\n",
    "\n",
    "<a href=\"#Creating-a-new-data-table\">Creating a new data table</a>\n",
    "- <a href=\"#New-data-table-from-a-network-table\">New data table from a network table</a>\n",
    "- <a href=\"#New-data-table-from-a-shape-file\">New data table from a shape file</a>\n",
    "\n",
    "<a href=\"#Summarizing-a-data-table\">Summarizing a data table</a>\n",
    "\n",
    "<a href=\"#Joining-data-tables\">Joining data tables</a>\n",
    "\n",
    "<a href=\"#Exporting-from-data-tables\">Exporting from data tables</a>\n",
    "\n",
    "<a href=\"#Performing-a-spatial-join-operation\">Performing a spatial join operation</a>\n",
    "\n",
    "<a href=\"#Performing-a-buffer-(spatial)-operation\">Performing a buffer (spatial) operation</a>\n",
    "\n",
    "<a href=\"#Mapping-a-data-table\">Mapping a data table</a>\n",
    "\n",
    "<a href=\"#Performing-SQL-Queries\">Performing SQL Queries</a>\n",
    "\n",
    "<a href=\"#Creating-a-new-data-table-database\">Creating a new data table database</a>"
   ]
  },
  {
   "cell_type": "markdown",
   "metadata": {},
   "source": [
    "##Listing existing data tables\n",
    "First, we will import the <i>display</i> module, which unlike the <i>print</i> command, can be used to view Notebook outputs in-line, even when an instance of Emme Modeller is open. We then set variables which point to our currently open instances of emmebank and Desktop:"
   ]
  },
  {
   "cell_type": "code",
   "execution_count": null,
   "metadata": {
    "collapsed": true,
    "show_input": true
   },
   "outputs": [],
   "source": [
    "from IPython.display import display\n",
    "my_modeller = inro.modeller.Modeller()\n",
    "emmebank = my_modeller.emmebank\n",
    "desktop = my_modeller.desktop"
   ]
  },
  {
   "cell_type": "markdown",
   "metadata": {},
   "source": [
    "We can now display a list of the data tables currently defined in our project using the __`tables()`__ method:"
   ]
  },
  {
   "cell_type": "code",
   "execution_count": null,
   "metadata": {
    "collapsed": false,
    "show_input": true
   },
   "outputs": [
    {
     "data": {
      "text/plain": [
       "u'district names'"
      ]
     },
     "metadata": {},
     "output_type": "display_data"
    },
    {
     "data": {
      "text/plain": [
       "u'facility types'"
      ]
     },
     "metadata": {},
     "output_type": "display_data"
    },
    {
     "data": {
      "text/plain": [
       "u'winnipeg districts'"
      ]
     },
     "metadata": {},
     "output_type": "display_data"
    },
    {
     "data": {
      "text/plain": [
       "u'winnipeg land use'"
      ]
     },
     "metadata": {},
     "output_type": "display_data"
    },
    {
     "data": {
      "text/plain": [
       "u'wpglinks'"
      ]
     },
     "metadata": {},
     "output_type": "display_data"
    }
   ],
   "source": [
    "project_table_db = desktop.project.data_tables()\n",
    "for t in project_table_db.tables():\n",
    "    display(t.name)"
   ]
  },
  {
   "cell_type": "markdown",
   "metadata": {},
   "source": [
    "##Accessing and modifying an existing data table\n",
    "We will now access an existing data table from the Winnipeg project and list its columns. First, we use the __`table()`__ method to load the _winnipeg districts_ table by name:"
   ]
  },
  {
   "cell_type": "code",
   "execution_count": null,
   "metadata": {
    "collapsed": false,
    "show_input": true
   },
   "outputs": [
    {
     "data": {
      "text/plain": [
       "u'winnipeg districts'"
      ]
     },
     "execution_count": 4,
     "metadata": {},
     "output_type": "execute_result"
    }
   ],
   "source": [
    "wpg_districts = project_table_db.table(\"winnipeg districts\")\n",
    "wpg_districts.name"
   ]
  },
  {
   "cell_type": "markdown",
   "metadata": {},
   "source": [
    "Now, the `Table.`__`get_data()`__  method is used to load the data from the table in the _district_data_ variable:"
   ]
  },
  {
   "cell_type": "code",
   "execution_count": null,
   "metadata": {
    "collapsed": true,
    "show_input": true
   },
   "outputs": [],
   "source": [
    "# data of data table \"winnipeg districts\"\n",
    "district_data = wpg_districts.get_data()"
   ]
  },
  {
   "cell_type": "markdown",
   "metadata": {},
   "source": [
    "Finally, the `Table.`__`attributes()`__ method is used to access the columns in the _winnipeg districts_ data table. We then loop through each attribute (column) to display its name and data type:"
   ]
  },
  {
   "cell_type": "code",
   "execution_count": null,
   "metadata": {
    "collapsed": false,
    "show_input": true
   },
   "outputs": [
    {
     "data": {
      "text/plain": [
       "u'SEQNO - REAL'"
      ]
     },
     "metadata": {},
     "output_type": "display_data"
    },
    {
     "data": {
      "text/plain": [
       "u'ITEM - STRING'"
      ]
     },
     "metadata": {},
     "output_type": "display_data"
    },
    {
     "data": {
      "text/plain": [
       "u'DISTRICT - INTEGER32'"
      ]
     },
     "metadata": {},
     "output_type": "display_data"
    },
    {
     "data": {
      "text/plain": [
       "u'NAME - STRING'"
      ]
     },
     "metadata": {},
     "output_type": "display_data"
    },
    {
     "data": {
      "text/plain": [
       "u'DESCRIPTIO - STRING'"
      ]
     },
     "metadata": {},
     "output_type": "display_data"
    },
    {
     "data": {
      "text/plain": [
       "u'ZONES - INTEGER32'"
      ]
     },
     "metadata": {},
     "output_type": "display_data"
    },
    {
     "data": {
      "text/plain": [
       "u'REPZONE - INTEGER32'"
      ]
     },
     "metadata": {},
     "output_type": "display_data"
    },
    {
     "data": {
      "text/plain": [
       "u'XREPZONE - REAL'"
      ]
     },
     "metadata": {},
     "output_type": "display_data"
    },
    {
     "data": {
      "text/plain": [
       "u'YREPZONE - REAL'"
      ]
     },
     "metadata": {},
     "output_type": "display_data"
    },
    {
     "data": {
      "text/plain": [
       "u'SEGMENT - INTEGER32'"
      ]
     },
     "metadata": {},
     "output_type": "display_data"
    },
    {
     "data": {
      "text/plain": [
       "u'AREA - REAL'"
      ]
     },
     "metadata": {},
     "output_type": "display_data"
    },
    {
     "data": {
      "text/plain": [
       "u'XGRAVITY - REAL'"
      ]
     },
     "metadata": {},
     "output_type": "display_data"
    },
    {
     "data": {
      "text/plain": [
       "u'YGRAVITY - REAL'"
      ]
     },
     "metadata": {},
     "output_type": "display_data"
    },
    {
     "data": {
      "text/plain": [
       "u'XDISPLAY - REAL'"
      ]
     },
     "metadata": {},
     "output_type": "display_data"
    },
    {
     "data": {
      "text/plain": [
       "u'YDISPLAY - REAL'"
      ]
     },
     "metadata": {},
     "output_type": "display_data"
    },
    {
     "data": {
      "text/plain": [
       "u'geometry - GEOMETRY'"
      ]
     },
     "metadata": {},
     "output_type": "display_data"
    }
   ],
   "source": [
    "# name and type of each attribute (column)\n",
    "for a in district_data.attributes():\n",
    "    display(a.name + \" - \" + a.atype)"
   ]
  },
  {
   "cell_type": "markdown",
   "metadata": {},
   "source": [
    "If we want to rename a column in the data table, the `Data.`__`rename_attribute()`__ method is used.\n",
    "To remove a column in the data table, the `Data.`__`delete_attribute()`__ method is used.\n",
    "The cell below will rename the `'DESCRIPTIO'` column to `'DESCRIPTION'`,\n",
    "delete the `'SEQNO'` column,\n",
    "and then save this change back to the disk using the __`set_data()`__ method:"
   ]
  },
  {
   "cell_type": "code",
   "execution_count": null,
   "metadata": {
    "collapsed": false,
    "show_input": true
   },
   "outputs": [],
   "source": [
    "# change the name of column \"DESCRIPTIO\" and write back the data\n",
    "district_data.rename_attribute(\"DESCRIPTIO\", \"DESCRIPTION\")\n",
    "district_data.delete_attribute(\"SEQNO\")\n",
    "project_table_db.table(\"winnipeg districts\").set_data(district_data)"
   ]
  },
  {
   "cell_type": "markdown",
   "metadata": {},
   "source": [
    "The rows of a column can be accessed by first looking up the column with the __`attribute()`__ method, and then using the `Attribute.`__`values`__ property to output all of the values of that column, plus the data type. The contents of the `'ITEM'` column consist of :"
   ]
  },
  {
   "cell_type": "code",
   "execution_count": null,
   "metadata": {
    "collapsed": false,
    "show_input": true
   },
   "outputs": [
    {
     "data": {
      "text/plain": [
       "array([u'ga09', u'ga05', u'ga01', u'ga04', u'ga06', u'ga02', u'ga00',\n",
       "       u'ga03'], dtype=object)"
      ]
     },
     "execution_count": 8,
     "metadata": {},
     "output_type": "execute_result"
    }
   ],
   "source": [
    "# numpy array with values of NAME attribute\n",
    "ga_groups = district_data.attribute(\"ITEM\")\n",
    "ga_groups.values"
   ]
  },
  {
   "cell_type": "markdown",
   "metadata": {},
   "source": [
    "Additional properties of data table columns/attributes can be accessed, such as the name (__`.name`__), data type (__`.atype`__), and in the case of spatial columns, the shape (__`.geometry_type`__):"
   ]
  },
  {
   "cell_type": "code",
   "execution_count": null,
   "metadata": {
    "collapsed": false,
    "show_input": true
   },
   "outputs": [
    {
     "data": {
      "text/plain": [
       "u'geometry'"
      ]
     },
     "metadata": {},
     "output_type": "display_data"
    },
    {
     "data": {
      "text/plain": [
       "u'GEOMETRY'"
      ]
     },
     "metadata": {},
     "output_type": "display_data"
    },
    {
     "data": {
      "text/plain": [
       "u'POLYGON'"
      ]
     },
     "metadata": {},
     "output_type": "display_data"
    }
   ],
   "source": [
    "district_geom = district_data.attribute(\"geometry\")\n",
    "display(district_geom.name, district_geom.atype, district_geom.geometry_type)"
   ]
  },
  {
   "cell_type": "markdown",
   "metadata": {},
   "source": [
    "## Creating a new data table \n",
    "### New data table from a network table\n",
    "\n",
    "A data table can be created using the contents of an existing network table.\n",
    "Here our intention is to create a data table consisting of node IDs and their coordinates. \n",
    "We will start from the _Table of nodes_ network table, remove the unnecessary columns \n",
    "(user data and label) and then save the result as a new data table object called `'nodes'`."
   ]
  },
  {
   "cell_type": "code",
   "execution_count": null,
   "metadata": {
    "collapsed": true,
    "show_input": true
   },
   "outputs": [],
   "source": [
    "# creating a data table from a worksheet table\n",
    "ws_path = [\"General\", \"Network\", \"Table of nodes\"]\n",
    "root_ws_f = desktop.root_worksheet_folder()\n",
    "table_item = root_ws_f.find_item(ws_path)\n",
    "node_table = table_item.open()\n",
    "for i in range(6, 2, -1):\n",
    "    node_table.delete_column(i)\n",
    "nodes_dt = node_table.save_as_data_table(\"nodes\", overwrite=True)\n",
    "node_table.close()"
   ]
  },
  {
   "cell_type": "markdown",
   "metadata": {},
   "source": [
    "### New data table from a shape file\n",
    "\n",
    "We can generate a spatial data table using the contents of an existing shape file. To do so, we must first import the _datatable_ module to be able to import the shape file as a data source. "
   ]
  },
  {
   "cell_type": "code",
   "execution_count": null,
   "metadata": {
    "collapsed": true,
    "show_input": true
   },
   "outputs": [],
   "source": [
    "import inro.emme.datatable as _dt"
   ]
  },
  {
   "cell_type": "markdown",
   "metadata": {},
   "source": [
    "In this example we will import the data from the `WinnipegZones.shp` shape file located in the Media folder of the project and output the file contents:"
   ]
  },
  {
   "cell_type": "code",
   "execution_count": null,
   "metadata": {
    "collapsed": false,
    "show_input": true
   },
   "outputs": [
    {
     "data": {
      "text/plain": [
       "u'WinnipegZones'"
      ]
     },
     "metadata": {},
     "output_type": "display_data"
    },
    {
     "data": {
      "text/plain": [
       "u'NAD_1983_UTM_Zone_14N'"
      ]
     },
     "metadata": {},
     "output_type": "display_data"
    }
   ],
   "source": [
    "# import data from a shape file \n",
    "import os\n",
    "project_path = os.path.dirname(desktop.project.path)\n",
    "ds_file = os.path.join(project_path, \"Media/WinnipegZones.shp\").replace(\"\\\\\", \"/\")\n",
    "ds = _dt.DataSource(ds_file)\n",
    "for l in ds.layers():\n",
    "    display(l.name, l.spatial_reference.name)"
   ]
  },
  {
   "cell_type": "markdown",
   "metadata": {},
   "source": [
    "We then access the 'WinnipegZones' layer from the shape file and display its attributes and associated data types:"
   ]
  },
  {
   "cell_type": "code",
   "execution_count": null,
   "metadata": {
    "collapsed": false,
    "show_input": true
   },
   "outputs": [
    {
     "data": {
      "text/plain": [
       "u'ZONEID - INTEGER32'"
      ]
     },
     "metadata": {},
     "output_type": "display_data"
    },
    {
     "data": {
      "text/plain": [
       "u'DISTRICT - STRING'"
      ]
     },
     "metadata": {},
     "output_type": "display_data"
    },
    {
     "data": {
      "text/plain": [
       "u'EMPLOYMENT - STRING'"
      ]
     },
     "metadata": {},
     "output_type": "display_data"
    },
    {
     "data": {
      "text/plain": [
       "u'ZONETYPE - STRING'"
      ]
     },
     "metadata": {},
     "output_type": "display_data"
    },
    {
     "data": {
      "text/plain": [
       "u'DESCRIPTIO - STRING'"
      ]
     },
     "metadata": {},
     "output_type": "display_data"
    },
    {
     "data": {
      "text/plain": [
       "u'geometry - GEOMETRY'"
      ]
     },
     "metadata": {},
     "output_type": "display_data"
    }
   ],
   "source": [
    "wpg_zone_data = ds.layer('WinnipegZones').get_data()\n",
    "for a in wpg_zone_data.attributes():\n",
    "    display(a.name + \" - \" + a.atype)"
   ]
  },
  {
   "cell_type": "markdown",
   "metadata": {},
   "source": [
    "We now create a new data table (or overwrite an existing data table) named 'winnipeg zones', and populate it with the data from the shape file using the __`create_table()`__ method with the 'overwrite' argument:"
   ]
  },
  {
   "cell_type": "code",
   "execution_count": null,
   "metadata": {
    "collapsed": false,
    "show_input": true
   },
   "outputs": [
    {
     "data": {
      "text/plain": [
       "Table(winnipeg zones)"
      ]
     },
     "execution_count": 14,
     "metadata": {},
     "output_type": "execute_result"
    }
   ],
   "source": [
    "# add new data table to the project Data Tables (overwrite if already exists)\n",
    "project_table_db.create_table(\"winnipeg zones\", wpg_zone_data, overwrite=True)"
   ]
  },
  {
   "cell_type": "markdown",
   "metadata": {},
   "source": [
    "## Summarizing a data table\n",
    "\n",
    "It is possible to compute summary statistics on a data table by grouping the values in one or more columns.\n",
    "The `Data.`__`summarize()`__ method is used to do this, which takes two arguments:\n",
    "* __`group_by`__ is a sequence of one or more data table column names containing a hierarchy of table pivot points. Data will be grouped by the first item in this list first, followed by the second item, etc.\n",
    "* __`operations`__ specify the operation/type of analysis as well as the column for which this analysis will be performed. The `operations` argument contains a list of one or more items. Each item in the list contains a pair consisting of the column name followed by the type of operation.\n",
    "\n",
    "Operation types can be `FIRST`, `SUM`, `AVERAGE`, `MAXIMUM`, `MINIMUM`, or `COUNT`. \n",
    "\n",
    "In the example below, we want to find the average speed per number of lanes.\n",
    "We will start by creating a new network table of links with the following columns: `i`, `j`, `lanes` and `speedau` and we will restrict the table to road network without the connectors.\n",
    "Then we will save the link table as a data table object called `'links'`.\n",
    "Finally we will use the __`summarize`__ function, grouping by lanes and  averaging the speed."
   ]
  },
  {
   "cell_type": "code",
   "execution_count": null,
   "metadata": {
    "collapsed": true,
    "show_input": true
   },
   "outputs": [],
   "source": [
    "import inro.emme.desktop.worksheet as _worksheet\n",
    "project = desktop.project\n",
    "new_link_table = project.new_network_table(\"LINK\")\n",
    "new_link_table.par(\"Filter\").set(\"isAuto && not(isConnector)\")\n",
    "column = _worksheet.Column()\n",
    "column.name = \"i\"\n",
    "column.expression = \"i\"\n",
    "column.decimals = 0\n",
    "new_link_table.add_column(1, column)\n",
    "column.name = \"j\"\n",
    "column.expression = \"j\"\n",
    "new_link_table.add_column(2, column)\n",
    "column.name = \"lanes\"\n",
    "column.expression = \"lanes\"\n",
    "new_link_table.add_column(3, column)\n",
    "column.decimals = 2\n",
    "column.name = \"speed\"\n",
    "column.expression = \"speedau\"\n",
    "new_link_table.add_column(4, column)\n",
    "links_dt = new_link_table.save_as_data_table(\"links\", overwrite=True)\n",
    "new_link_table.close()"
   ]
  },
  {
   "cell_type": "code",
   "execution_count": null,
   "metadata": {
    "collapsed": false,
    "show_input": true
   },
   "outputs": [
    {
     "data": {
      "text/plain": [
       "Table(link_summary)"
      ]
     },
     "execution_count": 16,
     "metadata": {},
     "output_type": "execute_result"
    }
   ],
   "source": [
    "links_data = links_dt.get_data()\n",
    "link_summary = links_data.summarize(['lanes'], [['speed', 'AVERAGE']])\n",
    "project_table_db.create_table(\"link_summary\", link_summary, overwrite=True)"
   ]
  },
  {
   "cell_type": "markdown",
   "metadata": {},
   "source": [
    "The following code uses pandas to display the contents of the resulting data table: "
   ]
  },
  {
   "cell_type": "code",
   "execution_count": null,
   "metadata": {
    "collapsed": false,
    "show_input": true
   },
   "outputs": [
    {
     "data": {
      "text/html": [
       "<div style=\"max-height:1000px;max-width:1500px;overflow:auto;\">\n",
       "<table border=\"1\" class=\"dataframe\">\n",
       "  <thead>\n",
       "    <tr style=\"text-align: right;\">\n",
       "      <th></th>\n",
       "      <th>lanes</th>\n",
       "      <th>Avg(speed)</th>\n",
       "    </tr>\n",
       "  </thead>\n",
       "  <tbody>\n",
       "    <tr>\n",
       "      <th>0</th>\n",
       "      <td>2</td>\n",
       "      <td>53.855985</td>\n",
       "    </tr>\n",
       "    <tr>\n",
       "      <th>1</th>\n",
       "      <td>1</td>\n",
       "      <td>52.621626</td>\n",
       "    </tr>\n",
       "    <tr>\n",
       "      <th>2</th>\n",
       "      <td>3</td>\n",
       "      <td>48.494634</td>\n",
       "    </tr>\n",
       "    <tr>\n",
       "      <th>3</th>\n",
       "      <td>4</td>\n",
       "      <td>40.369942</td>\n",
       "    </tr>\n",
       "  </tbody>\n",
       "</table>\n",
       "</div>"
      ],
      "text/plain": [
       "   lanes  Avg(speed)\n",
       "0      2   53.855985\n",
       "1      1   52.621626\n",
       "2      3   48.494634\n",
       "3      4   40.369942"
      ]
     },
     "execution_count": 17,
     "metadata": {},
     "output_type": "execute_result"
    }
   ],
   "source": [
    "import pandas as _pd\n",
    "def to_pandas(dat):\n",
    "    dfs = []\n",
    "    for a in dat.attributes():\n",
    "        if a.atype == 'GEOMETRY':\n",
    "            dfs.append( _pd.DataFrame( {a.name: [x.text for x in a.values]} ) )\n",
    "        else:\n",
    "            dfs.append( _pd.DataFrame( {a.name: a.values} ) )\n",
    "    df = dfs[0]\n",
    "    for x in dfs[1:]:\n",
    "        df = df.join(x)\n",
    "    return df\n",
    "to_pandas(link_summary)"
   ]
  },
  {
   "cell_type": "markdown",
   "metadata": {},
   "source": [
    "## Joining data tables\n",
    "\n",
    "In this example, we want to obtain the district-to-district totals of a demand matrix.\n",
    "We will summarize an O-D Pair network table by district, and then use join operations to add district names to the resulting data table. Let's first create the O-D pair table."
   ]
  },
  {
   "cell_type": "code",
   "execution_count": null,
   "metadata": {
    "collapsed": true,
    "show_input": true
   },
   "outputs": [],
   "source": [
    "# create an O-D pair network table wit columns p, Pp->ga, q, Pq->ga and mf1\n",
    "new_od_table = project.new_network_table(\"FULL\")\n",
    "column = _worksheet.Column()\n",
    "column.name = \"p\"\n",
    "column.expression = \"p\"\n",
    "column.decimals = 0\n",
    "new_od_table.add_column(1, column)\n",
    "column.name = \"orig. district\"\n",
    "column.expression = \"Pp->ga\"\n",
    "new_od_table.add_column(2, column)\n",
    "column.name = \"q\"\n",
    "column.expression = \"q\"\n",
    "new_od_table.add_column(3, column)\n",
    "column.name = \"dest. district\"\n",
    "column.expression = \"Pq->ga\"\n",
    "new_od_table.add_column(4, column)\n",
    "column.name = \"mf1\"\n",
    "column.expression = \"mf1\"\n",
    "new_od_table.add_column(5, column)"
   ]
  },
  {
   "cell_type": "markdown",
   "metadata": {},
   "source": [
    "Then we summarize the data to get the sum of the demand matrix (`mf1`) by origin and destination district."
   ]
  },
  {
   "cell_type": "code",
   "execution_count": null,
   "metadata": {
    "collapsed": true,
    "show_input": true
   },
   "outputs": [],
   "source": [
    "# get data to summarize the table by district and close the network table\n",
    "od_mf1_data = new_od_table.get_data()\n",
    "d2d_summary = od_mf1_data.summarize(['orig. district', 'dest. district'], [['mf1', 'SUM']])\n",
    "d2d_mf1 = project_table_db.create_table(\"d2d_mf1\", d2d_summary, overwrite=True)\n",
    "new_od_table.close()"
   ]
  },
  {
   "cell_type": "code",
   "execution_count": null,
   "metadata": {
    "collapsed": false,
    "show_input": true
   },
   "outputs": [
    {
     "data": {
      "text/html": [
       "<div style=\"max-height:1000px;max-width:1500px;overflow:auto;\">\n",
       "<table border=\"1\" class=\"dataframe\">\n",
       "  <thead>\n",
       "    <tr style=\"text-align: right;\">\n",
       "      <th></th>\n",
       "      <th>orig. district</th>\n",
       "      <th>dest. district</th>\n",
       "      <th>Sum(mf1)</th>\n",
       "    </tr>\n",
       "  </thead>\n",
       "  <tbody>\n",
       "    <tr>\n",
       "      <th>0</th>\n",
       "      <td>0</td>\n",
       "      <td>0</td>\n",
       "      <td>146</td>\n",
       "    </tr>\n",
       "    <tr>\n",
       "      <th>1</th>\n",
       "      <td>0</td>\n",
       "      <td>3</td>\n",
       "      <td>113</td>\n",
       "    </tr>\n",
       "    <tr>\n",
       "      <th>2</th>\n",
       "      <td>0</td>\n",
       "      <td>4</td>\n",
       "      <td>42</td>\n",
       "    </tr>\n",
       "    <tr>\n",
       "      <th>...</th>\n",
       "      <td>...</td>\n",
       "      <td>...</td>\n",
       "      <td>...</td>\n",
       "    </tr>\n",
       "    <tr>\n",
       "      <th>61</th>\n",
       "      <td>2</td>\n",
       "      <td>1</td>\n",
       "      <td>1934</td>\n",
       "    </tr>\n",
       "    <tr>\n",
       "      <th>62</th>\n",
       "      <td>2</td>\n",
       "      <td>6</td>\n",
       "      <td>1046</td>\n",
       "    </tr>\n",
       "    <tr>\n",
       "      <th>63</th>\n",
       "      <td>2</td>\n",
       "      <td>2</td>\n",
       "      <td>3086</td>\n",
       "    </tr>\n",
       "  </tbody>\n",
       "</table>\n",
       "<p>64 rows × 3 columns</p>\n",
       "</div>"
      ],
      "text/plain": [
       "    orig. district  dest. district  Sum(mf1)\n",
       "0                0               0       146\n",
       "1                0               3       113\n",
       "2                0               4        42\n",
       "..             ...             ...       ...\n",
       "61               2               1      1934\n",
       "62               2               6      1046\n",
       "63               2               2      3086\n",
       "\n",
       "[64 rows x 3 columns]"
      ]
     },
     "execution_count": 20,
     "metadata": {},
     "output_type": "execute_result"
    }
   ],
   "source": [
    "_pd.options.display.max_rows = 6\n",
    "to_pandas(d2d_summary)"
   ]
  },
  {
   "cell_type": "markdown",
   "metadata": {},
   "source": [
    "A __join__ can be performed on an existing data table by specifying a second table to join it with the names of the column names to be joined upon. The method takes three arguments:\n",
    "* __`att_name`__  is the column/attribute name of the current table object (the \"inner table\") for which you would like to perform the join on.\n",
    "* __`right_table`__ is a data table object representing the second table to be joined with the current table.\n",
    "* __`right_att_name`__ is the name of the corresponding column/attribute of the second table to perform the join on."
   ]
  },
  {
   "cell_type": "code",
   "execution_count": null,
   "metadata": {
    "collapsed": false,
    "show_input": true
   },
   "outputs": [
    {
     "data": {
      "text/html": [
       "<div style=\"max-height:1000px;max-width:1500px;overflow:auto;\">\n",
       "<table border=\"1\" class=\"dataframe\">\n",
       "  <thead>\n",
       "    <tr style=\"text-align: right;\">\n",
       "      <th></th>\n",
       "      <th>district</th>\n",
       "      <th>name</th>\n",
       "      <th>orig. district</th>\n",
       "      <th>dest. district</th>\n",
       "      <th>Sum(mf1)</th>\n",
       "    </tr>\n",
       "  </thead>\n",
       "  <tbody>\n",
       "    <tr>\n",
       "      <th>0</th>\n",
       "      <td>0</td>\n",
       "      <td>CBD</td>\n",
       "      <td>0</td>\n",
       "      <td>0</td>\n",
       "      <td>146</td>\n",
       "    </tr>\n",
       "    <tr>\n",
       "      <th>1</th>\n",
       "      <td>0</td>\n",
       "      <td>CBD</td>\n",
       "      <td>1</td>\n",
       "      <td>0</td>\n",
       "      <td>1386</td>\n",
       "    </tr>\n",
       "    <tr>\n",
       "      <th>2</th>\n",
       "      <td>0</td>\n",
       "      <td>CBD</td>\n",
       "      <td>2</td>\n",
       "      <td>0</td>\n",
       "      <td>1684</td>\n",
       "    </tr>\n",
       "    <tr>\n",
       "      <th>...</th>\n",
       "      <td>...</td>\n",
       "      <td>...</td>\n",
       "      <td>...</td>\n",
       "      <td>...</td>\n",
       "      <td>...</td>\n",
       "    </tr>\n",
       "    <tr>\n",
       "      <th>61</th>\n",
       "      <td>9</td>\n",
       "      <td>External</td>\n",
       "      <td>5</td>\n",
       "      <td>9</td>\n",
       "      <td>142</td>\n",
       "    </tr>\n",
       "    <tr>\n",
       "      <th>62</th>\n",
       "      <td>9</td>\n",
       "      <td>External</td>\n",
       "      <td>6</td>\n",
       "      <td>9</td>\n",
       "      <td>127</td>\n",
       "    </tr>\n",
       "    <tr>\n",
       "      <th>63</th>\n",
       "      <td>9</td>\n",
       "      <td>External</td>\n",
       "      <td>9</td>\n",
       "      <td>9</td>\n",
       "      <td>125</td>\n",
       "    </tr>\n",
       "  </tbody>\n",
       "</table>\n",
       "<p>64 rows × 5 columns</p>\n",
       "</div>"
      ],
      "text/plain": [
       "   district      name  orig. district  dest. district  Sum(mf1)\n",
       "0         0       CBD               0               0       146\n",
       "1         0       CBD               1               0      1386\n",
       "2         0       CBD               2               0      1684\n",
       "..      ...       ...             ...             ...       ...\n",
       "61        9  External               5               9       142\n",
       "62        9  External               6               9       127\n",
       "63        9  External               9               9       125\n",
       "\n",
       "[64 rows x 5 columns]"
      ]
     },
     "execution_count": 21,
     "metadata": {},
     "output_type": "execute_result"
    }
   ],
   "source": [
    "# join on destination district\n",
    "district_names = project_table_db.table('district names')\n",
    "d2d_mf1_data = district_names.join('district', d2d_mf1, 'dest. district')\n",
    "to_pandas(d2d_mf1_data)"
   ]
  },
  {
   "cell_type": "markdown",
   "metadata": {},
   "source": [
    "The resulting data table will have a new column with the name of the destination district. \n",
    "We can delete the redundant column `'district'` and rename the column `'name'` to `'dest. district name'`. \n",
    "Then we will save the resulting data table under the same name."
   ]
  },
  {
   "cell_type": "code",
   "execution_count": null,
   "metadata": {
    "collapsed": true,
    "show_input": true
   },
   "outputs": [],
   "source": [
    "d2d_mf1_data.delete_attribute(\"district\")\n",
    "d2d_mf1_data.rename_attribute(\"name\", \"dest. district name\")\n",
    "d2d_mf1 = project_table_db.create_table(\"d2d_mf1\", d2d_mf1_data, overwrite=True)"
   ]
  },
  {
   "cell_type": "markdown",
   "metadata": {},
   "source": [
    "Now we will repeat the process, this time for the origin district."
   ]
  },
  {
   "cell_type": "code",
   "execution_count": null,
   "metadata": {
    "collapsed": false,
    "show_input": true
   },
   "outputs": [
    {
     "data": {
      "text/html": [
       "<div style=\"max-height:1000px;max-width:1500px;overflow:auto;\">\n",
       "<table border=\"1\" class=\"dataframe\">\n",
       "  <thead>\n",
       "    <tr style=\"text-align: right;\">\n",
       "      <th></th>\n",
       "      <th>orig. district name</th>\n",
       "      <th>dest. district name</th>\n",
       "      <th>orig. district</th>\n",
       "      <th>dest. district</th>\n",
       "      <th>Sum(mf1)</th>\n",
       "    </tr>\n",
       "  </thead>\n",
       "  <tbody>\n",
       "    <tr>\n",
       "      <th>0</th>\n",
       "      <td>CBD</td>\n",
       "      <td>CBD</td>\n",
       "      <td>0</td>\n",
       "      <td>0</td>\n",
       "      <td>146</td>\n",
       "    </tr>\n",
       "    <tr>\n",
       "      <th>1</th>\n",
       "      <td>CBD</td>\n",
       "      <td>Central</td>\n",
       "      <td>0</td>\n",
       "      <td>1</td>\n",
       "      <td>191</td>\n",
       "    </tr>\n",
       "    <tr>\n",
       "      <th>2</th>\n",
       "      <td>CBD</td>\n",
       "      <td>External</td>\n",
       "      <td>0</td>\n",
       "      <td>9</td>\n",
       "      <td>34</td>\n",
       "    </tr>\n",
       "    <tr>\n",
       "      <th>...</th>\n",
       "      <td>...</td>\n",
       "      <td>...</td>\n",
       "      <td>...</td>\n",
       "      <td>...</td>\n",
       "      <td>...</td>\n",
       "    </tr>\n",
       "    <tr>\n",
       "      <th>61</th>\n",
       "      <td>External</td>\n",
       "      <td>North West</td>\n",
       "      <td>9</td>\n",
       "      <td>2</td>\n",
       "      <td>77</td>\n",
       "    </tr>\n",
       "    <tr>\n",
       "      <th>62</th>\n",
       "      <td>External</td>\n",
       "      <td>South East</td>\n",
       "      <td>9</td>\n",
       "      <td>5</td>\n",
       "      <td>29</td>\n",
       "    </tr>\n",
       "    <tr>\n",
       "      <th>63</th>\n",
       "      <td>External</td>\n",
       "      <td>South West</td>\n",
       "      <td>9</td>\n",
       "      <td>6</td>\n",
       "      <td>136</td>\n",
       "    </tr>\n",
       "  </tbody>\n",
       "</table>\n",
       "<p>64 rows × 5 columns</p>\n",
       "</div>"
      ],
      "text/plain": [
       "   orig. district name dest. district name  orig. district  dest. district  \\\n",
       "0                  CBD                 CBD               0               0   \n",
       "1                  CBD             Central               0               1   \n",
       "2                  CBD            External               0               9   \n",
       "..                 ...                 ...             ...             ...   \n",
       "61            External          North West               9               2   \n",
       "62            External          South East               9               5   \n",
       "63            External          South West               9               6   \n",
       "\n",
       "    Sum(mf1)  \n",
       "0        146  \n",
       "1        191  \n",
       "2         34  \n",
       "..       ...  \n",
       "61        77  \n",
       "62        29  \n",
       "63       136  \n",
       "\n",
       "[64 rows x 5 columns]"
      ]
     },
     "execution_count": 23,
     "metadata": {},
     "output_type": "execute_result"
    }
   ],
   "source": [
    "# join on origin district\n",
    "district_names = project_table_db.table('district names')\n",
    "d2d_mf1_data = district_names.join('district', d2d_mf1, 'orig. district')\n",
    "d2d_mf1_data.delete_attribute(\"district\")\n",
    "d2d_mf1_data.rename_attribute(\"name\", \"orig. district name\")\n",
    "d2d_mf1 = project_table_db.create_table(\"d2d_mf1\", d2d_mf1_data, overwrite=True)\n",
    "to_pandas(d2d_mf1_data)"
   ]
  },
  {
   "cell_type": "markdown",
   "metadata": {},
   "source": [
    "## Exporting from data tables\n",
    "\n",
    "To export the contents of the data table, use the __`export_to_csv`__ method.\n",
    "The code below gets the data of the `'nodes'` table and then exports it to a CSV file using ',' as the delimiter (the default delimiter is defined in the _Field separator_ entry in the Worksheet project settings):"
   ]
  },
  {
   "cell_type": "code",
   "execution_count": null,
   "metadata": {
    "collapsed": true,
    "show_input": true
   },
   "outputs": [],
   "source": [
    "# export data table data to csv file\n",
    "nodes_data = nodes_dt.get_data()\n",
    "node_filepath = os.path.join(project_path, \"Media/nodes.csv\").replace(\"\\\\\", \"/\")\n",
    "nodes_data.export_to_csv(node_filepath, separator=\",\")"
   ]
  },
  {
   "cell_type": "markdown",
   "metadata": {},
   "source": [
    "Let's display the first line of the resulting file:"
   ]
  },
  {
   "cell_type": "code",
   "execution_count": null,
   "metadata": {
    "collapsed": false,
    "show_input": true
   },
   "outputs": [
    {
     "data": {
      "text/html": [
       "<div style=\"max-height:1000px;max-width:1500px;overflow:auto;\">\n",
       "<table border=\"1\" class=\"dataframe\">\n",
       "  <thead>\n",
       "    <tr style=\"text-align: right;\">\n",
       "      <th></th>\n",
       "      <th>Node,X-coord,Y-coord</th>\n",
       "    </tr>\n",
       "  </thead>\n",
       "  <tbody>\n",
       "    <tr>\n",
       "      <th>0</th>\n",
       "      <td>1,633948.0000000000000000,5528783.000000000000...</td>\n",
       "    </tr>\n",
       "    <tr>\n",
       "      <th>1</th>\n",
       "      <td>2,633512.0000000000000000,5528805.000000000000...</td>\n",
       "    </tr>\n",
       "    <tr>\n",
       "      <th>2</th>\n",
       "      <td>3,633787.0000000000000000,5527975.000000000000...</td>\n",
       "    </tr>\n",
       "    <tr>\n",
       "      <th>...</th>\n",
       "      <td>...</td>\n",
       "    </tr>\n",
       "    <tr>\n",
       "      <th>1047</th>\n",
       "      <td>9436,633265.0000000000000000,5525614.000000000...</td>\n",
       "    </tr>\n",
       "    <tr>\n",
       "      <th>1048</th>\n",
       "      <td>9437,633195.0000000000000000,5525262.000000000...</td>\n",
       "    </tr>\n",
       "    <tr>\n",
       "      <th>1049</th>\n",
       "      <td>9438,632913.0000000000000000,5524506.000000000...</td>\n",
       "    </tr>\n",
       "  </tbody>\n",
       "</table>\n",
       "<p>1050 rows × 1 columns</p>\n",
       "</div>"
      ],
      "text/plain": [
       "                                   Node,X-coord,Y-coord\n",
       "0     1,633948.0000000000000000,5528783.000000000000...\n",
       "1     2,633512.0000000000000000,5528805.000000000000...\n",
       "2     3,633787.0000000000000000,5527975.000000000000...\n",
       "...                                                 ...\n",
       "1047  9436,633265.0000000000000000,5525614.000000000...\n",
       "1048  9437,633195.0000000000000000,5525262.000000000...\n",
       "1049  9438,632913.0000000000000000,5524506.000000000...\n",
       "\n",
       "[1050 rows x 1 columns]"
      ]
     },
     "execution_count": 25,
     "metadata": {},
     "output_type": "execute_result"
    }
   ],
   "source": [
    "nodes = _pd.read_csv(node_filepath, \"nodes.csv\", engine='python')\n",
    "nodes"
   ]
  },
  {
   "cell_type": "markdown",
   "metadata": {},
   "source": [
    "## Performing a spatial join operation\n",
    "\n",
    "A _Spatial Join_ operation affixes data from one data table to another based on its spatial relationship.\n",
    "\n",
    "Spatial joins can be performed on geometry columns in a data table using the `Table.`__`spatial_join()`__ method. This method takes two arguments:\n",
    "* __`right_table`__, which specifies the second data table object to be joined.\n",
    "* __`predicate`__, which is a string dictating the type of spatial join to be performed.\n",
    "\n",
    "The `predicate` argument must be one of `'INTERSECT'`, `'CONTAIN'`, or `'EQUALS'`.\n",
    "\n",
    "In the code below, we use __`spatial_join`__ to establish correspondence between Emme network elements and zone polygons:"
   ]
  },
  {
   "cell_type": "code",
   "execution_count": null,
   "metadata": {
    "collapsed": false,
    "show_input": true
   },
   "outputs": [
    {
     "data": {
      "text/html": [
       "<div style=\"max-height:1000px;max-width:1500px;overflow:auto;\">\n",
       "<table border=\"1\" class=\"dataframe\">\n",
       "  <thead>\n",
       "    <tr style=\"text-align: right;\">\n",
       "      <th></th>\n",
       "      <th>ZONEID</th>\n",
       "      <th>DISTRICT</th>\n",
       "      <th>EMPLOYMENT</th>\n",
       "      <th>ZONETYPE</th>\n",
       "      <th>DESCRIPTIO</th>\n",
       "      <th>geometry</th>\n",
       "      <th>Node</th>\n",
       "      <th>X-coord</th>\n",
       "      <th>Y-coord</th>\n",
       "      <th>geometry:1</th>\n",
       "    </tr>\n",
       "  </thead>\n",
       "  <tbody>\n",
       "    <tr>\n",
       "      <th>0</th>\n",
       "      <td>21</td>\n",
       "      <td>External</td>\n",
       "      <td>high</td>\n",
       "      <td>external</td>\n",
       "      <td></td>\n",
       "      <td>POLYGON((640481 5537272.070889, 640484.381886 ...</td>\n",
       "      <td>21</td>\n",
       "      <td>640481</td>\n",
       "      <td>5537046</td>\n",
       "      <td>POINT(640481 5537046)</td>\n",
       "    </tr>\n",
       "    <tr>\n",
       "      <th>1</th>\n",
       "      <td>42</td>\n",
       "      <td>South East</td>\n",
       "      <td>low</td>\n",
       "      <td>residential</td>\n",
       "      <td></td>\n",
       "      <td>POLYGON((634294.348449 5522172.892743, 634205....</td>\n",
       "      <td>42</td>\n",
       "      <td>635317</td>\n",
       "      <td>5522002</td>\n",
       "      <td>POINT(635317 5522002)</td>\n",
       "    </tr>\n",
       "    <tr>\n",
       "      <th>2</th>\n",
       "      <td>42</td>\n",
       "      <td>South East</td>\n",
       "      <td>low</td>\n",
       "      <td>residential</td>\n",
       "      <td></td>\n",
       "      <td>POLYGON((634294.348449 5522172.892743, 634205....</td>\n",
       "      <td>338</td>\n",
       "      <td>635717</td>\n",
       "      <td>5522754</td>\n",
       "      <td>POINT(635717 5522754)</td>\n",
       "    </tr>\n",
       "    <tr>\n",
       "      <th>...</th>\n",
       "      <td>...</td>\n",
       "      <td>...</td>\n",
       "      <td>...</td>\n",
       "      <td>...</td>\n",
       "      <td>...</td>\n",
       "      <td>...</td>\n",
       "      <td>...</td>\n",
       "      <td>...</td>\n",
       "      <td>...</td>\n",
       "      <td>...</td>\n",
       "    </tr>\n",
       "    <tr>\n",
       "      <th>956</th>\n",
       "      <td>83</td>\n",
       "      <td>Central</td>\n",
       "      <td>low</td>\n",
       "      <td>residential</td>\n",
       "      <td></td>\n",
       "      <td>POLYGON((630207.764608 5527169.205387, 630177....</td>\n",
       "      <td>605</td>\n",
       "      <td>629701</td>\n",
       "      <td>5527011</td>\n",
       "      <td>POINT(629701 5527011)</td>\n",
       "    </tr>\n",
       "    <tr>\n",
       "      <th>957</th>\n",
       "      <td>83</td>\n",
       "      <td>Central</td>\n",
       "      <td>low</td>\n",
       "      <td>residential</td>\n",
       "      <td></td>\n",
       "      <td>POLYGON((630207.764608 5527169.205387, 630177....</td>\n",
       "      <td>606</td>\n",
       "      <td>629567</td>\n",
       "      <td>5526976</td>\n",
       "      <td>POINT(629567 5526976)</td>\n",
       "    </tr>\n",
       "    <tr>\n",
       "      <th>958</th>\n",
       "      <td>83</td>\n",
       "      <td>Central</td>\n",
       "      <td>low</td>\n",
       "      <td>residential</td>\n",
       "      <td></td>\n",
       "      <td>POLYGON((630207.764608 5527169.205387, 630177....</td>\n",
       "      <td>607</td>\n",
       "      <td>629214</td>\n",
       "      <td>5526863</td>\n",
       "      <td>POINT(629214 5526863)</td>\n",
       "    </tr>\n",
       "  </tbody>\n",
       "</table>\n",
       "<p>959 rows × 10 columns</p>\n",
       "</div>"
      ],
      "text/plain": [
       "     ZONEID    DISTRICT EMPLOYMENT     ZONETYPE DESCRIPTIO  \\\n",
       "0        21    External       high     external              \n",
       "1        42  South East        low  residential              \n",
       "2        42  South East        low  residential              \n",
       "..      ...         ...        ...          ...        ...   \n",
       "956      83     Central        low  residential              \n",
       "957      83     Central        low  residential              \n",
       "958      83     Central        low  residential              \n",
       "\n",
       "                                              geometry  Node  X-coord  \\\n",
       "0    POLYGON((640481 5537272.070889, 640484.381886 ...    21   640481   \n",
       "1    POLYGON((634294.348449 5522172.892743, 634205....    42   635317   \n",
       "2    POLYGON((634294.348449 5522172.892743, 634205....   338   635717   \n",
       "..                                                 ...   ...      ...   \n",
       "956  POLYGON((630207.764608 5527169.205387, 630177....   605   629701   \n",
       "957  POLYGON((630207.764608 5527169.205387, 630177....   606   629567   \n",
       "958  POLYGON((630207.764608 5527169.205387, 630177....   607   629214   \n",
       "\n",
       "     Y-coord             geometry:1  \n",
       "0    5537046  POINT(640481 5537046)  \n",
       "1    5522002  POINT(635317 5522002)  \n",
       "2    5522754  POINT(635717 5522754)  \n",
       "..       ...                    ...  \n",
       "956  5527011  POINT(629701 5527011)  \n",
       "957  5526976  POINT(629567 5526976)  \n",
       "958  5526863  POINT(629214 5526863)  \n",
       "\n",
       "[959 rows x 10 columns]"
      ]
     },
     "execution_count": 26,
     "metadata": {},
     "output_type": "execute_result"
    }
   ],
   "source": [
    "# Spatial join operation\n",
    "spatial_join_data = project_table_db.table(\"winnipeg zones\").spatial_join(nodes_dt, 'CONTAIN')\n",
    "to_pandas(spatial_join_data)"
   ]
  },
  {
   "cell_type": "markdown",
   "metadata": {},
   "source": [
    "Note that:\n",
    "- Each row now contains a node id column showing the nodes contained by each zone ZONEID.\n",
    "- There are 959 resulting rows, whereas there are only 154 rows in the 'winnipeg zones' table.\n",
    "- There is a second geometry column with type POINT created from the spatial join. It is not possible to save a data table with two geometry columns, so we will delete the second POINT geometry column labeled 'geometry:1'.\n",
    "\n",
    "We are now ready to save the result to the new data table `nodes_in_zones`."
   ]
  },
  {
   "cell_type": "code",
   "execution_count": null,
   "metadata": {
    "collapsed": false,
    "show_input": true
   },
   "outputs": [
    {
     "data": {
      "text/plain": [
       "Table(nodes_in_zones)"
      ]
     },
     "execution_count": 27,
     "metadata": {},
     "output_type": "execute_result"
    }
   ],
   "source": [
    "spatial_join_data.delete_attribute('geometry:1')\n",
    "project_table_db.create_table(\"nodes_in_zones\", spatial_join_data, overwrite=True)"
   ]
  },
  {
   "cell_type": "markdown",
   "metadata": {},
   "source": [
    "## Performing a buffer (spatial) operation\n",
    "\n",
    "A buffer operation produces a region of specified distance around the input geometry. Buffer operations can only be performed on data tables with a geometry column. Buffer distance is specified in the units of the data table spatial reference.\n",
    "\n",
    "In the code below, the `Table.`__`buffer()`__ method is used to create a buffer on the transit stops to show catchment area.\n",
    "\n",
    "We will start by creating a new network table of nodes with columns i (node ID) and attribute `ca_nbstops_i` (is transit stop indicator) and we will restrict the table to filter only those nodes where there are transit stops. Then we will save the node table as a data table object called 'stops'. Finally we will use the __buffer__ function and set the distance to 500.\n",
    "The new list of buffered objects are then saved to a new 'stops_500m' table:"
   ]
  },
  {
   "cell_type": "code",
   "execution_count": null,
   "metadata": {
    "collapsed": true,
    "show_input": true
   },
   "outputs": [],
   "source": [
    "new_stop_table = project.new_network_table(\"NODE\")\n",
    "new_stop_table.par(\"Filter\").set(\"ca_nbstops_i>0\")\n",
    "column = _worksheet.Column()\n",
    "column.name = \"i\"\n",
    "column.expression = \"i\"\n",
    "column.decimals = 0\n",
    "new_stop_table.add_column(1, column)\n",
    "column.name = \"ca_nbstops_i\"\n",
    "column.expression = \"ca_nbstops_i\"\n",
    "new_stop_table.add_column(2, column)\n",
    "stops_dt = new_stop_table.save_as_data_table(\"stops\", overwrite=True)\n",
    "new_stop_table.close()"
   ]
  },
  {
   "cell_type": "code",
   "execution_count": null,
   "metadata": {
    "collapsed": false,
    "show_input": true
   },
   "outputs": [
    {
     "data": {
      "text/plain": [
       "Table(stops_500m)"
      ]
     },
     "execution_count": 29,
     "metadata": {},
     "output_type": "execute_result"
    }
   ],
   "source": [
    "# buffer\n",
    "stops_with_buffer = stops_dt.buffer(500)\n",
    "project_table_db.create_table(\"stops_500m\", stops_with_buffer, overwrite=True)"
   ]
  },
  {
   "cell_type": "markdown",
   "metadata": {},
   "source": [
    "## Mapping a data table\n",
    "\n",
    "Spatial data tables contained within the project table database can be output as a GIS vector layer in a graphical worksheet. In the example below, we open a new worksheet, and add the spatial data from the project data tables to a new GIS vector layer. The GIS vector layer uses the information contained in the node buffer we created above:"
   ]
  },
  {
   "cell_type": "code",
   "execution_count": null,
   "metadata": {
    "collapsed": true,
    "show_input": true
   },
   "outputs": [],
   "source": [
    "new_wk_i = root_ws_f.find_item(['New worksheet'])\n",
    "new_wk = new_wk_i.open()\n",
    "gis_layer = new_wk.add_layer_front(\"GIS vector\")\n",
    "gis_layer.load_data_tables()\n",
    "gis_layer.par(\"Dataset\").set(\"stops_500m\")"
   ]
  },
  {
   "cell_type": "code",
   "execution_count": null,
   "metadata": {
    "collapsed": true,
    "show_input": true
   },
   "outputs": [],
   "source": [
    "new_wk.close()"
   ]
  },
  {
   "cell_type": "markdown",
   "metadata": {},
   "source": [
    "##Performing SQL Queries\n",
    "\n",
    "As an alternative to using the methods presented above, the data tables contained within a table database can be accessed and manipulated with SQL commands using the __`query()`__ method. In the example below, the `'Node'`, `'ZONEID'`, `'DISTRICT'` and `'geometry'` columns are accessed from the 'nodes_in_zones' table \n",
    "(created in the section <a href=\"#Performing-a-spatial-join-operation\">Performing a spatial join operation</a>)\n",
    "with the resulting output grouped by `'Node'`:"
   ]
  },
  {
   "cell_type": "code",
   "execution_count": null,
   "metadata": {
    "collapsed": true,
    "show_input": true
   },
   "outputs": [],
   "source": [
    "data_from_sql_query = project_table_db.query(\n",
    "    \"SELECT Node, ZONEID, DISTRICT, geometry \\\n",
    "    FROM nodes_in_zones GROUP BY Node;\")"
   ]
  },
  {
   "cell_type": "markdown",
   "metadata": {},
   "source": [
    "We can then save the results of our SQL query to the 'nodes_zones_districts' table:"
   ]
  },
  {
   "cell_type": "code",
   "execution_count": null,
   "metadata": {
    "collapsed": false,
    "show_input": true
   },
   "outputs": [
    {
     "data": {
      "text/plain": [
       "Table(nodes_zones_districts)"
      ]
     },
     "execution_count": 33,
     "metadata": {},
     "output_type": "execute_result"
    }
   ],
   "source": [
    "project_table_db.create_table(\"nodes_zones_districts\", data_from_sql_query, overwrite=True)"
   ]
  },
  {
   "cell_type": "code",
   "execution_count": null,
   "metadata": {
    "collapsed": true,
    "show_input": true
   },
   "outputs": [],
   "source": [
    "desktop.refresh_data()"
   ]
  },
  {
   "cell_type": "markdown",
   "metadata": {},
   "source": [
    "## Creating a new data table database\n",
    "\n",
    "In order to create a new table database, we will call a new instance of the __`Database()`__ class. `Database` accepts four arguments:\n",
    "* __`db_mode`__ specifies the type of database being created. It can be either `'REGULAR'` or `'SPATIAL'`.\n",
    "* __`filepath`__ is the location to save or access the database file.\n",
    "* __`create`__ (optional) is a boolean flag which must be set to True if the database does not yet exist in the directory (ie, a new database will be created).\n",
    "* __`overwrite`__ (optional) creates the new database even if it already exists in the directory (the file will be overwritten with a blank database).\n",
    "\n",
    "The code below will create a new spatial database named `'test_database.db'` in the current project directory, and overwrite the file if a database of that name already exists:"
   ]
  },
  {
   "cell_type": "code",
   "execution_count": null,
   "metadata": {
    "collapsed": false,
    "show_input": true
   },
   "outputs": [],
   "source": [
    "table_db_file = os.path.join(project_path, \"test_database.db\")\n",
    "my_table_db = _dt.Database(\"SPATIAL\", table_db_file, create=True, overwrite=True)"
   ]
  },
  {
   "cell_type": "markdown",
   "metadata": {},
   "source": [
    "We can now create new tables in the table database using the __`create_table()`__ method.\n",
    "\n",
    "The following will get data from the _Zones in partitions_ table and then save the result as a new data table."
   ]
  },
  {
   "cell_type": "code",
   "execution_count": null,
   "metadata": {
    "collapsed": false,
    "show_input": true
   },
   "outputs": [
    {
     "data": {
      "text/plain": [
       "Table(Winnipeg partitions)"
      ]
     },
     "execution_count": 36,
     "metadata": {},
     "output_type": "execute_result"
    }
   ],
   "source": [
    "# open a network table and get it's data\n",
    "table_item = root_ws_f.find_item([\"General\", \"Matrices\", \"Zones in partitions\"])\n",
    "zone_table = table_item.open()\n",
    "zone_table_data = zone_table.get_data()\n",
    "# add table and it's data to a another table database\n",
    "my_table_db.create_table(\"Winnipeg partitions\", zone_table_data)\n",
    "#zone_table.close()"
   ]
  },
  {
   "cell_type": "markdown",
   "metadata": {},
   "source": [
    "Similarly, it is possible to copy a data table from one data table database to another.\n",
    "Here we copy the data table `'nodes_in_zones'` from the projet data table database to the new `'test_database.db'`:"
   ]
  },
  {
   "cell_type": "code",
   "execution_count": null,
   "metadata": {
    "collapsed": false,
    "show_input": true
   },
   "outputs": [
    {
     "data": {
      "text/plain": [
       "Table(Nodes in zones)"
      ]
     },
     "execution_count": 37,
     "metadata": {},
     "output_type": "execute_result"
    }
   ],
   "source": [
    "nodes_in_zones = project_table_db.table(\"nodes_in_zones\")\n",
    "nodes_in_zones_data = nodes_in_zones.get_data()\n",
    "my_table_db.create_table(\"Nodes in zones\", nodes_in_zones_data)\n",
    "#my_table_db.close()"
   ]
  },
  {
   "cell_type": "markdown",
   "metadata": {},
   "source": [
    "We can remove tables from a database using __`delete_table()`__.\n",
    "Here we will remove the data table `'nodes_in_zones'` from the projet data table database:"
   ]
  },
  {
   "cell_type": "code",
   "execution_count": null,
   "metadata": {
    "collapsed": false,
    "show_input": true
   },
   "outputs": [],
   "source": [
    "project_table_db.delete_table(\"nodes_in_zones\")"
   ]
  },
  {
   "cell_type": "markdown",
   "metadata": {},
   "source": [
    "##Conclusion\n",
    "\n",
    "This concludes the Data Table API Guide. For a detailed breakdown of all available functions and their signatures, please consult the Data Table API section in the Emme API Reference."
   ]
  }
 ],
 "metadata": {
  "kernelspec": {
   "display_name": "Python 2",
   "language": "python",
   "name": "python2"
  },
  "language_info": {
   "codemirror_mode": {
    "name": "ipython",
    "version": 2
   },
   "file_extension": ".py",
   "mimetype": "text/x-python",
   "name": "python",
   "nbconvert_exporter": "python",
   "pygments_lexer": "ipython2",
   "version": "2.7.14"
  }
 },
 "nbformat": 4,
 "nbformat_minor": 0
}
