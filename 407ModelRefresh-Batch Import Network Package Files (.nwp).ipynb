{
 "cells": [
  {
   "cell_type": "markdown",
   "metadata": {},
   "source": [
    "## Batch Import Network Package Files (.nwp)\n",
    "#### This code is used to batch in network package files from completed model runs\n",
    "The .nwp file format is used by TMG and loads an entire network and its results by loading in all the modes, vehicles, netowrk base, network link shapes (vertices), transit lines, netowrk turns, and custom attributes. These are typically exported form a completed model run, or when a network has been coded and is being exported to be run.\n",
    "\n",
    "This script essentially just saves clicks by importing them in batches, as modeller can be laggy and this reduces the import effort, especially when importing many files at once.\n",
    "\n",
    "#### Peter's note\n",
    "I also added deleting at the bottom. Note that this is written for Peter, by Peter - please review before using it - no guarantees :)"
   ]
  },
  {
   "cell_type": "markdown",
   "metadata": {},
   "source": [
    "### Import tools and dependancies\n",
    "No need to change."
   ]
  },
  {
   "cell_type": "code",
   "execution_count": 12,
   "metadata": {
    "show_input": true
   },
   "outputs": [],
   "source": [
    "import inro.modeller as m\n",
    "import os\n",
    "import glob\n",
    "mm = m.Modeller()\n",
    "eb = mm.emmebank\n",
    "\n",
    "import_nwp = mm.tool('tmg.input_output.import_network_package')"
   ]
  },
  {
   "cell_type": "markdown",
   "metadata": {},
   "source": [
    "### Define the function\n",
    "No need to change."
   ]
  },
  {
   "cell_type": "code",
   "execution_count": 10,
   "metadata": {},
   "outputs": [],
   "source": [
    "def import_all_nwp(folder, files, numbers, names):\n",
    "    if len(files) != len(names):\n",
    "        raise ValueError('List of files must be same length as list of names')\n",
    "    for i in range(len(files)):\n",
    "        import_nwp(\n",
    "            NetworkPackageFile = os.path.join(folder, files[i]),\n",
    "            ScenarioId = numbers[i],\n",
    "            ConflictOption = True,\n",
    "            AddFunction = True,\n",
    "            ScenarioName = names[i]\n",
    "        )\n",
    "        print('imported %s to %s' %(files[i], numbers[i]))"
   ]
  },
  {
   "cell_type": "markdown",
   "metadata": {},
   "source": [
    "### User inputs and Call Function\n",
    "Change the lists and filepath."
   ]
  },
  {
   "cell_type": "code",
   "execution_count": 11,
   "metadata": {},
   "outputs": [
    {
     "name": "stdout",
     "output_type": "stream",
     "text": [
      "imported AMRoad.nwp to 20411\n",
      "imported PMRoad.nwp to 20412\n"
     ]
    }
   ],
   "source": [
    "# filepath of the folder in which your network packs are located\n",
    "folder = r'C:\\Users\\PECHEN\\Documents\\XTMF\\Projects\\407 Model Update\\407 Model - Full - 2041 - HighDA - 20220122\\AssignedNetworks'\n",
    "# list of filenames of the network packs you want to import\n",
    "files = ['AMRoad.nwp', 'PMRoad.nwp']\n",
    "# list of scenario numbers you want to import these packs as\n",
    "numbers = [20411, 20412]\n",
    "# list of scenario names you want to import these packs as\n",
    "names = ['2041 High DA Run - AM Results', '2041 High DA Run - PM Results']\n",
    "\n",
    "### Call Function\n",
    "import_all_nwp(folder, files, numbers, names)"
   ]
  },
  {
   "cell_type": "markdown",
   "metadata": {},
   "source": [
    "#### Delete Scenarios"
   ]
  },
  {
   "cell_type": "code",
   "execution_count": 17,
   "metadata": {},
   "outputs": [],
   "source": [
    "delete_scen = m.Modeller().tool('inro.emme.data.scenario.delete_scenario')\n",
    "def delete_scens(scens):\n",
    "    for i in range(len(scens)):\n",
    "        scen = eb.scenario(scens[i])\n",
    "        delete_scen(scen)\n",
    "        print('deleted %s' %scens[i])"
   ]
  },
  {
   "cell_type": "code",
   "execution_count": 19,
   "metadata": {},
   "outputs": [],
   "source": [
    "# list of scenario numbers you want to delete from the emmebank\n",
    "scens = [34, 35, 36]\n",
    "\n",
    "### Call Function\n",
    "delete_scens(scens)"
   ]
  }
 ],
 "metadata": {
  "kernelspec": {
   "display_name": "Python 2",
   "language": "python",
   "name": "python2"
  },
  "language_info": {
   "codemirror_mode": {
    "name": "ipython",
    "version": 2
   },
   "file_extension": ".py",
   "mimetype": "text/x-python",
   "name": "python",
   "nbconvert_exporter": "python",
   "pygments_lexer": "ipython2",
   "version": "2.7.14"
  },
  "modeller": {
   "desktop_app_port": "4242"
  }
 },
 "nbformat": 4,
 "nbformat_minor": 2
}
