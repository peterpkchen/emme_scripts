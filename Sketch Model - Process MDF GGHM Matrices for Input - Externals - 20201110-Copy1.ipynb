{
 "cells": [
  {
   "cell_type": "code",
   "execution_count": 1,
   "metadata": {
    "code_folding": [
     0
    ],
    "collapsed": true,
    "show_input": true
   },
   "outputs": [],
   "source": [
    "import os\n",
    "import glob\n",
    "import inro.modeller as m\n",
    "import inro.emme.matrix as _matrix\n",
    "import numpy as np\n",
    "import pandas as pd\n",
    "mm = m.Modeller()    \n",
    "change_matrix = m.Modeller().tool(\"inro.emme.data.matrix.change_matrix_properties\") \n",
    "import_matrices = mm.tool(\"tmg.input_output.import_binary_matrix\")\n",
    "create_matrix =  m.Modeller().tool(\"inro.emme.data.matrix.create_matrix\")\n",
    "matrix_calculator = m.Modeller().tool(\"inro.emme.matrix_calculation.matrix_calculator\")\n",
    "eb = mm.emmebank"
   ]
  },
  {
   "cell_type": "code",
   "execution_count": 2,
   "metadata": {
    "collapsed": false,
    "show_input": true
   },
   "outputs": [],
   "source": [
    "scen_bau = 404\n",
    "\n",
    "# scenario_2011 = 101\n",
    "# scenario_2016 = 109\n",
    "# scenario_2041 = 114\n",
    "\n",
    "# ntwk_2011 = eb.scenario(scenario_2011).get_network()\n",
    "# ntwk_2016 = eb.scenario(scenario_2016).get_network()\n",
    "# ntwk_2041 = eb.scenario(scenario_2041).get_network()\n",
    "            "
   ]
  },
  {
   "cell_type": "code",
   "execution_count": 3,
   "metadata": {
    "code_folding": [],
    "collapsed": false,
    "show_input": true
   },
   "outputs": [],
   "source": [
    "### IMPORT ALL MATRICES IN SUBFOLDERS ###\n",
    "def clear_matrices(emmebank, exception_array = [\"\"], type = \"FULL\"):\n",
    "    for matrix in emmebank.matrices():\n",
    "        if matrix.type == type:\n",
    "            if matrix.id not in exception_array:\n",
    "                emmebank.delete_matrix(matrix.id)\n",
    "def import_matrices_from_directory(matrix_folder, matrix_list, extension, scenario):\n",
    "    #imports all matrices in directory and subfolders of the specified extension type\n",
    "    #matrix_list should be in the format:\n",
    "    #   {file_name1: matrix_num1, file_name2: matrix_num2, ...}\n",
    "    import os\n",
    "\n",
    "    for root, dirs, files in os.walk(matrix_folder):\n",
    "        for matrix_file in files:\n",
    "            if matrix_file.endswith(extension):\n",
    "                name = os.path.splitext(matrix_file)[0]\n",
    "                if name in matrix_list:\n",
    "                    matrix_number = int(matrix_list[name][2:])\n",
    "                    import_matrices(4, matrix_number ,os.path.join(root, matrix_file),scenario, name.replace(\"skim.\",\"\").replace(\"transit.\",\"\").replace(\"peak\",\"pk\").replace(\" \",\"_\") )\n",
    "                    print \"Imported matrix \" + matrix_list[name]\n",
    "                    change_matrix(matrix = matrix_list[name],\n",
    "                        matrix_name = name.replace(\"skim.\",\"\").replace(\"transit.\",\"\").replace(\"peak\",\"pk\").replace(\" \",\"_\")[:40],\n",
    "                        matrix_description = name)\n",
    "    \n",
    "    #check\n",
    "    for name in matrix_list:\n",
    "        if eb.matrix(matrix_list[name]): \n",
    "            n_matrix = eb.matrix(matrix_list[name]).get_numpy_data(scenario)\n",
    "            if n_matrix.sum() == 0 :\n",
    "                print \"Matrix %s was not imported, or contains no values!\" % name\n",
    "        else:\n",
    "            print \"Matrix %s was not imported!\" % name\n",
    "    print \"Finished Importing Matrices\""
   ]
  },
  {
   "cell_type": "code",
   "execution_count": 4,
   "metadata": {
    "collapsed": true,
    "show_input": true
   },
   "outputs": [],
   "source": [
    "#Matrix naming for inputs\n",
    "\n",
    "# peak period - 7 hrs\n",
    "sov_demand_pk = \"TRIPS SOV peak\"\n",
    "hov2_demand_pk = \"TRIPS HOV2 peak\"\n",
    "hov3_demand_pk = \"TRIPS HOV3 peak\"\n",
    "bike_demand_pk = \"TRIPS BIKE peak\"\n",
    "walk_demand_pk = \"TRIPS WALK peak\"\n",
    "transit_demand_pk = \"TRIPS TOTAL TRANSIT peak\"\n",
    "\n",
    "sov_demand_offpk = \"TRIPS SOV offpeak\"\n",
    "hov2_demand_offpk = \"TRIPS HOV2 offpeak\"\n",
    "hov3_demand_offpk = \"TRIPS HOV3 offpeak\"\n",
    "bike_demand_offpk = \"TRIPS BIKE offpeak\"\n",
    "walk_demand_offpk = \"TRIPS WALK offpeak\"\n",
    "transit_demand_offpk = \"TRIPS TOTAL TRANSIT offpeak\""
   ]
  },
  {
   "cell_type": "code",
   "execution_count": 5,
   "metadata": {
    "code_folding": [],
    "collapsed": false,
    "scrolled": true,
    "show_input": true
   },
   "outputs": [
    {
     "name": "stdout",
     "output_type": "stream",
     "text": [
      "TRIPS HOV3 offpeak\n",
      "TRIPS SOV peak\n",
      "TRIPS HOV2 offpeak\n",
      "TRIPS HOV3 peak\n",
      "TRIPS SOV offpeak\n",
      "TRIPS HOV2 peak\n",
      "Imported matrix mf3\n",
      "Imported matrix mf7\n",
      "Imported matrix mf1\n",
      "Imported matrix mf4\n",
      "Imported matrix mf5\n",
      "Imported matrix mf2\n",
      "Finished Importing Matrices\n"
     ]
    }
   ],
   "source": [
    "#import all matrices from run output folder\n",
    "hov2_oc = 2.2\n",
    "hov3_oc = 3.3\n",
    "#Delete all matrices\n",
    "hdr_bau_peak = \"mf160\"\n",
    "hdr_bau_offpeak = \"mf170\"\n",
    "local_transit_fare = \"mf180\"\n",
    "transit_aux_time = \"mf6\"\n",
    "truck_cost = \"mf190\"\n",
    "\n",
    "matrix_folder = r\"\\\\tore-infs01\\PWExternal\\451010\\281829_GGH\\GGHM Runs\\2051\\Short List\\BAU\\BAU_ShortList_APTG_2051_GGH_MTP_V106A3_CS222_20201127\"\n",
    "#scenario compatible with truck matrices\n",
    "truck_scen = 401\n",
    "scen_num = 404\n",
    "\n",
    "clear_matrices(eb,[hdr_bau_peak, hdr_bau_offpeak,local_transit_fare,transit_aux_time,truck_cost],\"FULL\")\n",
    "\n",
    "matrix_list = {\n",
    "    sov_demand_pk : \"\",\n",
    "    hov2_demand_pk: \"\",\n",
    "    hov3_demand_pk : \"\",\n",
    "    sov_demand_offpk : \"\",\n",
    "    hov2_demand_offpk : \"\",\n",
    "    hov3_demand_offpk : \"\"}\n",
    "\n",
    "for matrix_name in matrix_list.keys():\n",
    "    matrix_list[matrix_name] = eb.available_matrix_identifier('FULL')\n",
    "    print matrix_name\n",
    "    create_matrix(matrix_id = matrix_list[matrix_name],\n",
    "                  matrix_name= matrix_name.replace(\"skim.\",\"\").replace(\"transit.\",\"\").replace(\"peak\",\"pk\").replace(\" \",\"_\").strip()[:40],\n",
    "                  matrix_description = matrix_name)\n",
    "import_matrices_from_directory(matrix_folder, matrix_list, \".mdf\",scen_bau)"
   ]
  },
  {
   "cell_type": "code",
   "execution_count": 6,
   "metadata": {
    "collapsed": false,
    "show_input": true
   },
   "outputs": [
    {
     "data": {
      "text/plain": [
       "{'average': 1.788957,\n",
       " 'expression_type': 'FULL',\n",
       " 'maximum': 14811.035156,\n",
       " 'maximum_at': {'destination': 8885, 'origin': 8885},\n",
       " 'minimum': 0.0,\n",
       " 'minimum_at': {'destination': 1034, 'origin': 1001},\n",
       " 'num_evaluations': 12327121,\n",
       " 'result_type': 'FULL',\n",
       " 'sum': 22052696.0}"
      ]
     },
     "execution_count": 6,
     "metadata": {},
     "output_type": "execute_result"
    }
   ],
   "source": [
    "#Calculate demand matrices\n",
    "\n",
    "hov_dem_pk = eb.available_matrix_identifier('FULL')\n",
    "create_matrix(matrix_id = hov_dem_pk,\n",
    "              matrix_name=\"trips.peak.hov\",\n",
    "            matrix_description = \"trips.peak.hov\")\n",
    "exp = matrix_list[hov2_demand_pk] + \"/\" + str(hov2_oc) + \"+\" + matrix_list[hov3_demand_pk] + \"/\" + str(hov3_oc)\n",
    "\n",
    "spec = {\n",
    "    \"type\": \"MATRIX_CALCULATION\",\n",
    "    \"result\": hov_dem_pk,\n",
    "    \"expression\": exp\n",
    "}\n",
    "matrix_calculator(spec)\n",
    "\n",
    "hov_dem_offpk = eb.available_matrix_identifier('FULL')\n",
    "create_matrix(matrix_id = hov_dem_offpk,\n",
    "              matrix_name=\"trips.offpeak.hov\",\n",
    "            matrix_description = \"trips.offpeak.hov\")   \n",
    "exp = matrix_list[hov2_demand_offpk] + \"/\" + str(hov2_oc)+ \"+\" + matrix_list[hov3_demand_offpk]+ \"/\" + str(hov3_oc)\n",
    "spec = {\n",
    "    \"type\": \"MATRIX_CALCULATION\",\n",
    "    \"result\": hov_dem_offpk,\n",
    "    \"expression\": exp\n",
    "}\n",
    "matrix_calculator(spec)\n",
    "\n",
    "dem_pk = eb.available_matrix_identifier('FULL')\n",
    "create_matrix(matrix_id =dem_pk,\n",
    "              matrix_name=\"trips.total\",\n",
    "            matrix_description = \"trips.total\")\n",
    "\n",
    "exp = matrix_list[sov_demand_pk] + \"+\" + matrix_list[sov_demand_offpk] + \"+\" + hov_dem_offpk + \"+\" + hov_dem_pk\n",
    "\n",
    "spec = {\n",
    "    \"type\": \"MATRIX_CALCULATION\",\n",
    "    \"result\": dem_pk,\n",
    "    \"expression\": exp\n",
    "}\n",
    "matrix_calculator(spec)"
   ]
  },
  {
   "cell_type": "code",
   "execution_count": 7,
   "metadata": {
    "collapsed": false,
    "show_input": true
   },
   "outputs": [],
   "source": [
    "indices = eb.matrix(dem_pk).get_data(scen_bau).indices\n",
    "mat_np = eb.matrix(dem_pk).get_numpy_data(scen_bau)\n",
    "df_full = pd.DataFrame(mat_np,indices[0],indices[1]).stack().reset_index().rename(columns = {\"level_0\": \"O\",\n",
    "                                                                                           \"level_1\": \"D\",\n",
    "                                                                                          0: \"dem_pk\"})"
   ]
  },
  {
   "cell_type": "code",
   "execution_count": 8,
   "metadata": {
    "collapsed": false,
    "show_input": true
   },
   "outputs": [
    {
     "data": {
      "text/plain": [
       "Index([u'O', u'D', u'dem_pk'], dtype='object')"
      ]
     },
     "execution_count": 8,
     "metadata": {},
     "output_type": "execute_result"
    }
   ],
   "source": [
    "df_full.columns"
   ]
  },
  {
   "cell_type": "code",
   "execution_count": 9,
   "metadata": {
    "collapsed": false,
    "show_input": true
   },
   "outputs": [],
   "source": [
    "pth = r\"C:\\Users\\PECHEN\\Documents\\Sketch Modelling\"\n",
    "megazones_df = pd.read_csv(os.path.join(pth,\"TAZ_SketchModelZones_20201110.csv\"))\n",
    "df_int_ext = df_full[((df_full.O <= 9504) & (df_full.D <= 9504))]\n",
    "df_int_ext = df_int_ext.merge(megazones_df, left_on = \"O\", right_on = \"TAZ\").drop(labels = \"TAZ\",axis = 1).rename(columns = {\"Megazone\": \"Megazone_O\"})\n",
    "df_int_ext = df_int_ext.merge(megazones_df, left_on = \"D\", right_on = \"TAZ\").drop(labels = \"TAZ\",axis = 1).rename(columns = {\"Megazone\": \"Megazone_D\"})"
   ]
  },
  {
   "cell_type": "code",
   "execution_count": 10,
   "metadata": {
    "collapsed": false,
    "show_input": true
   },
   "outputs": [
    {
     "data": {
      "text/plain": [
       "Index([u'O', u'D', u'dem_pk', u'Megazone_O', u'Megazone_D'], dtype='object')"
      ]
     },
     "execution_count": 10,
     "metadata": {},
     "output_type": "execute_result"
    }
   ],
   "source": [
    "df_int_ext.columns"
   ]
  },
  {
   "cell_type": "code",
   "execution_count": 11,
   "metadata": {
    "collapsed": false,
    "show_input": true
   },
   "outputs": [],
   "source": [
    "megazone_df = pd.pivot_table(df_int_ext,values = \"dem_pk\", index = [\"Megazone_O\",\"Megazone_D\"],aggfunc = sum).reset_index()"
   ]
  },
  {
   "cell_type": "code",
   "execution_count": 12,
   "metadata": {
    "collapsed": false,
    "show_input": true
   },
   "outputs": [
    {
     "data": {
      "text/plain": [
       "0.0"
      ]
     },
     "execution_count": 12,
     "metadata": {},
     "output_type": "execute_result"
    }
   ],
   "source": [
    "megazone_df[(megazone_df.Megazone_O == \"Extl West\") | (megazone_df.Megazone_O == \"Extl North\") | (megazone_df.Megazone_O == \"Extl South\")| (megazone_df.Megazone_O == \"Extl East\")|(megazone_df.Megazone_D == \"Extl West\") | (megazone_df.Megazone_D == \"Extl North\") | (megazone_df.Megazone_D == \"Extl South\")| (megazone_df.Megazone_D == \"Extl East\")][\"dem_pk\"].sum()"
   ]
  },
  {
   "cell_type": "code",
   "execution_count": 13,
   "metadata": {
    "collapsed": true,
    "show_input": true
   },
   "outputs": [],
   "source": [
    "megazone_df[(megazone_df.Megazone_O == \"Extl West\") | (megazone_df.Megazone_O == \"Extl North\") | (megazone_df.Megazone_O == \"Extl South\")| (megazone_df.Megazone_O == \"Extl East\")|(megazone_df.Megazone_D == \"Extl West\") | (megazone_df.Megazone_D == \"Extl North\") | (megazone_df.Megazone_D == \"Extl South\")| (megazone_df.Megazone_D == \"Extl East\")].to_csv(os.path.join(pth,\"Megazone_External_OD_2051BAU_20201110.csv\"))"
   ]
  },
  {
   "cell_type": "code",
   "execution_count": 14,
   "metadata": {
    "collapsed": true,
    "show_input": true
   },
   "outputs": [],
   "source": [
    "megazone_df.to_csv(os.path.join(pth,\"Megazone_External_OD_2051BAU_20210205.csv\"))"
   ]
  }
 ],
 "metadata": {
  "kernelspec": {
   "display_name": "Python 2",
   "language": "python",
   "name": "python2"
  },
  "language_info": {
   "codemirror_mode": {
    "name": "ipython",
    "version": 2
   },
   "file_extension": ".py",
   "mimetype": "text/x-python",
   "name": "python",
   "nbconvert_exporter": "python",
   "pygments_lexer": "ipython2",
   "version": "2.7.14"
  }
 },
 "nbformat": 4,
 "nbformat_minor": 0
}
