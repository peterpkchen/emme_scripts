{
 "cells": [
  {
   "cell_type": "code",
   "execution_count": 2,
   "metadata": {
    "show_input": true
   },
   "outputs": [],
   "source": [
    "import inro.modeller as m\n",
    "import csv\n",
    "mm = m.Modeller()\n",
    "eb = m.Modeller().emmebank\n",
    "scenario = eb.scenario(1)\n",
    "network = scenario.get_network()\n",
    "matrix_id = \"mf12\""
   ]
  },
  {
   "cell_type": "code",
   "execution_count": 82,
   "metadata": {
    "show_input": true
   },
   "outputs": [
    {
     "name": "stdout",
     "output_type": "stream",
     "text": [
      "['1', '2', '3', '4', '1401', '1402', '1501', '1502', '1503', '1601', '1602', '1801', '1802', '1803', '1804', '1805', '1806', '1807', '1808', '1809', '1810', '1811', '1812', '1813', '1814', '1815', '1901', '1902', '1903', '1904', '1905', '1906', '1907', '1908', '1909', '1910', '1911', '1912', '1913', '1914', '1915', '1916', '1917', '2002', '2003', '2004', '2005', '2006', '2007', '2101', '2102', '2103', '2104', '2106', '2107', '2108', '2201', '2202', '2301', '2302', '2303', '2304', '2305', '2401', '2402', '2403', '2404', '2405', '2406', '2407', '2408', '2409', '2501', '2502', '2503', '2504', '2601', '2602', '2603', '2604', '2605', '2606', '2607', '2801', '2901', '2902', '3001', '3002', '3003', '3004', '4301', '4302', '4303', '4304', '4305', '4306', '4307', '4308', '15021', '18011', '18081', '19021', '19061', '19081', '19121', '20011', '20021', '20031', '20061', '20071', '21031', '21061', '23021', '24021', '24041', '24051', '25021', '26071', '29021', '30021', '30031', '30032', '43061']\n"
     ]
    }
   ],
   "source": [
    "#convert megazone demand csv file to representative zone csv file, for EMME assigment\n",
    "import numpy\n",
    "sourcefile = \"C:\\Users\\mnasterska\\Documents\\Projects\\GGH\\SketchInputs\\AutoDemand.csv\"\n",
    "destfile = \"C:\\Users\\mnasterska\\Documents\\Projects\\GGH\\SketchInputs\\AutoDemand2.csv\"\n",
    "mapfile = \"C:\\Users\\mnasterska\\Documents\\Projects\\GGH\\SketchInputs\\RepresentativeZone.csv\"\n",
    "\n",
    "\n",
    "\n",
    "repmap ={}\n",
    "indexmap={}\n",
    "origins = eb.matrix(matrix_id).get_data().indices[0]\n",
    "destinations = eb.matrix(matrix_id).get_data().indices[1]\n",
    "\n",
    "#create index map TODO: separate for origins and destinations?\n",
    "for index in range(len(origins)):\n",
    "    indexmap[origins[index]]= index+1\n",
    "\n",
    "matrix = [[0.0 for r in range(len(destinations)+1)]for c in range(len(origins)+1)]\n",
    "\n",
    "matrix[0][0] = 'p/q/[val]'\n",
    "\n",
    "for index in range(len(origins)):\n",
    "    matrix[0][index+1] = origins[index]\n",
    "for index in range(len(destinations)):\n",
    "    matrix[index+1][0] = destinations[index]\n",
    "\n",
    "#get representative zone mapping\n",
    "with open(mapfile,\"r\") as mapf:\n",
    "    lines = mapf.readlines()\n",
    "    for line in lines:\n",
    "        Curline = line.rstrip(\"\\n\").split(\",\")\n",
    "        MegaZone = Curline[1]\n",
    "        repmap[MegaZone] = Curline[0]\n",
    "\n",
    "#get megazone demand\n",
    "with open (sourcefile,\"r\") as demandf:\n",
    "    header = demandf.readline()[1:].rstrip(\"\\n\").split(\",\")\n",
    "    lines = demandf.readlines()\n",
    "    for line in lines:\n",
    "        Curline = line.rstrip(\"\\n\").split(\",\")\n",
    "        origin = Curline[0]\n",
    "        for index in range(len(Curline[1:])):\n",
    "            matrix[indexmap[int(repmap[origin])]][indexmap[int(repmap[header[index]])]] = Curline[index+1]\n",
    "  "
   ]
  },
  {
   "cell_type": "code",
   "execution_count": 83,
   "metadata": {
    "show_input": true
   },
   "outputs": [],
   "source": [
    "\n",
    "#export to csv\n",
    "with open(destfile,\"wb\") as csvfile:\n",
    "    csvwriter = csv.writer(csvfile, delimiter = \",\", quoting = csv.QUOTE_MINIMAL)\n",
    "    for row in matrix:\n",
    "        csvwriter.writerow(row)\n",
    "\n",
    "#import csv matrix into emme\n",
    "import_csv_matrix =  m.Modeller().tool(\"inro.emme.data.matrix.import_matrix_from_csv\")\n",
    "import_csv_matrix(matrix = eb.matrix(\"mf12\"),\n",
    "                  file_path = destfile,\n",
    "                  scenario = scenario)\n",
    "                  "
   ]
  },
  {
   "cell_type": "code",
   "execution_count": 4,
   "metadata": {
    "show_input": true
   },
   "outputs": [
    {
     "data": {
      "text/plain": [
       "Scenario(4)"
      ]
     },
     "execution_count": 4,
     "metadata": {},
     "output_type": "execute_result"
    }
   ],
   "source": [
    "#Auto Assignment - unconstrained\n",
    "#create copy of network, \n",
    "copy_scenario =  m.Modeller().tool(\"inro.emme.data.scenario.copy_scenario\")\n",
    "copy_scenario(from_scenario = eb.scenario(1), \n",
    "              scenario_id = 4, \n",
    "              scenario_title = \"Unconstrained Auto Assignment\",\n",
    "             overwrite = True)\n",
    " \n"
   ]
  },
  {
   "cell_type": "code",
   "execution_count": 8,
   "metadata": {
    "show_input": true
   },
   "outputs": [],
   "source": [
    "#change VDFs to free-flow,\n",
    "scenario = eb.scenario(4)\n",
    "network = scenario.get_network()\n",
    "\n",
    "for link in network.links():\n",
    "    if link.volume_delay_func != 0:\n",
    "        link.volume_delay_func = 90\n",
    "\n",
    "scenario.publish_network(network)"
   ]
  },
  {
   "cell_type": "code",
   "execution_count": 9,
   "metadata": {
    "show_input": true
   },
   "outputs": [
    {
     "ename": "Error",
     "evalue": "One or more extra function parameters are not valid",
     "output_type": "error",
     "traceback": [
      "\u001b[1;31m---------------------------------------------------------------------------\u001b[0m",
      "\u001b[1;31mError\u001b[0m                                     Traceback (most recent call last)",
      "\u001b[1;32m<ipython-input-9-ebb4f19fe751>\u001b[0m in \u001b[0;36m<module>\u001b[1;34m()\u001b[0m\n\u001b[0;32m     30\u001b[0m }    \n\u001b[0;32m     31\u001b[0m \u001b[0mauto_assign\u001b[0m \u001b[1;33m=\u001b[0m  \u001b[0mm\u001b[0m\u001b[1;33m.\u001b[0m\u001b[0mModeller\u001b[0m\u001b[1;33m(\u001b[0m\u001b[1;33m)\u001b[0m\u001b[1;33m.\u001b[0m\u001b[0mtool\u001b[0m\u001b[1;33m(\u001b[0m\u001b[1;34m\"inro.emme.traffic_assignment.standard_traffic_assignment\"\u001b[0m\u001b[1;33m)\u001b[0m\u001b[1;33m\u001b[0m\u001b[0m\n\u001b[1;32m---> 32\u001b[1;33m \u001b[0mauto_assign\u001b[0m\u001b[1;33m(\u001b[0m\u001b[0mscenario\u001b[0m \u001b[1;33m=\u001b[0m \u001b[0mscenario\u001b[0m\u001b[1;33m,\u001b[0m \u001b[0mspecification\u001b[0m \u001b[1;33m=\u001b[0m \u001b[0mspec\u001b[0m\u001b[1;33m)\u001b[0m\u001b[1;33m\u001b[0m\u001b[0m\n\u001b[0m",
      "\u001b[1;32mC:\\Program Files\\INRO\\Emme\\Emme 4\\Emme-4.2.4\\python-lib\\win64\\2.7\\modeller\\inro.director.logging\\inro\\director\\logging\\trail.pyc\u001b[0m in \u001b[0;36m__trace\u001b[1;34m(*args, **kwargs)\u001b[0m\n",
      "\u001b[1;32mC:/Users/MNASTE~1/AppData/Local/Temp/standard_traffic_assignment-5ba2b72144b111e7950d480fcf3ca1bf.pyc\u001b[0m in \u001b[0;36m__call__\u001b[1;34m(self, specification, scenario, chart_log_interval)\u001b[0m\n",
      "\u001b[1;32mC:\\Program Files\\INRO\\Emme\\Emme 4\\Emme-4.2.4\\python-lib\\win64\\2.7\\api\\inro\\emme\\procedure\\__init__.pyc\u001b[0m in \u001b[0;36mrun\u001b[1;34m(self)\u001b[0m\n",
      "\u001b[1;32mC:\\Program Files\\INRO\\Emme\\Emme 4\\Emme-4.2.4\\python-lib\\win64\\2.7\\api\\inro\\emme\\procedure\\standardtrafficassignment.pyc\u001b[0m in \u001b[0;36m_run\u001b[1;34m(self)\u001b[0m\n",
      "\u001b[1;32mC:\\Program Files\\INRO\\Emme\\Emme 4\\Emme-4.2.4\\Python27\\lib\\contextlib.py\u001b[0m in \u001b[0;36m__exit__\u001b[1;34m(self, type, value, traceback)\u001b[0m\n\u001b[0;32m     33\u001b[0m                 \u001b[0mvalue\u001b[0m \u001b[1;33m=\u001b[0m \u001b[0mtype\u001b[0m\u001b[1;33m(\u001b[0m\u001b[1;33m)\u001b[0m\u001b[1;33m\u001b[0m\u001b[0m\n\u001b[0;32m     34\u001b[0m             \u001b[1;32mtry\u001b[0m\u001b[1;33m:\u001b[0m\u001b[1;33m\u001b[0m\u001b[0m\n\u001b[1;32m---> 35\u001b[1;33m                 \u001b[0mself\u001b[0m\u001b[1;33m.\u001b[0m\u001b[0mgen\u001b[0m\u001b[1;33m.\u001b[0m\u001b[0mthrow\u001b[0m\u001b[1;33m(\u001b[0m\u001b[0mtype\u001b[0m\u001b[1;33m,\u001b[0m \u001b[0mvalue\u001b[0m\u001b[1;33m,\u001b[0m \u001b[0mtraceback\u001b[0m\u001b[1;33m)\u001b[0m\u001b[1;33m\u001b[0m\u001b[0m\n\u001b[0m\u001b[0;32m     36\u001b[0m                 \u001b[1;32mraise\u001b[0m \u001b[0mRuntimeError\u001b[0m\u001b[1;33m(\u001b[0m\u001b[1;34m\"generator didn't stop after throw()\"\u001b[0m\u001b[1;33m)\u001b[0m\u001b[1;33m\u001b[0m\u001b[0m\n\u001b[0;32m     37\u001b[0m             \u001b[1;32mexcept\u001b[0m \u001b[0mStopIteration\u001b[0m\u001b[1;33m,\u001b[0m \u001b[0mexc\u001b[0m\u001b[1;33m:\u001b[0m\u001b[1;33m\u001b[0m\u001b[0m\n",
      "\u001b[1;32mC:\\Program Files\\INRO\\Emme\\Emme 4\\Emme-4.2.4\\python-lib\\win64\\2.7\\api\\inro\\emme\\procedure\\__init__.pyc\u001b[0m in \u001b[0;36m_subprocess_run_macro_context\u001b[1;34m(self, macro)\u001b[0m\n",
      "\u001b[1;32mC:\\Program Files\\INRO\\Emme\\Emme 4\\Emme-4.2.4\\Python27\\lib\\contextlib.py\u001b[0m in \u001b[0;36m__exit__\u001b[1;34m(self, type, value, traceback)\u001b[0m\n\u001b[0;32m     33\u001b[0m                 \u001b[0mvalue\u001b[0m \u001b[1;33m=\u001b[0m \u001b[0mtype\u001b[0m\u001b[1;33m(\u001b[0m\u001b[1;33m)\u001b[0m\u001b[1;33m\u001b[0m\u001b[0m\n\u001b[0;32m     34\u001b[0m             \u001b[1;32mtry\u001b[0m\u001b[1;33m:\u001b[0m\u001b[1;33m\u001b[0m\u001b[0m\n\u001b[1;32m---> 35\u001b[1;33m                 \u001b[0mself\u001b[0m\u001b[1;33m.\u001b[0m\u001b[0mgen\u001b[0m\u001b[1;33m.\u001b[0m\u001b[0mthrow\u001b[0m\u001b[1;33m(\u001b[0m\u001b[0mtype\u001b[0m\u001b[1;33m,\u001b[0m \u001b[0mvalue\u001b[0m\u001b[1;33m,\u001b[0m \u001b[0mtraceback\u001b[0m\u001b[1;33m)\u001b[0m\u001b[1;33m\u001b[0m\u001b[0m\n\u001b[0m\u001b[0;32m     36\u001b[0m                 \u001b[1;32mraise\u001b[0m \u001b[0mRuntimeError\u001b[0m\u001b[1;33m(\u001b[0m\u001b[1;34m\"generator didn't stop after throw()\"\u001b[0m\u001b[1;33m)\u001b[0m\u001b[1;33m\u001b[0m\u001b[0m\n\u001b[0;32m     37\u001b[0m             \u001b[1;32mexcept\u001b[0m \u001b[0mStopIteration\u001b[0m\u001b[1;33m,\u001b[0m \u001b[0mexc\u001b[0m\u001b[1;33m:\u001b[0m\u001b[1;33m\u001b[0m\u001b[0m\n",
      "\u001b[1;32mC:\\Program Files\\INRO\\Emme\\Emme 4\\Emme-4.2.4\\python-lib\\win64\\2.7\\api\\inro\\emme\\procedure\\__init__.pyc\u001b[0m in \u001b[0;36m_handle_procedure_errors\u001b[1;34m(self, macro)\u001b[0m\n",
      "\u001b[1;31mError\u001b[0m: One or more extra function parameters are not valid"
     ]
    }
   ],
   "source": [
    "#run standard assignment\n",
    "spec = {\n",
    "    \"type\": \"STANDARD_TRAFFIC_ASSIGNMENT\",\n",
    "    \"background_traffic\":None,\n",
    "    \"path_analysis\": None,\n",
    "    \"classes\": [ \n",
    "        {\n",
    "            \"mode\": \"c\",\n",
    "            \"demand\": matrix_id,\n",
    "            \"generalized_cost\": None,\n",
    "            \"results\": {\n",
    "                 \"od_travel_times\": {\n",
    "                    \"shortest_paths\": None\n",
    "                },\n",
    "                 \"link_volumes\": None,\n",
    "                 \"turn_volumes\": None\n",
    "            },\n",
    "            \"analysis\": None\n",
    "        }\n",
    "    ],\n",
    "    \"stopping_criteria\": {\n",
    "        \"max_iterations\": 80,\n",
    "        \"best_relative_gap\": 0.0,\n",
    "        \"relative_gap\": 0.01,\n",
    "        \"normalized_gap\": 0.0\n",
    "    },\n",
    "    \"performance_settings\": {\n",
    "        \"number_of_processors\": 5\n",
    "    }\n",
    "}    \n",
    "auto_assign =  m.Modeller().tool(\"inro.emme.traffic_assignment.standard_traffic_assignment\")\n",
    "auto_assign(scenario = scenario, specification = spec)\n"
   ]
  },
  {
   "cell_type": "code",
   "execution_count": null,
   "metadata": {
    "collapsed": true,
    "show_input": true
   },
   "outputs": [],
   "source": []
  }
 ],
 "metadata": {
  "kernelspec": {
   "display_name": "Python 3",
   "language": "python",
   "name": "python3"
  },
  "language_info": {
   "codemirror_mode": {
    "name": "ipython",
    "version": 3
   },
   "file_extension": ".py",
   "mimetype": "text/x-python",
   "name": "python",
   "nbconvert_exporter": "python",
   "pygments_lexer": "ipython3",
   "version": "3.7.10"
  }
 },
 "nbformat": 4,
 "nbformat_minor": 1
}
