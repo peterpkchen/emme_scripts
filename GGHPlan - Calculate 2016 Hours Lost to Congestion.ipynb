{
 "cells": [
  {
   "cell_type": "code",
   "execution_count": 1,
   "metadata": {
    "collapsed": false,
    "show_input": true
   },
   "outputs": [],
   "source": [
    "import inro.modeller as m\n",
    "import os\n",
    "import glob\n",
    "mm = m.Modeller()\n",
    "eb = mm.emmebank\n",
    "import inro.emme.matrix as _matrix\n",
    "import pandas as pd\n",
    "import numpy as np\n",
    "from copy import deepcopy\n",
    "\n",
    "matrix_calculator = m.Modeller().tool(\"inro.emme.matrix_calculation.matrix_calculator\")\n",
    "create_matrix =  m.Modeller().tool(\"inro.emme.data.matrix.create_matrix\")\n",
    "change_matrix = m.Modeller().tool(\"inro.emme.data.matrix.change_matrix_properties\") \n",
    "import_matrices = mm.tool(\"tmg.input_output.import_binary_matrix\")  \n",
    "matrix_transaction = mm.tool('inro.emme.data.matrix.matrix_transaction')\n",
    "create_extra = m.Modeller().tool(\"inro.emme.data.extra_attribute.create_extra_attribute\")\n",
    "network_calc= m.Modeller().tool(\"inro.emme.network_calculation.network_calculator\")\n",
    "\n",
    "def clear_matrices(emmebank, exception_array = [\"\"], type = \"FULL\"):\n",
    "    for matrix in emmebank.matrices():\n",
    "        if matrix.type == type:\n",
    "            if matrix.id not in exception_array:\n",
    "                emmebank.delete_matrix(matrix.id)\n",
    "\n",
    "def import_matrices_from_directory(matrix_folder, matrix_list, extension, scenario):\n",
    "    #imports all matrices in directory and subfolders of the specified extension type\n",
    "    #matrix_list should be in the format:\n",
    "    #   {file_name1: matrix_num1, file_name2: matrix_num2, ...}\n",
    "    import os\n",
    "\n",
    "    for root, dirs, files in os.walk(matrix_folder):\n",
    "        for matrix_file in files:\n",
    "            if matrix_file.endswith(extension):\n",
    "                name = os.path.splitext(matrix_file)[0]\n",
    "                if name in matrix_list:\n",
    "                    matrix_number = int(matrix_list[name][2:])\n",
    "                    import_matrices(4, matrix_number ,os.path.join(root, matrix_file),scenario, name.replace(\"skim.\",\"\").replace(\"transit.\",\"\").replace(\"peak\",\"pk\").replace(\" \",\"_\") )\n",
    "                    print (\"Imported matrix \" + matrix_list[name])\n",
    "                    change_matrix(matrix = matrix_list[name],\n",
    "                        matrix_name = name.replace(\"skim.\",\"\").replace(\"transit.\",\"\").replace(\"peak\",\"pk\").replace(\" \",\"_\")[:40],\n",
    "                        matrix_description = name)\n",
    "    \n",
    "    #check\n",
    "    for name in matrix_list:\n",
    "        if eb.matrix(matrix_list[name]): \n",
    "            n_matrix = eb.matrix(matrix_list[name]).get_numpy_data(scenario)\n",
    "            if n_matrix.sum() == 0 :\n",
    "                print (\"Matrix %s was not imported, or contains no values!\" % name)\n",
    "        else:\n",
    "            print (\"Matrix %s was not imported!\" % name)\n",
    "    print (\"Finished Importing Matrices\")"
   ]
  },
  {
   "cell_type": "code",
   "execution_count": 2,
   "metadata": {
    "collapsed": true,
    "show_input": true
   },
   "outputs": [],
   "source": [
    "sc_num_am = 7000\n",
    "sc_num_md = 7001\n",
    "\n",
    "#auto occupancy\n",
    "sov_oc = 1.2\n",
    "hov2_oc = 2.2\n",
    "hov3_oc = 3.3\n",
    "\n",
    "sc_am = eb.scenario(sc_num_am)\n",
    "sc_md = eb.scenario(sc_num_md)\n",
    "ntwk_am = sc_am.get_network()\n",
    "ntwk_md = sc_md.get_network()\n",
    "ntwks = [ntwk_am, ntwk_md]"
   ]
  },
  {
   "cell_type": "code",
   "execution_count": 3,
   "metadata": {
    "collapsed": false,
    "show_input": true
   },
   "outputs": [],
   "source": [
    "## zone grouping definitions ## \n",
    "zones_pd1 = \"gf1\"\n",
    "zones_airports = \"ga1\"\n",
    "zones_ugc = \"gb4\"\n",
    "zones_inner = \"gc1\"\n",
    "zones_outer = \"gc2\"\n",
    "zones_university = \"gd1\"\n",
    "zones_employment = \"ge1\"\n",
    "zones_hospitals = \"gh1\"\n",
    "shed_central = \"gs10;gs11\"\n",
    "rural_central = \"gs11\"\n",
    "shed_east = \"gs20;gs21\"\n",
    "rural_east = \"gs21\"\n",
    "shed_midwest = \"gs30;gs31\"\n",
    "rural_midwest = \"gs31\"\n",
    "shed_southwest = \"gs40;gs41\"\n",
    "rural_southwest = \"gs41\"\n",
    "shed_west = \"gs50;gs51\"\n",
    "rural_west = \"gs51\"\n",
    "shed_north = \"gs60;gs61\"\n",
    "rural_north = \"gs61\"\n",
    "shed_niagara = \"gs70;gs71\"\n",
    "rural_niagara = \"gs71\"\n",
    "shed_urban = \"gs10;gs20;gs30;gs40;gs50;gs60;gs70\"\n",
    "shed_rural = \"gs11;gs21;gs31;gs41;gs51;gs61;gs71\"\n",
    "urban_lu = \"gb2;gb3;gb4\"\n",
    "\n",
    "zones_array = [\"all\",zones_pd1,shed_central,shed_east,shed_midwest,shed_southwest,shed_west,shed_north,shed_niagara]\n",
    "rural_array = [shed_rural,zones_pd1,rural_central,rural_east,rural_midwest,rural_southwest,rural_west,rural_north,rural_niagara]\n",
    "zones_array_2 = [zones_pd1,shed_central,shed_east,shed_midwest,shed_southwest,shed_west,shed_north,shed_niagara]\n",
    "\n",
    "zones_vkt = [{\"all\":{\"vkt\": 0.0, \"cong_vkt\": 0.0, \"truck_vkt\": 0.0,\"cong_truck_vkt\":0.0, \"cost\":0.0,\n",
    "                \"pht\": 0.0, \"ff_pht\":0.0, \"trk_pht\":0.0,\"ff_trk_pht\":0.0,\"bridges\":0.0},\n",
    "         zones_pd1:{\"vkt\": 0.0, \"cong_vkt\": 0.0, \"truck_vkt\": 0.0,\"cong_truck_vkt\":0.0, \"cost\":0.0,\n",
    "                \"pht\": 0.0, \"ff_pht\":0.0, \"trk_pht\":0.0,\"ff_trk_pht\":0.0,\"bridges\":0.0},\n",
    "         shed_central:{\"vkt\": 0.0, \"cong_vkt\": 0.0, \"truck_vkt\": 0.0,\"cong_truck_vkt\":0.0, \"cost\":0.0,\n",
    "                \"pht\": 0.0, \"ff_pht\":0.0, \"trk_pht\":0.0,\"ff_trk_pht\":0.0,\"bridges\":0.0},\n",
    "         shed_east:{\"vkt\": 0.0, \"cong_vkt\": 0.0, \"truck_vkt\": 0.0,\"cong_truck_vkt\":0.0, \"cost\":0.0,\n",
    "                \"pht\": 0.0, \"ff_pht\":0.0, \"trk_pht\":0.0,\"ff_trk_pht\":0.0,\"bridges\":0.0},\n",
    "         shed_midwest:{\"vkt\": 0.0, \"cong_vkt\": 0.0, \"truck_vkt\": 0.0,\"cong_truck_vkt\":0.0, \"cost\":0.0,\n",
    "                \"pht\": 0.0, \"ff_pht\":0.0, \"trk_pht\":0.0,\"ff_trk_pht\":0.0,\"bridges\":0.0},\n",
    "         shed_southwest:{\"vkt\": 0.0, \"cong_vkt\": 0.0, \"truck_vkt\": 0.0,\"cong_truck_vkt\":0.0, \"cost\":0.0,\n",
    "                \"pht\": 0.0, \"ff_pht\":0.0, \"trk_pht\":0.0,\"ff_trk_pht\":0.0,\"bridges\":0.0},\n",
    "         shed_west:{\"vkt\": 0.0, \"cong_vkt\": 0.0, \"truck_vkt\": 0.0,\"cong_truck_vkt\":0.0, \"cost\":0.0,\n",
    "                \"pht\": 0.0, \"ff_pht\":0.0, \"trk_pht\":0.0,\"ff_trk_pht\":0.0,\"bridges\":0.0},\n",
    "         shed_north:{\"vkt\": 0.0, \"cong_vkt\": 0.0, \"truck_vkt\": 0.0,\"cong_truck_vkt\":0.0, \"cost\":0.0,\n",
    "                \"pht\": 0.0, \"ff_pht\":0.0, \"trk_pht\":0.0,\"ff_trk_pht\":0.0,\"bridges\":0.0},\n",
    "         shed_niagara:{\"vkt\": 0.0, \"cong_vkt\": 0.0, \"truck_vkt\": 0.0,\"cong_truck_vkt\":0.0, \"cost\":0.0,\n",
    "                \"pht\": 0.0, \"ff_pht\":0.0, \"trk_pht\":0.0,\"ff_trk_pht\":0.0,\"bridges\":0.0}},\n",
    "        {\"all\":{\"vkt\": 0.0, \"cong_vkt\": 0.0, \"truck_vkt\": 0.0,\"cong_truck_vkt\":0.0,\n",
    "                \"pht\": 0.0, \"ff_pht\":0.0, \"trk_pht\":0.0,\"ff_trk_pht\":0.0},\n",
    "         zones_pd1:{\"vkt\": 0.0, \"cong_vkt\": 0.0, \"truck_vkt\": 0.0,\"cong_truck_vkt\":0.0,\n",
    "                \"pht\": 0.0, \"ff_pht\":0.0, \"trk_pht\":0.0,\"ff_trk_pht\":0.0},\n",
    "         shed_central:{\"vkt\": 0.0, \"cong_vkt\": 0.0, \"truck_vkt\": 0.0,\"cong_truck_vkt\":0.0,\n",
    "                \"pht\": 0.0, \"ff_pht\":0.0, \"trk_pht\":0.0,\"ff_trk_pht\":0.0},\n",
    "         shed_east:{\"vkt\": 0.0, \"cong_vkt\": 0.0, \"truck_vkt\": 0.0,\"cong_truck_vkt\":0.0,\n",
    "                \"pht\": 0.0, \"ff_pht\":0.0, \"trk_pht\":0.0,\"ff_trk_pht\":0.0},\n",
    "         shed_midwest:{\"vkt\": 0.0, \"cong_vkt\": 0.0, \"truck_vkt\": 0.0,\"cong_truck_vkt\":0.0,\n",
    "                \"pht\": 0.0, \"ff_pht\":0.0, \"trk_pht\":0.0,\"ff_trk_pht\":0.0},\n",
    "         shed_southwest:{\"vkt\": 0.0, \"cong_vkt\": 0.0, \"truck_vkt\": 0.0,\"cong_truck_vkt\":0.0,\n",
    "                \"pht\": 0.0, \"ff_pht\":0.0, \"trk_pht\":0.0,\"ff_trk_pht\":0.0},\n",
    "         shed_west:{\"vkt\": 0.0, \"cong_vkt\": 0.0, \"truck_vkt\": 0.0,\"cong_truck_vkt\":0.0,\n",
    "                \"pht\": 0.0, \"ff_pht\":0.0, \"trk_pht\":0.0,\"ff_trk_pht\":0.0},\n",
    "         shed_north:{\"vkt\": 0.0, \"cong_vkt\": 0.0, \"truck_vkt\": 0.0,\"cong_truck_vkt\":0.0,\n",
    "                \"pht\": 0.0, \"ff_pht\":0.0, \"trk_pht\":0.0,\"ff_trk_pht\":0.0},\n",
    "         shed_niagara:{\"vkt\": 0.0, \"cong_vkt\": 0.0, \"truck_vkt\": 0.0,\"cong_truck_vkt\":0.0,\n",
    "                \"pht\": 0.0, \"ff_pht\":0.0, \"trk_pht\":0.0,\"ff_trk_pht\":0.0}}]\n",
    "cong = 0.85\n",
    "\n",
    "truck_vols = [\"@volau_htruck\",\"@volau_mtruck\",\"@volau_ltruck\"]\n",
    "auto_vols = [\"@volau1_nt\",\"@volau1_toll\",\\\n",
    "             \"@volau2_nt_nh\",\"@volau2_nt_hov\",\"@volau2_toll_nh\",\"@volau2_toll_hov\",\\\n",
    "            \"@volau3_nt_nh\",\"@volau3_nt_hov\",\"@volau3_toll_nh\",\"@volau3_toll_hov\"]\n",
    "\n",
    "sov_vols = [\"@volau1_nt\",\"@volau1_toll\"]\n",
    "hov2_vols = [\"@volau2_nt_nh\",\"@volau2_nt_hov\",\"@volau2_toll_nh\",\"@volau2_toll_hov\"]\n",
    "hov3_vols = [\"@volau3_nt_nh\",\"@volau3_nt_hov\",\"@volau3_toll_nh\",\"@volau3_toll_hov\"]"
   ]
  },
  {
   "cell_type": "code",
   "execution_count": 4,
   "metadata": {
    "collapsed": false,
    "show_input": true
   },
   "outputs": [
    {
     "name": "stdout",
     "output_type": "stream",
     "text": [
      "{'gs50;gs51': {'ff_pht': 0.0, 'ff_trk_pht': 0.0, 'trk_pht': 0.0, 'cong_vkt': 0.0, 'truck_vkt': 0.0, 'cong_truck_vkt': 0.0, 'vkt': 0.0, 'pht': 0.0}, 'gs10;gs11': {'ff_pht': 0.0, 'ff_trk_pht': 0.0, 'trk_pht': 0.0, 'cong_vkt': 0.0, 'truck_vkt': 0.0, 'cong_truck_vkt': 0.0, 'vkt': 0.0, 'pht': 0.0}, 'all': {'ff_pht': 155375.05778993544, 'ff_trk_pht': 49051.94524641861, 'trk_pht': 51304.62960383957, 'cong_vkt': 0.0, 'truck_vkt': 0.0, 'cong_truck_vkt': 0.0, 'vkt': 0.0, 'pht': 165000.4459541812}, 'gs20;gs21': {'ff_pht': 0.0, 'ff_trk_pht': 0.0, 'trk_pht': 0.0, 'cong_vkt': 0.0, 'truck_vkt': 0.0, 'cong_truck_vkt': 0.0, 'vkt': 0.0, 'pht': 0.0}, 'gs30;gs31': {'ff_pht': 0.0, 'ff_trk_pht': 0.0, 'trk_pht': 0.0, 'cong_vkt': 0.0, 'truck_vkt': 0.0, 'cong_truck_vkt': 0.0, 'vkt': 0.0, 'pht': 0.0}, 'gs60;gs61': {'ff_pht': 0.0, 'ff_trk_pht': 0.0, 'trk_pht': 0.0, 'cong_vkt': 0.0, 'truck_vkt': 0.0, 'cong_truck_vkt': 0.0, 'vkt': 0.0, 'pht': 0.0}, 'gf1': {'ff_pht': 0.0, 'ff_trk_pht': 0.0, 'trk_pht': 0.0, 'cong_vkt': 0.0, 'truck_vkt': 0.0, 'cong_truck_vkt': 0.0, 'vkt': 0.0, 'pht': 0.0}, 'gs70;gs71': {'ff_pht': 0.0, 'ff_trk_pht': 0.0, 'trk_pht': 0.0, 'cong_vkt': 0.0, 'truck_vkt': 0.0, 'cong_truck_vkt': 0.0, 'vkt': 0.0, 'pht': 0.0}, 'gs40;gs41': {'ff_pht': 0.0, 'ff_trk_pht': 0.0, 'trk_pht': 0.0, 'cong_vkt': 0.0, 'truck_vkt': 0.0, 'cong_truck_vkt': 0.0, 'vkt': 0.0, 'pht': 0.0}}\n",
      "{'gs50;gs51': {'ff_pht': 0.0, 'bridges': 0.0, 'cost': 0.0, 'ff_trk_pht': 0.0, 'trk_pht': 0.0, 'cong_vkt': 0.0, 'truck_vkt': 0.0, 'cong_truck_vkt': 0.0, 'vkt': 0.0, 'pht': 0.0}, 'gs10;gs11': {'ff_pht': 0.0, 'bridges': 0.0, 'cost': 0.0, 'ff_trk_pht': 0.0, 'trk_pht': 0.0, 'cong_vkt': 0.0, 'truck_vkt': 0.0, 'cong_truck_vkt': 0.0, 'vkt': 0.0, 'pht': 0.0}, 'all': {'ff_pht': 373781.1519926809, 'bridges': 0.0, 'cost': 0.0, 'ff_trk_pht': 50288.536234074025, 'trk_pht': 62455.02666446429, 'cong_vkt': 0.0, 'truck_vkt': 0.0, 'cong_truck_vkt': 0.0, 'vkt': 0.0, 'pht': 518259.33344242116}, 'gs20;gs21': {'ff_pht': 0.0, 'bridges': 0.0, 'cost': 0.0, 'ff_trk_pht': 0.0, 'trk_pht': 0.0, 'cong_vkt': 0.0, 'truck_vkt': 0.0, 'cong_truck_vkt': 0.0, 'vkt': 0.0, 'pht': 0.0}, 'gs30;gs31': {'ff_pht': 0.0, 'bridges': 0.0, 'cost': 0.0, 'ff_trk_pht': 0.0, 'trk_pht': 0.0, 'cong_vkt': 0.0, 'truck_vkt': 0.0, 'cong_truck_vkt': 0.0, 'vkt': 0.0, 'pht': 0.0}, 'gs60;gs61': {'ff_pht': 0.0, 'bridges': 0.0, 'cost': 0.0, 'ff_trk_pht': 0.0, 'trk_pht': 0.0, 'cong_vkt': 0.0, 'truck_vkt': 0.0, 'cong_truck_vkt': 0.0, 'vkt': 0.0, 'pht': 0.0}, 'gf1': {'ff_pht': 0.0, 'bridges': 0.0, 'cost': 0.0, 'ff_trk_pht': 0.0, 'trk_pht': 0.0, 'cong_vkt': 0.0, 'truck_vkt': 0.0, 'cong_truck_vkt': 0.0, 'vkt': 0.0, 'pht': 0.0}, 'gs70;gs71': {'ff_pht': 0.0, 'bridges': 0.0, 'cost': 0.0, 'ff_trk_pht': 0.0, 'trk_pht': 0.0, 'cong_vkt': 0.0, 'truck_vkt': 0.0, 'cong_truck_vkt': 0.0, 'vkt': 0.0, 'pht': 0.0}, 'gs40;gs41': {'ff_pht': 0.0, 'bridges': 0.0, 'cost': 0.0, 'ff_trk_pht': 0.0, 'trk_pht': 0.0, 'cong_vkt': 0.0, 'truck_vkt': 0.0, 'cong_truck_vkt': 0.0, 'vkt': 0.0, 'pht': 0.0}}\n"
     ]
    }
   ],
   "source": [
    "for i in range(2):\n",
    "    for link in ntwks[i].links():\n",
    "        add = False \n",
    "        #This section determines what shed the link belongs to\n",
    "        if ((link.type > 860 and link.type < 900) or (link.type >= 325 and link.type <= 328) or link.type == 330 or link.type == 332): #North\n",
    "            shed = shed_north\n",
    "            add = True\n",
    "        elif ((link.type > 101 and link.type <200) or link.type == 100 or link.type ==333 or link.type ==329 or link.type ==331): #Central\n",
    "            shed = shed_central\n",
    "            add = True\n",
    "        elif link.type == 101: #PD1\n",
    "            shed = zones_pd1\n",
    "            add = True\n",
    "        elif ((link.type >199 and link.type <300) or (link.type > 899 and link.type < 950)): # East\n",
    "            shed = shed_east\n",
    "            add = True\n",
    "        elif link.type == 820 or link.type ==850: # West\n",
    "            shed = shed_west\n",
    "            add = True\n",
    "        elif (link.type >599 and link.type<700) or link.type ==810 or link.type == 800: #Southwest\n",
    "            shed = shed_southwest\n",
    "            add = True\n",
    "        elif link.type == 700: # Niagara\n",
    "            shed = shed_niagara\n",
    "            add = True\n",
    "        elif link.type >= 400 and link.type < 600: # Midwest\n",
    "            shed = shed_midwest\n",
    "            add = True\n",
    "\n",
    "        if add:\n",
    "             if link.volume_delay_func > 0 and link.volume_delay_func < 90 and ntwks[i].mode(\"I\") in link.modes:\n",
    "                    volume = 0.0\n",
    "                    person_vol =0.0\n",
    "                    truck_volume = 0.0\n",
    "                    \n",
    "                    for vol in sov_vols:\n",
    "                        volume += link[vol]\n",
    "                        person_vol += link[vol]*sov_oc\n",
    "                    for vol in hov2_vols:\n",
    "                        volume += link[vol]\n",
    "                        person_vol += link[vol]*hov2_oc\n",
    "                    for vol in hov3_vols:\n",
    "                        volume += link[vol]\n",
    "                        person_vol += link[vol]*hov3_oc\n",
    "                        \n",
    "                    for vol in truck_vols:\n",
    "                        truck_volume += link[vol]\n",
    "\n",
    "                    zones_vkt[i][\"all\"][\"pht\"] += person_vol*link.auto_time/60\n",
    "                    zones_vkt[i][\"all\"][\"trk_pht\"]+= truck_volume*link.auto_time/60\n",
    "                    zones_vkt[i][\"all\"][\"ff_pht\"] += person_vol*link.length/link.data2\n",
    "                    zones_vkt[i][\"all\"][\"ff_trk_pht\"]+= truck_volume*link.length/link.data2\n",
    "\n",
    "print(zones_vkt[1])\n",
    "print(zones_vkt[0])"
   ]
  },
  {
   "cell_type": "code",
   "execution_count": 5,
   "metadata": {
    "collapsed": false,
    "show_input": true
   },
   "outputs": [],
   "source": [
    "am_pht_lost = zones_vkt[0][\"all\"][\"pht\"] - zones_vkt[0][\"all\"][\"ff_pht\"]\n",
    "md_pht_lost = zones_vkt[1][\"all\"][\"pht\"] - zones_vkt[1][\"all\"][\"ff_pht\"]\n",
    "\n",
    "amtrk_pht_lost =  zones_vkt[0][\"all\"][\"trk_pht\"] - zones_vkt[0][\"all\"][\"ff_trk_pht\"]\n",
    "mdtrk_pht_lost =  zones_vkt[1][\"all\"][\"trk_pht\"] - zones_vkt[1][\"all\"][\"ff_trk_pht\"]"
   ]
  },
  {
   "cell_type": "code",
   "execution_count": 6,
   "metadata": {
    "collapsed": false,
    "show_input": true
   },
   "outputs": [
    {
     "name": "stdout",
     "output_type": "stream",
     "text": [
      "(144478.18144974025, 9625.388164245756)\n",
      "(12166.490430390266, 2252.684357420956)\n"
     ]
    }
   ],
   "source": [
    "print(am_pht_lost, md_pht_lost)\n",
    "print(amtrk_pht_lost, mdtrk_pht_lost)"
   ]
  }
 ],
 "metadata": {
  "interpreter": {
   "hash": "9500f9c2f27c9adcd19aefc51e1246db6a5b6f190d52f513298b07517c7b7a8d"
  },
  "kernelspec": {
   "display_name": "Python 2",
   "language": "python",
   "name": "python3"
  },
  "language_info": {
   "codemirror_mode": {
    "name": "ipython",
    "version": 2
   },
   "file_extension": ".py",
   "mimetype": "text/x-python",
   "name": "python",
   "nbconvert_exporter": "python",
   "pygments_lexer": "ipython2",
   "version": "3.8.5"
  }
 },
 "nbformat": 4,
 "nbformat_minor": 0
}
