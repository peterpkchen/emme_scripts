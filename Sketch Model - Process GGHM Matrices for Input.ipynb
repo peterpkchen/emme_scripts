{
 "cells": [
  {
   "cell_type": "code",
   "execution_count": 67,
   "metadata": {
    "code_folding": [
     0
    ],
    "collapsed": true,
    "show_input": true
   },
   "outputs": [],
   "source": [
    "#Transit Access time - sum matrices\n",
    "matrix_list=[\n",
    "             [701,\"mf71\",'skim.peak.transit.local_bus.total_wait'],\n",
    "             [776,\"mf76\",'skim.peak.transit.local_bus.access_walk'],\n",
    "             [801,\"mf81\",'skim.peak.transit.local_bus.egress_walk']\n",
    "    ]"
   ]
  },
  {
   "cell_type": "code",
   "execution_count": null,
   "metadata": {
    "code_folding": [
     0
    ],
    "collapsed": true,
    "show_input": true
   },
   "outputs": [],
   "source": [
    "#missing matrices\n",
    "matrix_list=[\n",
    "             [2013,\"mf21\",'skim.peak.transit.ztsa.ivt.go_bus'],\n",
    "             [701,\"mf22\",'skim.peak.transit.local_bus.total_wait'],\n",
    "             [801,\"mf23\",'skim.peak.transit.local_bus.egress_walk'],\n",
    "             [2764,\"mf24\",'skim.offpeak.transit.local_bus.total_wait'],\n",
    "             [2864,\"mf25\",'skim.offpeak.transit.local_bus.egress_walk'],\n",
    "             [76,\"mf26\",'skim.static.bike.time'],\n",
    "             [3858,\"mf27\",'trips.peak.all_modes.hbw.nocar_low'],\n",
    "             [3884,\"mf28\",'trips.peak.all_modes.hbw.nocar_high'],\n",
    "             [3934,\"mf29\",'trips.peak.all_modes.hbw.insuff_low'],\n",
    "             [3984,\"mf30\",'trips.peak.all_modes.hbw.insuff_high'],\n",
    "             [4034,\"mf31\",'trips.peak.all_modes.hbw.suff_low'],\n",
    "             [4084,\"mf32\",'trips.peak.all_modes.hbw.suff_high']\n",
    "            ]"
   ]
  },
  {
   "cell_type": "code",
   "execution_count": 97,
   "metadata": {
    "code_folding": [
     0
    ],
    "collapsed": true,
    "show_input": true
   },
   "outputs": [],
   "source": [
    "#Transit Travel Time matrices - find minimum time for the sum of times for each mode\n",
    "matrix_list=[\n",
    "             [826,\"mf86\",'skim.peak.transit.local_bus.ivt.bus'],\n",
    "             [851,\"mf85\",'skim.peak.transit.local_bus.ivt.streetcar'],\n",
    "             [1126,\"mf12\",'skim.peak.transit.rapid_bus.ivt.bus'], #values too high?\n",
    "             [1151,\"mf15\",'skim.peak.transit.rapid_bus.ivt.streetcar'],\n",
    "             [1176,\"mf17\",'skim.peak.transit.rapid_bus.ivt.rapid_bus'],\n",
    "             [1476,\"mf47\",'skim.peak.transit.go_bus.ivt.bus'],\n",
    "             [1501,\"mf50\",'skim.peak.transit.go_bus.ivt.streetcar'],\n",
    "             [1526,\"mf52\",'skim.peak.transit.go_bus.ivt.rapid_bus'],\n",
    "             [1551,\"mf55\",'skim.peak.transit.go_bus.ivt.go_bus'],\n",
    "             [1576,\"mf57\",'skim.peak.transit.go_bus.ivt.premium_bus'],\n",
    "             [1935,\"mf93\",'skim.peak.transit.ztsa.ivt.bus'],\n",
    "             [1961,\"mf96\",'skim.peak.transit.ztsa.ivt.streetcar'],\n",
    "             [1987,\"mf98\",'skim.peak.transit.ztsa.ivt.rapid_bus'],\n",
    "             [2013,\"mf21\",'skim.peak.transit.ztsa.ivt.go_bus'],\n",
    "             [2039,\"mf23\",'skim.peak.transit.ztsa.ivt.premium_bus'],\n",
    "             [2149,\"mf24\",'skim.peak.transit.subway.ivt'],\n",
    "             [2159,\"mf25\",'skim.peak.transit.train.ivt'],\n",
    "            ]"
   ]
  },
  {
   "cell_type": "code",
   "execution_count": 44,
   "metadata": {
    "code_folding": [
     0
    ],
    "collapsed": true,
    "show_input": true
   },
   "outputs": [],
   "source": [
    "#Truck Peak Demand Matrices - find maximum demand for: am vs pm, matrix vs transpose\n",
    "\n",
    "matrix_list=[[5984,\"mf84\",'trips.am_peak.truck.light'],\n",
    "             [5986,\"mf86\",'trips.pm_peak.truck.light'],\n",
    "            [5989,\"mf89\",'trips.am_peak.truck.medium'],\n",
    "            [5991,\"mf91\",'trips.pm_peak.truck.medium'],\n",
    "            [5994,\"mf94\",'trips.am_peak.truck.heavy'],\n",
    "            [5996,\"mf96\",'trips.pm_peak.truck.heavy']]\n"
   ]
  },
  {
   "cell_type": "code",
   "execution_count": 1,
   "metadata": {
    "collapsed": true,
    "show_input": true
   },
   "outputs": [],
   "source": [
    "#transit demand matrices - peak\n",
    "matrix_list=[[6049,\"mf84\",'trips.peak.transit.ztsa'],\n",
    "             [6051,\"mf86\",'trips.peak.transit.express_bus'],\n",
    "            [6053,\"mf89\",'trips.peak.transit.local_bus'],\n",
    "            [6055,\"mf91\",'trips.peak.transit.rapid_bus'],\n",
    "            [6057,\"mf94\",'trips.peak.transit.subway'],\n",
    "            [6059,\"mf96\",'trips.peak.transit.train']]"
   ]
  },
  {
   "cell_type": "code",
   "execution_count": 3,
   "metadata": {
    "collapsed": true,
    "show_input": true
   },
   "outputs": [],
   "source": [
    "#transit demand matrices - offpeak\n",
    "matrix_list=[[6050,\"mf84\",'trips.offpeak.transit.ztsa'],\n",
    "             [6052,\"mf86\",'trips.offpeak.transit.express_bus'],\n",
    "            [6054,\"mf89\",'trips.offpeak.transit.local_bus'],\n",
    "            [6055,\"mf91\",'trips.offpeak.transit.rapid_bus'],\n",
    "            [6058,\"mf94\",'trips.offpeak.transit.subway'],\n",
    "            [6060,\"mf96\",'trips.offpeak.transit.train']]"
   ]
  },
  {
   "cell_type": "code",
   "execution_count": 8,
   "metadata": {
    "collapsed": true,
    "show_input": true
   },
   "outputs": [],
   "source": [
    "#auto demand matrices - peak\n",
    "matrix_list=[[6000,\"mf84\",'trips.am_peak.auto1.toll'],\n",
    "             [6001,\"mf86\",'trips.am_peak.auto2.nt_nh'],\n",
    "            [6002,\"mf89\",'trips.am_peak.auto2.nt_hov'],\n",
    "            [6003,\"mf91\",'trips.am_peak.auto2.toll_nh'],\n",
    "            [6004,\"mf94\",'trips.am_peak.auto2.toll_hov'],\n",
    "            [6005,\"mf96\",'trips.am_peak.auto3.nt_nh'],\n",
    "            [6006,\"mf97\",'trips.am_peak.auto3.nt_hov'],\n",
    "            [6007,\"mf98\",'trips.am_peak.auto3.toll_nh'],\n",
    "            [6008,\"mf99\",'trips.am_peak.auto3.toll_hov'],\n",
    "            [5999,\"mf83\",'trips.am_peak.auto1.nt']\n",
    "            ]"
   ]
  },
  {
   "cell_type": "code",
   "execution_count": null,
   "metadata": {
    "collapsed": true,
    "show_input": true
   },
   "outputs": [],
   "source": [
    "#auto demand matrices - offpeak\n",
    "matrix_list=[[6010,\"mf84\",'trips.midday.auto1.toll'],\n",
    "             [6011,\"mf86\",'trips.midday.auto2.nt_nh'],\n",
    "            [6012,\"mf89\",'trips.midday.auto2.nt_hov'],\n",
    "            [6013,\"mf91\",'trips.midday.auto2.toll_nh'],\n",
    "            [6014,\"mf94\",'trips.midday.auto2.toll_hov'],\n",
    "            [6015,\"mf96\",'trips.midday.auto3.nt_nh'],\n",
    "            [6016,\"mf97\",'trips.midday.auto3.nt_hov'],\n",
    "            [6017,\"mf98\",'trips.midday.auto3.toll_nh'],\n",
    "            [6018,\"mf99\",'trips.midday.auto3.toll_hov'],\n",
    "            [6009,\"mf83\",'trips.midday.auto1.nt']\n",
    "            ]"
   ]
  },
  {
   "cell_type": "code",
   "execution_count": 1,
   "metadata": {
    "collapsed": true,
    "show_input": true
   },
   "outputs": [],
   "source": [
    "#Other matrices - can export without any other processing\n",
    "\n",
    "matrix_list=[[276,\"mf27\",'skim.am_peak.auto.sov.dist'],\n",
    "             [2179,\"mf21\",'skim.midday.auto.sov.time'],\n",
    "             [126,\"mf12\",'skim.am_peak.auto.sov.time'],\n",
    "             [176,\"mf17\",'skim.am_peak.auto.hov2.time'],\n",
    "             [76,\"mf76\",'skim.static.bike.time'],\n",
    "             [351,\"mf35\",'skim.am_peak.auto.sovt.toll_cost'],\n",
    "             [501,\"mf50\",'skim.am_peak.auto.hov2t.toll_cost'],\n",
    "             [3164,\"mf31\",'skim.offpeak.transit.go_bus.fares']\n",
    "            ]"
   ]
  },
  {
   "cell_type": "code",
   "execution_count": 9,
   "metadata": {
    "show_input": true
   },
   "outputs": [
    {
     "name": "stdout",
     "output_type": "stream",
     "text": [
      "Imported matrix: trips.am_peak.auto1.toll to: mf84\n",
      "Imported matrix: trips.am_peak.auto2.nt_nh to: mf86\n",
      "Imported matrix: trips.am_peak.auto2.nt_hov to: mf89\n",
      "Imported matrix: trips.am_peak.auto2.toll_nh to: mf91\n",
      "Imported matrix: trips.am_peak.auto2.toll_hov to: mf94\n",
      "Imported matrix: trips.am_peak.auto3.nt_nh to: mf96\n",
      "Imported matrix: trips.am_peak.auto3.nt_hov to: mf97\n",
      "Imported matrix: trips.am_peak.auto3.toll_nh to: mf98\n",
      "Imported matrix: trips.am_peak.auto3.toll_hov to: mf99\n",
      "Imported matrix: trips.am_peak.auto1.nt to: mf83\n",
      "Finshed Importing Matrices\n"
     ]
    }
   ],
   "source": [
    "### IMPORT MATRICES ###\n",
    "\n",
    "#Initialize matrix butler\n",
    "import inro.modeller as m\n",
    "mm = m.Modeller()\n",
    "gghm_api = mm.module('gghm.internal.api_interface')\n",
    "\n",
    "#HDR Scripts\n",
    "common = mm.module('org.emme.common')\n",
    "save_path = \"C:\\Users\\mnasterska\\Documents\\Projects\\GGH\\SketchInputs\\ZoneMatrices\"\n",
    "\n",
    "modeloutput_folder = \"E:\\MTO_2011by_January_24_2017\"\n",
    "#call matrix butler\n",
    "butler = gghm_api.get_matrix_butler(modeloutput_folder)\n",
    "\n",
    "#call change matrix properties tool             \n",
    "NAMESPACE = \"inro.emme.data.matrix.change_matrix_properties\"\n",
    "change_matrix = m.Modeller().tool(NAMESPACE)\n",
    "eb = m.Modeller().emmebank\n",
    "\n",
    "#Delete all FULL matrices\n",
    "common.clear_matrices(eb)\n",
    "\n",
    "#launch matrix butler to export selected trip matrices to the emmebank\n",
    "#matrix_list provides the list of matrices to be imported\n",
    "#add more matrices to the list as needed!\n",
    "#[[number,\"mf id\", 'name of matrix in cache folder']]\n",
    "\n",
    "#load auto & transit matrices and update matrices names\n",
    "for mat in matrix_list:\n",
    "    butler.load_matrix(mat[2], target_mfid=mat[1])\n",
    "\n",
    "    matrix_mf = eb.matrix(mat[1])\n",
    "    change_matrix(matrix = matrix_mf,\n",
    "              matrix_name = mat[2][:40],\n",
    "              matrix_description = mat[2])\n",
    "    print \"Imported matrix: \" + mat[2] + \" to: \" + mat[1]\n",
    "print \"Finshed Importing Matrices\""
   ]
  },
  {
   "cell_type": "code",
   "execution_count": 46,
   "metadata": {
    "code_folding": [
     0
    ],
    "show_input": true
   },
   "outputs": [
    {
     "name": "stdout",
     "output_type": "stream",
     "text": [
      "Finshed creating truck matrices\n"
     ]
    }
   ],
   "source": [
    "#Calculate overall Truck matrices for: light, medium, heavy\n",
    "create_matrix =  m.Modeller().tool(\"inro.emme.data.matrix.create_matrix\")\n",
    "matrix_calculator = m.Modeller().tool(\"inro.emme.matrix_calculation.matrix_calculator\")\n",
    "\n",
    "#Light Trucks\n",
    "new_matrix = \"mf85\"\n",
    "create_matrix(matrix_id = new_matrix,\n",
    "              matrix_name=\"trips.peak.truck.light\",\n",
    "            matrix_description = \"trips.peak.truck.light\")\n",
    "spec = {\n",
    "    \"type\": \"MATRIX_CALCULATION\",\n",
    "    \"result\": new_matrix,\n",
    "    \"expression\": \"(mf84.max.mf84').max.(mf86.max.mf86')\"\n",
    "}\n",
    "matrix_calculator(spec)\n",
    "eb.delete_matrix(\"mf84\")\n",
    "eb.delete_matrix(\"mf86\")\n",
    "\n",
    "#Medium Trucks\n",
    "new_matrix = \"mf90\"\n",
    "create_matrix(matrix_id = new_matrix,\n",
    "              matrix_name=\"trips.peak.truck.medium\",\n",
    "            matrix_description = \"trips.peak.truck.medium\")\n",
    "spec = {\n",
    "    \"type\": \"MATRIX_CALCULATION\",\n",
    "    \"result\": new_matrix,\n",
    "    \"expression\": \"(mf89.max.mf89').max.(mf91.max.mf91')\"\n",
    "}\n",
    "matrix_calculator(spec)\n",
    "eb.delete_matrix(\"mf89\")\n",
    "eb.delete_matrix(\"mf91\")\n",
    "\n",
    "#Heavy Trucks\n",
    "new_matrix = \"mf95\"\n",
    "create_matrix(matrix_id = new_matrix,\n",
    "              matrix_name=\"trips.peak.truck.heavy\",\n",
    "            matrix_description = \"trips.peak.truck.heavy\")\n",
    "spec = {\n",
    "    \"type\": \"MATRIX_CALCULATION\",\n",
    "    \"result\": new_matrix,\n",
    "    \"expression\": \"(mf94.max.mf94').max.(mf96.max.mf96')\"\n",
    "}\n",
    "matrix_calculator(spec)\n",
    "eb.delete_matrix(\"mf94\")\n",
    "eb.delete_matrix(\"mf96\")\n",
    "\n",
    "print \"Finshed creating truck matrices\"\n"
   ]
  },
  {
   "cell_type": "code",
   "execution_count": 14,
   "metadata": {
    "code_folding": [],
    "show_input": true
   },
   "outputs": [
    {
     "name": "stdout",
     "output_type": "stream",
     "text": [
      "Finshed calculating bi-directional peak travel time\n"
     ]
    }
   ],
   "source": [
    "#Calculate bi-drectional peak travel time\n",
    "create_matrix =  m.Modeller().tool(\"inro.emme.data.matrix.create_matrix\")\n",
    "matrix_calculator = m.Modeller().tool(\"inro.emme.matrix_calculation.matrix_calculator\")\n",
    "\n",
    "new_matrix = \"mf1\"\n",
    "create_matrix(matrix_id = new_matrix,\n",
    "              matrix_name=\"temp.matrix\",\n",
    "            matrix_description = \"temp.matrix\")\n",
    "\n",
    "for matrix in eb.matrices():\n",
    "    if matrix.id in [\"mf12\",\"mf17\",\"mf21\"]:        \n",
    "        spec = {\n",
    "            \"type\": \"MATRIX_CALCULATION\",\n",
    "            \"result\": new_matrix,\n",
    "            \"expression\": \"(\" + matrix.id + \".max.\" + matrix.id + \"')\"\n",
    "        }\n",
    "        matrix_calculator(spec)\n",
    "        spec = {\n",
    "            \"type\": \"MATRIX_CALCULATION\",\n",
    "            \"result\": matrix.id,\n",
    "            \"expression\": new_matrix\n",
    "        }\n",
    "        matrix_calculator(spec)\n",
    "eb.delete_matrix(new_matrix)\n",
    "print \"Finshed calculating bi-directional peak travel time\""
   ]
  },
  {
   "cell_type": "code",
   "execution_count": 99,
   "metadata": {
    "code_folding": [],
    "show_input": true
   },
   "outputs": [
    {
     "name": "stdout",
     "output_type": "stream",
     "text": [
      "Finished Calculating Transit Travel Times\n"
     ]
    }
   ],
   "source": [
    "#Calculate overall transit time matrix\n",
    "create_matrix =  m.Modeller().tool(\"inro.emme.data.matrix.create_matrix\")\n",
    "matrix_calculator = m.Modeller().tool(\"inro.emme.matrix_calculation.matrix_calculator\")\n",
    "\n",
    "\n",
    "def remove_zeros_spec(matrix_id):\n",
    "    spec = {\n",
    "    \"type\": \"MATRIX_CALCULATION\",\n",
    "    \"result\": matrix_id,\n",
    "    \"expression\": \"1000\",\n",
    "    \"constraint\": {\n",
    "        \"by_value\": {\n",
    "            \"od_values\": matrix_id,\n",
    "            \"interval_min\": 0,\n",
    "            \"interval_max\": 0,\n",
    "            \"condition\": \"INCLUDE\"\n",
    "            }\n",
    "        }\n",
    "    }\n",
    "    return spec\n",
    "\n",
    "#Local Bus\n",
    "local_bus_matrix = \"mf1\"\n",
    "create_matrix(matrix_id = local_bus_matrix,\n",
    "              matrix_name=\"skim.peak.transit.local_bus.ivt\",\n",
    "              matrix_description = \"skim.peak.transit.local_bus.ivt\")\n",
    "spec = {\n",
    "    \"type\": \"MATRIX_CALCULATION\",\n",
    "    \"result\": local_bus_matrix,\n",
    "    \"expression\": \"(mf86+mf85)\"\n",
    "    }\n",
    "matrix_calculator(spec)\n",
    "matrix_calculator(remove_zeros_spec(local_bus_matrix))\n",
    "\n",
    "#Rapid Bus\n",
    "rapid_bus_matrix = \"mf2\"\n",
    "create_matrix(matrix_id = rapid_bus_matrix,\n",
    "              matrix_name=\"skim.peak.transit.rapid_bus.ivt\",\n",
    "              matrix_description = \"skim.peak.transit.rapid_bus.ivt\")\n",
    "spec = {\n",
    "    \"type\": \"MATRIX_CALCULATION\",\n",
    "    \"result\": rapid_bus_matrix,\n",
    "    \"expression\": \"(mf12+mf15+mf17)\"\n",
    "    }\n",
    "matrix_calculator(spec)\n",
    "matrix_calculator(remove_zeros_spec(rapid_bus_matrix))\n",
    "\n",
    "#GO Bus\n",
    "go_bus_matrix = \"mf3\"\n",
    "create_matrix(matrix_id = go_bus_matrix,\n",
    "              matrix_name=\"skim.peak.transit.go_bus.ivt\",\n",
    "              matrix_description = \"skim.peak.transit.go_bus.ivt\")\n",
    "spec = {\n",
    "    \"type\": \"MATRIX_CALCULATION\",\n",
    "    \"result\": go_bus_matrix,\n",
    "    \"expression\": \"(mf47+mf50+mf52+mf55+mf57)\"\n",
    "    }\n",
    "matrix_calculator(spec)\n",
    "matrix_calculator(remove_zeros_spec(go_bus_matrix))\n",
    "\n",
    "#Subway\n",
    "subway_matrix = \"mf4\"\n",
    "create_matrix(matrix_id = subway_matrix,\n",
    "              matrix_name=\"skim.peak.transit.subway.ivt\",\n",
    "              matrix_description = \"skim.peak.transit.subway.ivt\")\n",
    "spec = {\n",
    "    \"type\": \"MATRIX_CALCULATION\",\n",
    "    \"result\": subway_matrix,\n",
    "    \"expression\": \"(mf93+mf96+mf98+mf21+mf23+mf24)\"\n",
    "    }\n",
    "matrix_calculator(spec)\n",
    "matrix_calculator(remove_zeros_spec(subway_matrix))\n",
    "\n",
    "#Train\n",
    "train_matrix = \"mf5\"\n",
    "create_matrix(matrix_id = train_matrix,\n",
    "              matrix_name=\"skim.peak.transit.train.ivt\",\n",
    "              matrix_description = \"skim.peak.transit.train.ivt\")\n",
    "spec = {\n",
    "    \"type\": \"MATRIX_CALCULATION\",\n",
    "    \"result\": train_matrix,\n",
    "    \"expression\": \"(mf93+mf96+mf98+mf21+mf23+mf25)\"\n",
    "    }\n",
    "matrix_calculator(spec)\n",
    "matrix_calculator(remove_zeros_spec(train_matrix))\n",
    "\n",
    "#find minimum travel time\n",
    "min_time_matrix = \"mf6\"\n",
    "create_matrix(matrix_id = min_time_matrix,\n",
    "              matrix_name=\"skim.peak.transit.ivt\",\n",
    "              matrix_description = \"skim.peak.transit.ivt\")\n",
    "spec = {\n",
    "    \"type\": \"MATRIX_CALCULATION\",\n",
    "    \"result\": min_time_matrix,\n",
    "    \"expression\": \"mf1.min.mf2.min.mf3.min.mf4.min.mf5\",\n",
    "}\n",
    "matrix_calculator(spec)\n",
    "\n",
    "spec = {\n",
    "    \"type\": \"MATRIX_CALCULATION\",\n",
    "    \"result\": min_time_matrix,\n",
    "    \"expression\": \"0\",\n",
    "    \"constraint\": {\n",
    "    \"by_value\": {\n",
    "            \"od_values\": min_time_matrix,\n",
    "            \"interval_min\": 1000,\n",
    "            \"interval_max\": 1000,\n",
    "            \"condition\": \"INCLUDE\"\n",
    "        }\n",
    "    }\n",
    "}\n",
    "matrix_calculator(spec)\n",
    "\n",
    "for matrix in eb.matrices():\n",
    "    if matrix.id != min_time_matrix:\n",
    "        eb.delete_matrix(matrix.id)\n",
    "\n",
    "print \"Finished Calculating Transit Travel Times\""
   ]
  },
  {
   "cell_type": "code",
   "execution_count": 69,
   "metadata": {
    "show_input": true
   },
   "outputs": [
    {
     "name": "stdout",
     "output_type": "stream",
     "text": [
      "Finished Calculating Transit Access Times\n"
     ]
    }
   ],
   "source": [
    "#Calculate transit access time matrix\n",
    "create_matrix =  m.Modeller().tool(\"inro.emme.data.matrix.create_matrix\")\n",
    "matrix_calculator = m.Modeller().tool(\"inro.emme.matrix_calculation.matrix_calculator\")\n",
    "\n",
    "#Light Trucks\n",
    "new_matrix = \"mf1\"\n",
    "create_matrix(matrix_id = new_matrix,\n",
    "              matrix_name=\"skim.peak.transit.access\",\n",
    "            matrix_description = \"skim.peak.transit.access\")\n",
    "spec = {\n",
    "    \"type\": \"MATRIX_CALCULATION\",\n",
    "    \"result\": new_matrix,\n",
    "    \"expression\": \"mf71+mf76+mf81\"\n",
    "}\n",
    "matrix_calculator(spec)\n",
    "for matrix in eb.matrices():\n",
    "    if matrix.id != new_matrix:\n",
    "        eb.delete_matrix(matrix.id)\n",
    "print \"Finished Calculating Transit Access Times\""
   ]
  },
  {
   "cell_type": "code",
   "execution_count": 16,
   "metadata": {
    "show_input": true
   },
   "outputs": [
    {
     "name": "stdout",
     "output_type": "stream",
     "text": [
      "Exported matrix mf12\n",
      "Exported matrix mf17\n",
      "Exported matrix mf21\n",
      "Exported matrix mf27\n",
      "Exported matrix mf31\n",
      "Exported matrix mf35\n",
      "Exported matrix mf50\n",
      "Exported matrix mf76\n",
      "Finished exporting matrices.\n"
     ]
    }
   ],
   "source": [
    "#EXPORT ALL MATRICES INTO EXCEL FILES \n",
    "import os\n",
    "save_path = \"C:\\Users\\mnasterska\\Documents\\Projects\\GGH\\SketchInputs\\ZoneMatrices\"\n",
    "\n",
    "NAMESPACE = \"inro.emme.data.matrix.export_matrix_to_csv\"\n",
    "export_matrices = m.Modeller().tool(NAMESPACE)\n",
    "base_scenario = mm.emmebank.scenario(1)\n",
    "for matrix in eb.matrices():\n",
    "    export_matrices(matrices=[matrix.id],\n",
    "                    export_path = save_path)\n",
    "    print \"Exported matrix \" + matrix.id\n",
    "print \"Finished exporting matrices.\""
   ]
  },
  {
   "cell_type": "code",
   "execution_count": null,
   "metadata": {
    "collapsed": true,
    "show_input": true
   },
   "outputs": [],
   "source": []
  }
 ],
 "metadata": {
  "kernelspec": {
   "display_name": "Python 3",
   "language": "python",
   "name": "python3"
  },
  "language_info": {
   "codemirror_mode": {
    "name": "ipython",
    "version": 3
   },
   "file_extension": ".py",
   "mimetype": "text/x-python",
   "name": "python",
   "nbconvert_exporter": "python",
   "pygments_lexer": "ipython3",
   "version": "3.6.10"
  }
 },
 "nbformat": 4,
 "nbformat_minor": 1
}
