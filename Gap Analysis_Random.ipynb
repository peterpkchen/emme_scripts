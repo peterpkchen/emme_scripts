{
 "cells": [
  {
   "cell_type": "code",
   "execution_count": 1,
   "metadata": {
    "collapsed": true,
    "show_input": true
   },
   "outputs": [],
   "source": [
    "import inro.modeller as m\n",
    "\n",
    "mm = m.Modeller()\n",
    "eb = m.Modeller().emmebank\n",
    "create_matrix =  mm.tool(\"inro.emme.data.matrix.create_matrix\")\n",
    "#common = mm.module('org.emme.common')"
   ]
  },
  {
   "cell_type": "code",
   "execution_count": 2,
   "metadata": {
    "collapsed": true,
    "show_input": true
   },
   "outputs": [],
   "source": [
    "sc_num_am = 109\n",
    "\n",
    "# Brampton \n",
    "#geo_type = 435\n",
    "\n",
    "# Mississauga\n",
    "#geo_type = 436\n",
    "\n",
    "# PD1\n",
    "#geo_type = 101\n",
    "\n",
    "# Niagara\n",
    "#geo_type = 700\n",
    "\n",
    "#Kitchener Waterloo and Cambridge\n",
    "#geo_type = 820\n",
    "\n",
    "# Central\n",
    "# (type >101 && type <200) || type ==333 || type ==329 || type ==331\n",
    "\n",
    "# East\n",
    "# (type >199 && type <300) || type >899\n",
    "#Urban Durham (Pickering, Ajax and Oshawa and northern sections)\n",
    "#(type >=220  && type < 224)\n",
    "\n",
    "# Southwest\n",
    "# (type >599 && type<700)|| type ==810 ||type ==800\n",
    "\n",
    "# West\n",
    "# type == 820 || type ==850 (includes orangeville)\n",
    "\n",
    "# North\n",
    "# (type >860  &&  type<900) || type ==326 || type ==325\n",
    "\n",
    "#(type == 327 || type == 870 || type == 880) && vdf >= 20\n",
    "\n",
    "cong = 0.85"
   ]
  },
  {
   "cell_type": "code",
   "execution_count": 9,
   "metadata": {
    "collapsed": false,
    "show_input": true
   },
   "outputs": [
    {
     "name": "stdout",
     "output_type": "stream",
     "text": [
      "343.558227405 1094.42715725 0.313916029158\n"
     ]
    }
   ],
   "source": [
    "sc_num_am = 201\n",
    "\n",
    "sc_am = eb.scenario(sc_num_am)\n",
    "ntwk = sc_am.get_network()\n",
    "\n",
    "km_congested = 0.0\n",
    "km_total = 0.0\n",
    "for link in ntwk.links():\n",
    "#     if ((link.type > 860 and link.type < 900) or link.type == 326 or link.type == 325) and link.volume_delay_func >= 20: #North\n",
    "#     if ((link.type > 101 and link.type <200) or link.type ==333 or link.type ==329 or link.type ==331) and link.volume_delay_func >= 20: #Central\n",
    "#     if link.type == 101 and link.volume_delay_func >= 20: #PD1\n",
    "#     if ((link.type >199 and link.type <300) or link.type > 899) and link.volume_delay_func == 11: # East \n",
    "#     if link.type >= 220 and link.type <224 and link.volume_delay_func == 11: # Urban durham\n",
    "    #if link.type == 820 or link.type ==850: # West\n",
    "    #if (link.type >599 and link.type<700) or link.type ==810 or link.type == 800: #Southwest\n",
    "    #if link.type == 700: # Niagara\n",
    "#     if link.type == 436 and link.volume_delay_func >= 20: #Mississauga\n",
    "    if link.type == 435 and link.volume_delay_func >= 20: #Brampton\n",
    "        if link.num_lanes > 0:\n",
    "            km_total += link.length\n",
    "            if link.data3 > 0:\n",
    "                if ( link.auto_volume / (link.data3*link.num_lanes)) > cong:\n",
    "                    km_congested += link.length\n",
    "print km_congested, km_total, km_congested/km_total"
   ]
  },
  {
   "cell_type": "code",
   "execution_count": 15,
   "metadata": {
    "collapsed": false,
    "show_input": true
   },
   "outputs": [
    {
     "name": "stdout",
     "output_type": "stream",
     "text": [
      "> \u001b[1;32m<ipython-input-14-49648b7aa27b>\u001b[0m(16)\u001b[0;36m<module>\u001b[1;34m()\u001b[0m\n",
      "\u001b[1;32m     15 \u001b[1;33m            \u001b[0mkm_total\u001b[0m \u001b[1;33m+=\u001b[0m \u001b[0mlink\u001b[0m\u001b[1;33m.\u001b[0m\u001b[0mlength\u001b[0m\u001b[1;33m\u001b[0m\u001b[0m\n",
      "\u001b[0m\u001b[1;32m---> 16 \u001b[1;33m            \u001b[1;32mif\u001b[0m \u001b[1;33m(\u001b[0m \u001b[0mlink\u001b[0m\u001b[1;33m.\u001b[0m\u001b[0mauto_volume\u001b[0m \u001b[1;33m/\u001b[0m \u001b[1;33m(\u001b[0m\u001b[0mlink\u001b[0m\u001b[1;33m.\u001b[0m\u001b[0mdata3\u001b[0m\u001b[1;33m*\u001b[0m\u001b[0mlink\u001b[0m\u001b[1;33m.\u001b[0m\u001b[0mnum_lanes\u001b[0m\u001b[1;33m)\u001b[0m\u001b[1;33m)\u001b[0m \u001b[1;33m>\u001b[0m \u001b[0mcong\u001b[0m\u001b[1;33m:\u001b[0m\u001b[1;33m\u001b[0m\u001b[0m\n",
      "\u001b[0m\u001b[1;32m     17 \u001b[1;33m                \u001b[0mkm_congested\u001b[0m \u001b[1;33m+=\u001b[0m \u001b[0mlink\u001b[0m\u001b[1;33m.\u001b[0m\u001b[0mlength\u001b[0m\u001b[1;33m\u001b[0m\u001b[0m\n",
      "\u001b[0m\n",
      "ipdb> km_congested\n",
      "421.8392056673765\n",
      "ipdb> km_total\n",
      "2984.3801924288273\n",
      "ipdb> link.auto_volume\n",
      "0\n",
      "ipdb> link.data3\n",
      "0.0\n",
      "ipdb> link.num_lanes\n",
      "1.0\n",
      "ipdb> quit\n"
     ]
    }
   ],
   "source": [
    "%debug"
   ]
  },
  {
   "cell_type": "code",
   "execution_count": null,
   "metadata": {
    "collapsed": true
   },
   "outputs": [],
   "source": [
    "    if link.type == 435 and link.volume_delay_func >= 20: #Brampton\n",
    "        if link.num_lanes > 0:\n",
    "            km_total += link.length\n",
    "            if link.data3 > 0:\n",
    "                if ( link.auto_volume / (link.data3*link.num_lanes)) > cong:\n",
    "                    km_congested += link.length"
   ]
  },
  {
   "cell_type": "code",
   "execution_count": 9,
   "metadata": {
    "collapsed": false
   },
   "outputs": [
    {
     "name": "stdout",
     "output_type": "stream",
     "text": [
      "(50.929757078926585, 36.62834057693439)\n"
     ]
    }
   ],
   "source": [
    "#calculate average truck travel time\n",
    "sc_num_am = 109\n",
    "\n",
    "sc_am = eb.scenario(sc_num_am)\n",
    "ntwk = sc_am.get_network()\n",
    "\n",
    "truck_vols = [\"@volau_htruck\",\"@volau_mtruck\",\"@volau_ltruck\"]\n",
    "auto_vols = [\"@volau1_nt\",\"@volau1_toll\",\\\n",
    "             \"@volau2_nt_nh\",\"@volau2_nt_hov\",\"@volau2_toll_nh\",\"@volau2_toll_hov\",\\\n",
    "            \"@volau3_nt_nh\",\"@volau3_nt_hov\",\"@volau3_toll_nh\",\"@volau3_toll_hov\"]\n",
    "\n",
    "vol_atts = truck_vols\n",
    "\n",
    "vkt = 0.0\n",
    "cong_hrs = 0.0\n",
    "# (type >101 && type <200) || type ==333 || type ==329 || type ==331\n",
    "for link in ntwk.links():\n",
    "    if ((link.type > 101 and link.type <200) or link.type ==333 or link.type ==329 or link.type ==331):\n",
    "    #if link.type == 101 and link.volume_delay_func > 20:\n",
    "    #if link.type >= 220 and link.type <224:\n",
    "    #if (link.type >599 and link.type<700) or link.type ==810 or link.type == 800:\n",
    "    #if link.type == 820 or link.type ==850:\n",
    "    #if link.type == 700:\n",
    "        if link.auto_time > 0:\n",
    "            #ff_time = link.length/link.data2\n",
    "            cong_time = link.auto_time/60\n",
    "            volume = 0.0\n",
    "            for vol in vol_atts:\n",
    "                volume += link[vol]\n",
    "            #ff_hrs += ff_time*volume\n",
    "            cong_hrs += cong_time*volume\n",
    "            vkt += link.length*volume\n",
    "            \n",
    "#print ff_hrs\n",
    "#print cong_hrs\n",
    "#print cong_hrs-ff_hrs\n",
    "val_2016 = vkt/cong_hrs\n",
    "\n",
    "sc_num_am = 203\n",
    "\n",
    "sc_am = eb.scenario(sc_num_am)\n",
    "ntwk = sc_am.get_network()\n",
    "\n",
    "truck_vols = [\"@volau_htruck\",\"@volau_mtruck\",\"@volau_ltruck\"]\n",
    "auto_vols = [\"@volau1_nt\",\"@volau1_toll\",\\\n",
    "             \"@volau2_nt_nh\",\"@volau2_nt_hov\",\"@volau2_toll_nh\",\"@volau2_toll_hov\",\\\n",
    "            \"@volau3_nt_nh\",\"@volau3_nt_hov\",\"@volau3_toll_nh\",\"@volau3_toll_hov\"]\n",
    "\n",
    "vol_atts =truck_vols\n",
    "\n",
    "vkt = 0.0\n",
    "cong_hrs = 0.0\n",
    "\n",
    "for link in ntwk.links():\n",
    "    if ((link.type > 101 and link.type <200) or link.type ==333 or link.type ==329 or link.type ==331):\n",
    "    #if link.type == 101 and link.volume_delay_func > 20:\n",
    "    #if link.type >= 220 and link.type <224:\n",
    "    #if (link.type >599 and link.type<700) or link.type ==810 or link.type == 800:\n",
    "    #if link.type == 820 or link.type ==850:\n",
    "    #if link.type == 700:\n",
    "        if link.auto_time > 0:\n",
    "            #ff_time = link.length/link.data2\n",
    "            cong_time = link.auto_time/60\n",
    "            volume = 0.0\n",
    "            for vol in vol_atts:\n",
    "                volume += link[vol]\n",
    "            #ff_hrs += ff_time*volume\n",
    "            cong_hrs += cong_time*volume\n",
    "            vkt += link.length*volume\n",
    "            \n",
    "#print ff_hrs\n",
    "#print cong_hrs\n",
    "#print cong_hrs-ff_hrs\n",
    "val_2041 = vkt/cong_hrs\n",
    "\n",
    "print(val_2016,val_2041)"
   ]
  },
  {
   "cell_type": "code",
   "execution_count": 8,
   "metadata": {
    "collapsed": false
   },
   "outputs": [
    {
     "name": "stdout",
     "output_type": "stream",
     "text": [
      "(0.5039902239957293, 0.6763997887749569)\n"
     ]
    }
   ],
   "source": [
    "print(val_2016*60,val_2041*60)"
   ]
  },
  {
   "cell_type": "code",
   "execution_count": 3,
   "metadata": {
    "collapsed": false,
    "show_input": true
   },
   "outputs": [
    {
     "name": "stdout",
     "output_type": "stream",
     "text": [
      "(3907.9697873516125, 12054.211694517644, 8146.2419071660315)\n"
     ]
    }
   ],
   "source": [
    "#calculate hours lost due to congestion\n",
    "sc_num_am = 109\n",
    "\n",
    "sc_am = eb.scenario(sc_num_am)\n",
    "ntwk = sc_am.get_network()\n",
    "\n",
    "truck_vols = [\"@volau_htruck\",\"@volau_mtruck\",\"@volau_ltruck\"]\n",
    "auto_vols = [\"@volau1_nt\",\"@volau1_toll\",\\\n",
    "             \"@volau2_nt_nh\",\"@volau2_nt_hov\",\"@volau2_toll_nh\",\"@volau2_toll_hov\",\\\n",
    "            \"@volau3_nt_nh\",\"@volau3_nt_hov\",\"@volau3_toll_nh\",\"@volau3_toll_hov\"]\n",
    "\n",
    "vol_atts = truck_vols\n",
    "\n",
    "ff_hrs = 0.0\n",
    "cong_hrs = 0.0\n",
    "# (type >101 && type <200) || type ==333 || type ==329 || type ==331\n",
    "for link in ntwk.links():\n",
    "    if ((link.type > 101 and link.type <200) or link.type ==333 or link.type ==329 or link.type ==331):\n",
    "    #if link.type == 101 and link.volume_delay_func > 20:\n",
    "    #if link.type >= 220 and link.type <224:\n",
    "    #if (link.type >599 and link.type<700) or link.type ==810 or link.type == 800:\n",
    "    #if link.type == 820 or link.type ==850:\n",
    "    #if link.type == 700:\n",
    "        if link.auto_time > 0:\n",
    "            ff_time = link.length/link.data2\n",
    "            cong_time = link.auto_time/60\n",
    "            volume = 0.0\n",
    "            for vol in vol_atts:\n",
    "                volume += link[vol]\n",
    "            ff_hrs += ff_time*volume\n",
    "            cong_hrs += cong_time*volume\n",
    "            \n",
    "#print ff_hrs\n",
    "#print cong_hrs\n",
    "#print cong_hrs-ff_hrs\n",
    "val_2016 = cong_hrs - ff_hrs\n",
    "\n",
    "sc_num_am = 203\n",
    "\n",
    "sc_am = eb.scenario(sc_num_am)\n",
    "ntwk = sc_am.get_network()\n",
    "\n",
    "truck_vols = [\"@volau_htruck\",\"@volau_mtruck\",\"@volau_ltruck\"]\n",
    "auto_vols = [\"@volau1_nt\",\"@volau1_toll\",\\\n",
    "             \"@volau2_nt_nh\",\"@volau2_nt_hov\",\"@volau2_toll_nh\",\"@volau2_toll_hov\",\\\n",
    "            \"@volau3_nt_nh\",\"@volau3_nt_hov\",\"@volau3_toll_nh\",\"@volau3_toll_hov\"]\n",
    "\n",
    "vol_atts =truck_vols\n",
    "\n",
    "ff_hrs = 0.0\n",
    "cong_hrs = 0.0\n",
    "\n",
    "for link in ntwk.links():\n",
    "    if ((link.type > 101 and link.type <200) or link.type ==333 or link.type ==329 or link.type ==331):\n",
    "    #if link.type == 101 and link.volume_delay_func > 20:\n",
    "    #if link.type >= 220 and link.type <224:\n",
    "    #if (link.type >599 and link.type<700) or link.type ==810 or link.type == 800:\n",
    "    #if link.type == 820 or link.type ==850:\n",
    "    #if link.type == 700:\n",
    "        if link.auto_time > 0:\n",
    "            ff_time = link.length/link.data2\n",
    "            cong_time = link.auto_time/60\n",
    "            volume = 0.0\n",
    "            for vol in vol_atts:\n",
    "                volume += link[vol]\n",
    "            ff_hrs += ff_time*volume\n",
    "            cong_hrs += cong_time*volume\n",
    "            \n",
    "#print ff_hrs\n",
    "#print cong_hrs\n",
    "#print cong_hrs-ff_hrs\n",
    "val_2041 = cong_hrs - ff_hrs\n",
    "\n",
    "print(val_2016,val_2041,val_2041 - val_2016)"
   ]
  },
  {
   "cell_type": "code",
   "execution_count": null,
   "metadata": {
    "collapsed": true,
    "show_input": true
   },
   "outputs": [],
   "source": [
    "#Central 2016 = Truck hours = 3900\n",
    "#Central 2041 = Truck hours = 12,200\n",
    "#pD1 2041 Hours - 11,117 2016 - 5675\n",
    "#Southwest 2041 truck hours = 3271 2016 = 916"
   ]
  },
  {
   "cell_type": "code",
   "execution_count": 11,
   "metadata": {
    "code_folding": [],
    "collapsed": false,
    "show_input": true
   },
   "outputs": [
    {
     "name": "stdout",
     "output_type": "stream",
     "text": [
      "0.85\n"
     ]
    }
   ],
   "source": [
    "#PD1 road congestion\n",
    "geo_type = 101\n",
    "\n",
    "sc_num_am = 116\n",
    "sc_am = eb.scenario(sc_num_am)\n",
    "ntwk = sc_am.get_network()\n",
    "\n",
    "veh_attributes = [\"@volau1_nt\",\"@volau1_toll\",\n",
    "                  \"@volau2_nt_hov\",\"@volau2_nt_nh\",\"@volau2_toll_hov\",\"@volau2_toll_nh\",\n",
    "                  \"@volau3_nt_hov\",\"@volau3_nt_nh\",\"@volau3_toll_hov\",\"@volau3_toll_nh\"]\n",
    "\n",
    "truck_attributes = [\"@volau_htruck\",\"@volau_ltruck\",\"@volau_mtruck\"]\n",
    "\n",
    "cong_frac =0.85\n",
    "\n",
    "total_auto_pkt = 0.0\n",
    "total_truck_pkt = 0.0\n",
    "\n",
    "cong_auto_pkt = 0.0\n",
    "cong_truck_pkt = 0.0\n",
    "\n",
    "for link in ntwk.links():\n",
    "    #ignore centroid connectors, transfer links\n",
    "    \n",
    "    if link.length > 0 and link.data3!= 9999 and link.auto_time >0:\n",
    "        link_veh = 0.0\n",
    "        link_truck = 0.0\n",
    "            \n",
    "        for volume in veh_attributes:\n",
    "            link_veh += link[volume]\n",
    "        for volume in truck_attributes:\n",
    "            link_truck += link[volume]\n",
    "\n",
    "        \n",
    "        if link.type == geo_type:\n",
    "            try:\n",
    "                if (link_veh+link_truck)/(link.num_lanes*link.data3) > cong_frac:\n",
    "                    cong_auto_pkt += link_veh*link.length\n",
    "                    cong_truck_pkt += link_truck*link.length\n",
    "                total_auto_pkt += link_veh*link.length\n",
    "                total_truck_pkt += link_truck*link.length\n",
    "            except:\n",
    "                pass\n",
    "\n",
    "\n",
    "\n",
    "print(\"{0:.2f}\".format(cong_auto_pkt/total_auto_pkt))\n",
    "\n"
   ]
  },
  {
   "cell_type": "code",
   "execution_count": 10,
   "metadata": {
    "collapsed": false,
    "show_input": true
   },
   "outputs": [
    {
     "name": "stdout",
     "output_type": "stream",
     "text": [
      "324.586733352\n"
     ]
    }
   ],
   "source": [
    "sc_num_am = 116\n",
    "geo_type = 820 #KW and Cambridge\n",
    "sc_am = eb.scenario(sc_num_am)\n",
    "ntwk = sc_am.get_network()\n",
    "cong = 0.85\n",
    "\n",
    "km_congested = 0.0\n",
    "\n",
    "for link in ntwk.links():\n",
    "    #if link.volume_delay_func > 20 :\n",
    "    if link.type == geo_type and link.volume_delay_func > 20 :\n",
    "    #if ((link.type >=220  and link.type < 224)) and link.volume_delay_func > 20 :\n",
    "    #if ((link.type > 101 and link.type <200) or link.type ==333 or link.type ==329 or link.type ==331) and link.volume_delay_func > 20 :\n",
    "        if link.num_lanes > 0: \n",
    "            if ( link.auto_volume / (link.data3*link.num_lanes)) > cong:\n",
    "                km_congested += link.length\n",
    "print km_congested "
   ]
  },
  {
   "cell_type": "code",
   "execution_count": 4,
   "metadata": {
    "collapsed": false,
    "show_input": true
   },
   "outputs": [
    {
     "name": "stdout",
     "output_type": "stream",
     "text": [
      "139.760049257\n"
     ]
    }
   ],
   "source": [
    "# Central highway congested km\n",
    "sc_num_am = 116\n",
    "cong = 0.85\n",
    "sc_am = eb.scenario(sc_num_am)\n",
    "ntwk = sc_am.get_network()\n",
    "#(link.type == 327 or link.type == 870 or link.type == 880) and link.volume_delay_func > 20 #gets roads within cities\n",
    "km_congested = 0.0\n",
    "\n",
    "for link in ntwk.links():\n",
    "    if (link.type == 327 or link.type == 870 or link.type == 880) and link.volume_delay_func > 20:\n",
    "        if link.num_lanes > 0: \n",
    "            if ( link.auto_volume / (link.data3*link.num_lanes)) > cong:\n",
    "                km_congested += link.length\n",
    "print km_congested    "
   ]
  },
  {
   "cell_type": "code",
   "execution_count": 3,
   "metadata": {
    "collapsed": false,
    "show_input": true
   },
   "outputs": [
    {
     "name": "stdout",
     "output_type": "stream",
     "text": [
      "Imported matrix mf2\n",
      "Imported matrix mf4\n",
      "Imported matrix mf1\n",
      "Imported matrix mf3\n",
      "Finished Importing Matrices\n"
     ]
    }
   ],
   "source": [
    "#for mode split plots \n",
    "\n",
    "sc_num_am = 109\n",
    "sc_am = eb.scenario(sc_num_am)\n",
    "\n",
    "matrix_folder = u\"P:\\\\451010\\\\281829_GGH\\\\GGHM Runs\\\\2041\\\\GGHM Base Case\\\\USE - Sent Through FTP September 20 2018\"\n",
    "matrix_folder = u\"P:\\\\451010\\\\281829_GGH\\\\GGHM Runs\\\\2016\\\\Daily Demand Matrices (2)\"\n",
    "\n",
    "\n",
    "common.clear_matrices(eb)\n",
    "matrix_list ={\n",
    "    \"trips_all_modes_daily\" :\"\",\n",
    "    \"trips_auto_peak\" :\"\",\n",
    "    \"trips_transit_peak\" :\"\",\n",
    "    \"trips_active_peak\" :\"\"\n",
    "    }\n",
    "\n",
    "matrix_list ={\n",
    "    \"trips_all_modes_daily\" :\"\",\n",
    "    \"trips_auto_daily\" :\"\",\n",
    "    \"trips_transit_daily\" :\"\",\n",
    "    \"trips_active_daily\" :\"\"\n",
    "    }\n",
    "\n",
    "#Import matrices\n",
    "for matrix_name in matrix_list.keys():\n",
    "    matrix_list[matrix_name] = eb.available_matrix_identifier('FULL')\n",
    "    create_matrix(matrix_id = matrix_list[matrix_name],\n",
    "                  matrix_name= matrix_name,\n",
    "                  matrix_description = matrix_name)\n",
    "    \n",
    "common.import_matrices_from_directory(matrix_folder, matrix_list, \".mdf\",sc_am) "
   ]
  },
  {
   "cell_type": "code",
   "execution_count": null,
   "metadata": {
    "collapsed": true,
    "show_input": true
   },
   "outputs": [],
   "source": []
  }
 ],
 "metadata": {
  "kernelspec": {
   "display_name": "Python 2",
   "language": "python",
   "name": "python2"
  },
  "language_info": {
   "codemirror_mode": {
    "name": "ipython",
    "version": 2
   },
   "file_extension": ".py",
   "mimetype": "text/x-python",
   "name": "python",
   "nbconvert_exporter": "python",
   "pygments_lexer": "ipython2",
   "version": "2.7.9"
  }
 },
 "nbformat": 4,
 "nbformat_minor": 0
}
