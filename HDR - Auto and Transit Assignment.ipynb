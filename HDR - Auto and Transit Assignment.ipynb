{
 "cells": [
  {
   "cell_type": "code",
   "execution_count": 1,
   "metadata": {
    "collapsed": true,
    "show_input": true
   },
   "outputs": [],
   "source": [
    "import inro.modeller as m\n",
    "import os\n",
    "import glob\n",
    "import csv\n",
    "\n",
    "mm = m.Modeller()\n",
    "eb = mm.emmebank\n",
    "\n",
    "#HDR Scripts\n",
    "common = mm.module('org.emme.common')\n",
    "moe = mm.module('org.emme.moe')\n",
    "\n",
    "#tools\n",
    "create_extra_att = mm.tool(\"inro.emme.data.extra_attribute.create_extra_attribute\")\n",
    "import_matrices = mm.tool(\"tmg.input_output.import_binary_matrix\")\n",
    "change_matrix = m.Modeller().tool(\"inro.emme.data.matrix.change_matrix_properties\")\n",
    "create_matrix =  m.Modeller().tool(\"inro.emme.data.matrix.create_matrix\")\n",
    "matrix_calculator = m.Modeller().tool(\"inro.emme.matrix_calculation.matrix_calculator\")\n",
    "export_matrices = mm.tool(\"tmg.input_output.export_binary_matrix\")\n",
    "\n",
    "#scenario definitions\n",
    "scen_base = \"2041\\\\GGHM Base Case\\\\\"\n",
    "scen_1C_HOV2 = \"2041\\\\Scen1c HOV2plus\\\\\"\n",
    "scen_1C_HOV3 = \"2041\\\\Scen1c HOV3\\\\\"\n",
    "scen_4A = \"2041\\\\HOV4A 0-2-2\\\\\"\n",
    "scen_5A = \"2041\\\\HOV5A 0-2-2\\\\\"\n",
    "scen_6A = \"2041\\\\HOV6A 0-2-2\\\\\"\n",
    "scen_2011 = \"2011 GGHM validation run\\\\\""
   ]
  },
  {
   "cell_type": "code",
   "execution_count": 2,
   "metadata": {
    "collapsed": true,
    "show_input": true
   },
   "outputs": [],
   "source": [
    "#scenario_folder = scen_2011\n",
    "sc_am = eb.scenario(116)"
   ]
  },
  {
   "cell_type": "code",
   "execution_count": 6,
   "metadata": {
    "collapsed": true,
    "show_input": true
   },
   "outputs": [],
   "source": [
    "matrix_folder = u\"P:\\\\451010\\\\281829_GGH\\\\GGHM Runs\\\\\" + scenario_folder"
   ]
  },
  {
   "cell_type": "code",
   "execution_count": 3,
   "metadata": {
    "collapsed": true,
    "show_input": true
   },
   "outputs": [],
   "source": [
    "#delete all matrices\n",
    "common.clear_matrices(eb)"
   ]
  },
  {
   "cell_type": "code",
   "execution_count": null,
   "metadata": {
    "collapsed": true,
    "show_input": true
   },
   "outputs": [],
   "source": [
    "moe.prep_SOLA_assignment(matrix_folder,sc_am)"
   ]
  },
  {
   "cell_type": "code",
   "execution_count": 8,
   "metadata": {
    "collapsed": false,
    "show_input": true
   },
   "outputs": [
    {
     "name": "stdout",
     "output_type": "stream",
     "text": [
      "Finished Importing Matrices\n"
     ]
    }
   ],
   "source": [
    "moe.prep_transit_assignment(matrix_folder,sc_am)"
   ]
  },
  {
   "cell_type": "code",
   "execution_count": null,
   "metadata": {
    "collapsed": true,
    "show_input": true
   },
   "outputs": [],
   "source": [
    "MOEs = {}"
   ]
  },
  {
   "cell_type": "code",
   "execution_count": 4,
   "metadata": {
    "collapsed": true,
    "show_input": true
   },
   "outputs": [],
   "source": [
    "run_folder = r\"\\\\tore-infs01\\PWExternal\\451010\\281829_GGH\\GGHM Runs\\2041\\GGHM Base Case\\USE - Sent Through FTP September 20 2018\\Trip Matrices\"\n",
    "matrix_list ={\n",
    "    \"trips_am_peak_auto1_nt\" :\"mf21\",\n",
    "    \"trips_am_peak_auto1_toll\" :\"mf22\",\n",
    "    \"trips_am_peak_auto2_nt_hov\" :\"mf24\",\n",
    "    \"trips_am_peak_auto2_nt_nh\" :\"mf23\",\n",
    "    \"trips_am_peak_auto2_toll_hov\" :\"mf26\",\n",
    "    \"trips_am_peak_auto2_toll_nh\" :\"mf25\",\n",
    "    \"trips_am_peak_auto3_nt_hov\" :\"mf28\",\n",
    "    \"trips_am_peak_auto3_nt_nh\" :\"mf27\",\n",
    "    \"trips_am_peak_auto3_toll_hov\" :\"mf30\",\n",
    "    \"trips_am_peak_auto3_toll_nh\" :\"mf29\",\n",
    "    }\n",
    "\n",
    "common.import_matrices_from_directory(run_folder, matrix_list, \".mdf\",116) \n",
    "\n",
    "truck_folder = r\"\\\\tore-infs01\\PWExternal\\451010\\281829_GGH\\GGHM Runs\\2041\\GGHM Base Case\\USE - Sent Through FTP September 20 2018\\Truck_demand_2041 _ copied from BaseCase\"\n",
    "\n",
    "truck_list ={\n",
    "    \"lt_truck_ampkhr\" :\"mf65\",\n",
    "    \"mt_truck_ampkhr\" :\"mf70\",\n",
    "    \"ht_truck_ampkhr\" :\"mf75\",\n",
    "    }\n",
    "\n",
    "common.import_matrices_from_directory(truck_folder, truck_list, \".mdf\",116) \n"
   ]
  },
  {
   "cell_type": "code",
   "execution_count": 6,
   "metadata": {
    "collapsed": false
   },
   "outputs": [],
   "source": [
    "for i in range(1,14):\n",
    "    create_matrix(\"mf\" + str(i), \"demand\" + str(i), \"saved select link demand \" + str(i))"
   ]
  },
  {
   "cell_type": "code",
   "execution_count": null,
   "metadata": {
    "collapsed": true,
    "scrolled": true,
    "show_input": true
   },
   "outputs": [],
   "source": [
    "\n",
    "MOEs = moe.MOE_HOV(MOEs,matrix_folder, min_transit_time_peak, sc_am,sov_oc, hov2_oc, hov3_oc )"
   ]
  },
  {
   "cell_type": "code",
   "execution_count": 10,
   "metadata": {
    "collapsed": false,
    "show_input": true
   },
   "outputs": [
    {
     "ename": "ImportError",
     "evalue": "No module named TrafficAssignmentModel",
     "output_type": "error",
     "traceback": [
      "\u001b[1;31m---------------------------------------------------------------------------\u001b[0m",
      "\u001b[1;31mImportError\u001b[0m                               Traceback (most recent call last)",
      "\u001b[1;32m<ipython-input-10-eebfe5fa5831>\u001b[0m in \u001b[0;36m<module>\u001b[1;34m()\u001b[0m\n\u001b[1;32m----> 1\u001b[1;33m \u001b[1;32mimport\u001b[0m \u001b[0mTrafficAssignmentModel\u001b[0m\u001b[1;33m\u001b[0m\u001b[0m\n\u001b[0m",
      "\u001b[1;31mImportError\u001b[0m: No module named TrafficAssignmentModel"
     ]
    }
   ],
   "source": [
    "import TrafficAssignmentModel"
   ]
  },
  {
   "cell_type": "code",
   "execution_count": null,
   "metadata": {
    "collapsed": true,
    "show_input": true
   },
   "outputs": [],
   "source": []
  }
 ],
 "metadata": {
  "kernelspec": {
   "display_name": "Python 2",
   "language": "python",
   "name": "python2"
  },
  "language_info": {
   "codemirror_mode": {
    "name": "ipython",
    "version": 2
   },
   "file_extension": ".py",
   "mimetype": "text/x-python",
   "name": "python",
   "nbconvert_exporter": "python",
   "pygments_lexer": "ipython2",
   "version": "2.7.9"
  }
 },
 "nbformat": 4,
 "nbformat_minor": 0
}
