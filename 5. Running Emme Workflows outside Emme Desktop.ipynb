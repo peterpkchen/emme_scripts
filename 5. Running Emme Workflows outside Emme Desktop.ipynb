{
    "cells": [
        {
            "cell_type": "markdown", 
            "metadata": {
                "show_input": true
            }, 
            "source": [
                "<div>\n", 
                "  <div>\n", 
                "    Emme Notebook and Scripting Course, June 2019 <br>\n", 
                "  </div>\n", 
                "  <div>\n", 
                "    <img style=\"align: left; margin: 15px 15px 15px 0px;\" src=\"./INRO Logo.png\" width=\"120\" />\n", 
                "  </div>\n", 
                "  <div>\n", 
                "    \u00c2\u00a9 Copyright 2019 INRO\n", 
                "  </div>\n", 
                "</div>"
            ]
        }, 
        {
            "cell_type": "markdown", 
            "metadata": {}, 
            "source": [
                "# 5. Running Emme Workflows outside Emme Desktop\n", 
                "\n", 
                "There are many cases when it is useful to run a Python script to achieve some Emme workflow without first starting the software interactively. Common use cases include model runs which are started from the command-line, or when you want to program using Emme APIs in standalone programs or when using an IDE (integrated development environment). In these cases it is possible to automate standalone operation of Emme as described here."
            ]
        }, 
        {
            "cell_type": "markdown", 
            "metadata": {}, 
            "source": [
                "## 5.1. Contents\n", 
                "\n", 
                "<a href=\"#5.1-Contents\">5.1 Contents</a>\n", 
                "\n", 
                "<a href=\"#5.2.-Start-a-dedicated-instance-of-the-Emme-Desktop\">5.2. Start a dedicated instance of the Emme Desktop</a>\n", 
                "\n", 
                "<a href=\"#5.3.-Connect-to-the-Modeller\">5.3. Connect to the Modeller</a>\n", 
                "\n", 
                "<a href=\"#5.4.-Closing\">5.4. Closing</a>\n", 
                "\n", 
                "\n", 
                "<a href=\"#5.5-Example-of-a-standalone-Python-file-to-automate-Emme-tasks\">5.5 Example of a standalone Python file to automate Emme tasks</a>\n", 
                "\n", 
                "\n", 
                "<a href=\"#5.6.-Starting-external-workflows-from-Emme-Shell\">5.6. Starting external workflows from Emme Shell</a>\n"
            ]
        }, 
        {
            "cell_type": "markdown", 
            "metadata": {}, 
            "source": [
                "## 5.2. Start a dedicated instance of the Emme Desktop\n", 
                "In order to follow along with this example, please start by creating a new _Teaching and Demonstration project (Winnipeg)_.\n", 
                "\n", 
                "The most reliable method to create an __App__ object is to start a new Emme Desktop using `inro.emme.desktop.app.start_dedicated(args)`:"
            ]
        }, 
        {
            "cell_type": "code", 
            "execution_count": null, 
            "metadata": {
                "show_input": true
            }, 
            "outputs": [], 
            "source": [
                "import inro.emme.desktop.app as _app\n", 
                "desktop = _app.start_dedicated(\n", 
                "    visible=True,\n", 
                "    user_initials=\"INRO\",\n", 
                "    project=\"C:/Users/INRO/Winnipeg/Winnipeg.emp\"\n", 
                ")"
            ]
        }, 
        {
            "cell_type": "markdown", 
            "metadata": {}, 
            "source": [
                "This will start a new Emme Desktop application on the project located at _C:/Users/INRO/Winnipeg/Winnipeg.emp_, and provide an __App__ object named `desktop`, which is connected to this instance of the Emme Desktop. (Note: replace the example project file path with one appropriate to your system.) The `app.start_dedicated()` function requires three arguments: _visible_, *user_initials* and _project_. The value for _visible_ is `True` or `False`; *user_initials* and _project_ are strings (enclosed in single or double quotes). Project is the full file path to the project (*.emp) file.\n", 
                "\n", 
                "__NOTE__: A common \"gotcha\" in Python is the use of the backslash character (\"\\\") in Windows file paths. Python uses \"\\\" as a special escape character to represent characters that otherwise could not be represented in a string, such as newline (\"\\n\") or tab (\"\\t\"). See [Lexical analysis: literals](https://docs.python.org/3/reference/lexical_analysis.html#literals) in the official Python documentation for details. Use either forward slash \"/\", double backslashes \"\\\\\\\\\" or raw string literals to type out file paths."
            ]
        }, 
        {
            "cell_type": "code", 
            "execution_count": null, 
            "metadata": {
                "show_input": true
            }, 
            "outputs": [], 
            "source": [
                "\"C:/Users/INRO/Winnipeg/Winnipeg.emp\" # with forward slashes: valid path\n", 
                "\"C:\\\\Users\\\\INRO\\\\Winnipeg\\\\Winnipeg.emp\" # with double backslashes: valid path\n", 
                "r\"C:\\Users\\INRO\\Winnipeg\\Winnipeg.emp\" # raw string literal with the 'r' prefix: valid path\n", 
                "\n", 
                "\"C:\\Users\\INRO\\Winnipeg\\Winnipeg.emp\" # NOT A VALID path as the backslash is the Python escape character"
            ]
        }, 
        {
            "cell_type": "markdown", 
            "metadata": {}, 
            "source": [
                "## 5.3. Connect to the Modeller\n", 
                "The Emme Modeller API provides automation facilities for the Modeller application framework. The entry point to the Emme Modeller API is the `inro.modeller.Modeller` class. Find below an extract of the corresponding _Emme API Reference_:\n", 
                "\n", 
                "> `class inro.modeller.Modeller([desktop=None])`: The Modeller object is the main entry-point to the Modeller framework, providing tool lookup and automation services for any deployed Modeller Tool.\n", 
                "\n", 
                "> If `desktop` is specified, construct and return a new Modeller object with a connection to an open Emme Desktop specified by `desktop`, an `App` object. Modeller always requires a connection to an open Emme Desktop.\n", 
                "\n", 
                "> __When called outside the Modeller environment, e.g. in a standalone Python script,__ an Emme Desktop API `App` object is required to specify the Emme Desktop instance to which Modeller will connect.\n", 
                "\n", 
                "The last sentence is relevant to us as it describes what we need to do. To create a Modeller object and connect to it:"
            ]
        }, 
        {
            "cell_type": "code", 
            "execution_count": null, 
            "metadata": {
                "show_input": true
            }, 
            "outputs": [], 
            "source": [
                "import inro.modeller as _m\n", 
                "modeller = _m.Modeller(desktop=desktop)"
            ]
        }, 
        {
            "cell_type": "markdown", 
            "metadata": {}, 
            "source": [
                "## 5.4. Closing\n", 
                "To close an Emme Desktop application at the end of the script, use the `App.close()` method. All changes to the project will be discarded."
            ]
        }, 
        {
            "cell_type": "code", 
            "execution_count": null, 
            "metadata": {
                "show_input": true
            }, 
            "outputs": [], 
            "source": [
                "desktop.close()"
            ]
        }, 
        {
            "cell_type": "markdown", 
            "metadata": {}, 
            "source": [
                "__Important note__: Only one `Modeller` object can be constructed in a process, __and it may not be closed__. Workflows which involve constructing multiple `Modeller` objects should be restructured to use one Master Modeller and Desktop project, or use the Emme Database API. The `Modeller` object will be discarded only on process termination."
            ]
        }, 
        {
            "cell_type": "markdown", 
            "metadata": {}, 
            "source": [
                "## 5.5 Example of a standalone Python file to automate Emme tasks\n", 
                "A standalone Python file is a regular text file with the `.py` extension. In order to be runnable it must implement a `main` function which is the entry point to the Python file and is executed thanks to the following snippet:\n", 
                "\n", 
                "```python\n", 
                "if __name__ == '__main__':\n", 
                "    main()\n", 
                "```"
            ]
        }, 
        {
            "cell_type": "code", 
            "execution_count": null, 
            "metadata": {
                "show_input": true
            }, 
            "outputs": [], 
            "source": [
                "import inro.emme.desktop.app as _app\n", 
                "import inro.modeller as _m\n", 
                "\n", 
                "\n", 
                "    \n", 
                "# Any Python file needs to define a main function in order to be called\n", 
                "def main():\n", 
                "    # Define the path to the Emme project (.emp file). THIS SHOULD BE MODIFIED TO MATCH YOUR OWN PROJECT\n", 
                "    emp_file = \"C:/Users/INRO/Winnipeg/Winnipeg.emp\"\n", 
                "    \n", 
                "    # start a dedicated instance of Emme Desktop connected to the specified project\n", 
                "    desktop = _app.start_dedicated(\n", 
                "        visible=True,\n", 
                "        user_initials='ag',\n", 
                "        project=emp_file\n", 
                "    )\n", 
                "    \n", 
                "    # Connect to the Modeller\n", 
                "    modeller = _m.Modeller(desktop=desktop)\n", 
                "    \n", 
                "    # Run your code. Here we will create a matrix as a simple example\n", 
                "    create_matrix = modeller.tool('inro.emme.data.matrix.create_matrix')\n", 
                "    create_matrix(\n", 
                "        matrix_id='mf14',\n", 
                "        matrix_name='temp',\n", 
                "        overwrite=True\n", 
                "    )\n", 
                "\n", 
                "if __name__ == '__main__':\n", 
                "    main()"
            ]
        }, 
        {
            "cell_type": "markdown", 
            "metadata": {}, 
            "source": [
                "We save this Python file as _C:/5. Start Emme Desktop.py_."
            ]
        }, 
        {
            "cell_type": "markdown", 
            "metadata": {}, 
            "source": [
                "## 5.6. Starting external workflows from Emme Shell\n", 
                "In the previous section we prepared a Python script which will start a dedicated instance of Emme Desktop, connect to Emme Modeller, and use the _Create matrix_ tool to create a new matrix. To run this script, we will use the _Emme Shell_. The _Emme Shell_ is recommended for workflows which must be started outside Emme; it will always produce a command shell that corresponds to the desired version of Emme and the Python environment configuration in Emme Desktop _Tools > Application Options > Modeller > Python path_. It does this by starting a command shell with properly initialized `EMMEPATH`, `PATH` and `MODELLER_PYTHON` environment variables.\n", 
                "\n", 
                "Because multiple versions of Emme may be installed on the same system, it is important to be able to configure the environment to use the desired version of Emme. When using Emme Notebook or Emme Modeller, the environment always corresponds to the version of Emme Desktop from which it was started. When using Emme APIs in standalone operation the best way to configure your environment is to make sure you run your script from the _Emme Shell_ corresponding to the version you want to use.\n", 
                "\n"
            ]
        }, 
        {
            "cell_type": "markdown", 
            "metadata": {}, 
            "source": [
                "Start the _Emme Shell_ corresponding to the latest installed Emme version. \n", 
                "\n", 
                "<div>\n", 
                "    <img style=\"align: left; margin: 15px 15px 15px 0px;\" src=\"images/shell.png\" />\n", 
                "</div>\n", 
                "\n", 
                "In the _Emme Shell_ run the following command:\n", 
                "\n", 
                "```\n", 
                "python <PATH/TO/file>.py\n", 
                "```"
            ]
        }, 
        {
            "cell_type": "markdown", 
            "metadata": {}, 
            "source": [
                "<div>\n", 
                "    <img style=\"align: left; margin: 15px 15px 15px 0px;\" src=\"images/shell2.png\" />\n", 
                "</div>\n", 
                "During the run, you should see Emme Desktop open briefly, then the matrix is created and eventually the application is closed."
            ]
        }, 
        {
            "cell_type": "code", 
            "execution_count": null, 
            "metadata": {
                "show_input": true
            }, 
            "outputs": [], 
            "source": []
        }
    ], 
    "metadata": {
        "kernelspec": {
            "display_name": "Python 2", 
            "language": "python", 
            "name": "python2"
        }, 
        "language_info": {
            "codemirror_mode": {
                "name": "ipython", 
                "version": 2
            }, 
            "file_extension": ".py", 
            "mimetype": "text/x-python", 
            "name": "python", 
            "nbconvert_exporter": "python", 
            "pygments_lexer": "ipython2", 
            "version": "2.7.14"
        }, 
        "modeller": {
            "desktop_app_port": "4242"
        }
    }, 
    "nbformat": 4, 
    "nbformat_minor": 2
}