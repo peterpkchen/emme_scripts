{
 "cells": [
  {
   "cell_type": "code",
   "execution_count": 1,
   "metadata": {
    "code_folding": [
     52
    ],
    "collapsed": true,
    "show_input": true
   },
   "outputs": [],
   "source": [
    "import inro.modeller as m\n",
    "mm = m.Modeller()\n",
    "eb = mm.emmebank\n",
    "\n",
    "create_exatt = mm.tool('inro.emme.data.extra_attribute.create_extra_attribute')"
   ]
  },
  {
   "cell_type": "code",
   "execution_count": 60,
   "metadata": {
    "collapsed": false,
    "show_input": true
   },
   "outputs": [
    {
     "data": {
      "text/plain": [
       "ExtraAttribute(@sl)"
      ]
     },
     "execution_count": 60,
     "metadata": {},
     "output_type": "execute_result"
    }
   ],
   "source": [
    "exatt_tag = \"@sl\"\n",
    "\n",
    "create_exatt(extra_attribute_type = \"LINK\", \n",
    "            extra_attribute_name = exatt_tag,\n",
    "            extra_attribute_default_value = 0,\n",
    "            overwrite = True)"
   ]
  },
  {
   "cell_type": "code",
   "execution_count": 90,
   "metadata": {
    "collapsed": false,
    "show_input": true
   },
   "outputs": [],
   "source": [
    "sc = eb.scenario(103)\n",
    "sc.extra_attribute(exatt_tag).initialize(0)\n",
    "ntwk = sc.get_network()\n",
    "with open (file_dir + screenline_file +\".csv\") as slfile:\n",
    "    lines = slfile.readlines()\n",
    "    for line in lines:\n",
    "        CurLine = line.rstrip(\"\\r\").split(\",\")\n",
    "        i_node = int(CurLine[0])\n",
    "        j_node = int(CurLine[1])\n",
    "        if ntwk.link(i_node, j_node):  \n",
    "            link = ntwk.link(i_node, j_node)\n",
    "            link[exatt_tag] = 1\n",
    "sc.publish_network(ntwk)"
   ]
  },
  {
   "cell_type": "code",
   "execution_count": 154,
   "metadata": {
    "collapsed": false,
    "show_input": true
   },
   "outputs": [],
   "source": [
    "\n",
    "screenline_file = \"Midest_Southwest_Links_IN\"\n",
    "\n",
    "file_dir = \"C:\\\\Users\\\\mnasterska\\\\Documents\\\\Projects\\\\GGH\\\\MOE\\\\Screenlines\\\\\"\n",
    "#file_dir = \"M:\\\\10039241 - GGH Multimodal Transportation\\\\Screenlines\\\\\""
   ]
  },
  {
   "cell_type": "code",
   "execution_count": 155,
   "metadata": {
    "code_folding": [
     52
    ],
    "collapsed": false,
    "show_input": true
   },
   "outputs": [
    {
     "name": "stdout",
     "output_type": "stream",
     "text": [
      "persons, 17876.8134888, 0.0\n",
      "transit trips, 915.663574595\n",
      "vehicle, 17751.3954927, 28200.0\n",
      "train, 250.637784004, 3200.0\n",
      "subway/lrt, 0.0, 0.0\n",
      "bus, 665.025790591, 1035.64060974\n",
      "sov,  13054.0855402\n",
      "hov2,  1663.80971851\n",
      "hov3,  175.589374853\n"
     ]
    }
   ],
   "source": [
    "sc_num = 109\n",
    "sc = eb.scenario(sc_num)\n",
    "\n",
    "ntwk = sc.get_network()\n",
    "\n",
    "capacity = {\"persons\": 0.0,\n",
    "            \"auto\": 0.0,\n",
    "            \"train\": 0.0,\n",
    "            \"subway\": 0.0,\n",
    "            \"bus\": 0.0\n",
    "           }\n",
    "volume = {\"persons\": 0.0,\n",
    "            \"auto\": 0.0,\n",
    "            \"train\": 0.0,\n",
    "            \"subway\": 0.0,\n",
    "            \"bus\": 0.0\n",
    "           }\n",
    "delay = { \"subway\": 0.0,\n",
    "            \"bus\": 0.0\n",
    "           }\n",
    "count = {\"subway\": 0,\n",
    "            \"bus\": 0\n",
    "           }\n",
    "\n",
    "sov_vols = 0.0\n",
    "hov2_vols = 0.0\n",
    "hov3_vols = 0.0\n",
    "\n",
    "\n",
    "with open (file_dir + screenline_file +\".csv\") as slfile:\n",
    "    lines = slfile.readlines()\n",
    "    for line in lines:\n",
    "        CurLine = line.rstrip(\"\\r\").split(\",\")\n",
    "        i_node = int(CurLine[0])\n",
    "        j_node = int(CurLine[1])\n",
    "        if ntwk.link(i_node, j_node):  \n",
    "            link = ntwk.link(i_node, j_node)\n",
    "\n",
    "            sov_link = link[\"@volau1_nt\"] + link[\"@volau1_toll\"]\n",
    "            hov2_link = link[\"@volau2_nt_hov\"] + link[\"@volau2_nt_nh\"] + link[\"@volau2_toll_hov\"] + link[\"@volau2_toll_nh\"]\n",
    "            hov3_link= link[\"@volau3_nt_hov\"] + link[\"@volau3_nt_nh\"] + link[\"@volau3_toll_hov\"] + link[\"@volau3_toll_nh\"]\n",
    "            truck_link = link[\"@volau_htruck\"] + link[\"@volau_mtruck\"] +link[\"@volau_ltruck\"]\n",
    "            sov_vols += sov_link\n",
    "            hov2_vols += hov2_link\n",
    "            hov3_vols += hov3_link\n",
    "            if ntwk.mode(\"I\") in link.modes:\n",
    "                volume[\"auto\"] += (sov_link + hov2_link + hov3_link + truck_link)\n",
    "                capacity[\"auto\"] += link.data3 * link.num_lanes\n",
    "            volume[\"persons\"]+= sov_link + hov2_link*2 + hov3_link*3.3\n",
    "            \n",
    "            for transit in link.segments():\n",
    "\n",
    "                #calculate average redution in speed for transit lines crossing screeline\n",
    "                # timau+length*us2\n",
    "                mode = transit.line.mode\n",
    "\n",
    "                if mode != \"r\":\n",
    "                    cong_line = transit.line\n",
    "                    #print cong_line.id\n",
    "                    ff_time = 0.0\n",
    "                    cong_time = 0.0\n",
    "                    length = 0.0\n",
    "                    for segment in cong_line.segments():\n",
    "                        length += segment.link.length\n",
    "                        if segment.transit_time_func == 2 or segment.transit_time_func ==3 :\n",
    "                            #cong_time += segment.transit_time\n",
    "                            cong_time += segment.link.auto_time + segment.link.length*segment.data2\n",
    "                            ff_au_time  = (segment.link.length*60/segment.link.data2)\n",
    "                            ff_time += ff_au_time + segment.link.length*segment.data2\n",
    "                        else:\n",
    "                            cong_time += segment.transit_time\n",
    "                            ff_time += segment.transit_time\n",
    "                    #print \"congested time \" + str(cong_time) + \" speed \" + str(length*60/cong_time)\n",
    "                    #print \"free flow time \" + str(ff_time)  + \" speed \" + str(length*60/ff_time)\n",
    "                    diff = length*60/ff_time - length*60/cong_time\n",
    "                #add MTO peak-hour factors\n",
    "                factor = 1.0\n",
    "                if mode.id == 'r':\n",
    "                    factor = 0.75\n",
    "                elif mode.id == \"m\" or mode.id == \"l\":\n",
    "                    factor = 0.59\n",
    "                elif mode.id == \"g\" or mode.id == \"p\":\n",
    "                    factor = 0.57\n",
    "                elif mode.id == \"b\" or mode.id == \"s\":\n",
    "                    factor = 0.64\n",
    "                elif mode.id == \"q\" or mode.id == \"n\":\n",
    "                    factor = 0.55\n",
    "                else:\n",
    "                    print \"Mode for segment %s not found!\"%(transit)\n",
    "                veh = transit.line.vehicle\n",
    "                voltr = transit['@voltr_avg'] * factor\n",
    "                captr = transit.line['@capacity_total']/2\n",
    "                #print transit, captr, voltr\n",
    "                #person_vols += voltr\n",
    "                \n",
    "                volume[\"persons\"] += voltr\n",
    "                if mode.id == 'r':\n",
    "                    volume[\"train\"] += voltr\n",
    "                    capacity[\"train\"] +=captr\n",
    "                elif mode.id == \"m\" or mode.id == \"l\":\n",
    "                    volume[\"subway\"] += voltr\n",
    "                    capacity[\"subway\"] +=captr\n",
    "                    delay[\"subway\"] += diff\n",
    "                    count[\"subway\"] += 1\n",
    "                else:\n",
    "                    volume[\"bus\"] += voltr\n",
    "                    capacity[\"bus\"] +=captr\n",
    "                    delay[\"bus\"] += diff\n",
    "                    count[\"bus\"] += 1\n",
    "                #if not veh_capacity.has_key(veh):\n",
    "                #    veh_capacity[veh] = captr\n",
    "                #else:\n",
    "                #    veh_capacity[veh] += captr\n",
    "                #if not veh_volumes.has_key(veh):\n",
    "                #    veh_volumes[veh] = voltr\n",
    "                #else:\n",
    "                #    veh_volumes[veh] += voltr\n",
    "                \n",
    "\n",
    "transit_persons = volume[\"train\"] + volume[\"subway\"] + volume[\"bus\"]\n",
    "print \"persons, %s, %s\"%(volume[\"persons\"],capacity[\"persons\"])\n",
    "print \"transit trips, %s\"%(transit_persons)\n",
    "print \"vehicle, %s, %s\"%(volume[\"auto\"],capacity[\"auto\"])\n",
    "print \"train, %s, %s\"%(volume[\"train\"],capacity[\"train\"])\n",
    "print \"subway/lrt, %s, %s\"%(volume[\"subway\"],capacity[\"subway\"])\n",
    "print \"bus, %s, %s\"%(volume[\"bus\"],capacity[\"bus\"])\n",
    "print \"sov, \",sov_vols\n",
    "print \"hov2, \",hov2_vols\n",
    "print \"hov3, \",hov3_vols\n",
    "#print \"avg suwbay delay %s km/hr\"%(delay[\"subway\"]/count[\"subway\"])\n",
    "#print \"avg bus delay %s km/hr\"%(delay[\"bus\"]/count[\"bus\"])\n"
   ]
  },
  {
   "cell_type": "code",
   "execution_count": 19,
   "metadata": {
    "code_folding": [
     48
    ],
    "collapsed": false,
    "show_input": true
   },
   "outputs": [
    {
     "name": "stdout",
     "output_type": "stream",
     "text": [
      "set([Mode(I)])\n"
     ]
    }
   ],
   "source": [
    "print set([ntwk.mode(\"I\")]) in "
   ]
  },
  {
   "cell_type": "code",
   "execution_count": 24,
   "metadata": {
    "collapsed": true,
    "show_input": true
   },
   "outputs": [],
   "source": []
  }
 ],
 "metadata": {
  "kernelspec": {
   "display_name": "Python 2",
   "language": "python",
   "name": "python2"
  },
  "language_info": {
   "codemirror_mode": {
    "name": "ipython",
    "version": 2
   },
   "file_extension": ".py",
   "mimetype": "text/x-python",
   "name": "python",
   "nbconvert_exporter": "python",
   "pygments_lexer": "ipython2",
   "version": "2.7.9"
  }
 },
 "nbformat": 4,
 "nbformat_minor": 0
}
