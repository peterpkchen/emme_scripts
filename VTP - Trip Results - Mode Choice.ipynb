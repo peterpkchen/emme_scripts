{
 "cells": [
  {
   "cell_type": "markdown",
   "metadata": {},
   "source": [
    "# Mode Share Results Script\n",
    "#### PC (creds to BC)\n",
    "This script generates trips to/from based on a zone mapping matrix using the Microsim outputs"
   ]
  },
  {
   "cell_type": "code",
   "execution_count": 1,
   "metadata": {},
   "outputs": [],
   "source": [
    "import os\n",
    "import glob\n",
    "import pandas as pd\n",
    "import numpy as np\n",
    "from copy import deepcopy"
   ]
  },
  {
   "cell_type": "code",
   "execution_count": 2,
   "metadata": {},
   "outputs": [],
   "source": [
    "# where your runs are\n",
    "run_directory = r\"\\\\tore-infs01\\Models\\VaughanTMP\\2051_ForecastRuns\"\n",
    "\n",
    "# where your run folder is\n",
    "run_folder = r\"2051_DN_Test_20210728_4\"\n",
    "run_path = os.path.join(run_directory,run_folder)\n",
    "\n",
    "# where your zonemapping file is\n",
    "input_pth = r\"C:\\Users\\pechen\\Desktop\\VTP\\Zones\"\n",
    "zone_map = pd.read_csv(os.path.join(input_pth,\"VTP_ZoneMapping.csv\"))\n",
    "zone_map_min = zone_map"
   ]
  },
  {
   "cell_type": "code",
   "execution_count": 3,
   "metadata": {},
   "outputs": [],
   "source": [
    "microsim_location = r\"Microsim Results\"\n",
    "microsim_path = os.path.join(run_path, microsim_location)\n",
    "\n",
    "persons_df = pd.read_csv(os.path.join(microsim_path,\"persons.csv\"))\n",
    "trips_df = pd.read_csv(os.path.join(microsim_path,\"trips.csv\"))\n",
    "tripmode_df = pd.read_csv(os.path.join(microsim_path,\"trip_modes.csv\"))\n",
    "trips_gta = trips_df[(trips_df.o_zone < 6000) & (trips_df.d_zone < 6000)]\n",
    "\n",
    "trips_gta = trips_gta.merge(persons_df,on=[\"household_id\",\"person_id\"])\n",
    "trips_gta = trips_gta[trips_gta.age >=11]\n",
    "\n",
    "trips_gta_time = tripmode_df.merge(trips_gta,how = \"right\", on = ['household_id', 'person_id', 'trip_id'])\n",
    "\n",
    "trips_gta_time[\"weight\"] = trips_gta_time[\"weight\"]/10\n",
    "trips_gta_time[\"weight_z\"] = trips_gta_time[\"weight\"]*trips_gta_time[\"weight_x\"]\n",
    "\n",
    "ms_daily_GTA = pd.pivot_table(trips_gta_time,columns = \"mode\", values = \"weight_z\", aggfunc = sum)"
   ]
  },
  {
   "cell_type": "code",
   "execution_count": 6,
   "metadata": {},
   "outputs": [],
   "source": [
    "trips_407 = trips_df\n",
    "trips_407  = trips_407.merge(persons_df,on=[\"household_id\",\"person_id\"])\n",
    "trips_407 = trips_407[trips_407.age >=11]\n",
    "trips_407 = trips_407.merge(zone_map_min,left_on = \"o_zone\", right_on =\"Zone\").drop(columns = \"Zone\").rename(columns = {\"Region\":\"region_o\"})\n",
    "trips_407 = trips_407.merge(zone_map_min,left_on = \"d_zone\", right_on =\"Zone\").drop(columns = \"Zone\").rename(columns = {\"Region\":\"region_d\"})\n",
    "\n",
    "trips_407_time = tripmode_df.merge(trips_407,how = \"right\", on = ['household_id', 'person_id', 'trip_id'])\n",
    "trips_407_time[\"weight\"] = trips_407_time[\"weight\"]/10\n",
    "trips_407_time[\"weight_z\"] = trips_407_time[\"weight\"]*trips_407_time[\"weight_x\"]\n",
    "trips_407_am = trips_407_time[(trips_407_time.o_depart >= 360) & (trips_407_time.o_depart < 540)]\n",
    "trips_407_pm = trips_407_time[(trips_407_time.o_depart >= 900) & (trips_407_time.o_depart < 1140)]"
   ]
  },
  {
   "cell_type": "code",
   "execution_count": 7,
   "metadata": {},
   "outputs": [],
   "source": [
    "am_modeshare = pd.pivot_table(trips_407_am,index = [\"region_o\",\"region_d\"],columns = \"mode\", values = \"weight_z\", aggfunc = sum,margins = True).fillna(0)\n",
    "pm_modeshare = pd.pivot_table(trips_407_pm,index = [\"region_o\",\"region_d\"],columns = \"mode\", values = \"weight_z\", aggfunc = sum,margins = True).fillna(0)"
   ]
  },
  {
   "cell_type": "code",
   "execution_count": 8,
   "metadata": {},
   "outputs": [],
   "source": [
    "am_modeshare.to_csv(os.path.join(input_pth,\"am_modeshare_2051_dn.csv\")) #Time Period MS\n",
    "pm_modeshare.to_csv(os.path.join(input_pth,\"pm_modeshare_2051_dn.csv\"))"
   ]
  },
  {
   "cell_type": "code",
   "execution_count": null,
   "metadata": {},
   "outputs": [],
   "source": []
  }
 ],
 "metadata": {
  "kernelspec": {
   "display_name": "Python 3",
   "language": "python",
   "name": "python3"
  },
  "language_info": {
   "codemirror_mode": {
    "name": "ipython",
    "version": 3
   },
   "file_extension": ".py",
   "mimetype": "text/x-python",
   "name": "python",
   "nbconvert_exporter": "python",
   "pygments_lexer": "ipython3",
   "version": "3.6.10"
  }
 },
 "nbformat": 4,
 "nbformat_minor": 4
}
