{
 "cells": [
  {
   "cell_type": "code",
   "execution_count": 1,
   "metadata": {
    "collapsed": true,
    "show_input": true
   },
   "outputs": [],
   "source": [
    "import inro.modeller as m\n",
    "\n",
    "mm = m.Modeller()\n",
    "eb = mm.emmebank\n",
    "create_exatt =  mm.tool(\"inro.emme.data.extra_attribute.create_extra_attribute\")"
   ]
  },
  {
   "cell_type": "code",
   "execution_count": 2,
   "metadata": {
    "collapsed": false,
    "show_input": true
   },
   "outputs": [
    {
     "data": {
      "text/plain": [
       "u'C:\\\\Users\\\\mnasterska\\\\Documents\\\\Projects\\\\GGH\\\\GGH_Multimodal\\\\GGH_Multimodal.emp'"
      ]
     },
     "execution_count": 2,
     "metadata": {},
     "output_type": "execute_result"
    }
   ],
   "source": [
    "input_directory = \"C:\\Users\\mnasterska\\Documents\\Projects\\GGH\\GGH_Multimodal\\\\\"\n",
    "output_directory = \"\\\\tore-infs01\\PWExternal\\451010\\281829_GGH\\SketchModel\\Unconstrained_Assignments\\\\\""
   ]
  },
  {
   "cell_type": "code",
   "execution_count": 4,
   "metadata": {
    "collapsed": true,
    "show_input": true
   },
   "outputs": [],
   "source": [
    "sc_am = eb.scenario(124)\n",
    "ntwk = sc_am.get_network()"
   ]
  },
  {
   "cell_type": "code",
   "execution_count": 3,
   "metadata": {
    "collapsed": true,
    "show_input": true
   },
   "outputs": [],
   "source": [
    "for link in ntwk.links():\n",
    "    link.volume_delay_func = 94\n",
    "sc_am.publish_network(ntwk)"
   ]
  },
  {
   "cell_type": "code",
   "execution_count": 5,
   "metadata": {
    "code_folding": [],
    "collapsed": true,
    "show_input": true
   },
   "outputs": [],
   "source": [
    "#lower speeds on non-freeway links\n",
    "for link in ntwk.links():\n",
    "    link.data2 = 50\n",
    "sc_am.publish_network(ntwk)"
   ]
  },
  {
   "cell_type": "code",
   "execution_count": 6,
   "metadata": {
    "collapsed": false,
    "show_input": true
   },
   "outputs": [
    {
     "ename": "ExistenceError",
     "evalue": "Extra attribute already exists: @vol_sov.",
     "output_type": "error",
     "traceback": [
      "\u001b[1;31m---------------------------------------------------------------------------\u001b[0m",
      "\u001b[1;31mExistenceError\u001b[0m                            Traceback (most recent call last)",
      "\u001b[1;32m<ipython-input-6-2dc40047f490>\u001b[0m in \u001b[0;36m<module>\u001b[1;34m()\u001b[0m\n\u001b[0;32m      5\u001b[0m     \u001b[0mscen\u001b[0m \u001b[1;33m=\u001b[0m \u001b[0meb\u001b[0m\u001b[1;33m.\u001b[0m\u001b[0mscenario\u001b[0m\u001b[1;33m(\u001b[0m\u001b[0msc_num\u001b[0m\u001b[1;33m)\u001b[0m\u001b[1;33m\u001b[0m\u001b[0m\n\u001b[0;32m      6\u001b[0m     \u001b[1;32mfor\u001b[0m \u001b[0matt\u001b[0m \u001b[1;32min\u001b[0m \u001b[0mexatts\u001b[0m\u001b[1;33m:\u001b[0m\u001b[1;33m\u001b[0m\u001b[0m\n\u001b[1;32m----> 7\u001b[1;33m         \u001b[0mcreate_exatt\u001b[0m\u001b[1;33m(\u001b[0m\u001b[0mscenario\u001b[0m \u001b[1;33m=\u001b[0m \u001b[0mscen\u001b[0m\u001b[1;33m,\u001b[0m \u001b[0mextra_attribute_type\u001b[0m\u001b[1;33m=\u001b[0m\u001b[1;34m\"LINK\"\u001b[0m\u001b[1;33m,\u001b[0m\u001b[0mextra_attribute_name\u001b[0m\u001b[1;33m=\u001b[0m \u001b[0matt\u001b[0m\u001b[1;33m)\u001b[0m\u001b[1;33m\u001b[0m\u001b[0m\n\u001b[0m",
      "\u001b[1;32mC:\\Program Files\\INRO\\Emme\\Emme 4\\Emme-4.3.2\\python-lib\\win64\\2.7\\modeller\\inro.director.logging\\inro\\director\\logging\\trail.pyc\u001b[0m in \u001b[0;36m__trace\u001b[1;34m(*args, **kwargs)\u001b[0m\n",
      "\u001b[1;32mC:/Users/MNASTE~1/AppData/Local/Temp/create_extra_attribute-253e8f0fcfd511e79a44480fcf3ca1bf.pyc\u001b[0m in \u001b[0;36m__call__\u001b[1;34m(self, extra_attribute_type, extra_attribute_name, extra_attribute_description, extra_attribute_default_value, overwrite, scenario)\u001b[0m\n",
      "\u001b[1;31mExistenceError\u001b[0m: Extra attribute already exists: @vol_sov."
     ]
    }
   ],
   "source": [
    "scenarios =[111,112,113,114,115,116]\n",
    "exatts =[\"@vol_sov\",\"@vol_hov\",\"@vol_transit\",\"@vol_active\",\\\n",
    "         \"@vol_truck\",\"@vol_veh_work\",\"@vol_veh_nwk\",\\\n",
    "         \"@vol_tran_work\",\"@vol_tran_nwk\",\"@vol_ld_work\",\"@vol_ld_freight\"]\n",
    "\n",
    "for sc_num in scenarios:\n",
    "    scen = eb.scenario(sc_num)\n",
    "    for att in exatts:\n",
    "        create_exatt(scenario = scen, extra_attribute_type=\"LINK\",extra_attribute_name= att,) \n"
   ]
  }
 ],
 "metadata": {
  "kernelspec": {
   "display_name": "Python 2",
   "language": "python",
   "name": "python2"
  },
  "language_info": {
   "codemirror_mode": {
    "name": "ipython",
    "version": 2
   },
   "file_extension": ".py",
   "mimetype": "text/x-python",
   "name": "python",
   "nbconvert_exporter": "python",
   "pygments_lexer": "ipython2",
   "version": "2.7.9"
  }
 },
 "nbformat": 4,
 "nbformat_minor": 0
}
