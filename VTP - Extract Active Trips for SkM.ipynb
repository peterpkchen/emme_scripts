{
 "cells": [
  {
   "cell_type": "code",
   "execution_count": null,
   "metadata": {},
   "outputs": [],
   "source": [
    "import os\n",
    "import glob\n",
    "import pandas as pd\n",
    "import numpy as np\n",
    "from copy import deepcopy"
   ]
  },
  {
   "cell_type": "code",
   "execution_count": null,
   "metadata": {},
   "outputs": [],
   "source": [
    "run_directory = r\"\\\\tore-infs01\\Models\\VaughanTMP\\2051_ForecastRuns\"\n",
    "\n",
    "run_folder = r\"2051_Preferred_new_20211209_1\"\n",
    "run_path = os.path.join(run_directory,run_folder)\n",
    "\n",
    "input_pth = r\"C:\\Users\\pechen\\Desktop\\VTP\\SkM\"\n",
    "zone_map = pd.read_csv(os.path.join(input_pth,\"VTP_ZoneMapping.csv\"))\n",
    "zone_map_min = zone_map"
   ]
  },
  {
   "cell_type": "code",
   "execution_count": 3,
   "metadata": {},
   "outputs": [],
   "source": [
    "microsim_location = r\"Microsim Results\"\n",
    "microsim_path = os.path.join(run_path, microsim_location)\n",
    "\n",
    "persons_df = pd.read_csv(os.path.join(microsim_path,\"persons.csv\"))\n",
    "trips_df = pd.read_csv(os.path.join(microsim_path,\"trips.csv\"))\n",
    "tripmode_df = pd.read_csv(os.path.join(microsim_path,\"trip_modes.csv\"))\n",
    "trips_gta = trips_df\n",
    "[(trips_df.o_zone < 6000) & (trips_df.d_zone < 6000)]\n",
    "\n",
    "trips_gta = trips_gta.merge(persons_df,on=[\"household_id\",\"person_id\"])\n",
    "trips_gta = trips_gta[trips_gta.age >=11]\n",
    "\n",
    "trips_gta_time = tripmode_df.merge(trips_gta,how = \"right\", on = ['household_id', 'person_id', 'trip_id'])\n",
    "\n",
    "trips_gta_time[\"weight\"] = trips_gta_time[\"weight\"]/10\n",
    "trips_gta_time[\"weight_z\"] = trips_gta_time[\"weight\"]*trips_gta_time[\"weight_x\"]\n",
    "\n",
    "ms_daily_GTA = pd.pivot_table(trips_gta_time,columns = \"mode\", values = \"weight_z\", aggfunc = sum)"
   ]
  },
  {
   "cell_type": "code",
   "execution_count": 4,
   "metadata": {},
   "outputs": [],
   "source": [
    "trips_VTP = trips_df\n",
    "trips_VTP  = trips_VTP.merge(persons_df,on=[\"household_id\",\"person_id\"])\n",
    "trips_VTP = trips_VTP[trips_VTP.age >=11]\n",
    "trips_VTP = trips_VTP.merge(zone_map_min,left_on = \"o_zone\", right_on =\"Zone\")\n",
    "trips_VTP = trips_VTP.merge(zone_map_min,left_on = \"d_zone\", right_on =\"Zone\")\n",
    "\n",
    "trips_VTP_time = tripmode_df.merge(trips_VTP,how = \"right\", on = ['household_id', 'person_id', 'trip_id'])\n",
    "trips_VTP_time[\"weight\"] = trips_VTP_time[\"weight\"]/10\n",
    "trips_VTP_time[\"weight_z\"] = trips_VTP_time[\"weight\"]*trips_VTP_time[\"weight_x\"]\n",
    "trips_VTP_am = trips_VTP_time[(trips_VTP_time.o_depart >= 360) & (trips_VTP_time.o_depart < 540)]\n",
    "trips_VTP_pm = trips_VTP_time[(trips_VTP_time.o_depart >= 540) & (trips_VTP_time.o_depart < 900)]"
   ]
  },
  {
   "cell_type": "code",
   "execution_count": 7,
   "metadata": {},
   "outputs": [],
   "source": [
    "am_modeshare = pd.pivot_table(trips_VTP_am,index = [\"o_zone\",\"d_zone\"],columns = \"mode\", values = \"weight_z\", aggfunc = sum,margins = True).fillna(0)\n",
    "pm_modeshare = pd.pivot_table(trips_VTP_pm,index = [\"o_zone\",\"d_zone\"],columns = \"mode\", values = \"weight_z\", aggfunc = sum,margins = True).fillna(0)\n",
    "daily_modeshare = pd.pivot_table(trips_gta_time,index = [\"o_zone\",\"d_zone\"],columns = \"mode\", values = \"weight_z\", aggfunc = sum,margins = True).fillna(0)\n"
   ]
  },
  {
   "cell_type": "code",
   "execution_count": null,
   "metadata": {},
   "outputs": [],
   "source": [
    "# am_active = am_modeshare.copy(deep=True)\n",
    "# am_active['active'] = am_active['Bicycle'] + am_active['Walk']\n",
    "# am_active.drop(am_active.columns.difference(['active','o_zone', 'd_zone']), 1, inplace=True)\n",
    "# am_active.drop(am_active.tail(1).index,inplace=True)\n",
    "\n",
    "# pm_active = pm_modeshare.copy(deep=True)\n",
    "# pm_active['active'] = pm_active['Bicycle'] + pm_active['Walk']\n",
    "# pm_active.drop(pm_active.columns.difference(['active','o_zone', 'd_zone']), 1, inplace=True)\n",
    "# pm_active.drop(pm_active.tail(1).index,inplace=True)"
   ]
  },
  {
   "cell_type": "code",
   "execution_count": null,
   "metadata": {},
   "outputs": [],
   "source": [
    "am_auto = am_modeshare.copy(deep=True)\n",
    "am_auto.drop(am_auto.columns.difference(['Auto','o_zone', 'd_zone']), 1, inplace=True)\n",
    "am_auto.drop(am_auto.tail(1).index,inplace=True)\n",
    "\n",
    "pm_auto = pm_modeshare.copy(deep=True)\n",
    "pm_auto.drop(pm_auto.columns.difference(['Auto','o_zone', 'd_zone']), 1, inplace=True)\n",
    "pm_auto.drop(pm_auto.tail(1).index,inplace=True)\n",
    "\n",
    "daily_auto = daily_modeshare.copy(deep=True)\n",
    "daily_auto.drop(daily_auto.columns.difference(['Auto','o_zone', 'd_zone']), 1, inplace=True)\n",
    "daily_auto.drop(daily_auto.tail(1).index,inplace=True)"
   ]
  },
  {
   "cell_type": "code",
   "execution_count": null,
   "metadata": {},
   "outputs": [],
   "source": [
    "am_transit = am_modeshare.copy(deep=True)\n",
    "am_transit['transit'] = am_transit['PAT']+am_transit['DAT']+am_transit['PET']+am_transit['WAT']\n",
    "am_transit.drop(am_transit.columns.difference(['transit','o_zone', 'd_zone']), 1, inplace=True)\n",
    "am_transit.drop(am_transit.tail(1).index,inplace=True)\n",
    "\n",
    "pm_transit = pm_modeshare.copy(deep=True)\n",
    "pm_transit['transit'] = pm_transit['PAT']+pm_transit['DAT']+pm_transit['PET']+pm_transit['WAT']\n",
    "pm_transit.drop(pm_transit.columns.difference(['transit','o_zone', 'd_zone']), 1, inplace=True)\n",
    "pm_transit.drop(pm_transit.tail(1).index,inplace=True)\n",
    "\n",
    "daily_transit = daily_modeshare.copy(deep=True)\n",
    "daily_transit['transit'] = daily_transit['PAT']+daily_transit['DAT']+daily_transit['PET']+daily_transit['WAT']\n",
    "daily_transit.drop(daily_transit.columns.difference(['transit','o_zone', 'd_zone']), 1, inplace=True)\n",
    "daily_transit.drop(daily_transit.tail(1).index,inplace=True)"
   ]
  },
  {
   "cell_type": "code",
   "execution_count": null,
   "metadata": {},
   "outputs": [],
   "source": [
    "# #am_active = am_active.pivot(index='o_zone', columns='d_zone', values='active')\n",
    "# am_active.to_csv(os.path.join(input_pth,\"am_active_demand.csv\"))\n",
    "# #pm_active = pm_active.pivot(index='o_zone', columns='d_zone', values='active')\n",
    "# pm_active.to_csv(os.path.join(input_pth,\"pm_active_demand.csv\"))\n",
    "am_transit.to_csv(os.path.join(input_pth, \"am_transit_demand.csv\"))\n",
    "pm_transit.to_csv(os.path.join(input_pth, \"pm_transit_demand.csv\"))\n",
    "daily_transit.to_csv(os.path.join(input_pth, \"daily_transit_demand.csv\"))\n",
    "am_auto.to_csv(os.path.join(input_pth, \"am_auto_demand.csv\"))\n",
    "pm_auto.to_csv(os.path.join(input_pth, \"pm_auto_demand.csv\"))\n",
    "daily_auto.to_csv(os.path.join(input_pth, \"daily_auto_demand.csv\"))\n",
    "\n"
   ]
  },
  {
   "cell_type": "code",
   "execution_count": null,
   "metadata": {},
   "outputs": [],
   "source": [
    "# am_active = am_active.pivot(index='o_zone', columns='d_zone', values='active').fillna(0)\n",
    "# full_index = am_active.index.union(megazones_df.index)                                                                                                                                                                 \n",
    "# df2 = am_active.reindex(labels=full_index, axis=0).reindex(labels=full_index, axis=1).fillna(0.0)                                                                                                               \n",
    "# df2.to_csv(os.path.join(input_pth, 'am_active_demand.csv'))\n",
    "\n",
    "# pm_active = pm_active.pivot(index='o_zone', columns='d_zone', values='active').fillna(0)\n",
    "# full_index = pm_active.index.union(megazones_df.index)                                                                                                                                                                 \n",
    "# df3 = pm_active.reindex(labels=full_index, axis=0).reindex(labels=full_index, axis=1).fillna(0.0)                                                                                                               \n",
    "# df3.to_csv(os.path.join(input_pth, 'pm_active_demand.csv'))"
   ]
  },
  {
   "cell_type": "code",
   "execution_count": null,
   "metadata": {},
   "outputs": [],
   "source": [
    "am_transit = am_transit.pivot(index='o_zone', columns='d_zone', values='transit').fillna(0)\n",
    "# full_index = am_transit.index.union(megazones_df.index)\n",
    "df2 = am_transit.reindex(labels=full_index, axis=0).reindex(labels=full_index, axis=1).fillna(0.0)\n",
    "df2.to_csv(os.path.join(input_pth, 'am_transit_demand.csv'))\n",
    "\n",
    "pm_transit = pm_transit.pivot(index='o_zone', columns='d_zone', values='transit').fillna(0)\n",
    "# full_index = pm_transit.index.union(megazones_df.index)\n",
    "df3 = pm_transit.reindex(labels=full_index, axis=0).reindex(labels=full_index, axis=1).fillna(0.0)\n",
    "df3.to_csv(os.path.join(input_pth, 'pm_transit_demand.csv'))\n",
    "\n",
    "daily_transit = daily_transit.pivot(index='o_zone', columns='d_zone', values='transit').fillna(0)\n",
    "# full_index = pm_transit.index.union(megazones_df.index)\n",
    "df3 = pm_transit.reindex(labels=full_index, axis=0).reindex(labels=full_index, axis=1).fillna(0.0)\n",
    "df3.to_csv(os.path.join(input_pth, 'pm_transit_demand.csv'))"
   ]
  },
  {
   "cell_type": "code",
   "execution_count": null,
   "metadata": {},
   "outputs": [],
   "source": [
    "am_transit = am_transit.pivot(index='o_zone', columns='d_zone', values='transit').fillna(0)\n",
    "# full_index = am_transit.index.union(megazones_df.index)\n",
    "df2 = am_transit.reindex(labels=full_index, axis=0).reindex(labels=full_index, axis=1).fillna(0.0)\n",
    "df2.to_csv(os.path.join(input_pth, 'am_transit_demand.csv'))\n",
    "\n",
    "pm_transit = pm_transit.pivot(index='o_zone', columns='d_zone', values='transit').fillna(0)\n",
    "# full_index = pm_transit.index.union(megazones_df.index)\n",
    "df3 = pm_transit.reindex(labels=full_index, axis=0).reindex(labels=full_index, axis=1).fillna(0.0)\n",
    "df3.to_csv(os.path.join(input_pth, 'pm_transit_demand.csv'))\n",
    "\n",
    "daily_transit = daily_transit.pivot(index='o_zone', columns='d_zone', values='transit').fillna(0)\n",
    "# full_index = pm_transit.index.union(megazones_df.index)\n",
    "df3 = pm_transit.reindex(labels=full_index, axis=0).reindex(labels=full_index, axis=1).fillna(0.0)\n",
    "df3.to_csv(os.path.join(input_pth, 'pm_transit_demand.csv'))"
   ]
  },
  {
   "cell_type": "code",
   "execution_count": null,
   "metadata": {},
   "outputs": [],
   "source": [
    "am_auto = am_auto.pivot(index='o_zone', columns='d_zone', values='Auto').fillna(0)\n",
    "full_index = am_auto.index.union(megazones_df.index)\n",
    "df2 = am_auto.reindex(labels=full_index, axis=0).reindex(labels=full_index, axis=1).fillna(0.0)\n",
    "df2.to_csv(os.path.join(input_pth, 'am_auto_demand.csv'))\n",
    "\n",
    "pm_auto = pm_auto.pivot(index='o_zone', columns='d_zone', values='Auto').fillna(0)\n",
    "full_index = pm_auto.index.union(megazones_df.index)\n",
    "df3 = pm_auto.reindex(labels=full_index, axis=0).reindex(labels=full_index, axis=1).fillna(0.0)\n",
    "df3.to_csv(os.path.join(input_pth, 'pm_auto_demand.csv'))"
   ]
  },
  {
   "cell_type": "code",
   "execution_count": null,
   "metadata": {},
   "outputs": [],
   "source": []
  }
 ],
 "metadata": {
  "interpreter": {
   "hash": "2821fd8ac360e56d292a0a45de8e3f73525e9c94d5d778738ededf6165b37854"
  },
  "kernelspec": {
   "display_name": "Python 3.8.5 ('base')",
   "language": "python",
   "name": "python3"
  },
  "language_info": {
   "codemirror_mode": {
    "name": "ipython",
    "version": 3
   },
   "file_extension": ".py",
   "mimetype": "text/x-python",
   "name": "python",
   "nbconvert_exporter": "python",
   "pygments_lexer": "ipython3",
   "version": "3.8.5"
  },
  "orig_nbformat": 4
 },
 "nbformat": 4,
 "nbformat_minor": 2
}
