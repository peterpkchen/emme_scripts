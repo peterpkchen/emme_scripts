{
 "cells": [
  {
   "cell_type": "code",
   "execution_count": 22,
   "metadata": {
    "collapsed": false,
    "show_input": true
   },
   "outputs": [],
   "source": [
    "import inro.modeller as m\n",
    "import os\n",
    "import glob\n",
    "import csv\n",
    "\n",
    "mm = m.Modeller()\n",
    "eb = m.Modeller().emmebank\n",
    "\n",
    "#tools\n",
    "import_matrices = mm.tool(\"tmg.input_output.import_binary_matrix\")           \n",
    "change_matrix = mm.tool(\"inro.emme.data.matrix.change_matrix_properties\")\n",
    "create_matrix =  mm.tool(\"inro.emme.data.matrix.create_matrix\")\n",
    "matrix_calculator = mm.tool(\"inro.emme.matrix_calculation.matrix_calculator\")\n",
    "matrix_transaction = mm.tool('inro.emme.data.matrix.matrix_transaction')\n",
    "\n",
    "#HDR Scripts\n",
    "common = mm.module('org.emme.common')\n",
    "moe = mm.module('org.emme.moe')\n",
    "\n",
    "#scenario folder names\n",
    "sc_2011 = \"2011 GGHM validation run\"\n",
    "sc_2041_base = \"2041\\\\GGHM Base Case\"\n",
    "sc_2016 = \"2016\"\n",
    "sc_2041_C_plus_w_GTAWest = \"2041\\\\MTP_304\"\n",
    "\n",
    "## zone grouping definitions ## \n",
    "\n",
    "sheds = [ \"gf1\",\"gs10;gs11\",\"gs20;gs21\",\"gs30;gs31\", \"gs40;gs41\", \"gs50;gs51\",\"gs60;gs61\", \"gs70;gs71\"]\n",
    "    \n",
    "#assumes all auto centroid connectors have vdf = 90 exclusively\n",
    "\n",
    "#auto occupancy\n",
    "sov_oc = 1.2\n",
    "hov2_oc = 2.2\n",
    "hov3_oc = 3.3\n",
    "\n",
    "#number of hours for transit assignment\n",
    "num_hrs_am = 2\n",
    "#num_hrs_md = 6"
   ]
  },
  {
   "cell_type": "code",
   "execution_count": 14,
   "metadata": {
    "collapsed": true
   },
   "outputs": [],
   "source": [
    "#define inputs\n",
    "\n",
    "scenario_folder = sc_2016\n",
    "sc_num = 109\n",
    "\n",
    "#input folder\n",
    "matrix_folder = u\"P:\\\\451010\\\\281829_GGH\\\\GGHM Runs\\\\\" + scenario_folder\n",
    "\n",
    "# demand\n",
    "# peak period - 7 hrs\n",
    "sov_demand_pk = \"auto_sov_PkPd\"\n",
    "hov2_demand_pk = \"auto_hov2_PkPd\"\n",
    "hov3_demand_pk = \"auto_hov3_PkPd\"\n",
    "bike_demand_pk = \"Bike_PkPd\"\n",
    "walk_demand_pk = \"Walk_PkPd\"\n",
    "transit_demand_pk = \"PnA_Transit_PkPd\"\n",
    "\n",
    "\n",
    "#offpeak\n",
    "sov_demand_offpk = \"auto_sov_offPkPd\"\n",
    "hov2_demand_offpk = \"auto_hov2_offPkPd\"\n",
    "hov3_demand_offpk = \"auto_hov3_offPkPd\"\n",
    "bike_demand_offpk = \"Bike_offPkPd\"\n",
    "walk_demand_offpk = \"Walk_offPkPd\"\n",
    "transit_demand_offpk = \"PnA_Transit_OffPeakPd\""
   ]
  },
  {
   "cell_type": "code",
   "execution_count": 15,
   "metadata": {
    "collapsed": false
   },
   "outputs": [
    {
     "name": "stdout",
     "output_type": "stream",
     "text": [
      "Imported matrix mf6\n",
      "Imported matrix mf12\n",
      "Imported matrix mf11\n",
      "Imported matrix mf4\n",
      "Imported matrix mf8\n",
      "Imported matrix mf10\n",
      "Imported matrix mf5\n",
      "Imported matrix mf7\n",
      "Imported matrix mf9\n",
      "Imported matrix mf2\n",
      "Imported matrix mf3\n",
      "Imported matrix mf1\n",
      "Finished Importing Matrices\n"
     ]
    }
   ],
   "source": [
    "#delete all FULL matrices\n",
    "common.clear_matrices(eb)\n",
    "\n",
    "matrix_list = {\n",
    "    sov_demand_pk : \"\",\n",
    "    hov2_demand_pk : \"\",\n",
    "    hov3_demand_pk : \"\",\n",
    "    bike_demand_pk : \"\",\n",
    "    walk_demand_pk : \"\",\n",
    "    transit_demand_pk : \"\",\n",
    "    sov_demand_offpk : \"\",\n",
    "    hov2_demand_offpk : \"\",\n",
    "    hov3_demand_offpk : \"\",\n",
    "    bike_demand_offpk : \"\",\n",
    "    walk_demand_offpk : \"\",\n",
    "    transit_demand_offpk : \"\"\n",
    "    }\n",
    "\n",
    "#Import matrices\n",
    "for matrix_name in matrix_list.keys():\n",
    "    matrix_list[matrix_name] = eb.available_matrix_identifier('FULL')\n",
    "    create_matrix(matrix_id = matrix_list[matrix_name],\n",
    "                  matrix_name= matrix_name,\n",
    "                  matrix_description = matrix_name)\n",
    "\n",
    "common.import_matrices_from_directory(matrix_folder, matrix_list, \".mdf\",sc_num) \n",
    "    \n",
    "# Make total trip matrix\n",
    "\n",
    "total_trip_matrix = eb.available_matrix_identifier('FULL')\n",
    "create_matrix(matrix_id = total_trip_matrix,\n",
    "            matrix_name= \"daily.trips.all_modes\",\n",
    "            matrix_description = \"daily.trips.all_modes\")\n",
    "\n",
    "exp_total_trips = matrix_list[sov_demand_pk] + \"+\" + matrix_list[sov_demand_pk] + \"'+\"  \\\n",
    "    + matrix_list[hov2_demand_pk] + \"+\" + matrix_list[hov2_demand_pk] + \"'+\"  \\\n",
    "    + matrix_list[hov3_demand_pk] + \"+\" + matrix_list[hov3_demand_pk] + \"'+\"  \\\n",
    "    + matrix_list[bike_demand_pk] + \"+\" + matrix_list[bike_demand_pk] + \"'+\"  \\\n",
    "    + matrix_list[walk_demand_pk] + \"+\" + matrix_list[walk_demand_pk] + \"'+\"  \\\n",
    "    + matrix_list[transit_demand_pk] + \"+\" + matrix_list[transit_demand_pk] + \"'+\"  \\\n",
    "    + matrix_list[sov_demand_offpk] + \"+\" \\\n",
    "    + matrix_list[hov2_demand_offpk] + \"+\" \\\n",
    "    + matrix_list[hov3_demand_offpk] + \"+\" \\\n",
    "    + matrix_list[bike_demand_offpk] + \"+\" \\\n",
    "    + matrix_list[walk_demand_offpk] + \"+\" \\\n",
    "    + matrix_list[transit_demand_offpk]\n",
    "    \n",
    "spec = common.get_mc_spec(total_trip_matrix, exp_total_trips ,None,None,\"all\", \"all\" ,None)\n",
    "matrix_calculator(spec)"
   ]
  },
  {
   "cell_type": "code",
   "execution_count": 26,
   "metadata": {
    "collapsed": false
   },
   "outputs": [],
   "source": [
    "out_file = \"C:\\\\Users\\\\mnasterska\\\\Documents\\\\Projects\\\\GGH\\\\Shed_data.csv\"\n",
    "\n",
    "with open(out_file, \"w\") as shedf:\n",
    "    shedf.write(scenario_folder +\",\")\n",
    "    for column in sheds:\n",
    "        shedf.write(column +\",\")\n",
    "    shedf.write(\"\\n\")\n",
    "    for origin in sheds:\n",
    "        shedf.write(origin +\",\")\n",
    "        for destination in sheds:\n",
    "            spec = common.get_mc_spec(None, total_trip_matrix ,\"+\",\"+\",origin, destination ,None)\n",
    "            shedf.write( str(matrix_calculator(spec)['result']) + ',')\n",
    "        shedf.write(\"\\n\")"
   ]
  },
  {
   "cell_type": "code",
   "execution_count": null,
   "metadata": {
    "collapsed": true
   },
   "outputs": [],
   "source": []
  }
 ],
 "metadata": {
  "kernelspec": {
   "display_name": "Python 2",
   "language": "python",
   "name": "python2"
  },
  "language_info": {
   "codemirror_mode": {
    "name": "ipython",
    "version": 2
   },
   "file_extension": ".py",
   "mimetype": "text/x-python",
   "name": "python",
   "nbconvert_exporter": "python",
   "pygments_lexer": "ipython2",
   "version": "2.7.9"
  }
 },
 "nbformat": 4,
 "nbformat_minor": 0
}
