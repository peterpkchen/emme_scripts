{
 "cells": [
  {
   "cell_type": "code",
   "execution_count": 1,
   "metadata": {
    "collapsed": true,
    "show_input": true
   },
   "outputs": [],
   "source": [
    "import pandas as pd\n",
    "import inro.modeller as m\n",
    "\n",
    "mm = m.Modeller()\n",
    "eb = mm.emmebank\n",
    "sc_1 = eb.scenario(6002)\n",
    "sc_2 = eb.scenario(1000)\n",
    "ntwk1 = sc_1.get_network()\n",
    "ntwk2 = sc_2.get_network()"
   ]
  },
  {
   "cell_type": "code",
   "execution_count": 2,
   "metadata": {
    "collapsed": false,
    "show_input": true
   },
   "outputs": [],
   "source": [
    "ol_nodes = []\n",
    "for link in ntwk1.links():\n",
    "    if link[\"@ol_link\"] == 1:\n",
    "        if link.i_node not in ol_nodes:\n",
    "            ol_nodes.append(link.i_node)\n",
    "        if link.j_node not in ol_nodes:\n",
    "            ol_nodes.append(link.j_node)"
   ]
  },
  {
   "cell_type": "code",
   "execution_count": 3,
   "metadata": {
    "collapsed": false,
    "show_input": true
   },
   "outputs": [],
   "source": [
    "for node in ol_nodes:\n",
    "    node2 = ntwk2.node(node.id)\n",
    "    node.x = node2.x\n",
    "    node.y = node2.y"
   ]
  },
  {
   "cell_type": "code",
   "execution_count": 4,
   "metadata": {
    "collapsed": true,
    "show_input": true
   },
   "outputs": [],
   "source": [
    "sc_1.publish_network(ntwk1)"
   ]
  },
  {
   "cell_type": "code",
   "execution_count": 5,
   "metadata": {
    "collapsed": true
   },
   "outputs": [],
   "source": [
    "for link in ntwk1.links():\n",
    "    if link[\"@ol_link\"] == 1:\n",
    "        olLink = ntwk2.link(link.i_node.id,link.j_node.id)\n",
    "        newVerts = olLink.vertices\n",
    "        link.vertices = newVerts\n",
    "        link.length = olLink.length"
   ]
  },
  {
   "cell_type": "code",
   "execution_count": 6,
   "metadata": {
    "collapsed": true
   },
   "outputs": [],
   "source": [
    "sc_1.publish_network(ntwk1)"
   ]
  },
  {
   "cell_type": "code",
   "execution_count": 7,
   "metadata": {
    "collapsed": true
   },
   "outputs": [],
   "source": [
    "linkatts_1 = ntwk1.attributes(\"LINK\")"
   ]
  },
  {
   "cell_type": "code",
   "execution_count": 8,
   "metadata": {
    "collapsed": true
   },
   "outputs": [],
   "source": [
    "linkatts_2 = ntwk2.attributes(\"LINK\")"
   ]
  },
  {
   "cell_type": "code",
   "execution_count": 12,
   "metadata": {
    "collapsed": false
   },
   "outputs": [],
   "source": [
    "linkatts_2.remove(u'additional_volume')\n",
    "linkatts_2.remove(u'auto_time')\n",
    "linkatts_2.remove(u'auto_volume')\n",
    "linkatts_2.remove(u'aux_transit_volume')"
   ]
  },
  {
   "cell_type": "code",
   "execution_count": 14,
   "metadata": {
    "collapsed": true
   },
   "outputs": [],
   "source": [
    "for zone in ntwk1.centroids():\n",
    "    if zone[\"@ol_zone\"] == 1:\n",
    "        \n",
    "        zone2 = ntwk2.node(zone.id)\n",
    "        zone.x = zone2.x\n",
    "        zone.y = zone2.y\n",
    "        \n",
    "        for link in zone.incoming_links():\n",
    "            ntwk1.delete_link(link.i_node.id,link.j_node.id)\n",
    "        for link in zone.outgoing_links():\n",
    "            ntwk1.delete_link(link.i_node.id,link.j_node.id)    \n",
    "        \n",
    "        for link in zone2.incoming_links():\n",
    "            new_link = ntwk1.create_link(link.i_node.id,link.j_node.id,link.modes)\n",
    "            for att in linkatts_2:\n",
    "                new_link[att] = link[att]        \n",
    "        for link in zone2.outgoing_links():\n",
    "            new_link = ntwk1.create_link(link.i_node.id,link.j_node.id,link.modes)\n",
    "            for att in linkatts_2:\n",
    "                new_link[att] = link[att]"
   ]
  },
  {
   "cell_type": "code",
   "execution_count": 15,
   "metadata": {
    "collapsed": true
   },
   "outputs": [],
   "source": [
    "sc_1.publish_network(ntwk1)"
   ]
  },
  {
   "cell_type": "code",
   "execution_count": 19,
   "metadata": {
    "collapsed": false
   },
   "outputs": [
    {
     "data": {
      "text/plain": [
       "True"
      ]
     },
     "execution_count": 19,
     "metadata": {},
     "output_type": "execute_result"
    }
   ],
   "source": [
    "ntwk1.link(10611,97085).modes == set([ntwk1.mode('t')])"
   ]
  },
  {
   "cell_type": "code",
   "execution_count": 21,
   "metadata": {
    "collapsed": false
   },
   "outputs": [],
   "source": [
    "for node in ol_nodes:\n",
    "    for link in node.incoming_links():\n",
    "        if link.modes == set([ntwk1.mode('t')]):\n",
    "            ntwk1.delete_link(link.i_node.id,link.j_node.id)\n",
    "    for link in node.outgoing_links():\n",
    "        if link.modes == set([ntwk1.mode('t')]):\n",
    "            ntwk1.delete_link(link.i_node.id,link.j_node.id)\n",
    "    newNode = ntwk2.node(node.id)\n",
    "    for link in newNode.incoming_links():\n",
    "        if link.modes == set([ntwk2.mode('t')]):\n",
    "            new_link = ntwk1.create_link(link.i_node.id,link.j_node.id,link.modes)\n",
    "            for att in linkatts_2:\n",
    "                new_link[att] = link[att] \n",
    "    for link in newNode.outgoing_links():\n",
    "        if link.modes == set([ntwk2.mode('t')]):\n",
    "            new_link = ntwk1.create_link(link.i_node.id,link.j_node.id,link.modes)\n",
    "            for att in linkatts_2:\n",
    "                new_link[att] = link[att]"
   ]
  },
  {
   "cell_type": "code",
   "execution_count": 22,
   "metadata": {
    "collapsed": true
   },
   "outputs": [],
   "source": [
    "sc_1.publish_network(ntwk1)"
   ]
  },
  {
   "cell_type": "code",
   "execution_count": null,
   "metadata": {
    "collapsed": true
   },
   "outputs": [],
   "source": []
  }
 ],
 "metadata": {
  "kernelspec": {
   "display_name": "Python 2",
   "language": "python",
   "name": "python2"
  },
  "language_info": {
   "codemirror_mode": {
    "name": "ipython",
    "version": 2
   },
   "file_extension": ".py",
   "mimetype": "text/x-python",
   "name": "python",
   "nbconvert_exporter": "python",
   "pygments_lexer": "ipython2",
   "version": "2.7.9"
  }
 },
 "nbformat": 4,
 "nbformat_minor": 0
}
