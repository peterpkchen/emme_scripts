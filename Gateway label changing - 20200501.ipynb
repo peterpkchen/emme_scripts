{
 "cells": [
  {
   "cell_type": "code",
   "execution_count": 1,
   "metadata": {
    "collapsed": true,
    "show_input": true
   },
   "outputs": [],
   "source": [
    "import pandas as pd\n",
    "import inro.modeller as m\n",
    "\n",
    "mm = m.Modeller()\n",
    "eb = mm.emmebank"
   ]
  },
  {
   "cell_type": "code",
   "execution_count": 2,
   "metadata": {
    "collapsed": true,
    "show_input": true
   },
   "outputs": [],
   "source": [
    "sc_am = eb.scenario(6046) # Change Scenario number here\n",
    "ntwk = sc_am.get_network()"
   ]
  },
  {
   "cell_type": "code",
   "execution_count": 3,
   "metadata": {
    "collapsed": false,
    "show_input": true
   },
   "outputs": [],
   "source": [
    "zones = {9501:9420, 9502:9421, 9503:9422, 9504:9423}\n",
    "\n",
    "for zone_id in zones.keys():\n",
    "    zone = ntwk.node(zone_id)\n",
    "    zone.number = zones[zone_id]\n",
    "sc_am.publish_network(ntwk)"
   ]
  },
  {
   "cell_type": "code",
   "execution_count": null,
   "metadata": {
    "collapsed": true,
    "show_input": true
   },
   "outputs": [],
   "source": []
  }
 ],
 "metadata": {
  "kernelspec": {
   "display_name": "Python 2",
   "language": "python",
   "name": "python2"
  },
  "language_info": {
   "codemirror_mode": {
    "name": "ipython",
    "version": 2
   },
   "file_extension": ".py",
   "mimetype": "text/x-python",
   "name": "python",
   "nbconvert_exporter": "python",
   "pygments_lexer": "ipython2",
   "version": "2.7.9"
  }
 },
 "nbformat": 4,
 "nbformat_minor": 0
}
