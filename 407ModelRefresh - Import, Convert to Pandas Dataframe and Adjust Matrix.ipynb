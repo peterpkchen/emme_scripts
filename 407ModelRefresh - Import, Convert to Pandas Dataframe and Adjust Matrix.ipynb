{
 "cells": [
  {
   "cell_type": "code",
   "execution_count": 1,
   "metadata": {
    "show_input": true
   },
   "outputs": [
    {
     "ename": "ModuleNotFoundError",
     "evalue": "No module named 'inro'",
     "output_type": "error",
     "traceback": [
      "\u001b[1;31m---------------------------------------------------------------------------\u001b[0m",
      "\u001b[1;31mModuleNotFoundError\u001b[0m                       Traceback (most recent call last)",
      "\u001b[1;32m<ipython-input-1-5be78ca15b3b>\u001b[0m in \u001b[0;36m<module>\u001b[1;34m\u001b[0m\n\u001b[0;32m      3\u001b[0m \u001b[1;32mimport\u001b[0m \u001b[0mnumpy\u001b[0m \u001b[1;32mas\u001b[0m \u001b[0mnp\u001b[0m\u001b[1;33m\u001b[0m\u001b[1;33m\u001b[0m\u001b[0m\n\u001b[0;32m      4\u001b[0m \u001b[1;33m\u001b[0m\u001b[0m\n\u001b[1;32m----> 5\u001b[1;33m \u001b[1;32mfrom\u001b[0m \u001b[0minro\u001b[0m\u001b[1;33m.\u001b[0m\u001b[0memme\u001b[0m\u001b[1;33m.\u001b[0m\u001b[0mmatrix\u001b[0m \u001b[1;32mimport\u001b[0m \u001b[0mMatrixData\u001b[0m\u001b[1;33m\u001b[0m\u001b[1;33m\u001b[0m\u001b[0m\n\u001b[0m\u001b[0;32m      6\u001b[0m \u001b[1;32mimport\u001b[0m \u001b[0minro\u001b[0m\u001b[1;33m.\u001b[0m\u001b[0mmodeller\u001b[0m \u001b[1;32mas\u001b[0m \u001b[0mm\u001b[0m\u001b[1;33m\u001b[0m\u001b[1;33m\u001b[0m\u001b[0m\n\u001b[0;32m      7\u001b[0m \u001b[0mmm\u001b[0m \u001b[1;33m=\u001b[0m \u001b[0mm\u001b[0m\u001b[1;33m.\u001b[0m\u001b[0mModeller\u001b[0m\u001b[1;33m(\u001b[0m\u001b[1;33m)\u001b[0m\u001b[1;33m\u001b[0m\u001b[1;33m\u001b[0m\u001b[0m\n",
      "\u001b[1;31mModuleNotFoundError\u001b[0m: No module named 'inro'"
     ]
    }
   ],
   "source": [
    "import os\n",
    "import pandas as pd\n",
    "import numpy as np\n",
    "\n",
    "from inro.emme.matrix import MatrixData\n",
    "import inro.modeller as m\n",
    "mm = m.Modeller()\n",
    "eb = mm.emmebank\n",
    "\n",
    "# toolbox tools\n",
    "import_csv = \"inro.emme.data.matrix.import_matrix_from_csv\"\n",
    "import_csv_mat = mm.tool(import_csv)\n",
    "\n",
    "tmg_import_binary = \"tmg.input_output.import_binary_matrix\"\n",
    "tmg_import = mm.tool(tmg_import_binary)\n",
    "\n",
    "tmg_export_binary = \"tmg.input_output.export_binary_matrix\"\n",
    "tmg_export = mm.tool(tmg_export_binary)\n",
    "\n",
    "def mat_to_pddf(id, scen):\n",
    "    mat = eb.matrix(id).get_data(scen)\n",
    "    zones_tupl = mat.indices\n",
    "    indices = pd.Index(zones_tupl[0])\n",
    "    indices.name = 'p'\n",
    "    cols = pd.Index(zones_tupl[1])\n",
    "    cols.name = 'q'\n",
    "    matrix = mat.to_numpy()\n",
    "    return pd.DataFrame(matrix, index=indices, columns=cols)\n",
    "\n",
    "def pddf_to_mat(dataframe, mtx_out=None, scenario_id=None):\n",
    "    indices = list(dataframe.index.values), list(dataframe.columns.values)\n",
    "    md = MatrixData(indices)\n",
    "    array = dataframe.values\n",
    "    if array.flags.f_contiguous:\n",
    "        array = np.ascontiguousarray(array)\n",
    "    md.from_numpy(array)"
   ]
  },
  {
   "cell_type": "code",
   "execution_count": 2,
   "metadata": {
    "show_input": true
   },
   "outputs": [],
   "source": [
    "### Inputs\n",
    "file_path = r\"C:\\Users\\pechen\\Desktop\\407ETR\\407 Update\\407_Update_EMME\\V4Input\\Demand_Adjustment\\2016\"\n",
    "files = [\"AM - HighDA - 20220113.mtx\", \"PM - HighDA - 20220113.mtx\"]\n",
    "\n",
    "## Outputs\n",
    "out_file_path = r\"C:\\Users\\pechen\\Desktop\\407ETR\\407 Update\\407_Update_EMME\\V4Input\\Demand_Adjustment\\2016\"\n",
    "out_files = [\"AM - HighDA - 3,0.25cap - 20220216.mtx\", \"PM - HighDA - 3,0.25cap - 20220216.mtx\"]\n"
   ]
  },
  {
   "cell_type": "code",
   "execution_count": 3,
   "metadata": {
    "show_input": true
   },
   "outputs": [],
   "source": [
    "scen_num = 11 #Scenario number - must exist\n",
    "temp_matrix = \"mf200\" #Temporary matrix - must exist\n",
    "\n",
    "scen = eb.scenario(scen_num) # scenario\n",
    "mat = eb.matrix(temp_matrix) # temp matrix\n",
    "\n",
    "for i in range(len(files)):\n",
    "    tmg_import(4, temp_matrix[2:], os.path.join(file_path, files[i]), scen_num, \"temp\")\n",
    "    \n",
    "    mat_df = mat_to_pddf(temp_matrix, scen_num)\n",
    "    \n",
    "    ### ADJUSTMENTS\n",
    "    mat_df[mat_df < 0.25] = 0.25\n",
    "    mat_df[mat_df > 3] = 3\n",
    "    ###\n",
    "\n",
    "    mat_df.to_csv(os.path.join(out_file_path, out_files[i][:-4] +'.csv'))\n",
    "    import_csv_mat(mat, os.path.join(out_file_path, out_files[i][:-4] +'.csv'), scen)\n",
    "    tmg_export(4, temp_matrix[2:], os.path.join(out_file_path, out_files[i]), scen_num)"
   ]
  },
  {
   "cell_type": "code",
   "execution_count": null,
   "metadata": {
    "show_input": true
   },
   "outputs": [],
   "source": []
  }
 ],
 "metadata": {
  "interpreter": {
   "hash": "9500f9c2f27c9adcd19aefc51e1246db6a5b6f190d52f513298b07517c7b7a8d"
  },
  "kernelspec": {
   "display_name": "Python 2",
   "language": "python",
   "name": "python3"
  },
  "language_info": {
   "codemirror_mode": {
    "name": "ipython",
    "version": 2
   },
   "file_extension": ".py",
   "mimetype": "text/x-python",
   "name": "python",
   "nbconvert_exporter": "python",
   "pygments_lexer": "ipython2",
   "version": "3.8.5"
  },
  "modeller": {
   "desktop_app_port": "4242"
  }
 },
 "nbformat": 4,
 "nbformat_minor": 2
}
