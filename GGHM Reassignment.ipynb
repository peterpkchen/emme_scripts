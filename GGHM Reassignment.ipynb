{
 "cells": [
  {
   "cell_type": "markdown",
   "metadata": {},
   "source": [
    "# GGHM Traffic Re-assignment\n",
    "### Taken from an older GGHM toolbox\n",
    "\n",
    "This script looks to re-assign traffic onto a GGHM network and references the parameters used in the assignmnet spec from an older GGHM toolbox. Primarily uses a SOLA assignment spec for the 10 auto classes.\n",
    "\n",
    "Developed for: QSBRT <br>\n",
    "Developed by: Peter"
   ]
  },
  {
   "cell_type": "code",
   "execution_count": 2,
   "metadata": {
    "collapsed": true
   },
   "outputs": [],
   "source": [
    "# Dependencies\n",
    "from __future__ import division\n",
    "from os import path\n",
    "import multiprocessing as _mpl\n",
    "import contextlib as _ctx\n",
    "from collections import defaultdict\n",
    "# from inro.emme.matrix import MatrixData\n",
    "# import inro.modeller as _m\n",
    "# _modeller = _m.Modeller()\n",
    "\n",
    "# # Modeller Tools\n",
    "# _run_sola_assignment = _modeller.tool('inro.emme.traffic_assignment.sola_traffic_assignment')\n",
    "# _do_network_calculation = _modeller.tool('inro.emme.network_calculation.network_calculator')"
   ]
  },
  {
   "cell_type": "markdown",
   "metadata": {},
   "source": [
    "### Define methods"
   ]
  },
  {
   "cell_type": "code",
   "execution_count": 3,
   "metadata": {
    "collapsed": true
   },
   "outputs": [],
   "source": [
    "def _get_base_assignment_spec(iterations, normalized_gap, best_relative_gap, relative_gap,n_threads):\n",
    "# Constructs a SOLA assignment specification skeleton\n",
    "    spec = {\n",
    "        \"type\": \"SOLA_TRAFFIC_ASSIGNMENT\",\n",
    "        \"classes\": [],\n",
    "        \"path_analysis\": {\n",
    "            \"link_component\": \"length\",\n",
    "            \"turn_component\": None,\n",
    "            \"operator\": \"+\",\n",
    "            \"selection_threshold\": {\n",
    "                \"lower\": None,\n",
    "                \"upper\": None\n",
    "            },\n",
    "            \"path_to_od_composition\": {\n",
    "                \"considered_paths\": \"ALL\",\n",
    "                \"multiply_path_proportions_by\": {\n",
    "                    \"analyzed_demand\": False,\n",
    "                    \"path_value\": True\n",
    "                }\n",
    "            }\n",
    "        },\n",
    "        \"cutoff_analysis\": None,\n",
    "        \"traversal_analysis\": None,\n",
    "        \"performance_settings\": {\n",
    "            \"number_of_processors\": n_threads\n",
    "        },\n",
    "        \"background_traffic\": None,\n",
    "        \"stopping_criteria\": {\n",
    "            \"max_iterations\": iterations,\n",
    "            \"relative_gap\": relative_gap,\n",
    "            \"best_relative_gap\": best_relative_gap,\n",
    "            \"normalized_gap\": normalized_gap\n",
    "        }\n",
    "    }\n",
    "\n",
    "    return spec\n",
    "\n",
    "\n",
    "def _setup_assignment_class(mode_code, demand_mid, time_mid, link_exatt=None):\n",
    "# Constructs a single class's component of the SOLA specification\n",
    "    spec = {\n",
    "        \"mode\": mode_code,\n",
    "        \"demand\": demand_mid,\n",
    "        \"generalized_cost\": None,\n",
    "        \"results\": {\n",
    "            \"link_volumes\": link_exatt,\n",
    "            \"turn_volumes\": None,\n",
    "            \"od_travel_times\": {\n",
    "                \"shortest_paths\": time_mid\n",
    "            }\n",
    "        },\n",
    "        \"path_analysis\": None,\n",
    "        \"cutoff_analysis\": None,\n",
    "        \"traversal_analysis\": None,\n",
    "        \"analysis\": None\n",
    "    }\n",
    "\n",
    "    return spec\n",
    "\n",
    "def import_matrices_from_directory(matrix_folder, matrix_list, extension, scenario):\n",
    "    #imports all matrices in directory and subfolders of the specified extension type\n",
    "    #matrix_list should be in the format:\n",
    "    #   {file_name1: matrix_num1, file_name2: matrix_num2, ...}\n",
    "    import os\n",
    "\n",
    "    for root, dirs, files in os.walk(matrix_folder):\n",
    "        for matrix_file in files:\n",
    "            if matrix_file.endswith(extension):\n",
    "                name = os.path.splitext(matrix_file)[0]\n",
    "                if name in matrix_list:\n",
    "                    matrix_number = int(matrix_list[name][2:])\n",
    "                    import_matrices(4, matrix_number ,os.path.join(root, matrix_file),scenario, name.replace(\"skim.\",\"\").replace(\"transit.\",\"\").replace(\"peak\",\"pk\").replace(\" \",\"_\") )\n",
    "                    print \"Imported matrix \" + matrix_list[name]\n",
    "                    change_matrix(matrix = matrix_list[name],\n",
    "                        matrix_name = name.replace(\"skim.\",\"\").replace(\"transit.\",\"\").replace(\"peak\",\"pk\").replace(\" \",\"_\")[:40],\n",
    "                        matrix_description = name)\n",
    "    \n",
    "    #check\n",
    "    for name in matrix_list:\n",
    "        if eb.matrix(matrix_list[name]): \n",
    "            n_matrix = eb.matrix(matrix_list[name]).get_numpy_data(scenario)\n",
    "            if n_matrix.sum() == 0 :\n",
    "                print \"Matrix %s was not imported, or contains no values!\" % name\n",
    "        else:\n",
    "            print \"Matrix %s was not imported!\" % name\n",
    "    print \"Finished Importing Matrices\""
   ]
  },
  {
   "cell_type": "code",
   "execution_count": 4,
   "metadata": {
    "collapsed": true
   },
   "outputs": [],
   "source": [
    "car_list ={\n",
    "    \"trips_am_peak_auto1_nt\" :\"mf121\",\n",
    "    \"trips_am_peak_auto1_toll\" :\"mf122\",\n",
    "    \"trips_am_peak_auto2_nt_hov\" :\"mf124\",\n",
    "    \"trips_am_peak_auto2_nt_nh\" :\"mf123\",\n",
    "    \"trips_am_peak_auto2_toll_hov\" :\"mf126\",\n",
    "    \"trips_am_peak_auto2_toll_nh\" :\"mf125\",\n",
    "    \"trips_am_peak_auto3_nt_hov\" :\"mf128\",\n",
    "    \"trips_am_peak_auto3_nt_nh\" :\"mf127\",\n",
    "    \"trips_am_peak_auto3_toll_hov\" :\"mf130\",\n",
    "    \"trips_am_peak_auto3_toll_nh\" :\"mf129\",}\n",
    "\n",
    "modes = {\n",
    "    'sov_mode':'j',\n",
    "    'sovt_mode':'J',\n",
    "    'hov2_mode':'h',\n",
    "    'hov2t_mode':'H',\n",
    "    'hov3_mode':'i',\n",
    "    'hov3t_mode':'H',\n",
    "}"
   ]
  },
  {
   "cell_type": "code",
   "execution_count": 5,
   "metadata": {
    "collapsed": false
   },
   "outputs": [],
   "source": [
    "iterations = 100\n",
    "normalized_gap = 0.05\n",
    "best_relative_gap = 0\n",
    "relative_gap = 0\n",
    "n_threads = _mpl.cpu_count()\n",
    "\n",
    "spec = _get_base_assignment_spec(iterations, normalized_gap, best_relative_gap, relative_gap,n_threads)\n",
    "spec['classes'] = [\n",
    "    # SOV\n",
    "    _setup_assignment_class(modes['sov_mode'],car_list['trips_am_peak_auto1_nt'],None,link_exatt=\"@volau1_nt\"),\n",
    "    _setup_assignment_class(modes['sovt_mode'],car_list['trips_am_peak_auto1_toll'],None,link_exatt=\"@volau1_toll\"),\n",
    "    # HOV\n",
    "    _setup_assignment_class(modes['sov_mode'],car_list['trips_am_peak_auto2_nt_nh'],None,link_exatt=\"@volau2_nt_nh\"),\n",
    "    _setup_assignment_class(modes['hov2_mode'],car_list['trips_am_peak_auto2_nt_hov'],None,link_exatt=\"@volau2_nt_hov\"),\n",
    "    _setup_assignment_class(modes['sovt_mode'],car_list['trips_am_peak_auto2_toll_nh'],None,link_exatt=\"@volau2_toll_nh\"),\n",
    "    _setup_assignment_class(modes['hov2t_mode'],car_list['trips_am_peak_auto2_toll_hov'],None,link_exatt=\"@volau2_toll_hov\"),\n",
    "    # HOV3+\n",
    "    _setup_assignment_class(modes['sov_mode'],car_list['trips_am_peak_auto3_nt_nh'],None,link_exatt=\"@volau3_nt_nh\"),\n",
    "    _setup_assignment_class(modes['hov3_mode'],car_list['trips_am_peak_auto3_nt_hov'],None,link_exatt=\"@volau3_nt_hov\"),\n",
    "    _setup_assignment_class(modes['sovt_mode'],car_list['trips_am_peak_auto3_toll_nh'],None,link_exatt=\"@volau3_toll_nh\"),\n",
    "    _setup_assignment_class(modes['hov3t_mode'],car_list['trips_am_peak_auto3_toll_hov'],None,link_exatt=\"@volau3_toll_hov\")\n",
    "]"
   ]
  },
  {
   "cell_type": "code",
   "execution_count": 8,
   "metadata": {},
   "outputs": [
    {
     "ename": "IndentationError",
     "evalue": "unindent does not match any outer indentation level (<tokenize>, line 7)",
     "output_type": "error",
     "traceback": [
      "\u001b[1;36m  File \u001b[1;32m\"<tokenize>\"\u001b[1;36m, line \u001b[1;32m7\u001b[0m\n\u001b[1;33m    import_matrices_from_directory(tt_dir, matrix_list, \".mdf\", scenario)\u001b[0m\n\u001b[1;37m    ^\u001b[0m\n\u001b[1;31mIndentationError\u001b[0m\u001b[1;31m:\u001b[0m unindent does not match any outer indentation level\n"
     ]
    }
   ],
   "source": [
    "dir = \n",
    "for matrix_name in matrix_list.keys():\n",
    "        matrix_list[matrix_name] = eb.available_matrix_identifier('FULL')\n",
    "        create_matrix(matrix_id = matrix_list[matrix_name],\n",
    "                      matrix_name= matrix_name,\n",
    "                      matrix_description = matrix_name)\n",
    "\n",
    "    import_matrices_from_directory(dir, car_list, \".mdf\", scenario)"
   ]
  }
 ],
 "metadata": {
  "kernelspec": {
   "display_name": "Python 3.8.5 ('base')",
   "language": "python",
   "name": "python3"
  },
  "language_info": {
   "codemirror_mode": {
    "name": "ipython",
    "version": 3
   },
   "file_extension": ".py",
   "mimetype": "text/x-python",
   "name": "python",
   "nbconvert_exporter": "python",
   "pygments_lexer": "ipython3",
   "version": "3.8.5"
  },
  "vscode": {
   "interpreter": {
    "hash": "2821fd8ac360e56d292a0a45de8e3f73525e9c94d5d778738ededf6165b37854"
   }
  }
 },
 "nbformat": 4,
 "nbformat_minor": 0
}
