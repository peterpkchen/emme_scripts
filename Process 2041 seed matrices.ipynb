{
 "cells": [
  {
   "cell_type": "markdown",
   "metadata": {},
   "source": [
    "# Import libraries"
   ]
  },
  {
   "cell_type": "code",
   "execution_count": 7,
   "metadata": {
    "collapsed": true,
    "show_input": true
   },
   "outputs": [],
   "source": [
    "#---------------------------------------------------------------------------------------------------------------\n",
    "#IMPORT LIBRARIES\n",
    "\n",
    "\n",
    "import os\n",
    "import inro.emme.desktop.app as _app #import inro.emme.desktop as _app\n",
    "import inro.modeller as m\n"
   ]
  },
  {
   "cell_type": "markdown",
   "metadata": {},
   "source": [
    "# Initialize Modeller & emmebank objects"
   ]
  },
  {
   "cell_type": "code",
   "execution_count": 8,
   "metadata": {
    "collapsed": true,
    "show_input": true
   },
   "outputs": [],
   "source": [
    "#Initialize modeller and emme.database\n",
    "mm = m.Modeller()\n",
    "from inro.emme.matrix import MatrixData\n",
    "eb = mm.emmebank\n"
   ]
  },
  {
   "cell_type": "markdown",
   "metadata": {},
   "source": [
    "# Load trip matrices from output folder"
   ]
  },
  {
   "cell_type": "code",
   "execution_count": 18,
   "metadata": {
    "collapsed": false,
    "show_input": true
   },
   "outputs": [],
   "source": [
    "#launch matrix butler to export selected trip matrices to the emmebank\n",
    "#matrix_list provides the list of matrices to be exported\n",
    "#[[number,\"mf id\", 'name of matrix']]\n",
    "\n",
    "\n",
    "\n",
    "\n",
    "seed_mat_list=[[1,'mf01',\"peak_auto_demand_tts_plus_externals.mdf\",'peak_auto_demand_tts_plus_externals'],\n",
    "                [2,'mf02',\"offpeak_auto_demand_tts_plus_externals.mdf\",'offpeak_auto_demand_tts_plus_externals'],\n",
    "                [3,'mf03',\"peak_train_demand_tts.mdf\",'peak_train_demand_tts'],\n",
    "                [4,'mf04',\"peak_subway_demand_tts.mdf\",'peak_subway_demand_tts'],\n",
    "                [5,'mf05',\"peak_ztsa_demand_tts.mdf\",'peak_ztsa_demand_tts'],\n",
    "                [6,'mf06',\"peak_express_bus_demand_tts.mdf\",'2011_peak_express_bus_demand_tts'],\n",
    "                [7,'mf07',\"peak_rapid_bus_demand_tts.mdf\",'peak_rapid_bus_demand_tts'],\n",
    "                [8,'mf08',\"peak_bus_streetcar_demand_tts.mdf\",'peak_bus_streetcar_demand_tts']]\n",
    "                \n",
    "\n",
    "# UPDATE THE INPUT AND OUTPUT PATHS \n",
    "# input_path is the folder to read matrices from\n",
    "# save_path is the folder to save matrices to\n",
    "input_path = \"F:\\\\GGHM v4 Databanks\\\\Prototype GGHM4\\\\Inputs\\\\Base - 2011\\\\Seed Matrices\\\\\"\n",
    "save_path = \"F:\\\\GGHM v4 Databanks\\\\Prototype GGHM4\\\\Inputs\\\\Base - 2041 test\\\\Seed Matrices\\\\\"\n",
    "scen_in = 101\n",
    "scen_out = 4100\n",
    "\n",
    "\n",
    "#create full matrices to store seed matrices from 2011\n",
    "for mat in seed_mat_list:\n",
    "    \n",
    "    matrix_filename = os.path.join(input_path,mat[2]) #save matrix file name into a variable\n",
    "    md = MatrixData.load(matrix_filename)                 #load matrix from file\n",
    "    \n",
    "    if eb.matrix(mat[1]) is None: #Check if the matrix exists; if not, create it\n",
    "        NAMESPACE = \"inro.emme.data.matrix.create_matrix\"\n",
    "        create_matrix = mm.tool(NAMESPACE)\n",
    "        new_mat = create_matrix(matrix_id=mat[1],\n",
    "                        matrix_name=mat[3],\n",
    "                        matrix_description=mat[3],\n",
    "                        default_value=0)\n",
    "        matrix = eb.matrix(mat[1])\n",
    "        matrix.name = mat[3] #update matrix name\n",
    "        matrix.description = mat[3] #update matrix description\n",
    "        matrix.set_data(md,scenario_id=scen_in) #set matrix values into mf'x'\n",
    "    else:\n",
    "        matrix = eb.matrix(mat[1])\n",
    "        matrix.name = mat[3] #update matrix name\n",
    "        matrix.description = mat[3] #update matrix description\n",
    "        matrix.set_data(md,scenario_id = scen_in) #set matrix values into mf'x'\n",
    "        \n",
    "#load auto & transit matrices and update matrices names\n",
    "for mat in seed_mat_list:\n",
    "   \n",
    "    Export_Filename = os.path.join(save_path,mat[2])\n",
    "    matrix_data = eb.matrix(mat[1]).get_data(scen_out)\n",
    "    matrix_data.save(Export_Filename)\n",
    "        "
   ]
  },
  {
   "cell_type": "markdown",
   "metadata": {},
   "source": [
    "# Export trip matrices to *.csv files for SPD partition"
   ]
  },
  {
   "cell_type": "code",
   "execution_count": 17,
   "metadata": {
    "collapsed": false,
    "show_input": true
   },
   "outputs": [
    {
     "ename": "TypeError",
     "evalue": "cannot concatenate 'str' and 'module' objects",
     "output_type": "error",
     "traceback": [
      "\u001b[1;31m---------------------------------------------------------------------------\u001b[0m",
      "\u001b[1;31mTypeError\u001b[0m                                 Traceback (most recent call last)",
      "\u001b[1;32m<ipython-input-17-2775d82c14d4>\u001b[0m in \u001b[0;36m<module>\u001b[1;34m()\u001b[0m\n\u001b[0;32m     21\u001b[0m \u001b[1;33m\u001b[0m\u001b[0m\n\u001b[0;32m     22\u001b[0m \u001b[1;33m\u001b[0m\u001b[0m\n\u001b[1;32m---> 23\u001b[1;33m \u001b[1;32mprint\u001b[0m \u001b[1;34m\"GGHM Seed matrices exported to: \"\u001b[0m \u001b[1;33m+\u001b[0m \u001b[0mos\u001b[0m\u001b[1;33m.\u001b[0m\u001b[0mpath\u001b[0m\u001b[1;33m\u001b[0m\u001b[0m\n\u001b[0m",
      "\u001b[1;31mTypeError\u001b[0m: cannot concatenate 'str' and 'module' objects"
     ]
    }
   ],
   "source": [
    "#EXPORT DEMAND MATRICES INTO EXCEL FILES \n",
    "    # demand is aggregated to the 'gg' ensemble \n",
    "    # square table formats\n",
    "    \n",
    "#---------------------------------------------------------------------------------------------------------------\n",
    "# Export auto demand matrices in aggregated to a 'gg' ensemble - AM, midday, PM, evening & overnight\n",
    "NAMESPACE = \"inro.emme.data.matrix.export_matrices\"\n",
    "export_matrices = m.Modeller().tool(NAMESPACE)\n",
    "\n",
    "base_scenario = mm.emmebank.scenario(scen_out)\n",
    "matrices_file = os.path.join(save_path,\"2041_seed_auto_matrices.csv\")\n",
    "export_matrices(matrices=[\"mf01\",\"mf02\",\"mf03\",\"mf04\",\"mf05\",\"mf06\",\"mf07\",\"mf08\"],\n",
    "                export_file=matrices_file,\n",
    "                partition_aggregation = {'operator': 'sum', 'origins': u'gs', 'destinations': u'gs'},\n",
    "                field_separator=',',\n",
    "                export_format=\"PROMPT_DATA_FORMAT\",\n",
    "                skip_default_values=True,\n",
    "                full_matrix_line_format=\"SQUARE\",\n",
    "                scenario = base_scenario)\n",
    "\n",
    "\n",
    "\n",
    "print \"GGHM Seed matrices exported to: \" + matrices_file"
   ]
  },
  {
   "cell_type": "code",
   "execution_count": null,
   "metadata": {
    "collapsed": true,
    "show_input": true
   },
   "outputs": [],
   "source": []
  }
 ],
 "metadata": {
  "kernelspec": {
   "display_name": "Python 2",
   "language": "python",
   "name": "python2"
  },
  "language_info": {
   "codemirror_mode": {
    "name": "ipython",
    "version": 2
   },
   "file_extension": ".py",
   "mimetype": "text/x-python",
   "name": "python",
   "nbconvert_exporter": "python",
   "pygments_lexer": "ipython2",
   "version": "2.7.9"
  }
 },
 "nbformat": 4,
 "nbformat_minor": 0
}
