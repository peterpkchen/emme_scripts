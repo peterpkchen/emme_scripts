{
 "cells": [
  {
   "cell_type": "code",
   "execution_count": 1,
   "metadata": {
    "collapsed": false,
    "show_input": true
   },
   "outputs": [],
   "source": [
    "import inro.modeller as m\n",
    "import os\n",
    "import glob\n",
    "import csv\n",
    "\n",
    "mm = m.Modeller()\n",
    "eb = m.Modeller().emmebank\n",
    "\n",
    "#tools\n",
    "import_matrices = mm.tool(\"tmg.input_output.import_binary_matrix\")           \n",
    "change_matrix = mm.tool(\"inro.emme.data.matrix.change_matrix_properties\")\n",
    "create_matrix =  mm.tool(\"inro.emme.data.matrix.create_matrix\")\n",
    "matrix_calculator = mm.tool(\"inro.emme.matrix_calculation.matrix_calculator\")\n",
    "matrix_transaction = mm.tool('inro.emme.data.matrix.matrix_transaction')\n",
    "\n",
    "#HDR Scripts\n",
    "common = mm.module('org.emme.common')\n",
    "moe = mm.module('org.emme.moe')\n",
    "\n",
    "#scenario folder names\n",
    "sc_2011 = \"2011 GGHM validation run\"\n",
    "sc_2041_base = \"2041\\\\GGHM Base Case\"\n",
    "sc_2041_donothing = \"2041\\\\DoNothing scenario\"\n",
    "sc_2016 = \"2016\"\n",
    "sc_2041_C_plus = \"2041\\\\MTO_2041_GGH_MTP_302_V103_CS221_20180601\"\n",
    "sc_2041_C_plus_w_GTAWest = \"2041\\\\MTP_304\"\n",
    "sc_2041_base_new = \"2041\\\\GGHM Base Case\\\\USE - Sent Through FTP September 20 2018\"\n",
    "sc_2041_C_plus_w_GTAWest_new = \"2041\\\\Committed_Plus\"\n",
    "#sc_2016_new = \"2016\\\\MTO_2016_GGHM_RC61_cs211_GGH_MTP_20171031\"\n",
    "\n",
    "## zone grouping definitions ## \n",
    "\n",
    "zones_pd1 = \"gf1\"\n",
    "zones_airports = \"ga1\"\n",
    "zones_rural = \"gb1\"\n",
    "zones_urban = \"gb2;gb3;gb4\"\n",
    "zones_ugc = \"gb4\"\n",
    "zones_inner = \"gc1\"\n",
    "zones_outer = \"gc2\"\n",
    "zones_university = \"gd1\"\n",
    "zones_employment = \"ge1\"\n",
    "zones_hospitals = \"gh1\"\n",
    "shed_central = \"gs10;gs11\"\n",
    "shed_central_urban = \"gs10\" # without pd1\n",
    "shed_central_rural = \"gs11\"\n",
    "shed_east = \"gs20;gs21\"\n",
    "shed_east_urban = \"gs20\"\n",
    "shed_east_rural = \"gs21\"\n",
    "shed_midwest = \"gs30;gs31\"\n",
    "shed_midwest_urban = \"gs30\"\n",
    "shed_midwest_rural = \"gs31\"\n",
    "shed_southwest = \"gs40;gs41\"\n",
    "shed_southwest_urban = \"gs40\"\n",
    "shed_southwest_rural = \"gs41\"\n",
    "shed_west = \"gs50;gs51\"\n",
    "shed_west_urban = \"gs50\"\n",
    "shed_west_rural = \"gs51\"\n",
    "shed_north = \"gs60;gs61\"\n",
    "shed_north_urban = \"gs60\"\n",
    "shed_north_rural = \"gs61\"\n",
    "shed_niagara = \"gs70;gs71\"\n",
    "shed_niagara_urban = \"gs70\"\n",
    "shed_niagara_rural = \"gs71\"\n",
    "shed_urban = \"gs10;gs20;gs30;gs40;gs50;gs60;gs70\"\n",
    "shed_rural = \"gs11;gs21;gs31;gs41;gs51;gs61;gs71\"\n"
   ]
  },
  {
   "cell_type": "code",
   "execution_count": 2,
   "metadata": {
    "collapsed": true,
    "show_input": true
   },
   "outputs": [],
   "source": [
    "### 2041 Base\n",
    "sc_num_am = 103\n",
    "sc_num_md = 104\n",
    "scenario_folder = sc_2041_base\n",
    "\n",
    "###2016\n",
    "#sc_num_am = 109\n",
    "#sc_num_md = 110\n",
    "#scenario_folder = sc_2016\n",
    "\n",
    "#scenarios\n",
    "sc_am = eb.scenario(sc_num_am)\n",
    "sc_md = eb.scenario(sc_num_md)\n",
    "\n",
    "#networks\n",
    "ntwk_am = sc_am.get_network()\n",
    "ntwk_md = sc_md.get_network()\n",
    "\n",
    "#input folder\n",
    "matrix_folder = u\"P:\\\\451010\\\\281829_GGH\\\\GGHM Runs\\\\\" + scenario_folder"
   ]
  },
  {
   "cell_type": "code",
   "execution_count": 13,
   "metadata": {
    "collapsed": true,
    "show_input": true
   },
   "outputs": [],
   "source": [
    "#delete all FULL matrices\n",
    "common.clear_matrices(eb)"
   ]
  },
  {
   "cell_type": "code",
   "execution_count": 14,
   "metadata": {
    "collapsed": false,
    "show_input": true
   },
   "outputs": [
    {
     "name": "stdout",
     "output_type": "stream",
     "text": [
      "Imported matrix mf2\n",
      "Imported matrix mf1\n",
      "Finished Importing Matrices\n"
     ]
    }
   ],
   "source": [
    "# distance\n",
    "sov_dist_am = \"skim.am_peak.auto.sov.dist\"\n",
    "trips_all_daily = \"trips_all_modes_daily\"\n",
    "\n",
    "matrix_list ={\n",
    "    trips_all_daily :\"\",\n",
    "    sov_dist_am :\"\"\n",
    "    }\n",
    "\n",
    "#Import matrices\n",
    "for matrix_name in matrix_list.keys():\n",
    "    matrix_list[matrix_name] = eb.available_matrix_identifier('FULL')\n",
    "    create_matrix(matrix_id = matrix_list[matrix_name],\n",
    "                  matrix_name= matrix_name,\n",
    "                  matrix_description = matrix_name)\n",
    "    \n",
    "common.import_matrices_from_directory(matrix_folder, matrix_list, \".mdf\",sc_am) "
   ]
  },
  {
   "cell_type": "code",
   "execution_count": 17,
   "metadata": {
    "collapsed": true,
    "show_input": true
   },
   "outputs": [],
   "source": [
    "\n",
    "zones_array = [zones_pd1,\\\n",
    "               shed_central,\\\n",
    "               shed_east,\\\n",
    "               shed_midwest,\\\n",
    "               shed_southwest,\\\n",
    "               shed_west,\\\n",
    "               shed_north,\\\n",
    "               shed_niagara]"
   ]
  },
  {
   "cell_type": "code",
   "execution_count": 18,
   "metadata": {
    "collapsed": false,
    "scrolled": true,
    "show_input": true
   },
   "outputs": [
    {
     "name": "stdout",
     "output_type": "stream",
     "text": [
      "gf1\n",
      "origins\n",
      "3.67961333667\n",
      "destinations\n",
      "10.9823372853\n",
      "gs10;gs11\n",
      "origins\n",
      "8.13766035986\n",
      "destinations\n",
      "9.44265167767\n",
      "gs20;gs21\n",
      "origins\n",
      "13.8816768361\n",
      "destinations\n",
      "9.54602993321\n",
      "gs30;gs31\n",
      "origins\n",
      "9.67336101827\n",
      "destinations\n",
      "9.8650151096\n",
      "gs40;gs41\n",
      "origins\n",
      "10.1144231081\n",
      "destinations\n",
      "9.30685640156\n",
      "gs50;gs51\n",
      "origins\n",
      "9.72839025112\n",
      "destinations\n",
      "10.3981720448\n",
      "gs60;gs61\n",
      "origins\n",
      "14.4276957883\n",
      "destinations\n",
      "10.919528416\n",
      "gs70;gs71\n",
      "origins\n",
      "10.6154284147\n",
      "destinations\n",
      "8.48936101909\n"
     ]
    }
   ],
   "source": [
    "for shed in zones_array:\n",
    "    print shed\n",
    "    print \"origins\"\n",
    "    spec = common.get_mc_spec(None, matrix_list[trips_all_daily],\"+\",\"+\",shed,\"all\",None)\n",
    "    all_trips = matrix_calculator(spec)['result']\n",
    "    spec ['expression'] = matrix_list[trips_all_daily] + \"*\" + matrix_list[sov_dist_am]\n",
    "    all_trip_length = matrix_calculator(spec)['result']\n",
    "    print all_trip_length / all_trips\n",
    "    print \"destinations\"\n",
    "    spec = common.get_mc_spec(None, matrix_list[trips_all_daily],\"+\",\"+\",\"all\",shed,None)\n",
    "    all_trips = matrix_calculator(spec)['result']\n",
    "    spec ['expression'] = matrix_list[trips_all_daily] + \"*\" + matrix_list[sov_dist_am]\n",
    "    all_trip_length = matrix_calculator(spec)['result']\n",
    "    print all_trip_length / all_trips"
   ]
  },
  {
   "cell_type": "code",
   "execution_count": 48,
   "metadata": {
    "collapsed": false,
    "show_input": true
   },
   "outputs": [
    {
     "name": "stdout",
     "output_type": "stream",
     "text": [
      "Imported matrix mf1\n",
      "Finished Importing Matrices\n"
     ]
    }
   ],
   "source": [
    "#import distance matrix - use same for all scenarios\n",
    "\n",
    "common.clear_matrices(eb)\n",
    "\n",
    "dist_folder = u\"P:\\\\451010\\\\281829_GGH\\\\GGHM Runs\\\\2041\\\\GGHM Base Case\\\\Sent Through FTP in 2017\\\\2041_sov_am_peak_skims\\\\\"\n",
    "sov_dist_am = \"mf1\"\n",
    "matrix_list = {\n",
    "    \"skim.am_peak.auto.sov.dist\": sov_dist_am\n",
    "    }\n",
    "\n",
    "common.import_matrices_from_directory(dist_folder, matrix_list, \".mdf\",103) "
   ]
  },
  {
   "cell_type": "code",
   "execution_count": 46,
   "metadata": {
    "collapsed": true,
    "show_input": true
   },
   "outputs": [],
   "source": [
    "### 2041 Base\n",
    "#sc_num_am = 103\n",
    "#scenario_folder = sc_2041_base_new\n",
    "\n",
    "###2016\n",
    "sc_num_am = 109\n",
    "scenario_folder = sc_2016\n",
    "\n",
    "#scenarios\n",
    "sc_am = eb.scenario(sc_num_am)\n",
    "\n",
    "#networks\n",
    "ntwk_am = sc_am.get_network()\n",
    "\n",
    "#input folder\n",
    "matrix_folder = u\"P:\\\\451010\\\\281829_GGH\\\\GGHM Runs\\\\\" + scenario_folder"
   ]
  },
  {
   "cell_type": "code",
   "execution_count": 47,
   "metadata": {
    "collapsed": false,
    "show_input": true
   },
   "outputs": [
    {
     "name": "stdout",
     "output_type": "stream",
     "text": [
      "Imported matrix mf3\n",
      "Imported matrix mf2\n",
      "Imported matrix mf4\n",
      "Finished Importing Matrices\n"
     ]
    }
   ],
   "source": [
    "#Mode Split By Distance \n",
    "sov_dist_am = \"mf1\"\n",
    "common.clear_matrices(eb,[sov_dist_am])\n",
    "\n",
    "# distance\n",
    "trips_active = \"trips_active_daily\"\n",
    "trips_auto= \"trips_auto_daily\"\n",
    "trips_transit = \"trips_transit_daily\"\n",
    "\n",
    "matrix_list ={\n",
    "    trips_auto :\"\",\n",
    "    trips_transit :\"\",\n",
    "    trips_active :\"\"\n",
    "    }\n",
    "\n",
    "#Import matrices\n",
    "for matrix_name in matrix_list.keys():\n",
    "    matrix_list[matrix_name] = eb.available_matrix_identifier('FULL')\n",
    "    create_matrix(matrix_id = matrix_list[matrix_name],\n",
    "                matrix_name= matrix_name,\n",
    "                matrix_description = matrix_name)\n",
    "    \n",
    "common.import_matrices_from_directory(matrix_folder, matrix_list, \".mdf\",sc_am) "
   ]
  },
  {
   "cell_type": "code",
   "execution_count": 49,
   "metadata": {
    "collapsed": false
   },
   "outputs": [
    {
     "data": {
      "text/plain": [
       "{'average': 1.573828,\n",
       " 'expression_type': 'FULL',\n",
       " 'maximum': 20818.78125,\n",
       " 'maximum_at': {'destination': 8885, 'origin': 8885},\n",
       " 'minimum': 0.0,\n",
       " 'minimum_at': {'destination': 1034, 'origin': 1001},\n",
       " 'num_evaluations': 12138256,\n",
       " 'result_type': 'FULL',\n",
       " 'sum': 19103524.0}"
      ]
     },
     "execution_count": 49,
     "metadata": {},
     "output_type": "execute_result"
    }
   ],
   "source": [
    "#divide 2016 auto trips in half\n",
    "spec = {\n",
    "    \"expression\": matrix_list[trips_auto] + \"/2\",\n",
    "    \"result\": matrix_list[trips_auto],\n",
    "    \"constraint\": {\n",
    "        \"by_value\": None,\n",
    "        \"by_zone\": None\n",
    "    },\n",
    "    \"aggregation\": {\n",
    "        \"origins\": None,\n",
    "        \"destinations\": None\n",
    "    },\n",
    "    \"type\": \"MATRIX_CALCULATION\"\n",
    "}\n",
    "\n",
    "matrix_calculator(spec)"
   ]
  },
  {
   "cell_type": "code",
   "execution_count": 37,
   "metadata": {
    "collapsed": false,
    "show_input": true
   },
   "outputs": [],
   "source": [
    "dest = {\n",
    "    \"UGC\":\"gb4\",\n",
    "    \"Meadowvale\": \"ge6\",\n",
    "    \"Sheridan\": \"ge7\",\n",
    "    \"Mississauga UGC\": \"ge13\",\n",
    "    \"Brampton UGC\": \"ge14\",\n",
    "    \"YongeEg\" : \"ge15\",\n",
    "    \"YongeShepp\" : \"ge16\",\n",
    "    \"STC\" : \"ge18\",\n",
    "    \"Toronto East\" : \"ge3\",\n",
    "    \"York East\" : \"ge5\",\n",
    "    \"Toronto West\" : \"ge2\",\n",
    "    \"York West\" : \"ge4\",\n",
    "    \"PD1\" : \"gf1\",\n",
    "    \"Pickering UGC\": \"2015;2016;2019\",\n",
    "    \"Oshawa UGC\": \"2132;2136;2040\",\n",
    "    \"St Catharines UGC\" : \"7114;7115;7120;7121;7124;7131\",\n",
    "    \"Barrie UGC\" : \"8845;8848;8853;8856\",\n",
    "    \"Newmarket UGC\" : \"3412;3413;3421\",\n",
    "    \"Hamilton\" : \"ge12\",\n",
    "    \"Guelph UGC\" : \"8542;8545;8547;8548;8550;8551;8554;8557;8558;8559;8561;8563\",\n",
    "    \"Waterloo\" : \"ge10\",\n",
    "    \"Kitchener\": \"ge11\"\n",
    "    }"
   ]
  },
  {
   "cell_type": "code",
   "execution_count": 80,
   "metadata": {
    "collapsed": false,
    "show_input": true
   },
   "outputs": [
    {
     "name": "stdout",
     "output_type": "stream",
     "text": [
      "2515.203\n",
      "741.5617\n",
      "651.457\n",
      "413.0958\n",
      "255.5842\n",
      "154.4636\n",
      "145.5719\n",
      "76.81611\n",
      "35.06624\n",
      "20.53931\n",
      "8.34692\n",
      "5.676951\n",
      "1.773435\n",
      "0.757155\n",
      "0.501437\n",
      "0.184532\n",
      "1.26291\n",
      "0.367306\n",
      "0.116377\n",
      "0.474634\n",
      "0.290869\n",
      "0.218655\n",
      "0.21852\n",
      "0.178477\n",
      "0.24193\n",
      "0.132766\n",
      "0.133354\n",
      "0.054752\n",
      "0.006329\n",
      "0.06185\n",
      "0.012526\n",
      "0.003918\n",
      "0.014636\n",
      "0.006583\n",
      "0.003292\n",
      "0.0004245335\n",
      "0.0004954635\n",
      "0.001433\n",
      "0.002026\n",
      "0.002294\n",
      "0.00020652\n",
      "8.563666e-08\n",
      "3.003126e-07\n",
      "1.779141e-06\n",
      "1.092706e-06\n",
      "0.0001824208\n",
      "0.0001853197\n",
      "0.000398083\n",
      "6.356868e-06\n",
      "1.454636e-05\n"
     ]
    }
   ],
   "source": [
    "\n",
    "spec = common.get_mc_spec(None, matrix_list[trips_active],\"+\",\"+\",\"all\",dest[\"Kitchener\"],None)\n",
    "print matrix_calculator(spec)['result']\n",
    "spec['constraint']['by_value']= {}\n",
    "spec['constraint']['by_value']['od_values'] = sov_dist_am\n",
    "spec['constraint']['by_value']['condition'] = 'INCLUDE'\n",
    "\n",
    "for dist in range(1,50):\n",
    "    spec['constraint']['by_value']['interval_min'] = dist-1\n",
    "    spec['constraint']['by_value']['interval_max'] = dist\n",
    "    print matrix_calculator(spec)['result']"
   ]
  },
  {
   "cell_type": "code",
   "execution_count": 22,
   "metadata": {
    "collapsed": false,
    "show_input": true
   },
   "outputs": [
    {
     "data": {
      "text/plain": [
       "'mf4'"
      ]
     },
     "execution_count": 22,
     "metadata": {},
     "output_type": "execute_result"
    }
   ],
   "source": [
    "matrix_list[sov_dist_am]"
   ]
  },
  {
   "cell_type": "code",
   "execution_count": null,
   "metadata": {
    "collapsed": true,
    "show_input": true
   },
   "outputs": [],
   "source": []
  }
 ],
 "metadata": {
  "kernelspec": {
   "display_name": "Python 2",
   "language": "python",
   "name": "python2"
  },
  "language_info": {
   "codemirror_mode": {
    "name": "ipython",
    "version": 2
   },
   "file_extension": ".py",
   "mimetype": "text/x-python",
   "name": "python",
   "nbconvert_exporter": "python",
   "pygments_lexer": "ipython2",
   "version": "2.7.9"
  }
 },
 "nbformat": 4,
 "nbformat_minor": 0
}
