{
 "cells": [
  {
   "cell_type": "code",
   "execution_count": null,
   "metadata": {
    "collapsed": true,
    "show_input": true
   },
   "outputs": [],
   "source": [
    "import inro.modeller as m\n",
    "import os\n",
    "import glob\n",
    "mm = m.Modeller()\n",
    "eb = mm.emmebank\n",
    "_tmgTPB = mm.module('tmg.common.TMG_tool_page_builder')\n",
    "matrix_calculator = m.Modeller().tool(\"inro.emme.matrix_calculation.matrix_calculator\")\n",
    "create_matrix =  m.Modeller().tool(\"inro.emme.data.matrix.create_matrix\")\n",
    "change_matrix = m.Modeller().tool(\"inro.emme.data.matrix.change_matrix_properties\") \n",
    "import_matrices = mm.tool(\"tmg.input_output.import_binary_matrix\")  \n",
    "matrix_transaction = mm.tool('inro.emme.data.matrix.matrix_transaction')\n",
    "\n",
    "\n",
    "def import_matrices_from_directory(matrix_folder, matrix_list, extension, scenario):\n",
    "    #imports all matrices in directory and subfolders of the specified extension type\n",
    "    #matrix_list should be in the format:\n",
    "    #   {file_name1: matrix_num1, file_name2: matrix_num2, ...}\n",
    "    import os\n",
    "\n",
    "    for root, dirs, files in os.walk(matrix_folder):\n",
    "        for matrix_file in files:\n",
    "            if matrix_file.endswith(extension):\n",
    "                name = os.path.splitext(matrix_file)[0]\n",
    "                if name in matrix_list:\n",
    "                    matrix_number = int(matrix_list[name][2:])\n",
    "                    import_matrices(4, matrix_number ,os.path.join(root, matrix_file),scenario, name )\n",
    "                    print \"Imported matrix \" + matrix_list[name]\n",
    "                    change_matrix(matrix = matrix_list[name],\n",
    "                        matrix_name = name[5:],\n",
    "                        matrix_description = name)\n",
    "    \n",
    "    #check\n",
    "    for name in matrix_list:\n",
    "        if eb.matrix(matrix_list[name]): \n",
    "            n_matrix = eb.matrix(matrix_list[name]).get_numpy_data(scenario)\n",
    "            if n_matrix.sum() == 0 :\n",
    "                print \"Matrix %s was not imported, or contains no values!\" % name\n",
    "        else:\n",
    "            print \"Matrix %s was not imported!\" % name\n",
    "    print \"Finished Importing Matrices\"\n"
   ]
  },
  {
   "cell_type": "code",
   "execution_count": 2,
   "metadata": {
    "collapsed": true,
    "show_input": true
   },
   "outputs": [],
   "source": [
    "assignment_classes = {\n",
    "                    \"Express Bus\": {\n",
    "                        \"demand_matrix\": \"mf1\",\n",
    "                        \"actual_time_matrix\": \"mf2\",\n",
    "                        \"perceived_time_matrix\": \"mf3\",\n",
    "                        \"required_mode\": set(\"gp\"),\n",
    "                        \"other_modes\": set('qn') | set('bsL'),\n",
    "                        \"aux_modes\":  set('yvwzut'),\n",
    "                        \"vol_att\": \"@voltr_ex\",\n",
    "                        \"must_use\": True\n",
    "                    }\n",
    "                }"
   ]
  },
  {
   "cell_type": "code",
   "execution_count": 3,
   "metadata": {
    "collapsed": true,
    "show_input": true
   },
   "outputs": [],
   "source": [
    "def get_journey_levels(name,parameters):\n",
    "\n",
    "    #Level 0\n",
    "    Level0 = {\n",
    "        \"boarding_cost\": None,\n",
    "        \"boarding_time\": None,\n",
    "        \"waiting_time\": None,\n",
    "    }\n",
    "    Level0['description'] = 'init'\n",
    "    Level0['destinations_reachable'] = False \n",
    "    transition_rules = []\n",
    "    for mode in parameters[\"required_mode\"]:\n",
    "        transition_rules.append({\n",
    "        \"mode\": mode,\n",
    "        \"next_journey_level\": 1\n",
    "        })\n",
    "    for mode in parameters[\"other_modes\"]:\n",
    "        transition_rules.append({\n",
    "        \"mode\": mode,\n",
    "        \"next_journey_level\": 0\n",
    "        })\n",
    "    Level0[\"transition_rules\"] = transition_rules\n",
    "\n",
    "    #Level1\n",
    "    Level1 = {\n",
    "        \"boarding_cost\": None,\n",
    "        \"boarding_time\": None,\n",
    "        \"waiting_time\": None,\n",
    "    }\n",
    "    Level1['description'] = name\n",
    "    Level1['destinations_reachable'] = True \n",
    "    transition_rules = []\n",
    "\n",
    "    for mode in parameters[\"required_mode\"]|parameters[\"other_modes\"]:\n",
    "        transition_rules.append({\n",
    "        \"mode\": mode,\n",
    "        \"next_journey_level\": 1\n",
    "        })\n",
    "    Level1[\"transition_rules\"] = transition_rules\n",
    "\n",
    "    return[Level0,Level1]"
   ]
  },
  {
   "cell_type": "code",
   "execution_count": 5,
   "metadata": {
    "collapsed": false,
    "show_input": true
   },
   "outputs": [],
   "source": [
    "journey = get_journey_levels(\"Express Bus\", assignment_classes[\"Express Bus\"])"
   ]
  },
  {
   "cell_type": "code",
   "execution_count": 6,
   "metadata": {
    "collapsed": false,
    "show_input": true
   },
   "outputs": [
    {
     "data": {
      "text/plain": [
       "[{'boarding_cost': None,\n",
       "  'boarding_time': None,\n",
       "  'description': 'init',\n",
       "  'destinations_reachable': False,\n",
       "  'transition_rules': [{'mode': 'p', 'next_journey_level': 1},\n",
       "   {'mode': 'g', 'next_journey_level': 1},\n",
       "   {'mode': 'q', 'next_journey_level': 0},\n",
       "   {'mode': 's', 'next_journey_level': 0},\n",
       "   {'mode': 'b', 'next_journey_level': 0},\n",
       "   {'mode': 'L', 'next_journey_level': 0},\n",
       "   {'mode': 'n', 'next_journey_level': 0}],\n",
       "  'waiting_time': None},\n",
       " {'boarding_cost': None,\n",
       "  'boarding_time': None,\n",
       "  'description': 'Express Bus',\n",
       "  'destinations_reachable': True,\n",
       "  'transition_rules': [{'mode': 'q', 'next_journey_level': 1},\n",
       "   {'mode': 'p', 'next_journey_level': 1},\n",
       "   {'mode': 's', 'next_journey_level': 1},\n",
       "   {'mode': 'b', 'next_journey_level': 1},\n",
       "   {'mode': 'g', 'next_journey_level': 1},\n",
       "   {'mode': 'L', 'next_journey_level': 1},\n",
       "   {'mode': 'n', 'next_journey_level': 1}],\n",
       "  'waiting_time': None}]"
      ]
     },
     "execution_count": 6,
     "metadata": {},
     "output_type": "execute_result"
    }
   ],
   "source": [
    "journey"
   ]
  },
  {
   "cell_type": "code",
   "execution_count": 1,
   "metadata": {
    "collapsed": false,
    "show_input": true
   },
   "outputs": [],
   "source": [
    "import inro.modeller as m\n",
    "import os\n",
    "import glob\n",
    "import csv\n",
    "import pandas as pd\n",
    "\n",
    "mm = m.Modeller()\n",
    "eb = m.Modeller().emmebank\n",
    "\n",
    "#tools\n",
    "import_matrices = mm.tool(\"tmg.input_output.import_binary_matrix\")           \n",
    "change_matrix = mm.tool(\"inro.emme.data.matrix.change_matrix_properties\")\n",
    "create_matrix =  mm.tool(\"inro.emme.data.matrix.create_matrix\")\n",
    "matrix_calculator = mm.tool(\"inro.emme.matrix_calculation.matrix_calculator\")\n",
    "matrix_transaction = mm.tool('inro.emme.data.matrix.matrix_transaction')\n",
    "network_calculator = mm.tool(\"inro.emme.network_calculation.network_calculator\")\n",
    "selectLine = mm.tool(\"inro.emme.transit_assignment.extended.strategy_based_analysis\")\n",
    "\n",
    "#HDR Scripts\n",
    "#common = mm.module('org.emme.common')\n",
    "#moe = mm.module('org.emme.moe')"
   ]
  },
  {
   "cell_type": "code",
   "execution_count": 2,
   "metadata": {
    "collapsed": true,
    "show_input": true
   },
   "outputs": [],
   "source": [
    "matrix_list ={\n",
    "    \"trips_peak_transit_drive_to_and_from\" :\"\",\n",
    "    \"trips_peak_transit_express_bus\" :\"\",\n",
    "    \"trips_peak_transit_local_bus\" :\"\",\n",
    "    \"trips_peak_transit_rapid_bus\" :\"\",\n",
    "    \"trips_peak_transit_subway\" :\"\",\n",
    "    \"trips_peak_transit_train\" :\"\",\n",
    "    \"trips_peak_transit_ztsa\" :\"\",\n",
    "    \"trips_peak_hov2_toll_nh\" :\"\",\n",
    "    \"trips_peak_hov3\" :\"\",\n",
    "    \"trips_peak_hov3_nt_hov\" :\"\",\n",
    "    \"trips_peak_hov3_nt_nh\" :\"\",\n",
    "    \"trips_peak_hov3_toll_hov\" :\"\",\n",
    "    \"trips_peak_hov3_toll_nh\" :\"\",\n",
    "    }"
   ]
  },
  {
   "cell_type": "code",
   "execution_count": 3,
   "metadata": {
    "collapsed": true,
    "show_input": true
   },
   "outputs": [],
   "source": [
    "for matrix_name in matrix_list.keys():\n",
    "    matrix_list[matrix_name] = eb.available_matrix_identifier('FULL')\n",
    "    create_matrix(matrix_id = matrix_list[matrix_name],\n",
    "                  matrix_name= matrix_name,\n",
    "                  matrix_description = matrix_name)"
   ]
  },
  {
   "cell_type": "code",
   "execution_count": 2,
   "metadata": {
    "collapsed": true,
    "show_input": true
   },
   "outputs": [],
   "source": [
    "from copy import deepcopy"
   ]
  },
  {
   "cell_type": "code",
   "execution_count": 3,
   "metadata": {
    "collapsed": true,
    "show_input": true
   },
   "outputs": [],
   "source": [
    "networkCalcSpec = {\n",
    "    \"result\": \"@sel_go\",\n",
    "    \"expression\": \"0\",\n",
    "    \"aggregation\": None,\n",
    "    \"selections\": {\n",
    "        \"link\": \"all\",\n",
    "        \"transit_line\": \"all\"\n",
    "    },\n",
    "    \"type\": \"NETWORK_CALCULATION\"\n",
    "}\n"
   ]
  },
  {
   "cell_type": "code",
   "execution_count": 4,
   "metadata": {
    "collapsed": false,
    "show_input": true
   },
   "outputs": [],
   "source": [
    "selectLink = {\n",
    "    \"trip_components\": {\n",
    "        \"in_vehicle\": \"@sel_go\",\n",
    "        \"aux_transit\": None,\n",
    "        \"boarding\": None,\n",
    "        \"alighting\": None,\n",
    "    },\n",
    "    \"sub_path_combination_operator\": \".max.\",\n",
    "    \"sub_strategy_combination_operator\": \".max.\",\n",
    "    \"selected_demand_and_transit_volumes\": {\n",
    "        \"sub_strategies_to_retain\": \"ALL\",\n",
    "        \"selection_threshold\": {\n",
    "            \"lower\": 1,\n",
    "            \"upper\": 1\n",
    "        }\n",
    "    },\n",
    "    \"analyzed_demand\": None,\n",
    "    \"constraint\": None,\n",
    "    \"results\": {\n",
    "        \"strategy_values\": None,\n",
    "        \"selected_demand\": None,\n",
    "        \"transit_volumes\": None,\n",
    "        \"aux_transit_volumes\": None,\n",
    "        \"total_boardings\": None,\n",
    "        \"total_alightings\": None\n",
    "    },\n",
    "    \"type\": \"EXTENDED_TRANSIT_STRATEGY_ANALYSIS\"\n",
    "}"
   ]
  },
  {
   "cell_type": "code",
   "execution_count": 7,
   "metadata": {
    "collapsed": true,
    "show_input": true
   },
   "outputs": [],
   "source": [
    "line = \"GB25\""
   ]
  },
  {
   "cell_type": "code",
   "execution_count": 8,
   "metadata": {
    "collapsed": false,
    "show_input": true
   },
   "outputs": [
    {
     "ename": "NameError",
     "evalue": "name 'newMat' is not defined",
     "output_type": "error",
     "traceback": [
      "\u001b[1;31m---------------------------------------------------------------------------\u001b[0m",
      "\u001b[1;31mNameError\u001b[0m                                 Traceback (most recent call last)",
      "\u001b[1;32m<ipython-input-8-750780ff210d>\u001b[0m in \u001b[0;36m<module>\u001b[1;34m()\u001b[0m\n\u001b[1;32m----> 1\u001b[1;33m \u001b[0mnewMat\u001b[0m\u001b[1;33m.\u001b[0m\u001b[0mid\u001b[0m\u001b[1;33m\u001b[0m\u001b[0m\n\u001b[0m",
      "\u001b[1;31mNameError\u001b[0m: name 'newMat' is not defined"
     ]
    }
   ],
   "source": [
    "newMat.id"
   ]
  },
  {
   "cell_type": "code",
   "execution_count": 5,
   "metadata": {
    "collapsed": true,
    "show_input": true
   },
   "outputs": [],
   "source": [
    "lines = [\"GB12\",\"GB15\",\"GB16\",\"GB18\",\"GB19\",\"GB20\",\"GB21\",\"GB24\",\"GB25\",\"GB27\",\"GB29\",\"GB31\",\n",
    "       \"GB32\",\"GB33\",\"GB34\",\"GB36\",\"GB37\",\"GB38\",\"GB40\",\"GB45\",\"GB46\",\"GB47\",\"GB48\",\"GB51\",\"GB52\",\n",
    "       \"GB54\",\"GB65\",\"GB66\",\"GB68\",\"GB70\",\"GB71\",\"GB81\",\"GB88\",\"GB90\",\"GB91\",\n",
    "       \"GB92\",\"GB93\",\"GB96\"]"
   ]
  },
  {
   "cell_type": "code",
   "execution_count": 6,
   "metadata": {
    "collapsed": false,
    "show_input": true
   },
   "outputs": [
    {
     "ename": "Error",
     "evalue": "specification.type: Expecting the following constant: EXTENDED_TRANSIT_PATH_ANALYSIS",
     "output_type": "error",
     "traceback": [
      "\u001b[1;31m---------------------------------------------------------------------------\u001b[0m",
      "\u001b[1;31mError\u001b[0m                                     Traceback (most recent call last)",
      "\u001b[1;32m<ipython-input-6-8f856b8b185e>\u001b[0m in \u001b[0;36m<module>\u001b[1;34m()\u001b[0m\n\u001b[0;32m     14\u001b[0m     \u001b[0mrunSelectLine\u001b[0m \u001b[1;33m=\u001b[0m \u001b[0mdeepcopy\u001b[0m\u001b[1;33m(\u001b[0m\u001b[0mselectLink\u001b[0m\u001b[1;33m)\u001b[0m\u001b[1;33m\u001b[0m\u001b[0m\n\u001b[0;32m     15\u001b[0m     \u001b[0mrunSelectLine\u001b[0m\u001b[1;33m[\u001b[0m\u001b[1;34m\"results\"\u001b[0m\u001b[1;33m]\u001b[0m\u001b[1;33m[\u001b[0m\u001b[1;34m\"selected_demand\"\u001b[0m\u001b[1;33m]\u001b[0m \u001b[1;33m=\u001b[0m \u001b[0mnewMat\u001b[0m\u001b[1;33m.\u001b[0m\u001b[0mid\u001b[0m\u001b[1;33m\u001b[0m\u001b[0m\n\u001b[1;32m---> 16\u001b[1;33m     \u001b[0mselectLine\u001b[0m\u001b[1;33m(\u001b[0m\u001b[0mrunSelectLine\u001b[0m\u001b[1;33m)\u001b[0m\u001b[1;33m\u001b[0m\u001b[0m\n\u001b[0m",
      "\u001b[1;32mC:\\Program Files\\INRO\\Emme\\Emme 4\\Emme-4.3.2\\python-lib\\win64\\2.7\\modeller\\inro.director.logging\\inro\\director\\logging\\trail.pyc\u001b[0m in \u001b[0;36m__trace\u001b[1;34m(*args, **kwargs)\u001b[0m\n",
      "\u001b[1;32mC:/Users/GSAMAAN/AppData/Local/Temp/path_based_analysis-9ce103ee8ec311e9a711705a0f36fcc5.pyc\u001b[0m in \u001b[0;36m__call__\u001b[1;34m(self, specification, scenario, class_name, num_processors)\u001b[0m\n",
      "\u001b[1;32mC:/Users/GSAMAAN/AppData/Local/Temp/path_based_analysis-9ce103ee8ec311e9a711705a0f36fcc5.pyc\u001b[0m in \u001b[0;36m_run_normal_analysis\u001b[1;34m(self, specification, scenario, name)\u001b[0m\n",
      "\u001b[1;32mC:\\Program Files\\INRO\\Emme\\Emme 4\\Emme-4.3.2\\python-lib\\win64\\2.7\\api\\inro\\emme\\procedure\\extendedtransitanalysis.pyc\u001b[0m in \u001b[0;36m__init__\u001b[1;34m(self, scenario, specification, num_processors)\u001b[0m\n",
      "\u001b[1;32mC:\\Program Files\\INRO\\Emme\\Emme 4\\Emme-4.3.2\\python-lib\\win64\\2.7\\api\\inro\\emme\\procedure\\__init__.pyc\u001b[0m in \u001b[0;36m__init__\u001b[1;34m(self, scenario, specification)\u001b[0m\n",
      "\u001b[1;32mC:\\Program Files\\INRO\\Emme\\Emme 4\\Emme-4.3.2\\python-lib\\win64\\2.7\\api\\inro\\emme\\procedure\\__init__.pyc\u001b[0m in \u001b[0;36m__init__\u001b[1;34m(self, specification)\u001b[0m\n",
      "\u001b[1;31mError\u001b[0m: specification.type: Expecting the following constant: EXTENDED_TRANSIT_PATH_ANALYSIS"
     ]
    }
   ],
   "source": [
    "lines = [\"GB12\",\"GB15\",\"GB16\",\"GB18\",\"GB19\",\"GB20\",\"GB21\",\"GB24\",\"GB25\",\"GB27\",\"GB29\",\"GB31\",\n",
    "       \"GB32\",\"GB33\",\"GB34\",\"GB36\",\"GB37\",\"GB38\",\"GB40\",\"GB45\",\"GB46\",\"GB47\",\"GB48\",\"GB51\",\"GB52\",\n",
    "       \"GB54\",\"GB65\",\"GB66\",\"GB68\",\"GB70\",\"GB71\",\"GB81\",\"GB88\",\"GB90\",\"GB91\",\n",
    "       \"GB92\",\"GB93\",\"GB96\"]\n",
    "for line in lines:\n",
    "    network_calculator(networkCalcSpec) # Clean network\n",
    "    newMat = create_matrix(matrix_id = \"mf\" + line[-2:],\n",
    "                      matrix_name= line,\n",
    "                      matrix_description = \"OD Demand for \" + line)\n",
    "    addLine = deepcopy(networkCalcSpec)\n",
    "    addLine[\"expression\"] = \"1\"\n",
    "    addLine[\"selections\"][\"transit_line\"] = \"line = \" + line + \"__\"\n",
    "    network_calculator(addLine)\n",
    "    runSelectLine = deepcopy(selectLink)\n",
    "    runSelectLine[\"results\"][\"selected_demand\"] = newMat.id\n",
    "    selectLine(runSelectLine)"
   ]
  },
  {
   "cell_type": "code",
   "execution_count": null,
   "metadata": {
    "collapsed": true,
    "show_input": true
   },
   "outputs": [],
   "source": []
  }
 ],
 "metadata": {
  "kernelspec": {
   "display_name": "Python 2",
   "language": "python",
   "name": "python2"
  },
  "language_info": {
   "codemirror_mode": {
    "name": "ipython",
    "version": 2
   },
   "file_extension": ".py",
   "mimetype": "text/x-python",
   "name": "python",
   "nbconvert_exporter": "python",
   "pygments_lexer": "ipython2",
   "version": "2.7.9"
  }
 },
 "nbformat": 4,
 "nbformat_minor": 0
}
