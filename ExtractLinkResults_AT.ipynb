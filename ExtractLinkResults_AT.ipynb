{
 "cells": [
  {
   "cell_type": "code",
   "execution_count": 3,
   "metadata": {
    "show_input": true
   },
   "outputs": [],
   "source": [
    "import os\n",
    "import pandas as pd\n",
    "import inro.modeller as m\n",
    "import inro.emme.database.emmebank as eb\n",
    "mm = m.Modeller()\n",
    "desktop = mm.desktop\n",
    "de = desktop.data_explorer()\n",
    "\n",
    "k_list = []\n",
    "m_list = []"
   ]
  },
  {
   "cell_type": "code",
   "execution_count": 10,
   "metadata": {
    "scrolled": false,
    "show_input": true
   },
   "outputs": [
    {
     "name": "stdout",
     "output_type": "stream",
     "text": [
      "('2016', 'AM', Scenario(2))\n",
      "('2016', 'MD', Scenario(3))\n",
      "('2016', 'PM', Scenario(4))\n",
      "('2016', 'EV', Scenario(5))\n",
      "('2016', 'NT', Scenario(1))\n",
      "('2029', 'AM', Scenario(2))\n",
      "('2029', 'MD', Scenario(3))\n",
      "('2029', 'PM', Scenario(4))\n",
      "('2029', 'EV', Scenario(5))\n",
      "('2029', 'NT', Scenario(1))\n",
      "('2039', 'AM', Scenario(2))\n",
      "('2039', 'MD', Scenario(3))\n",
      "('2039', 'PM', Scenario(4))\n",
      "('2039', 'EV', Scenario(5))\n",
      "('2039', 'NT', Scenario(1))\n",
      "('2049', 'AM', Scenario(2))\n",
      "('2049', 'MD', Scenario(3))\n",
      "('2049', 'PM', Scenario(4))\n",
      "('2049', 'EV', Scenario(5))\n",
      "('2049', 'NT', Scenario(1))\n",
      "('2016AM', 2)\n",
      "done with 2 ,  scen101\n",
      "('2016MD', 3)\n",
      "done with 3 ,  scen102\n",
      "('2016PM', 4)\n",
      "done with 4 ,  scen103\n",
      "('2016EV', 5)\n",
      "done with 5 ,  scen104\n",
      "('2016NT', 1)\n",
      "done with 1 ,  scen105\n",
      "('2029AM', 2)\n",
      "done with 2 ,  scen106\n",
      "('2029MD', 3)\n",
      "done with 3 ,  scen107\n",
      "('2029PM', 4)\n",
      "done with 4 ,  scen108\n",
      "('2029EV', 5)\n",
      "done with 5 ,  scen109\n",
      "('2029NT', 1)\n",
      "done with 1 ,  scen110\n",
      "('2039AM', 2)\n",
      "done with 2 ,  scen111\n",
      "('2039MD', 3)\n",
      "done with 3 ,  scen112\n",
      "('2039PM', 4)\n",
      "done with 4 ,  scen113\n",
      "('2039EV', 5)\n",
      "done with 5 ,  scen114\n",
      "('2039NT', 1)\n",
      "done with 1 ,  scen115\n",
      "('2049AM', 2)\n",
      "done with 2 ,  scen116\n",
      "('2049MD', 3)\n",
      "done with 3 ,  scen117\n",
      "('2049PM', 4)\n",
      "done with 4 ,  scen118\n",
      "('2049EV', 5)\n",
      "done with 5 ,  scen119\n",
      "('2049NT', 1)\n",
      "done with 1 ,  scen120\n"
     ]
    }
   ],
   "source": [
    "year = ['2016', '2029', '2039', '2049']\n",
    "period = ['AM', 'MD', 'PM', 'EV', 'NT']\n",
    "root_ws_folder = desktop.root_worksheet_folder()\n",
    "import_fromdb = mm.tool('inro.emme.data.database.import_from_database')\n",
    "\n",
    "k_list = []\n",
    "m_list = []\n",
    "\n",
    "for i in year:\n",
    "    for j in period:\n",
    "        for k in eb.Emmebank(\"\\\\tore-infs01\\Models\\Hwy697\\Highway 697\\Subarea_ASET_{}\\{}{}\\emmebank\".format(i, i, j)).scenarios():\n",
    "            k_list.append(int(k))\n",
    "\n",
    "m_list = range(len(k_list))\n",
    "\n",
    "c = 0\n",
    "for i in year:\n",
    "    for j in range(len(period)):\n",
    "        p = '{}{}'.format(i, period[j])\n",
    "        print(p, k_list[j])\n",
    "\n",
    "        eb.Emmebank(\"\\\\tore-infs01\\Models\\Hwy697\\Highway 697\\Subarea_ASET_{}\\{}{}\\emmebank\".format(i, i, period[j])).copy_scenario(k_list[c], m_list[c] + 101, copy_path_files = True, copy_strat_files = True, copy_db_files = True)\n",
    "        eb.Emmebank(\"\\\\tore-infs01\\Models\\Hwy697\\Highway 697\\Subarea_ASET_{}\\{}{}\\emmebank\".format(i, i, period[j])).dispose()\n",
    "\n",
    "        # Import into current database\n",
    "        fun_path = \"\\\\tore-infs01\\Models\\Hwy697\\Highway 697\\Subarea_ASET_{}\\{}{}\\emmebank\".format(i, i, period[j])\n",
    "        import_fromdb(src_database = fun_path,\n",
    "                     src_scenario_ids =  m_list[c] + 101)\n",
    "\n",
    "        eb.Emmebank(\"\\\\tore-infs01\\Models\\Hwy697\\Highway 697\\Subarea_ASET_{}\\{}{}\\emmebank\".format(i, i, period[j])).delete_scenario(m_list[c] + 101)\n",
    "        eb.Emmebank(\"\\\\tore-infs01\\Models\\Hwy697\\Highway 697\\Subarea_ASET_{}\\{}{}\\emmebank\".format(i, i, period[j])).dispose()\n",
    "        print(\"done with \" + str(k_list[j]) + \" , \" + \" scen\" + str(m_list[c] + 101))\n",
    "\n",
    "        c+=1\n",
    "        \n",
    "desktop.app.App.refresh_data()"
   ]
  },
  {
   "cell_type": "code",
   "execution_count": 12,
   "metadata": {
    "show_input": true
   },
   "outputs": [
    {
     "name": "stdout",
     "output_type": "stream",
     "text": [
      "its done bro\n"
     ]
    }
   ],
   "source": [
    "processed_dir = r\"\\\\tore-infs01\\Models\\Hwy697\\Highway 697\\csvs\"\n",
    "\n",
    "for scen in range(101, 121):\n",
    "    \n",
    "    emmebank = inro.modeller.Modeller().emmebank\n",
    "    scenarioooo = emmebank.scenario(scen)\n",
    "    de.replace_primary_scenario(scenarioooo)\n",
    "    root_ws_folder = desktop.root_worksheet_folder()\n",
    "    \n",
    "    p = scenarioooo.id\n",
    "    \n",
    "    links_sheet = root_ws_folder.find_item(['AT_LinkVol'])\n",
    "    links = links_sheet.open()\n",
    "    links.save_as_data_table(name = 'ATLinks_forExport',overwrite = True)\n",
    "    links.close()\n",
    "    dts = desktop.project.data_tables()\n",
    "    links_dt = dts.table('ATLinks_forExport')\n",
    "    data = links_dt.get_data()\n",
    "    output_file = os.path.join(processed_dir,'ATLinks_' + p + '.csv')\n",
    "    data.export_to_csv(output_file, separator = ',')\n",
    "\n",
    "print(\"it's done bro\")"
   ]
  },
  {
   "cell_type": "code",
   "execution_count": 13,
   "metadata": {
    "show_input": true
   },
   "outputs": [],
   "source": [
    "ATLinkVols = pd.DataFrame()\n",
    "processed_dir = r\"\\\\tore-infs01\\Models\\Hwy697\\Highway 697\\csvs\"\n",
    "defs = pd.read_csv('f\\period_defs.csv')\n",
    "\n",
    "from os import listdir\n",
    "from os.path import isfile, join\n",
    "\n",
    "scens = [f for f in listdir(processed_dir) if isfile(join(processed_dir, f))]\n",
    "\n",
    "for scen in scens:\n",
    "    key = scen[8:12]\n",
    "    \n",
    "    links_ATVol = pd.read_csv(os.path.join(processed_dir,'ATLinks_'+ p +'.csv'))\n",
    "    links_ATVol['key'] = key\n",
    "    ATLinkVols = ATLinkVols.append(links_ATVol)\n",
    "\n",
    "ATLinkVols.to_csv(os.path.join(processed_dir, 'ATLinkVols_allScens.csv'), index = False)\n",
    "\n",
    "defs = pd.read_csv('\\\\tore-infs01\\Models\\Hwy697\\Highway 697\\period_defs.csv')\n",
    "allpers = pd.read_csv('\\\\tore-infs01\\Models\\Hwy697\\Highway 697\\csvs\\ATLinkVols_allScens.csv')\n",
    "allpers.merge(defs, on = 'key').drop(labels = 'key', axis = 1).to_csv(os.path.join(processed_dir, 'ATLinkVols_allScens.csv'), index = False)\n",
    "\n",
    "print(\"it's done bro\")"
   ]
  }
 ],
 "metadata": {
  "kernelspec": {
   "display_name": "Python 2",
   "language": "python",
   "name": "python2"
  },
  "language_info": {
   "codemirror_mode": {
    "name": "ipython",
    "version": 2
   },
   "file_extension": ".py",
   "mimetype": "text/x-python",
   "name": "python",
   "nbconvert_exporter": "python",
   "pygments_lexer": "ipython2",
   "version": "2.7.14"
  },
  "modeller": {
   "desktop_app_port": "49946"
  }
 },
 "nbformat": 4,
 "nbformat_minor": 2
}
