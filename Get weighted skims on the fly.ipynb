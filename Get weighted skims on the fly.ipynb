{
 "cells": [
  {
   "cell_type": "markdown",
   "metadata": {
    "code_folding": [
     0
    ],
    "show_input": true
   },
   "source": [
    "# Compute Travel Time Skims Weighted by Demand (PnA) ON THE FLY"
   ]
  },
  {
   "cell_type": "markdown",
   "metadata": {
    "code_folding": []
   },
   "source": [
    "This script will use travel time skims and demand matrices to compute weighted skims on the fly. Also, the minimum travel time skims are computed.\n",
    "\n",
    "No results are stored or saved in the emmebank. \n",
    "\n",
    "Note that production-attraction peak/offpeak demand matrices are used to weight the skims. Peak period demand (7-hrs) and offpeak (17-hours)."
   ]
  },
  {
   "cell_type": "markdown",
   "metadata": {
    "code_folding": [],
    "collapsed": true,
    "show_input": true
   },
   "source": [
    "### Import libraries"
   ]
  },
  {
   "cell_type": "code",
   "execution_count": 1,
   "metadata": {
    "code_folding": [],
    "collapsed": false,
    "show_input": true
   },
   "outputs": [
    {
     "ename": "ImportError",
     "evalue": "No module named common.pandas_utils",
     "output_type": "error",
     "traceback": [
      "\u001b[1;31m---------------------------------------------------------------------------\u001b[0m",
      "\u001b[1;31mImportError\u001b[0m                               Traceback (most recent call last)",
      "\u001b[1;32m<ipython-input-1-2099b04a0f53>\u001b[0m in \u001b[0;36m<module>\u001b[1;34m()\u001b[0m\n\u001b[0;32m      8\u001b[0m \u001b[0mgghm_api\u001b[0m \u001b[1;33m=\u001b[0m \u001b[0mmm\u001b[0m\u001b[1;33m.\u001b[0m\u001b[0mmodule\u001b[0m\u001b[1;33m(\u001b[0m\u001b[1;34m'gghm.internal.api_interface'\u001b[0m\u001b[1;33m)\u001b[0m\u001b[1;33m\u001b[0m\u001b[0m\n\u001b[0;32m      9\u001b[0m \u001b[0meb\u001b[0m \u001b[1;33m=\u001b[0m \u001b[0mmm\u001b[0m\u001b[1;33m.\u001b[0m\u001b[0memmebank\u001b[0m\u001b[1;33m\u001b[0m\u001b[0m\n\u001b[1;32m---> 10\u001b[1;33m \u001b[1;32mfrom\u001b[0m \u001b[0mgghm_api\u001b[0m\u001b[1;33m.\u001b[0m\u001b[0mcommon\u001b[0m\u001b[1;33m.\u001b[0m\u001b[0mpandas_utils\u001b[0m \u001b[1;32mimport\u001b[0m \u001b[0mpandas_to_matrix\u001b[0m\u001b[1;33m\u001b[0m\u001b[0m\n\u001b[0m\u001b[0;32m     11\u001b[0m \u001b[1;33m\u001b[0m\u001b[0m\n\u001b[0;32m     12\u001b[0m \u001b[1;31m#call change matrix properties tool\u001b[0m\u001b[1;33m\u001b[0m\u001b[1;33m\u001b[0m\u001b[0m\n",
      "\u001b[1;31mImportError\u001b[0m: No module named common.pandas_utils"
     ]
    }
   ],
   "source": [
    "import pandas as pd\n",
    "import numpy as np\n",
    "from os import path\n",
    "import inro.modeller as m\n",
    "import os\n",
    "mm = m.Modeller()\n",
    "\n",
    "gghm_api = mm.module('gghm.internal.api_interface')\n",
    "eb = mm.emmebank\n",
    "from gghm_api.common.pandas_utils import pandas_to_matrix\n",
    "\n",
    "#call change matrix properties tool             \n",
    "NAMESPACE = \"inro.emme.data.matrix.change_matrix_properties\"\n",
    "change_matrix = m.Modeller().tool(NAMESPACE)\n",
    "\n",
    "scenario = 103"
   ]
  },
  {
   "cell_type": "markdown",
   "metadata": {},
   "source": [
    "### Directory of skims inside emmebank\n",
    "If there are missing matrices the script will crash."
   ]
  },
  {
   "cell_type": "code",
   "execution_count": 2,
   "metadata": {
    "code_folding": [
     0
    ],
    "collapsed": true,
    "show_input": true
   },
   "outputs": [],
   "source": [
    "#arrays of demand and skim matrices\n",
    "auto_pk_array = [['trips_auto1_peak_nt','skim.am_peak.auto.sov.time'],\n",
    "                 ['trips_auto1_peak_toll','skim.am_peak.auto.sovt.time'],\n",
    "                 ['trips_auto2_peak_nt_hov','skim.am_peak.auto.hov2.time'],\n",
    "                 ['trips_auto2_peak_nt_nh','skim.am_peak.auto.hov2.time'],\n",
    "                 ['trips_auto2_peak_toll_hov','skim.am_peak.auto.hov2t.time'],\n",
    "                 ['trips_auto2_peak_toll_nh','skim.am_peak.auto.hov2t.time'],\n",
    "                 ['trips_auto3_peak_nt_hov','skim.am_peak.auto.hov3.time'],\n",
    "                 ['trips_auto3_peak_nt_nh','skim.am_peak.auto.hov3.time'],\n",
    "                 ['trips_auto3_peak_toll_hov','skim.am_peak.auto.hov3t.time'],\n",
    "                 ['trips_auto3_peak_toll_nh','skim.am_peak.auto.hov3t.time']]\n",
    "\n",
    "\n",
    "auto_offpk_array = [['trips_auto1_offpeak_nt','skim.midday.auto.sov.time'],\n",
    "                 ['trips_auto1_offpeak_toll','skim.midday.auto.sovt.time'],\n",
    "                 ['trips_auto2_offpeak_nt_hov','skim.midday.auto.hov2.time'],\n",
    "                 ['trips_auto2_offpeak_nt_nh','skim.midday.auto.hov2.time'],\n",
    "                 ['trips_auto2_offpeak_toll_hov','skim.midday.auto.hov2t.time'],\n",
    "                 ['trips_auto2_offpeak_toll_nh','skim.midday.auto.hov2t.time'],\n",
    "                 ['trips_auto3_offpeak_nt_hov','skim.midday.auto.hov3.time'],\n",
    "                 ['trips_auto3_offpeak_nt_nh','skim.midday.auto.hov3.time'],\n",
    "                 ['trips_auto3_offpeak_toll_hov','skim.midday.auto.hov3t.time'],\n",
    "                 ['trips_auto3_offpeak_toll_nh','skim.midday.auto.hov3t.time']]\n",
    "\n",
    "transit_pk_array = [['trips_peak_express_bus_walk','skim_local_bus_w_peak_tt_act'],\n",
    "                    ['trips_peak_express_bus_drive','skim_go_bus_dr_peak_tt_act'],\n",
    "                    ['trips_peak_local_bus_walk','skim_local_bus_w_peak_tt_act'],\n",
    "                    ['trips_peak_local_bus_drive','skim_local_bus_dr_peak_tt_act'],\n",
    "                    ['trips_peak_rapid_bus_walk','skim_rapid_bus_w_peak_tt_act'],\n",
    "                    ['trips_peak_rapid_bus_drive','skim_rapid_bus_dr_peak_tt_act']]\n",
    "\n",
    "transit_offpk_array = [['trips_offpeak_express_bus_walk','skim_local_bus_w_offpeak_tt_act'],\n",
    "                    ['trips_offpeak_express_bus_drive','skim_go_bus_dr_offpeak_tt_act'],\n",
    "                    ['trips_offpeak_local_bus_walk','skim_local_bus_w_offpeak_tt_act'],\n",
    "                    ['trips_offpeak_local_bus_drive','skim_local_bus_dr_offpeak_tt_act'],\n",
    "                    ['trips_offpeak_rapid_bus_walk','skim_rapid_bus_w_offpeak_tt_act'],\n",
    "                    ['trips_offpeak_rapid_bus_drive','skim_rapid_bus_dr_offpeak_tt_act']]\n",
    "\n",
    "\n",
    "\n",
    "\n"
   ]
  },
  {
   "cell_type": "code",
   "execution_count": 3,
   "metadata": {
    "collapsed": false,
    "show_input": true
   },
   "outputs": [],
   "source": [
    "def get_trips_x_min(_array):\n",
    "    \n",
    "    print ('segment, person_trips, trips-min, avg_time')\n",
    "    \n",
    "    for mats in _array:\n",
    "        \n",
    "        trips = eb.matrix('\"' + mats[0] +'\"').get_numpy_data(scenario_id=scenario)\n",
    "        skim = eb.matrix('\"' + mats[1]+'\"').get_numpy_data(scenario_id=scenario)\n",
    "        \n",
    "        trips_min = trips*skim\n",
    "        \n",
    "        avg_time = trips_min.sum()/trips.sum()\n",
    "        \n",
    "        print (mats[0] + \", \" + \"{:.{}f}\".format(trips.sum(),0) + \",\" +\\\n",
    "               \"{:.{}f}\".format(trips_min.sum(),0)+ \",\" +\\\n",
    "               \"{:.{}f}\".format(avg_time,2))"
   ]
  },
  {
   "cell_type": "code",
   "execution_count": 4,
   "metadata": {
    "code_folding": [],
    "collapsed": false,
    "show_input": true
   },
   "outputs": [
    {
     "name": "stdout",
     "output_type": "stream",
     "text": [
      "auto peak\n",
      "segment, person_trips, trips-min, avg_time\n",
      "trips_auto1_peak_nt, 7676032,144164016,18.78\n",
      "trips_auto1_peak_toll, 450751,15314143,33.97\n",
      "trips_auto2_peak_nt_hov, 194262,6186364,31.85\n",
      "trips_auto2_peak_nt_nh, 5900550,65179512,11.05\n",
      "trips_auto2_peak_toll_hov, 167985,4254720,25.33\n",
      "trips_auto2_peak_toll_nh, 80378,2335677,29.06\n",
      "trips_auto3_peak_nt_hov, 79586,3353610,42.14\n",
      "trips_auto3_peak_nt_nh, 1337784,12992834,9.71\n",
      "trips_auto3_peak_toll_hov, 41453,1088151,26.25\n",
      "trips_auto3_peak_toll_nh, 21672,694355,32.04\n",
      "auto offpeak\n",
      "segment, person_trips, trips-min, avg_time\n",
      "trips_auto1_offpeak_nt, 5992224,51855484,8.65\n",
      "trips_auto1_offpeak_toll, 103194,1641081,15.90\n",
      "trips_auto2_offpeak_nt_hov, 79904,859184,10.75\n",
      "trips_auto2_offpeak_nt_nh, 4734224,35126080,7.42\n",
      "trips_auto2_offpeak_toll_hov, 77944,805532,10.33\n",
      "trips_auto2_offpeak_toll_nh, 35821,513167,14.33\n",
      "trips_auto3_offpeak_nt_hov, 18196,199541,10.97\n",
      "trips_auto3_offpeak_nt_nh, 1066538,6897522,6.47\n",
      "trips_auto3_offpeak_toll_hov, 18394,221363,12.03\n",
      "trips_auto3_offpeak_toll_nh, 8739,141395,16.18\n",
      "transit peak\n",
      "segment, person_trips, trips-min, avg_time\n",
      "trips_peak_express_bus_walk, 24960,4462954,178.80\n",
      "trips_peak_express_bus_drive, 13043,2768646,212.26\n",
      "trips_peak_local_bus_walk, 585068,34272120,58.58\n",
      "trips_peak_local_bus_drive, 12621,609016,48.25\n",
      "trips_peak_rapid_bus_walk, 42216,2891719,68.50\n",
      "trips_peak_rapid_bus_drive, 3683,203914,55.36\n",
      "transit offpeak\n",
      "segment, person_trips, trips-min, avg_time\n",
      "trips_offpeak_express_bus_walk, 20330,2504273,123.18\n",
      "trips_offpeak_express_bus_drive, 11278,1917198,170.00\n",
      "trips_offpeak_local_bus_walk, 421377,19062406,45.24\n",
      "trips_offpeak_local_bus_drive, 5710,228762,40.06\n",
      "trips_offpeak_rapid_bus_walk, 36721,1984662,54.05\n",
      "trips_offpeak_rapid_bus_drive, 1385,64426,46.50\n"
     ]
    }
   ],
   "source": [
    "print 'auto peak'\n",
    "get_trips_x_min(auto_pk_array)\n",
    "\n",
    "print 'auto offpeak'\n",
    "get_trips_x_min(auto_offpk_array)\n",
    "\n",
    "print 'transit peak'\n",
    "get_trips_x_min(transit_pk_array)\n",
    "\n",
    "print 'transit offpeak'\n",
    "get_trips_x_min(transit_offpk_array)"
   ]
  },
  {
   "cell_type": "code",
   "execution_count": null,
   "metadata": {
    "code_folding": [],
    "collapsed": true,
    "show_input": true
   },
   "outputs": [],
   "source": []
  }
 ],
 "metadata": {
  "kernelspec": {
   "display_name": "Python 2",
   "language": "python",
   "name": "python2"
  },
  "language_info": {
   "codemirror_mode": {
    "name": "ipython",
    "version": 2
   },
   "file_extension": ".py",
   "mimetype": "text/x-python",
   "name": "python",
   "nbconvert_exporter": "python",
   "pygments_lexer": "ipython2",
   "version": "2.7.9"
  }
 },
 "nbformat": 4,
 "nbformat_minor": 0
}
