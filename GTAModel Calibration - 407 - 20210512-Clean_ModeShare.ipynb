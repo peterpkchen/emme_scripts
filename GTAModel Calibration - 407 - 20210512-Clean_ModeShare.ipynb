{
 "cells": [
  {
   "cell_type": "code",
   "execution_count": 1,
   "metadata": {
    "show_input": true
   },
   "outputs": [],
   "source": [
    "import os\n",
    "import glob\n",
    "import pandas as pd\n",
    "import numpy as np\n",
    "from copy import deepcopy"
   ]
  },
  {
   "cell_type": "code",
   "execution_count": 4,
   "metadata": {
    "show_input": true
   },
   "outputs": [],
   "source": [
    "run_directory = r\"C:\\Users\\pechen\\Documents\\XTMF\\Projects\\407 Model Update\"\n",
    "\n",
    "run_folder = r\"407 Model - Warm Start- MCSpatial Run 43 - 20210610\"\n",
    "run_path = os.path.join(run_directory,run_folder)\n",
    "\n",
    "input_pth = r\"C:\\Users\\pechen\\Documents\\407 Model Update\"\n",
    "zone_map = pd.read_csv(os.path.join(input_pth,\"407_ZoneMapping.csv\"))\n",
    "zone_map_min = zone_map"
   ]
  },
  {
   "cell_type": "markdown",
   "metadata": {},
   "source": [
    "# Mode Share Start HERE"
   ]
  },
  {
   "cell_type": "code",
   "execution_count": 5,
   "metadata": {},
   "outputs": [],
   "source": [
    "microsim_location = r\"Microsim Results\"\n",
    "microsim_path = os.path.join(run_path, microsim_location)\n",
    "\n",
    "input_pth = r\"C:\\Users\\pechen\\Documents\\407 Model Update\"\n",
    "zone_map = pd.read_csv(os.path.join(input_pth,\"407_ZoneMapping.csv\"))\n",
    "zone_map_min = zone_map\n",
    "\n",
    "persons_df = pd.read_csv(os.path.join(microsim_path,\"persons.csv\"))\n",
    "trips_df = pd.read_csv(os.path.join(microsim_path,\"trips.csv\"))\n",
    "tripmode_df = pd.read_csv(os.path.join(microsim_path,\"trip_modes.csv\"))\n",
    "trips_gta = trips_df[(trips_df.o_zone < 6000) & (trips_df.d_zone < 6000)]\n",
    "\n",
    "trips_gta = trips_gta.merge(persons_df,on=[\"household_id\",\"person_id\"])\n",
    "trips_gta = trips_gta[trips_gta.age >=11]\n",
    "\n",
    "trips_gta_time = tripmode_df.merge(trips_gta,how = \"right\", on = ['household_id', 'person_id', 'trip_id'])\n",
    "\n",
    "trips_gta_time[\"weight\"] = trips_gta_time[\"weight\"]/10\n",
    "trips_gta_time[\"weight_z\"] = trips_gta_time[\"weight\"]*trips_gta_time[\"weight_x\"]\n",
    "\n",
    "ms_daily_GTA = pd.pivot_table(trips_gta_time,columns = \"mode\", values = \"weight_z\", aggfunc = sum)"
   ]
  },
  {
   "cell_type": "code",
   "execution_count": 6,
   "metadata": {},
   "outputs": [],
   "source": [
    "ms_daily_GTA.to_csv(os.path.join(input_pth,\"GTA_Wide_TripsbyMode_MCSpatial_Run41.csv\")) #Daily MS"
   ]
  },
  {
   "cell_type": "code",
   "execution_count": 7,
   "metadata": {},
   "outputs": [],
   "source": [
    "trips_407 = trips_df\n",
    "trips_407  = trips_407.merge(persons_df,on=[\"household_id\",\"person_id\"])\n",
    "trips_407 = trips_407[trips_407.age >=11]\n",
    "trips_407 = trips_407.merge(zone_map_min,left_on = \"o_zone\", right_on =\"GTA06\").drop(columns = \"GTA06\").rename(columns = {\"region\":\"region_o\"})\n",
    "trips_407 = trips_407.merge(zone_map_min,left_on = \"d_zone\", right_on =\"GTA06\").drop(columns = \"GTA06\").rename(columns = {\"region\":\"region_d\"})\n",
    "\n",
    "trips_407_time = tripmode_df.merge(trips_407,how = \"right\", on = ['household_id', 'person_id', 'trip_id'])\n",
    "trips_407_time[\"weight\"] = trips_407_time[\"weight\"]/10\n",
    "trips_407_time[\"weight_z\"] = trips_407_time[\"weight\"]*trips_407_time[\"weight_x\"]\n",
    "trips_407_am = trips_407_time[(trips_407_time.o_depart >= 360) & (trips_407_time.o_depart < 540)]\n",
    "trips_407_pm = trips_407_time[(trips_407_time.o_depart >= 900) & (trips_407_time.o_depart < 1140)]"
   ]
  },
  {
   "cell_type": "code",
   "execution_count": 8,
   "metadata": {},
   "outputs": [],
   "source": [
    "am_modeshare = pd.pivot_table(trips_407_am,index = [\"region_o\",\"region_d\"],columns = \"mode\", values = \"weight_z\", aggfunc = sum,margins = True).fillna(0)\n",
    "pm_modeshare = pd.pivot_table(trips_407_pm,index = [\"region_o\",\"region_d\"],columns = \"mode\", values = \"weight_z\", aggfunc = sum,margins = True).fillna(0)"
   ]
  },
  {
   "cell_type": "code",
   "execution_count": 9,
   "metadata": {},
   "outputs": [],
   "source": [
    "am_modeshare.to_csv(os.path.join(input_pth,\"am_modeshare_MCSpatial_Run41.csv\")) #Time Period MS\n",
    "pm_modeshare.to_csv(os.path.join(input_pth,\"pm_modeshare_MCSpatial_Run41.csv\"))"
   ]
  },
  {
   "cell_type": "markdown",
   "metadata": {},
   "source": [
    "# XML Edits for Mode Share Constants here"
   ]
  },
  {
   "cell_type": "code",
   "execution_count": 136,
   "metadata": {},
   "outputs": [],
   "source": [
    "import xml.etree.ElementTree as ET\n",
    "model_syst_pth = os.path.join(input_pth,\"Python Model Systems\")\n",
    "constant_df = pd.read_csv(os.path.join(model_syst_pth,\"407_msconstants_spatialrun23.csv\"))\n",
    "xml_fle = os.path.join(model_syst_pth,\"407 Base Calibration - Warm Start Low Iter - MS Spatial Base 12 - 20210517.xml\")"
   ]
  },
  {
   "cell_type": "code",
   "execution_count": 137,
   "metadata": {},
   "outputs": [],
   "source": [
    "constant_df[\"OD\"] = constant_df[\"O_PD\"].map(str) + \":\" + constant_df[\"D_PD\"].map(str)\n",
    "tree = ET.parse(xml_fle)\n",
    "root = tree.getroot()\n",
    "model = root[1]\n",
    "otherModes = model[6]\n",
    "\n",
    "for index, row in constant_df.iterrows():\n",
    "    mode = row.Mode\n",
    "    tp = row.TP\n",
    "    od = row.OD\n",
    "    const = row.Constant\n",
    "    match = False\n",
    "    for child in otherModes:\n",
    "        curr_mode = child.attrib[\"Name\"]\n",
    "        if curr_mode == mode:\n",
    "            mode_tree = child\n",
    "            match = True\n",
    "    if not match:\n",
    "        print(\"No match found for {}\".format(mode))\n",
    "    else:\n",
    "        match = False\n",
    "        for child in mode_tree:\n",
    "            if \"Name\" in child.attrib.keys():\n",
    "                if child.attrib[\"Name\"] == 'Time Period Constants':\n",
    "                    tp_tree = child\n",
    "                    match = True\n",
    "        if not match:\n",
    "            print(\"No time period constants for {}\".format(mode))\n",
    "        else:\n",
    "            match = False\n",
    "            for child in tp_tree:\n",
    "                if \"Name\" in child.attrib.keys():\n",
    "                    if child.attrib[\"Name\"] == tp:\n",
    "                        this_tp_tree = child[1]\n",
    "                        match = True\n",
    "            if not match:\n",
    "                print(\"Time period {0} does not exist for mode {1}\".format(tp,mode))\n",
    "            else:\n",
    "                match = False\n",
    "                for child in this_tp_tree:\n",
    "                    if \"Name\" in child.attrib.keys():\n",
    "                        if child.attrib[\"Name\"] == od:\n",
    "                            match = True\n",
    "                            const_tree = child\n",
    "                if not match:\n",
    "                    print(\"OD {0} not present for tp {1} mode {2}\".format(od,tp,mode))\n",
    "                else:\n",
    "                    match = False\n",
    "                    params = const_tree[0]\n",
    "                    for child in params:\n",
    "                        if child.attrib[\"Name\"] == \"Constant\":\n",
    "                            param = child\n",
    "                            match = True\n",
    "                    if not match:\n",
    "                        print(\"Constant attribute not present for od {0} tp {1} mode {2}\".format(od,tp,mode))\n",
    "                    else:\n",
    "                        param.attrib[\"Value\"] = str(const)"
   ]
  },
  {
   "cell_type": "code",
   "execution_count": 138,
   "metadata": {},
   "outputs": [],
   "source": [
    "tree.write(os.path.join(model_syst_pth,\"407 Base Calibration - Warm Start Low Iter - MS Spatial Run 23 - 20210517.xml\"))"
   ]
  },
  {
   "cell_type": "markdown",
   "metadata": {},
   "source": [
    "# Leaving Old code below - it is not organized"
   ]
  },
  {
   "cell_type": "markdown",
   "metadata": {},
   "source": [
    "# PORPOW Calibration"
   ]
  },
  {
   "cell_type": "code",
   "execution_count": 4,
   "metadata": {
    "show_input": true
   },
   "outputs": [],
   "source": [
    "porpow_location = r\"Validation\\PoRPoW\\Model\"\n",
    "porpow_path = os.path.join(run_path,porpow_location)"
   ]
  },
  {
   "cell_type": "code",
   "execution_count": 5,
   "metadata": {
    "show_input": true
   },
   "outputs": [],
   "source": [
    "# matrix_list = {}\n",
    "import_mat = \"mf50\"\n",
    "first = True\n",
    "for root,dirs,files in os.walk(porpow_path):\n",
    "    for matrix_file in files:\n",
    "        name = os.path.splitext(matrix_file)[0]\n",
    "        matrix_number = int(import_mat[2:])\n",
    "        import_matrices(4, matrix_number ,os.path.join(root, matrix_file),scenario, name)\n",
    "        porpow_mat = eb.matrix(import_mat).get_numpy_data(scenario)\n",
    "        indices = eb.matrix(import_mat).get_data(1).indices\n",
    "        if first:\n",
    "            df_full = pd.DataFrame(porpow_mat,indices[0],indices[1]).stack().reset_index().rename(columns = {\"level_0\": \"TAZ_O\",\n",
    "                                                                                               \"level_1\": \"TAZ_D\",\n",
    "                                                                                              0: name})\n",
    "            first = False\n",
    "        else:\n",
    "            df_curr = pd.DataFrame(porpow_mat,indices[0],indices[1]).stack().reset_index().rename(columns = {\"level_0\": \"TAZ_O\",\n",
    "                                                                                               \"level_1\": \"TAZ_D\",\n",
    "                                                                                              0: name})\n",
    "            df_full = df_full.merge(df_curr, on= [\"TAZ_O\",\"TAZ_D\"])"
   ]
  },
  {
   "cell_type": "code",
   "execution_count": 16,
   "metadata": {
    "show_input": true
   },
   "outputs": [],
   "source": [
    "input_pth = r\"C:\\Users\\BCrane\\Documents\\407 Model Update\"\n",
    "zone_map = pd.read_csv(os.path.join(input_pth,\"407_ZoneMapping.csv\"))"
   ]
  },
  {
   "cell_type": "code",
   "execution_count": 9,
   "metadata": {
    "show_input": true
   },
   "outputs": [
    {
     "ename": "KeyError",
     "evalue": "\"None of [Index(['DTAZ', 'pd_new', 'pd_old', 'pd_tts'], dtype='object')] are in the [columns]\"",
     "output_type": "error",
     "traceback": [
      "\u001b[1;31m---------------------------------------------------------------------------\u001b[0m",
      "\u001b[1;31mKeyError\u001b[0m                                  Traceback (most recent call last)",
      "\u001b[1;32m<ipython-input-9-f49f7db8d5c1>\u001b[0m in \u001b[0;36m<module>\u001b[1;34m\u001b[0m\n\u001b[1;32m----> 1\u001b[1;33m \u001b[0mzone_map_min\u001b[0m \u001b[1;33m=\u001b[0m \u001b[0mzone_map\u001b[0m\u001b[1;33m[\u001b[0m\u001b[1;33m[\u001b[0m\u001b[1;34m\"DTAZ\"\u001b[0m\u001b[1;33m,\u001b[0m\u001b[1;34m\"pd_new\"\u001b[0m\u001b[1;33m,\u001b[0m\u001b[1;34m\"pd_old\"\u001b[0m\u001b[1;33m,\u001b[0m \u001b[1;34m\"pd_tts\"\u001b[0m\u001b[1;33m]\u001b[0m\u001b[1;33m]\u001b[0m\u001b[1;33m\u001b[0m\u001b[1;33m\u001b[0m\u001b[0m\n\u001b[0m",
      "\u001b[1;32mC:\\Program Files\\ArcGIS\\Pro\\bin\\Python\\envs\\arcgispro-py3\\lib\\site-packages\\pandas\\core\\frame.py\u001b[0m in \u001b[0;36m__getitem__\u001b[1;34m(self, key)\u001b[0m\n\u001b[0;32m   2804\u001b[0m             \u001b[1;32mif\u001b[0m \u001b[0mis_iterator\u001b[0m\u001b[1;33m(\u001b[0m\u001b[0mkey\u001b[0m\u001b[1;33m)\u001b[0m\u001b[1;33m:\u001b[0m\u001b[1;33m\u001b[0m\u001b[1;33m\u001b[0m\u001b[0m\n\u001b[0;32m   2805\u001b[0m                 \u001b[0mkey\u001b[0m \u001b[1;33m=\u001b[0m \u001b[0mlist\u001b[0m\u001b[1;33m(\u001b[0m\u001b[0mkey\u001b[0m\u001b[1;33m)\u001b[0m\u001b[1;33m\u001b[0m\u001b[1;33m\u001b[0m\u001b[0m\n\u001b[1;32m-> 2806\u001b[1;33m             \u001b[0mindexer\u001b[0m \u001b[1;33m=\u001b[0m \u001b[0mself\u001b[0m\u001b[1;33m.\u001b[0m\u001b[0mloc\u001b[0m\u001b[1;33m.\u001b[0m\u001b[0m_get_listlike_indexer\u001b[0m\u001b[1;33m(\u001b[0m\u001b[0mkey\u001b[0m\u001b[1;33m,\u001b[0m \u001b[0maxis\u001b[0m\u001b[1;33m=\u001b[0m\u001b[1;36m1\u001b[0m\u001b[1;33m,\u001b[0m \u001b[0mraise_missing\u001b[0m\u001b[1;33m=\u001b[0m\u001b[1;32mTrue\u001b[0m\u001b[1;33m)\u001b[0m\u001b[1;33m[\u001b[0m\u001b[1;36m1\u001b[0m\u001b[1;33m]\u001b[0m\u001b[1;33m\u001b[0m\u001b[1;33m\u001b[0m\u001b[0m\n\u001b[0m\u001b[0;32m   2807\u001b[0m \u001b[1;33m\u001b[0m\u001b[0m\n\u001b[0;32m   2808\u001b[0m         \u001b[1;31m# take() does not accept boolean indexers\u001b[0m\u001b[1;33m\u001b[0m\u001b[1;33m\u001b[0m\u001b[1;33m\u001b[0m\u001b[0m\n",
      "\u001b[1;32mC:\\Program Files\\ArcGIS\\Pro\\bin\\Python\\envs\\arcgispro-py3\\lib\\site-packages\\pandas\\core\\indexing.py\u001b[0m in \u001b[0;36m_get_listlike_indexer\u001b[1;34m(self, key, axis, raise_missing)\u001b[0m\n\u001b[0;32m   1551\u001b[0m \u001b[1;33m\u001b[0m\u001b[0m\n\u001b[0;32m   1552\u001b[0m         self._validate_read_indexer(\n\u001b[1;32m-> 1553\u001b[1;33m             \u001b[0mkeyarr\u001b[0m\u001b[1;33m,\u001b[0m \u001b[0mindexer\u001b[0m\u001b[1;33m,\u001b[0m \u001b[0mo\u001b[0m\u001b[1;33m.\u001b[0m\u001b[0m_get_axis_number\u001b[0m\u001b[1;33m(\u001b[0m\u001b[0maxis\u001b[0m\u001b[1;33m)\u001b[0m\u001b[1;33m,\u001b[0m \u001b[0mraise_missing\u001b[0m\u001b[1;33m=\u001b[0m\u001b[0mraise_missing\u001b[0m\u001b[1;33m\u001b[0m\u001b[1;33m\u001b[0m\u001b[0m\n\u001b[0m\u001b[0;32m   1554\u001b[0m         )\n\u001b[0;32m   1555\u001b[0m         \u001b[1;32mreturn\u001b[0m \u001b[0mkeyarr\u001b[0m\u001b[1;33m,\u001b[0m \u001b[0mindexer\u001b[0m\u001b[1;33m\u001b[0m\u001b[1;33m\u001b[0m\u001b[0m\n",
      "\u001b[1;32mC:\\Program Files\\ArcGIS\\Pro\\bin\\Python\\envs\\arcgispro-py3\\lib\\site-packages\\pandas\\core\\indexing.py\u001b[0m in \u001b[0;36m_validate_read_indexer\u001b[1;34m(self, key, indexer, axis, raise_missing)\u001b[0m\n\u001b[0;32m   1638\u001b[0m             \u001b[1;32mif\u001b[0m \u001b[0mmissing\u001b[0m \u001b[1;33m==\u001b[0m \u001b[0mlen\u001b[0m\u001b[1;33m(\u001b[0m\u001b[0mindexer\u001b[0m\u001b[1;33m)\u001b[0m\u001b[1;33m:\u001b[0m\u001b[1;33m\u001b[0m\u001b[1;33m\u001b[0m\u001b[0m\n\u001b[0;32m   1639\u001b[0m                 \u001b[0maxis_name\u001b[0m \u001b[1;33m=\u001b[0m \u001b[0mself\u001b[0m\u001b[1;33m.\u001b[0m\u001b[0mobj\u001b[0m\u001b[1;33m.\u001b[0m\u001b[0m_get_axis_name\u001b[0m\u001b[1;33m(\u001b[0m\u001b[0maxis\u001b[0m\u001b[1;33m)\u001b[0m\u001b[1;33m\u001b[0m\u001b[1;33m\u001b[0m\u001b[0m\n\u001b[1;32m-> 1640\u001b[1;33m                 \u001b[1;32mraise\u001b[0m \u001b[0mKeyError\u001b[0m\u001b[1;33m(\u001b[0m\u001b[1;34mf\"None of [{key}] are in the [{axis_name}]\"\u001b[0m\u001b[1;33m)\u001b[0m\u001b[1;33m\u001b[0m\u001b[1;33m\u001b[0m\u001b[0m\n\u001b[0m\u001b[0;32m   1641\u001b[0m \u001b[1;33m\u001b[0m\u001b[0m\n\u001b[0;32m   1642\u001b[0m             \u001b[1;31m# We (temporarily) allow for some missing keys with .loc, except in\u001b[0m\u001b[1;33m\u001b[0m\u001b[1;33m\u001b[0m\u001b[1;33m\u001b[0m\u001b[0m\n",
      "\u001b[1;31mKeyError\u001b[0m: \"None of [Index(['DTAZ', 'pd_new', 'pd_old', 'pd_tts'], dtype='object')] are in the [columns]\""
     ]
    }
   ],
   "source": [
    "zone_map_min = zone_map[[\"DTAZ\",\"pd_new\",\"pd_old\", \"pd_tts\"]]"
   ]
  },
  {
   "cell_type": "code",
   "execution_count": 8,
   "metadata": {
    "show_input": true
   },
   "outputs": [],
   "source": [
    "df_full = df_full.merge(zone_map_min,left_on = \"TAZ_O\", right_on =\"DTAZ\").drop(columns = \"DTAZ\").rename(columns = {\"pd_new\":\"pd_new_o\", \"pd_old\":\"pd_old_o\", \"pd_tts\":\"pd_tts_o\"})"
   ]
  },
  {
   "cell_type": "code",
   "execution_count": 9,
   "metadata": {
    "show_input": true
   },
   "outputs": [],
   "source": [
    "df_full = df_full.merge(zone_map_min,left_on = \"TAZ_D\", right_on =\"DTAZ\").drop(columns = \"DTAZ\").rename(columns = {\"pd_new\":\"pd_new_d\", \"pd_old\":\"pd_old_d\", \"pd_tts\":\"pd_tts_d\"})"
   ]
  },
  {
   "cell_type": "code",
   "execution_count": 10,
   "metadata": {
    "show_input": true
   },
   "outputs": [],
   "source": [
    "all_pivot = pd.pivot_table(df_full[(df_full.pd_tts_o > 0) & (df_full.pd_tts_d > 0)], index = \"pd_tts_o\", columns = \"pd_tts_d\", values = [\"All\"], aggfunc = sum)#.to_csv(os.path.join(input_pth,\"model_porpow_all_20210121.csv\"))"
   ]
  },
  {
   "cell_type": "code",
   "execution_count": 11,
   "metadata": {
    "show_input": true
   },
   "outputs": [],
   "source": [
    "all_pivot.stack().to_csv(os.path.join(input_pth,\"model_new_kfactors4_porpow_all_tall_reaggregate_20210208.csv\"))"
   ]
  },
  {
   "cell_type": "markdown",
   "metadata": {
    "show_input": true
   },
   "source": [
    "# Externals"
   ]
  },
  {
   "cell_type": "code",
   "execution_count": 24,
   "metadata": {
    "show_input": true
   },
   "outputs": [],
   "source": [
    "external_location = r\"Validation\\External\"\n",
    "external_path = os.path.join(run_path,external_location)"
   ]
  },
  {
   "cell_type": "code",
   "execution_count": 25,
   "metadata": {
    "show_input": true
   },
   "outputs": [],
   "source": [
    "auto_external = pd.read_csv(os.path.join(external_path,\"AMExternalAuto.csv\"))\n",
    "transit_external = pd.read_csv(os.path.join(external_path,\"AMExternalTransit.csv\"))"
   ]
  },
  {
   "cell_type": "code",
   "execution_count": 31,
   "metadata": {
    "show_input": true
   },
   "outputs": [],
   "source": [
    "auto_external = auto_external.set_index(\"Zones O\\\\D\").stack().reset_index().rename(columns = {\"Zones O\\\\D\": \"O\", \"level_1\": \"D\", 0: \"Auto Trips\"})\n",
    "transit_external = transit_external.set_index(\"Zones O\\\\D\").stack().reset_index().rename(columns = {\"Zones O\\\\D\": \"O\", \"level_1\": \"D\", 0: \"Transit Trips\"})\n",
    "auto_external[\"D\"] = auto_external[\"D\"].map(int)\n",
    "transit_external[\"D\"] = transit_external[\"D\"].map(int)"
   ]
  },
  {
   "cell_type": "code",
   "execution_count": 41,
   "metadata": {
    "show_input": true
   },
   "outputs": [],
   "source": [
    "external_trips = auto_external.merge(transit_external,on=[\"O\",\"D\"])"
   ]
  },
  {
   "cell_type": "code",
   "execution_count": 42,
   "metadata": {
    "show_input": true
   },
   "outputs": [],
   "source": [
    "external_trips = external_trips.merge(zone_map_min,left_on = \"O\", right_on =\"DTAZ\").drop(columns = \"DTAZ\").rename(columns = {\"pd_new\":\"pd_new_o\", \"pd_old\":\"pd_old_o\", \"pd_tts\":\"pd_tts_o\"})\n",
    "external_trips = external_trips.merge(zone_map_min,left_on = \"D\", right_on =\"DTAZ\").drop(columns = \"DTAZ\").rename(columns = {\"pd_new\":\"pd_new_d\", \"pd_old\":\"pd_old_d\", \"pd_tts\":\"pd_tts_d\"})"
   ]
  },
  {
   "cell_type": "code",
   "execution_count": 47,
   "metadata": {
    "show_input": true
   },
   "outputs": [],
   "source": [
    "external_summary = pd.pivot_table(external_trips[(external_trips.pd_tts_o > 0) & (external_trips.pd_tts_d > 0)], index = \"pd_tts_o\", columns = \"pd_tts_d\", values = [\"Auto Trips\"], aggfunc = sum)"
   ]
  },
  {
   "cell_type": "code",
   "execution_count": 48,
   "metadata": {
    "show_input": true
   },
   "outputs": [],
   "source": [
    "external_summary.stack().to_csv(os.path.join(input_pth,\"external_auto_trips_20210202.csv\"))"
   ]
  },
  {
   "cell_type": "code",
   "execution_count": 63,
   "metadata": {
    "show_input": true
   },
   "outputs": [
    {
     "name": "stdout",
     "output_type": "stream",
     "text": [
      "(100, array([1], dtype=int64))\n",
      "(101, array([ 2,  3,  4,  5,  6,  7,  8,  9, 10, 11, 12], dtype=int64))\n",
      "(102, array([13, 14, 15, 16], dtype=int64))\n",
      "(6, array([202], dtype=int64))\n",
      "(5, array([201, 202], dtype=int64))\n",
      "(4, array([20], dtype=int64))\n",
      "(7, array([21], dtype=int64))\n",
      "(11, array([222], dtype=int64))\n",
      "(10, array([222, 221], dtype=int64))\n",
      "(9, array([ 22, 222], dtype=int64))\n",
      "(14, array([232], dtype=int64))\n",
      "(13, array([231, 232], dtype=int64))\n",
      "(12, array([231,  23], dtype=int64))\n",
      "(15, array([ 24, 241, 242], dtype=int64))\n",
      "(16, array([241], dtype=int64))\n",
      "(17, array([242], dtype=int64))\n",
      "(3, array([19], dtype=int64))\n",
      "(2, array([18], dtype=int64))\n",
      "(1, array([17], dtype=int64))\n",
      "(104, array([33], dtype=int64))\n",
      "(103, array([29, 31], dtype=int64))\n",
      "(105, array([28, 27, 32, 30, 26, 25], dtype=int64))\n",
      "(106, array([34, 35, 36], dtype=int64))\n",
      "(107, array([39, 40, 38, 37, 44, 43, 45, 46, 41, 42,  0], dtype=int64))\n"
     ]
    }
   ],
   "source": [
    "for value in zone_map_min[\"pd_tts\"].unique():\n",
    "    print(value, zone_map_min[zone_map_min[\"pd_tts\"] == value][\"pd_new\"].unique())"
   ]
  },
  {
   "cell_type": "markdown",
   "metadata": {
    "show_input": true
   },
   "source": [
    "# Checking Persons File"
   ]
  },
  {
   "cell_type": "code",
   "execution_count": 129,
   "metadata": {
    "show_input": true
   },
   "outputs": [],
   "source": [
    "microsim_location = r\"Microsim Results\"\n",
    "microsim_path = os.path.join(run_path, microsim_location)"
   ]
  },
  {
   "cell_type": "code",
   "execution_count": 137,
   "metadata": {
    "show_input": true
   },
   "outputs": [],
   "source": [
    "persons_df = pd.read_csv(os.path.join(microsim_path,\"persons.csv\"))"
   ]
  },
  {
   "cell_type": "code",
   "execution_count": 138,
   "metadata": {
    "show_input": true
   },
   "outputs": [],
   "source": [
    "households_df = pd.read_csv(os.path.join(microsim_path,\"households.csv\"))"
   ]
  },
  {
   "cell_type": "code",
   "execution_count": 132,
   "metadata": {
    "show_input": true
   },
   "outputs": [],
   "source": [
    "persons_df = persons_df.merge(households_df,on=\"household_id\")"
   ]
  },
  {
   "cell_type": "code",
   "execution_count": 133,
   "metadata": {
    "show_input": true
   },
   "outputs": [],
   "source": [
    "persons_df = persons_df.merge(zone_map_min,left_on = \"home_zone\", right_on ='GTA06').drop(columns = 'GTA06').rename(columns = {\"region\":\"region_home\"})"
   ]
  },
  {
   "cell_type": "code",
   "execution_count": 134,
   "metadata": {},
   "outputs": [],
   "source": [
    "pot_drivers = persons_df[persons_df[\"age\"] >= 16]\n",
    "license_summary = pd.pivot_table(pot_drivers, index = \"region_home\", columns = \"license\", values = \"weight_x\",aggfunc = sum).fillna(0)"
   ]
  },
  {
   "cell_type": "code",
   "execution_count": 135,
   "metadata": {},
   "outputs": [],
   "source": [
    "license_summary.to_csv(os.path.join(input_pth,\"PorpowRun3_licensesummary.csv\"))"
   ]
  },
  {
   "cell_type": "code",
   "execution_count": 139,
   "metadata": {},
   "outputs": [],
   "source": [
    "def reduce_drivers(drivers):\n",
    "    if drivers <= 3:\n",
    "        return drivers\n",
    "    else:\n",
    "        return 4\n",
    "persons_df[\"license_num\"] = persons_df[\"license\"].map({True: 1, False: 0})\n",
    "license_hh = pd.pivot_table(persons_df, index = \"household_id\", values = \"license_num\",aggfunc = sum).reset_index()\n",
    "household_lic_df = households_df.merge(license_hh, on= \"household_id\").rename(columns = {\"license_num\": \"drivers\"})\n",
    "household_lic_df = household_lic_df.merge(zone_map_min,left_on = \"home_zone\", right_on =\"GTA06\").drop(columns = \"GTA06\").rename(columns = {\"region\":\"region_home\"})\n",
    "household_lic_df[\"driver_mod\"] = household_lic_df[\"drivers\"].map(reduce_drivers)\n",
    "household_lic_summary = pd.pivot_table(household_lic_df, index = [\"driver_mod\",\"region_home\"], columns = \"vehicles\", values = \"weight\", aggfunc = sum).fillna(0)"
   ]
  },
  {
   "cell_type": "code",
   "execution_count": 140,
   "metadata": {},
   "outputs": [],
   "source": [
    "household_lic_summary.to_csv(os.path.join(input_pth,\"porpowrun3_householdvehiclesummary.csv\"))"
   ]
  },
  {
   "cell_type": "markdown",
   "metadata": {
    "show_input": true
   },
   "source": [
    "# Mode Share START HERE"
   ]
  },
  {
   "cell_type": "code",
   "execution_count": 35,
   "metadata": {
    "show_input": true
   },
   "outputs": [],
   "source": [
    "microsim_location = r\"Microsim Results\"\n",
    "microsim_path = os.path.join(run_path, microsim_location)\n",
    "\n",
    "input_pth = r\"C:\\Users\\pechen\\Documents\\407 Model Update\"\n",
    "zone_map = pd.read_csv(os.path.join(input_pth,\"407_ZoneMapping.csv\"))\n",
    "zone_map_min = zone_map\n",
    "\n",
    "# def mapTripPurpose(purpose):\n",
    "#     purpose_list = purpose.split(\"-\")\n",
    "#     purpose_o = purpose_list[0]\n",
    "#     purpose_d = purpose_list[1]\n",
    "#     work = [\"PrimaryWork\",\"SecondaryWork\"]\n",
    "#     market = [\"Market\",\"JointMarket\"]\n",
    "#     other = [\"IndividualOther\",\"JointOther\"]\n",
    "#     if (purpose_o == \"Home\" or purpose_d == \"Home\") and (purpose_o in work or purpose_d in work):\n",
    "#         return \"1 - HBW\"\n",
    "#     elif (purpose_o == \"Home\" or purpose_d == \"Home\") and (purpose_o == \"School\" or purpose_d == \"School\"):\n",
    "#         return \"2 - HBS\"\n",
    "#     elif (purpose_o == 'WorkBasedBusiness' or purpose_d == 'WorkBasedBusiness'):\n",
    "#         return \"3 - WBB\"\n",
    "#     elif (purpose_d in market):\n",
    "#         return \"4 - Market\"\n",
    "#     elif (purpose_d in other):\n",
    "#         return \"5 - Other\"\n",
    "#     elif (purpose_o in market):\n",
    "#         return \"4 - Market\"\n",
    "#     elif (purpose_o in other):\n",
    "#         return \"5 - Other\"\n",
    "#     else:\n",
    "#         return \"6 - Remaining\"\n",
    "\n",
    "def mapTripPurpose(purpose):\n",
    "    purpose_list = purpose.split(\"-\")\n",
    "    purpose_o = purpose_list[0]\n",
    "    purpose_d = purpose_list[1]\n",
    "    work = [\"PrimaryWork\",\"SecondaryWork\"]\n",
    "    market_avoid_d = ['IndividualOther','JointOther','JointMarket']\n",
    "    other_avoid_d = ['Market','JointOther','JointMarket']\n",
    "    market_avoid_o = ['JointOther','JointMarket']\n",
    "    other_avoid_o = ['JointOther','JointMarket']\n",
    "    \n",
    "    if (purpose_o == \"Home\" or purpose_d == \"Home\") and (purpose_o in work or purpose_d in work):\n",
    "        return \"1 - HBW\"\n",
    "    elif (purpose_o == \"Home\" or purpose_d == \"Home\") and (purpose_o == \"School\" or purpose_d == \"School\"):\n",
    "        return \"2 - HBS\"\n",
    "    elif (purpose_o in work and purpose_d == 'WorkBasedBusiness'):\n",
    "        return \"3 - WBB\"\n",
    "    elif (purpose_o == \"Market\" and purpose_d not in market_avoid_d) or (purpose_d == \"Market\" and purpose_o not in market_avoid_o):\n",
    "        return \"4 - Market\"\n",
    "    elif (purpose_o == \"IndividualOther\" and purpose_d not in other_avoid_d) or (purpose_d == \"IndividualOther\" and purpose_o not in other_avoid_o):\n",
    "        return \"5 - Other\"\n",
    "    else:\n",
    "        return \"6 - Remaining\"\n",
    "\n",
    "def specificPurpose(purpose):\n",
    "    purpose_list = purpose.split(\"-\")\n",
    "    purpose_o = purpose_list[0]\n",
    "    purpose_d = purpose_list[1]\n",
    "    work = [\"PrimaryWork\",\"SecondaryWork\"]\n",
    "    market_avoid_d = ['IndividualOther','JointOther','JointMarket']\n",
    "    other_avoid_d = ['Market','JointOther','JointMarket']\n",
    "    market_avoid_o = ['JointOther','JointMarket']\n",
    "    other_avoid_o = ['JointOther','JointMarket']\n",
    "    \n",
    "    if (purpose_o in work and purpose_d == 'WorkBasedBusiness'):\n",
    "        return \"1 - WBB\"\n",
    "    elif (purpose_o == \"Market\" and purpose_d not in market_avoid_d) or (purpose_d == \"Market\" and purpose_o not in market_avoid_o):\n",
    "        return \"2 - Market\"\n",
    "    elif (purpose_o == \"IndividualOther\" and purpose_d not in other_avoid_d) or (purpose_d == \"IndividualOther\" and purpose_o not in other_avoid_o):\n",
    "        return \"3 - Other\"\n",
    "    else:\n",
    "        return \"4 - Remaining\""
   ]
  },
  {
   "cell_type": "code",
   "execution_count": 36,
   "metadata": {
    "show_input": true
   },
   "outputs": [],
   "source": [
    "persons_df = pd.read_csv(os.path.join(microsim_path,\"persons.csv\"))\n",
    "trips_df = pd.read_csv(os.path.join(microsim_path,\"trips.csv\"))\n",
    "trips_407 = trips_df\n",
    "trips_407  = trips_407.merge(persons_df,on=[\"household_id\",\"person_id\"])\n",
    "trips_407 = trips_407[trips_407.age >=11]\n",
    "trips_407[\"combined_act\"] = trips_407.o_act + \"-\" + trips_407.d_act\n",
    "trips_407 = trips_407.merge(zone_map_min,left_on = \"o_zone\", right_on =\"GTA06\").drop(columns = \"GTA06\").rename(columns = {\"region\":\"region_o\"})\n",
    "trips_407 = trips_407.merge(zone_map_min,left_on = \"d_zone\", right_on =\"GTA06\").drop(columns = \"GTA06\").rename(columns = {\"region\":\"region_d\"})\n",
    "trips_407[\"Purpose\"] = trips_407[\"combined_act\"].map(mapTripPurpose)\n",
    "trip_summary = pd.pivot_table(trips_407,values = \"weight_x\", index = [\"region_o\",\"region_d\"], columns = \"Purpose\", aggfunc = sum, margins = True).fillna(0)"
   ]
  },
  {
   "cell_type": "code",
   "execution_count": 37,
   "metadata": {
    "show_input": true
   },
   "outputs": [],
   "source": [
    "trip_summary.to_csv(os.path.join(input_pth,\"dailytripsummary_locationchoicewarm35.csv\"))"
   ]
  },
  {
   "cell_type": "code",
   "execution_count": null,
   "metadata": {
    "show_input": true
   },
   "outputs": [],
   "source": [
    "trips_407[\"Purp2\"] = trips_407[\"combined_act\"].map(specificPurpose)\n",
    "trip_summary2 = pd.pivot_table(trips_407,values = \"weight_x\", index = [\"region_o\",\"region_d\"], columns = \"Purp2\", aggfunc = sum).fillna(0)\n",
    "tripmode_df = pd.read_csv(os.path.join(microsim_path,\"trip_modes.csv\"))\n",
    "trips_407_time = tripmode_df.merge(trips_407,how = \"right\", on = ['household_id', 'person_id', 'trip_id'])\n",
    "trips_407_time[\"weight\"] = trips_407_time[\"weight\"]/10\n",
    "trips_407_time[\"weight_z\"] = trips_407_time[\"weight\"]*trips_407_time[\"weight_x\"]\n",
    "trips_407_am = trips_407_time[(trips_407_time.o_depart >= 360) & (trips_407_time.o_depart < 540)]\n",
    "trips_407_pm = trips_407_time[(trips_407_time.o_depart >= 900) & (trips_407_time.o_depart < 1140)]\n",
    "trip_summary_am = pd.pivot_table(trips_407_am,values = \"weight_z\", index = [\"region_o\",\"region_d\"], columns = \"Purp2\", aggfunc = sum).fillna(0).reset_index()\n",
    "trip_summary_pm = pd.pivot_table(trips_407_pm,values = \"weight_z\", index = [\"region_o\",\"region_d\"], columns = \"Purp2\", aggfunc = sum).fillna(0).reset_index()\n",
    "trip_summary_am = trip_summary_am.rename(columns= {'1 - WBB': 'AM - 1 - WBB', '2 - Market': 'AM - 2 - Market', \n",
    "                                 '3 - Other': 'AM - 3 - Other', '4 - Remaining': 'AM - 4 - Remaining'})\n",
    "trip_summary_pm = trip_summary_pm.rename(columns= {'1 - WBB': 'PM - 1 - WBB', '2 - Market': 'PM - 2 - Market', \n",
    "                                 '3 - Other': 'PM - 3 - Other', '4 - Remaining': 'PM - 4 - Remaining'})\n",
    "trip_summary2 = trip_summary2.merge(trip_summary_am, on=['region_o', 'region_d'], how = \"left\").merge(trip_summary_pm, on=['region_o', 'region_d'], how = \"left\").fillna(0)"
   ]
  },
  {
   "cell_type": "code",
   "execution_count": null,
   "metadata": {},
   "outputs": [],
   "source": [
    "trips_407_md = trips_407_time[(trips_407_time.o_depart >= 540) & (trips_407_time.o_depart < 900)]\n",
    "trips_407_ev = trips_407_time[(trips_407_time.o_depart >= 1140) & (trips_407_time.o_depart < 1440)]\n",
    "trip_summary_md = pd.pivot_table(trips_407_md,values = \"weight_z\", index = [\"region_o\",\"region_d\"], columns = \"Purp2\", aggfunc = sum).fillna(0).reset_index()\n",
    "trip_summary_ev = pd.pivot_table(trips_407_ev,values = \"weight_z\", index = [\"region_o\",\"region_d\"], columns = \"Purp2\", aggfunc = sum).fillna(0).reset_index()\n",
    "trip_summary_md = trip_summary_md.rename(columns= {'1 - WBB': 'MD - 1 - WBB', '2 - Market': 'MD - 2 - Market', \n",
    "                                 '3 - Other': 'MD - 3 - Other', '4 - Remaining': 'MD - 4 - Remaining'})\n",
    "trip_summary_ev = trip_summary_ev.rename(columns= {'1 - WBB': 'EV - 1 - WBB', '2 - Market': 'EV - 2 - Market', \n",
    "                                 '3 - Other': 'EV - 3 - Other', '4 - Remaining': 'EV - 4 - Remaining'})\n",
    "trip_summary3 = trip_summary2.merge(trip_summary_md, on=['region_o', 'region_d'], how = \"left\").merge(trip_summary_ev, on=['region_o', 'region_d'], how = \"left\").fillna(0)"
   ]
  },
  {
   "cell_type": "code",
   "execution_count": 28,
   "metadata": {
    "show_input": true
   },
   "outputs": [],
   "source": [
    "trip_summary2.to_csv(os.path.join(input_pth,\"daily_ampm_locchoicesummary_locationchoicerun2_lcfix.csv\"))"
   ]
  },
  {
   "cell_type": "code",
   "execution_count": null,
   "metadata": {},
   "outputs": [],
   "source": [
    "trip_summary3.to_csv(os.path.join(input_pth,\"daily_ampmmdev_locchoicesummary_locationchoicerun2_updated.csv\"))"
   ]
  },
  {
   "cell_type": "code",
   "execution_count": 8,
   "metadata": {
    "show_input": true
   },
   "outputs": [],
   "source": [
    "am_modeshare = pd.pivot_table(trips_407_am,index = [\"region_o\",\"region_d\"],columns = \"mode\", values = \"weight_z\", aggfunc = sum,margins = True).fillna(0)#.to_csv(os.path.join(input_pth,\"am_modeshare_locationchoicerun4.csv\"))\n",
    "pm_modeshare = pd.pivot_table(trips_407_pm,index = [\"region_o\",\"region_d\"],columns = \"mode\", values = \"weight_z\", aggfunc = sum,margins = True).fillna(0)#.to_csv(os.path.join(input_pth,\"am_modeshare_locationchoicerun4.csv\"))"
   ]
  },
  {
   "cell_type": "code",
   "execution_count": 9,
   "metadata": {
    "show_input": true
   },
   "outputs": [],
   "source": [
    "am_modeshare.to_csv(os.path.join(input_pth,\"am_modeshare_LocationChoiceRun2_updated.csv\"))\n",
    "pm_modeshare.to_csv(os.path.join(input_pth,\"pm_modeshare_LocationChoiceRun2_updated.csv\"))"
   ]
  },
  {
   "cell_type": "code",
   "execution_count": 18,
   "metadata": {},
   "outputs": [
    {
     "data": {
      "text/html": [
       "<div>\n",
       "<style scoped>\n",
       "    .dataframe tbody tr th:only-of-type {\n",
       "        vertical-align: middle;\n",
       "    }\n",
       "\n",
       "    .dataframe tbody tr th {\n",
       "        vertical-align: top;\n",
       "    }\n",
       "\n",
       "    .dataframe thead th {\n",
       "        text-align: right;\n",
       "    }\n",
       "</style>\n",
       "<table border=\"1\" class=\"dataframe\">\n",
       "  <thead>\n",
       "    <tr style=\"text-align: right;\">\n",
       "      <th>d_act</th>\n",
       "      <th>Home</th>\n",
       "      <th>IndividualOther</th>\n",
       "      <th>JointMarket</th>\n",
       "      <th>JointOther</th>\n",
       "      <th>Market</th>\n",
       "      <th>PrimaryWork</th>\n",
       "      <th>ReturnFromWork</th>\n",
       "      <th>School</th>\n",
       "      <th>SecondaryWork</th>\n",
       "      <th>WorkBasedBusiness</th>\n",
       "      <th>All</th>\n",
       "    </tr>\n",
       "    <tr>\n",
       "      <th>o_act</th>\n",
       "      <th></th>\n",
       "      <th></th>\n",
       "      <th></th>\n",
       "      <th></th>\n",
       "      <th></th>\n",
       "      <th></th>\n",
       "      <th></th>\n",
       "      <th></th>\n",
       "      <th></th>\n",
       "      <th></th>\n",
       "      <th></th>\n",
       "    </tr>\n",
       "  </thead>\n",
       "  <tbody>\n",
       "    <tr>\n",
       "      <th>Home</th>\n",
       "      <td>0.0</td>\n",
       "      <td>220788.4</td>\n",
       "      <td>2821.6</td>\n",
       "      <td>9327.4</td>\n",
       "      <td>39355.1</td>\n",
       "      <td>1.843663e+06</td>\n",
       "      <td>0.0</td>\n",
       "      <td>648188.099995</td>\n",
       "      <td>0.0</td>\n",
       "      <td>30651.6</td>\n",
       "      <td>2.794795e+06</td>\n",
       "    </tr>\n",
       "    <tr>\n",
       "      <th>IndividualOther</th>\n",
       "      <td>41326.0</td>\n",
       "      <td>4425.8</td>\n",
       "      <td>67.2</td>\n",
       "      <td>196.2</td>\n",
       "      <td>670.1</td>\n",
       "      <td>2.578370e+04</td>\n",
       "      <td>4.3</td>\n",
       "      <td>6034.600000</td>\n",
       "      <td>0.0</td>\n",
       "      <td>301.4</td>\n",
       "      <td>7.880930e+04</td>\n",
       "    </tr>\n",
       "    <tr>\n",
       "      <th>JointMarket</th>\n",
       "      <td>109.2</td>\n",
       "      <td>31.9</td>\n",
       "      <td>21.4</td>\n",
       "      <td>9.3</td>\n",
       "      <td>25.5</td>\n",
       "      <td>3.200000e+00</td>\n",
       "      <td>0.0</td>\n",
       "      <td>1.000000</td>\n",
       "      <td>0.0</td>\n",
       "      <td>1.0</td>\n",
       "      <td>2.025000e+02</td>\n",
       "    </tr>\n",
       "    <tr>\n",
       "      <th>JointOther</th>\n",
       "      <td>1065.2</td>\n",
       "      <td>81.2</td>\n",
       "      <td>8.9</td>\n",
       "      <td>68.2</td>\n",
       "      <td>27.2</td>\n",
       "      <td>6.960000e+01</td>\n",
       "      <td>0.0</td>\n",
       "      <td>4.300000</td>\n",
       "      <td>0.0</td>\n",
       "      <td>0.0</td>\n",
       "      <td>1.324600e+03</td>\n",
       "    </tr>\n",
       "    <tr>\n",
       "      <th>Market</th>\n",
       "      <td>4316.0</td>\n",
       "      <td>727.3</td>\n",
       "      <td>18.3</td>\n",
       "      <td>38.9</td>\n",
       "      <td>347.1</td>\n",
       "      <td>1.883500e+03</td>\n",
       "      <td>2.0</td>\n",
       "      <td>148.100000</td>\n",
       "      <td>0.0</td>\n",
       "      <td>24.3</td>\n",
       "      <td>7.505500e+03</td>\n",
       "    </tr>\n",
       "    <tr>\n",
       "      <th>PrimaryWork</th>\n",
       "      <td>7452.0</td>\n",
       "      <td>310.3</td>\n",
       "      <td>1.0</td>\n",
       "      <td>0.5</td>\n",
       "      <td>80.3</td>\n",
       "      <td>1.967000e+02</td>\n",
       "      <td>2996.3</td>\n",
       "      <td>1734.300000</td>\n",
       "      <td>1.0</td>\n",
       "      <td>46171.3</td>\n",
       "      <td>5.894370e+04</td>\n",
       "    </tr>\n",
       "    <tr>\n",
       "      <th>School</th>\n",
       "      <td>1662.0</td>\n",
       "      <td>10.2</td>\n",
       "      <td>0.0</td>\n",
       "      <td>0.0</td>\n",
       "      <td>2.6</td>\n",
       "      <td>7.852000e+02</td>\n",
       "      <td>6.2</td>\n",
       "      <td>548.800000</td>\n",
       "      <td>0.0</td>\n",
       "      <td>17.2</td>\n",
       "      <td>3.032200e+03</td>\n",
       "    </tr>\n",
       "    <tr>\n",
       "      <th>WorkBasedBusiness</th>\n",
       "      <td>2252.0</td>\n",
       "      <td>56.6</td>\n",
       "      <td>0.0</td>\n",
       "      <td>0.0</td>\n",
       "      <td>13.1</td>\n",
       "      <td>1.500480e+04</td>\n",
       "      <td>0.0</td>\n",
       "      <td>69.100000</td>\n",
       "      <td>0.0</td>\n",
       "      <td>851.2</td>\n",
       "      <td>1.824680e+04</td>\n",
       "    </tr>\n",
       "    <tr>\n",
       "      <th>All</th>\n",
       "      <td>58182.4</td>\n",
       "      <td>226431.7</td>\n",
       "      <td>2938.4</td>\n",
       "      <td>9640.5</td>\n",
       "      <td>40521.0</td>\n",
       "      <td>1.887389e+06</td>\n",
       "      <td>3008.8</td>\n",
       "      <td>656728.299995</td>\n",
       "      <td>1.0</td>\n",
       "      <td>78018.0</td>\n",
       "      <td>2.962859e+06</td>\n",
       "    </tr>\n",
       "  </tbody>\n",
       "</table>\n",
       "</div>"
      ],
      "text/plain": [
       "d_act                 Home  IndividualOther  JointMarket  JointOther   Market  \\\n",
       "o_act                                                                           \n",
       "Home                   0.0         220788.4       2821.6      9327.4  39355.1   \n",
       "IndividualOther    41326.0           4425.8         67.2       196.2    670.1   \n",
       "JointMarket          109.2             31.9         21.4         9.3     25.5   \n",
       "JointOther          1065.2             81.2          8.9        68.2     27.2   \n",
       "Market              4316.0            727.3         18.3        38.9    347.1   \n",
       "PrimaryWork         7452.0            310.3          1.0         0.5     80.3   \n",
       "School              1662.0             10.2          0.0         0.0      2.6   \n",
       "WorkBasedBusiness   2252.0             56.6          0.0         0.0     13.1   \n",
       "All                58182.4         226431.7       2938.4      9640.5  40521.0   \n",
       "\n",
       "d_act               PrimaryWork  ReturnFromWork         School  SecondaryWork  \\\n",
       "o_act                                                                           \n",
       "Home               1.843663e+06             0.0  648188.099995            0.0   \n",
       "IndividualOther    2.578370e+04             4.3    6034.600000            0.0   \n",
       "JointMarket        3.200000e+00             0.0       1.000000            0.0   \n",
       "JointOther         6.960000e+01             0.0       4.300000            0.0   \n",
       "Market             1.883500e+03             2.0     148.100000            0.0   \n",
       "PrimaryWork        1.967000e+02          2996.3    1734.300000            1.0   \n",
       "School             7.852000e+02             6.2     548.800000            0.0   \n",
       "WorkBasedBusiness  1.500480e+04             0.0      69.100000            0.0   \n",
       "All                1.887389e+06          3008.8  656728.299995            1.0   \n",
       "\n",
       "d_act              WorkBasedBusiness           All  \n",
       "o_act                                               \n",
       "Home                         30651.6  2.794795e+06  \n",
       "IndividualOther                301.4  7.880930e+04  \n",
       "JointMarket                      1.0  2.025000e+02  \n",
       "JointOther                       0.0  1.324600e+03  \n",
       "Market                          24.3  7.505500e+03  \n",
       "PrimaryWork                  46171.3  5.894370e+04  \n",
       "School                          17.2  3.032200e+03  \n",
       "WorkBasedBusiness              851.2  1.824680e+04  \n",
       "All                          78018.0  2.962859e+06  "
      ]
     },
     "execution_count": 18,
     "metadata": {},
     "output_type": "execute_result"
    }
   ],
   "source": [
    "pd.pivot_table(trips_407_am,index = [\"o_act\"],columns = [\"d_act\"], values = \"weight_z\", aggfunc = sum,margins = True).fillna(0)"
   ]
  },
  {
   "cell_type": "code",
   "execution_count": 10,
   "metadata": {},
   "outputs": [],
   "source": [
    "trip_summary_am2 = pd.pivot_table(trips_407_am,values = \"weight_z\", index = [\"region_o\",\"region_d\"], columns = \"Purpose\", aggfunc = sum).fillna(0).reset_index()\n",
    "trip_summary_pm2 = pd.pivot_table(trips_407_pm,values = \"weight_z\", index = [\"region_o\",\"region_d\"], columns = \"Purpose\", aggfunc = sum).fillna(0).reset_index()"
   ]
  },
  {
   "cell_type": "code",
   "execution_count": 11,
   "metadata": {},
   "outputs": [],
   "source": [
    "trip_summary_am2.to_csv(os.path.join(input_pth,\"am_trips_LocationChoiceRun2_updated.csv\"))\n",
    "trip_summary_pm2.to_csv(os.path.join(input_pth,\"pm_trips_LocationChoiceRun2_updated.csv\"))"
   ]
  },
  {
   "cell_type": "code",
   "execution_count": 21,
   "metadata": {},
   "outputs": [],
   "source": [
    "trip_summary_md2 = pd.pivot_table(trips_407_md,values = \"weight_z\", index = [\"region_o\",\"region_d\"], columns = \"Purpose\", aggfunc = sum).fillna(0).reset_index()\n",
    "trip_summary_ev2 = pd.pivot_table(trips_407_ev,values = \"weight_z\", index = [\"region_o\",\"region_d\"], columns = \"Purpose\", aggfunc = sum).fillna(0).reset_index()"
   ]
  },
  {
   "cell_type": "code",
   "execution_count": 22,
   "metadata": {},
   "outputs": [],
   "source": [
    "trip_summary_md2.to_csv(os.path.join(input_pth,\"md_trips_LocationChoiceRun2.csv\"))\n",
    "trip_summary_ev2.to_csv(os.path.join(input_pth,\"ev_trips_LocationChoiceRun2.csv\"))"
   ]
  },
  {
   "cell_type": "code",
   "execution_count": 12,
   "metadata": {},
   "outputs": [],
   "source": [
    "persons_df = pd.read_csv(os.path.join(microsim_path,\"persons.csv\"))\n",
    "trips_df = pd.read_csv(os.path.join(microsim_path,\"trips.csv\"))\n",
    "tripmode_df = pd.read_csv(os.path.join(microsim_path,\"trip_modes.csv\"))\n",
    "trips_gta = trips_df[(trips_df.o_zone < 6000) & (trips_df.d_zone < 6000)]"
   ]
  },
  {
   "cell_type": "code",
   "execution_count": 13,
   "metadata": {},
   "outputs": [],
   "source": [
    "trips_gta = trips_gta.merge(persons_df,on=[\"household_id\",\"person_id\"])\n",
    "trips_gta = trips_gta[trips_gta.age >=11]"
   ]
  },
  {
   "cell_type": "code",
   "execution_count": 14,
   "metadata": {},
   "outputs": [],
   "source": [
    "trips_gta_time = tripmode_df.merge(trips_gta,how = \"right\", on = ['household_id', 'person_id', 'trip_id'])"
   ]
  },
  {
   "cell_type": "code",
   "execution_count": 15,
   "metadata": {},
   "outputs": [],
   "source": [
    "trips_gta_time[\"weight\"] = trips_gta_time[\"weight\"]/10\n",
    "trips_gta_time[\"weight_z\"] = trips_gta_time[\"weight\"]*trips_gta_time[\"weight_x\"]"
   ]
  },
  {
   "cell_type": "code",
   "execution_count": 16,
   "metadata": {},
   "outputs": [],
   "source": [
    "pd.pivot_table(trips_gta_time,columns = \"mode\", values = \"weight_z\", aggfunc = sum).to_csv(os.path.join(input_pth,\"GTA_Wide_TripsbyMode_LocationChoiceRun2_updatedagain.csv\"))"
   ]
  },
  {
   "cell_type": "code",
   "execution_count": 76,
   "metadata": {},
   "outputs": [
    {
     "data": {
      "text/plain": [
       "array(['SecondaryWork-PrimaryWork', 'PrimaryWork-SecondaryWork',\n",
       "       'PrimaryWork-PrimaryWork', 'School-PrimaryWork',\n",
       "       'PrimaryWork-ReturnFromWork', 'School-SecondaryWork',\n",
       "       'PrimaryWork-School', 'School-School', 'SecondaryWork-School',\n",
       "       'School-ReturnFromWork'], dtype=object)"
      ]
     },
     "execution_count": 76,
     "metadata": {},
     "output_type": "execute_result"
    }
   ],
   "source": [
    "trips_407[trips_407[\"Purpose\"] ==\"6 - Remaining\"][\"combined_act\"].unique()"
   ]
  },
  {
   "cell_type": "code",
   "execution_count": 100,
   "metadata": {},
   "outputs": [],
   "source": [
    "tor_york_trips = trips_407[(trips_407[\"region_o\"] == 1) & (trips_407[\"region_d\"] == 3) & (trips_407[\"Purpose\"] != \"1 - HBW\") & (trips_407[\"Purpose\"] != \"2 - HBS\")]"
   ]
  },
  {
   "cell_type": "code",
   "execution_count": 106,
   "metadata": {},
   "outputs": [
    {
     "data": {
      "text/plain": [
       "235994"
      ]
     },
     "execution_count": 106,
     "metadata": {},
     "output_type": "execute_result"
    }
   ],
   "source": [
    "tor_york_trips[\"weight_x\"].sum()"
   ]
  },
  {
   "cell_type": "code",
   "execution_count": 102,
   "metadata": {},
   "outputs": [],
   "source": [
    "tor_york_trips = tor_york_trips.merge(households_df,on=\"household_id\")"
   ]
  },
  {
   "cell_type": "code",
   "execution_count": 104,
   "metadata": {},
   "outputs": [
    {
     "data": {
      "text/plain": [
       "105189"
      ]
     },
     "execution_count": 104,
     "metadata": {},
     "output_type": "execute_result"
    }
   ],
   "source": [
    "tor_york_trips[tor_york_trips[\"work_zone\"] == 0][\"weight_x\"].sum()"
   ]
  },
  {
   "cell_type": "code",
   "execution_count": 110,
   "metadata": {},
   "outputs": [
    {
     "data": {
      "text/html": [
       "<div>\n",
       "<style scoped>\n",
       "    .dataframe tbody tr th:only-of-type {\n",
       "        vertical-align: middle;\n",
       "    }\n",
       "\n",
       "    .dataframe tbody tr th {\n",
       "        vertical-align: top;\n",
       "    }\n",
       "\n",
       "    .dataframe thead th {\n",
       "        text-align: right;\n",
       "    }\n",
       "</style>\n",
       "<table border=\"1\" class=\"dataframe\">\n",
       "  <thead>\n",
       "    <tr style=\"text-align: right;\">\n",
       "      <th>student_status</th>\n",
       "      <th>F</th>\n",
       "      <th>O</th>\n",
       "      <th>P</th>\n",
       "    </tr>\n",
       "    <tr>\n",
       "      <th>employment_status</th>\n",
       "      <th></th>\n",
       "      <th></th>\n",
       "      <th></th>\n",
       "    </tr>\n",
       "  </thead>\n",
       "  <tbody>\n",
       "    <tr>\n",
       "      <th>O</th>\n",
       "      <td>16527</td>\n",
       "      <td>87311</td>\n",
       "      <td>1351</td>\n",
       "    </tr>\n",
       "  </tbody>\n",
       "</table>\n",
       "</div>"
      ],
      "text/plain": [
       "student_status         F      O     P\n",
       "employment_status                    \n",
       "O                  16527  87311  1351"
      ]
     },
     "execution_count": 110,
     "metadata": {},
     "output_type": "execute_result"
    }
   ],
   "source": [
    "pd.pivot_table(tor_york_trips[tor_york_trips[\"work_zone\"] == 0], index = \"employment_status\", columns = \"student_status\",values= \"weight_x\", aggfunc = sum).fillna(0)"
   ]
  },
  {
   "cell_type": "code",
   "execution_count": 108,
   "metadata": {},
   "outputs": [
    {
     "data": {
      "text/html": [
       "<div>\n",
       "<style scoped>\n",
       "    .dataframe tbody tr th:only-of-type {\n",
       "        vertical-align: middle;\n",
       "    }\n",
       "\n",
       "    .dataframe tbody tr th {\n",
       "        vertical-align: top;\n",
       "    }\n",
       "\n",
       "    .dataframe thead th {\n",
       "        text-align: right;\n",
       "    }\n",
       "</style>\n",
       "<table border=\"1\" class=\"dataframe\">\n",
       "  <thead>\n",
       "    <tr style=\"text-align: right;\">\n",
       "      <th></th>\n",
       "      <th>weight_x</th>\n",
       "    </tr>\n",
       "    <tr>\n",
       "      <th>region_home</th>\n",
       "      <th></th>\n",
       "    </tr>\n",
       "  </thead>\n",
       "  <tbody>\n",
       "    <tr>\n",
       "      <th>1</th>\n",
       "      <td>50739</td>\n",
       "    </tr>\n",
       "    <tr>\n",
       "      <th>2</th>\n",
       "      <td>226</td>\n",
       "    </tr>\n",
       "    <tr>\n",
       "      <th>3</th>\n",
       "      <td>53557</td>\n",
       "    </tr>\n",
       "    <tr>\n",
       "      <th>4</th>\n",
       "      <td>648</td>\n",
       "    </tr>\n",
       "    <tr>\n",
       "      <th>5</th>\n",
       "      <td>18</td>\n",
       "    </tr>\n",
       "    <tr>\n",
       "      <th>6</th>\n",
       "      <td>1</td>\n",
       "    </tr>\n",
       "  </tbody>\n",
       "</table>\n",
       "</div>"
      ],
      "text/plain": [
       "             weight_x\n",
       "region_home          \n",
       "1               50739\n",
       "2                 226\n",
       "3               53557\n",
       "4                 648\n",
       "5                  18\n",
       "6                   1"
      ]
     },
     "execution_count": 108,
     "metadata": {},
     "output_type": "execute_result"
    }
   ],
   "source": [
    "pd.pivot_table(tor_york_trips[tor_york_trips[\"work_zone\"] == 0], index = \"region_home\", values= \"weight_x\", aggfunc = sum).fillna(0)"
   ]
  },
  {
   "cell_type": "code",
   "execution_count": 105,
   "metadata": {},
   "outputs": [],
   "source": [
    "tor_york_trips = tor_york_trips.merge(zone_map_min,left_on = 'home_zone', right_on =\"GTA06\").drop(columns = \"GTA06\").rename(columns = {\"region\":\"region_home\"})"
   ]
  },
  {
   "cell_type": "code",
   "execution_count": 98,
   "metadata": {},
   "outputs": [],
   "source": [
    "tor_york_trips = tor_york_trips.merge(zone_map_min,left_on = 'home_zone', right_on =\"GTA06\").drop(columns = \"GTA06\").rename(columns = {\"region\":\"region_home\"})\n",
    "tor_york_trips = tor_york_trips.merge(zone_map_min,left_on = 'work_zone', right_on =\"GTA06\").drop(columns = \"GTA06\").rename(columns = {\"region\":\"region_work\"})"
   ]
  },
  {
   "cell_type": "code",
   "execution_count": 90,
   "metadata": {},
   "outputs": [
    {
     "data": {
      "text/html": [
       "<div>\n",
       "<style scoped>\n",
       "    .dataframe tbody tr th:only-of-type {\n",
       "        vertical-align: middle;\n",
       "    }\n",
       "\n",
       "    .dataframe tbody tr th {\n",
       "        vertical-align: top;\n",
       "    }\n",
       "\n",
       "    .dataframe thead th {\n",
       "        text-align: right;\n",
       "    }\n",
       "</style>\n",
       "<table border=\"1\" class=\"dataframe\">\n",
       "  <thead>\n",
       "    <tr style=\"text-align: right;\">\n",
       "      <th>region_work</th>\n",
       "      <th>1</th>\n",
       "      <th>2</th>\n",
       "      <th>3</th>\n",
       "      <th>4</th>\n",
       "      <th>5</th>\n",
       "      <th>6</th>\n",
       "      <th>7</th>\n",
       "    </tr>\n",
       "    <tr>\n",
       "      <th>region_home</th>\n",
       "      <th></th>\n",
       "      <th></th>\n",
       "      <th></th>\n",
       "      <th></th>\n",
       "      <th></th>\n",
       "      <th></th>\n",
       "      <th></th>\n",
       "    </tr>\n",
       "  </thead>\n",
       "  <tbody>\n",
       "    <tr>\n",
       "      <th>1</th>\n",
       "      <td>21719.0</td>\n",
       "      <td>159.0</td>\n",
       "      <td>9521.0</td>\n",
       "      <td>1352.0</td>\n",
       "      <td>61.0</td>\n",
       "      <td>8.0</td>\n",
       "      <td>87.0</td>\n",
       "    </tr>\n",
       "    <tr>\n",
       "      <th>2</th>\n",
       "      <td>1167.0</td>\n",
       "      <td>134.0</td>\n",
       "      <td>356.0</td>\n",
       "      <td>16.0</td>\n",
       "      <td>1.0</td>\n",
       "      <td>0.0</td>\n",
       "      <td>7.0</td>\n",
       "    </tr>\n",
       "    <tr>\n",
       "      <th>3</th>\n",
       "      <td>44055.0</td>\n",
       "      <td>745.0</td>\n",
       "      <td>37854.0</td>\n",
       "      <td>3926.0</td>\n",
       "      <td>213.0</td>\n",
       "      <td>20.0</td>\n",
       "      <td>341.0</td>\n",
       "    </tr>\n",
       "    <tr>\n",
       "      <th>4</th>\n",
       "      <td>1176.0</td>\n",
       "      <td>3.0</td>\n",
       "      <td>406.0</td>\n",
       "      <td>271.0</td>\n",
       "      <td>7.0</td>\n",
       "      <td>0.0</td>\n",
       "      <td>8.0</td>\n",
       "    </tr>\n",
       "    <tr>\n",
       "      <th>5</th>\n",
       "      <td>145.0</td>\n",
       "      <td>0.0</td>\n",
       "      <td>29.0</td>\n",
       "      <td>7.0</td>\n",
       "      <td>13.0</td>\n",
       "      <td>0.0</td>\n",
       "      <td>0.0</td>\n",
       "    </tr>\n",
       "    <tr>\n",
       "      <th>6</th>\n",
       "      <td>27.0</td>\n",
       "      <td>0.0</td>\n",
       "      <td>12.0</td>\n",
       "      <td>0.0</td>\n",
       "      <td>1.0</td>\n",
       "      <td>0.0</td>\n",
       "      <td>0.0</td>\n",
       "    </tr>\n",
       "  </tbody>\n",
       "</table>\n",
       "</div>"
      ],
      "text/plain": [
       "region_work        1      2        3       4      5     6      7\n",
       "region_home                                                     \n",
       "1            21719.0  159.0   9521.0  1352.0   61.0   8.0   87.0\n",
       "2             1167.0  134.0    356.0    16.0    1.0   0.0    7.0\n",
       "3            44055.0  745.0  37854.0  3926.0  213.0  20.0  341.0\n",
       "4             1176.0    3.0    406.0   271.0    7.0   0.0    8.0\n",
       "5              145.0    0.0     29.0     7.0   13.0   0.0    0.0\n",
       "6               27.0    0.0     12.0     0.0    1.0   0.0    0.0"
      ]
     },
     "execution_count": 90,
     "metadata": {},
     "output_type": "execute_result"
    }
   ],
   "source": [
    "pd.pivot_table(tor_york_trips, index = \"region_home\", columns = \"region_work\", values= \"weight_x\", aggfunc = sum).fillna(0)"
   ]
  },
  {
   "cell_type": "code",
   "execution_count": 24,
   "metadata": {},
   "outputs": [],
   "source": [
    "pd1_trips = durham_trips_am[(durham_trips_am[\"pd_tts_d\"] == 100) & ((durham_trips_am[\"pd_tts_o\"] == 4) | (durham_trips_am[\"pd_tts_o\"] == 7)| (durham_trips_am[\"pd_tts_o\"] == 9)| (durham_trips_am[\"pd_tts_o\"] == 12)| (durham_trips_am[\"pd_tts_o\"] == 17))]"
   ]
  },
  {
   "cell_type": "code",
   "execution_count": 17,
   "metadata": {},
   "outputs": [],
   "source": [
    "pd1_trips = durham_trips_pm[(durham_trips_pm[\"pd_tts_o\"] == 100) & ((durham_trips_pm[\"pd_tts_d\"] == 4) | (durham_trips_pm[\"pd_tts_d\"] == 7)| (durham_trips_pm[\"pd_tts_d\"] == 9)| (durham_trips_pm[\"pd_tts_d\"] == 12)| (durham_trips_pm[\"pd_tts_d\"] == 17))]"
   ]
  },
  {
   "cell_type": "code",
   "execution_count": 25,
   "metadata": {},
   "outputs": [
    {
     "data": {
      "text/plain": [
       "(2978.1000000000004, 8429.099999999999, 697.6)"
      ]
     },
     "execution_count": 25,
     "metadata": {},
     "output_type": "execute_result"
    }
   ],
   "source": [
    "pd1_trips[pd1_trips[\"mode\"] == \"DAT\"][\"weight\"].sum(),pd1_trips[pd1_trips[\"mode\"] == \"PAT\"][\"weight\"].sum(),pd1_trips[pd1_trips[\"mode\"] == \"PET\"][\"weight\"].sum()"
   ]
  },
  {
   "cell_type": "code",
   "execution_count": 18,
   "metadata": {},
   "outputs": [
    {
     "data": {
      "text/plain": [
       "16612.6"
      ]
     },
     "execution_count": 18,
     "metadata": {},
     "output_type": "execute_result"
    }
   ],
   "source": [
    "pd1_trips[\"weight\"].sum()"
   ]
  },
  {
   "cell_type": "code",
   "execution_count": 11,
   "metadata": {},
   "outputs": [
    {
     "data": {
      "text/plain": [
       "Index(['household_id', 'person_id', 'trip_id', 'mode', 'o_depart', 'd_arrive',\n",
       "       'weight', 'o_act', 'o_zone', 'd_act', 'd_zone', 'weight_x', 'age',\n",
       "       'sex', 'license', 'transit_pass', 'employment_status', 'occupation',\n",
       "       'free_parking', 'student_status', 'work_zone', 'school_zone',\n",
       "       'weight_y', 'combined_act', 'pd_new_o', 'pd_old_o', 'pd_tts_o',\n",
       "       'pd_new_d', 'pd_old_d', 'pd_tts_d', 'Purpose', 'Purp2'],\n",
       "      dtype='object')"
      ]
     },
     "execution_count": 11,
     "metadata": {},
     "output_type": "execute_result"
    }
   ],
   "source": [
    "durham_trips_pm.columns"
   ]
  },
  {
   "cell_type": "code",
   "execution_count": 153,
   "metadata": {},
   "outputs": [],
   "source": [
    "int_pickering = durham_trips_pm[(durham_trips_pm[\"pd_tts_o\"] == 9) & (durham_trips_pm[\"pd_tts_d\"] == 9)]"
   ]
  },
  {
   "cell_type": "code",
   "execution_count": 154,
   "metadata": {},
   "outputs": [],
   "source": [
    "wat_int_pickering = int_pickering[int_pickering[\"mode\"] == \"WAT\"]"
   ]
  },
  {
   "cell_type": "code",
   "execution_count": 155,
   "metadata": {},
   "outputs": [
    {
     "data": {
      "text/html": [
       "<div>\n",
       "<style scoped>\n",
       "    .dataframe tbody tr th:only-of-type {\n",
       "        vertical-align: middle;\n",
       "    }\n",
       "\n",
       "    .dataframe tbody tr th {\n",
       "        vertical-align: top;\n",
       "    }\n",
       "\n",
       "    .dataframe thead th {\n",
       "        text-align: right;\n",
       "    }\n",
       "</style>\n",
       "<table border=\"1\" class=\"dataframe\">\n",
       "  <thead>\n",
       "    <tr style=\"text-align: right;\">\n",
       "      <th></th>\n",
       "      <th>household_id</th>\n",
       "      <th>person_id</th>\n",
       "      <th>trip_id</th>\n",
       "      <th>mode</th>\n",
       "      <th>o_depart</th>\n",
       "      <th>d_arrive</th>\n",
       "      <th>weight</th>\n",
       "      <th>o_act</th>\n",
       "      <th>o_zone</th>\n",
       "      <th>d_act</th>\n",
       "      <th>...</th>\n",
       "      <th>weight_y</th>\n",
       "      <th>combined_act</th>\n",
       "      <th>pd_new_o</th>\n",
       "      <th>pd_old_o</th>\n",
       "      <th>pd_tts_o</th>\n",
       "      <th>pd_new_d</th>\n",
       "      <th>pd_old_d</th>\n",
       "      <th>pd_tts_d</th>\n",
       "      <th>Purpose</th>\n",
       "      <th>Purp2</th>\n",
       "    </tr>\n",
       "  </thead>\n",
       "  <tbody>\n",
       "    <tr>\n",
       "      <th>4324</th>\n",
       "      <td>420756</td>\n",
       "      <td>3</td>\n",
       "      <td>2</td>\n",
       "      <td>WAT</td>\n",
       "      <td>1110.3020</td>\n",
       "      <td>1140.000</td>\n",
       "      <td>0.6</td>\n",
       "      <td>PrimaryWork</td>\n",
       "      <td>1302</td>\n",
       "      <td>IndividualOther</td>\n",
       "      <td>...</td>\n",
       "      <td>1</td>\n",
       "      <td>PrimaryWork-IndividualOther</td>\n",
       "      <td>22</td>\n",
       "      <td>22</td>\n",
       "      <td>9</td>\n",
       "      <td>22</td>\n",
       "      <td>22</td>\n",
       "      <td>9</td>\n",
       "      <td>5 - Other</td>\n",
       "      <td>3 - Other</td>\n",
       "    </tr>\n",
       "    <tr>\n",
       "      <th>10241</th>\n",
       "      <td>718952</td>\n",
       "      <td>2</td>\n",
       "      <td>2</td>\n",
       "      <td>WAT</td>\n",
       "      <td>929.8954</td>\n",
       "      <td>945.000</td>\n",
       "      <td>0.1</td>\n",
       "      <td>PrimaryWork</td>\n",
       "      <td>1383</td>\n",
       "      <td>IndividualOther</td>\n",
       "      <td>...</td>\n",
       "      <td>1</td>\n",
       "      <td>PrimaryWork-IndividualOther</td>\n",
       "      <td>22</td>\n",
       "      <td>22</td>\n",
       "      <td>9</td>\n",
       "      <td>22</td>\n",
       "      <td>22</td>\n",
       "      <td>9</td>\n",
       "      <td>5 - Other</td>\n",
       "      <td>3 - Other</td>\n",
       "    </tr>\n",
       "    <tr>\n",
       "      <th>11626</th>\n",
       "      <td>811607</td>\n",
       "      <td>1</td>\n",
       "      <td>2</td>\n",
       "      <td>WAT</td>\n",
       "      <td>1092.7140</td>\n",
       "      <td>1143.586</td>\n",
       "      <td>0.4</td>\n",
       "      <td>PrimaryWork</td>\n",
       "      <td>1402</td>\n",
       "      <td>Market</td>\n",
       "      <td>...</td>\n",
       "      <td>1</td>\n",
       "      <td>PrimaryWork-Market</td>\n",
       "      <td>22</td>\n",
       "      <td>22</td>\n",
       "      <td>9</td>\n",
       "      <td>22</td>\n",
       "      <td>22</td>\n",
       "      <td>9</td>\n",
       "      <td>4 - Market</td>\n",
       "      <td>2 - Market</td>\n",
       "    </tr>\n",
       "    <tr>\n",
       "      <th>12986</th>\n",
       "      <td>848847</td>\n",
       "      <td>1</td>\n",
       "      <td>2</td>\n",
       "      <td>WAT</td>\n",
       "      <td>975.2733</td>\n",
       "      <td>1035.000</td>\n",
       "      <td>0.8</td>\n",
       "      <td>PrimaryWork</td>\n",
       "      <td>1347</td>\n",
       "      <td>Market</td>\n",
       "      <td>...</td>\n",
       "      <td>1</td>\n",
       "      <td>PrimaryWork-Market</td>\n",
       "      <td>22</td>\n",
       "      <td>22</td>\n",
       "      <td>9</td>\n",
       "      <td>22</td>\n",
       "      <td>22</td>\n",
       "      <td>9</td>\n",
       "      <td>4 - Market</td>\n",
       "      <td>2 - Market</td>\n",
       "    </tr>\n",
       "    <tr>\n",
       "      <th>38036</th>\n",
       "      <td>1009892</td>\n",
       "      <td>1</td>\n",
       "      <td>2</td>\n",
       "      <td>WAT</td>\n",
       "      <td>967.4708</td>\n",
       "      <td>1024.630</td>\n",
       "      <td>0.4</td>\n",
       "      <td>IndividualOther</td>\n",
       "      <td>1344</td>\n",
       "      <td>IndividualOther</td>\n",
       "      <td>...</td>\n",
       "      <td>1</td>\n",
       "      <td>IndividualOther-IndividualOther</td>\n",
       "      <td>22</td>\n",
       "      <td>22</td>\n",
       "      <td>9</td>\n",
       "      <td>22</td>\n",
       "      <td>22</td>\n",
       "      <td>9</td>\n",
       "      <td>5 - Other</td>\n",
       "      <td>3 - Other</td>\n",
       "    </tr>\n",
       "    <tr>\n",
       "      <th>...</th>\n",
       "      <td>...</td>\n",
       "      <td>...</td>\n",
       "      <td>...</td>\n",
       "      <td>...</td>\n",
       "      <td>...</td>\n",
       "      <td>...</td>\n",
       "      <td>...</td>\n",
       "      <td>...</td>\n",
       "      <td>...</td>\n",
       "      <td>...</td>\n",
       "      <td>...</td>\n",
       "      <td>...</td>\n",
       "      <td>...</td>\n",
       "      <td>...</td>\n",
       "      <td>...</td>\n",
       "      <td>...</td>\n",
       "      <td>...</td>\n",
       "      <td>...</td>\n",
       "      <td>...</td>\n",
       "      <td>...</td>\n",
       "      <td>...</td>\n",
       "    </tr>\n",
       "    <tr>\n",
       "      <th>1986148</th>\n",
       "      <td>1325601</td>\n",
       "      <td>1</td>\n",
       "      <td>2</td>\n",
       "      <td>WAT</td>\n",
       "      <td>989.1961</td>\n",
       "      <td>1017.222</td>\n",
       "      <td>0.1</td>\n",
       "      <td>PrimaryWork</td>\n",
       "      <td>1384</td>\n",
       "      <td>Market</td>\n",
       "      <td>...</td>\n",
       "      <td>1</td>\n",
       "      <td>PrimaryWork-Market</td>\n",
       "      <td>22</td>\n",
       "      <td>22</td>\n",
       "      <td>9</td>\n",
       "      <td>22</td>\n",
       "      <td>22</td>\n",
       "      <td>9</td>\n",
       "      <td>4 - Market</td>\n",
       "      <td>2 - Market</td>\n",
       "    </tr>\n",
       "    <tr>\n",
       "      <th>1986150</th>\n",
       "      <td>1325601</td>\n",
       "      <td>1</td>\n",
       "      <td>3</td>\n",
       "      <td>WAT</td>\n",
       "      <td>1110.8360</td>\n",
       "      <td>1140.000</td>\n",
       "      <td>0.1</td>\n",
       "      <td>Market</td>\n",
       "      <td>1383</td>\n",
       "      <td>SecondaryWork</td>\n",
       "      <td>...</td>\n",
       "      <td>1</td>\n",
       "      <td>Market-SecondaryWork</td>\n",
       "      <td>22</td>\n",
       "      <td>22</td>\n",
       "      <td>9</td>\n",
       "      <td>22</td>\n",
       "      <td>22</td>\n",
       "      <td>9</td>\n",
       "      <td>4 - Market</td>\n",
       "      <td>2 - Market</td>\n",
       "    </tr>\n",
       "    <tr>\n",
       "      <th>1999404</th>\n",
       "      <td>1327518</td>\n",
       "      <td>1</td>\n",
       "      <td>2</td>\n",
       "      <td>WAT</td>\n",
       "      <td>956.7364</td>\n",
       "      <td>1027.180</td>\n",
       "      <td>0.2</td>\n",
       "      <td>PrimaryWork</td>\n",
       "      <td>1402</td>\n",
       "      <td>Market</td>\n",
       "      <td>...</td>\n",
       "      <td>1</td>\n",
       "      <td>PrimaryWork-Market</td>\n",
       "      <td>22</td>\n",
       "      <td>22</td>\n",
       "      <td>9</td>\n",
       "      <td>22</td>\n",
       "      <td>22</td>\n",
       "      <td>9</td>\n",
       "      <td>4 - Market</td>\n",
       "      <td>2 - Market</td>\n",
       "    </tr>\n",
       "    <tr>\n",
       "      <th>2061454</th>\n",
       "      <td>1336124</td>\n",
       "      <td>4</td>\n",
       "      <td>2</td>\n",
       "      <td>WAT</td>\n",
       "      <td>932.3376</td>\n",
       "      <td>960.000</td>\n",
       "      <td>0.5</td>\n",
       "      <td>School</td>\n",
       "      <td>1371</td>\n",
       "      <td>IndividualOther</td>\n",
       "      <td>...</td>\n",
       "      <td>1</td>\n",
       "      <td>School-IndividualOther</td>\n",
       "      <td>22</td>\n",
       "      <td>22</td>\n",
       "      <td>9</td>\n",
       "      <td>22</td>\n",
       "      <td>22</td>\n",
       "      <td>9</td>\n",
       "      <td>5 - Other</td>\n",
       "      <td>3 - Other</td>\n",
       "    </tr>\n",
       "    <tr>\n",
       "      <th>2106050</th>\n",
       "      <td>1571572</td>\n",
       "      <td>1</td>\n",
       "      <td>2</td>\n",
       "      <td>WAT</td>\n",
       "      <td>1029.6930</td>\n",
       "      <td>1080.000</td>\n",
       "      <td>0.5</td>\n",
       "      <td>PrimaryWork</td>\n",
       "      <td>1295</td>\n",
       "      <td>Market</td>\n",
       "      <td>...</td>\n",
       "      <td>1</td>\n",
       "      <td>PrimaryWork-Market</td>\n",
       "      <td>22</td>\n",
       "      <td>22</td>\n",
       "      <td>9</td>\n",
       "      <td>22</td>\n",
       "      <td>22</td>\n",
       "      <td>9</td>\n",
       "      <td>4 - Market</td>\n",
       "      <td>2 - Market</td>\n",
       "    </tr>\n",
       "  </tbody>\n",
       "</table>\n",
       "<p>7206 rows × 32 columns</p>\n",
       "</div>"
      ],
      "text/plain": [
       "         household_id  person_id  trip_id mode   o_depart  d_arrive  weight  \\\n",
       "4324           420756          3        2  WAT  1110.3020  1140.000     0.6   \n",
       "10241          718952          2        2  WAT   929.8954   945.000     0.1   \n",
       "11626          811607          1        2  WAT  1092.7140  1143.586     0.4   \n",
       "12986          848847          1        2  WAT   975.2733  1035.000     0.8   \n",
       "38036         1009892          1        2  WAT   967.4708  1024.630     0.4   \n",
       "...               ...        ...      ...  ...        ...       ...     ...   \n",
       "1986148       1325601          1        2  WAT   989.1961  1017.222     0.1   \n",
       "1986150       1325601          1        3  WAT  1110.8360  1140.000     0.1   \n",
       "1999404       1327518          1        2  WAT   956.7364  1027.180     0.2   \n",
       "2061454       1336124          4        2  WAT   932.3376   960.000     0.5   \n",
       "2106050       1571572          1        2  WAT  1029.6930  1080.000     0.5   \n",
       "\n",
       "                   o_act  o_zone            d_act  ...  weight_y  \\\n",
       "4324         PrimaryWork    1302  IndividualOther  ...         1   \n",
       "10241        PrimaryWork    1383  IndividualOther  ...         1   \n",
       "11626        PrimaryWork    1402           Market  ...         1   \n",
       "12986        PrimaryWork    1347           Market  ...         1   \n",
       "38036    IndividualOther    1344  IndividualOther  ...         1   \n",
       "...                  ...     ...              ...  ...       ...   \n",
       "1986148      PrimaryWork    1384           Market  ...         1   \n",
       "1986150           Market    1383    SecondaryWork  ...         1   \n",
       "1999404      PrimaryWork    1402           Market  ...         1   \n",
       "2061454           School    1371  IndividualOther  ...         1   \n",
       "2106050      PrimaryWork    1295           Market  ...         1   \n",
       "\n",
       "                            combined_act  pd_new_o pd_old_o  pd_tts_o  \\\n",
       "4324         PrimaryWork-IndividualOther        22       22         9   \n",
       "10241        PrimaryWork-IndividualOther        22       22         9   \n",
       "11626                 PrimaryWork-Market        22       22         9   \n",
       "12986                 PrimaryWork-Market        22       22         9   \n",
       "38036    IndividualOther-IndividualOther        22       22         9   \n",
       "...                                  ...       ...      ...       ...   \n",
       "1986148               PrimaryWork-Market        22       22         9   \n",
       "1986150             Market-SecondaryWork        22       22         9   \n",
       "1999404               PrimaryWork-Market        22       22         9   \n",
       "2061454           School-IndividualOther        22       22         9   \n",
       "2106050               PrimaryWork-Market        22       22         9   \n",
       "\n",
       "         pd_new_d pd_old_d pd_tts_d     Purpose       Purp2  \n",
       "4324           22       22        9   5 - Other   3 - Other  \n",
       "10241          22       22        9   5 - Other   3 - Other  \n",
       "11626          22       22        9  4 - Market  2 - Market  \n",
       "12986          22       22        9  4 - Market  2 - Market  \n",
       "38036          22       22        9   5 - Other   3 - Other  \n",
       "...           ...      ...      ...         ...         ...  \n",
       "1986148        22       22        9  4 - Market  2 - Market  \n",
       "1986150        22       22        9  4 - Market  2 - Market  \n",
       "1999404        22       22        9  4 - Market  2 - Market  \n",
       "2061454        22       22        9   5 - Other   3 - Other  \n",
       "2106050        22       22        9  4 - Market  2 - Market  \n",
       "\n",
       "[7206 rows x 32 columns]"
      ]
     },
     "execution_count": 155,
     "metadata": {},
     "output_type": "execute_result"
    }
   ],
   "source": [
    "wat_int_pickering"
   ]
  },
  {
   "cell_type": "code",
   "execution_count": 147,
   "metadata": {},
   "outputs": [],
   "source": [
    "households_df = pd.read_csv(os.path.join(microsim_path,\"households.csv\"))"
   ]
  },
  {
   "cell_type": "code",
   "execution_count": 156,
   "metadata": {},
   "outputs": [],
   "source": [
    "wat_int_pickering=wat_int_pickering.rename(columns = {\"weight\":\"weight_trip\"})"
   ]
  },
  {
   "cell_type": "code",
   "execution_count": 157,
   "metadata": {},
   "outputs": [],
   "source": [
    "wat_int_pickering = wat_int_pickering.merge(households_df, on = \"household_id\", how = \"left\")"
   ]
  },
  {
   "cell_type": "code",
   "execution_count": 159,
   "metadata": {},
   "outputs": [
    {
     "data": {
      "text/html": [
       "<div>\n",
       "<style scoped>\n",
       "    .dataframe tbody tr th:only-of-type {\n",
       "        vertical-align: middle;\n",
       "    }\n",
       "\n",
       "    .dataframe tbody tr th {\n",
       "        vertical-align: top;\n",
       "    }\n",
       "\n",
       "    .dataframe thead th {\n",
       "        text-align: right;\n",
       "    }\n",
       "</style>\n",
       "<table border=\"1\" class=\"dataframe\">\n",
       "  <thead>\n",
       "    <tr style=\"text-align: right;\">\n",
       "      <th></th>\n",
       "      <th>weight_trip</th>\n",
       "    </tr>\n",
       "    <tr>\n",
       "      <th>student_status</th>\n",
       "      <th></th>\n",
       "    </tr>\n",
       "  </thead>\n",
       "  <tbody>\n",
       "    <tr>\n",
       "      <th>F</th>\n",
       "      <td>1217.1</td>\n",
       "    </tr>\n",
       "    <tr>\n",
       "      <th>O</th>\n",
       "      <td>762.4</td>\n",
       "    </tr>\n",
       "    <tr>\n",
       "      <th>P</th>\n",
       "      <td>26.9</td>\n",
       "    </tr>\n",
       "  </tbody>\n",
       "</table>\n",
       "</div>"
      ],
      "text/plain": [
       "                weight_trip\n",
       "student_status             \n",
       "F                    1217.1\n",
       "O                     762.4\n",
       "P                      26.9"
      ]
     },
     "execution_count": 159,
     "metadata": {},
     "output_type": "execute_result"
    }
   ],
   "source": [
    "pd.pivot_table(wat_int_pickering, values = \"weight_trip\", aggfunc = sum,index = \"student_status\").fillna(0)#.to_csv(os.path.join(input_pth, \"pickeringtrip_test.csv\"))"
   ]
  },
  {
   "cell_type": "code",
   "execution_count": 124,
   "metadata": {},
   "outputs": [
    {
     "data": {
      "text/plain": [
       "Index(['household_id', 'person_id', 'trip_id', 'mode', 'o_depart', 'd_arrive',\n",
       "       'weight_x', 'o_act', 'o_zone', 'd_act', 'd_zone', 'weight_x', 'age',\n",
       "       'sex', 'license', 'transit_pass', 'employment_status', 'occupation',\n",
       "       'free_parking', 'student_status', 'work_zone', 'school_zone',\n",
       "       'weight_y', 'combined_act', 'pd_new_o', 'pd_old_o', 'pd_tts_o',\n",
       "       'pd_new_d', 'pd_old_d', 'pd_tts_d', 'Purpose', 'Purp2', 'home_zone',\n",
       "       'weight_y', 'persons', 'dwelling_type', 'vehicles', 'income_class'],\n",
       "      dtype='object')"
      ]
     },
     "execution_count": 124,
     "metadata": {},
     "output_type": "execute_result"
    }
   ],
   "source": [
    "wat_int_pickering.columns"
   ]
  },
  {
   "cell_type": "code",
   "execution_count": 36,
   "metadata": {
    "show_input": true
   },
   "outputs": [
    {
     "data": {
      "text/plain": [
       "array(['Auto', 'WAT', 'DAT', 'Carpool', 'Walk', 'PAT', 'VFH', 'Passenger',\n",
       "       'PET', 'Schoolbus', 'RideShare', 'Bicycle'], dtype=object)"
      ]
     },
     "execution_count": 36,
     "metadata": {},
     "output_type": "execute_result"
    }
   ],
   "source": [
    "durham_trips_am[\"mode\"].unique()"
   ]
  },
  {
   "cell_type": "code",
   "execution_count": 15,
   "metadata": {},
   "outputs": [
    {
     "data": {
      "text/plain": [
       "Index([u'household_id', u'person_id', u'trip_id', u'mode', u'o_depart',\n",
       "       u'd_arrive', u'weight', u'o_act', u'o_zone', u'd_act', u'd_zone',\n",
       "       u'weight_x', u'age', u'sex', u'license', u'transit_pass',\n",
       "       u'employment_status', u'occupation', u'free_parking', u'student_status',\n",
       "       u'work_zone', u'school_zone', u'weight_y', u'combined_act', u'pd_new_o',\n",
       "       u'pd_old_o', u'pd_tts_o', u'pd_new_d', u'pd_old_d', u'pd_tts_d',\n",
       "       u'Purpose', u'Purp2'],\n",
       "      dtype='object')"
      ]
     },
     "execution_count": 15,
     "metadata": {},
     "output_type": "execute_result"
    }
   ],
   "source": [
    "durham_trips_am.columns"
   ]
  },
  {
   "cell_type": "code",
   "execution_count": 24,
   "metadata": {},
   "outputs": [
    {
     "data": {
      "text/html": [
       "<div>\n",
       "<style scoped>\n",
       "    .dataframe tbody tr th:only-of-type {\n",
       "        vertical-align: middle;\n",
       "    }\n",
       "\n",
       "    .dataframe tbody tr th {\n",
       "        vertical-align: top;\n",
       "    }\n",
       "\n",
       "    .dataframe thead th {\n",
       "        text-align: right;\n",
       "    }\n",
       "</style>\n",
       "<table border=\"1\" class=\"dataframe\">\n",
       "  <thead>\n",
       "    <tr style=\"text-align: right;\">\n",
       "      <th></th>\n",
       "      <th>household_id</th>\n",
       "      <th>person_id</th>\n",
       "      <th>o_depart</th>\n",
       "      <th>o_zone</th>\n",
       "      <th>d_zone</th>\n",
       "      <th>mode</th>\n",
       "      <th>weight</th>\n",
       "    </tr>\n",
       "  </thead>\n",
       "  <tbody>\n",
       "    <tr>\n",
       "      <th>0</th>\n",
       "      <td>468</td>\n",
       "      <td>2</td>\n",
       "      <td>440.2754</td>\n",
       "      <td>1</td>\n",
       "      <td>1512</td>\n",
       "      <td>Auto</td>\n",
       "      <td>0.6</td>\n",
       "    </tr>\n",
       "    <tr>\n",
       "      <th>1</th>\n",
       "      <td>468</td>\n",
       "      <td>2</td>\n",
       "      <td>480.0000</td>\n",
       "      <td>1</td>\n",
       "      <td>1512</td>\n",
       "      <td>WAT</td>\n",
       "      <td>0.2</td>\n",
       "    </tr>\n",
       "    <tr>\n",
       "      <th>2</th>\n",
       "      <td>468</td>\n",
       "      <td>2</td>\n",
       "      <td>374.0309</td>\n",
       "      <td>1</td>\n",
       "      <td>1512</td>\n",
       "      <td>DAT</td>\n",
       "      <td>0.1</td>\n",
       "    </tr>\n",
       "    <tr>\n",
       "      <th>3</th>\n",
       "      <td>468</td>\n",
       "      <td>2</td>\n",
       "      <td>440.2754</td>\n",
       "      <td>1</td>\n",
       "      <td>1512</td>\n",
       "      <td>Carpool</td>\n",
       "      <td>0.1</td>\n",
       "    </tr>\n",
       "    <tr>\n",
       "      <th>4</th>\n",
       "      <td>468</td>\n",
       "      <td>2</td>\n",
       "      <td>1020.0000</td>\n",
       "      <td>1512</td>\n",
       "      <td>1</td>\n",
       "      <td>Auto</td>\n",
       "      <td>0.6</td>\n",
       "    </tr>\n",
       "    <tr>\n",
       "      <th>5</th>\n",
       "      <td>468</td>\n",
       "      <td>2</td>\n",
       "      <td>1020.0000</td>\n",
       "      <td>1512</td>\n",
       "      <td>1</td>\n",
       "      <td>Carpool</td>\n",
       "      <td>0.1</td>\n",
       "    </tr>\n",
       "    <tr>\n",
       "      <th>6</th>\n",
       "      <td>468</td>\n",
       "      <td>2</td>\n",
       "      <td>1020.0000</td>\n",
       "      <td>1512</td>\n",
       "      <td>1</td>\n",
       "      <td>DAT</td>\n",
       "      <td>0.1</td>\n",
       "    </tr>\n",
       "    <tr>\n",
       "      <th>7</th>\n",
       "      <td>468</td>\n",
       "      <td>2</td>\n",
       "      <td>1020.0000</td>\n",
       "      <td>1512</td>\n",
       "      <td>1</td>\n",
       "      <td>WAT</td>\n",
       "      <td>0.2</td>\n",
       "    </tr>\n",
       "  </tbody>\n",
       "</table>\n",
       "</div>"
      ],
      "text/plain": [
       "   household_id  person_id   o_depart  o_zone  d_zone     mode  weight\n",
       "0           468          2   440.2754       1    1512     Auto     0.6\n",
       "1           468          2   480.0000       1    1512      WAT     0.2\n",
       "2           468          2   374.0309       1    1512      DAT     0.1\n",
       "3           468          2   440.2754       1    1512  Carpool     0.1\n",
       "4           468          2  1020.0000    1512       1     Auto     0.6\n",
       "5           468          2  1020.0000    1512       1  Carpool     0.1\n",
       "6           468          2  1020.0000    1512       1      DAT     0.1\n",
       "7           468          2  1020.0000    1512       1      WAT     0.2"
      ]
     },
     "execution_count": 24,
     "metadata": {},
     "output_type": "execute_result"
    }
   ],
   "source": [
    "durham_trips_time[(durham_trips_time.household_id == 468) & (durham_trips_time.person_id == 2)][[u'household_id',u'person_id',u'o_depart',\"o_zone\",\"d_zone\",\"mode\",\"weight\"]]"
   ]
  },
  {
   "cell_type": "code",
   "execution_count": null,
   "metadata": {},
   "outputs": [],
   "source": [
    "durham_trips_time[durham_trips_am[\"mode\"] == \"DAT\"]"
   ]
  },
  {
   "cell_type": "code",
   "execution_count": 19,
   "metadata": {},
   "outputs": [
    {
     "data": {
      "text/html": [
       "<div>\n",
       "<style scoped>\n",
       "    .dataframe tbody tr th:only-of-type {\n",
       "        vertical-align: middle;\n",
       "    }\n",
       "\n",
       "    .dataframe tbody tr th {\n",
       "        vertical-align: top;\n",
       "    }\n",
       "\n",
       "    .dataframe thead th {\n",
       "        text-align: right;\n",
       "    }\n",
       "</style>\n",
       "<table border=\"1\" class=\"dataframe\">\n",
       "  <thead>\n",
       "    <tr style=\"text-align: right;\">\n",
       "      <th></th>\n",
       "      <th>household_id</th>\n",
       "      <th>person_id</th>\n",
       "      <th>o_depart</th>\n",
       "      <th>o_zone</th>\n",
       "      <th>d_zone</th>\n",
       "      <th>mode</th>\n",
       "    </tr>\n",
       "  </thead>\n",
       "  <tbody>\n",
       "    <tr>\n",
       "      <th>2</th>\n",
       "      <td>468</td>\n",
       "      <td>2</td>\n",
       "      <td>374.0309</td>\n",
       "      <td>1</td>\n",
       "      <td>1512</td>\n",
       "      <td>DAT</td>\n",
       "    </tr>\n",
       "    <tr>\n",
       "      <th>9</th>\n",
       "      <td>621</td>\n",
       "      <td>1</td>\n",
       "      <td>474.1747</td>\n",
       "      <td>514</td>\n",
       "      <td>1133</td>\n",
       "      <td>DAT</td>\n",
       "    </tr>\n",
       "    <tr>\n",
       "      <th>27</th>\n",
       "      <td>1017</td>\n",
       "      <td>1</td>\n",
       "      <td>444.4991</td>\n",
       "      <td>5</td>\n",
       "      <td>1134</td>\n",
       "      <td>DAT</td>\n",
       "    </tr>\n",
       "    <tr>\n",
       "      <th>31</th>\n",
       "      <td>1017</td>\n",
       "      <td>2</td>\n",
       "      <td>365.7167</td>\n",
       "      <td>5</td>\n",
       "      <td>1134</td>\n",
       "      <td>DAT</td>\n",
       "    </tr>\n",
       "    <tr>\n",
       "      <th>47</th>\n",
       "      <td>3597</td>\n",
       "      <td>2</td>\n",
       "      <td>469.6289</td>\n",
       "      <td>16</td>\n",
       "      <td>1129</td>\n",
       "      <td>DAT</td>\n",
       "    </tr>\n",
       "    <tr>\n",
       "      <th>92</th>\n",
       "      <td>6172</td>\n",
       "      <td>1</td>\n",
       "      <td>381.0441</td>\n",
       "      <td>17</td>\n",
       "      <td>1217</td>\n",
       "      <td>DAT</td>\n",
       "    </tr>\n",
       "    <tr>\n",
       "      <th>96</th>\n",
       "      <td>6770</td>\n",
       "      <td>1</td>\n",
       "      <td>373.2345</td>\n",
       "      <td>17</td>\n",
       "      <td>1116</td>\n",
       "      <td>DAT</td>\n",
       "    </tr>\n",
       "    <tr>\n",
       "      <th>99</th>\n",
       "      <td>6770</td>\n",
       "      <td>1</td>\n",
       "      <td>420.2014</td>\n",
       "      <td>1116</td>\n",
       "      <td>530</td>\n",
       "      <td>DAT</td>\n",
       "    </tr>\n",
       "    <tr>\n",
       "      <th>102</th>\n",
       "      <td>6914</td>\n",
       "      <td>1</td>\n",
       "      <td>529.2610</td>\n",
       "      <td>17</td>\n",
       "      <td>1180</td>\n",
       "      <td>DAT</td>\n",
       "    </tr>\n",
       "    <tr>\n",
       "      <th>126</th>\n",
       "      <td>8257</td>\n",
       "      <td>1</td>\n",
       "      <td>386.2789</td>\n",
       "      <td>17</td>\n",
       "      <td>1134</td>\n",
       "      <td>DAT</td>\n",
       "    </tr>\n",
       "    <tr>\n",
       "      <th>149</th>\n",
       "      <td>9521</td>\n",
       "      <td>3</td>\n",
       "      <td>458.5388</td>\n",
       "      <td>18</td>\n",
       "      <td>1308</td>\n",
       "      <td>DAT</td>\n",
       "    </tr>\n",
       "    <tr>\n",
       "      <th>164</th>\n",
       "      <td>9700</td>\n",
       "      <td>1</td>\n",
       "      <td>397.9725</td>\n",
       "      <td>18</td>\n",
       "      <td>1465</td>\n",
       "      <td>DAT</td>\n",
       "    </tr>\n",
       "    <tr>\n",
       "      <th>220</th>\n",
       "      <td>11181</td>\n",
       "      <td>1</td>\n",
       "      <td>442.7971</td>\n",
       "      <td>19</td>\n",
       "      <td>1464</td>\n",
       "      <td>DAT</td>\n",
       "    </tr>\n",
       "    <tr>\n",
       "      <th>241</th>\n",
       "      <td>12519</td>\n",
       "      <td>1</td>\n",
       "      <td>360.3130</td>\n",
       "      <td>21</td>\n",
       "      <td>1198</td>\n",
       "      <td>DAT</td>\n",
       "    </tr>\n",
       "    <tr>\n",
       "      <th>280</th>\n",
       "      <td>14844</td>\n",
       "      <td>1</td>\n",
       "      <td>466.0091</td>\n",
       "      <td>22</td>\n",
       "      <td>1177</td>\n",
       "      <td>DAT</td>\n",
       "    </tr>\n",
       "    <tr>\n",
       "      <th>315</th>\n",
       "      <td>16534</td>\n",
       "      <td>2</td>\n",
       "      <td>398.4503</td>\n",
       "      <td>22</td>\n",
       "      <td>1404</td>\n",
       "      <td>DAT</td>\n",
       "    </tr>\n",
       "    <tr>\n",
       "      <th>342</th>\n",
       "      <td>16882</td>\n",
       "      <td>2</td>\n",
       "      <td>484.7313</td>\n",
       "      <td>22</td>\n",
       "      <td>1133</td>\n",
       "      <td>DAT</td>\n",
       "    </tr>\n",
       "    <tr>\n",
       "      <th>348</th>\n",
       "      <td>16580</td>\n",
       "      <td>2</td>\n",
       "      <td>419.8923</td>\n",
       "      <td>484</td>\n",
       "      <td>1519</td>\n",
       "      <td>DAT</td>\n",
       "    </tr>\n",
       "    <tr>\n",
       "      <th>462</th>\n",
       "      <td>19708</td>\n",
       "      <td>2</td>\n",
       "      <td>413.3244</td>\n",
       "      <td>60</td>\n",
       "      <td>1506</td>\n",
       "      <td>DAT</td>\n",
       "    </tr>\n",
       "    <tr>\n",
       "      <th>493</th>\n",
       "      <td>24420</td>\n",
       "      <td>2</td>\n",
       "      <td>456.0509</td>\n",
       "      <td>25</td>\n",
       "      <td>1484</td>\n",
       "      <td>DAT</td>\n",
       "    </tr>\n",
       "    <tr>\n",
       "      <th>501</th>\n",
       "      <td>24265</td>\n",
       "      <td>2</td>\n",
       "      <td>484.0517</td>\n",
       "      <td>25</td>\n",
       "      <td>1204</td>\n",
       "      <td>DAT</td>\n",
       "    </tr>\n",
       "    <tr>\n",
       "      <th>514</th>\n",
       "      <td>26309</td>\n",
       "      <td>1</td>\n",
       "      <td>498.7351</td>\n",
       "      <td>25</td>\n",
       "      <td>1206</td>\n",
       "      <td>DAT</td>\n",
       "    </tr>\n",
       "    <tr>\n",
       "      <th>565</th>\n",
       "      <td>34926</td>\n",
       "      <td>1</td>\n",
       "      <td>399.0463</td>\n",
       "      <td>34</td>\n",
       "      <td>1544</td>\n",
       "      <td>DAT</td>\n",
       "    </tr>\n",
       "    <tr>\n",
       "      <th>589</th>\n",
       "      <td>35964</td>\n",
       "      <td>1</td>\n",
       "      <td>401.2927</td>\n",
       "      <td>35</td>\n",
       "      <td>1083</td>\n",
       "      <td>DAT</td>\n",
       "    </tr>\n",
       "    <tr>\n",
       "      <th>630</th>\n",
       "      <td>42412</td>\n",
       "      <td>1</td>\n",
       "      <td>407.4615</td>\n",
       "      <td>38</td>\n",
       "      <td>1584</td>\n",
       "      <td>DAT</td>\n",
       "    </tr>\n",
       "    <tr>\n",
       "      <th>638</th>\n",
       "      <td>42913</td>\n",
       "      <td>1</td>\n",
       "      <td>433.0429</td>\n",
       "      <td>39</td>\n",
       "      <td>1199</td>\n",
       "      <td>DAT</td>\n",
       "    </tr>\n",
       "    <tr>\n",
       "      <th>642</th>\n",
       "      <td>45336</td>\n",
       "      <td>1</td>\n",
       "      <td>381.8364</td>\n",
       "      <td>40</td>\n",
       "      <td>1165</td>\n",
       "      <td>DAT</td>\n",
       "    </tr>\n",
       "    <tr>\n",
       "      <th>681</th>\n",
       "      <td>47074</td>\n",
       "      <td>2</td>\n",
       "      <td>381.2911</td>\n",
       "      <td>41</td>\n",
       "      <td>1137</td>\n",
       "      <td>DAT</td>\n",
       "    </tr>\n",
       "    <tr>\n",
       "      <th>687</th>\n",
       "      <td>50148</td>\n",
       "      <td>1</td>\n",
       "      <td>468.9948</td>\n",
       "      <td>41</td>\n",
       "      <td>1129</td>\n",
       "      <td>DAT</td>\n",
       "    </tr>\n",
       "    <tr>\n",
       "      <th>691</th>\n",
       "      <td>50497</td>\n",
       "      <td>1</td>\n",
       "      <td>456.3779</td>\n",
       "      <td>41</td>\n",
       "      <td>1213</td>\n",
       "      <td>DAT</td>\n",
       "    </tr>\n",
       "    <tr>\n",
       "      <th>...</th>\n",
       "      <td>...</td>\n",
       "      <td>...</td>\n",
       "      <td>...</td>\n",
       "      <td>...</td>\n",
       "      <td>...</td>\n",
       "      <td>...</td>\n",
       "    </tr>\n",
       "    <tr>\n",
       "      <th>2726720</th>\n",
       "      <td>2133724</td>\n",
       "      <td>1</td>\n",
       "      <td>369.8365</td>\n",
       "      <td>4033</td>\n",
       "      <td>1297</td>\n",
       "      <td>DAT</td>\n",
       "    </tr>\n",
       "    <tr>\n",
       "      <th>2726764</th>\n",
       "      <td>2138883</td>\n",
       "      <td>4</td>\n",
       "      <td>536.8254</td>\n",
       "      <td>1640</td>\n",
       "      <td>3870</td>\n",
       "      <td>DAT</td>\n",
       "    </tr>\n",
       "    <tr>\n",
       "      <th>2726792</th>\n",
       "      <td>2139853</td>\n",
       "      <td>1</td>\n",
       "      <td>388.1434</td>\n",
       "      <td>4036</td>\n",
       "      <td>1292</td>\n",
       "      <td>DAT</td>\n",
       "    </tr>\n",
       "    <tr>\n",
       "      <th>2726844</th>\n",
       "      <td>2142927</td>\n",
       "      <td>2</td>\n",
       "      <td>371.4009</td>\n",
       "      <td>4037</td>\n",
       "      <td>1401</td>\n",
       "      <td>DAT</td>\n",
       "    </tr>\n",
       "    <tr>\n",
       "      <th>2726855</th>\n",
       "      <td>2149299</td>\n",
       "      <td>1</td>\n",
       "      <td>378.6736</td>\n",
       "      <td>4040</td>\n",
       "      <td>1137</td>\n",
       "      <td>DAT</td>\n",
       "    </tr>\n",
       "    <tr>\n",
       "      <th>2726864</th>\n",
       "      <td>2153267</td>\n",
       "      <td>2</td>\n",
       "      <td>411.4336</td>\n",
       "      <td>4042</td>\n",
       "      <td>1103</td>\n",
       "      <td>DAT</td>\n",
       "    </tr>\n",
       "    <tr>\n",
       "      <th>2726874</th>\n",
       "      <td>2149204</td>\n",
       "      <td>1</td>\n",
       "      <td>411.4027</td>\n",
       "      <td>4040</td>\n",
       "      <td>1109</td>\n",
       "      <td>DAT</td>\n",
       "    </tr>\n",
       "    <tr>\n",
       "      <th>2726890</th>\n",
       "      <td>2165229</td>\n",
       "      <td>2</td>\n",
       "      <td>377.7675</td>\n",
       "      <td>4057</td>\n",
       "      <td>1325</td>\n",
       "      <td>DAT</td>\n",
       "    </tr>\n",
       "    <tr>\n",
       "      <th>2726925</th>\n",
       "      <td>2167207</td>\n",
       "      <td>3</td>\n",
       "      <td>364.8676</td>\n",
       "      <td>4057</td>\n",
       "      <td>1324</td>\n",
       "      <td>DAT</td>\n",
       "    </tr>\n",
       "    <tr>\n",
       "      <th>2726931</th>\n",
       "      <td>2167209</td>\n",
       "      <td>3</td>\n",
       "      <td>405.4531</td>\n",
       "      <td>4057</td>\n",
       "      <td>1324</td>\n",
       "      <td>DAT</td>\n",
       "    </tr>\n",
       "    <tr>\n",
       "      <th>2726935</th>\n",
       "      <td>2167361</td>\n",
       "      <td>2</td>\n",
       "      <td>390.4531</td>\n",
       "      <td>4057</td>\n",
       "      <td>1324</td>\n",
       "      <td>DAT</td>\n",
       "    </tr>\n",
       "    <tr>\n",
       "      <th>2727000</th>\n",
       "      <td>2185229</td>\n",
       "      <td>3</td>\n",
       "      <td>377.7549</td>\n",
       "      <td>4070</td>\n",
       "      <td>1361</td>\n",
       "      <td>DAT</td>\n",
       "    </tr>\n",
       "    <tr>\n",
       "      <th>2727006</th>\n",
       "      <td>2185648</td>\n",
       "      <td>2</td>\n",
       "      <td>455.2127</td>\n",
       "      <td>4071</td>\n",
       "      <td>1204</td>\n",
       "      <td>DAT</td>\n",
       "    </tr>\n",
       "    <tr>\n",
       "      <th>2727102</th>\n",
       "      <td>2196404</td>\n",
       "      <td>2</td>\n",
       "      <td>416.6214</td>\n",
       "      <td>4078</td>\n",
       "      <td>1103</td>\n",
       "      <td>DAT</td>\n",
       "    </tr>\n",
       "    <tr>\n",
       "      <th>2727123</th>\n",
       "      <td>2210136</td>\n",
       "      <td>2</td>\n",
       "      <td>386.7007</td>\n",
       "      <td>4085</td>\n",
       "      <td>1104</td>\n",
       "      <td>DAT</td>\n",
       "    </tr>\n",
       "    <tr>\n",
       "      <th>2727154</th>\n",
       "      <td>2222490</td>\n",
       "      <td>3</td>\n",
       "      <td>440.3156</td>\n",
       "      <td>3635</td>\n",
       "      <td>1109</td>\n",
       "      <td>DAT</td>\n",
       "    </tr>\n",
       "    <tr>\n",
       "      <th>2727187</th>\n",
       "      <td>2234149</td>\n",
       "      <td>1</td>\n",
       "      <td>408.1031</td>\n",
       "      <td>4113</td>\n",
       "      <td>1186</td>\n",
       "      <td>DAT</td>\n",
       "    </tr>\n",
       "    <tr>\n",
       "      <th>2727191</th>\n",
       "      <td>2234719</td>\n",
       "      <td>4</td>\n",
       "      <td>379.6298</td>\n",
       "      <td>4119</td>\n",
       "      <td>1519</td>\n",
       "      <td>DAT</td>\n",
       "    </tr>\n",
       "    <tr>\n",
       "      <th>2727284</th>\n",
       "      <td>2236638</td>\n",
       "      <td>4</td>\n",
       "      <td>364.6298</td>\n",
       "      <td>4119</td>\n",
       "      <td>1519</td>\n",
       "      <td>DAT</td>\n",
       "    </tr>\n",
       "    <tr>\n",
       "      <th>2727298</th>\n",
       "      <td>2236586</td>\n",
       "      <td>3</td>\n",
       "      <td>394.6298</td>\n",
       "      <td>4119</td>\n",
       "      <td>1519</td>\n",
       "      <td>DAT</td>\n",
       "    </tr>\n",
       "    <tr>\n",
       "      <th>2727432</th>\n",
       "      <td>2250406</td>\n",
       "      <td>3</td>\n",
       "      <td>391.2821</td>\n",
       "      <td>4127</td>\n",
       "      <td>1519</td>\n",
       "      <td>DAT</td>\n",
       "    </tr>\n",
       "    <tr>\n",
       "      <th>2727451</th>\n",
       "      <td>2251889</td>\n",
       "      <td>3</td>\n",
       "      <td>372.6104</td>\n",
       "      <td>4127</td>\n",
       "      <td>1133</td>\n",
       "      <td>DAT</td>\n",
       "    </tr>\n",
       "    <tr>\n",
       "      <th>2727504</th>\n",
       "      <td>2258129</td>\n",
       "      <td>1</td>\n",
       "      <td>445.2079</td>\n",
       "      <td>4158</td>\n",
       "      <td>1206</td>\n",
       "      <td>DAT</td>\n",
       "    </tr>\n",
       "    <tr>\n",
       "      <th>2727522</th>\n",
       "      <td>2262951</td>\n",
       "      <td>2</td>\n",
       "      <td>381.6404</td>\n",
       "      <td>4162</td>\n",
       "      <td>1097</td>\n",
       "      <td>DAT</td>\n",
       "    </tr>\n",
       "    <tr>\n",
       "      <th>2727563</th>\n",
       "      <td>2276438</td>\n",
       "      <td>1</td>\n",
       "      <td>422.3443</td>\n",
       "      <td>4183</td>\n",
       "      <td>1103</td>\n",
       "      <td>DAT</td>\n",
       "    </tr>\n",
       "    <tr>\n",
       "      <th>2727571</th>\n",
       "      <td>2276619</td>\n",
       "      <td>2</td>\n",
       "      <td>361.1481</td>\n",
       "      <td>4183</td>\n",
       "      <td>1120</td>\n",
       "      <td>DAT</td>\n",
       "    </tr>\n",
       "    <tr>\n",
       "      <th>2727575</th>\n",
       "      <td>2278431</td>\n",
       "      <td>3</td>\n",
       "      <td>426.3668</td>\n",
       "      <td>4189</td>\n",
       "      <td>1219</td>\n",
       "      <td>DAT</td>\n",
       "    </tr>\n",
       "    <tr>\n",
       "      <th>2727593</th>\n",
       "      <td>2283560</td>\n",
       "      <td>1</td>\n",
       "      <td>389.0859</td>\n",
       "      <td>4193</td>\n",
       "      <td>1132</td>\n",
       "      <td>DAT</td>\n",
       "    </tr>\n",
       "    <tr>\n",
       "      <th>2727682</th>\n",
       "      <td>2352648</td>\n",
       "      <td>1</td>\n",
       "      <td>454.8185</td>\n",
       "      <td>37</td>\n",
       "      <td>1084</td>\n",
       "      <td>DAT</td>\n",
       "    </tr>\n",
       "    <tr>\n",
       "      <th>2727744</th>\n",
       "      <td>2439115</td>\n",
       "      <td>1</td>\n",
       "      <td>386.6039</td>\n",
       "      <td>5174</td>\n",
       "      <td>1218</td>\n",
       "      <td>DAT</td>\n",
       "    </tr>\n",
       "  </tbody>\n",
       "</table>\n",
       "<p>82796 rows × 6 columns</p>\n",
       "</div>"
      ],
      "text/plain": [
       "         household_id  person_id  o_depart  o_zone  d_zone mode\n",
       "2                 468          2  374.0309       1    1512  DAT\n",
       "9                 621          1  474.1747     514    1133  DAT\n",
       "27               1017          1  444.4991       5    1134  DAT\n",
       "31               1017          2  365.7167       5    1134  DAT\n",
       "47               3597          2  469.6289      16    1129  DAT\n",
       "92               6172          1  381.0441      17    1217  DAT\n",
       "96               6770          1  373.2345      17    1116  DAT\n",
       "99               6770          1  420.2014    1116     530  DAT\n",
       "102              6914          1  529.2610      17    1180  DAT\n",
       "126              8257          1  386.2789      17    1134  DAT\n",
       "149              9521          3  458.5388      18    1308  DAT\n",
       "164              9700          1  397.9725      18    1465  DAT\n",
       "220             11181          1  442.7971      19    1464  DAT\n",
       "241             12519          1  360.3130      21    1198  DAT\n",
       "280             14844          1  466.0091      22    1177  DAT\n",
       "315             16534          2  398.4503      22    1404  DAT\n",
       "342             16882          2  484.7313      22    1133  DAT\n",
       "348             16580          2  419.8923     484    1519  DAT\n",
       "462             19708          2  413.3244      60    1506  DAT\n",
       "493             24420          2  456.0509      25    1484  DAT\n",
       "501             24265          2  484.0517      25    1204  DAT\n",
       "514             26309          1  498.7351      25    1206  DAT\n",
       "565             34926          1  399.0463      34    1544  DAT\n",
       "589             35964          1  401.2927      35    1083  DAT\n",
       "630             42412          1  407.4615      38    1584  DAT\n",
       "638             42913          1  433.0429      39    1199  DAT\n",
       "642             45336          1  381.8364      40    1165  DAT\n",
       "681             47074          2  381.2911      41    1137  DAT\n",
       "687             50148          1  468.9948      41    1129  DAT\n",
       "691             50497          1  456.3779      41    1213  DAT\n",
       "...               ...        ...       ...     ...     ...  ...\n",
       "2726720       2133724          1  369.8365    4033    1297  DAT\n",
       "2726764       2138883          4  536.8254    1640    3870  DAT\n",
       "2726792       2139853          1  388.1434    4036    1292  DAT\n",
       "2726844       2142927          2  371.4009    4037    1401  DAT\n",
       "2726855       2149299          1  378.6736    4040    1137  DAT\n",
       "2726864       2153267          2  411.4336    4042    1103  DAT\n",
       "2726874       2149204          1  411.4027    4040    1109  DAT\n",
       "2726890       2165229          2  377.7675    4057    1325  DAT\n",
       "2726925       2167207          3  364.8676    4057    1324  DAT\n",
       "2726931       2167209          3  405.4531    4057    1324  DAT\n",
       "2726935       2167361          2  390.4531    4057    1324  DAT\n",
       "2727000       2185229          3  377.7549    4070    1361  DAT\n",
       "2727006       2185648          2  455.2127    4071    1204  DAT\n",
       "2727102       2196404          2  416.6214    4078    1103  DAT\n",
       "2727123       2210136          2  386.7007    4085    1104  DAT\n",
       "2727154       2222490          3  440.3156    3635    1109  DAT\n",
       "2727187       2234149          1  408.1031    4113    1186  DAT\n",
       "2727191       2234719          4  379.6298    4119    1519  DAT\n",
       "2727284       2236638          4  364.6298    4119    1519  DAT\n",
       "2727298       2236586          3  394.6298    4119    1519  DAT\n",
       "2727432       2250406          3  391.2821    4127    1519  DAT\n",
       "2727451       2251889          3  372.6104    4127    1133  DAT\n",
       "2727504       2258129          1  445.2079    4158    1206  DAT\n",
       "2727522       2262951          2  381.6404    4162    1097  DAT\n",
       "2727563       2276438          1  422.3443    4183    1103  DAT\n",
       "2727571       2276619          2  361.1481    4183    1120  DAT\n",
       "2727575       2278431          3  426.3668    4189    1219  DAT\n",
       "2727593       2283560          1  389.0859    4193    1132  DAT\n",
       "2727682       2352648          1  454.8185      37    1084  DAT\n",
       "2727744       2439115          1  386.6039    5174    1218  DAT\n",
       "\n",
       "[82796 rows x 6 columns]"
      ]
     },
     "execution_count": 19,
     "metadata": {},
     "output_type": "execute_result"
    }
   ],
   "source": [
    "durham_trips_am[durham_trips_am[\"mode\"] == \"DAT\"][[u'household_id',u'person_id',u'o_depart',\"o_zone\",\"d_zone\",\"mode\"]]"
   ]
  },
  {
   "cell_type": "code",
   "execution_count": 26,
   "metadata": {},
   "outputs": [
    {
     "data": {
      "text/plain": [
       "Index([u'household_id', u'person_id', u'trip_id', u'mode', u'o_depart',\n",
       "       u'd_arrive', u'weight', u'o_act', u'o_zone', u'd_act', u'd_zone',\n",
       "       u'weight_x', u'age', u'sex', u'license', u'transit_pass',\n",
       "       u'employment_status', u'occupation', u'free_parking', u'student_status',\n",
       "       u'work_zone', u'school_zone', u'weight_y', u'combined_act', u'pd_new_o',\n",
       "       u'pd_old_o', u'pd_tts_o', u'pd_new_d', u'pd_old_d', u'pd_tts_d',\n",
       "       u'Purpose', u'Purp2'],\n",
       "      dtype='object')"
      ]
     },
     "execution_count": 26,
     "metadata": {},
     "output_type": "execute_result"
    }
   ],
   "source": [
    "durham_trips_time.columns"
   ]
  },
  {
   "cell_type": "code",
   "execution_count": 34,
   "metadata": {},
   "outputs": [
    {
     "data": {
      "text/plain": [
       "(19376.300000000003, 27679.900000000005)"
      ]
     },
     "execution_count": 34,
     "metadata": {},
     "output_type": "execute_result"
    }
   ],
   "source": [
    "durham_trips_am[(durham_trips_am[\"mode\"] == \"DAT\")][\"weight\"].sum(),durham_trips_pm[(durham_trips_pm[\"mode\"] == \"DAT\")][\"weight\"].sum()"
   ]
  },
  {
   "cell_type": "code",
   "execution_count": 36,
   "metadata": {},
   "outputs": [],
   "source": [
    "pd.pivot_table(durham_trips_pm[(durham_trips_pm[\"mode\"] == \"DAT\")], index = \"pd_tts_o\", columns = \"pd_tts_d\", values = \"weight\", aggfunc = sum).fillna(0).to_csv(os.path.join(input_pth,\"Durham_DAT_PM.csv\"))"
   ]
  },
  {
   "cell_type": "code",
   "execution_count": 9,
   "metadata": {},
   "outputs": [
    {
     "data": {
      "text/plain": [
       "array(['Auto', 'Carpool', 'DAT', 'WAT', 'PAT', 'VFH', 'Passenger', 'PET',\n",
       "       'Walk', 'RideShare', 'Schoolbus', 'Bicycle'], dtype=object)"
      ]
     },
     "execution_count": 9,
     "metadata": {},
     "output_type": "execute_result"
    }
   ],
   "source": [
    "durham_trips_pm[\"mode\"].unique()"
   ]
  },
  {
   "cell_type": "code",
   "execution_count": 74,
   "metadata": {
    "show_input": true
   },
   "outputs": [
    {
     "data": {
      "text/plain": [
       "array(['Home-School', 'School-Home'], dtype=object)"
      ]
     },
     "execution_count": 74,
     "metadata": {},
     "output_type": "execute_result"
    }
   ],
   "source": [
    "durham_trips[durham_trips.Purpose == \"2 - HBS\"].combined_act.unique()"
   ]
  },
  {
   "cell_type": "code",
   "execution_count": 15,
   "metadata": {
    "show_input": true
   },
   "outputs": [
    {
     "data": {
      "text/plain": [
       "array(['Home', 'PrimaryWork', 'WorkBasedBusiness', 'IndividualOther',\n",
       "       'Market', 'School', 'JointOther', 'SecondaryWork', 'JointMarket'],\n",
       "      dtype=object)"
      ]
     },
     "execution_count": 15,
     "metadata": {},
     "output_type": "execute_result"
    }
   ],
   "source": [
    "durham_trips.o_act.unique()"
   ]
  },
  {
   "cell_type": "code",
   "execution_count": 130,
   "metadata": {
    "show_input": true
   },
   "outputs": [
    {
     "data": {
      "text/plain": [
       "array(['Home', 'PrimaryWork', 'Market', 'IndividualOther',\n",
       "       'WorkBasedBusiness', 'JointMarket', 'JointOther', 'School',\n",
       "       'SecondaryWork'], dtype=object)"
      ]
     },
     "execution_count": 130,
     "metadata": {},
     "output_type": "execute_result"
    }
   ],
   "source": [
    "durham_trips[durham_trips.d_act == 'Market'].o_act.unique()"
   ]
  },
  {
   "cell_type": "code",
   "execution_count": 128,
   "metadata": {
    "show_input": true
   },
   "outputs": [
    {
     "data": {
      "text/plain": [
       "211731"
      ]
     },
     "execution_count": 128,
     "metadata": {},
     "output_type": "execute_result"
    }
   ],
   "source": [
    "len(durham_trips[durham_trips.d_act == 'IndividualOther'])"
   ]
  },
  {
   "cell_type": "code",
   "execution_count": 114,
   "metadata": {
    "show_input": true
   },
   "outputs": [
    {
     "data": {
      "text/html": [
       "<div>\n",
       "<style scoped>\n",
       "    .dataframe tbody tr th:only-of-type {\n",
       "        vertical-align: middle;\n",
       "    }\n",
       "\n",
       "    .dataframe tbody tr th {\n",
       "        vertical-align: top;\n",
       "    }\n",
       "\n",
       "    .dataframe thead th {\n",
       "        text-align: right;\n",
       "    }\n",
       "</style>\n",
       "<table border=\"1\" class=\"dataframe\">\n",
       "  <thead>\n",
       "    <tr style=\"text-align: right;\">\n",
       "      <th></th>\n",
       "      <th>household_id</th>\n",
       "      <th>person_id</th>\n",
       "      <th>trip_id</th>\n",
       "      <th>o_act</th>\n",
       "      <th>o_zone</th>\n",
       "      <th>d_act</th>\n",
       "      <th>d_zone</th>\n",
       "      <th>weight_x</th>\n",
       "      <th>age</th>\n",
       "      <th>sex</th>\n",
       "      <th>...</th>\n",
       "      <th>school_zone</th>\n",
       "      <th>weight_y</th>\n",
       "      <th>combined_act</th>\n",
       "      <th>pd_new_o</th>\n",
       "      <th>pd_old_o</th>\n",
       "      <th>pd_tts_o</th>\n",
       "      <th>pd_new_d</th>\n",
       "      <th>pd_old_d</th>\n",
       "      <th>pd_tts_d</th>\n",
       "      <th>Purpose</th>\n",
       "    </tr>\n",
       "  </thead>\n",
       "  <tbody>\n",
       "    <tr>\n",
       "      <th>0</th>\n",
       "      <td>468</td>\n",
       "      <td>2</td>\n",
       "      <td>1</td>\n",
       "      <td>Home</td>\n",
       "      <td>1</td>\n",
       "      <td>PrimaryWork</td>\n",
       "      <td>1515</td>\n",
       "      <td>1</td>\n",
       "      <td>24</td>\n",
       "      <td>F</td>\n",
       "      <td>...</td>\n",
       "      <td>0</td>\n",
       "      <td>1</td>\n",
       "      <td>Home-PrimaryWork</td>\n",
       "      <td>1</td>\n",
       "      <td>1</td>\n",
       "      <td>100</td>\n",
       "      <td>23</td>\n",
       "      <td>23</td>\n",
       "      <td>12</td>\n",
       "      <td>1 - HBW</td>\n",
       "    </tr>\n",
       "    <tr>\n",
       "      <th>1</th>\n",
       "      <td>924577</td>\n",
       "      <td>1</td>\n",
       "      <td>2</td>\n",
       "      <td>PrimaryWork</td>\n",
       "      <td>1515</td>\n",
       "      <td>WorkBasedBusiness</td>\n",
       "      <td>1515</td>\n",
       "      <td>1</td>\n",
       "      <td>38</td>\n",
       "      <td>F</td>\n",
       "      <td>...</td>\n",
       "      <td>0</td>\n",
       "      <td>1</td>\n",
       "      <td>PrimaryWork-WorkBasedBusiness</td>\n",
       "      <td>23</td>\n",
       "      <td>23</td>\n",
       "      <td>12</td>\n",
       "      <td>23</td>\n",
       "      <td>23</td>\n",
       "      <td>12</td>\n",
       "      <td>3 - WBB</td>\n",
       "    </tr>\n",
       "    <tr>\n",
       "      <th>2</th>\n",
       "      <td>924577</td>\n",
       "      <td>1</td>\n",
       "      <td>3</td>\n",
       "      <td>WorkBasedBusiness</td>\n",
       "      <td>1515</td>\n",
       "      <td>PrimaryWork</td>\n",
       "      <td>1515</td>\n",
       "      <td>1</td>\n",
       "      <td>38</td>\n",
       "      <td>F</td>\n",
       "      <td>...</td>\n",
       "      <td>0</td>\n",
       "      <td>1</td>\n",
       "      <td>WorkBasedBusiness-PrimaryWork</td>\n",
       "      <td>23</td>\n",
       "      <td>23</td>\n",
       "      <td>12</td>\n",
       "      <td>23</td>\n",
       "      <td>23</td>\n",
       "      <td>12</td>\n",
       "      <td>3 - WBB</td>\n",
       "    </tr>\n",
       "    <tr>\n",
       "      <th>3</th>\n",
       "      <td>1177781</td>\n",
       "      <td>7</td>\n",
       "      <td>2</td>\n",
       "      <td>School</td>\n",
       "      <td>1515</td>\n",
       "      <td>School</td>\n",
       "      <td>1515</td>\n",
       "      <td>1</td>\n",
       "      <td>14</td>\n",
       "      <td>F</td>\n",
       "      <td>...</td>\n",
       "      <td>1515</td>\n",
       "      <td>1</td>\n",
       "      <td>School-School</td>\n",
       "      <td>23</td>\n",
       "      <td>23</td>\n",
       "      <td>12</td>\n",
       "      <td>23</td>\n",
       "      <td>23</td>\n",
       "      <td>12</td>\n",
       "      <td>6 - Remaining</td>\n",
       "    </tr>\n",
       "    <tr>\n",
       "      <th>4</th>\n",
       "      <td>1189434</td>\n",
       "      <td>3</td>\n",
       "      <td>2</td>\n",
       "      <td>PrimaryWork</td>\n",
       "      <td>1515</td>\n",
       "      <td>WorkBasedBusiness</td>\n",
       "      <td>1515</td>\n",
       "      <td>1</td>\n",
       "      <td>26</td>\n",
       "      <td>M</td>\n",
       "      <td>...</td>\n",
       "      <td>0</td>\n",
       "      <td>1</td>\n",
       "      <td>PrimaryWork-WorkBasedBusiness</td>\n",
       "      <td>23</td>\n",
       "      <td>23</td>\n",
       "      <td>12</td>\n",
       "      <td>23</td>\n",
       "      <td>23</td>\n",
       "      <td>12</td>\n",
       "      <td>3 - WBB</td>\n",
       "    </tr>\n",
       "  </tbody>\n",
       "</table>\n",
       "<p>5 rows × 27 columns</p>\n",
       "</div>"
      ],
      "text/plain": [
       "   household_id  person_id  trip_id              o_act  o_zone  \\\n",
       "0           468          2        1               Home       1   \n",
       "1        924577          1        2        PrimaryWork    1515   \n",
       "2        924577          1        3  WorkBasedBusiness    1515   \n",
       "3       1177781          7        2             School    1515   \n",
       "4       1189434          3        2        PrimaryWork    1515   \n",
       "\n",
       "               d_act  d_zone  weight_x  age sex      ...        school_zone  \\\n",
       "0        PrimaryWork    1515         1   24   F      ...                  0   \n",
       "1  WorkBasedBusiness    1515         1   38   F      ...                  0   \n",
       "2        PrimaryWork    1515         1   38   F      ...                  0   \n",
       "3             School    1515         1   14   F      ...               1515   \n",
       "4  WorkBasedBusiness    1515         1   26   M      ...                  0   \n",
       "\n",
       "   weight_y                   combined_act pd_new_o  pd_old_o pd_tts_o  \\\n",
       "0         1               Home-PrimaryWork        1         1      100   \n",
       "1         1  PrimaryWork-WorkBasedBusiness       23        23       12   \n",
       "2         1  WorkBasedBusiness-PrimaryWork       23        23       12   \n",
       "3         1                  School-School       23        23       12   \n",
       "4         1  PrimaryWork-WorkBasedBusiness       23        23       12   \n",
       "\n",
       "   pd_new_d  pd_old_d  pd_tts_d        Purpose  \n",
       "0        23        23        12        1 - HBW  \n",
       "1        23        23        12        3 - WBB  \n",
       "2        23        23        12        3 - WBB  \n",
       "3        23        23        12  6 - Remaining  \n",
       "4        23        23        12        3 - WBB  \n",
       "\n",
       "[5 rows x 27 columns]"
      ]
     },
     "execution_count": 114,
     "metadata": {},
     "output_type": "execute_result"
    }
   ],
   "source": [
    "durham_trips.head()"
   ]
  },
  {
   "cell_type": "code",
   "execution_count": null,
   "metadata": {
    "show_input": true
   },
   "outputs": [],
   "source": [
    "durham_trips[]"
   ]
  },
  {
   "cell_type": "code",
   "execution_count": 20,
   "metadata": {
    "show_input": true
   },
   "outputs": [
    {
     "data": {
      "text/plain": [
       "array(['PrimaryWork-ReturnFromWork', 'IndividualOther-ReturnFromWork',\n",
       "       'Market-ReturnFromWork', 'School-ReturnFromWork'], dtype=object)"
      ]
     },
     "execution_count": 20,
     "metadata": {},
     "output_type": "execute_result"
    }
   ],
   "source": [
    "durham_trips[durham_trips.d_act == \"ReturnFromWork\"][\"combined_act\"].unique()"
   ]
  },
  {
   "cell_type": "code",
   "execution_count": 7,
   "metadata": {
    "show_input": true
   },
   "outputs": [],
   "source": [
    "tripmode_df = pd.read_csv(os.path.join(microsim_path,\"trip_modes.csv\"))"
   ]
  },
  {
   "cell_type": "code",
   "execution_count": 8,
   "metadata": {
    "show_input": true
   },
   "outputs": [
    {
     "data": {
      "text/html": [
       "<div>\n",
       "<style scoped>\n",
       "    .dataframe tbody tr th:only-of-type {\n",
       "        vertical-align: middle;\n",
       "    }\n",
       "\n",
       "    .dataframe tbody tr th {\n",
       "        vertical-align: top;\n",
       "    }\n",
       "\n",
       "    .dataframe thead th {\n",
       "        text-align: right;\n",
       "    }\n",
       "</style>\n",
       "<table border=\"1\" class=\"dataframe\">\n",
       "  <thead>\n",
       "    <tr style=\"text-align: right;\">\n",
       "      <th></th>\n",
       "      <th>household_id</th>\n",
       "      <th>person_id</th>\n",
       "      <th>trip_id</th>\n",
       "      <th>mode</th>\n",
       "      <th>o_depart</th>\n",
       "      <th>d_arrive</th>\n",
       "      <th>weight</th>\n",
       "    </tr>\n",
       "  </thead>\n",
       "  <tbody>\n",
       "    <tr>\n",
       "      <th>0</th>\n",
       "      <td>6</td>\n",
       "      <td>1</td>\n",
       "      <td>1</td>\n",
       "      <td>Auto</td>\n",
       "      <td>512.9304</td>\n",
       "      <td>540.0000</td>\n",
       "      <td>6</td>\n",
       "    </tr>\n",
       "    <tr>\n",
       "      <th>1</th>\n",
       "      <td>1</td>\n",
       "      <td>1</td>\n",
       "      <td>1</td>\n",
       "      <td>Auto</td>\n",
       "      <td>729.0034</td>\n",
       "      <td>735.0000</td>\n",
       "      <td>8</td>\n",
       "    </tr>\n",
       "    <tr>\n",
       "      <th>2</th>\n",
       "      <td>1</td>\n",
       "      <td>1</td>\n",
       "      <td>1</td>\n",
       "      <td>WAT</td>\n",
       "      <td>707.6055</td>\n",
       "      <td>735.0000</td>\n",
       "      <td>2</td>\n",
       "    </tr>\n",
       "    <tr>\n",
       "      <th>3</th>\n",
       "      <td>1</td>\n",
       "      <td>1</td>\n",
       "      <td>2</td>\n",
       "      <td>Auto</td>\n",
       "      <td>990.0000</td>\n",
       "      <td>998.3496</td>\n",
       "      <td>8</td>\n",
       "    </tr>\n",
       "    <tr>\n",
       "      <th>4</th>\n",
       "      <td>1</td>\n",
       "      <td>1</td>\n",
       "      <td>2</td>\n",
       "      <td>WAT</td>\n",
       "      <td>990.0000</td>\n",
       "      <td>1024.1150</td>\n",
       "      <td>1</td>\n",
       "    </tr>\n",
       "  </tbody>\n",
       "</table>\n",
       "</div>"
      ],
      "text/plain": [
       "   household_id  person_id  trip_id  mode  o_depart   d_arrive  weight\n",
       "0             6          1        1  Auto  512.9304   540.0000       6\n",
       "1             1          1        1  Auto  729.0034   735.0000       8\n",
       "2             1          1        1   WAT  707.6055   735.0000       2\n",
       "3             1          1        2  Auto  990.0000   998.3496       8\n",
       "4             1          1        2   WAT  990.0000  1024.1150       1"
      ]
     },
     "execution_count": 8,
     "metadata": {},
     "output_type": "execute_result"
    }
   ],
   "source": [
    "tripmode_df.head()"
   ]
  },
  {
   "cell_type": "markdown",
   "metadata": {},
   "source": [
    "# XML Edits HERE"
   ]
  },
  {
   "cell_type": "code",
   "execution_count": 26,
   "metadata": {
    "show_input": true
   },
   "outputs": [],
   "source": [
    "import xml.etree.ElementTree as ET"
   ]
  },
  {
   "cell_type": "code",
   "execution_count": 27,
   "metadata": {},
   "outputs": [],
   "source": [
    "model_syst_pth = os.path.join(input_pth,\"Python Model Systems\")"
   ]
  },
  {
   "cell_type": "code",
   "execution_count": 105,
   "metadata": {},
   "outputs": [],
   "source": [
    "constant_df = pd.read_csv(os.path.join(model_syst_pth,\"durham_msconstants_spatialrun46.csv\"))"
   ]
  },
  {
   "cell_type": "code",
   "execution_count": 106,
   "metadata": {},
   "outputs": [],
   "source": [
    "constant_df[\"OD\"] = constant_df[\"O_PD\"].map(str) + \":\" + constant_df[\"D_PD\"].map(str)"
   ]
  },
  {
   "cell_type": "code",
   "execution_count": 107,
   "metadata": {},
   "outputs": [
    {
     "data": {
      "text/html": [
       "<div>\n",
       "<style scoped>\n",
       "    .dataframe tbody tr th:only-of-type {\n",
       "        vertical-align: middle;\n",
       "    }\n",
       "\n",
       "    .dataframe tbody tr th {\n",
       "        vertical-align: top;\n",
       "    }\n",
       "\n",
       "    .dataframe thead th {\n",
       "        text-align: right;\n",
       "    }\n",
       "</style>\n",
       "<table border=\"1\" class=\"dataframe\">\n",
       "  <thead>\n",
       "    <tr style=\"text-align: right;\">\n",
       "      <th></th>\n",
       "      <th>Mode</th>\n",
       "      <th>TP</th>\n",
       "      <th>O_PD</th>\n",
       "      <th>D_PD</th>\n",
       "      <th>Constant</th>\n",
       "      <th>OD</th>\n",
       "    </tr>\n",
       "  </thead>\n",
       "  <tbody>\n",
       "    <tr>\n",
       "      <th>0</th>\n",
       "      <td>Bicycle</td>\n",
       "      <td>AM</td>\n",
       "      <td>21</td>\n",
       "      <td>21</td>\n",
       "      <td>-8.0</td>\n",
       "      <td>21:21</td>\n",
       "    </tr>\n",
       "    <tr>\n",
       "      <th>1</th>\n",
       "      <td>Carpool</td>\n",
       "      <td>AM</td>\n",
       "      <td>21</td>\n",
       "      <td>21</td>\n",
       "      <td>-12.0</td>\n",
       "      <td>21:21</td>\n",
       "    </tr>\n",
       "    <tr>\n",
       "      <th>2</th>\n",
       "      <td>Schoolbus</td>\n",
       "      <td>AM</td>\n",
       "      <td>21</td>\n",
       "      <td>21</td>\n",
       "      <td>-10.0</td>\n",
       "      <td>21:21</td>\n",
       "    </tr>\n",
       "    <tr>\n",
       "      <th>3</th>\n",
       "      <td>VFH</td>\n",
       "      <td>AM</td>\n",
       "      <td>21</td>\n",
       "      <td>21</td>\n",
       "      <td>-12.0</td>\n",
       "      <td>21:21</td>\n",
       "    </tr>\n",
       "    <tr>\n",
       "      <th>4</th>\n",
       "      <td>Walk</td>\n",
       "      <td>AM</td>\n",
       "      <td>21</td>\n",
       "      <td>21</td>\n",
       "      <td>-8.0</td>\n",
       "      <td>21:21</td>\n",
       "    </tr>\n",
       "  </tbody>\n",
       "</table>\n",
       "</div>"
      ],
      "text/plain": [
       "        Mode  TP O_PD D_PD  Constant     OD\n",
       "0    Bicycle  AM   21   21      -8.0  21:21\n",
       "1    Carpool  AM   21   21     -12.0  21:21\n",
       "2  Schoolbus  AM   21   21     -10.0  21:21\n",
       "3        VFH  AM   21   21     -12.0  21:21\n",
       "4       Walk  AM   21   21      -8.0  21:21"
      ]
     },
     "execution_count": 107,
     "metadata": {},
     "output_type": "execute_result"
    }
   ],
   "source": [
    "constant_df.head()"
   ]
  },
  {
   "cell_type": "code",
   "execution_count": 108,
   "metadata": {},
   "outputs": [],
   "source": [
    "xml_fle = os.path.join(model_syst_pth,\"Durham_Calibration_SpatialRun35_FixedPM_20210318.xml\")\n",
    "tree = ET.parse(xml_fle)\n",
    "root = tree.getroot()\n",
    "model = root[1]\n",
    "otherModes = model[6]"
   ]
  },
  {
   "cell_type": "code",
   "execution_count": 109,
   "metadata": {},
   "outputs": [],
   "source": [
    "for index, row in constant_df.iterrows():\n",
    "    mode = row.Mode\n",
    "    tp = row.TP\n",
    "    od = row.OD\n",
    "    const = row.Constant\n",
    "    match = False\n",
    "    for child in otherModes:\n",
    "        curr_mode = child.attrib[\"Name\"]\n",
    "        if curr_mode == mode:\n",
    "            mode_tree = child\n",
    "            match = True\n",
    "    if not match:\n",
    "        print(\"No match found for {}\".format(mode))\n",
    "    else:\n",
    "        match = False\n",
    "        for child in mode_tree:\n",
    "            if \"Name\" in child.attrib.keys():\n",
    "                if child.attrib[\"Name\"] == 'Time Period Constants':\n",
    "                    tp_tree = child\n",
    "                    match = True\n",
    "        if not match:\n",
    "            print(\"No time period constants for {}\".format(mode))\n",
    "        else:\n",
    "            match = False\n",
    "            for child in tp_tree:\n",
    "                if \"Name\" in child.attrib.keys():\n",
    "                    if child.attrib[\"Name\"] == tp:\n",
    "                        this_tp_tree = child[1]\n",
    "                        match = True\n",
    "            if not match:\n",
    "                print(\"Time period {0} does not exist for mode {1}\".format(tp,mode))\n",
    "            else:\n",
    "                match = False\n",
    "                for child in this_tp_tree:\n",
    "                    if \"Name\" in child.attrib.keys():\n",
    "                        if child.attrib[\"Name\"] == od:\n",
    "                            match = True\n",
    "                            const_tree = child\n",
    "                if not match:\n",
    "                    print(\"OD {0} not present for tp {1} mode {2}\".format(od,tp,mode))\n",
    "                else:\n",
    "                    match = False\n",
    "                    params = const_tree[0]\n",
    "                    for child in params:\n",
    "                        if child.attrib[\"Name\"] == \"Constant\":\n",
    "                            param = child\n",
    "                            match = True\n",
    "                    if not match:\n",
    "                        print(\"Constant attribute not present for od {0} tp {1} mode {2}\".format(od,tp,mode))\n",
    "                    else:\n",
    "                        param.attrib[\"Value\"] = str(const)\n",
    "                "
   ]
  },
  {
   "cell_type": "code",
   "execution_count": 110,
   "metadata": {},
   "outputs": [],
   "source": [
    "tree.write(os.path.join(model_syst_pth,\"Durham_Calibration_SpatialRun46_20210323.xml\"))"
   ]
  },
  {
   "cell_type": "code",
   "execution_count": 100,
   "metadata": {},
   "outputs": [],
   "source": [
    "gen_const_df = pd.read_csv(os.path.join(model_syst_pth,\"durham_msconstants_genrun9.csv\"))"
   ]
  },
  {
   "cell_type": "code",
   "execution_count": 102,
   "metadata": {},
   "outputs": [
    {
     "data": {
      "text/html": [
       "<div>\n",
       "<style scoped>\n",
       "    .dataframe tbody tr th:only-of-type {\n",
       "        vertical-align: middle;\n",
       "    }\n",
       "\n",
       "    .dataframe tbody tr th {\n",
       "        vertical-align: top;\n",
       "    }\n",
       "\n",
       "    .dataframe thead th {\n",
       "        text-align: right;\n",
       "    }\n",
       "</style>\n",
       "<table border=\"1\" class=\"dataframe\">\n",
       "  <thead>\n",
       "    <tr style=\"text-align: right;\">\n",
       "      <th></th>\n",
       "      <th>Mode</th>\n",
       "      <th>Const_Name</th>\n",
       "      <th>Const</th>\n",
       "    </tr>\n",
       "  </thead>\n",
       "  <tbody>\n",
       "    <tr>\n",
       "      <th>0</th>\n",
       "      <td>WAT</td>\n",
       "      <td>GeneralConstant</td>\n",
       "      <td>0.979962</td>\n",
       "    </tr>\n",
       "    <tr>\n",
       "      <th>1</th>\n",
       "      <td>WAT</td>\n",
       "      <td>ManufacturingConstant</td>\n",
       "      <td>-1.997008</td>\n",
       "    </tr>\n",
       "    <tr>\n",
       "      <th>2</th>\n",
       "      <td>WAT</td>\n",
       "      <td>NonWorkerStudentConstant</td>\n",
       "      <td>-1.410627</td>\n",
       "    </tr>\n",
       "    <tr>\n",
       "      <th>3</th>\n",
       "      <td>WAT</td>\n",
       "      <td>ProfessionalConstant</td>\n",
       "      <td>-1.769111</td>\n",
       "    </tr>\n",
       "    <tr>\n",
       "      <th>4</th>\n",
       "      <td>WAT</td>\n",
       "      <td>SalesConstant</td>\n",
       "      <td>-1.823318</td>\n",
       "    </tr>\n",
       "  </tbody>\n",
       "</table>\n",
       "</div>"
      ],
      "text/plain": [
       "  Mode                Const_Name     Const\n",
       "0  WAT           GeneralConstant  0.979962\n",
       "1  WAT     ManufacturingConstant -1.997008\n",
       "2  WAT  NonWorkerStudentConstant -1.410627\n",
       "3  WAT      ProfessionalConstant -1.769111\n",
       "4  WAT             SalesConstant -1.823318"
      ]
     },
     "execution_count": 102,
     "metadata": {},
     "output_type": "execute_result"
    }
   ],
   "source": [
    "gen_const_df.head()"
   ]
  },
  {
   "cell_type": "code",
   "execution_count": 103,
   "metadata": {},
   "outputs": [],
   "source": [
    "xml_fle = os.path.join(model_syst_pth,\"Durham_Calibration_SpatialRun9_20210308.xml\")\n",
    "tree = ET.parse(xml_fle)\n",
    "root = tree.getroot()\n",
    "model = root[1]\n",
    "otherModes = model[6]"
   ]
  },
  {
   "cell_type": "code",
   "execution_count": 105,
   "metadata": {},
   "outputs": [],
   "source": [
    "for index, row in gen_const_df.iterrows():\n",
    "    mode = row.Mode\n",
    "    const_name = row.Const_Name\n",
    "    const = row.Const\n",
    "    for child in otherModes:\n",
    "        curr_mode = child.attrib[\"Name\"]\n",
    "        if curr_mode == mode:\n",
    "            params = child[0]\n",
    "    for child in params:\n",
    "        if child.attrib[\"Name\"] == const_name:\n",
    "            child.attrib[\"Value\"] = str(const)"
   ]
  },
  {
   "cell_type": "code",
   "execution_count": 106,
   "metadata": {},
   "outputs": [],
   "source": [
    "tree.write(os.path.join(model_syst_pth,\"Durham_Calibration_GeneralRun9_20210309.xml\"))"
   ]
  },
  {
   "cell_type": "code",
   "execution_count": 153,
   "metadata": {},
   "outputs": [],
   "source": [
    "params = const_tree[0]"
   ]
  },
  {
   "cell_type": "code",
   "execution_count": 154,
   "metadata": {},
   "outputs": [
    {
     "name": "stdout",
     "output_type": "stream",
     "text": [
      "Param  -  {'Name': 'Origins', 'TIndex': '0', 'Value': '20'}\n",
      "Param  -  {'Name': 'Destinations', 'TIndex': '0', 'Value': '2-16,25-46'}\n",
      "Param  -  {'Name': 'Constant', 'TIndex': '18', 'Value': '-1'}\n"
     ]
    }
   ],
   "source": [
    "for child in params:\n",
    "    print(child.tag,\" - \" ,child.attrib)"
   ]
  },
  {
   "cell_type": "code",
   "execution_count": 137,
   "metadata": {},
   "outputs": [
    {
     "data": {
      "text/plain": [
       "Index(['Mode', 'TP', 'O_PD', 'D_PD', 'Constant', 'OD'], dtype='object')"
      ]
     },
     "execution_count": 137,
     "metadata": {},
     "output_type": "execute_result"
    }
   ],
   "source": [
    "constant_df.columns"
   ]
  },
  {
   "cell_type": "code",
   "execution_count": 116,
   "metadata": {},
   "outputs": [],
   "source": [
    "carpool = otherModes[0]"
   ]
  },
  {
   "cell_type": "code",
   "execution_count": 117,
   "metadata": {},
   "outputs": [
    {
     "name": "stdout",
     "output_type": "stream",
     "text": [
      "Parameters  -  {}\n",
      "Collection  -  {'ParentTIndex': '115', 'ParentFieldName': 'TimePeriodConstants', 'Name': 'Time Period Constants'}\n"
     ]
    }
   ],
   "source": [
    "for child in carpool:\n",
    "    print(child.tag,\" - \" ,child.attrib)"
   ]
  },
  {
   "cell_type": "code",
   "execution_count": 118,
   "metadata": {},
   "outputs": [
    {
     "data": {
      "text/plain": [
       "<Element 'Collection' at 0x000001D2E10B39F8>"
      ]
     },
     "execution_count": 118,
     "metadata": {},
     "output_type": "execute_result"
    }
   ],
   "source": [
    "carpool[1]"
   ]
  },
  {
   "cell_type": "code",
   "execution_count": 141,
   "metadata": {},
   "outputs": [
    {
     "name": "stdout",
     "output_type": "stream",
     "text": [
      "Module  -  {'Name': 'AM', 'TIndex': '114', 'ParentTIndex': '114', 'ParentFieldName': 'TimePeriodConstants'}\n"
     ]
    }
   ],
   "source": [
    "for child in carpool[1]:\n",
    "    print(child.tag,\" - \" ,child.attrib)"
   ]
  },
  {
   "cell_type": "code",
   "execution_count": 143,
   "metadata": {},
   "outputs": [
    {
     "name": "stdout",
     "output_type": "stream",
     "text": [
      "Module  -  {'Name': '20:21,22,23,242', 'TIndex': '112', 'ParentTIndex': '112', 'ParentFieldName': 'SpatialConstants'}\n",
      "Module  -  {'Name': '21:20,22,23,242', 'TIndex': '112', 'ParentTIndex': '112', 'ParentFieldName': 'SpatialConstants'}\n",
      "Module  -  {'Name': '22:20,21,23,242', 'TIndex': '112', 'ParentTIndex': '112', 'ParentFieldName': 'SpatialConstants'}\n",
      "Module  -  {'Name': '23:20,21,22,242', 'TIndex': '112', 'ParentTIndex': '112', 'ParentFieldName': 'SpatialConstants'}\n",
      "Module  -  {'Name': '20:2-16,25-46', 'TIndex': '112', 'ParentTIndex': '112', 'ParentFieldName': 'SpatialConstants'}\n",
      "Module  -  {'Name': '21:2-16,25-46', 'TIndex': '112', 'ParentTIndex': '112', 'ParentFieldName': 'SpatialConstants'}\n"
     ]
    }
   ],
   "source": [
    "for child in carpool[1][0][1]:\n",
    "     print(child.tag,\" - \" ,child.attrib)"
   ]
  },
  {
   "cell_type": "code",
   "execution_count": 88,
   "metadata": {},
   "outputs": [],
   "source": [
    "walk = otherModes[2]"
   ]
  },
  {
   "cell_type": "code",
   "execution_count": 89,
   "metadata": {},
   "outputs": [
    {
     "name": "stdout",
     "output_type": "stream",
     "text": [
      "Parameters  -  {}\n",
      "Module  -  {'Name': 'Custom Distances', 'Description': \"A custom set of distances(m) if the paths differ from the zone system's distance matrix\", 'TIndex': '-1', 'ParentTIndex': '227', 'ParentFieldName': 'CustomDistances'}\n",
      "Collection  -  {'ParentTIndex': '115', 'ParentFieldName': 'TimePeriodConstants', 'Name': 'Time Period Constants'}\n",
      "Module  -  {'Name': 'Zonal Destination Utility', 'Description': 'An optional utility modification when traveling to the given zone.', 'TIndex': '-1', 'ParentTIndex': '226', 'ParentFieldName': 'ZonalDestinationUtility'}\n"
     ]
    }
   ],
   "source": [
    "for child in walk:\n",
    "    print(child.tag,\" - \" ,child.attrib)"
   ]
  },
  {
   "cell_type": "code",
   "execution_count": 103,
   "metadata": {},
   "outputs": [],
   "source": [
    "tp_consts = walk[3]"
   ]
  },
  {
   "cell_type": "code",
   "execution_count": 105,
   "metadata": {},
   "outputs": [
    {
     "name": "stdout",
     "output_type": "stream",
     "text": [
      "Parameters  -  {}\n"
     ]
    }
   ],
   "source": [
    "for child in tp_consts:\n",
    "    print(child.tag,\" - \" ,child.attrib)"
   ]
  }
 ],
 "metadata": {
  "kernelspec": {
   "display_name": "Python 3.8.5 ('base')",
   "language": "python",
   "name": "python3"
  },
  "language_info": {
   "codemirror_mode": {
    "name": "ipython",
    "version": 3
   },
   "file_extension": ".py",
   "mimetype": "text/x-python",
   "name": "python",
   "nbconvert_exporter": "python",
   "pygments_lexer": "ipython3",
   "version": "3.8.5"
  },
  "modeller": {
   "desktop_app_port": "4242"
  },
  "vscode": {
   "interpreter": {
    "hash": "2821fd8ac360e56d292a0a45de8e3f73525e9c94d5d778738ededf6165b37854"
   }
  }
 },
 "nbformat": 4,
 "nbformat_minor": 2
}
