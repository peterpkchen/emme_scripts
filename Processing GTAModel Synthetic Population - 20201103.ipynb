{
 "cells": [
  {
   "cell_type": "code",
   "execution_count": 1,
   "metadata": {},
   "outputs": [],
   "source": [
    "import os\n",
    "import pandas as pd\n",
    "import numpy as np"
   ]
  },
  {
   "cell_type": "code",
   "execution_count": 2,
   "metadata": {},
   "outputs": [],
   "source": [
    "#Change all of these variable names and the rest should work itself out\n",
    "pth = r\"C:\\Users\\pechen\\OneDrive - HDR, Inc\\Documents\\V4Input\\Scenario-Population\\2016\\Synthetic\"\n",
    "outputPth = r\"C:\\Users\\pechen\\OneDrive - HDR, Inc\\Documents\\Demand and LU Comparisons\\2016 New Model Land Use\"\n",
    "output_flename = r\"407_2016LU_20220504.csv\""
   ]
  },
  {
   "cell_type": "code",
   "execution_count": 3,
   "metadata": {},
   "outputs": [],
   "source": [
    "pop_df = pd.read_csv(os.path.join(pth,\"HouseholdData\",\"Persons.csv\"))"
   ]
  },
  {
   "cell_type": "code",
   "execution_count": 4,
   "metadata": {},
   "outputs": [],
   "source": [
    "household_df = pd.read_csv(os.path.join(pth,\"HouseholdData\",\"Households.csv\"))"
   ]
  },
  {
   "cell_type": "code",
   "execution_count": 5,
   "metadata": {},
   "outputs": [],
   "source": [
    "# zone_mapping = pd.read_csv(os.path.join(outputPth,\"GTA06Zones_MunicipalityMapping.csv\"))"
   ]
  },
  {
   "cell_type": "code",
   "execution_count": 6,
   "metadata": {},
   "outputs": [],
   "source": [
    "pop_df = pop_df.merge(household_df[[\"HouseholdId\",\"HouseholdZone\"]], left_on = \"HouseholdId\", right_on = \"HouseholdId\")\n",
    "# pop_df = pop_df.merge(zone_mapping,left_on=\"HouseholdZone\", right_on = \"GTA06\")"
   ]
  },
  {
   "cell_type": "code",
   "execution_count": 7,
   "metadata": {},
   "outputs": [],
   "source": [
    "# age_check = pd.pivot_table(pop_df,columns = \"Age\", values = \"ExpansionFactor\",index = \"Mun_NAME\", aggfunc = sum).fillna(0)"
   ]
  },
  {
   "cell_type": "code",
   "execution_count": 8,
   "metadata": {},
   "outputs": [],
   "source": [
    "# age_check.to_csv(os.path.join(outputPth, \"pop_age_municipality.csv\"))"
   ]
  },
  {
   "cell_type": "code",
   "execution_count": 9,
   "metadata": {},
   "outputs": [],
   "source": [
    "pop = pd.pivot_table(pop_df,index = \"HouseholdZone\", values = \"ExpansionFactor\", aggfunc = sum)"
   ]
  },
  {
   "cell_type": "code",
   "execution_count": 10,
   "metadata": {},
   "outputs": [],
   "source": [
    "emp = pd.pivot_table(pop_df,index = \"EmploymentZone\", values = \"ExpansionFactor\", aggfunc = sum)"
   ]
  },
  {
   "cell_type": "code",
   "execution_count": 11,
   "metadata": {},
   "outputs": [],
   "source": [
    "pop = pop.reset_index().rename(columns = {\"HouseholdZone\": \"TAZ\",\"ExpansionFactor\": \"Population\"})"
   ]
  },
  {
   "cell_type": "code",
   "execution_count": 12,
   "metadata": {},
   "outputs": [],
   "source": [
    "emp = emp.reset_index().rename(columns = {\"EmploymentZone\": \"TAZ\",\"ExpansionFactor\": \"Employment\"})"
   ]
  },
  {
   "cell_type": "code",
   "execution_count": 13,
   "metadata": {},
   "outputs": [],
   "source": [
    "pop.merge(emp,how = \"outer\", left_on = \"TAZ\", right_on = \"TAZ\").fillna(0).sort_values(\"TAZ\").to_csv(os.path.join(outputPth, output_flename))"
   ]
  }
 ],
 "metadata": {
  "kernelspec": {
   "display_name": "Python 3",
   "language": "python",
   "name": "python3"
  },
  "language_info": {
   "codemirror_mode": {
    "name": "ipython",
    "version": 3
   },
   "file_extension": ".py",
   "mimetype": "text/x-python",
   "name": "python",
   "nbconvert_exporter": "python",
   "pygments_lexer": "ipython3",
   "version": "3.7.10"
  }
 },
 "nbformat": 4,
 "nbformat_minor": 2
}
