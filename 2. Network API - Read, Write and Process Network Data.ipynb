{
 "cells": [
  {
   "cell_type": "markdown",
   "metadata": {},
   "source": [
    "<div>\n",
    "  <div>\n",
    "    Emme Notebook and Scripting Course, August 2019 <br>\n",
    "  </div>\n",
    "  <div>\n",
    "    <img style=\"align: left; margin: 15px 15px 15px 0px;\" src=\"./INRO Logo.png\" width=\"120\" />\n",
    "  </div>\n",
    "  <div>\n",
    "    Â© Copyright 2019 INRO\n",
    "  </div>\n",
    "</div>"
   ]
  },
  {
   "cell_type": "markdown",
   "metadata": {
    "show_input": true
   },
   "source": [
    "# 2. Network API - Read, Write and Process Network Data\n",
    "\n",
    "This class will guide you through how to read, manipulate and publish Emme network data using the Emme Network API. We will learn to write scripts using the Network API to create, modify or delete modes, transit vehicles, nodes, links, turns, transit lines and transit segments. Accessing network data through the Network API also allows you to implement more complex calculations that could not be done in one step in the Network Calculator. For a full description of the Emme Network API modules, methods and classes, refer to the Emme API Reference.\n",
    "\n",
    "__Suggested Duration__: 2 hours"
   ]
  },
  {
   "cell_type": "markdown",
   "metadata": {},
   "source": [
    "## 2.1 Contents\n",
    "\n",
    "<a href=\"#2.1-Contents\">2.1 Contents</a>\n",
    "\n",
    "<a href=\"#2.2-Iterating-through-network-elements\">2.2 Iterating through network elements</a>\n",
    "\n",
    "<a href=\"#2.3-Accessing-network-elements\">2.3 Accessing network elements</a>\n",
    "\n",
    "<a href=\"#2.4-Creating-network-elements\">2.4 Creating network elements</a>\n",
    "\n",
    "<a href=\"#2.5-Deleting-network-elements\">2.5 Deleting network elements</a>\n",
    "\n",
    "<a href=\"#2.6-Accessing-and-modifying-standard-attributes,-result-attributes,-extra-attributes-and-network-fields\">2.6 Accessing and modifying standard attributes, result-attributes, extra-attributes and network fields</a>\n",
    "\n",
    "<a href=\"#2.7-Publishing-network-modifications\">2.7 Publishing network modifications</a>\n",
    "\n",
    "<a href=\"#2.8-Creating-new-extra-attributes-and-network-fields\">2.8 Creating new extra-attributes and network fields</a>\n",
    "\n",
    "<a href=\"#2.9-PRACTICE:-Network-API\">2.9 PRACTICE: Network API</a>\n",
    "\n",
    "<a href=\"#2.10-Additional-Example---Express-transit-lines\">2.10 Additional Example - Express transit lines</a>\n",
    "\n",
    "<a href=\"#2.11-Quick-copy-of-attribute-values-from-scenario/network-to-scenario/network\">2.11 Quick copy of attribute values from scenario/network to scenario/network</a>\n",
    "\n",
    "<a href=\"#2.12-Shortest-path-calculation\">2.12 Shortest path calculation</a>\n",
    "\n",
    "<a href=\"#2.13-Additional-Example---Display-shortest-path-calculation-results\">2.13 Additional Example - Display shortest path calculation results</a>\n",
    "\n",
    "<a href=\"#2.14-Speeding-up-network-data-processing-with-get_partial_network\">2.14 Speeding up network data processing with get_partial_network</a>\n",
    "\n",
    "\n"
   ]
  },
  {
   "cell_type": "markdown",
   "metadata": {},
   "source": [
    "Emme Network APIs are available on the <code><b>Network</b></code> object. The __`Network`__ object is an instance of the class <code><b>inro.emme.network.Network</b></code> which can be constructed from an existing scenario using the __`scenario.get_network()`__ method; where __`scenario`__ is an instance of class <code><b>inro.emme.database.scenario.Scenario</b></code>. In this example we will construct a network object from scenario 3001. "
   ]
  },
  {
   "cell_type": "code",
   "execution_count": null,
   "metadata": {
    "show_input": true
   },
   "outputs": [],
   "source": [
    "import inro.modeller as _m\n",
    "modeller = _m.Modeller()\n",
    "\n",
    "emmebank = modeller.emmebank\n",
    "scenario_3001 = emmebank.scenario(3001)"
   ]
  },
  {
   "cell_type": "code",
   "execution_count": null,
   "metadata": {
    "show_input": true
   },
   "outputs": [],
   "source": [
    "# the network is copied from the scenario\n",
    "network_3001 = scenario_3001.get_network()"
   ]
  },
  {
   "cell_type": "markdown",
   "metadata": {},
   "source": [
    "## 2.2 Iterating through network elements\n",
    "\n",
    "From the <code><b>Network</b></code> object it is possible to access network elements using iterators. For example, the <code>network<b>.links()</b></code> iterator returns all the <code><b>inro.emme.network.link.Link</b></code> objects from the network. All the iterators available are:\n",
    "\n",
    "- `network.modes()`\n",
    "- `network.nodes()` - iterates over all regular nodes and centroids\n",
    "- `network.regular_nodes()` - iterates over all non-centroids\n",
    "- `network.centroids()` - iterates over all centroids\n",
    "- `network.links()`\n",
    "- `network.turns()`\n",
    "- `network.transit_lines()`\n",
    "- `network.transit_segments()`\n",
    "- `network.transit_vehicles()`\n"
   ]
  },
  {
   "cell_type": "code",
   "execution_count": null,
   "metadata": {
    "scrolled": true,
    "show_input": true
   },
   "outputs": [],
   "source": [
    "# Print out some attributes of the network nodes:\n",
    "for node in network_3001.nodes():\n",
    "    node_id = node.number\n",
    "    if node_id < 5:\n",
    "        print 'node', node.number\n",
    "        print 'is_centroid', node.is_centroid\n",
    "        print 'is_intersection', node.is_intersection\n",
    "        print 'coordinates', node.x, node.y\n",
    "        print 'initial_boardings', node.initial_boardings\n",
    "        print 'final_alightings', node.final_alightings"
   ]
  },
  {
   "cell_type": "code",
   "execution_count": null,
   "metadata": {
    "show_input": true
   },
   "outputs": [],
   "source": [
    "# Print out some attributes of link and link related nodes\n",
    "count = 0\n",
    "for link in network_3001.links():\n",
    "    print link, link.modes, link.i_node, link.i_node.x, link.i_node.y, link.j_node\n",
    "    count += 1\n",
    "    if count >= 5:\n",
    "        break"
   ]
  },
  {
   "cell_type": "code",
   "execution_count": null,
   "metadata": {
    "show_input": true
   },
   "outputs": [],
   "source": [
    "# list and print out some transit vehicle attributes\n",
    "for transit_vehicle in network_3001.transit_vehicles():\n",
    "    print transit_vehicle, transit_vehicle.description"
   ]
  },
  {
   "cell_type": "markdown",
   "metadata": {},
   "source": [
    "## 2.3 Accessing network elements\n",
    "Specific network elements can be accessed through their  identifiers:\n",
    "\n",
    "- `network.mode(id)`\n",
    "- `network.node(id)`\n",
    "- `network.link(i_node_id, j_node_id)`\n",
    "- `network.turn(i_node_id, j_node_id, k_node_id)`\n",
    "- `network.transit_line(id)`\n",
    "- `network.transit_vehicle(id)`"
   ]
  },
  {
   "cell_type": "code",
   "execution_count": null,
   "metadata": {
    "show_input": true
   },
   "outputs": [],
   "source": [
    "# Access node 1054 and print out its information\n",
    "node_1054 = network_3001.node(1054)\n",
    "print node_1054, node_1054.is_centroid, node_1054.is_intersection"
   ]
  },
  {
   "cell_type": "code",
   "execution_count": null,
   "metadata": {
    "scrolled": false,
    "show_input": true
   },
   "outputs": [],
   "source": [
    "# Access transit line 15ae and print its segments with their transit volumes\n",
    "transit_line_15ae = network_3001.transit_line('15ae')\n",
    "for segment in transit_line_15ae.segments(include_hidden=True):\n",
    "    print segment, segment.transit_volume"
   ]
  },
  {
   "cell_type": "code",
   "execution_count": null,
   "metadata": {
    "show_input": true
   },
   "outputs": [],
   "source": [
    "# Identifying the link with the highest auto volume\n",
    "max_volume_link = None\n",
    "\n",
    "for link in network_3001.links():\n",
    "    if max_volume_link is None:\n",
    "        max_volume_link = link\n",
    "    elif max_volume_link.auto_volume < link.auto_volume:\n",
    "        max_volume_link = link\n",
    "max_volume_link"
   ]
  },
  {
   "cell_type": "markdown",
   "metadata": {},
   "source": [
    "## 2.4 Creating network elements\n",
    "Network elements can be created using one of the following functions\n",
    "\n",
    "- `network.create_mode(type, id)`\n",
    "- `network.create_node(id, is_centroid)`\n",
    "- `network.create_link(i_node_id, j_node_id)`\n",
    "- `network.create_intersection(id)`\n",
    "- `network.create_transit_vehicle(id, mode_id)`\n",
    "- `network.create_transit_line(id, transit_vehicle_id, itinerary)`\n",
    "\n",
    "Note that in order to create a transit line, you need to pass the `itinerary` of the line. An itinerary is an iterable of two or more regular node IDs. There must be a link between each pair of adjacent nodes in the itinerary. Ex: `itinerary=[603, 602, 601, 600]`\n"
   ]
  },
  {
   "cell_type": "code",
   "execution_count": null,
   "metadata": {
    "show_input": true
   },
   "outputs": [],
   "source": [
    "# create a new mode\n",
    "mode_boat = network_3001.create_mode('TRANSIT', 'B')\n",
    "mode_boat.speed = 15\n",
    "mode_boat.description = 'boat'"
   ]
  },
  {
   "cell_type": "code",
   "execution_count": null,
   "metadata": {
    "show_input": true
   },
   "outputs": [],
   "source": [
    "# create a new transit vehicle\n",
    "ferry = network_3001.create_transit_vehicle(30, 'B')\n",
    "ferry.description = 'Ferry'\n",
    "ferry.seated_capacity = 50\n",
    "ferry.total_capacity = 500"
   ]
  },
  {
   "cell_type": "code",
   "execution_count": null,
   "metadata": {
    "show_input": true
   },
   "outputs": [],
   "source": [
    "# Create a new node\n",
    "node_9999 = network_3001.create_node(9999, is_centroid=False)\n",
    "node_9999.x = 633948\n",
    "node_9999.y = 5529406"
   ]
  },
  {
   "cell_type": "code",
   "execution_count": null,
   "metadata": {
    "show_input": true
   },
   "outputs": [],
   "source": [
    "# Create a new link\n",
    "link_9999_1 = network_3001.create_link(\n",
    "    i_node_id=9999,\n",
    "    j_node_id=1,\n",
    "    modes=[mode_boat]\n",
    ")"
   ]
  },
  {
   "cell_type": "markdown",
   "metadata": {},
   "source": [
    "## 2.5 Deleting network elements\n",
    "Network elements can be deleted using one of the following functions:\n",
    "\n",
    "- `network.delete_mode(id, cascade)`\n",
    "- `network.delete_node(id, cascade)`\n",
    "- `network.delete_link(i_node_id, j_node_id, cascade)`\n",
    "- `network.delete_intersection(id)`\n",
    "- `network.delete_transit_vehicle(id, cascade)`\n",
    "- `network.delete_transit_line(id)`\n",
    "\n",
    "The argument `cascade` is boolean (`True` or `False`). If `cascade` is `False`, the network element is deleted only if it is not used by any other network elements. For instance, when trying to delete node 1054 with `cascade=False`, the operation will fail as node 1054 is used by links (783-1054), (1053-1054), (1054-783) and (1054-1053)."
   ]
  },
  {
   "cell_type": "code",
   "execution_count": null,
   "metadata": {
    "show_input": true
   },
   "outputs": [],
   "source": [
    "network_3001.delete_node(1054)"
   ]
  },
  {
   "cell_type": "markdown",
   "metadata": {},
   "source": [
    "If `cascade` is True, the network elements will be removed as well as all network elements which rely on it. For instance, removing node 600 will cause to remove 8 links, 20 transit lines and all their segments and 9 turning movements. The argument `cascade=True` should be used carefully."
   ]
  },
  {
   "cell_type": "markdown",
   "metadata": {},
   "source": [
    "## 2.6 Accessing and modifying standard attributes, result attributes, extra-attributes and network fields\n",
    "Standard attributes and results attributes are Python parameters and can be accessed directly from the Python object as we have seen in previous examples using the `dot` notation. Note that results attributes are available only when the scenario has results.\n",
    "\n",
    "Note that some attributes are renamed in the API as compared to Emme keyword. For instance link <code>volau</code> is referenced as <code>link<b>.auto_volume</b></code>. See the Emme API Reference for full details.\n"
   ]
  },
  {
   "cell_type": "markdown",
   "metadata": {},
   "source": [
    "If traffic and transit assignments have been run on the current scenario, traffic and transit results are available. We can verify that this is the case with the following code:"
   ]
  },
  {
   "cell_type": "code",
   "execution_count": null,
   "metadata": {
    "scrolled": true,
    "show_input": true
   },
   "outputs": [],
   "source": [
    "print scenario_3001.has_traffic_results\n",
    "print scenario_3001.has_transit_results"
   ]
  },
  {
   "cell_type": "markdown",
   "metadata": {},
   "source": [
    "Display the node number, `us1` and the result attribute `inboa` for node 9999."
   ]
  },
  {
   "cell_type": "code",
   "execution_count": null,
   "metadata": {
    "show_input": true
   },
   "outputs": [],
   "source": [
    "print node_9999.number\n",
    "print 'ui1: ', node_9999.data1\n",
    "print 'inboa: ', node_9999.initial_boardings"
   ]
  },
  {
   "cell_type": "markdown",
   "metadata": {},
   "source": [
    "Extra attributes and network field values can be accessed using the square bracket notation."
   ]
  },
  {
   "cell_type": "code",
   "execution_count": null,
   "metadata": {
    "show_input": true
   },
   "outputs": [],
   "source": [
    "print '@nflag: ', node_1054['@nflag']\n",
    "print '#landmark: ', node_1054['#landmark']"
   ]
  },
  {
   "cell_type": "markdown",
   "metadata": {},
   "source": [
    "Standard attribute, extra-attribute and network field values can be modified as well using the square brackets notation and by assign them a value. Note that for standard attributes you can use the dot notation as well."
   ]
  },
  {
   "cell_type": "code",
   "execution_count": null,
   "metadata": {
    "show_input": true
   },
   "outputs": [],
   "source": [
    "node_1054.data2 = 10\n",
    "node_1054['data1'] = 123\n",
    "node_1054['@nflag'] = 2\n",
    "node_1054['#landmark'] = 'Bridge'"
   ]
  },
  {
   "cell_type": "markdown",
   "metadata": {},
   "source": [
    "Existing extra-attributes and network fields on a scenario can be listed using `scenario.extra_attributes()` and `scenario.network_fields()`."
   ]
  },
  {
   "cell_type": "code",
   "execution_count": null,
   "metadata": {
    "show_input": true
   },
   "outputs": [],
   "source": [
    "for extra_attribute in scenario_3001.extra_attributes():\n",
    "    print extra_attribute"
   ]
  },
  {
   "cell_type": "code",
   "execution_count": null,
   "metadata": {
    "show_input": true
   },
   "outputs": [],
   "source": [
    "for network_field in scenario_3001.network_fields():\n",
    "    print network_field"
   ]
  },
  {
   "cell_type": "markdown",
   "metadata": {},
   "source": [
    "The network field object *#transit_line* can be access through the `scenario.network_field(type, id)` method:"
   ]
  },
  {
   "cell_type": "code",
   "execution_count": null,
   "metadata": {
    "show_input": true
   },
   "outputs": [],
   "source": [
    "station_network_field = scenario_3001.network_field('NODE', '#station')"
   ]
  },
  {
   "cell_type": "code",
   "execution_count": null,
   "metadata": {
    "show_input": true
   },
   "outputs": [],
   "source": [
    "station_network_field"
   ]
  },
  {
   "cell_type": "code",
   "execution_count": null,
   "metadata": {
    "show_input": true
   },
   "outputs": [],
   "source": [
    "station_network_field.description = 'Transit station name'"
   ]
  },
  {
   "cell_type": "markdown",
   "metadata": {},
   "source": [
    "## 2.7 Publishing network modifications\n",
    "Until now, we have modified the network stored in memory. If we want to publish these changes to disk, we must call the method  `scenario.publish_network(network)`. \n",
    "\n",
    "Before being written to disk, the network is validated and any unauthorized network state will generate a meaningful error. So far everything is ok to publsh."
   ]
  },
  {
   "cell_type": "code",
   "execution_count": null,
   "metadata": {
    "show_input": true
   },
   "outputs": [],
   "source": [
    "scenario_3001.publish_network(network_3001)"
   ]
  },
  {
   "cell_type": "markdown",
   "metadata": {},
   "source": [
    "## 2.8 Creating new extra-attributes and network fields\n",
    "\n",
    "It is important to understand the difference between attribute definitions at the __scenario__ and __network__ level.\n",
    "\n",
    "- When you first load your network using `scenario.get_network()` the network attributes defined will match those of the source scenario.\n",
    "\n",
    "\n"
   ]
  },
  {
   "cell_type": "markdown",
   "metadata": {},
   "source": [
    "- If you need to create new attribute on your network, you can do this using:\n",
    "  - `network.create_attribute(type, id, default_value)`\n",
    "  - `type` must be one of the following: `'MODE', 'TRANSIT_VEHICLE', 'NODE', 'LINK', 'TURN', 'TRANSIT_LINE'`, and `'TRANSIT_SEGMENT'`  "
   ]
  },
  {
   "cell_type": "markdown",
   "metadata": {},
   "source": [
    "- But in order to publish attribute values to disk, the extra-attributes and network fields must be defined in the target scenario. This can be done with the Database API: \n",
    "  - `scenario.create_extra_attribute(type, id, default_value)`\n",
    "  - `scenario.create_network_field(type, id, atype, description)` \n",
    "  - note that it can also be done using the corresponding Modeller tools\n",
    "\n",
    "Tip: \n",
    "- If you know which attributes you will need beforehand, create them on the __scenario__ before you call `scenario.get_network()`, for instance:"
   ]
  },
  {
   "cell_type": "code",
   "execution_count": null,
   "metadata": {
    "show_input": true
   },
   "outputs": [],
   "source": [
    "vcr_att = scenario_3001.create_extra_attribute('LINK', '@vcr2', 0)\n",
    "road_name_att = scenario_3001.create_network_field('LINK', '#road_name', 'STRING', 'Road names')\n",
    "network_3001 = scenario_3001.get_network()"
   ]
  },
  {
   "cell_type": "markdown",
   "metadata": {},
   "source": [
    "If you try to publish a network with attributes that do not match the target scenario, the publish operation will fail. For example:\n"
   ]
  },
  {
   "cell_type": "code",
   "execution_count": null,
   "metadata": {
    "show_input": true
   },
   "outputs": [],
   "source": [
    "network_3001.create_attribute('TRANSIT_SEGMENT', '@transit_load', 0)\n",
    "network_3001.create_attribute('TRANSIT_LINE', '#line_name')\n",
    "scenario_3001.publish_network(network_3001)"
   ]
  },
  {
   "cell_type": "markdown",
   "metadata": {},
   "source": [
    "If you do not require to publish these network attributes, you can drop them. The `scenario.publish_network(network, resolve_attributes)` method offer an optional argument `resolve_attributes`. If `resolve_attributes` is `False`, an error will be raised if the network contains attributes which are not defined in the scenario, or if the network does not contain attributes that are defined in the scenario. If it is `True`, missing attributes will be dropped."
   ]
  },
  {
   "cell_type": "code",
   "execution_count": null,
   "metadata": {
    "show_input": true
   },
   "outputs": [],
   "source": [
    "scenario_3001.publish_network(network_3001, resolve_attributes=True)"
   ]
  },
  {
   "cell_type": "markdown",
   "metadata": {},
   "source": [
    "If the new network attributes values need to be kept, you have to create the corresponding scenario attributes. For example:"
   ]
  },
  {
   "cell_type": "code",
   "execution_count": null,
   "metadata": {
    "show_input": true
   },
   "outputs": [],
   "source": [
    "transit_load_att = scenario_3001.create_extra_attribute('TRANSIT_SEGMENT', '@transit_load', 0)\n",
    "scenario_3001.create_network_field('TRANSIT_LINE', '#line_name', 'STRING', 'Transit line ID')\n",
    "scenario_3001.publish_network(network_3001, resolve_attributes=False)"
   ]
  },
  {
   "cell_type": "markdown",
   "metadata": {},
   "source": [
    "Extra-attribute and network field parameters can be changed like this:"
   ]
  },
  {
   "cell_type": "code",
   "execution_count": null,
   "metadata": {
    "show_input": true
   },
   "outputs": [],
   "source": [
    "vcr_att.description = 'Volume over capacity ratio'"
   ]
  },
  {
   "cell_type": "markdown",
   "metadata": {},
   "source": [
    "## 2.9 <span style=\"color:red\">PRACTICE: Network API</span>\n",
    "\n",
    "Please refer to the _Emme Notebook and Scripting - Practices_ Notebook to complete this exercise. Note that the solutions to practices are found in the _Emme Notebook and Scripting - Solutions_ Notebook."
   ]
  },
  {
   "cell_type": "markdown",
   "metadata": {},
   "source": [
    "## 2.10 Additional Example - Express transit lines\n",
    "Say we want to modify properties of the Express mode (mode 'E') to reflect larger inter-station distances, faster speeds, higher seated vehicle capacity and an express stop pattern. \n",
    "\n",
    "On a fresh copy of scenario 3001 use the Network API to:\n",
    "\n",
    "1. Modify the transit vehicle 11 - Express bus and set its seated capacity to 60.\n",
    "2. Compute the average distance between transit stops for each transit lines and verify that it is a bigger value for Express transit lines.\n",
    "3. Modify the express transit lines to only allow boardings on the first half of their itinerary and only allow alighting on the second half (only where stops are already existing)"
   ]
  },
  {
   "cell_type": "markdown",
   "metadata": {},
   "source": [
    "### Modify transit vehicle 11"
   ]
  },
  {
   "cell_type": "code",
   "execution_count": null,
   "metadata": {
    "show_input": true
   },
   "outputs": [],
   "source": [
    "network = scenario_3001.get_network()\n",
    "express_bus = network.transit_vehicle(11)\n",
    "express_bus.seated_capacity = 60"
   ]
  },
  {
   "cell_type": "markdown",
   "metadata": {},
   "source": [
    "### Compute the average distance between transit stops for each transit lines"
   ]
  },
  {
   "cell_type": "code",
   "execution_count": null,
   "metadata": {
    "show_input": true
   },
   "outputs": [],
   "source": [
    "# First example for 1 transit line\n",
    "example_line = network.transit_line('15ae')\n",
    "\n",
    "n_stops = 0\n",
    "line_length = 0\n",
    "\n",
    "for segment in example_line.segments(include_hidden=False):\n",
    "    line_length += segment.link.length\n",
    "    if segment.allow_alightings or segment.allow_boardings:\n",
    "        n_stops += 1\n",
    "        \n",
    "line_length / (n_stops + 1) * 1000 # Convert from km to m"
   ]
  },
  {
   "cell_type": "code",
   "execution_count": null,
   "metadata": {
    "scrolled": true,
    "show_input": true
   },
   "outputs": [],
   "source": [
    "# Iterate over all transit lines and report\n",
    "for transit_line in network.transit_lines():\n",
    "    n_stops = 0\n",
    "    line_length = 0\n",
    "\n",
    "    for segment in transit_line.segments(include_hidden=False):\n",
    "        line_length += segment.link.length\n",
    "        if segment.allow_alightings or segment.allow_boardings:\n",
    "            n_stops += 1\n",
    "\n",
    "    print transit_line.id, transit_line.mode, line_length / (n_stops + 1) * 1000"
   ]
  },
  {
   "cell_type": "markdown",
   "metadata": {},
   "source": [
    "It turns out that the inter-station distance is not really different between Express and bus mode. We could now use the Network API to modify this."
   ]
  },
  {
   "cell_type": "markdown",
   "metadata": {},
   "source": [
    "### Modify boarding and alighting authorizations on Express transit lines"
   ]
  },
  {
   "cell_type": "code",
   "execution_count": null,
   "metadata": {
    "show_input": true
   },
   "outputs": [],
   "source": [
    "# iterate through transit lines\n",
    "for transit_line in network.transit_lines():\n",
    "    # process only express transit lines\n",
    "    if transit_line.mode.id == 'E':\n",
    "        # compute the transit line length\n",
    "        transit_line_length = 0\n",
    "        for segment in transit_line.segments():\n",
    "            transit_line_length += segment.link.length\n",
    "        \n",
    "        # Set the boarding and alighting authorizations for each segment depending on their position along the itinerary.\n",
    "        distance_along_itinerary = 0\n",
    "        for segment in transit_line.segments():\n",
    "            if segment.allow_alightings or segment.allow_boardings:\n",
    "                if distance_along_itinerary < transit_line_length / 2:\n",
    "                    segment.allow_alightings = False\n",
    "                    segment.allow_boardings = True\n",
    "                else:\n",
    "                    segment.allow_alightings = True\n",
    "                    segment.allow_boardings = False         \n",
    "            distance_along_itinerary += segment.link.length"
   ]
  },
  {
   "cell_type": "markdown",
   "metadata": {},
   "source": [
    "### Publish the modifications"
   ]
  },
  {
   "cell_type": "code",
   "execution_count": null,
   "metadata": {
    "show_input": true
   },
   "outputs": [],
   "source": [
    "scenario_3001.publish_network(network)"
   ]
  },
  {
   "cell_type": "markdown",
   "metadata": {},
   "source": [
    "## 2.11 Quick copy of attribute values from scenario/network to scenario/network\n",
    "There is a really fast way to copy attribute values from one scenario / network to another scenario / network:\n",
    "- __`get_attribute_values()`__ \n",
    "- __`set_attribute_values()`__  \n",
    "\n",
    "Note that this method is fast because it only reads the minimal amount of information, as opposed to load in the whole network.\n",
    "\n",
    "These methods can be used between two scenarios, two networks, and between a scenario and a network. In this example, we will copy the `hdw` values and the `lay1` values from scenario 2000 to scenario 3001. \n",
    "\n",
    "If a get/set_attribute_values is used between two scenarios or networks that donâ€™t have the same topology for the given domain type, then only the values for those objects with identifiers that are common between both will be copied.\n",
    "\n",
    "First verify the headway values for transit lines `27be`, `45be` and `56be` in scenario 3001:"
   ]
  },
  {
   "cell_type": "code",
   "execution_count": null,
   "metadata": {
    "show_input": true
   },
   "outputs": [],
   "source": [
    "transit_lines = ['27be','45be','56be']\n",
    "for line_id in transit_lines:\n",
    "    line = network.transit_line(line_id)\n",
    "    print \"Line %s has a headway value of %s in scenario 3001\" % (line.id, line.headway)"
   ]
  },
  {
   "cell_type": "markdown",
   "metadata": {},
   "source": [
    "Access the network for scenario 2000 and verify the headway values for these transit lines:"
   ]
  },
  {
   "cell_type": "code",
   "execution_count": null,
   "metadata": {
    "show_input": true
   },
   "outputs": [],
   "source": [
    "scenario2000 = emmebank.scenario(2000)\n",
    "network2000 = scenario2000.get_network()\n",
    "\n",
    "transit_lines = ['27be','45be','56be']\n",
    "for line_id in transit_lines:\n",
    "    line = network2000.transit_line(line_id)\n",
    "    print \"Line %s has a headway value of %s in scenario 2000\" % (line.id, line.headway)"
   ]
  },
  {
   "cell_type": "markdown",
   "metadata": {},
   "source": [
    "Copy the headway values from scenario 2000 with the __`get_attribute_values()`__ method:"
   ]
  },
  {
   "cell_type": "code",
   "execution_count": null,
   "metadata": {
    "show_input": true
   },
   "outputs": [],
   "source": [
    "elem_type = \"TRANSIT_LINE\"\n",
    "attributes = [\"headway\"]\n",
    "values = network2000.get_attribute_values(elem_type, attributes)"
   ]
  },
  {
   "cell_type": "markdown",
   "metadata": {},
   "source": [
    "Use the __`set_attribute_values()`__ method to copy the `hdw` values to scenario 3001:"
   ]
  },
  {
   "cell_type": "code",
   "execution_count": null,
   "metadata": {
    "show_input": true
   },
   "outputs": [],
   "source": [
    "scenario_3001.set_attribute_values(elem_type, attributes, values)"
   ]
  },
  {
   "cell_type": "markdown",
   "metadata": {},
   "source": [
    "## 2.12 Shortest path calculation\n",
    "The Network API offers a shortest path tree calculation. It can compute the shortest path from ANY node to all other nodes. Build a shortest path tree and return a new shortest path tree object representing node-to-node shortest paths on the network. The shortest path method accepts the following arguments: `shortest_path_tree(origin_node_id, link_costs, exluded_links, consider_turns, turn_costs, max_cost)`"
   ]
  },
  {
   "cell_type": "code",
   "execution_count": null,
   "metadata": {
    "show_input": true
   },
   "outputs": [],
   "source": [
    "network_3001 = emmebank.scenario(3001).get_network()"
   ]
  },
  {
   "cell_type": "code",
   "execution_count": null,
   "metadata": {
    "show_input": true
   },
   "outputs": [],
   "source": [
    "shortest_path_tree = network_3001.shortest_path_tree(\n",
    "    origin_node_id=1,\n",
    "    link_costs='length',\n",
    "    excluded_links=[network_3001.link(602, 601), network_3001.link(601, 602)],\n",
    "    consider_turns=False\n",
    ")\n",
    "    "
   ]
  },
  {
   "cell_type": "markdown",
   "metadata": {},
   "source": [
    "A ShortestPathTree provides methods for iterating over and querying costs and paths to all reachable nodes and links.\n",
    "Access the list of reachable nodes and links:"
   ]
  },
  {
   "cell_type": "code",
   "execution_count": null,
   "metadata": {
    "scrolled": true,
    "show_input": true
   },
   "outputs": [],
   "source": [
    "print list(shortest_path_tree.reachable_nodes())\n",
    "print list(shortest_path_tree.reachable_links())"
   ]
  },
  {
   "cell_type": "markdown",
   "metadata": {},
   "source": [
    "Get the cost to reach one node as well as its link."
   ]
  },
  {
   "cell_type": "code",
   "execution_count": null,
   "metadata": {
    "show_input": true
   },
   "outputs": [],
   "source": [
    "print shortest_path_tree.cost_to_node(146)\n",
    "print shortest_path_tree.path_to_node(146)"
   ]
  },
  {
   "cell_type": "markdown",
   "metadata": {},
   "source": [
    "List the nodes and cost to reach them."
   ]
  },
  {
   "cell_type": "code",
   "execution_count": null,
   "metadata": {
    "show_input": true
   },
   "outputs": [],
   "source": [
    "count = 0\n",
    "for link_cost in shortest_path_tree.link_costs():\n",
    "    print link_cost\n",
    "    count += 1\n",
    "    if count >= 5:\n",
    "        break"
   ]
  },
  {
   "cell_type": "markdown",
   "metadata": {
    "collapsed": true,
    "show_input": true
   },
   "source": [
    "## 2.13 Additional Example - Display shortest path calculation results\n",
    "To do that you will need to:\n",
    "\n",
    "- create an extra-attribute `@cost_from_1`\n",
    "- perform a shortest path calculation\n",
    "- set the `@cost_from_1` values\n",
    "- display the values in the general worksheet"
   ]
  },
  {
   "cell_type": "code",
   "execution_count": null,
   "metadata": {
    "show_input": true
   },
   "outputs": [],
   "source": [
    "# Create a new extra attribute\n",
    "scenario_3001 = emmebank.scenario(3001)\n",
    "scenario_3001.create_extra_attribute('NODE', '@cost_from_1', 0)"
   ]
  },
  {
   "cell_type": "code",
   "execution_count": null,
   "metadata": {
    "show_input": true
   },
   "outputs": [],
   "source": [
    "# Compute the shortest path free from node 1 using the network API\n",
    "network_3001 = scenario_3001.get_network()\n",
    "shortest_path_tree = network_3001.shortest_path_tree(\n",
    "    origin_node_id=1,\n",
    "    link_costs='length',\n",
    "    excluded_links=[network_3001.link(602, 601), network_3001.link(601, 602)],\n",
    "    consider_turns=False\n",
    ")"
   ]
  },
  {
   "cell_type": "code",
   "execution_count": null,
   "metadata": {
    "show_input": true
   },
   "outputs": [],
   "source": [
    "# Fill in the @cost_from_1 values\n",
    "for node, cost in shortest_path_tree.node_costs():\n",
    "    node['@cost_from_1'] = cost\n",
    "\n",
    "#publish the modified network\n",
    "scenario_3001.publish_network(network_3001)"
   ]
  },
  {
   "cell_type": "markdown",
   "metadata": {},
   "source": [
    "Go in the Desktop, open the general worksheet and visualize the new node extra attribute.\n",
    "\n",
    "To see changes, make sure to use the Refresh Data button in Emme Desktop (Ctrl-R) or run the next cell."
   ]
  },
  {
   "cell_type": "code",
   "execution_count": null,
   "metadata": {
    "show_input": true
   },
   "outputs": [],
   "source": [
    "modeller.desktop.refresh_data() #preview of Desktop API"
   ]
  },
  {
   "cell_type": "markdown",
   "metadata": {},
   "source": [
    "## 2.14 Speeding up network data processing with get_partial_network\n",
    "The `scenario.get_partial_network(element_types, include_attributes)` method returns a network with a partial load of selected element types and attribute values. This method is similar to `get_network` but returns only partial network topology of a network on disk with limited access to elements and attributes. This is useful in suitable applications to minimize memory consumption and load time. \n",
    "\n"
   ]
  },
  {
   "cell_type": "markdown",
   "metadata": {},
   "source": [
    "The _element_types_ is a list of one or more network domain types from the Emme network hierarchy. Available values are `'MODE'`, `'TRANSIT_VEHICLE'`, `'NODE'`, `'LINK'`, `'TURN'`, `'TRANSIT_LINE'`, and `'TRANSIT_SEGMENT'`. Specifying a higher-level domain will automatically bring required dependencies in the network hierarchy (e.g. specifying `'LINK'` will also read in `'NODE'` and `'MODE'`).\n"
   ]
  },
  {
   "cell_type": "markdown",
   "metadata": {},
   "source": [
    "\n",
    "If *include_attributes* is `True` the attributes values will also be loaded in the network for the specified network domain types in element_types. If *include_attributes* is `False` no attributes values will be loaded. The attributes will always be available on the network elements, but if the values are not loaded, the values for all elements will be set to the default value.\n"
   ]
  },
  {
   "cell_type": "markdown",
   "metadata": {},
   "source": [
    "\n",
    "For our example, we will access the total number of boardings on each transit line. We do not need to read in the whole network to retrieve this information. Our strategy is to do a partial loading of the network to access transit line and transit segment elements (using `get_partial_network`) and to read-in only the required attribute values (using `get_attribute_values`, `set_attribute_values`).\n",
    "\n",
    "Let us load the partial network with the required network elements:"
   ]
  },
  {
   "cell_type": "code",
   "execution_count": null,
   "metadata": {
    "show_input": true
   },
   "outputs": [],
   "source": [
    "network = scenario2000.get_partial_network(\n",
    "    element_types=['TRANSIT_SEGMENT', 'TRANSIT_LINE'],\n",
    "    include_attributes=False\n",
    ")"
   ]
  },
  {
   "cell_type": "markdown",
   "metadata": {},
   "source": [
    "Print out the coordinates of the i node and j node for the first 10 links."
   ]
  },
  {
   "cell_type": "code",
   "execution_count": null,
   "metadata": {
    "show_input": true
   },
   "outputs": [],
   "source": [
    "link_iterator = network.links()\n",
    "for i in range(10):\n",
    "    link = link_iterator.next()\n",
    "    print link, link.i_node.x, link.i_node.y, link.j_node.x, link.j_node.y"
   ]
  },
  {
   "cell_type": "markdown",
   "metadata": {},
   "source": [
    "Links and nodes were imported as they are required to access transit line and transit segment elements, but their attributes values were not imported (the i node and j node coordinates are set to the default values of 0). Similarly, the transit segment number of boardings were not loaded:"
   ]
  },
  {
   "cell_type": "code",
   "execution_count": null,
   "metadata": {
    "show_input": true
   },
   "outputs": [],
   "source": [
    "transit_segment_iterator = network.transit_segments()\n",
    "for i in range(10):\n",
    "    transit_segment = transit_segment_iterator.next()\n",
    "    print transit_segment, transit_segment['transit_boardings']"
   ]
  },
  {
   "cell_type": "markdown",
   "metadata": {},
   "source": [
    "We need to load in the transit segment result attribute values `transit_boardings`, by applying what we learnt in section <a href=\"#2.11-Fast-copy-of-attribute-values-from-scenario/network-to-scenario/network\">2.11 Fast copy of attribute values from scenario/network to scenario/network</a>."
   ]
  },
  {
   "cell_type": "code",
   "execution_count": null,
   "metadata": {
    "show_input": true
   },
   "outputs": [],
   "source": [
    "seg_att_values = scenario2000.get_attribute_values('TRANSIT_SEGMENT', ['transit_boardings'])\n",
    "network.set_attribute_values('TRANSIT_SEGMENT', ['transit_boardings'], seg_att_values)"
   ]
  },
  {
   "cell_type": "markdown",
   "metadata": {},
   "source": [
    "We can now iterate over the transit lines and print out the total number of boardings for each transit line:"
   ]
  },
  {
   "cell_type": "code",
   "execution_count": null,
   "metadata": {
    "show_input": true
   },
   "outputs": [],
   "source": [
    "report = []\n",
    "for transit_line in network.transit_lines():\n",
    "    total_boardings = 0\n",
    "    for segment in transit_line.segments():\n",
    "        total_boardings += segment.transit_boardings\n",
    "    report.append('%s, %s\\n' % (transit_line.id, total_boardings))\n",
    "print ''.join(report)"
   ]
  },
  {
   "cell_type": "markdown",
   "metadata": {},
   "source": [
    "Let us compare run times between the two following approaches:\n",
    "\n",
    "- A: loading of the full network\n",
    "- B: loading of a partial network\n",
    "\n",
    "We will use the magic word `%%timeit`. It measures the execution time of the cell in a consistent way."
   ]
  },
  {
   "cell_type": "code",
   "execution_count": null,
   "metadata": {
    "show_input": true
   },
   "outputs": [],
   "source": [
    "%%timeit\n",
    "# Method A\n",
    "network =  scenario2000.get_network()\n",
    "\n",
    "report = []\n",
    "for transit_line in network.transit_lines():\n",
    "    total_boardings = 0\n",
    "    for segment in transit_line.segments():\n",
    "        total_boardings += segment.transit_boardings\n",
    "    report.append('%s, %s\\n' % (transit_line.id, total_boardings))"
   ]
  },
  {
   "cell_type": "code",
   "execution_count": null,
   "metadata": {
    "show_input": true
   },
   "outputs": [],
   "source": [
    "%%timeit\n",
    "# Method B\n",
    "network = scenario2000.get_partial_network(\n",
    "    element_types=['TRANSIT_SEGMENT', 'TRANSIT_LINE'],\n",
    "    include_attributes=False\n",
    ")\n",
    "seg_att_values = scenario2000.get_attribute_values('TRANSIT_SEGMENT', ['transit_boardings'])\n",
    "network.set_attribute_values('TRANSIT_SEGMENT', ['transit_boardings'], seg_att_values)\n",
    "\n",
    "report = []\n",
    "for transit_line in network.transit_lines():\n",
    "    total_boardings = 0\n",
    "    for segment in transit_line.segments():\n",
    "        total_boardings += segment.transit_boardings\n",
    "    report.append('%s, %s\\n' % (transit_line.id, total_boardings))"
   ]
  },
  {
   "cell_type": "markdown",
   "metadata": {},
   "source": [
    "For our simple example, the method B (partial loading of the network) proved to be much faster than method A. The speedups you can achieve vary by application and network."
   ]
  },
  {
   "cell_type": "code",
   "execution_count": null,
   "metadata": {
    "show_input": true
   },
   "outputs": [],
   "source": []
  }
 ],
 "metadata": {
  "kernelspec": {
   "display_name": "Python 3",
   "language": "python",
   "name": "python3"
  },
  "language_info": {
   "codemirror_mode": {
    "name": "ipython",
    "version": 3
   },
   "file_extension": ".py",
   "mimetype": "text/x-python",
   "name": "python",
   "nbconvert_exporter": "python",
   "pygments_lexer": "ipython3",
   "version": "3.6.10"
  },
  "modeller": {
   "desktop_app_port": "4242"
  }
 },
 "nbformat": 4,
 "nbformat_minor": 1
}
