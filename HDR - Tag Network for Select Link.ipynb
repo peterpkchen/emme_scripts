{
 "cells": [
  {
   "cell_type": "code",
   "execution_count": 2,
   "metadata": {
    "collapsed": true,
    "show_input": true
   },
   "outputs": [],
   "source": [
    "import inro.modeller as m\n",
    "mm = m.Modeller()\n",
    "eb = mm.emmebank\n",
    "\n",
    "create_exatt = mm.tool('inro.emme.data.extra_attribute.create_extra_attribute')\n",
    "create_matrix =  mm.tool(\"inro.emme.data.matrix.create_matrix\")\n",
    "\n",
    "#HDR Scripts\n",
    "common = mm.module('org.emme.common')"
   ]
  },
  {
   "cell_type": "code",
   "execution_count": 10,
   "metadata": {
    "collapsed": false
   },
   "outputs": [],
   "source": [
    "sc_num = 123\n",
    "sc = eb.scenario(sc_num)\n",
    "ntwk = sc.get_network()\n",
    "\n",
    "for link in ntwk.links():\n",
    "    if ntwk.mode('r') in link.modes or ntwk.mode('y') in link.modes or ntwk.mode('t') in link.modes:\n",
    "        link.data2 = 100\n",
    "        link.modes = link.modes | set([ntwk.mode('c')])\n",
    "\n",
    "sc.publish_network(ntwk)"
   ]
  },
  {
   "cell_type": "code",
   "execution_count": 7,
   "metadata": {
    "collapsed": false,
    "show_input": true
   },
   "outputs": [
    {
     "data": {
      "text/plain": [
       "ExtraAttribute(@sel)"
      ]
     },
     "execution_count": 7,
     "metadata": {},
     "output_type": "execute_result"
    }
   ],
   "source": [
    "create_exatt(extra_attribute_type = \"LINK\", \n",
    "            extra_attribute_name = exatt_tag,\n",
    "            extra_attribute_default_value = 0,\n",
    "            overwrite = True)"
   ]
  },
  {
   "cell_type": "code",
   "execution_count": 4,
   "metadata": {
    "collapsed": true,
    "show_input": true
   },
   "outputs": [],
   "source": [
    "\n",
    "#401 W of 427 WB\n",
    "#sc_num = 1\n",
    "#nodes = [(43105,43551),(40445,42047),(42045,14809),(42706,43106)]\n",
    "\n",
    "#401 @ Toronto/Durham Boundary\n",
    "#sc_num = 2\n",
    "#nodes = [(14751,22485),(14758,20920),(22476,11260),(22482,14750)]\n",
    "\n",
    "#410 N of 407\n",
    "#sc_num = 3\n",
    "#nodes = [(42646,41887),(42650,42604)]#,(960010,960011),(960016,960017)]\n",
    "\n",
    "#404 N of 401\n",
    "#sc_num = 4\n",
    "#nodes = [(11023,12034),(14834,14833),(14851,14852),(16026,16025)]\n",
    "\n",
    "#GTAWest W of 400 (hwy56)\n",
    "#sc_num = 5\n",
    "#nodes = [(33458,33460),(33461,33459)]\n",
    "\n",
    "#GTAWest W of 427\n",
    "sc_num = 6\n",
    "nodes = [(43802,43803),(43805,43804)]\n",
    "\n",
    "truck_sc_num = 103\n",
    "exatt_tag = \"@sel\"\n",
    "run_output_dir = \"\\\\tore-infs01\\\\PWExternal\\\\451010\\\\281829_GGH\\\\GGHM Runs\\\\2041\\\\MTP_304\\\\\""
   ]
  },
  {
   "cell_type": "code",
   "execution_count": 5,
   "metadata": {
    "collapsed": false,
    "show_input": true
   },
   "outputs": [],
   "source": [
    "sc = eb.scenario(sc_num)\n",
    "truck_sc = eb.scenario(truck_sc_num)\n",
    "sc.extra_attribute(exatt_tag).initialize(0)\n",
    "\n",
    "ntwk = sc.get_network()\n",
    "\n",
    "for node_tuple in nodes:\n",
    "    ntwk.link(node_tuple[0],node_tuple[1])[exatt_tag] = 1\n",
    "    \n",
    "sc.publish_network(ntwk)\n"
   ]
  },
  {
   "cell_type": "code",
   "execution_count": 19,
   "metadata": {
    "collapsed": false,
    "show_input": true
   },
   "outputs": [],
   "source": [
    "matrix_list ={\n",
    "    \"trips_am_peak_auto1_nt\" :\"mf21\",\n",
    "    \"trips_am_peak_auto1_toll\" :\"mf22\",\n",
    "    \"trips_am_peak_auto2_nt_hov\" :\"mf23\",\n",
    "    \"trips_am_peak_auto2_nt_nh\" :\"mf24\",\n",
    "    \"trips_am_peak_auto2_toll_hov\" :\"mf25\",\n",
    "    \"trips_am_peak_auto2_toll_nh\" :\"mf26\",\n",
    "    \"trips_am_peak_auto3_nt_hov\" :\"mf27\",\n",
    "    \"trips_am_peak_auto3_nt_nh\" :\"mf28\",\n",
    "    \"trips_am_peak_auto3_toll_hov\" :\"mf29\",\n",
    "    \"trips_am_peak_auto3_toll_nh\" :\"mf30\"\n",
    "    }\n",
    "\n",
    "for matrix_name in matrix_list.keys():\n",
    "    if not eb.matrix(matrix_list[matrix_name]):\n",
    "        create_matrix(matrix_id = matrix_list[matrix_name],\n",
    "                      matrix_name= matrix_name,\n",
    "                      matrix_description = matrix_name)\n",
    "\n",
    "common.import_matrices_from_directory(run_output_dir, matrix_list, \".mdf\",sc)         \n",
    "        \n",
    "matrix_list ={\n",
    "    \"ht_truck_ampkhr\" :\"mf75\",\n",
    "    \"mt_truck_ampkhr\" :\"mf70\",\n",
    "    \"lt_truck_ampkhr\" :\"mf65\"\n",
    "    }\n",
    "\n",
    "for matrix_name in matrix_list.keys():\n",
    "    if not eb.matrix(matrix_list[matrix_name]):\n",
    "        create_matrix(matrix_id = matrix_list[matrix_name],\n",
    "                      matrix_name= matrix_name,\n",
    "                      matrix_description = matrix_name)\n",
    "common.import_matrices_from_directory(run_output_dir, matrix_list, \".mdf\",truck_sc)         "
   ]
  },
  {
   "cell_type": "code",
   "execution_count": null,
   "metadata": {
    "collapsed": true,
    "show_input": true
   },
   "outputs": [],
   "source": []
  }
 ],
 "metadata": {
  "kernelspec": {
   "display_name": "Python 2",
   "language": "python",
   "name": "python2"
  },
  "language_info": {
   "codemirror_mode": {
    "name": "ipython",
    "version": 2
   },
   "file_extension": ".py",
   "mimetype": "text/x-python",
   "name": "python",
   "nbconvert_exporter": "python",
   "pygments_lexer": "ipython2",
   "version": "2.7.9"
  }
 },
 "nbformat": 4,
 "nbformat_minor": 0
}
